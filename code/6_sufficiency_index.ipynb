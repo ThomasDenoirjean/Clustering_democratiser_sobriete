{
 "cells": [
  {
   "cell_type": "markdown",
   "metadata": {},
   "source": [
    "# Sufficiency index"
   ]
  },
  {
   "cell_type": "code",
   "execution_count": null,
   "metadata": {},
   "outputs": [],
   "source": [
    "import pandas as pd\n",
    "import numpy as np\n",
    "import matplotlib.pyplot as plt\n",
    "import seaborn as sns\n",
    "import matplotlib"
   ]
  },
  {
   "cell_type": "markdown",
   "metadata": {},
   "source": [
    "## Sufficiency index calculus"
   ]
  },
  {
   "cell_type": "code",
   "execution_count": null,
   "metadata": {},
   "outputs": [],
   "source": [
    "df = pd.read_csv(\"C:/Users/easycash/Mon Drive/Thèse/1_Systematic mapping/6_structural_topic_model/5_final_db/5_policy_and_factors_clustered_prevalence_normalized_final.csv\")\n",
    "\n",
    "df['correlation_cluster_normalized_global'] = df['Corr Sign']*df['policy_similarity_normalized_global']*df['CORRELATION_num']\n",
    "\n",
    "# Aggregating data: calculating mean, count, and standard deviation\n",
    "aggregated_result = df.groupby(['matched_cluster', 'Agg Cluster_factor', 'Agg ClusterFalse']).agg(\n",
    "    correlation_mean_cluster_factor=('correlation_cluster_normalized_global', 'mean'),\n",
    "    row_count=('correlation_cluster_normalized_global', 'count'),\n",
    "    correlation_std_dev=('correlation_cluster_normalized_global', 'std')\n",
    ").reset_index()"
   ]
  },
  {
   "cell_type": "code",
   "execution_count": null,
   "metadata": {},
   "outputs": [],
   "source": [
    "df = aggregated_result\n",
    "\n",
    "# List of Agg Cluster_factors that need inversion\n",
    "invert_factors = [\n",
    "    \"Built Environment and Land-Use\",\n",
    "    \"Energy and Resource Demand\",\n",
    "    \"Environmental Impact and Externalities\",\n",
    "    \"GHG and Particulate Emission\",\n",
    "    \"Mobility Demand\",\n",
    "    \"Private Vehicle Demand\"\n",
    "]\n",
    "\n",
    "# Step A1: Invert correlation_mean_cluster_factor for specific Agg Cluster_factors\n",
    "df['New_indice_1'] = df['correlation_mean_cluster_factor']\n",
    "df.loc[df['Agg Cluster_factor'].isin(invert_factors), 'New_indice_1'] *= -1\n",
    "\n",
    "# Step A2: Rescale New_indice_2 between 0 and 1 for each Agg Cluster_factor\n",
    "min_max = df.groupby('Agg Cluster_factor')['New_indice_1'].agg(['min', 'max']).reset_index()\n",
    "min_max = min_max.rename(columns={'min': 'min_value', 'max': 'max_value'})\n",
    "df = pd.merge(df, min_max, on='Agg Cluster_factor', how='left')\n",
    "df['New_indice_2'] = (df['New_indice_1'] - 1.15*df['min_value']) / (1.1*df['max_value'] - 1.15*df['min_value'])\n",
    "\n",
    "# Step B: Compute the indices\n",
    "# Define categories for ECOLO_indice calculations\n",
    "ecolo_factors = [\n",
    "    \"Active Travel Demand and Public Transport Use\",\n",
    "    \"Built Environment and Land-Use\",\n",
    "    \"Energy and Resource Demand\",\n",
    "    \"Environmental Impact and Externalities\",\n",
    "    \"GHG and Particulate Emission\",\n",
    "    \"Mobility Demand\",\n",
    "    \"Private Vehicle Demand\"\n",
    "]\n",
    "\n",
    "socio_factors = [\n",
    "    \"Accessibility and Transport Service\",\n",
    "    \"Economic Outcomes, Transport and Housing Affordability\",\n",
    "    \"Health and Safety\",\n",
    "    \"Social Equity and Equality\",\n",
    "    \"Well-Being and Quality of Life\"\n",
    "]\n",
    "\n",
    "# Calculate geometric mean for each matched_cluster\n",
    "def geometric_mean(series):\n",
    "    return np.exp(np.mean(np.log(series + 1e-9)))  # Add small value to avoid log(0)\n",
    "\n",
    "# ECOLO_indice_1\n",
    "indice_1_ecolo = df[df['Agg Cluster_factor'].isin(ecolo_factors) & (df['New_indice_1'].notna()) & (df['row_count']>1)].groupby('matched_cluster')['New_indice_1'].mean().reset_index()\n",
    "indice_1_ecolo = indice_1_ecolo.rename(columns={'New_indice_1': 'ECOLO_indice_1'})\n",
    "\n",
    "# SOCIO_indice_1\n",
    "indice_1_socio = df[df['Agg Cluster_factor'].isin(socio_factors) & (df['New_indice_1'].notna()) & (df['row_count']>1)].groupby('matched_cluster')['New_indice_1'].mean().reset_index()\n",
    "indice_1_socio = indice_1_socio.rename(columns={'New_indice_1': 'SOCIO_indice_1'})\n",
    "\n",
    "# ECOLO_indice\n",
    "indice_2_ecolo = df[df['Agg Cluster_factor'].isin(ecolo_factors) & (df['New_indice_2'].notna()) & (df['row_count']>1)].groupby('matched_cluster')['New_indice_2'].apply(geometric_mean).reset_index()\n",
    "indice_2_ecolo = indice_2_ecolo.rename(columns={'New_indice_2': 'ECOLO_indice_2'})\n",
    "\n",
    "# SOCIO_indice\n",
    "indice_2_socio = df[df['Agg Cluster_factor'].isin(socio_factors) & (df['New_indice_2'].notna()) & (df['row_count']>1)].groupby('matched_cluster')['New_indice_2'].apply(geometric_mean).reset_index()\n",
    "indice_2_socio = indice_2_socio.rename(columns={'New_indice_2': 'SOCIO_indice_2'})\n",
    "\n",
    "\n",
    "# Merge indices back to the original DataFrame\n",
    "result = indice_1_ecolo \n",
    "result = pd.merge(result, indice_1_socio, on='matched_cluster', how='left')\n",
    "result = pd.merge(result, indice_2_ecolo, on='matched_cluster', how='left')\n",
    "result = pd.merge(result, indice_2_socio, on='matched_cluster', how='left')"
   ]
  },
  {
   "cell_type": "markdown",
   "metadata": {},
   "source": [
    "## Bubble graph"
   ]
  },
  {
   "cell_type": "code",
   "execution_count": null,
   "metadata": {},
   "outputs": [],
   "source": [
    "df = pd.read_csv(\"C:/Users/easycash/Mon Drive/Thèse/1_Systematic mapping/6_structural_topic_model/5_final_db/5_policy_and_factors_clustered_prevalence_normalized_final.csv\" )\n",
    "\n",
    "# Count the number of rows per 'matched_cluster' (size of the bubbles)\n",
    "result = pd.merge(result,df.groupby('matched_cluster')['index'].agg(['count']).reset_index(),how='left', left_on='matched_cluster',right_on='matched_cluster')"
   ]
  },
  {
   "cell_type": "code",
   "execution_count": null,
   "metadata": {},
   "outputs": [],
   "source": [
    "matplotlib.rcParams['font.family'] = 'Times New Roman'\n",
    "\n",
    "\n",
    "# Create the bubble graph using seaborn\n",
    "plt.figure(figsize=(10, 6))\n",
    "sns.scatterplot(\n",
    "    x='ECOLO_indice_2', \n",
    "    y='SOCIO_indice_2', \n",
    "    size='count', \n",
    "    sizes=(100, 1000),  # Adjust bubble size range\n",
    "    alpha=0.6, \n",
    "    data=result\n",
    ")\n",
    "\n",
    "# Add labels to the first 10 points only for clarity\n",
    "for i, row in result.head(0).iterrows():\n",
    "#for i, row in result.iterrows():\n",
    "    plt.text(\n",
    "        row['ECOLO_indice_2'], \n",
    "        row['SOCIO_indice_2'], \n",
    "        row['matched_cluster'][:15] + '...' if len(row['matched_cluster']) > 15 else row['matched_cluster'], \n",
    "        fontsize=9, \n",
    "        ha='right'\n",
    "    )\n",
    "\n",
    "\n",
    "# Calculate median values for Upper Limit and Lower Limit indices\n",
    "ecolo_median = result['ECOLO_indice_2'].quantile(q=0.2)\n",
    "socio_median = result['SOCIO_indice_2'].quantile(q=0.2)\n",
    "\n",
    "# Draw median lines\n",
    "plt.axvline(x=ecolo_median, color='grey', linestyle='--', label=f'Upper Limit 1st Quintile: {ecolo_median:.2f}')\n",
    "plt.axhline(y=socio_median, color='black', linestyle='--', label=f'Lower Limit 1st Quintile: {socio_median:.2f}')\n",
    "\n",
    "# Label axes and title\n",
    "#plt.title(\"Bubble Graph of ECOLO indice and SOCIO_indice\", fontsize=14)\n",
    "plt.xlabel(\"Upper Limit Index\", fontsize=12)\n",
    "plt.ylabel(\"Lower Limit Index\", fontsize=12)\n",
    "\n",
    "# Adjust legend position\n",
    "plt.legend(\n",
    "    bbox_to_anchor=(1.05, 1), \n",
    "    loc='upper left', \n",
    "    #title=\"Agg Cluster\",\n",
    "    labelspacing=0.9,  # Increase spacing between legend items\n",
    "    #borderaxespad=0.5  # Adjust padding between legend and axes\n",
    ")\n",
    "\n",
    "# Show grid\n",
    "plt.grid(True, linestyle='--', alpha=0.7)\n",
    "\n",
    "# Show the plot\n",
    "plt.tight_layout()\n",
    "plt.show()"
   ]
  },
  {
   "cell_type": "markdown",
   "metadata": {},
   "source": [
    "## Export data"
   ]
  },
  {
   "cell_type": "code",
   "execution_count": null,
   "metadata": {},
   "outputs": [],
   "source": [
    "# Save the updated dataset\n",
    "output_path = \"C:/Users/easycash/Mon Drive/Thèse/1_Systematic mapping/6_structural_topic_model/6_visuals/bubble_graph.csv\" \n",
    "\n",
    "# Update with your desired output path\n",
    "result.to_csv(output_path, index=False)"
   ]
  },
  {
   "cell_type": "markdown",
   "metadata": {},
   "source": [
    "## Select per quantile"
   ]
  },
  {
   "cell_type": "code",
   "execution_count": null,
   "metadata": {},
   "outputs": [],
   "source": [
    "# Choose the right list\n",
    "list = result[(result['ECOLO_indice_2'] <= ecolo_median) & (result['SOCIO_indice_2'] > socio_median)]['matched_cluster'].values"
   ]
  }
 ],
 "metadata": {
  "kernelspec": {
   "display_name": "Python 3",
   "language": "python",
   "name": "python3"
  },
  "language_info": {
   "name": "python",
   "version": "3.12.6"
  }
 },
 "nbformat": 4,
 "nbformat_minor": 2
}
