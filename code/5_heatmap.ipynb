{
 "cells": [
  {
   "cell_type": "markdown",
   "metadata": {},
   "source": [
    "# Heatmap"
   ]
  },
  {
   "cell_type": "markdown",
   "metadata": {},
   "source": [
    "This code allows the calculation of the heatmap of consensus on sense of coreelation between policies and outcomes.\n",
    "\n",
    "It uses the outputs of the other phases that will be used to compute the heatmap matrix of sum of correlations pondered by the similarity score. \n",
    "\n",
    "In this Jupyter Notebook we will: \n",
    "1. Import the data with similarity score ; \n",
    "2. Import the relevant packages ;\n",
    "3. Prepare data for computing ;\n",
    "4. Compute the heatmap ; \n",
    "5. Export data heatmap data.\n",
    "\n",
    "To complete those tasks you will need:\n",
    "- The dataset of papers with the policy extraction of the 4_similarity_score code. \n",
    "\n",
    "At the end of this script you will extract: \n",
    "- The heatmap_df dataset of sum of correlations pondered by the similarity score. "
   ]
  },
  {
   "cell_type": "markdown",
   "metadata": {},
   "source": [
    "## 1. Import the data with similarity score"
   ]
  },
  {
   "cell_type": "code",
   "execution_count": null,
   "metadata": {},
   "outputs": [],
   "source": [
    "## 1 input\n",
    "## Output dataset of the 4_similarity score (policy_and_factors_clustered_similarity_normalized)\n",
    "input_similarity = \"\"\n",
    "\n",
    "# 1 output\n",
    "## Heatmap dataset dataset with clusters\n",
    "output_path = \"\""
   ]
  },
  {
   "cell_type": "markdown",
   "metadata": {},
   "source": [
    "## 2. Import the relevant packages"
   ]
  },
  {
   "cell_type": "code",
   "execution_count": null,
   "metadata": {},
   "outputs": [],
   "source": [
    "import pandas as pd\n",
    "import seaborn as sns\n",
    "import matplotlib.pyplot as plt\n",
    "import numpy as np\n",
    "import matplotlib"
   ]
  },
  {
   "cell_type": "markdown",
   "metadata": {},
   "source": [
    "## 3. Prepare data for computing"
   ]
  },
  {
   "cell_type": "code",
   "execution_count": null,
   "metadata": {},
   "outputs": [],
   "source": [
    "df = pd.read_csv(input_similarity)\n",
    "\n",
    "df['correlation_cluster_normalized_global'] = df['Corr Sign']*df['policy_similarity_normalized_global']*df['CORRELATION_num']"
   ]
  },
  {
   "cell_type": "code",
   "execution_count": null,
   "metadata": {},
   "outputs": [],
   "source": [
    "# Define a custom function for percentage of positive or negative values\n",
    "def percentage_of_values(series):\n",
    "    if series.mean() > 0:\n",
    "        return (series > 0).mean()*100\n",
    "    elif series.mean() < 0:\n",
    "        return (series < 0).mean()*100\n",
    "    else:\n",
    "        return 0"
   ]
  },
  {
   "cell_type": "code",
   "execution_count": null,
   "metadata": {},
   "outputs": [],
   "source": [
    "# Modify the aggregation to include the custom percentage\n",
    "aggregated_result = df.groupby(['matched_cluster', 'Agg Cluster_factor', 'Agg ClusterFalse']).agg(\n",
    "    correlation_mean_cluster_factor=('correlation_cluster_normalized_global', 'mean'),\n",
    "    row_count=('correlation_cluster_normalized_global', 'count'),\n",
    "    percentage_of_positive_negative=('correlation_cluster_normalized_global', percentage_of_values)\n",
    ").reset_index()"
   ]
  },
  {
   "cell_type": "markdown",
   "metadata": {},
   "source": [
    "## 4. Compute the heatmap"
   ]
  },
  {
   "cell_type": "code",
   "execution_count": null,
   "metadata": {},
   "outputs": [],
   "source": [
    "matplotlib.rcParams['font.family'] = 'Times New Roman'\n",
    "\n",
    "# Define the threshold\n",
    "row_count_threshold = 2\n",
    "\n",
    "# Create pivot tables for mean, standard deviation, and counts\n",
    "heatmap_data = aggregated_result.pivot(\n",
    "    index='matched_cluster', \n",
    "    columns='Agg Cluster_factor', \n",
    "    values='correlation_mean_cluster_factor'\n",
    ")\n",
    "percentage_data = aggregated_result.pivot(\n",
    "    index='matched_cluster', \n",
    "    columns='Agg Cluster_factor', \n",
    "    values='percentage_of_positive_negative'\n",
    ")\n",
    "row_counts_data = aggregated_result.pivot(\n",
    "    index='matched_cluster', \n",
    "    columns='Agg Cluster_factor', \n",
    "    values='row_count'\n",
    ")\n",
    "\n",
    "# Mask values below the threshold\n",
    "mask = row_counts_data < row_count_threshold\n",
    "masked_heatmap_data = heatmap_data.mask(mask)\n",
    "\n",
    "\n",
    "# Prepare annotations with mean and percentage only for valid rows\n",
    "annotations = masked_heatmap_data.copy()\n",
    "\n",
    "# Iterate through the DataFrame in a vectorized manner\n",
    "valid_indices = ~mask  # Identify valid cells based on the mask\n",
    "\n",
    "# Apply formatted annotations for valid cells\n",
    "annotations[valid_indices] = heatmap_data[valid_indices].round(2).astype(str) + \"\\n(\" + \\\n",
    "                             percentage_data[valid_indices].round(1).astype(str) + \"%)\"\n",
    "\n",
    "# Fill invalid cells with an empty string\n",
    "annotations[~valid_indices] = \"\"\n",
    "\n",
    "# Generate the heatmap\n",
    "plt.figure(figsize=(14, 20))\n",
    "\n",
    "heatmap =sns.heatmap(\n",
    "    masked_heatmap_data,\n",
    "    annot=annotations,\n",
    "    fmt=\"\",\n",
    "    cmap=\"coolwarm\",\n",
    "    cbar_kws={'label': 'Correlation Mean'},\n",
    "    annot_kws={\"fontsize\": 7, \"color\": \"black\"},\n",
    "    linewidths=0,\n",
    ")\n",
    "plt.grid(False)  # Ensure no additional gridlines are added\n",
    "\n",
    "# Adjust x-axis and y-axis labels\n",
    "plt.xlabel(\"Factors Impacted\", fontsize=12, labelpad=10)\n",
    "plt.ylabel(\"Policies\", fontsize=12, labelpad=10)\n",
    "\n",
    "# Rotate x-axis labels\n",
    "plt.xticks(rotation=45, ha='right', fontsize=10)  # Tilt column names\n",
    "plt.yticks(fontsize=10)  # Set y-axis label font size\n",
    "\n",
    "# Rotate the color bar legend\n",
    "colorbar = heatmap.collections[0].colorbar\n",
    "colorbar.ax.set_ylabel(\"Correlation Mean\", fontsize=10, rotation=-90, labelpad=10)\n",
    "\n",
    "# Adjust layout\n",
    "plt.tight_layout()\n",
    "plt.show()"
   ]
  },
  {
   "cell_type": "markdown",
   "metadata": {},
   "source": [
    "## 5. Export heatmap data "
   ]
  },
  {
   "cell_type": "code",
   "execution_count": null,
   "metadata": {},
   "outputs": [],
   "source": [
    "# Update with your desired output path\n",
    "heatmap_data.reset_index().to_csv(output_path, index=False)"
   ]
  }
 ],
 "metadata": {
  "kernelspec": {
   "display_name": "Python 3",
   "language": "python",
   "name": "python3"
  },
  "language_info": {
   "name": "python",
   "version": "3.12.6"
  }
 },
 "nbformat": 4,
 "nbformat_minor": 2
}
