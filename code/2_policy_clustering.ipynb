{
 "cells": [
  {
   "cell_type": "code",
   "execution_count": 1,
   "metadata": {},
   "outputs": [
    {
     "name": "stdout",
     "output_type": "stream",
     "text": [
      "The autoreload extension is already loaded. To reload it, use:\n",
      "  %reload_ext autoreload\n"
     ]
    }
   ],
   "source": [
    "%load_ext autoreload\n",
    "%autoreload 2"
   ]
  },
  {
   "cell_type": "markdown",
   "metadata": {},
   "source": [
    "# Clustering process for policies"
   ]
  },
  {
   "cell_type": "markdown",
   "metadata": {},
   "source": [
    "## 1. Import the relevant packages"
   ]
  },
  {
   "cell_type": "code",
   "execution_count": null,
   "metadata": {},
   "outputs": [],
   "source": [
    "import pandas as pd\n",
    "import random\n",
    "\n",
    "from process import extract_items\n",
    "import clusterize"
   ]
  },
  {
   "cell_type": "markdown",
   "metadata": {},
   "source": [
    "## 2. Prepare data for clustering"
   ]
  },
  {
   "cell_type": "code",
   "execution_count": null,
   "metadata": {},
   "outputs": [],
   "source": [
    "domain = 'E'\n",
    "input_path = f\"../data/results_{domain}.csv\""
   ]
  },
  {
   "cell_type": "code",
   "execution_count": null,
   "metadata": {},
   "outputs": [
    {
     "data": {
      "application/vnd.microsoft.datawrangler.viewer.v0+json": {
       "columns": [
        {
         "name": "index",
         "rawType": "int64",
         "type": "integer"
        },
        {
         "name": "GEOGRAPHIC",
         "rawType": "object",
         "type": "unknown"
        },
        {
         "name": "ITEM",
         "rawType": "object",
         "type": "string"
        },
        {
         "name": "FACTOR",
         "rawType": "object",
         "type": "string"
        },
        {
         "name": "SECTOR",
         "rawType": "object",
         "type": "string"
        },
        {
         "name": "abstract",
         "rawType": "object",
         "type": "string"
        },
        {
         "name": "doi",
         "rawType": "object",
         "type": "unknown"
        },
        {
         "name": "openalex_id",
         "rawType": "object",
         "type": "string"
        }
       ],
       "ref": "b507ecac-cbf1-4e7b-aa00-d856e962c08c",
       "rows": [
        [
         "0",
         "Mashhad University of Medical Sciences",
         "mass media",
         "{\"awareness about the benefits of physical activity\": {\"CORRELATION\": \"increasing\"}}",
         "[\"E\"]",
         "Background and Aim: Health-promoting lifestyle (HPL) is one of the main criteria which determine health and underlying factors preventing the health-threatening factors. HPL includes six dimensions of spiritual growth, health responsibility, nutrition, stress management, interpersonal relations, and physical activity. Considering the importance of students’ health, both at individual and social levels, the present study was carried out to evaluate HPL among students (mainly females) of School of Health, affiliated to Mashhad University of Medical Sciences in 2014. Methods: In this cross-sectional descriptive study, 107 students of Mashhad School of Health using stratified random sampling were included. In order to collect data, Walker questionnaire, with a 4-point Likert scale, was utilized which included two sections of demographic questions, and questions related to the six dimensions of HPL. The collected data were analyzed by descriptive statistics and independent T-test, using SPSS version 11.5. The significance level was considered less than 0.05. Results: Lifestyle of 9.3%, 84.1%, and 6.5% of the students was poor, moderate and good, respectively. The mean scores of HPL dimensions were as follows: spiritual growth: 30.27±5.4, health responsibility: 32.15±6.5, nutrition: 15.65±4.06, stress management: 12.76±2.9, interpersonal relations: 21.34±4.35, and physical activity: 13.69±5.1. A significant relationship was seen between gender and physical activity (p <0.05). Conclusion: The majority of students had a moderate score of HPL. Since the lowest scores were related to physical activity and stress management, more facilities and training programs are required to improve these issues. It is recommended to provide high-quality healthcare services for students and raise their awareness about the benefits of physical activity via mass media.",
         "https://doi.org/10.22038/jmrh.2014.2918",
         "W2099730092"
        ],
        [
         "1",
         "United States",
         "exergames",
         "{\"physical activity (PA) in the general population\": {\"CORRELATION\": \"increasing\"}, \"PA barriers that AD caregivers face\": {\"CORRELATION\": \"decreasing\"}}",
         "[\"E\", \"J\"]",
         "The number of informal caregivers for family members with Alzheimer's Disease (AD) is rising dramatically in the United States. AD caregivers disproportionately experience numerous health problems and are often isolated with little support. An active lifestyle can help prevent and mitigate physical and psychological health concerns amongst AD caregivers. Research has demonstrated how pervasive exergames can encourage physical activity (PA) in the general population, yet little work has explored how these tools can address the significant PA barriers that AD caregivers face. To identify opportunities for design, we conducted semi-structured interviews and participatory design sessions with 14 informal caregivers of family members with AD. Our findings characterize how becoming an AD caregiver profoundly impacts one's ability to be active, perspectives on being active, and the ways that exergames might best support this population. We discuss implications for design and how our findings challenge existing technological approaches to PA promotion.",
         "https://doi.org/10.48550/arxiv.1908.09984",
         "W2970340995"
        ],
        [
         "2",
         "Puget Sound",
         "telecommunications",
         "{\"trip generation rates\": {\"CORRELATION\": \"decreasing\"}}",
         "[\"E\"]",
         "Most trip generation models are insensitive to the effects of transportation demand management (TDM) strategies. To evaluate the potential effectiveness of TDM solutions, transportation professionals must rely largely on the results of case studies, which cannot be generalized for all urban areas. To evaluate TDM strategies in a context that is sensitive to the unique characteristics of each urban area, TDM strategies should be incorporated into regional travel demand models. Five TDM strategies affecting trip generation rates are examined: telecommunications, alternative work schedules, on-site amenities, pricing strategies, and land use strategies. To analyze these strategies, data from the Puget Sound Transportation Panel (PSTP) were used. Variables derived from the PSTP data that may help explain the impacts of these strategies were evaluated for significance in trip generation models for several home-based and non-home-based trip purposes. The trip generation models were specified using Poisson and negative binomial regression techniques. After the models were estimated, the significance of the variables representing the impacts of TDM strategies was analyzed. Many of the TDM variables were indeed significant in the trip generation models; however, in some cases, the significance of the variables can be attributed to factors such as trip chaining, which does not describe the effects of TDM strategies. Additional research is needed to fully determine the effects of trip chaining on the variables examined in this study, and additional data could enable the development of variables that more accurately describe the effects of TDM strategies.",
         "https://doi.org/10.3141/1682-09",
         "W2129598736"
        ],
        [
         "3",
         "US",
         "activewear purchased to be worn as casualwear",
         "{\"intent to purchase activewear\": {\"CORRELATION\": \"increasing\"}, \"attitude towards shopping activewear for casual purpose\": {\"CORRELATION\": \"positive\"}}",
         "[\"E\"]",
         "In recent years, activewear is no longer contained to the gym. It is visible in places such as grocery store, movie theatre, and classroom. To better understand this phenomenon of activewear purchased to be worn as casualwear, based on an expanded theory of planned behaviour model, using the primary survey data, this study aimed to determine the key factors influencing the US consumers' intention towards purchasing activewear for casual use. Multiple regression method was utilised for hypothesis testing. Attitude and perceived behavioural control showed significantly positive effects on intent to purchase activewear. Past activewear purchase behaviour and lifestyle orientation towards health and wellness help US consumers gain positive attitude towards shopping activewear for casual purpose. The proposed model exhibits a high explanatory power for US consumer purchase intention towards activewear for casual use, accounting for 52.4% of variance in the purchase intention.",
         "https://doi.org/10.1080/17543266.2018.1477995",
         "W2805060567"
        ],
        [
         "4",
         "Indonesia",
         "advanced, automated internet technology",
         "{\"robust connectivity\": {\"CORRELATION\": \"increasing\"}}",
         "[\"E\"]",
         "Abstract The Indonesian government has a goal to reduce 834 million-tons CO2e emissions by 2030 with 314 million-tons CO2e portion coming from the energy sector. A significant contribution is required from all aspects of the energy sector, including Directional-Drilling (DD) &amp; Measurement/Logging-While-Drilling (M/LWD) activity which traditionally deploys human resources for field execution. With the governmentâ€™s increased hydrocarbon lifting target, an innovative approach is needed to keep the field carbon footprint low while still maintaining DD-M/LWD operational excellence. Performance-Live is a digitally collaborative service that enables live remote-control of wellsite operations to optimize task distribution between the well site and town thus boosting operational efficiency. As a solid foundation to execute these remote operations, highly skilled Performance-Live Engineers (PLE) are centralized in a Performance-Live Center, monitoring several rigs in parallel, while multiskilled DD-M/LWD Cross Trained (DDX) who are fully competent to handle both competencies are staffed at the well site. This collaboration can be seamlessly achievable by leveraging elevated digital peripheral systems such as advanced, automated internet technology and support centralized in the main Java island to enable robust connectivity. Flexible strategies for remote-operations implementation play a significant role in sustainability. In one of the land projects in Indonesia started from Q3 2020 until Q4 2021, 31 wells are drilled successfully using the Performance-Live service. This reduced headcount from 4 personnel to 3 personnel on board (POB) resulting estimated total of 3.52 metric tons of CO2 emission reduction. Another offshore pilot project in Indonesia for the one-month trial duration in 2021 with the same strategy resulted in the reduction of estimated 0.20 metric tons of CO2 emission. In one of the special projects in the same offshore area, an innovative open-hole drilling using Hydraulic Workover Unit (HWU) is implemented using Performance-Live and combined cabin container unit for DD-M/LWD-Mud Logging as full team collaboration. During this 5-months project, this single combined cabin unit enabled 4 field personnel reductions resulting estimated 4.01 metric tons of CO2 emission reduction. The continuity of this service in Indonesia can be potentially developed by further reduction from 3 to 2 POB (2x DDX with 2x PLE) which may result in double of the CO2 emission reduction, and a pre-prepared BHA model which will minimize POB rig days to reduce further estimated of 18% CO2 emission. This paper presents how the Performance-Live Remote-Operation model contributes to long-term sustainability goals, quantifies the amount of carbon footprint reduction, and speeds up the race toward net zero emissions future accomplishment in Indonesia. This paper will also present strategies for building a digital ecosystem for remote-operations implementation, challenges encountered, and optimization opportunities. DD-M/LWD remote-operations implementation in Indonesia has thus far been successful and will continue expanding to align with the governmentâ€™s net-zero goal.",
         "https://doi.org/10.2118/209896-ms",
         "W4290471442"
        ],
        [
         "5",
         null,
         "smartphones",
         "{\"health care delivery\": {\"CORRELATION\": \"increasing\"}}",
         "[\"E\"]",
         "In the span of a decade, smartphones have gained popularity and acceptance among both patients and physicians thanks to their advantages in health care delivery. However, research investigating mobile patient-provider communication (MPPC) and its impact on patients' lifestyles is only just beginning. Drawing on the pathway model of health communication and mobile technology (MTI) theory, we developed a research model to explore the effect of MPPC on lifestyle improvement, using health empowerment as a mediator and MTI as a moderator. The findings from 432 participants (M",
         "https://doi.org/10.1080/10410236.2024.2402160",
         "W4402456596"
        ],
        [
         "6",
         "Babylon",
         "augmented reality",
         "{\"preservation of archaeological sites\": {\"CORRELATION\": \"increasing\"}}",
         "[\"E\"]",
         "Abstract Archaeological sites have always suffered from loss and degradation due to many human and natural hazards. In recent decades, interest in preserving archaeological sites has increased dramatically. Many modern techniques have emerged from the different disciplines that can be used in preservation works, and a large number of the techniques and their capability made it difficult for decision-makers and specialists to determine the appropriate technique that gives the best results in preserving the archaeological site. The research aims to identify the project needed to preserve the archaeological site and then choose the appropriate technique for it, based on the opinions of experts using the analytic hierarchy process (AHP) method, which helps decision-makers and specialists to choose the most appropriate technology. The archaeological site of Babylon was chosen as a case study. As a result of applying the AHP method, the priority weights of preservation stages for the archaeological site of Babylon were determined as follows: (diagnosis and monitoring 30.8 %), (intervention 21.2 %), and (tourism and media 16.6 %), while the appropriate technique was determined as follows: (infrared thermography 29.4 %), (maintenance 49.3 %), and (augmented reality 38.7 %).",
         "https://doi.org/10.2478/aup-2023-0012",
         "W4386799045"
        ],
        [
         "7",
         null,
         "data centres (DCs)",
         "{\"resource utilization\": {\"CORRELATION\": \"increasing\"}, \"demand for Critical Raw Materials\": {\"CORRELATION\": \"increasing\"}}",
         "[\"E\"]",
         "Data centres (DCs) house data processing and storage equipment. The data centre industry (DCI) is evolving rapidly, as society is becoming more dependent on digital technologies. Currently, there are 7.2 million DCs globally and provision is predicted to grow fivefold by 2030. The sector already utilises millions of tonnes of resources, including Critical Raw Materials, and the demand will only increase. DCI is based on a linear economy; recycling and materials reclamation infrastructure are also inadequate. At the end-of-life, many materials are either lost to landfill, incinerated, or unaccounted for. Furthermore, many virgin materials are located in geopolitically sensitive locations, which poses a threat to the supply chain that the sector relies on. The CEDaCI project aims to increase overall sectoral sustainability by addressing the various technical, cultural, and behavioural barriers across the DCI, such as fragmentation and sole focus on the energy efficiency. This paper describes the whole-systems approach and CEDaCI project outputs, including bespoke Eco-design guidelines, strategies, and digital tools to extend product life and recycling, and enable better decision-making to increase circularity in the DCI, prepare and support implementation of the EU Circular Economy Action Plan and ensure a secure, sustainable resource supply chain.",
         "https://doi.org/10.1051/e3sconf/202234906007",
         "W4293201036"
        ],
        [
         "8",
         null,
         "CEDaCI project",
         "{\"sectoral sustainability\": {\"CORRELATION\": \"increasing\"}, \"circularity in the DCI\": {\"CORRELATION\": \"increasing\"}}",
         "[\"E\"]",
         "Data centres (DCs) house data processing and storage equipment. The data centre industry (DCI) is evolving rapidly, as society is becoming more dependent on digital technologies. Currently, there are 7.2 million DCs globally and provision is predicted to grow fivefold by 2030. The sector already utilises millions of tonnes of resources, including Critical Raw Materials, and the demand will only increase. DCI is based on a linear economy; recycling and materials reclamation infrastructure are also inadequate. At the end-of-life, many materials are either lost to landfill, incinerated, or unaccounted for. Furthermore, many virgin materials are located in geopolitically sensitive locations, which poses a threat to the supply chain that the sector relies on. The CEDaCI project aims to increase overall sectoral sustainability by addressing the various technical, cultural, and behavioural barriers across the DCI, such as fragmentation and sole focus on the energy efficiency. This paper describes the whole-systems approach and CEDaCI project outputs, including bespoke Eco-design guidelines, strategies, and digital tools to extend product life and recycling, and enable better decision-making to increase circularity in the DCI, prepare and support implementation of the EU Circular Economy Action Plan and ensure a secure, sustainable resource supply chain.",
         "https://doi.org/10.1051/e3sconf/202234906007",
         "W4293201036"
        ],
        [
         "9",
         null,
         "Eco-design guidelines, strategies, and digital tools",
         "{\"product life\": {\"CORRELATION\": \"increasing\"}, \"recycling\": {\"CORRELATION\": \"increasing\"}, \"decision-making\": {\"CORRELATION\": \"improving\"}}",
         "[\"E\"]",
         "Data centres (DCs) house data processing and storage equipment. The data centre industry (DCI) is evolving rapidly, as society is becoming more dependent on digital technologies. Currently, there are 7.2 million DCs globally and provision is predicted to grow fivefold by 2030. The sector already utilises millions of tonnes of resources, including Critical Raw Materials, and the demand will only increase. DCI is based on a linear economy; recycling and materials reclamation infrastructure are also inadequate. At the end-of-life, many materials are either lost to landfill, incinerated, or unaccounted for. Furthermore, many virgin materials are located in geopolitically sensitive locations, which poses a threat to the supply chain that the sector relies on. The CEDaCI project aims to increase overall sectoral sustainability by addressing the various technical, cultural, and behavioural barriers across the DCI, such as fragmentation and sole focus on the energy efficiency. This paper describes the whole-systems approach and CEDaCI project outputs, including bespoke Eco-design guidelines, strategies, and digital tools to extend product life and recycling, and enable better decision-making to increase circularity in the DCI, prepare and support implementation of the EU Circular Economy Action Plan and ensure a secure, sustainable resource supply chain.",
         "https://doi.org/10.1051/e3sconf/202234906007",
         "W4293201036"
        ],
        [
         "10",
         "Indonesia, South Sulawesi, Sidrap and Jeneponto Regencies",
         "Internet of Things utilization",
         "{\"wind power implementation\": {\"CORRELATION\": \"increasing\"}}",
         "[\"E\"]",
         "Utilization of renewable energy as an alternative to provide clean energy is one of the priorities of the Sustainable Development Goal, which can reduce the use of carbon emissions. Without the utilization of renewable energy, the results of global carbon dioxide (CO2) emissions are projected to increase until 2030 (IPCC 2014; IEA 2015), global energy demand is expected to double by 2050 compared to 1991 (World Energy Council 2013). In today's world development, there are already thousands of Wind Power Plants (PLTB) or Wind power installed with a maximum capacity of 93,849 MW. Indonesia is one of the countries that has implemented it, also in South Sulawesi recently, namely in Sidrap and Jeneponto Regencies with a capacity of 75 MW and 72 MW respectively. The problem that arises is that the MNC that runs it has asked for an increase in PLN's purchase price for the wind power it produces, but the Government has not granted it, while as many as six million people in Indonesia who still lack access to electricity, especially in remote rural areas, are predicted to see an increase in demand for electricity of around 10% each year. The solution to this is the implementation of several things including the need for Government Policy in considering the economics of wind power plants, namely by making a Law on Renewable Energy including wind power and making a Presidential Regulation on the price of electricity purchased by PLN from companies that produce Renewable Energy including wind power; Transition in Government Practices and Community Institutions for the sustainable progress of humanity and the utilization of technological advances, especially the Internet of Things in Indonesia to help accelerate the implementation of wind power in Indonesia.",
         "https://doi.org/10.54595/jmeb.v4i1.75",
         "W4401671001"
        ],
        [
         "11",
         null,
         "access to information",
         "{\"right to information\": {\"CORRELATION\": \"increasing\"}}",
         "[\"E\"]",
         "As the capacity of technology to deliver information expands, the idea that citizens have a right to information grows. Access to information is, in fact, an issue of the electronic age. Until recently the question of a right to information has largely been an American concern because the development and application of information technology came first in the United States, but with information technology and networks spreading to the rest of the world, the same debates are taking place in other democratic countries. The fundamental issue is essentially the same question as in so many other areas of human need: What is the proper role of the state?",
         "https://doi.org/10.1017/cbo9781139052337.011",
         "W2403236233"
        ],
        [
         "12",
         null,
         "information technology and networks",
         "{\"global debates on information rights\": {\"CORRELATION\": \"increasing\"}}",
         "[\"E\"]",
         "As the capacity of technology to deliver information expands, the idea that citizens have a right to information grows. Access to information is, in fact, an issue of the electronic age. Until recently the question of a right to information has largely been an American concern because the development and application of information technology came first in the United States, but with information technology and networks spreading to the rest of the world, the same debates are taking place in other democratic countries. The fundamental issue is essentially the same question as in so many other areas of human need: What is the proper role of the state?",
         "https://doi.org/10.1017/cbo9781139052337.011",
         "W2403236233"
        ],
        [
         "13",
         "Spain",
         "demand for pharmaceuticals, IT and telecommunications",
         "{\"changes in habits in the wake of the pandemic\": {\"CORRELATION\": \"increasing\"}}",
         "[\"E\"]",
         "Rationale Spanish goods imports grew in 2022 above what could be expected based on their traditional determinants (final demand and price competitiveness). It is therefore worth studying which additional elements underpinned purchases abroad. Takeaways •Energy market tensions caused by the Russian invasion of Ukraine boosted energy imports, due to stockpiling strategies against possible supply problems and for re-export to other EU countries. •Imports of goods with energy-intensive productive processes appear to have benefited from the loss of competitiveness of domestic production resulting from higher energy commodity prices. •The strong import growth also seems to have stemmed from the shift in industrial production towards sectors with a higher import content, the demand for which would have increased due to changes in habits in the wake of the pandemic (e.g. pharmaceuticals, IT and telecommunications) and the recovery in mobility (e.g. textiles).",
         "https://doi.org/10.53479/30069",
         "W4378376870"
        ],
        [
         "14",
         null,
         "social media usage",
         "{\"academic performance\": {\"CORRELATION\": \"decreasing\"}}",
         "[\"E\"]",
         "Accessing social media is common and although concerns have been raised regarding the impact of social media on academic success, research in this area is sparse and inconsistent. Survey responses were collected from 659 undergraduate and graduate students to determine the relationship between social media usage and overall academic performance, as well as explore if this relationship is moderated by attention (regulation of time/study environment) and motivation (effort regulation). Both predictors, social media usage and attention, significantly predicted academic performance. Likewise, when motivation was considered as a predictor, it significantly predicted academic performance above and beyond social media usage. No moderation was found between the three variables. Implications of these relationships are discussed.",
         "https://doi.org/10.1177/1469787418782817",
         "W2809210764"
        ],
        [
         "15",
         "Jammu and Kashmir, Kupwara District, Shumeriyal and Doban Village",
         "communication facilities",
         "{\"development of the village\": {\"CORRELATION\": \"increasing\"}}",
         "[\"E\"]",
         "All forest land area in Jammu and Kashmir is State owned and are under the technical and administrative control of the State Forest Department. The department is, therefore, managing these forests in the interest of the State. The State interest has too often been expressed as an extension of the policies of the State and Central Govt. which usually focus on exploitation of these forests for the overall development of the State, as a result of which the local communities which inhabit the forest under exploitation are marginalized. Participatory Forest Management got its formal shape in the year 1990. A need has arise to evaluate the impact of this management tool. 58 VFCs are functioning both with the Social Forestry projects and the territorial wings of the forest departments for the rehabilitation of the forest land of Kupwara District. A study was taken up in Shumeriyal and Doban Village committees to assess the impact of Joint Forest Management on the socio-economic development of rural people and to identify the prime ingredients of this programme responsible for bringing about the desired change. It was observed that the household income has considerable increased due to alternative job opportunities, agriculture production has increased, reduction in distance travelled and time spent for fuelwood and fodder collection and institution building and other constructions (Entry point activities) has paved the way for sustainability of the whole process. For the present study, the two VFCs selected, one VFC (Shumeriyal) which is only 6 kms from the district headquarter Kupwara having the population of 5800 souls and the another VFC (Doban) which is near about 60 kms away from the district headquarter having population of 2740 souls. During the present study it was observed that the Shumeriyal village is more developed than that of Doban village due to proper transport facilities, communication facilities, land productivity, drainage system, education and employment, During the present study it was observed that the forest villages which are near to the District headquarter are well developed than those areas which are far beyond the District headquarter.",
         "https://doi.org/10.54207/bsmps1000-2012-e00txt",
         "W4298474022"
        ],
        [
         "16",
         null,
         "ICT utilization program",
         "{\"device use anxiety\": {\"CORRELATION\": \"decreasing\"}, \"health-related quality of life\": {\"CORRELATION\": \"increasing\"}, \"social participation\": {\"CORRELATION\": \"increasing\"}}",
         "[\"E\", \"J\"]",
         "Purpose: With the aging of the population and the development of information and communication technology (ICT) infrastructure and education systems, methods to maintain social networks among the older adults are attracting attention. In this study, familiar leisure activities were introduced into the process of learning how to use devices, as anxiety about using devices has been considered one of the factors that hinder the spread of ICT among older adults. This study aimed to explore the effects of an ICT utilization program on device use anxiety and health-related quality of life quality and how ICT use affects social participation. Participants and Methods: Twenty-two community-dwelling older adults participated in a social network service group exchange for 1 month, and a questionnaire survey was conducted on ICT utilization and WHO-5 before and after the program. From the survey, we examined the effects of ICT use on older adults anxiety about device use and life satisfaction. Results: Before and after the program, a change in the WHO-5 total score and anxiety about using a device was found. In addition, not only positive opinions were heard regarding the impressions of the program, but many wished to continue the program in the future. Conclusion: In this study, we confirmed that a style in which participants naturally learn how to use a device while interacting with each other based on themes that include elements of enjoyment leads to a reduction in anxiety about device use and increase the degree of satisfaction.",
         "https://doi.org/10.33790/jrpr1100135",
         "W4313130325"
        ],
        [
         "17",
         null,
         "information technology growth and innovation in electronic component and data center equipment",
         "{\"demand of data center providing and performance\": {\"CORRELATION\": \"increasing\"}}",
         "[\"E\"]",
         "The rapid growth in the information technology in many sectors and innovation in the supporting electronic component and data center equipment, has led the increasing demand of the data center providing and performance. The conditions directly implicate to the increasing of power consumption and heat load density. The cooling system takes critical mission to provide the environment of data center for the equipment working properly. Unfortunately, the power consumption of the cooling system increase along with the increasing of server density. Data center requires three to five times higher cooling capacity for the same space area than the cooling system for office building. Improvement in the cooling system of data center will give significant benefit to the energy efficiency. Heat dissipation from the component inside the equipment is the major heat load for the cooling system. Investigation of the effective cooling inside the equipment is an important part for the optimization of cooling system. In this paper, authors attempt to summarize the problem of energy usage in the cooling system of data center and interest to look for opportunity for energy efficiency.",
         null,
         "W126362568"
        ],
        [
         "18",
         null,
         "cooling system in data center",
         "{\"power consumption\": {\"CORRELATION\": \"increasing\"}, \"heat load density\": {\"CORRELATION\": \"increasing\"}, \"energy efficiency\": {\"CORRELATION\": \"increasing\"}}",
         "[\"E\"]",
         "The rapid growth in the information technology in many sectors and innovation in the supporting electronic component and data center equipment, has led the increasing demand of the data center providing and performance. The conditions directly implicate to the increasing of power consumption and heat load density. The cooling system takes critical mission to provide the environment of data center for the equipment working properly. Unfortunately, the power consumption of the cooling system increase along with the increasing of server density. Data center requires three to five times higher cooling capacity for the same space area than the cooling system for office building. Improvement in the cooling system of data center will give significant benefit to the energy efficiency. Heat dissipation from the component inside the equipment is the major heat load for the cooling system. Investigation of the effective cooling inside the equipment is an important part for the optimization of cooling system. In this paper, authors attempt to summarize the problem of energy usage in the cooling system of data center and interest to look for opportunity for energy efficiency.",
         null,
         "W126362568"
        ],
        [
         "19",
         null,
         "improvement in the cooling system of data center",
         "{\"energy efficiency\": {\"CORRELATION\": \"increasing\"}}",
         "[\"E\"]",
         "The rapid growth in the information technology in many sectors and innovation in the supporting electronic component and data center equipment, has led the increasing demand of the data center providing and performance. The conditions directly implicate to the increasing of power consumption and heat load density. The cooling system takes critical mission to provide the environment of data center for the equipment working properly. Unfortunately, the power consumption of the cooling system increase along with the increasing of server density. Data center requires three to five times higher cooling capacity for the same space area than the cooling system for office building. Improvement in the cooling system of data center will give significant benefit to the energy efficiency. Heat dissipation from the component inside the equipment is the major heat load for the cooling system. Investigation of the effective cooling inside the equipment is an important part for the optimization of cooling system. In this paper, authors attempt to summarize the problem of energy usage in the cooling system of data center and interest to look for opportunity for energy efficiency.",
         null,
         "W126362568"
        ],
        [
         "20",
         null,
         "effective cooling inside the equipment",
         "{\"optimization of cooling system\": {\"CORRELATION\": \"increasing\"}}",
         "[\"E\"]",
         "The rapid growth in the information technology in many sectors and innovation in the supporting electronic component and data center equipment, has led the increasing demand of the data center providing and performance. The conditions directly implicate to the increasing of power consumption and heat load density. The cooling system takes critical mission to provide the environment of data center for the equipment working properly. Unfortunately, the power consumption of the cooling system increase along with the increasing of server density. Data center requires three to five times higher cooling capacity for the same space area than the cooling system for office building. Improvement in the cooling system of data center will give significant benefit to the energy efficiency. Heat dissipation from the component inside the equipment is the major heat load for the cooling system. Investigation of the effective cooling inside the equipment is an important part for the optimization of cooling system. In this paper, authors attempt to summarize the problem of energy usage in the cooling system of data center and interest to look for opportunity for energy efficiency.",
         null,
         "W126362568"
        ],
        [
         "21",
         null,
         "digitalisation of societies",
         "{\"data on consumers\": {\"CORRELATION\": \"increasing\"}}",
         "[\"E\"]",
         "There is growing interest in consumer health related to food, behaviourand lifestyle determinants. At the same time, digitalisation of societies creates newsets of data on consumers. A major drivin ...",
         null,
         "W2787687649"
        ],
        [
         "22",
         "288 prefecture-level cities in China",
         "information communication technology",
         "{\"haze pollution\": {\"CORRELATION\": \"decreasing\"}}",
         "[\"E\"]",
         "Haze pollution impacts human health, as well as the competitive capabilities of firms and local economic development. Considerable attention has been given to the study of mechanisms for reducing haze pollution, but few studies have investigated the effect of city-to-city transportation infrastructures on environmental issues based on an institutional perspective. To address this research gap, this study advances our understanding by assessing the effect of city–to–city transportation on haze pollution caused by the operation of high-speed rail, which triggers the rapid flow of individuals and information, improves information transparency, as well as imposes institutional pressure on local governments and firms to reduce haze pollution. To further verify the underlying mechanisms, we tested the development of hard infrastructure (information communication technology) and soft infrastructure (market development level), which represent two conditions for which the mechanism is likely to be critical. We tested our hypotheses using a sample of 288 prefecture-level cities in China during the period from 2005 to 2016. The empirical results indicate that the operation of high-speed rail can reduce haze pollution by 17% on average.",
         "https://doi.org/10.3390/su12072763",
         "W3015008118"
        ],
        [
         "23",
         null,
         "digital technologies",
         "{\"human rights\": {\"CORRELATION\": \"neutral\"}, \"rights and freedoms of man and citizen\": {\"CORRELATION\": \"neutral\"}}",
         "[\"E\"]",
         "Aspects of the application of digital technologies are examined, in particular, their impact on human rights. The current content of digital technology law is analyzed in terms of the real possibility of realizing the rights and freedoms of man and citizen, including in complex information systems. The conclusion is drawn on the need to analyze the application of technology with a view to achieving a balance of possible benefi ts for society and potential violations of human rights, as well as taking measures to regulate such use, in particular, documentation. Thus, it is possible to leave the possibility of real realization of human rights.",
         null,
         "W3037794653"
        ],
        [
         "24",
         null,
         "documentation",
         "{\"human rights\": {\"CORRELATION\": \"increasing\"}}",
         "[\"E\"]",
         "Aspects of the application of digital technologies are examined, in particular, their impact on human rights. The current content of digital technology law is analyzed in terms of the real possibility of realizing the rights and freedoms of man and citizen, including in complex information systems. The conclusion is drawn on the need to analyze the application of technology with a view to achieving a balance of possible benefi ts for society and potential violations of human rights, as well as taking measures to regulate such use, in particular, documentation. Thus, it is possible to leave the possibility of real realization of human rights.",
         null,
         "W3037794653"
        ],
        [
         "25",
         "Bekasi",
         "Shopping Lifestyle",
         "{\"Impulse Buying\": {\"CORRELATION\": \"increasing\"}}",
         "[\"E\"]",
         "The purpose of this study was to determine the effect of Shopping Lifestyle, Fashion Involvement and Sales Promotion on Impulse Buying with Positive Emotion as an Intervening Variable in the Consumer of Bukalapak Online Shop in Bekasi. Data collection techniques with distributing questionnaires base",
         "https://doi.org/10.4108/eai.3-10-2020.2306591",
         "W3167293510"
        ],
        [
         "26",
         "Bekasi",
         "Fashion Involvement",
         "{\"Impulse Buying\": {\"CORRELATION\": \"increasing\"}}",
         "[\"E\"]",
         "The purpose of this study was to determine the effect of Shopping Lifestyle, Fashion Involvement and Sales Promotion on Impulse Buying with Positive Emotion as an Intervening Variable in the Consumer of Bukalapak Online Shop in Bekasi. Data collection techniques with distributing questionnaires base",
         "https://doi.org/10.4108/eai.3-10-2020.2306591",
         "W3167293510"
        ],
        [
         "27",
         "Bekasi",
         "Sales Promotion",
         "{\"Impulse Buying\": {\"CORRELATION\": \"increasing\"}}",
         "[\"E\"]",
         "The purpose of this study was to determine the effect of Shopping Lifestyle, Fashion Involvement and Sales Promotion on Impulse Buying with Positive Emotion as an Intervening Variable in the Consumer of Bukalapak Online Shop in Bekasi. Data collection techniques with distributing questionnaires base",
         "https://doi.org/10.4108/eai.3-10-2020.2306591",
         "W3167293510"
        ],
        [
         "28",
         "South Asia",
         "common satellite in South Asian Association for Regional Co-operation (SAARC)",
         "{\"weather forecasting\": {\"CORRELATION\": \"increasing\"}, \"disaster risk reduction\": {\"CORRELATION\": \"increasing\"}, \"crop harvest projections\": {\"CORRELATION\": \"increasing\"}}",
         "[\"E\"]",
         "All countries are vulnerable to natural disasters. While this may not be avoidable the impacts on affected populations can be minimized through implementing an efficient disaster management policy. This is particularly significant given that the cost to human life and the economy rises each year, regardless of how many natural disasters occur per annum. \nThe tropical region of South Asia with non-linear processes need denser network of observations. What is presently available in South Asia is hardly 20-30 percent of these requirements. An extremely high-risk region is in fact poorly populated by the observational networks. The idea is of a common satellite in South Asian Association for Regional Co-operation (SAARC) whose members are Afghanistan, Bangladesh, Bhutan, India, the Maldives, Nepal, Pakistan and Sri Lanka. All South Asian countries share common geophysical, meteorological and oceanographic factors. Space-based platforms can provide trans-boundary perspectives invaluable for more accurate weather forecasting, disaster risk reduction, crop harvest projections and other purposes. \nMany challenges still remain before these satellite applications can be made widely accessible to all nations for disaster management. This paper identifies ongoing challenges in space policy and law, correlating remote sensing practices, and data sharing issues for humanitarian relief following natural disasters. This paper concludes that, a new policy framework should be developed specific to the application of satellite technologies for real time sharing of regional satellite data is especially critical in disaster risk reduction.",
         null,
         "W2610618513"
        ],
        [
         "29",
         "South Asia",
         "new policy framework specific to the application of satellite technologies",
         "{\"real time sharing of regional satellite data\": {\"CORRELATION\": \"increasing\"}, \"disaster risk reduction\": {\"CORRELATION\": \"increasing\"}}",
         "[\"E\", \"K\"]",
         "All countries are vulnerable to natural disasters. While this may not be avoidable the impacts on affected populations can be minimized through implementing an efficient disaster management policy. This is particularly significant given that the cost to human life and the economy rises each year, regardless of how many natural disasters occur per annum. \nThe tropical region of South Asia with non-linear processes need denser network of observations. What is presently available in South Asia is hardly 20-30 percent of these requirements. An extremely high-risk region is in fact poorly populated by the observational networks. The idea is of a common satellite in South Asian Association for Regional Co-operation (SAARC) whose members are Afghanistan, Bangladesh, Bhutan, India, the Maldives, Nepal, Pakistan and Sri Lanka. All South Asian countries share common geophysical, meteorological and oceanographic factors. Space-based platforms can provide trans-boundary perspectives invaluable for more accurate weather forecasting, disaster risk reduction, crop harvest projections and other purposes. \nMany challenges still remain before these satellite applications can be made widely accessible to all nations for disaster management. This paper identifies ongoing challenges in space policy and law, correlating remote sensing practices, and data sharing issues for humanitarian relief following natural disasters. This paper concludes that, a new policy framework should be developed specific to the application of satellite technologies for real time sharing of regional satellite data is especially critical in disaster risk reduction.",
         null,
         "W2610618513"
        ],
        [
         "30",
         "Greater Manchester, England",
         "social media use",
         "{\"internalising symptoms\": {\"CORRELATION\": \"neutral\"}}",
         "[\"E\"]",
         "Background: The effects of adolescent digital technology use (e.g. social media, gaming) on their mental health are a major public health concern, but existing evidence is of mixed quality and findings have been inconclusive. Methods: Separating within-person effects from between-person effects, a random-intercept cross-lagged panel model (RI-CLPM) was applied to three annual waves of data (T1, T2, T3) on social media use, gaming and internalising symptoms among N=25,629 adolescents (51% girls, average age 12 years, 7 months (SD = 3.58 months) at baseline) in Greater Manchester, England. Results: Longitudinal relationships varied by gender, such that more frequent gaming at T2 predicted less time spent on social media use at T3 in girls (but not boys) and, more frequent internalising symptoms at T2 predicted reductions in gaming frequency at T3 in boys (but not girls). There was no evidence that time spent on social media or gaming frequency predicted later internalising symptoms among girls or boys. Sensitivity analyses which distinguished active versus passive social media use replicated these findings. Conclusions: The findings of this study do not support the widely held view that adolescent technology use is a major causal factor in their mental health difficulties.",
         "https://doi.org/10.31234/osf.io/xv76f_v1",
         "W4407493560"
        ],
        [
         "31",
         "Greater Manchester, England",
         "gaming",
         "{\"internalising symptoms\": {\"CORRELATION\": \"neutral\"}, \"social media use\": {\"CORRELATION\": \"decreasing\"}}",
         "[\"E\"]",
         "Background: The effects of adolescent digital technology use (e.g. social media, gaming) on their mental health are a major public health concern, but existing evidence is of mixed quality and findings have been inconclusive. Methods: Separating within-person effects from between-person effects, a random-intercept cross-lagged panel model (RI-CLPM) was applied to three annual waves of data (T1, T2, T3) on social media use, gaming and internalising symptoms among N=25,629 adolescents (51% girls, average age 12 years, 7 months (SD = 3.58 months) at baseline) in Greater Manchester, England. Results: Longitudinal relationships varied by gender, such that more frequent gaming at T2 predicted less time spent on social media use at T3 in girls (but not boys) and, more frequent internalising symptoms at T2 predicted reductions in gaming frequency at T3 in boys (but not girls). There was no evidence that time spent on social media or gaming frequency predicted later internalising symptoms among girls or boys. Sensitivity analyses which distinguished active versus passive social media use replicated these findings. Conclusions: The findings of this study do not support the widely held view that adolescent technology use is a major causal factor in their mental health difficulties.",
         "https://doi.org/10.31234/osf.io/xv76f_v1",
         "W4407493560"
        ],
        [
         "32",
         "Brisbane",
         "GPS and camera-equipped mobile devices",
         "{\"volunteered information production\": {\"CORRELATION\": \"increasing\"}}",
         "[\"E\"]",
         "Much flood destruction is due to humans’ desire to live near water. Accordingly, there is a need for accurate flood extent maps, so that we may be prepared for repeat flood events. The advent of the internet, coupled with the proliferation of GPS and camera-equipped mobile devices has led to a marked increase in the production of volunteered information. Flood extent mapping may benefit from additional sources of data, which could be provided by these devices.\n\nThis project developed the mapping of flood extents from volunteered photography and other available data. The specific objectives were to:\n Research existing flood extent creation methods.\n Collect private media featuring the 2011 Brisbane flood high-water mark.\n Collect a topography Digital Elevation Model (DEM) of the target area.\n Create a series of 3D points from the high-water marks.\n Process collected points to create a TIN model; intersect this with topography TIN model to arrive at extent map.\n Compare and document produced extent map to that released by the Surveying and Spatial Sciences Institute (SSSI).\n\nThe online photography site flickr provided the majority of the flood imagery. Most of these marks were able to be collected using RTK GPS. Two topography models were obtained, and three Triangulated Irregular Network (TIN) models created from the collected points. A total of five extent maps were created. This study concluded that volunteered photographs were well suited as a source of additional data to create a flood extent map. It also found that the accuracy of the produced extent map is greatly influenced by the accuracy of the topography DEM used. For best results, the topography DEM should be at least as accurate as the collected data. Advances in photogrammetry software or mobile device-based GPS may greatly automate the collection of flood levels in the future.",
         null,
         "W1588303354"
        ],
        [
         "33",
         "Brisbane",
         "photogrammetry software or mobile device-based GPS",
         "{\"collection of flood levels automation\": {\"CORRELATION\": \"increasing\"}}",
         "[\"E\"]",
         "Much flood destruction is due to humans’ desire to live near water. Accordingly, there is a need for accurate flood extent maps, so that we may be prepared for repeat flood events. The advent of the internet, coupled with the proliferation of GPS and camera-equipped mobile devices has led to a marked increase in the production of volunteered information. Flood extent mapping may benefit from additional sources of data, which could be provided by these devices.\n\nThis project developed the mapping of flood extents from volunteered photography and other available data. The specific objectives were to:\n Research existing flood extent creation methods.\n Collect private media featuring the 2011 Brisbane flood high-water mark.\n Collect a topography Digital Elevation Model (DEM) of the target area.\n Create a series of 3D points from the high-water marks.\n Process collected points to create a TIN model; intersect this with topography TIN model to arrive at extent map.\n Compare and document produced extent map to that released by the Surveying and Spatial Sciences Institute (SSSI).\n\nThe online photography site flickr provided the majority of the flood imagery. Most of these marks were able to be collected using RTK GPS. Two topography models were obtained, and three Triangulated Irregular Network (TIN) models created from the collected points. A total of five extent maps were created. This study concluded that volunteered photographs were well suited as a source of additional data to create a flood extent map. It also found that the accuracy of the produced extent map is greatly influenced by the accuracy of the topography DEM used. For best results, the topography DEM should be at least as accurate as the collected data. Advances in photogrammetry software or mobile device-based GPS may greatly automate the collection of flood levels in the future.",
         null,
         "W1588303354"
        ],
        [
         "34",
         "Europe",
         "technology and digitalisation",
         "{\"resource efficiency\": {\"CORRELATION\": \"increasing\"}, \"environmental burdens\": {\"CORRELATION\": \"minimising\"}}",
         "[\"E\"]",
         "Abstract The war in Ukraine has brought the challenges stemming from Europe’s dependency on natural gas and oil imports into sharp focus. This has also highlighted another dependency – that on raw materials that are critical for the EU’s transition to a low-carbon economy. A strategic approach to raw material management can help negate the risks posed by a dependency on imports of critical raw materials. Improving resource efficiency is also necessary to achieve a low-carbon economy and sustain socio-economic progress in the face of finite natural resources. This Forum highlights the progress currently being made in geopolitical, economic and environmental areas and looks at the main constraints to the circular economy agenda where targeted solutions are needed. What is currently being done to decouple material consumption from welfare creation and use resources more efficiently? To what extent can recycling prolong the use of natural resources? Which measures can transform current business models into circular business models? How can technology and digitalisation be used to improve resource efficiency while minimising environmental burdens? Can knowledge transfer be used in addressing the complexity of the transition to a circular economy?",
         "https://doi.org/10.2478/ie-2023-0014",
         "W4380790478"
        ],
        [
         "35",
         "Brazil",
         "mass media campaigns",
         "{\"overweight\": {\"CORRELATION\": \"decreasing\"}}",
         "[\"E\"]",
         "Overweight is a growing public health challenge in Brazil, with over half of the population overweight in 2016. Brazilians have unhealthier food consumption habits than OECD countries, while the prevalence of insufficient physical activity has increased more rapidly in Brazil than elsewhere over the past decades. Brazil has started to address the issue of overweight in a number of policies and interventions, including a food labelling scheme and school-based policies such as the Programa Saúde na Escola. While these are valuable strategies, Brazil could aim for a more ambitious multi-sectoral and comprehensive response. Brazil should better influence lifestyles through information and education programmes such as introducing menu labelling in restaurants, mass media campaigns, and promoting prescription of physical activity by family health teams. Brazil should also pursue food reformulation more actively, developing workplace or transport policies, while regulating food and beverage advertising particularly for children.",
         "https://doi.org/10.1787/a845c0b6-en",
         "W4400714014"
        ],
        [
         "36",
         "Brazil",
         "regulating food and beverage advertising particularly for children",
         "{\"overweight\": {\"CORRELATION\": \"decreasing\"}}",
         "[\"E\"]",
         "Overweight is a growing public health challenge in Brazil, with over half of the population overweight in 2016. Brazilians have unhealthier food consumption habits than OECD countries, while the prevalence of insufficient physical activity has increased more rapidly in Brazil than elsewhere over the past decades. Brazil has started to address the issue of overweight in a number of policies and interventions, including a food labelling scheme and school-based policies such as the Programa Saúde na Escola. While these are valuable strategies, Brazil could aim for a more ambitious multi-sectoral and comprehensive response. Brazil should better influence lifestyles through information and education programmes such as introducing menu labelling in restaurants, mass media campaigns, and promoting prescription of physical activity by family health teams. Brazil should also pursue food reformulation more actively, developing workplace or transport policies, while regulating food and beverage advertising particularly for children.",
         "https://doi.org/10.1787/a845c0b6-en",
         "W4400714014"
        ],
        [
         "37",
         null,
         "information and communication technologies (ICTs)",
         "{\"communication practices\": {\"CORRELATION\": \"increasing\"}, \"freedom of expression\": {\"CORRELATION\": \"increasing\"}, \"civil society participation\": {\"CORRELATION\": \"increasing\"}}",
         "[\"E\"]",
         "The tremendous developments in information and communication technologies (ICTs) over the last 20 years have substantially changed communication practices across the world. The Internet and mobile phones help to open new horizons for connections between people, leading to a global network for the sharing of information and ideas. In this new environment, human rights need to have a place, and traditional notions related to mass media need to be adapted to the needs of civil society. Freedom of expression has become much more individualistic, with information exchanges no longer relying on the traditional intermediaries (mass media) but on the exchange of ideas on social networking and other platforms. Civil society participation in the information world requires the necessary infrastructure however. And since states have an obligation to see to it that human rights are realized in practice, this may mean the facilitation of private investments to improve the ICT infrastructure. In this context, ICT policies favoring human rights must encompass a right to development.",
         "https://doi.org/10.4018/978-1-4666-1918-0.ch002",
         "W2504260645"
        ],
        [
         "38",
         null,
         "Internet and mobile phones",
         "{\"connections between people\": {\"CORRELATION\": \"increasing\"}, \"sharing of information and ideas\": {\"CORRELATION\": \"increasing\"}}",
         "[\"E\"]",
         "The tremendous developments in information and communication technologies (ICTs) over the last 20 years have substantially changed communication practices across the world. The Internet and mobile phones help to open new horizons for connections between people, leading to a global network for the sharing of information and ideas. In this new environment, human rights need to have a place, and traditional notions related to mass media need to be adapted to the needs of civil society. Freedom of expression has become much more individualistic, with information exchanges no longer relying on the traditional intermediaries (mass media) but on the exchange of ideas on social networking and other platforms. Civil society participation in the information world requires the necessary infrastructure however. And since states have an obligation to see to it that human rights are realized in practice, this may mean the facilitation of private investments to improve the ICT infrastructure. In this context, ICT policies favoring human rights must encompass a right to development.",
         "https://doi.org/10.4018/978-1-4666-1918-0.ch002",
         "W2504260645"
        ],
        [
         "39",
         null,
         "ICT policies favoring human rights",
         "{\"human rights\": {\"CORRELATION\": \"increasing\"}, \"right to development\": {\"CORRELATION\": \"increasing\"}}",
         "[\"E\"]",
         "The tremendous developments in information and communication technologies (ICTs) over the last 20 years have substantially changed communication practices across the world. The Internet and mobile phones help to open new horizons for connections between people, leading to a global network for the sharing of information and ideas. In this new environment, human rights need to have a place, and traditional notions related to mass media need to be adapted to the needs of civil society. Freedom of expression has become much more individualistic, with information exchanges no longer relying on the traditional intermediaries (mass media) but on the exchange of ideas on social networking and other platforms. Civil society participation in the information world requires the necessary infrastructure however. And since states have an obligation to see to it that human rights are realized in practice, this may mean the facilitation of private investments to improve the ICT infrastructure. In this context, ICT policies favoring human rights must encompass a right to development.",
         "https://doi.org/10.4018/978-1-4666-1918-0.ch002",
         "W2504260645"
        ],
        [
         "40",
         "northern Utah",
         "custom smartphone application",
         "{\"behavioral change\": {\"CORRELATION\": \"increasing\"}}",
         "[\"E\"]",
         "Abstract Introduction Most Alzheimer's disease (AD) prevention studies focus on older adults or persons with existing cognitive impairment. This study describes the design and progress of a novel pilot intervention, the Gray Matters study. Methods This proof‐of‐concept randomized controlled trial tests an evidence‐based multidomain lifestyle intervention in 146 persons aged 40 to 64 years, in northern Utah. Data collectors were blinded to participants' randomization to treatment (n = 104) or control (n = 42). Intervention targeted physical activity, food choices, social engagement, cognitive simulation, sleep quality, and stress management, and uses a custom smartphone application, activity monitor, and educational materials. Secondary outcomes include biomarkers, body mass index, cognitive testing, and psychological surveys. Results Midway through the study, achievements include a 98.7% retention rate, a 96% rate of compliance with app data entry, and positive trends in behavioral change. Discussion Participants were empowered, learning that lifestyle might impact AD risk, exhibiting positive behavioral changes thus far.",
         "https://doi.org/10.1016/j.trci.2015.05.001",
         "W1570360045"
        ],
        [
         "41",
         "northern Utah",
         "activity monitor",
         "{\"behavioral change\": {\"CORRELATION\": \"increasing\"}}",
         "[\"E\"]",
         "Abstract Introduction Most Alzheimer's disease (AD) prevention studies focus on older adults or persons with existing cognitive impairment. This study describes the design and progress of a novel pilot intervention, the Gray Matters study. Methods This proof‐of‐concept randomized controlled trial tests an evidence‐based multidomain lifestyle intervention in 146 persons aged 40 to 64 years, in northern Utah. Data collectors were blinded to participants' randomization to treatment (n = 104) or control (n = 42). Intervention targeted physical activity, food choices, social engagement, cognitive simulation, sleep quality, and stress management, and uses a custom smartphone application, activity monitor, and educational materials. Secondary outcomes include biomarkers, body mass index, cognitive testing, and psychological surveys. Results Midway through the study, achievements include a 98.7% retention rate, a 96% rate of compliance with app data entry, and positive trends in behavioral change. Discussion Participants were empowered, learning that lifestyle might impact AD risk, exhibiting positive behavioral changes thus far.",
         "https://doi.org/10.1016/j.trci.2015.05.001",
         "W1570360045"
        ],
        [
         "42",
         null,
         "cloud radio access network (C-RAN) architecture",
         "{\"energy efficiency (EE)\": {\"CORRELATION\": \"increasing\"}}",
         "[\"E\"]",
         "The aggregate power supply of solar photovoltaic (PV) and diesel generator (DG) is an attractive solution for the next generation off-grid cellular network where the electricity is not available. In this paper, we emphasized on energy efficiency (EE) for cloud radio access network (C-RAN) architecture in the context of 5G cellular networks with hybrid supply. The intermittent nature of PV generation is counter balanced by the DG supply which has emerged as a promising option for energy sustainability. The prime aim is to maximum utilization of green energy harvested from installed PV panels for greener the envisioned network. In addition, the environmental effect such as carbon footprint has been comprehensively analyzed by varying solar capacity. An extensive simulation has been carried out for evaluating EE performance of the proposed network varying different system parameters such as transmission power, solar module capacity in consideration of the real traffic demand. Numerical results justify the effectiveness of the proposed scheme.",
         "https://doi.org/10.1109/iciset.2018.8745631",
         "W2955653144"
        ],
        [
         "43",
         "Mysuru city, Karnataka",
         "screen time use",
         "{\"sleep quality\": {\"CORRELATION\": \"decreasing\"}}",
         "[\"E\"]",
         "Background: India houses the largest population of adolescents globally, with an estimated 253 million individuals between the ages of 10 to 19 years. Modifiable lifestyle behaviors such as physical activity, screen time use, and sleep patterns are important components of healthy life and have an impact on behavioral outcomes, performance-based outcomes, mental and emotional well-being, and the physical health of adolescents. The purpose of this study was to assess sleep quality and to determine its association with screen time and physical activity among adolescents. Methods: A cross-sectional study was conducted among 317 study participants in Mysuru city, Karnataka. Convenience sampling technique was used for data collection. Descriptive statistics and association were analyzed using statistical package for the social sciences (SPSS) version 22. Results: The study found 22.1% prevalence of poor sleep quality among study participants in Mysuru city, Karnataka. The average levels of screen times were higher on weekend than weekday. Moreover, specific types of screen time, such as small screen recreation on weekends and education and social activities on weekdays, were associated with poorer sleep quality. The study also observed physical activity, particularly during leisure time and travel is significantly associated with sleep quality. Conclusions: The prevalence of poor sleep quality among study participants was significantly higher. Maintaining healthy sleep habits, incorporating yoga, meditation, or physical activity can effectively relax the mind and should be promoted in schools, and limiting the use of electronic devices before bedtime is crucial for improving sleep quality.",
         "https://doi.org/10.18203/2394-6040.ijcmph20242890",
         "W4402950350"
        ],
        [
         "44",
         "Mysuru city, Karnataka",
         "limiting the use of electronic devices before bedtime",
         "{\"sleep quality\": {\"CORRELATION\": \"increasing\"}}",
         "[\"E\"]",
         "Background: India houses the largest population of adolescents globally, with an estimated 253 million individuals between the ages of 10 to 19 years. Modifiable lifestyle behaviors such as physical activity, screen time use, and sleep patterns are important components of healthy life and have an impact on behavioral outcomes, performance-based outcomes, mental and emotional well-being, and the physical health of adolescents. The purpose of this study was to assess sleep quality and to determine its association with screen time and physical activity among adolescents. Methods: A cross-sectional study was conducted among 317 study participants in Mysuru city, Karnataka. Convenience sampling technique was used for data collection. Descriptive statistics and association were analyzed using statistical package for the social sciences (SPSS) version 22. Results: The study found 22.1% prevalence of poor sleep quality among study participants in Mysuru city, Karnataka. The average levels of screen times were higher on weekend than weekday. Moreover, specific types of screen time, such as small screen recreation on weekends and education and social activities on weekdays, were associated with poorer sleep quality. The study also observed physical activity, particularly during leisure time and travel is significantly associated with sleep quality. Conclusions: The prevalence of poor sleep quality among study participants was significantly higher. Maintaining healthy sleep habits, incorporating yoga, meditation, or physical activity can effectively relax the mind and should be promoted in schools, and limiting the use of electronic devices before bedtime is crucial for improving sleep quality.",
         "https://doi.org/10.18203/2394-6040.ijcmph20242890",
         "W4402950350"
        ],
        [
         "45",
         "North-East India",
         "raising awareness by global mass media",
         "{\"public awareness\": {\"CORRELATION\": \"increasing\"}}",
         "[\"E\"]",
         "Environmental problems, global climate change, and democracy are related phenomena. Global climate change, which shows up as weather extremes and altered rainfall patterns, exacerbates a number of environmental problems, including energy security, deforestation, land use changes, biodiversity loss, soil degradation, and water scarcity. Natural resources, food security, economic activity, and human health together with physical infrastructure are all significantly impacted by climate change. Furthermore, the complicated socioeconomic and cultural dynamics of the area are frequently overlooked by the conservation framework, which can hinder conservation efforts by causing disputes with nearby communities. Integrating traditional knowledge and practices, equitable benefit distribution, and local community awareness and participation in conservation programs should all be given top priority in this framework. The region is impacted by transboundary issues such as sea level rise, illegal wildlife and timber trade, changing rainfall patterns, and rising temperatures. Energy security in democracies necessitates the viability of legislative measures pertaining to carbon prices and caps, which are politically difficult due to higher emission taxes and limits. Democracy in carbon/energy demands using renewable biobased feedstocks while allowing for public choice and participation. A thorough conservation framework considering the region's distinct socioeconomic and cultural features must be created to address these issues. Therefore, it is worthwhile to study the raising awareness by global mass media in several policy frameworks and conservation, climate change impacts on vulnerable communities, inadequate funding for conservation programs, weak implementation together with enforcement of environmental regulations, insufficient coordination among different agencies and stakeholders, regional and transboundary international cooperation, and energy security with emphasis on North-East India to ensure the United Nations Sustainable development goals. In order to combat global climate change in democracies, the chapter focuses on environmental issues including energy democracy and the role of mass media in fostering public awareness, advocating for public policy, rallying support, and facilitating action. A framework pertaining to a democratic and inclusive climate change response is also presented in this chapter, with a focus on North-East India.",
         "https://doi.org/10.1007/978-3-031-55408-7_11",
         "W4396689269"
        ],
        [
         "46",
         "North-East India",
         "role of mass media in fostering public awareness",
         "{\"public awareness\": {\"CORRELATION\": \"increasing\"}}",
         "[\"E\"]",
         "Environmental problems, global climate change, and democracy are related phenomena. Global climate change, which shows up as weather extremes and altered rainfall patterns, exacerbates a number of environmental problems, including energy security, deforestation, land use changes, biodiversity loss, soil degradation, and water scarcity. Natural resources, food security, economic activity, and human health together with physical infrastructure are all significantly impacted by climate change. Furthermore, the complicated socioeconomic and cultural dynamics of the area are frequently overlooked by the conservation framework, which can hinder conservation efforts by causing disputes with nearby communities. Integrating traditional knowledge and practices, equitable benefit distribution, and local community awareness and participation in conservation programs should all be given top priority in this framework. The region is impacted by transboundary issues such as sea level rise, illegal wildlife and timber trade, changing rainfall patterns, and rising temperatures. Energy security in democracies necessitates the viability of legislative measures pertaining to carbon prices and caps, which are politically difficult due to higher emission taxes and limits. Democracy in carbon/energy demands using renewable biobased feedstocks while allowing for public choice and participation. A thorough conservation framework considering the region's distinct socioeconomic and cultural features must be created to address these issues. Therefore, it is worthwhile to study the raising awareness by global mass media in several policy frameworks and conservation, climate change impacts on vulnerable communities, inadequate funding for conservation programs, weak implementation together with enforcement of environmental regulations, insufficient coordination among different agencies and stakeholders, regional and transboundary international cooperation, and energy security with emphasis on North-East India to ensure the United Nations Sustainable development goals. In order to combat global climate change in democracies, the chapter focuses on environmental issues including energy democracy and the role of mass media in fostering public awareness, advocating for public policy, rallying support, and facilitating action. A framework pertaining to a democratic and inclusive climate change response is also presented in this chapter, with a focus on North-East India.",
         "https://doi.org/10.1007/978-3-031-55408-7_11",
         "W4396689269"
        ],
        [
         "47",
         null,
         "media campaigns and branding",
         "{\"young people's sexual health knowledge\": {\"CORRELATION\": \"increasing\"}}",
         "[\"E\"]",
         "Theoretically, there may be benefit in augmenting school-based sexual health education with sexual health services, but the outcomes are poorly understood. Healthy Respect 2 (HR2) combined sex education with youth-friendly sexual health services, media campaigns and branding, and encouraged joint working between health services, local government and the voluntary sector. This study examined whether HR2: (1) improved young people's sexual health knowledge, attitudes, behaviour and use of sexual health services and (2) reduced socioeconomic inequalities in sexual health.A quasi-experiment in which the intervention and comparison areas were matched for teenage pregnancy and terminations, and schools were matched by social deprivation. 5283 pupils aged 15-16 years (2269 intervention, 3014 comparison) were recruited to cross-sectional surveys in 2007, 2008 and 2009.The intervention improved males' and, to a lesser extent, females' sexual health knowledge. Males' intention to use condoms, and reported use of condoms, was unaffected, compared with a reduction in both among males in the comparison arm. Although females exposed to the intervention became less accepting of condoms, there was no change in their intention to use condoms and reported condom use. Pupils became more tolerant of sexual coercion in both the intervention and comparison arms. Attitudes towards same-sex relationships remained largely unaffected. More pupils in the HR2 area used sexual health services, including those from lower socioeconomic backgrounds. This aside, sexual health inequalities remained.Combining school-based sex education and sexual health clinics has a limited impact. Interventions that address the upstream causes of poor sexual health, such as a detrimental sociocultural environment, represent promising alternatives. These should prioritise the most vulnerable young people.",
         "https://doi.org/10.1136/jech-2012-201034",
         "W2155746603"
        ],
        [
         "48",
         "sub-Saharan Africa",
         "information and communications technology (ICT) infrastructures",
         "{\"inclusive growth\": {\"CORRELATION\": \"increasing\"}, \"income disparities\": {\"CORRELATION\": \"decreasing\"}}",
         "[\"E\"]",
         "This study provides an empirical assessment of infrastructure and inclusive growth in sub-Saharan Africa (SSA). An inclusive growth index has been constructed and then used to test the infrastructure–inclusive growth nexus. The study has also examined whether infrastructure has a distributive impact on income groups. The overall analysis employed panel data collected from 31 SSA countries over the period 2003–17. The study found a positive link between infrastructure and inclusive growth. These results were significant for energy, transport and information and communications technology (ICT) infrastructures. It was also found that poorer people gain more benefits from the listed infrastructures than the rich, which shows that infrastructure plays an important role in the distribution of income. The overall results imply that infrastructure is vital in reducing income disparities and enhancing shared prosperity in SSA. Policies for increasing access and affordability of infrastructure services are highly recommended to promote inclusion.",
         "https://doi.org/10.1177/1464993420927507",
         "W3038924493"
        ],
        [
         "49",
         "United Arab Emirates (UAE)",
         "technological advances (e.g. big data and IoT)",
         "{\"waste\": {\"CORRELATION\": \"decreasing\"}}",
         "[\"E\"]",
         "Contemporary business models need to re-imagine the production and distribution of goods and services embedding social, economic, and environmental goals concurrently. To this end, reverse logistics in streamlining a circular economy (take, make, use, reuse, repair, and recycle) catapulted to the top of the discussion for collecting and distributing products. Yet, little is empirically known about the role of reverse logistics in the circular economy. This study attempts to fill this knowledge gap in theory and practice through a multiple case study approach including 40 semi-structured interviews with reverse logistics specialists from the four largest retailing firms in the United Arab Emirates (UAE). Findings reveal multiple ways by which reverse logistics contributes to a circular economy: for instance, reverse logistics enables firms to develop a circular product design; the combination of reverse flow with the forward flow consolidates the high volume of products, thus mitigating waste; use of innovative tools (robots, autonomous bikes) in reverse logistics increases the used products' return rate and thereby enhancing recycling; technological advances (e.g. big data and IoT) in reverse logistics help trace the product thus reducing waste. The paper offers several valuable insights for practitioners to build a circular economy via reverse logistics (waste reduction, responsible consumption, and sustainable logistics). Our study also contributes to multiple United Nations Sustainable Development Goals (SDG 11, SDG 12, and SDG 13).",
         "https://doi.org/10.1080/09537287.2023.2197851",
         "W4363648254"
        ]
       ],
       "shape": {
        "columns": 7,
        "rows": 6940
       }
      },
      "text/html": [
       "<div>\n",
       "<style scoped>\n",
       "    .dataframe tbody tr th:only-of-type {\n",
       "        vertical-align: middle;\n",
       "    }\n",
       "\n",
       "    .dataframe tbody tr th {\n",
       "        vertical-align: top;\n",
       "    }\n",
       "\n",
       "    .dataframe thead th {\n",
       "        text-align: right;\n",
       "    }\n",
       "</style>\n",
       "<table border=\"1\" class=\"dataframe\">\n",
       "  <thead>\n",
       "    <tr style=\"text-align: right;\">\n",
       "      <th></th>\n",
       "      <th>GEOGRAPHIC</th>\n",
       "      <th>ITEM</th>\n",
       "      <th>FACTOR</th>\n",
       "      <th>SECTOR</th>\n",
       "      <th>abstract</th>\n",
       "      <th>doi</th>\n",
       "      <th>openalex_id</th>\n",
       "    </tr>\n",
       "  </thead>\n",
       "  <tbody>\n",
       "    <tr>\n",
       "      <th>0</th>\n",
       "      <td>Mashhad University of Medical Sciences</td>\n",
       "      <td>mass media</td>\n",
       "      <td>{\"awareness about the benefits of physical act...</td>\n",
       "      <td>[\"E\"]</td>\n",
       "      <td>Background and Aim: Health-promoting lifestyle...</td>\n",
       "      <td>https://doi.org/10.22038/jmrh.2014.2918</td>\n",
       "      <td>W2099730092</td>\n",
       "    </tr>\n",
       "    <tr>\n",
       "      <th>1</th>\n",
       "      <td>United States</td>\n",
       "      <td>exergames</td>\n",
       "      <td>{\"physical activity (PA) in the general popula...</td>\n",
       "      <td>[\"E\", \"J\"]</td>\n",
       "      <td>The number of informal caregivers for family m...</td>\n",
       "      <td>https://doi.org/10.48550/arxiv.1908.09984</td>\n",
       "      <td>W2970340995</td>\n",
       "    </tr>\n",
       "    <tr>\n",
       "      <th>2</th>\n",
       "      <td>Puget Sound</td>\n",
       "      <td>telecommunications</td>\n",
       "      <td>{\"trip generation rates\": {\"CORRELATION\": \"dec...</td>\n",
       "      <td>[\"E\"]</td>\n",
       "      <td>Most trip generation models are insensitive to...</td>\n",
       "      <td>https://doi.org/10.3141/1682-09</td>\n",
       "      <td>W2129598736</td>\n",
       "    </tr>\n",
       "    <tr>\n",
       "      <th>3</th>\n",
       "      <td>US</td>\n",
       "      <td>activewear purchased to be worn as casualwear</td>\n",
       "      <td>{\"intent to purchase activewear\": {\"CORRELATIO...</td>\n",
       "      <td>[\"E\"]</td>\n",
       "      <td>In recent years, activewear is no longer conta...</td>\n",
       "      <td>https://doi.org/10.1080/17543266.2018.1477995</td>\n",
       "      <td>W2805060567</td>\n",
       "    </tr>\n",
       "    <tr>\n",
       "      <th>4</th>\n",
       "      <td>Indonesia</td>\n",
       "      <td>advanced, automated internet technology</td>\n",
       "      <td>{\"robust connectivity\": {\"CORRELATION\": \"incre...</td>\n",
       "      <td>[\"E\"]</td>\n",
       "      <td>Abstract The Indonesian government has a goal ...</td>\n",
       "      <td>https://doi.org/10.2118/209896-ms</td>\n",
       "      <td>W4290471442</td>\n",
       "    </tr>\n",
       "    <tr>\n",
       "      <th>...</th>\n",
       "      <td>...</td>\n",
       "      <td>...</td>\n",
       "      <td>...</td>\n",
       "      <td>...</td>\n",
       "      <td>...</td>\n",
       "      <td>...</td>\n",
       "      <td>...</td>\n",
       "    </tr>\n",
       "    <tr>\n",
       "      <th>6935</th>\n",
       "      <td>Samarinda, East Kalimantan province, Indonesia</td>\n",
       "      <td>IoT-based air pollution monitoring system usin...</td>\n",
       "      <td>{\"air quality information accessibility\": {\"CO...</td>\n",
       "      <td>[\"E\"]</td>\n",
       "      <td>The degradation of air quality in numerous Ind...</td>\n",
       "      <td>https://doi.org/10.51967/tanesa.v24i2.2946</td>\n",
       "      <td>W4399888694</td>\n",
       "    </tr>\n",
       "    <tr>\n",
       "      <th>6936</th>\n",
       "      <td>Democratic Republic of Congo (DRC)</td>\n",
       "      <td>privately funded GSM network</td>\n",
       "      <td>{\"mobile telephone coverage\": {\"CORRELATION\": ...</td>\n",
       "      <td>[\"E\"]</td>\n",
       "      <td>The Democratic Republic of Congo (DRC) faces p...</td>\n",
       "      <td>NaN</td>\n",
       "      <td>W3121765686</td>\n",
       "    </tr>\n",
       "    <tr>\n",
       "      <th>6937</th>\n",
       "      <td>Thailand</td>\n",
       "      <td>watching television and playing computer</td>\n",
       "      <td>{\"obesity\": {\"CORRELATION\": \"increasing\"}}</td>\n",
       "      <td>[\"E\"]</td>\n",
       "      <td>Objective:  To determine the dietary pattern, ...</td>\n",
       "      <td>NaN</td>\n",
       "      <td>W2161121663</td>\n",
       "    </tr>\n",
       "    <tr>\n",
       "      <th>6938</th>\n",
       "      <td>Pakistan</td>\n",
       "      <td>social media</td>\n",
       "      <td>{\"biogas technology adoption\": {\"CORRELATION\":...</td>\n",
       "      <td>[\"E\"]</td>\n",
       "      <td>Environmental degradation and rapid climate ch...</td>\n",
       "      <td>https://doi.org/10.3390/ijerph17072311</td>\n",
       "      <td>W3013389524</td>\n",
       "    </tr>\n",
       "    <tr>\n",
       "      <th>6939</th>\n",
       "      <td>NaN</td>\n",
       "      <td>social media</td>\n",
       "      <td>{\"social support\": {\"CORRELATION\": \"increasing\"}}</td>\n",
       "      <td>[\"E\"]</td>\n",
       "      <td>Obesity is a complex lifelong disease of exces...</td>\n",
       "      <td>https://doi.org/10.1111/cob.12605</td>\n",
       "      <td>W4379768387</td>\n",
       "    </tr>\n",
       "  </tbody>\n",
       "</table>\n",
       "<p>6940 rows × 7 columns</p>\n",
       "</div>"
      ],
      "text/plain": [
       "                                          GEOGRAPHIC  \\\n",
       "0             Mashhad University of Medical Sciences   \n",
       "1                                      United States   \n",
       "2                                        Puget Sound   \n",
       "3                                                 US   \n",
       "4                                          Indonesia   \n",
       "...                                              ...   \n",
       "6935  Samarinda, East Kalimantan province, Indonesia   \n",
       "6936              Democratic Republic of Congo (DRC)   \n",
       "6937                                        Thailand   \n",
       "6938                                        Pakistan   \n",
       "6939                                             NaN   \n",
       "\n",
       "                                                   ITEM  \\\n",
       "0                                            mass media   \n",
       "1                                             exergames   \n",
       "2                                    telecommunications   \n",
       "3         activewear purchased to be worn as casualwear   \n",
       "4               advanced, automated internet technology   \n",
       "...                                                 ...   \n",
       "6935  IoT-based air pollution monitoring system usin...   \n",
       "6936                       privately funded GSM network   \n",
       "6937           watching television and playing computer   \n",
       "6938                                       social media   \n",
       "6939                                       social media   \n",
       "\n",
       "                                                 FACTOR      SECTOR  \\\n",
       "0     {\"awareness about the benefits of physical act...       [\"E\"]   \n",
       "1     {\"physical activity (PA) in the general popula...  [\"E\", \"J\"]   \n",
       "2     {\"trip generation rates\": {\"CORRELATION\": \"dec...       [\"E\"]   \n",
       "3     {\"intent to purchase activewear\": {\"CORRELATIO...       [\"E\"]   \n",
       "4     {\"robust connectivity\": {\"CORRELATION\": \"incre...       [\"E\"]   \n",
       "...                                                 ...         ...   \n",
       "6935  {\"air quality information accessibility\": {\"CO...       [\"E\"]   \n",
       "6936  {\"mobile telephone coverage\": {\"CORRELATION\": ...       [\"E\"]   \n",
       "6937         {\"obesity\": {\"CORRELATION\": \"increasing\"}}       [\"E\"]   \n",
       "6938  {\"biogas technology adoption\": {\"CORRELATION\":...       [\"E\"]   \n",
       "6939  {\"social support\": {\"CORRELATION\": \"increasing\"}}       [\"E\"]   \n",
       "\n",
       "                                               abstract  \\\n",
       "0     Background and Aim: Health-promoting lifestyle...   \n",
       "1     The number of informal caregivers for family m...   \n",
       "2     Most trip generation models are insensitive to...   \n",
       "3     In recent years, activewear is no longer conta...   \n",
       "4     Abstract The Indonesian government has a goal ...   \n",
       "...                                                 ...   \n",
       "6935  The degradation of air quality in numerous Ind...   \n",
       "6936  The Democratic Republic of Congo (DRC) faces p...   \n",
       "6937  Objective:  To determine the dietary pattern, ...   \n",
       "6938  Environmental degradation and rapid climate ch...   \n",
       "6939  Obesity is a complex lifelong disease of exces...   \n",
       "\n",
       "                                                doi  openalex_id  \n",
       "0           https://doi.org/10.22038/jmrh.2014.2918  W2099730092  \n",
       "1         https://doi.org/10.48550/arxiv.1908.09984  W2970340995  \n",
       "2                   https://doi.org/10.3141/1682-09  W2129598736  \n",
       "3     https://doi.org/10.1080/17543266.2018.1477995  W2805060567  \n",
       "4                 https://doi.org/10.2118/209896-ms  W4290471442  \n",
       "...                                             ...          ...  \n",
       "6935     https://doi.org/10.51967/tanesa.v24i2.2946  W4399888694  \n",
       "6936                                            NaN  W3121765686  \n",
       "6937                                            NaN  W2161121663  \n",
       "6938         https://doi.org/10.3390/ijerph17072311  W3013389524  \n",
       "6939              https://doi.org/10.1111/cob.12605  W4379768387  \n",
       "\n",
       "[6940 rows x 7 columns]"
      ]
     },
     "execution_count": 48,
     "metadata": {},
     "output_type": "execute_result"
    }
   ],
   "source": [
    "# Import data\n",
    "df = pd.read_csv(input_path)\n",
    "df"
   ]
  },
  {
   "cell_type": "code",
   "execution_count": null,
   "metadata": {},
   "outputs": [
    {
     "name": "stdout",
     "output_type": "stream",
     "text": [
      "\"rainfall estimation\"\n",
      "\"rainfall estimation\"\n"
     ]
    },
    {
     "data": {
      "application/vnd.microsoft.datawrangler.viewer.v0+json": {
       "columns": [
        {
         "name": "index",
         "rawType": "int64",
         "type": "integer"
        },
        {
         "name": "index",
         "rawType": "int64",
         "type": "integer"
        },
        {
         "name": "ITEM",
         "rawType": "object",
         "type": "string"
        },
        {
         "name": "FACTOR",
         "rawType": "object",
         "type": "string"
        },
        {
         "name": "doi",
         "rawType": "object",
         "type": "unknown"
        }
       ],
       "ref": "69dd89a8-bd34-4db5-a2c8-5c545a8ac0ec",
       "rows": [
        [
         "0",
         "0",
         "mass media",
         "awareness about the benefits of physical activity",
         "https://doi.org/10.22038/jmrh.2014.2918"
        ],
        [
         "1",
         "1",
         "exergames",
         "physical activity (PA) in the general population",
         "https://doi.org/10.48550/arxiv.1908.09984"
        ],
        [
         "2",
         "1",
         "exergames",
         "PA barriers that AD caregivers face",
         "https://doi.org/10.48550/arxiv.1908.09984"
        ],
        [
         "3",
         "2",
         "telecommunications",
         "trip generation rates",
         "https://doi.org/10.3141/1682-09"
        ],
        [
         "4",
         "3",
         "activewear purchased to be worn as casualwear",
         "intent to purchase activewear",
         "https://doi.org/10.1080/17543266.2018.1477995"
        ],
        [
         "5",
         "3",
         "activewear purchased to be worn as casualwear",
         "attitude towards shopping activewear for casual purpose",
         "https://doi.org/10.1080/17543266.2018.1477995"
        ],
        [
         "6",
         "4",
         "advanced, automated internet technology",
         "robust connectivity",
         "https://doi.org/10.2118/209896-ms"
        ],
        [
         "7",
         "5",
         "smartphones",
         "health care delivery",
         "https://doi.org/10.1080/10410236.2024.2402160"
        ],
        [
         "8",
         "6",
         "augmented reality",
         "preservation of archaeological sites",
         "https://doi.org/10.2478/aup-2023-0012"
        ],
        [
         "9",
         "7",
         "data centres (DCs)",
         "resource utilization",
         "https://doi.org/10.1051/e3sconf/202234906007"
        ],
        [
         "10",
         "7",
         "data centres (DCs)",
         "demand for Critical Raw Materials",
         "https://doi.org/10.1051/e3sconf/202234906007"
        ],
        [
         "11",
         "8",
         "CEDaCI project",
         "sectoral sustainability",
         "https://doi.org/10.1051/e3sconf/202234906007"
        ],
        [
         "12",
         "8",
         "CEDaCI project",
         "circularity in the DCI",
         "https://doi.org/10.1051/e3sconf/202234906007"
        ],
        [
         "13",
         "9",
         "Eco-design guidelines, strategies, and digital tools",
         "product life",
         "https://doi.org/10.1051/e3sconf/202234906007"
        ],
        [
         "14",
         "9",
         "Eco-design guidelines, strategies, and digital tools",
         "recycling",
         "https://doi.org/10.1051/e3sconf/202234906007"
        ],
        [
         "15",
         "9",
         "Eco-design guidelines, strategies, and digital tools",
         "decision-making",
         "https://doi.org/10.1051/e3sconf/202234906007"
        ],
        [
         "16",
         "10",
         "Internet of Things utilization",
         "wind power implementation",
         "https://doi.org/10.54595/jmeb.v4i1.75"
        ],
        [
         "17",
         "11",
         "access to information",
         "right to information",
         "https://doi.org/10.1017/cbo9781139052337.011"
        ],
        [
         "18",
         "12",
         "information technology and networks",
         "global debates on information rights",
         "https://doi.org/10.1017/cbo9781139052337.011"
        ],
        [
         "19",
         "13",
         "demand for pharmaceuticals, IT and telecommunications",
         "changes in habits in the wake of the pandemic",
         "https://doi.org/10.53479/30069"
        ],
        [
         "20",
         "14",
         "social media usage",
         "academic performance",
         "https://doi.org/10.1177/1469787418782817"
        ],
        [
         "21",
         "15",
         "communication facilities",
         "development of the village",
         "https://doi.org/10.54207/bsmps1000-2012-e00txt"
        ],
        [
         "22",
         "16",
         "ICT utilization program",
         "device use anxiety",
         "https://doi.org/10.33790/jrpr1100135"
        ],
        [
         "23",
         "16",
         "ICT utilization program",
         "health-related quality of life",
         "https://doi.org/10.33790/jrpr1100135"
        ],
        [
         "24",
         "16",
         "ICT utilization program",
         "social participation",
         "https://doi.org/10.33790/jrpr1100135"
        ],
        [
         "25",
         "17",
         "information technology growth and innovation in electronic component and data center equipment",
         "demand of data center providing and performance",
         null
        ],
        [
         "26",
         "18",
         "cooling system in data center",
         "power consumption",
         null
        ],
        [
         "27",
         "18",
         "cooling system in data center",
         "heat load density",
         null
        ],
        [
         "28",
         "18",
         "cooling system in data center",
         "energy efficiency",
         null
        ],
        [
         "29",
         "19",
         "improvement in the cooling system of data center",
         "energy efficiency",
         null
        ],
        [
         "30",
         "20",
         "effective cooling inside the equipment",
         "optimization of cooling system",
         null
        ],
        [
         "31",
         "21",
         "digitalisation of societies",
         "data on consumers",
         null
        ],
        [
         "32",
         "22",
         "information communication technology",
         "haze pollution",
         "https://doi.org/10.3390/su12072763"
        ],
        [
         "33",
         "23",
         "digital technologies",
         "human rights",
         null
        ],
        [
         "34",
         "23",
         "digital technologies",
         "rights and freedoms of man and citizen",
         null
        ],
        [
         "35",
         "24",
         "documentation",
         "human rights",
         null
        ],
        [
         "36",
         "25",
         "Shopping Lifestyle",
         "Impulse Buying",
         "https://doi.org/10.4108/eai.3-10-2020.2306591"
        ],
        [
         "37",
         "26",
         "Fashion Involvement",
         "Impulse Buying",
         "https://doi.org/10.4108/eai.3-10-2020.2306591"
        ],
        [
         "38",
         "27",
         "Sales Promotion",
         "Impulse Buying",
         "https://doi.org/10.4108/eai.3-10-2020.2306591"
        ],
        [
         "39",
         "28",
         "common satellite in South Asian Association for Regional Co-operation (SAARC)",
         "weather forecasting",
         null
        ],
        [
         "40",
         "28",
         "common satellite in South Asian Association for Regional Co-operation (SAARC)",
         "disaster risk reduction",
         null
        ],
        [
         "41",
         "28",
         "common satellite in South Asian Association for Regional Co-operation (SAARC)",
         "crop harvest projections",
         null
        ],
        [
         "42",
         "29",
         "new policy framework specific to the application of satellite technologies",
         "real time sharing of regional satellite data",
         null
        ],
        [
         "43",
         "29",
         "new policy framework specific to the application of satellite technologies",
         "disaster risk reduction",
         null
        ],
        [
         "44",
         "30",
         "social media use",
         "internalising symptoms",
         "https://doi.org/10.31234/osf.io/xv76f_v1"
        ],
        [
         "45",
         "31",
         "gaming",
         "internalising symptoms",
         "https://doi.org/10.31234/osf.io/xv76f_v1"
        ],
        [
         "46",
         "31",
         "gaming",
         "social media use",
         "https://doi.org/10.31234/osf.io/xv76f_v1"
        ],
        [
         "47",
         "32",
         "GPS and camera-equipped mobile devices",
         "volunteered information production",
         null
        ],
        [
         "48",
         "33",
         "photogrammetry software or mobile device-based GPS",
         "collection of flood levels automation",
         null
        ],
        [
         "49",
         "34",
         "technology and digitalisation",
         "resource efficiency",
         "https://doi.org/10.2478/ie-2023-0014"
        ]
       ],
       "shape": {
        "columns": 4,
        "rows": 10381
       }
      },
      "text/html": [
       "<div>\n",
       "<style scoped>\n",
       "    .dataframe tbody tr th:only-of-type {\n",
       "        vertical-align: middle;\n",
       "    }\n",
       "\n",
       "    .dataframe tbody tr th {\n",
       "        vertical-align: top;\n",
       "    }\n",
       "\n",
       "    .dataframe thead th {\n",
       "        text-align: right;\n",
       "    }\n",
       "</style>\n",
       "<table border=\"1\" class=\"dataframe\">\n",
       "  <thead>\n",
       "    <tr style=\"text-align: right;\">\n",
       "      <th></th>\n",
       "      <th>index</th>\n",
       "      <th>ITEM</th>\n",
       "      <th>FACTOR</th>\n",
       "      <th>doi</th>\n",
       "    </tr>\n",
       "  </thead>\n",
       "  <tbody>\n",
       "    <tr>\n",
       "      <th>0</th>\n",
       "      <td>0</td>\n",
       "      <td>mass media</td>\n",
       "      <td>awareness about the benefits of physical activity</td>\n",
       "      <td>https://doi.org/10.22038/jmrh.2014.2918</td>\n",
       "    </tr>\n",
       "    <tr>\n",
       "      <th>1</th>\n",
       "      <td>1</td>\n",
       "      <td>exergames</td>\n",
       "      <td>physical activity (PA) in the general population</td>\n",
       "      <td>https://doi.org/10.48550/arxiv.1908.09984</td>\n",
       "    </tr>\n",
       "    <tr>\n",
       "      <th>2</th>\n",
       "      <td>1</td>\n",
       "      <td>exergames</td>\n",
       "      <td>PA barriers that AD caregivers face</td>\n",
       "      <td>https://doi.org/10.48550/arxiv.1908.09984</td>\n",
       "    </tr>\n",
       "    <tr>\n",
       "      <th>3</th>\n",
       "      <td>2</td>\n",
       "      <td>telecommunications</td>\n",
       "      <td>trip generation rates</td>\n",
       "      <td>https://doi.org/10.3141/1682-09</td>\n",
       "    </tr>\n",
       "    <tr>\n",
       "      <th>4</th>\n",
       "      <td>3</td>\n",
       "      <td>activewear purchased to be worn as casualwear</td>\n",
       "      <td>intent to purchase activewear</td>\n",
       "      <td>https://doi.org/10.1080/17543266.2018.1477995</td>\n",
       "    </tr>\n",
       "    <tr>\n",
       "      <th>...</th>\n",
       "      <td>...</td>\n",
       "      <td>...</td>\n",
       "      <td>...</td>\n",
       "      <td>...</td>\n",
       "    </tr>\n",
       "    <tr>\n",
       "      <th>10376</th>\n",
       "      <td>6935</td>\n",
       "      <td>IoT-based air pollution monitoring system usin...</td>\n",
       "      <td>air quality information accessibility</td>\n",
       "      <td>https://doi.org/10.51967/tanesa.v24i2.2946</td>\n",
       "    </tr>\n",
       "    <tr>\n",
       "      <th>10377</th>\n",
       "      <td>6936</td>\n",
       "      <td>privately funded GSM network</td>\n",
       "      <td>mobile telephone coverage</td>\n",
       "      <td>NaN</td>\n",
       "    </tr>\n",
       "    <tr>\n",
       "      <th>10378</th>\n",
       "      <td>6937</td>\n",
       "      <td>watching television and playing computer</td>\n",
       "      <td>obesity</td>\n",
       "      <td>NaN</td>\n",
       "    </tr>\n",
       "    <tr>\n",
       "      <th>10379</th>\n",
       "      <td>6938</td>\n",
       "      <td>social media</td>\n",
       "      <td>biogas technology adoption</td>\n",
       "      <td>https://doi.org/10.3390/ijerph17072311</td>\n",
       "    </tr>\n",
       "    <tr>\n",
       "      <th>10380</th>\n",
       "      <td>6939</td>\n",
       "      <td>social media</td>\n",
       "      <td>social support</td>\n",
       "      <td>https://doi.org/10.1111/cob.12605</td>\n",
       "    </tr>\n",
       "  </tbody>\n",
       "</table>\n",
       "<p>10381 rows × 4 columns</p>\n",
       "</div>"
      ],
      "text/plain": [
       "       index                                               ITEM  \\\n",
       "0          0                                         mass media   \n",
       "1          1                                          exergames   \n",
       "2          1                                          exergames   \n",
       "3          2                                 telecommunications   \n",
       "4          3      activewear purchased to be worn as casualwear   \n",
       "...      ...                                                ...   \n",
       "10376   6935  IoT-based air pollution monitoring system usin...   \n",
       "10377   6936                       privately funded GSM network   \n",
       "10378   6937           watching television and playing computer   \n",
       "10379   6938                                       social media   \n",
       "10380   6939                                       social media   \n",
       "\n",
       "                                                  FACTOR  \\\n",
       "0      awareness about the benefits of physical activity   \n",
       "1       physical activity (PA) in the general population   \n",
       "2                    PA barriers that AD caregivers face   \n",
       "3                                  trip generation rates   \n",
       "4                          intent to purchase activewear   \n",
       "...                                                  ...   \n",
       "10376              air quality information accessibility   \n",
       "10377                          mobile telephone coverage   \n",
       "10378                                            obesity   \n",
       "10379                         biogas technology adoption   \n",
       "10380                                     social support   \n",
       "\n",
       "                                                 doi  \n",
       "0            https://doi.org/10.22038/jmrh.2014.2918  \n",
       "1          https://doi.org/10.48550/arxiv.1908.09984  \n",
       "2          https://doi.org/10.48550/arxiv.1908.09984  \n",
       "3                    https://doi.org/10.3141/1682-09  \n",
       "4      https://doi.org/10.1080/17543266.2018.1477995  \n",
       "...                                              ...  \n",
       "10376     https://doi.org/10.51967/tanesa.v24i2.2946  \n",
       "10377                                            NaN  \n",
       "10378                                            NaN  \n",
       "10379         https://doi.org/10.3390/ijerph17072311  \n",
       "10380              https://doi.org/10.1111/cob.12605  \n",
       "\n",
       "[10381 rows x 4 columns]"
      ]
     },
     "execution_count": 49,
     "metadata": {},
     "output_type": "execute_result"
    }
   ],
   "source": [
    "# Apply the extraction\n",
    "extracted_df = extract_items(df)\n",
    "extracted_df"
   ]
  },
  {
   "cell_type": "markdown",
   "metadata": {},
   "source": [
    "## 3. Cluster with HDBSCAN"
   ]
  },
  {
   "cell_type": "markdown",
   "metadata": {},
   "source": [
    "### a. ITEMS"
   ]
  },
  {
   "cell_type": "code",
   "execution_count": null,
   "metadata": {},
   "outputs": [
    {
     "data": {
      "application/vnd.microsoft.datawrangler.viewer.v0+json": {
       "columns": [
        {
         "name": "index",
         "rawType": "int64",
         "type": "integer"
        },
        {
         "name": "ITEM",
         "rawType": "object",
         "type": "string"
        }
       ],
       "ref": "8a306389-64d4-4b63-89fa-32f3a51e6e3a",
       "rows": [
        [
         "0",
         "mass media"
        ],
        [
         "1",
         "exergames"
        ],
        [
         "3",
         "telecommunications"
        ],
        [
         "4",
         "activewear purchased to be worn as casualwear"
        ],
        [
         "6",
         "advanced, automated internet technology"
        ],
        [
         "7",
         "smartphones"
        ],
        [
         "8",
         "augmented reality"
        ],
        [
         "9",
         "data centres (DCs)"
        ],
        [
         "11",
         "CEDaCI project"
        ],
        [
         "13",
         "Eco-design guidelines, strategies, and digital tools"
        ],
        [
         "16",
         "Internet of Things utilization"
        ],
        [
         "17",
         "access to information"
        ],
        [
         "18",
         "information technology and networks"
        ],
        [
         "19",
         "demand for pharmaceuticals, IT and telecommunications"
        ],
        [
         "20",
         "social media usage"
        ],
        [
         "21",
         "communication facilities"
        ],
        [
         "22",
         "ICT utilization program"
        ],
        [
         "25",
         "information technology growth and innovation in electronic component and data center equipment"
        ],
        [
         "26",
         "cooling system in data center"
        ],
        [
         "29",
         "improvement in the cooling system of data center"
        ],
        [
         "30",
         "effective cooling inside the equipment"
        ],
        [
         "31",
         "digitalisation of societies"
        ],
        [
         "32",
         "information communication technology"
        ],
        [
         "33",
         "digital technologies"
        ],
        [
         "35",
         "documentation"
        ],
        [
         "36",
         "Shopping Lifestyle"
        ],
        [
         "37",
         "Fashion Involvement"
        ],
        [
         "38",
         "Sales Promotion"
        ],
        [
         "39",
         "common satellite in South Asian Association for Regional Co-operation (SAARC)"
        ],
        [
         "42",
         "new policy framework specific to the application of satellite technologies"
        ],
        [
         "44",
         "social media use"
        ],
        [
         "45",
         "gaming"
        ],
        [
         "47",
         "GPS and camera-equipped mobile devices"
        ],
        [
         "48",
         "photogrammetry software or mobile device-based GPS"
        ],
        [
         "49",
         "technology and digitalisation"
        ],
        [
         "51",
         "mass media campaigns"
        ],
        [
         "52",
         "regulating food and beverage advertising particularly for children"
        ],
        [
         "53",
         "information and communication technologies (ICTs)"
        ],
        [
         "56",
         "Internet and mobile phones"
        ],
        [
         "58",
         "ICT policies favoring human rights"
        ],
        [
         "60",
         "custom smartphone application"
        ],
        [
         "61",
         "activity monitor"
        ],
        [
         "62",
         "cloud radio access network (C-RAN) architecture"
        ],
        [
         "63",
         "screen time use"
        ],
        [
         "64",
         "limiting the use of electronic devices before bedtime"
        ],
        [
         "65",
         "raising awareness by global mass media"
        ],
        [
         "66",
         "role of mass media in fostering public awareness"
        ],
        [
         "67",
         "media campaigns and branding"
        ],
        [
         "68",
         "information and communications technology (ICT) infrastructures"
        ],
        [
         "70",
         "technological advances (e.g. big data and IoT)"
        ]
       ],
       "shape": {
        "columns": 1,
        "rows": 6890
       }
      },
      "text/plain": [
       "0                                               mass media\n",
       "1                                                exergames\n",
       "3                                       telecommunications\n",
       "4            activewear purchased to be worn as casualwear\n",
       "6                  advanced, automated internet technology\n",
       "                               ...                        \n",
       "10376    IoT-based air pollution monitoring system usin...\n",
       "10377                         privately funded GSM network\n",
       "10378             watching television and playing computer\n",
       "10379                                         social media\n",
       "10380                                         social media\n",
       "Name: ITEM, Length: 6890, dtype: object"
      ]
     },
     "execution_count": 50,
     "metadata": {},
     "output_type": "execute_result"
    }
   ],
   "source": [
    "preprocessed_items = extracted_df[['index', 'ITEM']].drop_duplicates(subset='index')['ITEM']\n",
    "preprocessed_items"
   ]
  },
  {
   "cell_type": "code",
   "execution_count": null,
   "metadata": {},
   "outputs": [],
   "source": [
    "corpus_list_items, corpus_embeddings_items = clusterize.get_embeddings(preprocessed_items)"
   ]
  },
  {
   "cell_type": "code",
   "execution_count": null,
   "metadata": {},
   "outputs": [
    {
     "name": "stderr",
     "output_type": "stream",
     "text": [
      "/home/thomas/.pyenv/versions/lewagon-decision-science/lib/python3.12/site-packages/umap/umap_.py:1952: UserWarning: n_jobs value 1 overridden to 1 by setting random_state. Use no seed for parallelism.\n",
      "  warn(\n"
     ]
    },
    {
     "name": "stdout",
     "output_type": "stream",
     "text": [
      "Number of clusters found: 33\n"
     ]
    }
   ],
   "source": [
    "params = {\n",
    "    'umap_n_neighbors': 30,\n",
    "    'umap_min_dist': 0.1,\n",
    "    'umap_n_components': 30,\n",
    "    'hdbscan_min_cluster_size': 70,\n",
    "    'hdbscan_min_samples': 10,\n",
    "    'hdbscan_cluster_selection_epsilon': 0.0,\n",
    "    'hdbscan_max_cluster_size': None\n",
    "}\n",
    "\n",
    "hdbscan_model, cluster_assignment, clustered_sentences, noise, reduced_embeddings_items = clusterize.clusterize(\n",
    "                            corpus_list_items, corpus_embeddings_items,\n",
    "                            params,\n",
    "                            print_clusters=False)"
   ]
  },
  {
   "cell_type": "code",
   "execution_count": null,
   "metadata": {},
   "outputs": [
    {
     "name": "stdout",
     "output_type": "stream",
     "text": [
      "total number of items: 6890, \n",
      "items classified as noise: 1542, \n",
      "percentage of noise: 22.38\n"
     ]
    }
   ],
   "source": [
    "results = {\n",
    "    'items_total': len(cluster_assignment),\n",
    "    'items_noise': len(noise),\n",
    "    'noise_pct': round(len(noise)/len(cluster_assignment) * 100, 2)\n",
    "}\n",
    "\n",
    "print(f'total number of items: {results['items_total']}, \\nitems classified as noise: {results['items_noise']}, \\npercentage of noise: {results['noise_pct']}')"
   ]
  },
  {
   "cell_type": "code",
   "execution_count": null,
   "metadata": {},
   "outputs": [
    {
     "data": {
      "application/vnd.microsoft.datawrangler.viewer.v0+json": {
       "columns": [
        {
         "name": "index",
         "rawType": "int64",
         "type": "integer"
        },
        {
         "name": "Cluster Number",
         "rawType": "int64",
         "type": "integer"
        },
        {
         "name": "Number of Sentences",
         "rawType": "int64",
         "type": "integer"
        },
        {
         "name": "Sample Sentences",
         "rawType": "object",
         "type": "string"
        }
       ],
       "ref": "f1763247-9870-420d-be0a-0e66890dfb43",
       "rows": [
        [
         "0",
         "1",
         "58",
         "limit Facebook, Instagram and Snapchat use to 10 minutes, per platform, per day; social media use; use of social media for dissemination; application of social media; use social media as usual; Twitter use; screen-time and social media use; reduced social media use (SMU); health-related social media use; social media volume usage; social media users intensity; Machine-to-Machine (M2M) technology and social media networks Twitter; posting about feelings and venting on social media; positive social media use; activities on the internet (e.g., gambling, video gaming, social media use, pornography use, etc.)"
        ],
        [
         "1",
         "2",
         "23",
         "number of Internet users; internet dependency; using the internet; moderate and regular internet use frequency; internet use daily; beliefs about the Internet; non-use of the internet; daily internet usage; use of the internet; computer and internet; internet data usage; level of Internet use; internet activity facilitating self-management; daily internet use; internet use"
        ],
        [
         "2",
         "3",
         "40",
         "advanced information and communication technologies; modern information and communication technology (ICT); Information and Communication Technology (ICT) development; information and communication technology (ICT) services; ICT-communication network; Information and Communications Technology (ICT); information and communications technologies (ICTs); information and communication technologies (ICT) applications; information and communication technologies (ICT); ICT (information, communications and technology); Information communication technology (ICT); advancement of information and communication technology (ICT); information communications technology (ICT); Information and Communication Technology (ICT); Information and Communication Technology (ICT) systems"
        ],
        [
         "3",
         "4",
         "56",
         "Internet of Things cloud server; Internet of Things implementation; IoT; Internet of Things (IoT) and Cloud Database; IoT-based cage; Internet of Things (IoT) based Solution; smart Internet of Things (IoT) devices; internet of things (IoT); IoT-HUB technology; Internet-of-Things; low-cost IoT (internet of things) system for real-time monitoring; Internet of Things (IoT) capability; Internet of Things (IoT) technologies; Internet of things (IoT) technology; Intemet of Things (IoT) monitoring system"
        ],
        [
         "4",
         "5",
         "23",
         "Digitalization; digitalisation of data; digital transformation; shift the business to digital; regional digitalization; massive digitalization; digitalisation of societies; digitization and digital technologies; digitization; digitalization of maritime industry; digital spaces appropriation; digitization including diffusion of robots and artificial intelligence (AI); digitalisation and penetration of information and communication technologies; transforming research libraries; digital business penetration (DBP)"
        ],
        [
         "5",
         "6",
         "27",
         "social digital media; Chinese lifestyle migration; the Internet; Observing others' Instagram profiles; Social Media Instagram; Instagram social media; luxurious lifestyle content shared by influencers on Xiaohongshu; the Internet and the World Wide Web; Instagram posts showing luxurious lifestyles; instagram online store; wiki site; Instagram postings of Blair Imani; websites; Instagram; searching online"
        ],
        [
         "6",
         "7",
         "53",
         "Big Data; digital town hall; open data sources including city services; cloud application; Cloud Computing; cloud technology; cloud-RAN; smarter technology, cloud based services, and on-demand content; big data use; propensity to embrace smart city lifestyles; federated Cloud ecosystems; digital city; Big Data predictions about population movements; big data analytics; management and control method of air-conditioning based on cloud platform"
        ],
        [
         "7",
         "8",
         "91",
         "state instrumental use of digital sovereignty; developing digital tools; digital technologies; digital consumption; program to inform readers; digital economy development; digital technologies in trade; digital financial inclusion; digital technology domestication and usage; digital technology; digital hoarding; design of digital interactive technology; strategy for the development of the economy and digital society; digital information technology use; use of digital and information technology"
        ],
        [
         "8",
         "9",
         "68",
         "development of solar powered solutions for thermal management of remote equipment enclosures; cooling infrastructure and operation of the data centre; advanced technologies on cooling systems and servers; energy efficient cooling technologies (e.g. dew point cooling); air cooling; computer room air handler (CRAH) supply temperature; raising temperatures in computer rooms; optimization of cooling cycle; Free Cooling and Combo Cooling systems; re-appraisal of need for coolant heating systems on diesel generators; indirect air-side economizer (IASE); energy efficient and cost effective cooling strategy; techniques to reuse and reduce water in the data center; cooling technologies, architectural design, renewable energy sourcing, and hardware efficiency; waste-heat recovery for district heating systems"
        ],
        [
         "9",
         "10",
         "47",
         "energy-efficient architecture for cloud and fog computing environment integration; power models for modern data centers; high density, mission-critical datacenters; data centers and transmission networks; clean-by-design data center architecture; low-power scheduling strategy for typical data center applications; shifting of cloud data centers to NEOM; artificial intelligence (AI) data centers; development of data centres to support the AI ecosystem; electricity consumed by Internet data centers (IDCs); high power density data centres; IT hardware and data center infrastructure; data center computing; joint expansion planning framework of IDC and distribution network; modular data center"
        ],
        [
         "10",
         "11",
         "122",
         "capital investment in ICTs at the workplace; widespread use of Information and communication technology (ICTs) to balance demand and supply (e.g. smart grids); schools’ support in teachers’ capacity to integrate technology in teaching; investment in information and communication technology (ICT); useful information technologies; pluralistic approach to ICT provision; ICT platform; digital infrastructure development; ICT products tariff reduction; investment in the ESM technology; investment in information resources and information industries; information technology adoption; preferences for adopting information technology; social investment by the state for ICTs investments in workplaces; production, use and diffusion of information and communication technology (ICT)"
        ],
        [
         "11",
         "12",
         "232",
         "relationship quality; occurrence of online events; cyber harassment experiences; associations with NGO networks; coalition lobbying and social capital; use of technologies to promote social contact; social networking sites use; proprietization of social interactions data; multimodal resources and social networking; educational media programs using social-media; posting fitness activities on social media; collaborative initiatives; virtual community; online communication anxiety; virtual meetings"
        ],
        [
         "12",
         "13",
         "38",
         "mobile telephone; text messaging (short message service, SMS); Short Message Service (SMS) via mobile phone; machine to machine protocol (MQTT) to external health & well-being services; personalized text messages; SMS/text messaging from mobile phones; WhatsApp for learning; eHealth components; email; instant messaging; mobile phone messaging; downloading mobile phone ringtones; Telegram notification; E-mail or telephone coaching; one-way text messaging intervention"
        ],
        [
         "13",
         "14",
         "57",
         "trans-boundary movement of second-hand electronic equipment; communication and awareness about EVs; Raspberry Pi; increased use of gadgets; technology anxiety; excessive use of technology among adolescents; hardware; miniaturisation of the devices; high use of electronic devices; semiconductor chips of the complementary metal oxide semiconductor (CMOS) transistor structure; home computer; use of electronic media and telecommunication gadgets; home use of electronic devices; use of electronic devices; unlimited use of technologies"
        ],
        [
         "14",
         "15",
         "103",
         "technological optimism; Technological factors; technology use, specifically internet use; responsible use of technology; use of technology; Critical Engineering; technologies which facilitate time saving and shifting; extent of use; technological interaction; access to technology and devices; IT use; technology and innovation; technological advancements; transfer of technology; technological revolution"
        ],
        [
         "15",
         "16",
         "63",
         "food delivery apps; mhealth and sport market products; ban on fast-food restaurant advertisements; advertising disclosure; taste pursuit-type dietary lifestyle; supplemental food frequency questionnaire (SFFQ); advertising strategies on public transportation; maintenance of meal quality and hygiene; social media advertising; food photography in Instagram media; regulating food and beverage advertising particularly for children; online food delivery services (OFDS); online fresh food platforms; online food delivery (OFD) service quality; additive‐free claims on packages"
        ],
        [
         "16",
         "17",
         "63",
         "smart systems; Wireless Sensor Networks (WSNs); sensors and smart devices; intelligent sensors; communication, Information Technology, Intelligent Algorithms and Advanced Metering Infrastructure; smart meters deployment; Smart Home device; Metal oxide semiconductor (MOX) gas sensors; Energy harvesting sensor; multisensory system on board of a commercial small drone; sensors and monitoring system; automated irrigation system; camera sensor network (CSN); Online POTable water quality monitoring NETwork (POTNET); building automation systems"
        ],
        [
         "17",
         "18",
         "54",
         "video gaming; doomscrolling; video game; active video games and motor games; video game consoles in children's bedrooms; serious video games; Ludo Star game addiction; video games; gaming; internet game dependency; game console use; videogames in the bedroom; internet gaming disorder (IGD); computer and console games, as well as TV programs; game online addiction"
        ],
        [
         "18",
         "19",
         "170",
         "mobile based technologies; smartphone use and internet browsing; mobile money adoption; Mobile usage; Android application for smartphones; mobile phone usage; website delivered by a smartphone; mobility; Java programming language, Firebase, and Arduino software; cell phone use; Zoom software; smartphone application; longer mobile phone use time; mobile technology sharing; smart phones"
        ],
        [
         "19",
         "20",
         "44",
         "health apps; mobile health (mHealth); mHealth app for smartphones; ¡Hola Bebe, Adios Diabetes! app; interactive activity design; mobile health applications; activity monitor; health-related Apps; health enhancement app usage; mobile health literacy (mHL); exercise mobile apps; Wellness Wave; Fitbits; activity monitor with sitting reminders; Fitbit© tracker"
        ],
        [
         "20",
         "21",
         "97",
         "digital technology interventions; online lifestyle; manually reporting lifestyle and well-being data; internet use in seeking healthy lifestyle behavior (HLB) information on diet and exercise; wellbeing supportive design; online nutrition education; construction of a multi-dimensional indicator system for the well-being of rural residents; prevention-focus; Internet interventions; fitness culture; web-based lifestyle support tools; network lifestyle; healthy internet activity; use of information and communication technology (ICT) for a health-promoting lifestyle behaviour programme; cyber wellness"
        ],
        [
         "21",
         "22",
         "166",
         "digital media consumption; toluene exposure; provision of information from social media and mass media; electronic media use; responsible reporting on suicides; digital content; Media and Information Literacy (MIL) policies; media discourse on single-use plastic; mass media; digital resources; media exposure through images of Korean female model; attention to mass media; multimedia content consumption; print media; access to media"
        ],
        [
         "22",
         "23",
         "46",
         "green mobile application (Thrifteal); technology development in green communications; Green procurement; green IoT; green electrical appliances; green IT education; green lifestyle promotion; flexible service level agreements in Green IT; Green IoT; green radio network planning approach; green marketing strategies; green networking collaboration among competitive mobile operators; Green Button API; green networks; Green IT"
        ],
        [
         "23",
         "24",
         "269",
         "better telecommunication services; aggregator agents; Fifth Generation (5G) wireless networks; Deployment of Infrastructure of Telecommunications; local area network; 5G traffic demand; 5G base stations deployment; right RAN architecture; 5G mobile networks; better mobile connectivity; communication base station backup power supply; LPWAN LoRa for data transmission; predictive modeling approach for base station energy consumption; public address systems; software defined networking (SDN) paradigm"
        ],
        [
         "24",
         "25",
         "82",
         "time on the Internet / social networks and at TV screens; videoconference technology; watching television and/or using the computer; watching time of TV; watching videos/livestreams concerning pets; television viewing; family-life television content; TV viewing time; improving the quality of YouTube travel contents; smart TV; video streaming; number of televisions; larger television screens; watching television; video processing and streaming"
        ],
        [
         "25",
         "26",
         "47",
         "increased screen usage; increased use of screens for work, education and recreation; Internet screen time; screen time and mobile phone use; pervasive use of television and video devices; use of computers and television; hourly digital screen time; screen use; excessive screen time; Screenomics paradigm; high screen time; screen time use; screen media access; electronic screen exposure time; use of technological screens"
        ],
        [
         "26",
         "27",
         "464",
         "needs fitting; propensity to act; on-line shopping; gaming avatars; inertia behavior; complex approaches (FLAASH, ATCOR, 6S); cultural proximity; hedonistic and consumptive lifestyles; multi-brand stores; shopping values; civil society as translator; coping strategies; corporate image; overall compensation benefits and pay; persuasive strategies"
        ],
        [
         "27",
         "28",
         "52",
         "Web service-oriented, open platform; modern cartographic web atlas; web-based, interactive internet mapping system; advanced, automated internet technology; web-based system for visualizing multimodal accessibility; Web Application; Web-GIS applications; wireless technology in conjunction with a website platform; more rapid development of online applications; web-based system; create a website to introduce the maritime region; self-service technology (SST); online interactive maps; internet-based technologies; website development"
        ],
        [
         "28",
         "29",
         "89",
         "hourly meteorological data; radiance threshold class; Satellite remote sensing; Sentinel-3 radar altimeter; web page for daily ragweed pollen concentration data; system of information to charts of environmental sensitivity to oil; remote sensing images from satellites; DMSP/OLS nighttime light data; field collected meteorological data; low-cost multispectral sensors; nighttime satellite data; remote sensing; satellite datasets; Sentinel-1 (S-1) Synthetic Aperture Radar (SAR) satellite; optical satellite imagery"
        ],
        [
         "29",
         "30",
         "153",
         "reduce their maximum transmit powers to a minimum; energy map; intelligent system for energy managing; energy efficiency standards; holistic approach integrating renewable supply, dynamic pricing, and cooling supply with IT workload planning; network resource management schemes; schedule controller; resource availability; improve the energy efficiency in the operation; resource allocation; distributed energy provision; demand flexibility in electricity markets; power consumption simulator; conventional energy; local energy communities with information from the real-time market"
        ],
        [
         "30",
         "31",
         "56",
         "Space Solar Power/SPS; novel scheme to provide reliable power to BSs that combines wind and solar photovoltaic (PV) generation with the assistance of an energy storage technology; electricity mix; hybrid solar PV/WT/BG system; modification of battery maintenance practices and equipment commissioning practices to limit maximum demand; diesel generators; ICT embedded renewable energy storage system; solar energy system; microwave power generation; battery systems in telecommunications base stations; 5G communication site backup battery; renewable energy generation; fuel cell in a renewable energy hybrid system; biofuel and renewable energy sources; Alternate energy sources"
        ],
        [
         "31",
         "32",
         "87",
         "fade mitigation techniques; unauthorized use of identity information; information and communication approach; Commerce and Communication; information confusion; information navigation skills; documentation; immediate publication of all available information from all sources; information-seeking; immediate publication of all available information from all sources in understandable form through all means; passing the information to neighborhoods; information subsidies; surveillance technologies; access to information and communications; information risk cross-space propagation model"
        ],
        [
         "32",
         "33",
         "86",
         "improved LSTM model; creating centralized databases for effective management; data-modeling; national databases; support vector machine based forecasting model; discriminatory algorithms; integrated study on DMSP/OLS data and other data models; 0-1 nonlinear integer programming routing adjustment model; data analytics; data management; KNN (K Nearest Neighbor) classification machine learning algorithm; automated decision-making in immigration and refugee applications; sentiment analysis; application of specific interpretation algorithms; predictive models for the three coefficients"
        ]
       ],
       "shape": {
        "columns": 3,
        "rows": 33
       }
      },
      "text/html": [
       "<div>\n",
       "<style scoped>\n",
       "    .dataframe tbody tr th:only-of-type {\n",
       "        vertical-align: middle;\n",
       "    }\n",
       "\n",
       "    .dataframe tbody tr th {\n",
       "        vertical-align: top;\n",
       "    }\n",
       "\n",
       "    .dataframe thead th {\n",
       "        text-align: right;\n",
       "    }\n",
       "</style>\n",
       "<table border=\"1\" class=\"dataframe\">\n",
       "  <thead>\n",
       "    <tr style=\"text-align: right;\">\n",
       "      <th></th>\n",
       "      <th>Cluster Number</th>\n",
       "      <th>Number of Sentences</th>\n",
       "      <th>Sample Sentences</th>\n",
       "    </tr>\n",
       "  </thead>\n",
       "  <tbody>\n",
       "    <tr>\n",
       "      <th>0</th>\n",
       "      <td>1</td>\n",
       "      <td>58</td>\n",
       "      <td>limit Facebook, Instagram and Snapchat use to ...</td>\n",
       "    </tr>\n",
       "    <tr>\n",
       "      <th>1</th>\n",
       "      <td>2</td>\n",
       "      <td>23</td>\n",
       "      <td>number of Internet users; internet dependency;...</td>\n",
       "    </tr>\n",
       "    <tr>\n",
       "      <th>2</th>\n",
       "      <td>3</td>\n",
       "      <td>40</td>\n",
       "      <td>advanced information and communication technol...</td>\n",
       "    </tr>\n",
       "    <tr>\n",
       "      <th>3</th>\n",
       "      <td>4</td>\n",
       "      <td>56</td>\n",
       "      <td>Internet of Things cloud server; Internet of T...</td>\n",
       "    </tr>\n",
       "    <tr>\n",
       "      <th>4</th>\n",
       "      <td>5</td>\n",
       "      <td>23</td>\n",
       "      <td>Digitalization; digitalisation of data; digita...</td>\n",
       "    </tr>\n",
       "    <tr>\n",
       "      <th>5</th>\n",
       "      <td>6</td>\n",
       "      <td>27</td>\n",
       "      <td>social digital media; Chinese lifestyle migrat...</td>\n",
       "    </tr>\n",
       "    <tr>\n",
       "      <th>6</th>\n",
       "      <td>7</td>\n",
       "      <td>53</td>\n",
       "      <td>Big Data; digital town hall; open data sources...</td>\n",
       "    </tr>\n",
       "    <tr>\n",
       "      <th>7</th>\n",
       "      <td>8</td>\n",
       "      <td>91</td>\n",
       "      <td>state instrumental use of digital sovereignty;...</td>\n",
       "    </tr>\n",
       "    <tr>\n",
       "      <th>8</th>\n",
       "      <td>9</td>\n",
       "      <td>68</td>\n",
       "      <td>development of solar powered solutions for the...</td>\n",
       "    </tr>\n",
       "    <tr>\n",
       "      <th>9</th>\n",
       "      <td>10</td>\n",
       "      <td>47</td>\n",
       "      <td>energy-efficient architecture for cloud and fo...</td>\n",
       "    </tr>\n",
       "    <tr>\n",
       "      <th>10</th>\n",
       "      <td>11</td>\n",
       "      <td>122</td>\n",
       "      <td>capital investment in ICTs at the workplace; w...</td>\n",
       "    </tr>\n",
       "    <tr>\n",
       "      <th>11</th>\n",
       "      <td>12</td>\n",
       "      <td>232</td>\n",
       "      <td>relationship quality; occurrence of online eve...</td>\n",
       "    </tr>\n",
       "    <tr>\n",
       "      <th>12</th>\n",
       "      <td>13</td>\n",
       "      <td>38</td>\n",
       "      <td>mobile telephone; text messaging (short messag...</td>\n",
       "    </tr>\n",
       "    <tr>\n",
       "      <th>13</th>\n",
       "      <td>14</td>\n",
       "      <td>57</td>\n",
       "      <td>trans-boundary movement of second-hand electro...</td>\n",
       "    </tr>\n",
       "    <tr>\n",
       "      <th>14</th>\n",
       "      <td>15</td>\n",
       "      <td>103</td>\n",
       "      <td>technological optimism; Technological factors;...</td>\n",
       "    </tr>\n",
       "    <tr>\n",
       "      <th>15</th>\n",
       "      <td>16</td>\n",
       "      <td>63</td>\n",
       "      <td>food delivery apps; mhealth and sport market p...</td>\n",
       "    </tr>\n",
       "    <tr>\n",
       "      <th>16</th>\n",
       "      <td>17</td>\n",
       "      <td>63</td>\n",
       "      <td>smart systems; Wireless Sensor Networks (WSNs)...</td>\n",
       "    </tr>\n",
       "    <tr>\n",
       "      <th>17</th>\n",
       "      <td>18</td>\n",
       "      <td>54</td>\n",
       "      <td>video gaming; doomscrolling; video game; activ...</td>\n",
       "    </tr>\n",
       "    <tr>\n",
       "      <th>18</th>\n",
       "      <td>19</td>\n",
       "      <td>170</td>\n",
       "      <td>mobile based technologies; smartphone use and ...</td>\n",
       "    </tr>\n",
       "    <tr>\n",
       "      <th>19</th>\n",
       "      <td>20</td>\n",
       "      <td>44</td>\n",
       "      <td>health apps; mobile health (mHealth); mHealth ...</td>\n",
       "    </tr>\n",
       "    <tr>\n",
       "      <th>20</th>\n",
       "      <td>21</td>\n",
       "      <td>97</td>\n",
       "      <td>digital technology interventions; online lifes...</td>\n",
       "    </tr>\n",
       "    <tr>\n",
       "      <th>21</th>\n",
       "      <td>22</td>\n",
       "      <td>166</td>\n",
       "      <td>digital media consumption; toluene exposure; p...</td>\n",
       "    </tr>\n",
       "    <tr>\n",
       "      <th>22</th>\n",
       "      <td>23</td>\n",
       "      <td>46</td>\n",
       "      <td>green mobile application (Thrifteal); technolo...</td>\n",
       "    </tr>\n",
       "    <tr>\n",
       "      <th>23</th>\n",
       "      <td>24</td>\n",
       "      <td>269</td>\n",
       "      <td>better telecommunication services; aggregator ...</td>\n",
       "    </tr>\n",
       "    <tr>\n",
       "      <th>24</th>\n",
       "      <td>25</td>\n",
       "      <td>82</td>\n",
       "      <td>time on the Internet / social networks and at ...</td>\n",
       "    </tr>\n",
       "    <tr>\n",
       "      <th>25</th>\n",
       "      <td>26</td>\n",
       "      <td>47</td>\n",
       "      <td>increased screen usage; increased use of scree...</td>\n",
       "    </tr>\n",
       "    <tr>\n",
       "      <th>26</th>\n",
       "      <td>27</td>\n",
       "      <td>464</td>\n",
       "      <td>needs fitting; propensity to act; on-line shop...</td>\n",
       "    </tr>\n",
       "    <tr>\n",
       "      <th>27</th>\n",
       "      <td>28</td>\n",
       "      <td>52</td>\n",
       "      <td>Web service-oriented, open platform; modern ca...</td>\n",
       "    </tr>\n",
       "    <tr>\n",
       "      <th>28</th>\n",
       "      <td>29</td>\n",
       "      <td>89</td>\n",
       "      <td>hourly meteorological data; radiance threshold...</td>\n",
       "    </tr>\n",
       "    <tr>\n",
       "      <th>29</th>\n",
       "      <td>30</td>\n",
       "      <td>153</td>\n",
       "      <td>reduce their maximum transmit powers to a mini...</td>\n",
       "    </tr>\n",
       "    <tr>\n",
       "      <th>30</th>\n",
       "      <td>31</td>\n",
       "      <td>56</td>\n",
       "      <td>Space Solar Power/SPS; novel scheme to provide...</td>\n",
       "    </tr>\n",
       "    <tr>\n",
       "      <th>31</th>\n",
       "      <td>32</td>\n",
       "      <td>87</td>\n",
       "      <td>fade mitigation techniques; unauthorized use o...</td>\n",
       "    </tr>\n",
       "    <tr>\n",
       "      <th>32</th>\n",
       "      <td>33</td>\n",
       "      <td>86</td>\n",
       "      <td>improved LSTM model; creating centralized data...</td>\n",
       "    </tr>\n",
       "  </tbody>\n",
       "</table>\n",
       "</div>"
      ],
      "text/plain": [
       "    Cluster Number  Number of Sentences  \\\n",
       "0                1                   58   \n",
       "1                2                   23   \n",
       "2                3                   40   \n",
       "3                4                   56   \n",
       "4                5                   23   \n",
       "5                6                   27   \n",
       "6                7                   53   \n",
       "7                8                   91   \n",
       "8                9                   68   \n",
       "9               10                   47   \n",
       "10              11                  122   \n",
       "11              12                  232   \n",
       "12              13                   38   \n",
       "13              14                   57   \n",
       "14              15                  103   \n",
       "15              16                   63   \n",
       "16              17                   63   \n",
       "17              18                   54   \n",
       "18              19                  170   \n",
       "19              20                   44   \n",
       "20              21                   97   \n",
       "21              22                  166   \n",
       "22              23                   46   \n",
       "23              24                  269   \n",
       "24              25                   82   \n",
       "25              26                   47   \n",
       "26              27                  464   \n",
       "27              28                   52   \n",
       "28              29                   89   \n",
       "29              30                  153   \n",
       "30              31                   56   \n",
       "31              32                   87   \n",
       "32              33                   86   \n",
       "\n",
       "                                     Sample Sentences  \n",
       "0   limit Facebook, Instagram and Snapchat use to ...  \n",
       "1   number of Internet users; internet dependency;...  \n",
       "2   advanced information and communication technol...  \n",
       "3   Internet of Things cloud server; Internet of T...  \n",
       "4   Digitalization; digitalisation of data; digita...  \n",
       "5   social digital media; Chinese lifestyle migrat...  \n",
       "6   Big Data; digital town hall; open data sources...  \n",
       "7   state instrumental use of digital sovereignty;...  \n",
       "8   development of solar powered solutions for the...  \n",
       "9   energy-efficient architecture for cloud and fo...  \n",
       "10  capital investment in ICTs at the workplace; w...  \n",
       "11  relationship quality; occurrence of online eve...  \n",
       "12  mobile telephone; text messaging (short messag...  \n",
       "13  trans-boundary movement of second-hand electro...  \n",
       "14  technological optimism; Technological factors;...  \n",
       "15  food delivery apps; mhealth and sport market p...  \n",
       "16  smart systems; Wireless Sensor Networks (WSNs)...  \n",
       "17  video gaming; doomscrolling; video game; activ...  \n",
       "18  mobile based technologies; smartphone use and ...  \n",
       "19  health apps; mobile health (mHealth); mHealth ...  \n",
       "20  digital technology interventions; online lifes...  \n",
       "21  digital media consumption; toluene exposure; p...  \n",
       "22  green mobile application (Thrifteal); technolo...  \n",
       "23  better telecommunication services; aggregator ...  \n",
       "24  time on the Internet / social networks and at ...  \n",
       "25  increased screen usage; increased use of scree...  \n",
       "26  needs fitting; propensity to act; on-line shop...  \n",
       "27  Web service-oriented, open platform; modern ca...  \n",
       "28  hourly meteorological data; radiance threshold...  \n",
       "29  reduce their maximum transmit powers to a mini...  \n",
       "30  Space Solar Power/SPS; novel scheme to provide...  \n",
       "31  fade mitigation techniques; unauthorized use o...  \n",
       "32  improved LSTM model; creating centralized data...  "
      ]
     },
     "execution_count": 54,
     "metadata": {},
     "output_type": "execute_result"
    }
   ],
   "source": [
    "cluster_summary_df = clusterize.get_cluster_summary(clustered_sentences)\n",
    "cluster_summary_df"
   ]
  },
  {
   "cell_type": "code",
   "execution_count": null,
   "metadata": {},
   "outputs": [
    {
     "data": {
      "application/vnd.microsoft.datawrangler.viewer.v0+json": {
       "columns": [
        {
         "name": "index",
         "rawType": "int64",
         "type": "integer"
        },
        {
         "name": "samples",
         "rawType": "object",
         "type": "string"
        }
       ],
       "ref": "962e64eb-a8d1-4275-a324-41cb6a6f3118",
       "rows": [
        [
         "0",
         "touch simulation"
        ],
        [
         "1",
         "use of computers"
        ],
        [
         "2",
         "automated computer shutdown program"
        ],
        [
         "3",
         "app for recording data"
        ],
        [
         "4",
         "digital language inclusivity"
        ],
        [
         "5",
         "smartphone addiction"
        ],
        [
         "6",
         "sliding mode control model"
        ],
        [
         "7",
         "economizers use in data centers"
        ],
        [
         "8",
         "system operation"
        ],
        [
         "9",
         "AI in demand forecasting"
        ],
        [
         "10",
         "increasing traffic demand and number of RBSs"
        ],
        [
         "11",
         "Techno-Overload"
        ],
        [
         "12",
         "gadget addiction in children"
        ],
        [
         "13",
         "strengthen the communication"
        ],
        [
         "14",
         "data-driven resilience"
        ],
        [
         "15",
         "information technology"
        ],
        [
         "16",
         "content moderation in online platforms"
        ],
        [
         "17",
         "flagging mechanisms on social media platforms"
        ],
        [
         "18",
         "Demand Response (DR) schemes"
        ],
        [
         "19",
         "Social networking services (SNSs)"
        ],
        [
         "20",
         "smartphone navigation data"
        ],
        [
         "21",
         "e-lifestyle"
        ],
        [
         "22",
         "TikTok marketing content"
        ],
        [
         "23",
         "Demand side management"
        ],
        [
         "24",
         "e-lifestyle"
        ],
        [
         "25",
         "Internet addiction"
        ],
        [
         "26",
         "transition from traditional grid to smart grid"
        ],
        [
         "27",
         "information and communication services (IACS)"
        ],
        [
         "28",
         "Facilitating Conditions (FC)"
        ],
        [
         "29",
         "online content moderation"
        ],
        [
         "30",
         "Stackelberg game for energy trading"
        ],
        [
         "31",
         "information and communication technology"
        ],
        [
         "32",
         "internet addiction"
        ],
        [
         "33",
         "smart supply and demand management approaches"
        ],
        [
         "34",
         "protection of critical information infrastructure and databases"
        ],
        [
         "35",
         "magazines read on tablets"
        ],
        [
         "36",
         "effective load balancing algorithm"
        ],
        [
         "37",
         "digital platforms"
        ],
        [
         "38",
         "AI-driven content moderation organizations"
        ],
        [
         "39",
         "social networking site LinkedIn"
        ],
        [
         "40",
         "IoT systems for air quality measurements"
        ],
        [
         "41",
         "load balancing"
        ],
        [
         "42",
         "monitoring devices like AM7000"
        ],
        [
         "43",
         "incorporating the environmental effects of software as a metric when gauging the quality of a solution"
        ],
        [
         "44",
         "smart grid infrastructure"
        ],
        [
         "45",
         "advertising recommending reducing consumption"
        ],
        [
         "46",
         "information technology"
        ],
        [
         "47",
         "telework"
        ],
        [
         "48",
         "telework"
        ],
        [
         "49",
         "content removal"
        ]
       ],
       "shape": {
        "columns": 1,
        "rows": 100
       }
      },
      "text/html": [
       "<div>\n",
       "<style scoped>\n",
       "    .dataframe tbody tr th:only-of-type {\n",
       "        vertical-align: middle;\n",
       "    }\n",
       "\n",
       "    .dataframe tbody tr th {\n",
       "        vertical-align: top;\n",
       "    }\n",
       "\n",
       "    .dataframe thead th {\n",
       "        text-align: right;\n",
       "    }\n",
       "</style>\n",
       "<table border=\"1\" class=\"dataframe\">\n",
       "  <thead>\n",
       "    <tr style=\"text-align: right;\">\n",
       "      <th></th>\n",
       "      <th>samples</th>\n",
       "    </tr>\n",
       "  </thead>\n",
       "  <tbody>\n",
       "    <tr>\n",
       "      <th>0</th>\n",
       "      <td>touch simulation</td>\n",
       "    </tr>\n",
       "    <tr>\n",
       "      <th>1</th>\n",
       "      <td>use of computers</td>\n",
       "    </tr>\n",
       "    <tr>\n",
       "      <th>2</th>\n",
       "      <td>automated computer shutdown program</td>\n",
       "    </tr>\n",
       "    <tr>\n",
       "      <th>3</th>\n",
       "      <td>app for recording data</td>\n",
       "    </tr>\n",
       "    <tr>\n",
       "      <th>4</th>\n",
       "      <td>digital language inclusivity</td>\n",
       "    </tr>\n",
       "    <tr>\n",
       "      <th>...</th>\n",
       "      <td>...</td>\n",
       "    </tr>\n",
       "    <tr>\n",
       "      <th>95</th>\n",
       "      <td>poetry</td>\n",
       "    </tr>\n",
       "    <tr>\n",
       "      <th>96</th>\n",
       "      <td>high usage times (&gt;five hours per day)</td>\n",
       "    </tr>\n",
       "    <tr>\n",
       "      <th>97</th>\n",
       "      <td>travel service information</td>\n",
       "    </tr>\n",
       "    <tr>\n",
       "      <th>98</th>\n",
       "      <td>hedonic information technologies</td>\n",
       "    </tr>\n",
       "    <tr>\n",
       "      <th>99</th>\n",
       "      <td>wearable devices</td>\n",
       "    </tr>\n",
       "  </tbody>\n",
       "</table>\n",
       "<p>100 rows × 1 columns</p>\n",
       "</div>"
      ],
      "text/plain": [
       "                                   samples\n",
       "0                         touch simulation\n",
       "1                         use of computers\n",
       "2      automated computer shutdown program\n",
       "3                   app for recording data\n",
       "4             digital language inclusivity\n",
       "..                                     ...\n",
       "95                                  poetry\n",
       "96  high usage times (>five hours per day)\n",
       "97              travel service information\n",
       "98        hedonic information technologies\n",
       "99                        wearable devices\n",
       "\n",
       "[100 rows x 1 columns]"
      ]
     },
     "execution_count": 55,
     "metadata": {},
     "output_type": "execute_result"
    }
   ],
   "source": [
    "noise_df = clusterize.get_noise_sample(noise)\n",
    "noise_df"
   ]
  },
  {
   "cell_type": "code",
   "execution_count": null,
   "metadata": {},
   "outputs": [],
   "source": [
    "clusterize.save_results(params, results, noise_df, cluster_summary_df, hdbscan_model, domain, 'items')"
   ]
  },
  {
   "cell_type": "code",
   "execution_count": null,
   "metadata": {},
   "outputs": [
    {
     "name": "stdout",
     "output_type": "stream",
     "text": [
      "no noise generated by cluster 7\n",
      "no noise generated by cluster 9\n",
      "reclustering of cluster 16 adding 1 items to noise\n",
      "reclustering of cluster 23 adding 11 items to noise\n",
      "no noise generated by cluster 24\n",
      "reclustering of cluster 27 adding 34 items to noise\n",
      "reclustering of cluster 30 adding 1 items to noise\n"
     ]
    },
    {
     "data": {
      "application/vnd.microsoft.datawrangler.viewer.v0+json": {
       "columns": [
        {
         "name": "index",
         "rawType": "int64",
         "type": "integer"
        },
        {
         "name": "cluster_id",
         "rawType": "object",
         "type": "unknown"
        },
        {
         "name": "sentences",
         "rawType": "object",
         "type": "unknown"
        }
       ],
       "ref": "d86507b1-7092-47b5-a2fd-d1a252421473",
       "rows": [
        [
         "0",
         "1",
         "['social media usage', 'social media use', 'social media usage', 'social media usage', 'activities on the internet (e.g., gambling, video gaming, social media use, pornography use, etc.)', 'social media use', 'social media use', 'social media use', 'positive social media use', 'social media use', 'habitual social media use', 'supportive social media use', 'happy to spend time on social media', 'screen-time and social media use', 'social media use', 'social media use', 'social media usage', 'social media use', 'social media use', 'posting about feelings and venting on social media', 'perceptions of low social rank when using social media', 'social media use', 'social media use', 'limiting social media use to 30 minutes a day', 'individual differences (social media persona, app preferences and student status)', 'social media use', 'social media usage', 'time management of social media usage', 'Internet and social media use', 'social media use', 'social media use', 'social media use', 'social media use (Instagram and Snapchat)', 'social media use', 'using social media as a means to strengthen business', 'social media usage', 'use of social media', 'social media use', 'reduced social media use (SMU)', 'social media users', 'social Internet consumption', 'tourists’ travel experience sharing via mobile social media (MSM)', 'Twitter use', 'social media use', 'Enterprise Social Media (ESM) usage', 'application of social media', 'social media use', 'active use of social media for informational purposes', 'social media use', 'social media usage', 'social media use', 'use of social media for dissemination', 'social media use', 'social media usage', 'social media usage', 'Machine-to-Machine (M2M) technology and social media networks Twitter', 'social media use', 'social media use', 'reducing SNS time to 30 minutes per day', 'social media use', 'social media usage', 'social media use', 'social media use', 'posting about feelings and venting on social media', 'perceptions of low social rank when using social media', 'social media use', 'use of social media', 'social media usage', 'limit Facebook, Instagram and Snapchat use to 10 minutes, per platform, per day', 'use social media as usual', 'use of some social media', 'Twitter use', 'creative and constructive use of social media', 'phone and social media use', 'social media (SM) use', 'social media identity', 'social media use', 'social media checking frequency', 'social media posting frequency', 'social media use', 'reducing SNS time to 30 minutes per day', 'social media use', 'social media usage', 'social media use', 'social media use', 'posting about feelings and venting on social media', 'perceptions of low social rank when using social media', 'social media use', 'social media use', 'limiting social media use to 30 minutes a day', 'individual differences (social media persona, app preferences and student status)', 'social media use', 'social media usage', 'time management of social media usage', 'Internet and social media use', 'social media use', 'personalized full-screen nudges to reduce social media app use', 'social media use', 'social media use', 'content analysis of trending hash tags on social media platforms', 'social media users intensity', 'usage of social media', 'social media usage', 'frequent social media use', 'social media volume usage', 'no. of social media friends', 'enterprise social media (ESM) usage', 'social media use', 'excessive time on social media websites', 'enterprise social media (ESM) usage', 'social media use for health', 'providing daily information using social media applications or other technical devices', 'Social media (SM) use', 'Twitter use', 'use of social media', 'social media usage', 'social media use', 'social media use', 'responsible social media use', 'health-related social media use', 'active social media use', 'passive social media use', 'smartphones and social media apps', 'social media utilization', 'social media usage', 'smartphone use for entertainment and socialization', 'Twitter', 'social media use', 'time on social media', 'social media use', 'social media use', 'social media usage', 'social media use', 'social media use', 'posting about feelings and venting on social media', 'perceptions of low social rank when using social media', 'social media use', 'social media use', 'limiting social media use to 30 minutes a day', 'individual differences (social media persona, app preferences and student status)', 'social media use', 'social media usage', 'time management of social media usage', 'Internet and social media use', 'social media use', 'social media use', 'social media use', 'social media use', 'reducing SNS time to 30 minutes per day', 'social media use', 'social media usage', 'social media use', 'social media use', 'posting about feelings and venting on social media', 'perceptions of low social rank when using social media', 'social media use', 'social media use', 'limiting social media use to 30 minutes a day', 'individual differences (social media persona, app preferences and student status)', 'social media use', 'social media use', 'social media use', 'posting about feelings and venting on social media', 'perceptions of low social rank when using social media', 'social media use', 'social media use', 'limiting social media use to 30 minutes a day', 'individual differences (social media persona, app preferences and student status)', 'social media use']"
        ],
        [
         "1",
         "2",
         "['internet usage', 'Internet use', 'internet use', 'internet use daily', 'internet use', 'Internet usage', 'use of the Internet', 'internet usage', 'daily internet usage', 'internet use', 'internet use', 'computer and internet', 'internet use', 'number of Internet users', 'Internet use', 'internet use', 'Internet use', 'changes in Internet use due to COVID-19 pandemic', 'Internet use', 'internet use', 'Internet use', 'Internet use', 'Internet use', 'internet usage', 'internet use', 'internet usage', 'Internet usage', 'use of the Internet', 'use of the internet', 'internet use management program', 'internet data usage', 'Internet use', 'internet use', 'internet use', 'computer and internet', 'usage of the internet and mobile internet tools by the older adults population', 'Internet use', 'internet use', 'internet activity facilitating self-management', 'internet dependency', 'Internet usage', 'Internet usage time', 'Internet use', 'internet use', 'internet use', 'computer and internet', 'internet use', 'number of Internet users', 'Internet use', 'internet use', 'use of the internet', 'internet use', 'internet usage', 'using the internet', 'beliefs about the Internet', 'daily internet use', 'moderate and regular internet use frequency', 'internet usage', 'Internet use', 'non-use of the internet', 'level of Internet use', 'internet use', 'number of Internet users', 'Internet use', 'internet use', 'Internet use', 'internet data usage', 'Internet use', 'internet use', 'internet use', 'computer and internet', 'internet use', 'number of Internet users', 'Internet use', 'computer and internet', 'internet use', 'number of Internet users', 'Internet use']"
        ],
        [
         "2",
         "3",
         "['information and communication technologies (ICTs)', 'Information and Communication Technology (ICT)', 'Information and Communication Technology (ICT) systems', 'information and communication technology (ICT) for academic purposes', 'Information and Communication Technology (ICT)', 'information and communications technologies (ICTs)', 'information and communication technology (ICT)', 'Information communication technology (ICT)', 'information and communication technologies (ICT)', 'Information Communication Technology (ICT)', 'information and communication technology (ICT)', 'information and communication technology (ICT)', 'social appropriation of information and communication technologies (icts)', 'ICT applications', 'information and communication technologies (ICTs)', 'information and communication technology (ICT) services', 'information and communications technology (ICT)', 'advanced information and communication technologies', 'Information and Communication Technology (ICT)', 'Information and Communication Technology (ICT) and Control Technology (CT)', 'information and communication technology (ICT)', 'Information and communications technology (ICT)', 'information and communication technologies (ICT)', 'Information and Communication Technology (ICT) application (app)', 'Information and Communication Technologies (ICTs)', 'information and communication technology (ICT)', 'information and communication technologies (ICTs)', 'modern information and communication technology (ICT)', 'ICT (information, communications and technology)', 'information and communications technology (ICT)', 'information and communication technologies (ICT) applications', 'ERP systems', 'Information and communication technologies (ICT)', 'Information and Communication Technologies (ICTs)', 'ICT (information and communications technology)', 'advanced information and communication technologies (ICT)', 'Information Communication Technology (ICT)', 'information and communication technology (ICT)', 'information and communication technology (ICT)', 'Information and Communication Technologies (ICT)', 'Information and Communication Technologies (ICTs)', 'Information and communication technologies (ICT)', 'Information and Communication Technology (ICT), including data centres, communication networks and user devices', 'information and communication technology (ICT)', 'Information and Communication Technology (ICT)', 'information and communication technology (ICT)', 'Information and Communication Technology (ICT) development', 'advanced information and communication technologies (ICT)', 'Information Communication Technology (ICT)', 'information and communication technology (ICT)', 'information and communication technology (ICT)', 'social appropriation of information and communication technologies (icts)', 'ICT applications', 'information and communication technologies (ICTs)', 'information and communication technology (ICT) services', 'information and communications technology (ICT)', 'information and communications technology (ICT)', 'information and communication technology (ICT)', 'information communications technology (ICT)', 'information communications technology (ICT)', 'information and communication technologies (ICTs)', 'information and communication technology (ICT)', 'Information and Communications Technology (ICT)', 'Information and Communications Technology (ICT)', 'modern Information and Communication Technologies (ICTs)', 'information and communication technology (ICT)', 'information and communication technologies (ICTs)', 'information and communications technologies (ICTs)', 'ICT (Information and Communication Technology) resources', 'information and communications technologies (ICTs)', 'Information and Communication Technology (ICT) industry', 'information and communication technology (ICT)', 'information and communication technology (ICT)', 'ICT and other smart technologies of the future', 'advancement of information and communication technology (ICT)', 'information and communications technology (ICT)', 'advanced technologies including information and communication technologies, modern measuring devices like phasor measurement units, fast computational techniques', 'Information and Communication Technologies (ICTs)', 'Information and communication technologies (ICT)', 'Internet Communication and Technologies (ICTs)', 'Information and Communication Technology (ICT)', 'Information and Communication Technology (ICT) products', 'information and communication technologies (ICTs)', 'Information and Communication Technologies (ICTs)', 'information and communication technology (ICT)', 'information and communication technologies (ICT)', 'information and communication technology (ICT)', 'information and communication technology (ICT)', 'social appropriation of information and communication technologies (icts)', 'ICT applications', 'information and communication technologies (ICTs)', 'information and communication technology (ICT) services', 'information and communications technology (ICT)', 'advanced information and communication technologies', 'Information and Communication Technology (ICT)', 'ICT-communication network', 'Information and communication technology (ICT)-based products', 'Information and Communication Technologies (ICTs)', 'ICT (information and communications technology)', 'advanced information and communication technologies (ICT)', 'Information Communication Technology (ICT)', 'information and communication technology (ICT)', 'information and communication technology (ICT)', 'social appropriation of information and communication technologies (icts)', 'ICT applications', 'information and communication technology (ICT)', 'information and communication technology (ICT)', 'social appropriation of information and communication technologies (icts)', 'ICT applications']"
        ],
        [
         "3",
         "4",
         "['Internet of Things utilization', 'technological advances (e.g. big data and IoT)', 'internet of things enabled devices', 'Internet of Things (IoT) systems', 'IoT-based Smart Sensor system (IoT-SS)', 'smart city and IoT-based monitoring', 'automated ICT infrastructure empowered by the IoT technology', 'Internet-of-Things', 'Internet of Things (IoT)', 'Internet of Things (IoT)', 'Internet of Things (IoT) and smart grid technologies', 'IoT technology', 'Internet of Things implementation', 'Intemet of Things (IoT) monitoring system', 'Internet of Things (IoT)', 'Internet of Things (IoT) technology', 'IoT technology', 'Internet of Things cloud server', 'Internet of Things (IoT) based Solution', 'IoT', 'Internet of Things (IoT) platform', 'internet of things (IoT) connectivity', 'IoT (Internet of Things) technology', 'IoT-based technology', 'self-powered IoT sensor network', 'internet of things (IoT)', 'Internet of things and blockchain technologies', 'Internet of Things', 'Internet of Things (IoT)', 'develop the same system using IoT platforms like Thingspeak or Cayenne', 'smart Internet of Things (IoT) devices', 'IoT', 'internet of things (IoT)', 'Internet of Things (IoT)', 'ambient intelligence', 'IoT-HUB technology', 'Internet of Things (IoT) capability', 'Internet of Things (IOT) monitoring', 'IoT entity (a data acquisition module)', 'Internet of Things (IoT)', 'Internet of Things (IoT) and smart grid technologies', 'IoT technology', 'Internet of Things implementation', 'Internet of Things (IoT) and Cloud Database', 'Internet of Things (IoT) communication protocol', 'Internet of Things', 'Internet of Things technology', 'Internet of Things (IoT) technology', 'Smart cities and the Internet of Things (IoT)', 'IoT technology', 'IoT platform', 'IoT connection', 'Internet of Things', 'up-to-date development of weather radar and satellite monitoring, image-based monitoring, information technology (IT), Internet of Things (IoT), big data and artificial intelligence (AI)', 'IoT system compatibility', 'Internet of Things (IoT)', 'Internet of Things (IoT) and smart grid technologies', 'IoT technology', 'Internet of Things implementation', 'Intemet of Things (IoT) monitoring system', 'Internet of Things (IoT)', 'IOT based platform', 'Internet of Things', 'Internet of Things (IoT) technology', 'internet of things', 'Internet of Things (IoT)', 'Internet-of-Things (IoT)', 'Internet of Things (IoT) technology', 'Internet of Things (IoT) techniques', 'IoT-based cage', 'low-cost IoT (internet of things) system for real-time monitoring', 'Internet of Things and big data technology', 'Internet of Things', 'Internet of things (IoT)', 'internet of things', 'IOT (internet of things) integrated with grids', 'Internet of Things (IoT)', 'IOT driven automation', 'Internet of Things (IoT)', 'Internet of Things', 'synchronizing IoT devices with our energy system', 'Internet of Things', 'smart classroom data analysis system based on the Internet of Things', 'Internet of Things technology', 'Internet of Things (IoT) technologies', 'IoT', 'IoT technology', 'Internet of Things implementation', 'Intemet of Things (IoT) monitoring system', 'Internet of Things (IoT)', 'Internet of Things (IoT) technology', 'IoT technology', 'IoT based smart homes', 'Internet of things (IoT) technology', 'Internet of Things (IoT) cloud', 'IoT entity (a data acquisition module)', 'Internet of Things (IoT)', 'Internet of Things (IoT) and smart grid technologies', 'IoT technology', 'Internet of Things implementation', 'Intemet of Things (IoT) monitoring system', 'IoT technology', 'Internet of Things implementation', 'Intemet of Things (IoT) monitoring system']"
        ],
        [
         "4",
         "5",
         "['digitalisation of societies', 'technology and digitalisation', 'digital business penetration (DBP)', 'digitalisation of data', 'digitalisation', 'digitalization', 'digitization and digital technologies', 'digital transformation', 'Digitalization', 'digitalization', 'regional digitalization', 'digitalisation', 'digitalization', 'digital transformation', 'digitalisation', 'digitalisation and penetration of information and communication technologies', 'digitalisation enables work from home', 'digital transformation', 'digital optimization', 'digitalization', 'digitalization', 'digitalization', 'digitalization', 'digital spaces appropriation', 'digital transformation', 'digitalisation', 'transforming research libraries', 'digitalization', 'digitization', 'dematerialization', 'regional digitalization', 'digitalisation', 'decelerate digital transition', 'digitalization of maritime industry', 'massive digitalization', 'digital transformation', 'digitalisation', 'digital transformation', 'digitalization', 'regional digitalization', 'digitalisation', 'digitalization', 'digital transformation', 'digitalisation', 'digitalisation and penetration of information and communication technologies', 'digitalisation enables work from home', 'digitalization', 'digitalization', 'shift the business to digital', 'digitalisation', 'digitalization', 'policy in the field of digitalization', 'digital transformation', 'digitalization', 'digital transformation', 'digitalization', 'digitalisation', 'digitalization', 'digital transformation', 'digitalisation', 'digitalisation and penetration of information and communication technologies', 'digitalisation enables work from home', 'digitization including diffusion of robots and artificial intelligence (AI)', 'digitalization', 'digitization', 'dematerialization', 'regional digitalization', 'digitalisation', 'digitalization', 'digital transformation', 'digitalisation', 'digitalization', 'digital transformation']"
        ],
        [
         "5",
         "6",
         "['social media', 'social media', 'social media', 'website', 'websites', 'social media', 'Instagram postings of Blair Imani', 'social media', 'Instagram addiction', 'Xiaohongshu (RED)', 'bibliographic keyword searches', 'internet', 'social media', 'luxurious lifestyle content shared by influencers on Xiaohongshu', 'social media', 'social media', 'social media', 'Instagram posts showing luxurious lifestyles', 'social media', 'New Social Media', 'Internet', 'five-feature website', 'Chinese lifestyle migration', 'social media', 'social media', 'social media', 'social media', 'social media', 'social media', 'social digital media', 'social media', 'social media', 'Korean pop cultural contents (KPCC) consumption behaviors', 'websites', 'social media', 'Instagram addiction', 'Xiaohongshu (RED)', 'bibliographic keyword searches', 'social media', 'social media', 'social media', 'social media', 'social media', 'social media', 'social media', 'Instagram use intensity', 'social media', 'instagram online store', 'social media', 'Instagram addiction', 'Xiaohongshu (RED)', 'bibliographic keyword searches', 'internet', 'social media', 'luxurious lifestyle content shared by influencers on Xiaohongshu', 'social media', 'social media', 'social media', 'Instagram posts showing luxurious lifestyles', 'social media', 'social media', 'social media', 'the Internet', 'social media', 'Instagram usage', \"Observing others' Instagram profiles\", 'Social Media Instagram', 'social media', 'Instagram', 'social media', 'social media', 'social media', 'social media', 'social media', 'Instagram social media', 'social media', 'internet', 'social media', 'social media', 'the Internet and the World Wide Web', 'searching online', 'bibliographic keyword searches', 'internet', 'social media', 'luxurious lifestyle content shared by influencers on Xiaohongshu', 'social media', 'social media', 'social media', 'Instagram posts showing luxurious lifestyles', 'social media', 'New Social Media', 'wiki site', 'social media', 'Korean pop cultural contents (KPCC) consumption behaviors', 'websites', 'social media', 'Instagram addiction', 'Xiaohongshu (RED)', 'bibliographic keyword searches', 'internet', 'social media', 'luxurious lifestyle content shared by influencers on Xiaohongshu', 'social media', 'social media', 'bibliographic keyword searches', 'internet', 'social media', 'luxurious lifestyle content shared by influencers on Xiaohongshu', 'social media', 'social media']"
        ],
        [
         "6",
         "8",
         "['digital technologies', 'digital technologies', 'digital technologies', 'digital technology', 'digital technology use', 'Digital services', 'digital economy', 'digital revolution', 'digital data', 'education with digital technology', 'information revolution', 'digital literacy', 'digital technology', 'digital technologies', 'technologisation of everyday life', 'digital technological change', 'digital literacy', 'digital technologies', 'digital revolution', 'digital reading', 'digital economy', 'digital technology', 'digital short story literacy', 'digital technology', 'digital technology', 'digital literacy', 'digital technologies', 'digital economy', 'digital economy', 'digital technologies in trade', 'digital use supply chains (DUSCs)', 'digital hoarding', 'introduction of digital technologies and artificial intelligence in automated accounting of resource consumption', 'digital technologies', 'digital identification systems', 'global digital nomadism', 'design of digital interactive technology', 'the digital economy', 'digital technology', 'digital tools', 'Pancasila-based digital literacy', 'digital technologies', 'technology and digital lifestyle', 'development of the digital economy', 'Digital Economy and Society Index (DESI)', 'Women in Digital Index (WID)', 'Rural Digital Index (RDI)', 'digital financial inclusion', 'digital technology', 'development of the digital economy', 'digital inequalities', 'digital technologies', 'digital technologies', 'digital economy technologies', 'circular economy-driven digital transformation', 'digital activism', 'digital economy', 'information economy', 'marketization of digital intelligence', 'digital economy expansion', 'digital economy', \"the digital economy's role in urban low-carbon development\", 'use of digital and information technology', 'digital revolution', 'digital status seeking', 'digital technologies', 'digital technology', 'digital technologies', 'technologisation of everyday life', 'digital technological change', 'digital exclusion', 'Digital Services Act (DSA)', 'digital economy', 'digital technologies in trade', 'use of digital technologies', 'digital technologies as a means of communication', 'improving the circular economy through digital devices', 'digital literacy', 'digital government capacity', 'developing digital tools', 'digital technology', 'digital literacy', 'digital technologies', 'digital solutions', 'program to inform readers', 'digital skills', 'establish everyone must abide by the digital technology application ethics', 'digital technologies to mediate and up-scale their activities', 'digital technologies', 'digital life', 'digital technology use', 'digital sovereignty', 'digital literacy intervention', 'digital communication technologies', 'digital technology', 'digital citizenship education', 'digital approaches', 'digital technologies', 'digital technologies', 'digital technology law', 'digital technology', 'digital technologies', 'technologisation of everyday life', 'digital technological change', 'digital literacy', 'digital technologies', 'digital revolution', 'digital reading', 'digital economy', 'digital technology', 'digital short story literacy', 'information economy', 'marketization of digital intelligence', 'digital economy', 'digital garbage handling', 'secure digital payments', 'digital information technology use', 'stronger belief in benefits of digital services', 'digital strategies and technologies', 'digital technologies', 'high use of technology and digitalization', 'digital participation', 'digital use', 'digital consumption', 'digital technologies', 'digital-ruralism', 'digital technology', 'GDP per capita', 'digital technologies', 'digital technology', 'digital technology', 'ageing-inclusive digital economy', 'digital fluency', 'digital literacy', 'Digital Culture', 'digital economy', 'digital technology', 'digital computing', 'digital technologies', 'digital safety', 'digital inclusion of civil society', 'digital social reading (DSR)', 'digital information support of customers', 'digital economy', 'digital distribution', 'digital economy development', 'digital technologies', 'digital economy', 'digital technologies', 'strategy for the development of the economy and digital society', 'digital economy', 'television transmission technology switch from analog to digital system', 'digital adaptability', 'digital economy', 'digital economy', 'digital technologies', 'digital literacy', 'digital technology domestication and usage', 'connections between digital technologies, convenience, meaning, and competency', 'digital policies and practices', 'state instrumental use of digital sovereignty', 'digital inclusion', 'digital technology usage', 'Digital services', 'digital twins', 'digital inclusion', 'digital technologies', 'technologisation of everyday life', 'digital technological change', 'digital literacy', 'digital technologies', 'digital revolution', 'digital reading', 'digital economy', 'digital technology', 'digital short story literacy', 'digital solutions', 'digital skills', 'digital and online technologies', 'digital technology', 'Digital Services Act (DSA)', 'digital technologies', 'digital status seeking', 'digital technologies', 'digital technology', 'digital technologies', 'technologisation of everyday life', 'digital technological change', 'digital literacy', 'digital technologies', 'digital revolution', 'digital technology', 'digital technologies', 'technologisation of everyday life', 'digital technological change', 'digital literacy', 'digital technologies', 'digital revolution']"
        ],
        [
         "7",
         "10",
         "['data centres (DCs)', 'data centers', 'data center federation', 'Data Centres (DCs)', 'data centres', 'fully renewable-powered cloud data centres and partially solar-powered fog data centres', 'artificial intelligence (AI) data centers', 'incentivise the construction of data centres and associated energy infrastructures', 'geo-distributed data centers (DCs)', 'Internet data centers (IDCs) and the distribution network considering demand response (DR)', 'efficient energy optimization framework based on dynamic resource scheduling for VM migration in cloud data centers', 'Union Digital Centers', 'high power density data centres', 'data centers', 'shifting of cloud data centers to NEOM', 'clean-by-design data center architecture', 'large data centres', 'integration of large data centres into highly renewable energy systems', 'synergistic control strategy for data center frequency regulation', 'data centers', 'fully renewable-powered cloud data centres and partially solar-powered fog data centres', 'fully renewable-powered cloud data centres and partially solar-powered fog data centres', 'power models for modern data centers', 'high density, mission-critical datacenters', 'data center', 'data center optimizer', 'data center', 'data centres establishment', 'fully renewable-powered cloud data centres and partially solar-powered fog data centres', 'artificial intelligence (AI) data centers', 'incentivise the construction of data centres and associated energy infrastructures', 'data center computing', 'data center computing', 'internet data centers', 'fully renewable-powered cloud data centres and partially solar-powered fog data centres', 'artificial intelligence (AI) data centers', 'incentivise the construction of data centres and associated energy infrastructures', 'geo-distributed data centers (DCs)', 'Internet data centers (IDCs) and the distribution network considering demand response (DR)', 'electricity consumed by Internet data centers (IDCs)', 'modular data center', 'data center electricity consumption', 'data centres', 'development of data centres to support the AI ecosystem', 'data centers', 'IT hardware and data center infrastructure', 'processing shift from end-user devices to data centers', 'data centers (DCs)', 'Optimizing data centers for energy efficiency', 'data center hosting', 'energy-efficient architecture for cloud and fog computing environment integration', 'large data center', 'Internet Data Centers (IDC)', 'joint expansion planning framework of IDC and distribution network', 'two-stage stochastic expansion planning model of IDC and distribution network', 'low-power scheduling strategy for typical data center applications', 'data centers and transmission networks', 'data centres (DCs)', 'Data Center Infrastructure Efficiency (DCIE)', 'large data centers', 'Resource Efficiency techniques in data centers', 'data center', 'data centres, networking, cloud computing resources reducing their carbon footprint', 'micro-datacenters deployment', 'artificial intelligence (AI) data centers', 'incentivise the construction of data centres and associated energy infrastructures', 'geo-distributed data centers (DCs)', 'Internet data centers (IDCs) and the distribution network considering demand response (DR)', 'efficient energy optimization framework based on dynamic resource scheduling for VM migration in cloud data centers', 'data centres', 'large data centres', 'optimal integration of data centres', 'data centres establishment', 'fully renewable-powered cloud data centres and partially solar-powered fog data centres', 'artificial intelligence (AI) data centers', 'incentivise the construction of data centres and associated energy infrastructures', 'geo-distributed data centers (DCs)', 'Internet data centers (IDCs) and the distribution network considering demand response (DR)', 'artificial intelligence (AI) data centers', 'incentivise the construction of data centres and associated energy infrastructures', 'geo-distributed data centers (DCs)', 'Internet data centers (IDCs) and the distribution network considering demand response (DR)']"
        ],
        [
         "8",
         "11",
         "['ICT utilization program', 'information technology growth and innovation in electronic component and data center equipment', 'ICT policies favoring human rights', 'information and communications technology (ICT) infrastructures', 'ICT', 'information technology utilization', 'ICT usage', 'ICT solutions', 'job norms/ message-based ICT demands', 'enhance the information sector', 'Increasing use of the Internet and other information and communications technologies (ICTs)', 'ICT use', 'use of information technology', 'ICT infrastructure construction', 'ICT penetration at county level', 'ICT usage at household level', 'advancement in IT technology', 'rising exports of ICT services', 'available information and communication technology infrastructure', 'ICT sector', 'ICT', 'information and communications technology (ICT) infrastructure', 'preferences for adopting information technology', 'information and communications technology (ICT) use', 'information technology (IT) infrastructure growth', 'immoderate use of the new information technologies', 'FDI in the communication sector', 'ICT solutions', 'ICT-related psychological factors (perceived interest, autonomy, competence, and social interaction in using ICT)', 'schools’ support in ICT devices', 'schools’ support in teachers’ capacity to integrate technology in teaching', 'information technology adoption', 'Global Production Networks (GPNs) facilitated by liberalization, deregulation, and impact of information and communication technology (ICT)', 'sustainable ICT infrastructures and services', 'information communication technology-based interventions', 'ICT stress', 'ICT innovation for growth', 'ICT', 'Adoption Digital Technology', 'ICT use (frequency of using the Internet and smart devices)', 'export of ICT services', 'effective use of information technology', 'internet and communication technology (ICT) sector', 'using of Information and communication technology (ICT) outside of school for schoolwork', 'ICT self-efficacy', 'useful information technologies', 'ICT adoption', 'information and communications technology (ICT) usage', 'time spent in using information technologies (IT)', 'improved access to ICT', 'nonwork-related information and communication technologies (ICTs) usage during office hours', 'e-technology use', 'construction of Internet infrastructure', 'digital infrastructure development', 'Utilization of information technology', 'investment in information and communication technology (ICT)', 'master plan coupled with a business plan for extending the benefits of ICT to all the 600,000+ villages in India by 2007', 'ICT systems connected to providers', 'information and communication technology (ICT) interventions', 'investment in information infrastructure', 'production investment', 'use of information technology', 'investment in information and communication technology', 'production, use and diffusion of information and communication technology (ICT)', 'available information and communication technology infrastructure', 'ICT sector', 'ICT', 'information and communications technology (ICT) infrastructure', 'preferences for adopting information technology', 'information and communications technology (ICT) use', 'information technology (IT) infrastructure growth', 'immoderate use of the new information technologies', 'FDI in the communication sector', 'ICT based solutions', 'export of ICT services', 'use of ICT', 'information infrastructure', 'modern information technologies use', 'information sector growth', 'investment in information resources and information industries', 'pluralistic approach to ICT provision', 'information and communication technology (ICT) nudging pipelines', 'use of information and navigation systems', 'production, use and diffusion of information and communication technology (ICT)', 'available information and communication technology infrastructure', 'ICT sector', 'ICT', 'information and communications technology (ICT) infrastructure', 'preferences for adopting information technology', 'information and communications technology (ICT) use', 'information technology (IT) infrastructure growth', 'immoderate use of the new information technologies', 'FDI in the communication sector', 'ICT solutions', 'ICT-related psychological factors (perceived interest, autonomy, competence, and social interaction in using ICT)', 'schools’ support in ICT devices', 'schools’ support in teachers’ capacity to integrate technology in teaching', 'information technology adoption', 'master plan coupled with a business plan for extending the benefits of ICT to all the 600,000+ villages in India by 2007', 'use of modern information technologies', 'ICT sector innovation', 'low-carbon ICT solutions', 'ICT investments', 'hardware investment', 'software investment', 'communication investment', 'digital infrastructure ownership and coordination by private actors', 'use of information technology', 'electronic government', 'information and communication (ICT) infrastructure development', 'ICT', 'Infrastructure-internet-Human Resources', 'enhance the information sector', 'global information network', 'use of information technology', 'ICT projects', 'widespread use of Information and communication technology (ICTs) to balance demand and supply (e.g. smart grids)', 'investment in the ESM technology', 'private investments', 'ICT policies', 'ICT solutions', 'ICT platform', 'use of information technology projects', 'technological advancements in IT Sector', 'ICT', 'ICT and collaborative economy', 'Training older adults to use information and communications technology (ICT) effectively', 'ICT products tariff reduction', 'informal imports of ICT products', 'poor infrastructure of importation procedures', 'low level of investment incentive for the ICT industry', 'ICT policies', 'public ICT access spaces (telecentres)', 'programmes to develop ICT skills', 'ICT-mediated communication', 'digital infrastructure advancement', 'ICT use', 'information technology innovations', 'smart, IT-driven solutions', 'ICT use patterns (leisure, educational, and school)', 'educational ICT use', 'leisure and school ICT use patterns', 'time spent using information technologies (IT)', 'information technology usage', 'capital investment in ICTs at the workplace', 'social investment by the state for ICTs investments in workplaces', 'digital connectivity growth', 'exponential growth in information and communication services', 'digital technologies adoption', 'information technology advancement', 'investment in technology infrastructure', 'education and ICTs', 'new ICTs', 'information technology use', 'ICT use', 'FDI in the communication sector', 'ICT capital', 'data science and computer science advancements', 'culture in ICT-adoption', 'ICT-Infrastructure', 'information and communications technology (ICT) use', 'information technology (IT) infrastructure growth', 'immoderate use of the new information technologies', 'FDI in the communication sector', 'ICT solutions', 'ICT-related psychological factors (perceived interest, autonomy, competence, and social interaction in using ICT)', 'schools’ support in ICT devices', 'schools’ support in teachers’ capacity to integrate technology in teaching', 'information technology adoption', 'Global Production Networks (GPNs) facilitated by liberalization, deregulation, and impact of information and communication technology (ICT)', 'sustainable ICT infrastructures and services', 'information communication technologies (ICT) based infrastructure for real-time monitoring', 'implementation of ICTs', 'use of information technology', 'investment in information and communication technology', 'production, use and diffusion of information and communication technology (ICT)', 'available information and communication technology infrastructure', 'ICT sector', 'ICT', 'information and communications technology (ICT) infrastructure', 'preferences for adopting information technology', 'information and communications technology (ICT) use', 'information technology (IT) infrastructure growth', 'immoderate use of the new information technologies', 'FDI in the communication sector', 'ICT solutions', 'preferences for adopting information technology', 'information and communications technology (ICT) use', 'information technology (IT) infrastructure growth', 'immoderate use of the new information technologies', 'FDI in the communication sector', 'ICT solutions']"
        ],
        [
         "9",
         "12",
         "['social media collaboration', 'face-to-face collaboration', 'social networking', 'social networking and games', 'problematic social media use (PSMU)', 'witnessed verbal aggression', 'game engagement', 'online relationship', 'cyberbullying', 'Facebook addiction', 'relationship quality', 'problematic social media use (PSMU)', 'actively participating in social media', 'friendship VCAs', 'negative social media use', 'connecting online with known people', 'social networks like Facebook and twitter', 'engagement', 'cyber victimization', 'social media platforms', 'social networks', 'community scope', 'active consumer engagement', 'increasing interconnectedness of the world', 'social networks', 'social network use', 'social media influencers', 'peers/family members', 'influencer endorsements', 'interactions with important social contacts', 'social media involvement', 'YouTube-based, shared video social network', 'communications and social media technology', 'use of technology for social interactions', 'technology use for friendship maintenance', 'social media for education, support and modelling', 'social media discrimination', \"perception of 'powerful others'\", 'social media activity', 'posting about daily activities', 'viewing social media newsfeeds', 'online brand communities (OBCs)', 'remote contact with friends and relatives', 'exposure to negative content on social media', 'social networks', 'social media engagement (limiting interactions to real-life acquaintances)', 'communication and collaboration efforts through a range of conventional and social media', 'coalition lobbying and social capital', 'social media involvement', 'cyberslacking', 'intense exposure to social media', 'educational blogs', 'social media literacy education', 'virtual communities', 'recommender systems', 'Twitter activities', 'socially vulnerable populations activity on Twitter', 'peer-to-peer interaction and digital technology', 'problematic social media use', 'online-only friendships', 'online conferences', 'online social media platforms', 'longitudinal temporal activity diary', 'virtual social interactions', 'social networks for teaching and learning purposes', 'resonance with peers', 'social media engagement in physical activity (SME-PA)', 'social media content', 'online aggressive behavior', 'internet-based storytelling programs with stigma-related content and interactivity', 'internet-based storytelling programs with stigma-related content', 'internet-based storytelling programs without stigma-related content but with interactivity', 'problematic social media use (PSMU)', 'Facebook use', 'user bans', 'participation in communication via social media', 'social media engagement', 'social media influence', 'online communication anxiety', 'Facebook use', 'social media engagement', 'social media and information technology', 'Facebook use', 'interacting with other people directly', 'personalized educational or behavior change programs', 'social interaction', 'online conferences', 'associations with NGO networks', 'parasocial relationships', 'occurrence of online events', 'social anxiety', 'social class', 'disinformation and hate speech on social media', 'social presence', 'self-disclosure via Facebook', 'technology use for relationship maintenance', 'cyberinfrastructure', 'increased level of connectivity', 'connecting people in low and middle-income countries (LMICs)', 'social media, and digital medium', 'social media platforms', 'social networks use', '1-week break from social media (Facebook, Instagram, Twitter, and TikTok)', 'personalized interactions', 'social media activity', 'flexing on social media', 'social influence', 'face-to-face interaction', 'cyber dating', 'live-in relationships', 'social network benefits', 'online friendships', 'development and access to social networks through low-cost ICTs, telecentres', 'nature posts', 'social media platforms', 'social media addiction', \"peers' alcohol-related content posted on social networking sites\", 'spending more than 2 h a day using various social networks', 'choice of connection', 'informal communication channels via social media', 'social networks', 'educational usage of social media (SM) platforms', 'radical collaboration', 'partnerships and connections', 'chatting via the internet', 'verbal aggression', 'online customer engagement', 'online social interaction', \"avoid including a 'read' mark in social media applications\", 'Facebook addiction', 'social media dependency', 'social media data', 'social media multitasking', 'social influence', 'multistakeholder partnerships', 'collaborative initiatives', 'online social network', 'personalization algorithms', 'proprietization of social interactions data', 'hate speech online', 'digital campaigns leveraging social media influencers', 'Facebook® page', 'social networking use', 'heavy use of social networking sites', 'social media interventions', 'Facebook usage among adolescents', 'friends’ connectivity', 'organizing event', 'Facebook dependency', 'desire for popularity', 'belief in the importance of online status indicators', 'emergency information channels in both traditional media and social media', 'virtual meetings', 'increasing interconnectedness of the world', 'social networks', 'social network use', 'social media influencers', 'peers/family members', 'influencer endorsements', 'interactions with important social contacts', 'social media involvement', 'YouTube-based, shared video social network', 'communications and social media technology', 'use of technology for social interactions', 'technology use for friendship maintenance', 'social media for education, support and modelling', 'social media discrimination', \"perception of 'powerful others'\", 'social media activity', 'posting about daily activities', 'viewing social media newsfeeds', 'online brand communities (OBCs)', 'remote contact with friends and relatives', 'para-social interaction', 'social networking', 'smart, personalized, and on the moment, action recommendations', 'social media interactions', 'social media communication', 'peer-to-peer interaction and digital technology', 'social media competency', 'cyberbullying', 'use of popular and commonly accessed social-media platforms', 'social influence', 'virtual community', 'problematic social media use (PSMU)', 'web-based social networking tools', 'supporting connection and community', 'Internet-based social activities and networking through video or phone calls', 'social skills', 'development and use of digital technology and network social platform to strengthen self-discipline', 'Facebook Oversight Board', 'virtual conferences', 'networking of simultaneous coordinated conferences', 'in-person conference every 2 or 3 years', 'participation in knowledge-based virtual communities', 'browsing in knowledge-based virtual communities', 'social influence', 'social engagement', 'para-social interaction', 'perceived importance of social media for social belonging', 'multimodal resources and social networking', 'participatory technology', 'social media analysis', 'social media platforms', 'virtual meetings', 'increasing interconnectedness of the world', 'social networks', 'social network use', 'social media influencers', 'peers/family members', 'influencer endorsements', 'interactions with important social contacts', 'social media involvement', 'YouTube-based, shared video social network', 'communications and social media technology', 'use of technology for social interactions', 'technology use for friendship maintenance', 'social media for education, support and modelling', 'social media discrimination', \"perception of 'powerful others'\", 'social media activity', 'posting about daily activities', 'viewing social media newsfeeds', 'online brand communities (OBCs)', 'remote contact with friends and relatives', 'exposure to negative content on social media', 'social networks', 'social media engagement (limiting interactions to real-life acquaintances)', 'communication and collaboration efforts through a range of conventional and social media', 'coalition lobbying and social capital', 'social media involvement', 'cyberslacking', 'intense exposure to social media', 'educational blogs', 'social media literacy education', 'virtual communities', 'recommender systems', 'Twitter activities', 'socially vulnerable populations activity on Twitter', 'peer-to-peer interaction and digital technology', 'problematic social media use', 'online social network', 'personalization algorithms', 'proprietization of social interactions data', 'excessive use of social media', 'WhatsApp Group and facebook', 'social media platforms use', 'social media addiction', 'social overload', 'social media engagement', 'effective social CRM strategies', 'social media interaction', 'Facebook user satisfaction', 'membership in social networks', 'online social networks', 'virtual social capital', 'peer influence', 'social media interaction', 'social media platforms', 'Passive Social Media Use (PSMU)', 'social influence', 'social network technologies', 'digital social interaction', 'social media platforms', 'social media data', 'social media interaction', 'online communities', 'social media addiction', 'Facebook use', 'Location-based social networks (LBSN)', 'cyber harassment experiences', 'engagement in social networks', 'personalization', 'relationship', 'social media platform operation by US government', 'enthusiasm for engagement', 'problematic social media use', 'social networking and other platforms', 'online communication and connectedness', 'Facebook use', 'sharing physical activity experiences on social network sites', \"observing others' workouts on social network sites\", 'online social networking', 'social media channels', 'social media technologies (SMTs)', 'Facebook use', 'social media interventions', 'public-private partnership (PPP)', 'social connection', 'social media literacy programs', 'educational media programs using social-media', 'social media platforms', 'Social Media interaction', 'posting fitness activities on social media', 'social media addiction', 'distributing advisements on social media platforms', 'social media platform', 'Facebook use', 'fitspiration content on social media', 'social media content by peers', 'use of social technologies', 'use of technologies to promote social contact', 'social media reduction / abstinence intervention', 'posting frequency and quality of exercise and physical activity content in Facebook', 'social media communication', 'social media channel choice', 'social media bans', 'problematic laws on online harms', 'normative whorephobic, racist, ableist user experience (UX) social media design', 'problematic social media use', 'social media platforms', 'Facebook', 'governance mechanisms of social media platforms', 'media-centered forms of civic engagement', 'co-worker relationship', 'peer-to-peer (P2P) sharing and reuse platforms', 'social networking sites use', 'digital collaboration', 'virtual meetings and teleconferencing', 'resonance with peers', 'social media influence', 'social media influencers', 'geolocated social media posts (Twitter)', 'DiaryMood', 'online communication', 'cyberbullying perpetration', 'chatting on social networking Web sites', 'social features', 'cybercrime victimization', 'social belonging to online groups', 'social media affordances manipulation', 'cyberbully’s anonymity manipulation', 'susceptibility to interpersonal influence', 'promoting it as a social ideal', 'use of technology for social interactions', 'technology use for friendship maintenance', 'social media for education, support and modelling', 'social media discrimination', \"perception of 'powerful others'\", 'social media activity', 'posting about daily activities', 'viewing social media newsfeeds', 'online brand communities (OBCs)', 'remote contact with friends and relatives', 'exposure to negative content on social media', 'social networks', 'social media engagement (limiting interactions to real-life acquaintances)', 'communication and collaboration efforts through a range of conventional and social media', 'coalition lobbying and social capital', 'social media involvement', 'cyberslacking', 'intense exposure to social media', 'educational blogs', 'social media literacy education', 'virtual communities', 'recommender systems', 'Twitter activities', 'socially vulnerable populations activity on Twitter', 'peer-to-peer interaction and digital technology', 'problematic social media use', 'online-only friendships', 'online conferences', 'online social media platforms', 'longitudinal temporal activity diary', 'virtual social interactions', 'voluntary disconnection', \"Facebook's Community Standards (CS)\", 'social media tools and platforms', 'social media creates positive fitness competition', 'desire for popularity', 'belief in the importance of online status indicators', 'emergency information channels in both traditional media and social media', 'virtual meetings', 'increasing interconnectedness of the world', 'social networks', 'social network use', 'social media influencers', 'peers/family members', 'influencer endorsements', 'interactions with important social contacts', 'social media involvement', 'YouTube-based, shared video social network', 'communications and social media technology', 'use of technology for social interactions', 'technology use for friendship maintenance', 'social media for education, support and modelling', 'social media discrimination', \"perception of 'powerful others'\", 'social media activity', 'posting about daily activities', 'viewing social media newsfeeds', 'online brand communities (OBCs)', 'remote contact with friends and relatives', 'exposure to negative content on social media', 'social networks', 'social media engagement (limiting interactions to real-life acquaintances)', 'communication and collaboration efforts through a range of conventional and social media', 'coalition lobbying and social capital', 'social media involvement', 'interactions with important social contacts', 'social media involvement', 'YouTube-based, shared video social network', 'communications and social media technology', 'use of technology for social interactions', 'technology use for friendship maintenance', 'social media for education, support and modelling', 'social media discrimination', \"perception of 'powerful others'\", 'social media activity', 'posting about daily activities', 'viewing social media newsfeeds', 'online brand communities (OBCs)', 'remote contact with friends and relatives', 'exposure to negative content on social media', 'social networks', 'social media engagement (limiting interactions to real-life acquaintances)', 'communication and collaboration efforts through a range of conventional and social media', 'coalition lobbying and social capital', 'social media involvement']"
        ],
        [
         "10",
         "13",
         "['mobile telephony', 'text messaging', 'email', 'SMS/text messaging from mobile phones', 'downloading mobile phone ringtones', 'mobile phone messaging', 'one-way text messaging intervention', 'telephone contact', 'eHealth and mHealth technologies', 'eHealth conceptualization and promulgation', 'mobile telephone', 'eHealth platforms', 'text messaging', 'personalized text messages', 'eHealth components', 'WhatsApp application', 'instant messaging', 'Baraza, radios, and mobile phone messages', 'mobile telephone and ICT facilities', 'text messaging (short message service, SMS)', 'early warning system via telephone and WhatsApp', 'text messaging', 'E-mail or telephone coaching', 'instant messaging', 'Short Message Service (SMS) via mobile phone', 'message queue telemetry transportation (MQTT) broker', 'text messaging', 'short message service', 'email', 'downloading mobile phone ringtones', 'mobile phone messaging', 'one-way text messaging intervention', 'telephone contact', 'text messaging', 'Telegram notification', 'well-being messaging on Instagram', 'communicating via emails', 'short message service messages', 'text messaging', 'short service message (SMS)', 'comfort with texting', 'downloading mobile phone ringtones', 'mobile phone messaging', 'one-way text messaging intervention', 'telephone contact', 'eHealth and mHealth technologies', 'eHealth conceptualization and promulgation', 'mobile telephone', 'eHealth platforms', 'text messaging', 'E-mail or telephone coaching', 'text messaging', 'Short Message Service (SMS)', 'interactive and motivational feedback SMS messages', 'WhatsApp for learning', 'text messaging', 'text messaging (TM)', 'phone call and text messaging', 'eHealth literacy (eHL)', 'machine to machine protocol (MQTT) to external health & well-being services', 'telephone accessibility', 'eHealth and mHealth technologies', 'eHealth conceptualization and promulgation', 'mobile telephone', 'eHealth platforms', 'text messaging', 'personalized text messages', 'instant messaging', 'message queue telemetry transportation (MQTT) broker', 'text messaging', 'short message service', 'email', 'downloading mobile phone ringtones', 'mobile phone messaging', 'one-way text messaging intervention', 'telephone contact', 'eHealth and mHealth technologies', 'eHealth conceptualization and promulgation', 'mobile telephone', 'eHealth platforms', 'telephone contact', 'eHealth and mHealth technologies', 'eHealth conceptualization and promulgation', 'mobile telephone', 'eHealth platforms']"
        ],
        [
         "11",
         "14",
         "['electronic alternatives', 'emerging technologies and increased use of electronic devices', 'hardware', 'technology invasion into the bedroom', 'use of electronic media and telecommunication gadgets', 'electronic equipment in the bedroom', 'computer in the bedroom', 'combinations with two or three electronic devices in the bedroom', 'application of new computer technology, interactively matching production with consumer demand', 'triboelectric nanogenerators (TENGs)', 'problematic technology use', 'computer', 'advanced digital gadgets', 'unlimited use of technologies', 'personal computer', 'high use of electronic devices', 'EvoRecSys', 'increased use of gadgets', 'communication and awareness about EVs', 'technology anxiety', 'unlimited use of technologies', 'use of electronic media and telecommunication gadgets', 'technological gadgets', 'electronic gadgets', 'excessive use of technology among adolescents', 'electronic appliances', 'technology addiction', 'excessive use of electronic devices', 'use of electronic gadgets', 'electric and electronic equipment (EEE)', 'electronic devices proliferation', 'miniaturisation of the devices', 'electronic devices', 'incorrect disposal of electronic devices', 'home computer', 'computers', 'computers', 'semiconductor chips of the complementary metal oxide semiconductor (CMOS) transistor structure', 'extending the lifespan of software and devices', 'use of electronic devices', 'home computer', 'electronic devices', 'problematic information and communications technology (ICT) use', 'hardware solutions', 'excessive use of electronic gadgets', 'IT equipment', 'excessive electronic device use', 'problematic technology use', 'computer', 'advanced digital gadgets', 'unlimited use of technologies', 'personal computer', 'high use of electronic devices', 'EvoRecSys', 'miniaturisation of the devices', 'electronic devices', 'incorrect disposal of electronic devices', 'use of gadgets', 'usage of electronic gadgets', 'electronic device consumption', 'electronic invoices', 'electronic equipment production and consumption', 'trans-boundary movement of second-hand electronic equipment', 'computer', 'laptop', 'special dash boards', 'Raspberry Pi', 'use of electronic devices', 'excessive use of technology', 'ACVFS', 'manufacturing phase of the PC', 'problematic technology use', 'computer', 'advanced digital gadgets', 'unlimited use of technologies', 'personal computer', 'high use of electronic devices', 'EvoRecSys', 'Smart gadgets', 'home use of electronic devices', 'use of modern gadgets and digital technologies', 'computers', 'computers', 'problematic technology use', 'computer', 'advanced digital gadgets', 'unlimited use of technologies', 'problematic technology use', 'computer', 'advanced digital gadgets', 'unlimited use of technologies']"
        ],
        [
         "12",
         "15",
         "['personal innovativeness', 'technology use (TU)', 'technological advancements and policy measures', 'vINCI technology', 'triangulating 3 HCI instruments', 'convenience of use', 'innovative', 'continued system use (CSU)', 'responsible use of technology', 'technology', 'technological progress', 'extent of use', 'computer-related training', 'digital innovation', 'proposed system', 'technological capabilities', 'technologies', 'technology design', 'reliance on technology', 'technology use', 'technological development', 'technology dependence', 'technology use by the entire family', 'technological advancements', 'technology', 'innovative culture', 'technological advances', 'IT use', 'new technologies', 'open source design principles', 'modern technological implements in learning, recreation and occupation', 'advancements in technology', 'utilization of technology for support', 'Utilization of IT', 'intuitive design', 'continued system use (CSU)', 'biotechnology', 'nanotechnology', 'technological governance', 'Technological factors', 'technology use', 'modern technology', 'technology use', 'computer technology', 'modern technology', 'low-cost and user-friendly innovations', 'technological innovations', 'internet and gadgets reliance', 'task–technology fit (TTF)', 'technology', 'technology use', 'technological innovation', 'technical curiosity', 'technological optimism', 'technology advancement', 'technology utilization', 'sustainable design–based solutions', 'design solutions', 'technology', 'educational activities concerning electric bicycles', 'technological revolution', 'continued system use (CSU)', 'responsible use of technology', 'technology', 'technological progress', 'extent of use', 'computer-related training', 'digital innovation', 'proposed system', 'technological capabilities', 'ethical design', 'technological infrastructure', 'technology and innovation', 'cutting-edge technology', 'technological services improvement', 'targeted digital training', 'new technology use', 'technology development', 'use of new technologies', 'modern technology utilization', 'technology mediation', 'HCI research and design approaches', 'increased reliance on technology', 'digital innovation', 'digital innovations like AI and social media', 'educational activities concerning electric bicycles', 'technological revolution', 'continued system use (CSU)', 'responsible use of technology', 'technology', 'technological progress', 'extent of use', 'computer-related training', 'digital innovation', 'proposed system', 'technological capabilities', 'technologies', 'technology design', 'reliance on technology', 'technology use', 'technological development', 'technology', 'technology use', 'modernization', 'use of technology', 'harnessing new technologies', 'technological interaction', 'technology', 'cyber technologies', 'SOHO applications', 'technological turbulence', 'Line use', 'access to technology and devices', 'use of technology', 'new technology', 'transportations', 'co-use', 'time on technology', 'technology development', 'transfer of technology', 'population affordability of new technologies', 'Innovation', 'technological functions', 'technologies which facilitate time saving and shifting', 'assistive technologies', 'technological revolution', 'Critical Engineering', 'technology use, specifically internet use', 'recreational technology', 'technology', 'technology', 'technology use', 'learning technologies', 'developing technological solutions for the wider community', 'individual innovative capabilities', 'diffusion of innovation (DOI)', 'technological innovativeness', 'use of advanced technologies', 'technology-focused activities', 'socio-technical dynamics', 'innovative solutions by LIS professionals', 'digital innovations', 'understanding of the technologies', 'computer-related training', 'digital innovation', 'proposed system', 'technological capabilities', 'technologies', 'technology design', 'reliance on technology', 'technology use', 'technological development', 'technology dependence', 'implementing selected technologies and architectures', 'positive changes introduced in the past year', 'use of modern technology', 'sustainable design–based solutions', 'design solutions', 'technology', 'educational activities concerning electric bicycles', 'technological revolution', 'continued system use (CSU)', 'responsible use of technology', 'technology', 'technological progress', 'extent of use', 'computer-related training', 'digital innovation', 'proposed system', 'technological capabilities', 'technologies', 'technology design', 'extent of use', 'computer-related training', 'digital innovation', 'proposed system', 'technological capabilities', 'technologies', 'technology design']"
        ],
        [
         "13",
         "17",
         "['smart technology', 'wireless sensor networks', 'sensor network with delay tolerance (SeNDT) units', 'Smart sensors and other IoT devices', 'smart home technology', 'mobile application connected to the sensors', 'smart gardening', 'automated irrigation system', 'electronic circuits for remote sensing for water conductivity using Zigbee', 'smart energy meter', 'smart metering strategies', 'wireless sensor networks (WSNs)', 'smart water management technology', 'smart water and energy meters', 'smart meters deployment', 'smart devices', 'smart metering using machine-to-machine (M2M) communication', 'advanced metering infrastructure (AMI)', 'Mobile applications based on gas sensing', 'Metal oxide semiconductor (MOX) gas sensors', 'intelligent sensors', 'SensorWebBike', 'smart meters', 'smart homes', 'Wireless sensor networks', 'Energy harvesting sensor', 'Energy Harvesting routing protocol for Wireless Sensor Networks (EHWSN)', 'new method to estimate lake water volume', 'Smart Object System', 'monitoring sensor network', 'digital water and energy maps', 'smart meters and remote sensor systems', 'camera sensor network (CSN)', 'smart measurement system', 'smart meter data', 'smart devices', 'smart home technology', 'smart meters', 'building automation systems', 'sensors and smart devices', 'data-driven smart technologies', 'late device use', 'Smart Home device', 'multisensory system on board of a commercial small drone', 'smart devices', 'smart home technology', 'mobile application connected to the sensors', 'intelligent devices', 'Smart technology for Water', 'smart metering', 'Extended Smart Metering Display', 'sensors and monitoring system', 'Wireless Sensor Network (WSN)', 'Online POTable water quality monitoring NETwork (POTNET)', 'smart metering deployment', 'internet-enabled end-user devices and networked sensors', 'new metering technologies combined with information systems', 'Conceptualization and Sensor-less Sensing', 'smart device use', 'control of smart device usage', 'smart systems', 'smart devices', 'built-in sensors', 'smart technology', 'smart homes', 'smart business enterprises', 'communication, Information Technology, Intelligent Algorithms and Advanced Metering Infrastructure', 'step counting devices', 'smart meters', 'wireless ESP8266 sensor network', 'mobile application connected to the sensors', 'smart gardening', 'automated irrigation system', 'electronic circuits for remote sensing for water conductivity using Zigbee', 'Wireless Sensor Networks (WSNs)', 'Smart Meters (SM)', 'smart home automation systems', 'smart meter data', 'smart devices', 'smart home technology']"
        ],
        [
         "14",
         "18",
         "['exergames', 'gaming', 'video gaming', 'video game addiction', 'digital gaming', 'video gaming', 'online, multi-player experiences', 'psychological involvement in video gaming', 'playing computer games of the genre first-person shooter and MOBA', 'use of electronic games', 'videogames in the bedroom', 'internet gaming disorder', 'interactive multimedia online videogame', 'computer games, internet', 'game online addiction', 'app-based games', 'television, computer and online games', 'video gaming', 'video gaming', 'educational video game', 'computer games', 'handheld gaming devices', 'Internet Gaming Disorder (IGD)', 'digital gaming', 'online gaming', 'online game addiction', \"video game consoles in children's bedrooms\", 'child possession of handheld video games', 'child possession of music devices', 'Ludo Star game addiction', 'problematic online gaming', 'console-gaming aggression', 'handheld gaming devices', 'science fiction and fantasy (SFF)', 'Online game play', 'Internet Gaming Disorder (IGD)', 'internet gaming disorder', 'interactive multimedia online videogame', 'computer games, internet', 'video games', 'digital gaming', 'sport games', 'gaming', 'Safe City mobile game', 'internet gaming disorder', 'interactive multimedia online videogame', 'computer games, internet', 'game online addiction', 'video game', 'video recording of a game', 'video gaming', 'life simulation games', 'doomscrolling', 'computer and console games, as well as TV programs', 'video games', 'gaming addiction', 'internet game dependency', 'online video gaming', 'balanced gaming habits', 'video games', 'active gaming', 'online gaming', 'serious video games', 'online gaming', 'smartphone gaming', 'digital gaming', 'internet gaming disorder (IGD)', 'problematic video-gaming', 'e-game/computer use', 'active video games and motor games', 'video games', 'exergames', 'video games', 'gaming', 'game console use', 'video game play', 'pervasive games', 'mobile, location-based pervasive game', 'game online addiction', 'handheld gaming devices', 'online gaming addiction', 'internet gaming disorder', 'interactive multimedia online videogame', 'computer games, internet', 'game online addiction', 'game online addiction']"
        ],
        [
         "15",
         "19",
         "['smartphones', 'GPS and camera-equipped mobile devices', 'photogrammetry software or mobile device-based GPS', 'Internet and mobile phones', 'custom smartphone application', 'mobile phone penetration', 'mobile device adoption', 'mobile-based payment (M-payment) services', 'proposed app', 'mobile banking adoption', 'smartphone application and web dashboard', 'mobile applications', 'approach to improve mobile device resources efficiency', 'mobile phone time', 'mobile terminal positioning technology', 'smartphones', 'mobile application', 'Web-based mobile application', 'ownership transfer', 'massive use of tablets and mobiles', 'smartphone app', 'mobile technology', 'total abstinence from smartphone use', 'reduction of daily smartphone use by 1 hr', 'smartphones', 'Android application for smartphones', 'mobile phone fees', 'mobile phone usage', 'WeChat Pay', 'technology assistance through language learning apps', 'mobile phones', 'cell phone', 'mobile payment', 'Payment Culture (PC)', 'smartphone use and internet browsing', 'Problematic smartphone use (PSU)', 'increased usage of mobile devices', 'smartphone battery temperatures', 'Android application for smartphones', 'smartphone apps for brain training', 'Geo-Tracker App', 'Android-based application', 'mobile technology sharing', 'smart-phone application', 'excessive use of mobile devices for work purposes during nonwork time', 'mobile phone ownership', 'payment', 'late-night smartphone usage for work', 'mobile phone ownership', 'mobile phone vibrations to interrupt extended periods of inactivity', 'mobile money adoption', 'pedometers', 'Internet, mobile phone and social media penetration', 'smartphone-based virtual reality (spVR) system', 'mobile and internet penetration', 'mobile phones', 'government-developed APPs', 'cellular users growth', \"'Our Energy', a custom mobile application (app)\", 'intelligent ordering system (IOS)', 'smart phone technology', 'mobile technology dissemination', 'ubiquity of smartphones', 'SNS device usage environment', 'mobile and internet penetration', 'Arduino-based mobile platforms', 'child possession of cell phones', 'mobile technologies', 'mobile phone usage', 'mobile phones, televisions', 'portable global positioning system (GPS) units', 'GPS technology', 'mobile phone industry', 'Smartphones', 'late-night cell phone use', 'smartphone use', 'sharing smartphone use data with parents', 'smartphone usage', 'mobile technology usage', 'mobile payment (m-payment) continuance', 'mobility', 'mobile phone usage', 'mobile information and communication technologies (MICTs)', 'using internet and mobile phones', 'GPS', 'ownership of a smartphone', 'apps and other technology-related solutions', 'longer mobile phone use time', 'mobile payment (m-payment)', 'cellular technology usage', 'mobile phone use', 'smartphone use', 'dumbphone use', 'responsive website', 'choice of an iOS- or Android-powered smartphone', 'new consumer apps', 'mobile apps', 'computers and smartphones', 'give impetus to reclaim used mobile phones', 'hedonic use of smartphones', 'massive use of tablets and mobiles', 'smartphone app', 'mobile technology', 'total abstinence from smartphone use', 'reduction of daily smartphone use by 1 hr', 'smartphones', 'Android application for smartphones', 'mobile phone fees', 'mobile phone usage', 'smartphone and smartband technology', 'mobile technology', 'smartphone use', 'smartphone use time', 'Mobile usage', 'responsiveness', 'mobile phones', 'smartphone use motives', 'smartphone ownership', 'GPS app in smartphone', 'mobile phones', 'smartphone-based pedometer', 'smartphones', 'PPPs and mobile phones', 'smartphone use', 'real-time indoor positioning system with WiFi data analytics', 'Web-based resources and smart-phone applications', 'mobile phone access', 'scrolling and browsing', 'mobile devices', 'computers and smartphones', 'give impetus to reclaim used mobile phones', 'hedonic use of smartphones', 'massive use of tablets and mobiles', 'smartphone app', 'mobile technology', 'total abstinence from smartphone use', 'reduction of daily smartphone use by 1 hr', 'smartphones', 'Android application for smartphones', 'mobile phone fees', 'mobile phone usage', 'WeChat Pay', 'technology assistance through language learning apps', 'mobile phones', 'cell phone', 'mobile payment', 'Payment Culture (PC)', 'smartphone use and internet browsing', 'Problematic smartphone use (PSU)', 'increased usage of mobile devices', 'mobile phone usage', 'mobile information and communication technologies (MICTs)', 'using internet and mobile phones', 'smartphone', 'Internet/smartphone use', 'cell zooming enabled cellular architecture', 'mobile-based advices', 'mobile phone use', 'proxy for human occupancy rates using WIFI logins', 'Mobile technologies', 'mobile application use', 'Zest app', 'smartphone-based study', 'mobile banking transactions', 'mobile apps usage', 'customization of business app', 'compatibility of business app', 'mobile phones use', 'mobile phone use', 'procurement and use of computers and mobile phones', 'smartphones', 'mobile phones', 'smartphone dependency', 'smartphone usage', 'ownership of consumer electronics (CE)', 'mobile application', 'smartphone application', 'Mobile phone use', 'mobile Internet usage', 'use of mobile cell-phones', 'branded mobile apps from supermarkets', 'mobile phone usage', 'mobile-based technology', 'smartphone or tablet apps', 'pedometer', 'website delivered by a smartphone', 'smart phone technology and web-based platforms', 'mobile interface', 'Internet and mobile phones', 'smart phones', 'cell phone use', 'Cayenne Software', 'ubiquitous computing technologies', 'Mobile Phones usage', 'smartphone usage dependency', 'smartphone use', 'smartphone dependency', 'modern technology such as cell phone', 'mobile phone penetration', 'use of new-age apps', 'smartphone use', 'mobile device usage environment', 'mobile phone usage', 'mobile app', 'outreach platform and mobile app (uniWeatherTM)', 'mobile phone technology', 'shared transportation apps (STA)', 'mobile technology', 'application on an Android device and an LCD on an air purifier device', 'Android mobile app', 'mobile phones', 'mobile phone applications', 'problematic smartphone use', 'smartphone use for personal purposes', 'mobile menstrual tracking apps', 'modern mobile ICT (tablets, smart phones)', 'dating apps', 'mobile device application', 'work-related smartphone use during off-job time', 'internet-enabled mobile digital devices', 'mobile phone', 'smartphone use', 'mobile apps', 'mobile applications', 'Android-based application', 'Java programming language, Firebase, and Arduino software', 'compulsive use of mobile SNS applications', 'mobile based technologies', 'Welithota mobile application', 'mobile phone use among Latinos', 'mobile phone fees', 'mobile phone usage', 'WeChat Pay', 'technology assistance through language learning apps', 'mobile phones', 'cell phone', 'mobile payment', 'Payment Culture (PC)', 'smartphone use and internet browsing', 'Problematic smartphone use (PSU)', 'increased usage of mobile devices', 'smartphone battery temperatures', 'Android application for smartphones', 'smartphone apps for brain training', 'Geo-Tracker App', 'GPS watches', 'mobile phone application for soil monitoring', 'mobile applications (apps) use', 'Zoom software', 'Mobile phones', 'problematic smartphone use', 'mobile computing', 'smart phone-based visibility monitoring system', 'responsive website', 'choice of an iOS- or Android-powered smartphone', 'new consumer apps', 'mobile apps', 'computers and smartphones', 'give impetus to reclaim used mobile phones', 'hedonic use of smartphones', 'massive use of tablets and mobiles', 'smartphone app', 'mobile technology', 'total abstinence from smartphone use', 'reduction of daily smartphone use by 1 hr', 'smartphones', 'Android application for smartphones', 'mobile phone fees', 'mobile phone usage', 'WeChat Pay', 'technology assistance through language learning apps', 'mobile phones', 'cell phone', 'mobile payment', 'Payment Culture (PC)', 'smartphones', 'Android application for smartphones', 'mobile phone fees', 'mobile phone usage', 'WeChat Pay', 'technology assistance through language learning apps', 'mobile phones', 'cell phone', 'mobile payment', 'Payment Culture (PC)']"
        ],
        [
         "16",
         "20",
         "['activity monitor', 'mobile technology usage for health enhancement', 'health enhancement app usage', 'activity monitor with sitting reminders', 'mobile health applications', 'mobile phone-based self-care program', 'physical activity monitoring system', 'interactive activity design', 'fitness apps, wearables, exergames, and chatbots', 'mobile phones tracking and measuring physical activity', 'Fitbit© tracker', 'health messages', 'programs related to health education', 'exercise website, mobile apps and movement detection technologies', 'mobile phone app interventions', 'Wellness Wave', 'fitness apps design elements', 'mobile phone application for sustainable behaviors', 'Fitbits', 'mobile health (mHealth)', 'Apple Watch Series 4', 'Fitbit Versa', 'mobile apps to lose weight', 'exercise mobile apps', 'mobile interventions', 'Fitbits', 'smartphone apps aimed at promoting healthy habits', 'smartphone-based lifestyle interventions', 'mobile phone-based ecological momentary assessment (CEMA)', 'mobile technology usage for health enhancement', 'health enhancement app usage', 'activity monitor with sitting reminders', 'mobile health applications', 'mobile phone-based ecological momentary assessment (CEMA)', 'mobile technology usage for health enhancement', 'health enhancement app usage', 'activity monitor with sitting reminders', 'mobile health applications', 'mobile phone-based self-care program', 'physical activity monitoring system', 'Fitbits', 'physical activity mobile apps', 'Diet and Exercise Mobile Applications', 'health apps', 'continuous glucose monitor and accelerometer', 'Sweatcoin app usage', 'activity tracker', 'sports apps using', 'mobile phone intervention', 'health applications', 'health-related Apps', 'mobile health literacy (mHL)', 'physical activity–related apps', 'Apple Women’s Health Study', 'mHealth app for smartphones', '¡Hola Bebe, Adios Diabetes! app', 'mobile health applications', 'mobile phone-based self-care program', 'physical activity monitoring system', 'Fitbit Surge', 'mobile interventions', 'Fitbits', 'smartphone apps aimed at promoting healthy habits', 'smartphone-based lifestyle interventions', 'mobile phone-based ecological momentary assessment (CEMA)', 'mobile technology usage for health enhancement', 'health enhancement app usage', 'activity monitor with sitting reminders', 'mobile health applications', 'mobile phone-based self-care program', 'activity monitor with sitting reminders', 'mobile health applications', 'mobile phone-based self-care program']"
        ],
        [
         "17",
         "21",
         "['lifestyle', 'providing convenient channels for rural older adults to use the internet', 'improving the ability of rural users to effectively use the internet', 'promoting internet popularity in rural areas', 'lifestyle', 'individual habits', 'lifestyle changes', 'interoperability', 'integrating advanced digital technologies', 'higher education IS', 'use of the internet to assist with lifestyle modifications', 'use of the internet to obtain health information', 'Net Oriented Lifestyle', 'Lifestyle Compatibility (LC)', 'distance technology interventions', 'healthy living website', 'internet use for promoting healthy lifestyle', 'online education', 'hybrid education', 'web-based lifestyle support tools', 'home-based education', 'technology integration', 'digital well-being', 'health information behaviour', 'online nutrition education', 'online lifestyle', 'health and wellbeing program attributes', 'personal lifestyle', 'internet use in seeking healthy lifestyle behavior (HLB) information on diet and exercise', 'health behaviour similarity', 'online language education', 'Internet lifestyle', 'online education', 'digital well-being', 'Open Distance Learning (ODL) institutions', 'Lifestyle', 'habit', 'online health information seeking', 'healthy online lifestyle', 'construction of a multi-dimensional indicator system for the well-being of rural residents', 'online lectures', 'software interoperability', 'new lifestyles revolving around the home and the internet', 'prevention-focus', 'lifestyle', 'fitness band', 'manually reporting lifestyle and well-being data', 'online study', 'ensuring appropriate online delivery of advisory and assistance measures', 'lifestyle', 'digital wellbeing initiatives', 'wellbeing supportive design', 'online weight/diet monitoring', 'integration of digital technology', 'digital interventions and information technology', 'habits', 'Internet interventions', 'two-dimensional (2D) online interventions', 'use of information and communication technology (ICT) for a health-promoting lifestyle behaviour programme', 'Lifestyle', 'integrating advanced digital technologies', 'higher education IS', 'use of the internet to assist with lifestyle modifications', 'use of the internet to obtain health information', 'Digital Wellbeing (DWB)', 'digital health', 'distance learning', 'false tag interventions', 'inoculation interventions', 'digital insertion by means of blogs, computing approach and activities', 'network lifestyle', 'digital interventions', 'lifestyle-based apps', 'time-oriented lifestyle', 'net-oriented lifestyle', 'healthy internet activity', 'distance education', 'cyber wellness', 'education and training on cyber wellness and digital well-being', 'lifestyle', 'lifestyle', 'HutchWorld', 'Lifestyle', 'integrating advanced digital technologies', 'higher education IS', 'use of the internet to assist with lifestyle modifications', 'use of the internet to obtain health information', 'Net Oriented Lifestyle', 'Lifestyle Compatibility (LC)', 'distance technology interventions', 'healthy living website', 'integration of digital health technologies', 'internet use for promoting healthy lifestyle', 'digital wellbeing initiatives', 'wellbeing supportive design', 'online weight/diet monitoring', 'integration of digital technology', 'exercise-and diet blog community', 'fitness culture', 'lifestyle', 'well-being', 'changes in lifestyle', 'Internet-based psychological interventions', 'information technology integration', 'software for life cycle assessment (LCA)', 'online learning community', 'lifestyle', 'healthier online habits', 'modern lifestyles changes', 'Opportunistic Interventions', 'remedies in the form of adaptation', 'Digital well-being', 'digital detox', 'lifestyle', 'technology integration', 'networked health information on diabetes', 'Lifestyle', 'education systems', 'digital technology interventions', 'digital well-being', 'digital detox interventions', 'digital wellness', 'lifestyle', 'habit', 'online learning platforms', 'resistance to change', 'proteus effect', 'full-filled lifestyle', 'electronic health record system', 'use of the internet to assist with lifestyle modifications', 'use of the internet to obtain health information', 'Net Oriented Lifestyle', 'Lifestyle Compatibility (LC)', 'distance technology interventions', 'healthy living website', 'integration of digital health technologies', 'internet use for promoting healthy lifestyle', 'online education', 'hybrid education', 'web-based lifestyle support tools', 'DG (increased use of)', 'fitness is a lifestyle', 'Internet interventions', 'two-dimensional (2D) online interventions', 'use of information and communication technology (ICT) for a health-promoting lifestyle behaviour programme', 'Lifestyle', 'integrating advanced digital technologies', 'higher education IS', 'use of the internet to assist with lifestyle modifications', 'use of the internet to obtain health information', 'Net Oriented Lifestyle', 'Lifestyle Compatibility (LC)', 'distance technology interventions', 'use of the internet to assist with lifestyle modifications', 'use of the internet to obtain health information', 'Net Oriented Lifestyle', 'Lifestyle Compatibility (LC)', 'distance technology interventions']"
        ],
        [
         "18",
         "22",
         "['mass media', 'mass media campaigns', 'raising awareness by global mass media', 'role of mass media in fostering public awareness', 'media campaigns and branding', 'personal perceived environmental threats', 'appearance-focused television exposure', 'media coverage of air pollution', 'Pambazuka News', 'printing', 'ethic of solidarity in digital journalism', 'Urging media to raise environmental awareness', 'being mindful about environmental destruction', 'digital media', 'U.S. mass media', 'attention to mass media', 'media usage', 'media reportage on climate change and adaptation', 'media', 'cleanliness representations in Swedish media', 'digital media', 'media-induced recovery', 'digital media use behaviors', 'mass media messaging', 'media and other technologies', 'impact of novel, consumption-focused media', 'garnering national mass media coverage', 'media campaigns', 'open access publication', 'manuscript transfer service', 'electronic media exposure', 'digital media', 'Twitter/X communication by climate action NGOs', 'media', 'social media campaigns', 'media outlets assuming quasi-judicial roles', 'press freedom', 'responsible journalism', 'media trials', 'informed and impartial media landscape', 'adjusting targets’ audiences', 'mass media', 'electronic media as a sources of information', 'print media as a source of information', 'new media model for promoting marine conservation awareness', 'mass media information dissemination', 'media', 'absence of coverage of relevant local issues by the media', 'openness of media', 'newspapers', 'climate change communications', 'print news use', 'television news use', 'interpersonal relationships with journalists', 'Mass Communications and Human Rights', 'print media', 'electronic media (mobile and internet)', 'new media', 'digital-only publication', 'Media and internet', 'mass media campaigns', 'garnering national mass media coverage', 'flooding of the internet with misinformation, including climate change denial', 'television news frames PA', 'news coverage of PA', 'toluene exposure', 'newspaper coverage', 'communication of environmental awareness through social media', 'media use', \"media's effect on lifestyle\", 'provision of information from social media and mass media', 'media use', 'effective use of mass media', 'digital resources', 'lifestyle magazines for women', 'mass media', 'media device availability in personal space', 'full-view coverage CSN', 'youth-oriented magazines', 'music/entertainment magazines', 'sports magazines', \"men's lifestyle magazines\", 'mass media and information technology', 'phones, radio, and newspapers', 'cable news consumption', 'digital media consumption', 'media influence', 'consumption portrayal', 'media attention to the issue of drunk driving', 'media exposure', 'digital media promotion', 'digital media', 'urging media to raise environmental awareness', 'exposure to climate change-related information on SNSs', 'fear of victimization from climate change', 'cleanliness representations in Swedish media', 'digital media', 'media-induced recovery', 'digital media use behaviors', 'mass media messaging', 'media and other technologies', 'impact of novel, consumption-focused media', 'involvement of the media space', 'hybrid digital formats', 'digital publications', 'media exposure, particularly to violent movies', 'new media', 'traditional media', 'engaging with the media', 'mass media coverage of eutrophication', 'mass-media campaigns', 'information availability and media coverage', 'media', 'recreational media use (RMU)', 'media promotes youth and consumerist lifestyles', 'environmental media', 'social media campaigns', 'electronic media use', 'representations of older people and ageing in print and TV media', 'exposure to COVID-related news', 'exposure to COVID-related kind acts', 'persistent news coverage of school shootings', 'celebrity magazine consumption', 'celebrity TV news consumption', 'total celebrity media diet', 'use of digital media for training', 'digital content', 'mass media', 'urging media to raise environmental awareness', 'exposure to climate change-related information on SNSs', 'fear of victimization from climate change', 'cleanliness representations in Swedish media', 'digital media', 'media-induced recovery', 'digital media use behaviors', 'mass media messaging', 'media and other technologies', 'impact of novel, consumption-focused media', 'garnering national mass media coverage', 'media campaigns', 'open access publication', 'manuscript transfer service', 'electronic media exposure', 'digital media', 'Twitter/X communication by climate action NGOs', 'digital resources', 'lifestyle magazines for women', 'mass media exposure', 'media portrayal of racial/ethnic minorities', 'digital media', 'media discourse on single-use plastic', 'media campaigns', 'multimedia content consumption', 'mass media coverage', 'editorial pressures', 'digital media', 'Media and Information Literacy (MIL) policies', 'traditional sources', 'exposure to women’s magazines', 'exposure to situation comedies', 'effects of promotion on the internet and visual media', 'digital entertainment', 'media richness', 'exposure to media', 'use of mass media in maternal health programs', 'citizen science', 'media coverage of air pollution issues', 'mass media coverage', 'editorial pressures', 'media campaign', 'media', 'media representations of dementia', 'mass media campaigns', 'raising public awareness on air pollution through mass and social medias', 'media reporting on air pollution', 'development of air pollution and health related story hooks', 'creating a forum to connect journalists with scientists', 'media exposure through images of Korean female model', 'media use (television and internet exposure)', 'increasing visibility of Indigenous families in the mainstream Australian media', 'popularity of certain celebrities like Ernie Dingo, Nova Peris and Cathy Freeman', 'media censorship', 'restrictions on independent journalism', 'mass media', 'printed-media educational program', \"children's media consumption\", 'media pressure', 'independent media', 'new, conditional approach to media freedom', 'framing of climate change as threat to human lives and livelihood', 'human causes of climate change', 'a need for climate justice', 'information dissemination by media', 'attacks on media freedom', 'responsible reporting on suicides', 'minority-sensitive media', 'printing and binding activities', 'environmental consciousness', 'media use', 'electronic media use', 'occidental model and media information', 'media', 'exposure to body-focused imagery', 'postpartum-health-focused imagery', 'environmental and health friendliness', 'positive environmental impact', 'newspaper articles', 'exposure to information and communication technology', 'COVID-related media consumption', 'media richness', 'digital interactive media (DIM)', 'mainstream media', 'media storm and user panic', 'media framing', 'media coverage and informational campaigns', 'information availability and media coverage', 'mass media', 'mass media messaging', 'media and other technologies', 'impact of novel, consumption-focused media', 'garnering national mass media coverage', 'media campaigns', 'open access publication', 'manuscript transfer service', 'electronic media exposure', 'digital media', 'Twitter/X communication by climate action NGOs', 'media', 'electronic media', 'print edition of a magazine', 'new media', 'traditional media', 'access to media', 'openness of media', 'media attention to the issue of drunk driving', 'media exposure', 'digital media promotion', 'digital media', 'urging media to raise environmental awareness', 'exposure to climate change-related information on SNSs', 'fear of victimization from climate change', 'cleanliness representations in Swedish media', 'digital media', 'media-induced recovery', 'digital media use behaviors', 'mass media messaging', 'media and other technologies', 'impact of novel, consumption-focused media', 'garnering national mass media coverage', 'media campaigns', 'open access publication', 'manuscript transfer service', 'electronic media exposure', 'digital media', 'digital media', 'media-induced recovery', 'digital media use behaviors', 'mass media messaging', 'media and other technologies', 'impact of novel, consumption-focused media', 'garnering national mass media coverage', 'media campaigns', 'open access publication', 'manuscript transfer service', 'electronic media exposure', 'digital media']"
        ],
        [
         "19",
         "25",
         "['live broadcasting', 'watching television, listening to fast music and religious leisure', 'long time watching TV', 'excess television (TV) viewing', 'moderate amount of TV viewing (1 to ≤2 hours/day)', 'TV and video', 'televisions', 'listened to music from the radio and watch TV', 'TV viewing time', 'TV+computer in the bedroom', 'TV viewing', 'reduce the daily time spent with television and computer', 'television viewing', 'television', 'watching television and playing computer', 'family-life television content', 'violent television program', 'video-on-demand cable television', 'watching television and/or using the computer', 'videoconference technology', 'video transmission (streaming)', 'western television programs', 'violent scenes', 'TV and/or radio watching', 'watching television', 'technology usage (use of video and web-based delivery)', 'computer games and TV-watching', 'television', 'television/day', 'watching videos/livestreams concerning pets', 'Social television (Social TV) viewing of live sports events', 'decreasing television viewing', 'videoconferencing', 'watching TV', 'hours watching TV daily', 'time on the Internet / social networks and at TV screens', 'audio-visual transmission technology', 'TV usage environment', \"TVs in children's bedrooms\", 'watching more television', 'video streaming', 'traditional DVD methods', 'watching videos', 'watching news', 'television viewing', 'Big Brother Africa reality show', 'TV drama series', 'high television time', 'Video On Demand and Video \"over the top\" (OTT) services', 'home entertainment', 'video processing and streaming', 'video transmission algorithms or infrastructures', 'promoting video conferencing to minimise business travel', 'TV viewing', 'reduce the daily time spent with television and computer', 'television viewing', 'digital terrestrial television', 'online delivery of video-on-demand', 'larger television screens', 'use of video technologies', 'bedroom television', 'mobile IPTV', 'watching movies/Television while eating', 'LED TV display', 'smart TV', 'watching time of TV', 'television programs', 'TV viewing time', 'viewing The Biggest Loser', 'promoting video conferencing to minimise business travel', 'TV viewing', 'reduce the daily time spent with television and computer', 'television viewing', 'television', 'watching television and playing computer', 'family-life television content', 'violent television program', 'Big Brother Africa reality show', 'TV viewing-reduction', 'videoconferencing', 'more than 4 h of daily TV, video, or computer use', 'television', 'reduce leisure time on electronic entertainment', 'daily time spent using television and radio', 'television viewing', 'live video delivery format', 'TV viewing', 'number of televisions', 'media viewing', 'videoconferencing and audioconferencing', 'time spent watching television', 'documentary Forks Over Knives', 'TV series watching', 'TV usage environment', 'radio', 'T.V and Radio', 'improving the quality of YouTube travel contents', 'television viewing', 'television', 'videoconferencing', 'watching television or using computers', 'sharing documents using cloud storage or video conferencing instead of travelling', 'display unit', 'watching TV', 'television-led media approach', 'television watching', 'television viewing', 'television viewing', 'television', 'watching television and playing computer', 'family-life television content', 'violent television program', 'video-on-demand cable television', 'home entertainment', 'video processing and streaming', 'video transmission algorithms or infrastructures', 'promoting video conferencing to minimise business travel', 'TV viewing', 'reduce the daily time spent with television and computer', 'television viewing', 'television', 'watching television and playing computer', 'reduce the daily time spent with television and computer', 'television viewing', 'television', 'watching television and playing computer']"
        ],
        [
         "20",
         "26",
         "['screen time use', 'time occupied by the game', 'hours in front of electronic devices', 'screen time', 'use of computers and television', 'pervasive use of television and video devices', 'screen time and mobile phone use', 'kept daily recreational screen time to 31-60 minutes', 'time spent by screens', 'screen time', 'Screenomics paradigm', 'usage of screen-based media devices by children', 'usage of screen-based media devices by parents', 'screen time', 'screen time', 'time spent on different SM platforms', 'time on screen (>1 h/day)', 'time management', 'digital screen usage', 'familiar devices (as TV)', 'use of ≥2 screens concurrently', 'integration of screens in everyday experience', 'screen use', 'replacement of cathode ray tube screens (CRTs) by flat screens', 'daily screen use', 'television/digital video disk/video viewing and computer/games-console use', 'video game time use', 'screen quota system', 'screen time', 'use of computers and television', 'pervasive use of television and video devices', 'television viewing/computer use', 'screen time (television, videos and video games)', 'total screen time', 'screen media access', 'increased use of screens for work, education and recreation', 'screen time', 'use of computers and television', 'pervasive use of television and video devices', 'daily screen use', 'screen time viewing', 'screen time', '<2 hours spent daily in screen-based behaviors', 'electronic screen exposure time', 'screen time (watching television and playing computer games)', 'excessive screen time', 'screen-based media use', 'screen time', 'time spent on games and computers', 'screen time', 'increased screen usage', 'Internet screen time', 'video game time use', 'screen time use', 'screen time reduction', 'habitual screen time', 'reducing smartphone screentime', 'high screen time', 'screen-based media (SBM) use', 'screen-based activities', 'pervasive use of television and video devices', 'screen time and mobile phone use', 'screen time', 'use of technological screens', 'hourly digital screen time', 'screen time', 'screen time', 'use of computers and television', 'pervasive use of television and video devices', 'use of computers and television', 'pervasive use of television and video devices']"
        ],
        [
         "21",
         "28",
         "['advanced, automated internet technology', 'CEDaCI project', 'geographic information system design', 'Internet technology', 'Web-based technology', 'Web-GIS applications', 'mapping technologies', 'online interactive maps', 'website development', 'web-based system', 'Web service-oriented, open platform', 'two-step mapping algorithm', 'interactive web application', 'create a website to introduce the maritime region', 'Web services', 'self-service technology', 'Web-based GIS maps', 'Geographic Information System (GIS)', 'web-based, interactive internet mapping system', 'Web Application', 'Web 2.0 technology', 'live Web technology', 'spatial maps', 'Internet technology', 'multilingual Web survey', 'monolingual Web survey', 'visualization of road condition maps', 'web interfaces', 'geographic information system design', 'self-service technology (SST)', 'information technology and geographical information systems', 'dynamic web-based delivery system', 'online application', '3S technologies [Remote Sensing (RS), Geographic Information System (GIS) and Global Position System (GPS)]', 'online technologies', 'exertion interfaces', 'web-based forecasting system', 'geographic information system design', 'Internet technology', 'Web-based technology', 'Web-GIS applications', 'on-demand delivery', 'dynamic web application', 'Web-based approach', 'internet-based technologies', 'web project', 'internet development', 'modern cartographic web atlas', 'web application for user-end notifications', 'GIS tools', 'Internet technologies', 'GIS techniques', 'Web-based approach', 'Web-based approach', 'Web-based approach', 'web-based system for visualizing multimodal accessibility', 'wireless technology in conjunction with a website platform', 'web-based information system application', 'more rapid development of online applications', 'GIS-based program called ISBIS', 'geographic information system design', 'Internet technology', 'Web-based technology', 'Web-GIS applications', 'mapping technologies', 'online interactive maps', 'WebGis application', 'web interfaces', 'geographic information system design', 'geographic information system design']"
        ],
        [
         "22",
         "29",
         "['common satellite in South Asian Association for Regional Co-operation (SAARC)', 'new policy framework specific to the application of satellite technologies', 'remote sensing', 'optical satellite imagery', 'field collected meteorological data', 'spectral reflectance', 'satellite remote sensing', 'satellite navigation technology', 'satellite remote sensing data', 'synthetic aperture radar (SAR)', 'snow microwave radiative transfer (SMRT) model', 'Sentinel-5P satellite data', 'climatic data', 'satellite and airborne remote sensing', 'Google Street View (GSV) images', 'Sentinel-1 Synthetic Aperture Radar (SAR) data', 'remote sensing', 'low-cost multispectral sensors', 'Normalized Difference Oil Index (NDOI)', 'Luojia 1-01 nighttime light imagery', 'satellite-based information', 'numerical weather prediction (NWP)', 'seasonal auto-regressive integrated moving average (SARIMA)', 'seasonal auto-regressive integrated moving average with exogenous inputs (SARIMAX)', 'multisource satellites data', 'Unmanned Aerial Vehicle for beach aerial surveillance and monitoring', 'SWOT satellite altimetry mission', 'land surface model-based downscaling approach', 'automated hydrological modeling framework', 'fusion of optical and Synthetic Aperture Radar (SAR) data', 'water level, water area, storage anomaly, and evaporation data from multisource satellites', 'high-resolution night-time satellite imagery', 'satellite data', 'Sentinel-3 radar altimeter', 'Sentinel-1', 'system of information to charts of environmental sensitivity to oil', 'Visible Infrared Imaging Radiometer Suite (VIIRS) satellite hotspots', 'ERA5 gridded weather data', 'RADARSAT-2', 'radar data', 'MODIS sensor on Terra and Aqua platforms', 'Indian Remote Sensing satellite images', 'satellite measurements', 'integrated downscaling-calibration procedure', 'evaporation models', 'local rainfall-runoff model', 'high-resolution satellite-based imaging systems', 'aircraft and satellite sensors data', 'satellite remote sensing', 'remote sensing images from satellites', 'marine navigational radar', 'satellite imagery', 'Polar Vantage V', 'using internet and having satellite', 'optical satellite remote-sensing', 'satellite navigation technology', 'satellite remote sensing data', 'synthetic aperture radar (SAR)', 'snow microwave radiative transfer (SMRT) model', 'Sentinel-5P satellite data', 'climatic data', 'satellite and airborne remote sensing', 'Satellite remote sensing', 'Sentinel-1 (S-1) Synthetic Aperture Radar (SAR) satellite', 'Seasonal and Trend decomposition using Loess (STL)', 'High-Frequency and X-band radars', 'portable, short-range K-band radar prototype', 'remote sensing tools', 'passive microwave satellite data', 'AVHRR data', 'weather forecasts', 'high-resolution remote-sensing data', 'Google Street View as an ecological tool for gathering environmental data in different urban areas and typologies', 'Trend Moment method', 'Open Geospatial Consortium (OGC) sensor observation service (SOS)', 'remote sensing technology', 'optical satellite remote-sensing', 'satellite navigation technology', 'satellite remote sensing data', 'synthetic aperture radar (SAR)', 'snow microwave radiative transfer (SMRT) model', 'Sentinel-5P satellite data', 'climatic data', 'satellite and airborne remote sensing', 'satellite remote sensing', 'remote sensing images from satellites', 'web page for daily ragweed pollen concentration data', 'satellite communications', 'regulation-system that monitors excessive energy used from the radiance threshold of night-time satellite data', 'satellite datasets', 'DMSP/OLS nighttime light data', 'rainstorm severity index', 'satellite data products', 'remote sensing technology', 'Ka-band in satellite links', 'satellite resource dimensioning process', 'nighttime satellite data', 'radiance threshold class', 'satellite remote sensing technology', 'satellite sensors', 'passive spectral data', 'satellite-based monitoring', 'hourly meteorological data', 'satellite observations', 'MODIS (Moderate Resolution Imaging Spectroradiometer)', 'common satellite in South Asian Association for Regional Co-operation (SAARC)', 'new policy framework specific to the application of satellite technologies', 'Sentinel-2 MSI data fusion', 'normalized difference built-up index (NDBI) and normalized difference vegetation index (NDVI)', 'generalized flood DSS (FLOODSS)', 'Sentinel-5P satellite data', 'climatic data', 'satellite and airborne remote sensing', 'Google Street View (GSV) images', 'natural world imagery', 'using internet and having satellite', 'optical satellite remote-sensing', 'satellite navigation technology', 'satellite remote sensing data', 'synthetic aperture radar (SAR)', 'snow microwave radiative transfer (SMRT) model', 'Sentinel-5P satellite data', 'climatic data', 'satellite and airborne remote sensing', 'Sentinel-5P satellite data', 'climatic data', 'satellite and airborne remote sensing']"
        ],
        [
         "23",
         "31",
         "['hybrid model (main grid power and dynamically harvested green energy)', 'backup battery', 'renewable energy sources (RES)', 'Alternate energy sources', 'Renewable energy', 'renewable energy generation', 'hybrid renewable energy system (HRES)', 'energy storage', 'renewable energy sourcing', 'power from renewable sources', 'renewable energy resource integration', 'standalone hybrid energy system', 'stand alone photovoltaic system', 'photovoltaic cells, batteries as well as BoS (balance of system)', 'hybrid solar PV/WT/BG system', 'battery bank', 'small-scale solar-powered solution', 'availability of electrical energy', 'low-cost transformation of decommissioned stepped power battery', 'reduction in the requirement for excess rectifier capacity to meet battery recharge requirements', 'modification of battery maintenance practices and equipment commissioning practices to limit maximum demand', 'renewable sources with automation control through wireless telecommunication', 'phase change energy storage module', 'hybrid solar PV/WT/BG powered macro BSs', 'technological solutions to sustainably power the NFT sector using unutilized renewable energy sources', '15% utilization of curtailed solar and wind power in Texas', '50 MW of potential hydropower from existing nonpowered dams', 'ICT embedded renewable energy storage system', 'developing nuclear power', 'hybrid renewable energy system', 'fuel cell in a renewable energy hybrid system', 'photovoltaic (PV), Wind, Fuel Cell, and battery storage system', 'backup battery', 'renewable energy', 'battery systems', 'lithium batteries', 'Battery Aging and Price-Aware (BAPA) algorithm', 'battery systems in telecommunications base stations', 'solar energy system', 'backup battery', 'renewable energy sources (RES)', 'Alternate energy sources', 'Renewable energy', 'renewable energy generation', 'hybrid renewable energy system (HRES)', 'energy storage', 'hybrid solar PV/WT/BG powered macro BSs', 'hybrid renewable energy system', 'wind turbines (WTs)', 'photovoltaic (PV) solar panels', 'back-up diesel generator (DG)', 'Solar Power Satellites (SPS)', 'biofuel and renewable energy sources', 'novel scheme to provide reliable power to BSs that combines wind and solar photovoltaic (PV) generation with the assistance of an energy storage technology', 'Space Solar Power/SPS', '5G communication site backup battery', 'distributed standby battery', 'renewable energy', 'transitioning to renewable energy sources', 'photovoltaic (PV) equipment', 'diesel generators', 'Diesel/PV hybrid system', 'backup battery', 'renewable energy sources (RES)', 'Alternate energy sources', 'Renewable energy', 'renewable energy generation', 'hybrid renewable energy system (HRES)', 'energy storage', 'renewable energy sourcing', 'electricity mix', 'hybrid solar-wind system', 'metal hydride fuel cells', 'microwave power generation', 'backup energy storage batteries', 'ICT embedded renewable energy storage system', 'developing nuclear power', 'hybrid renewable energy system', 'fuel cell in a renewable energy hybrid system', 'photovoltaic (PV), Wind, Fuel Cell, and battery storage system', 'backup battery', 'renewable energy sources (RES)', 'Alternate energy sources', 'Renewable energy', 'renewable energy generation', 'backup battery', 'renewable energy sources (RES)', 'Alternate energy sources', 'Renewable energy', 'renewable energy generation']"
        ],
        [
         "24",
         "32",
         "['access to information', 'documentation', 'immediate publication of all available information from all sources in understandable form through all means', 'informational use', 'information-seeking', 'digital visibility', 'information and communication approach', 'leaking information by WikiLeaks', 'Information Quality', 'misinformation', 'informatization', 'Native omission', '“Be Ready” trivia campaign', 'exchange and sharing of information', 'information society, information acquisition, creation, manipulation, and dissemination', 'sharing', 'difficulty of access to necessary information', 'informativeness', 'misinformation disseminated by the news media', 'mobile information security awareness', 'information subsidies', 'Commerce and Communication', 'unauthorized access by third parties', 'adoption of stringent data security practices', 'IT Identity', 'self-protection', 'sharenting', 'Flip.id application use behavior', 'sharing and renting models', 'European software regulation', 'communication and information', 'new modes of scholarly communication', 'confronting challenges of documentation', 'immediate publication of all available information from all sources', 'more effective information policy', 'routine knowledge sharing', 'novel knowledge sharing', 'privacy protection', 'Every Village a Knowledge Centre movement', 'movement of information', 'surveillance', 'information seeking about others', 'EU privacy regulation', 'information goods', 'misinformation', 'informatization', 'Native omission', '“Be Ready” trivia campaign', 'privacy', 'information flow', 'information measures', 'immediate publication of all available information from all sources in understandable form through all possible means', 'identity cards', 'surveillance technologies', 'information navigation skills', 'information and awareness campaign', 'information security framework', 'information gratification', 'documentation', 'EU privacy regulation', 'information goods', 'misinformation', 'informatization', 'Native omission', '“Be Ready” trivia campaign', 'exchange and sharing of information', 'Every Village a Knowledge Centre movement', 'information processing timeliness', 'information confusion', 'transparent policies', 'low concerns about data security', 'information seeking practices', 'data surveillance', 'information search for utility, entertainment, and personal expression', 'communication and information', 'immediate publication of all available information from all sources', 'obtaining credible information', 'information sharing', 'information', 'unauthorized use of identity information', 'security', 'passing the information to neighborhoods', 'providing greater information channels', 'development of terminologies booklet', 'facilitating access to information for consumers and producers', 'improve access to information', 'information risk cross-space propagation model', 'cyber surveillance', 'digital surveillance', \"unauthorized use of the Navajo Nation tribe's name and design\", 'communication and information', 'access to information and communications', 'fade mitigation techniques', 'inadequate protection of personal data', 'indigenous knowledge', 'security', 'traceability', 'argument quality', 'privacy concerns', 'information sharing', 'information quality', 'privacy', 'security', 'current privacy policies and practices', 'information communication to the employees and customers', 'exchange and sharing of information', 'Integrated Marketing Communication', 'information society, information acquisition, creation, manipulation, and dissemination', 'active information policy', 'access to information', 'EU privacy regulation', 'information goods', 'misinformation', 'informatization', 'Native omission', '“Be Ready” trivia campaign', 'Native omission', '“Be Ready” trivia campaign']"
        ],
        [
         "25",
         "33",
         "['LSTM-GRU-PPCM model', 'relational learning', 'data processing technologies', 'data justice', 'analysing/monitoring via a dashboard', 'advanced analytics', 'electronic database implementation', 'PUE interpretation tool', 'Mixed Integer Linear Programming (MILP) model', 'data analytics', 'machine learning algorithms', 'Random Forest algorithm', 'data-mining', 'data-modeling', 'measured data management system', 'data driven machine learning approach', 'analysis tool', 'genetic algorithm', 'communication, sensing technology, and machine learning algorithm', 'KNN (K Nearest Neighbor) classification machine learning algorithm', 'cross-border data flows', 'free flow of data', 'liberalization of cross-border data flow', 'parallel outliers algorithm based on density', 'Machine Learning (ML) inference algorithm', 'Support Vector Machine (LibSVM)', 'urban fire model', 'flow', 'data visualization', 'data visualization design toolkits', 'data management', 'data-driven feedback loops', 'third-degree polynomials model', 'digital monitoring systems', 'machine learning-enhanced calibration', 'application of machine learning and deep learning methods', 'data collection without consent', 'Taverna workflow management system', 'support vector machine based forecasting model', 'sentiment analysis', 'Mixed Integer Linear Programming (MILP) model', 'MATLAB program', 'advanced natural language processing techniques, specifically ModernBERT', 'application of specific interpretation algorithms', 'predictive models for the three coefficients', 'linear mixing model of benthic classes', 'neural-network-based algorithm', 'commons-based ownership frameworks for data', 'information analysis and report management systems', 'data infrastructures', 'political economy of personal data', 'social analytics', 'Canada’s use of algorithms in immigration applications', 'stochastic theoretical model', 'PUE interpretation tool', 'Mixed Integer Linear Programming (MILP) model', 'data analytics', 'machine learning algorithms', 'Random Forest algorithm', 'data-mining', 'data-modeling', 'Enhanced Global Gradient Algorithm (EGGA)', 'RE Data Explorer', 'information technology and data analytics', 'First Fit-Decreasing (FFD) algorithm', 'Long Short-Term Memory (LSTM) networks', 'national databases', 'online distributed machine-learning algorithm with real-time data update', 'hybrid models', '0-1 nonlinear integer programming routing adjustment model', 'heuristic algorithm based on the depth-first search', 'heuristic algorithm based on k-shortest paths', 'stochastic theoretical model', 'PUE interpretation tool', 'Mixed Integer Linear Programming (MILP) model', 'data analytics', 'machine learning algorithms', 'Random Forest algorithm', 'data-mining', 'data-modeling', 'measured data management system', 'data driven machine learning approach', 'analysis tool', 'genetic algorithm', 'communication, sensing technology, and machine learning algorithm', 'neural-network-based algorithm', 'commons-based ownership frameworks for data', 'data driven technologies', 'simulation and modeling techniques', 'data management', 'check-in data', 'automated decision-making in immigration and refugee applications', 'technology and data collection', 'discriminatory algorithms', 'small additional flow transfer delay', 'adversarial false data injection attack tactic', 'LSTM-GRU-PPCM model', 'cross-border information systems', 'processing methods of the data', 'integrated study on DMSP/OLS data and other data models', 'randomized rounding approximation algorithm', 'sample-based algorithm', 'creating centralized databases for effective management', 'machine learning', 'Bat Algorithm', 'algorithms', 'suboptimal distributed algorithm', 'spatial autocorrelation models', 'LSTM-GRU-PPCM model', 'machine learning', 'improved LSTM model', 'Ant Forest app', 'data analytics', 'machine learning algorithms', 'Random Forest algorithm', 'data-mining', 'data-modeling', 'measured data management system', 'data driven machine learning approach', 'analysis tool', 'genetic algorithm', 'communication, sensing technology, and machine learning algorithm', 'KNN (K Nearest Neighbor) classification machine learning algorithm', 'cross-border data flows', 'free flow of data', 'liberalization of cross-border data flow', 'genetic algorithm and mixed integer programming', 'Canada’s use of algorithms in immigration applications', 'stochastic theoretical model', 'PUE interpretation tool', 'Mixed Integer Linear Programming (MILP) model', 'data analytics', 'machine learning algorithms', 'Random Forest algorithm', 'data-mining', 'data-modeling', 'measured data management system', 'data analytics', 'machine learning algorithms', 'Random Forest algorithm', 'data-mining', 'data-modeling', 'measured data management system']"
        ],
        [
         "26",
         "7-0",
         "['smart city policies', 'smart city', 'propensity to embrace smart city lifestyles', 'smart city', 'Urban GeoDatabase', 'digital town hall', 'digital city', 'open data sources including city services', 'digital city', 'wireless city', 'smart city', 'smart city strategies', 'Smart Cities projects based on Information and Communication Technologies', 'smart city', 'digital town hall', 'digital city']"
        ],
        [
         "27",
         "7-1",
         "['Cloud Computing', 'Green Cloud Computing', 'federated Cloud ecosystems', 'digital services and cloud computing', 'federated edge intelligence-based network AI system', 'cloud platform', 'cloud computing', 'Big Data', 'Green Cloud Computing', 'cloud computing (CC)', 'cloud-based geo data platform', 'Google Earth Engine (GEE) platform', 'HSWDC dataset', 'cloud technology', 'big data and analytical technologies', 'big data analytics', 'cloud computing', 'Sustainable Cloud Architecture \"Environmental Viability as a Service (EVaaS)\"', 'edge computing', 'Big Data', 'online cloud services', 'cloud technology and intelligent appliances', 'management and control method of air-conditioning based on cloud platform', 'integration of big data to the Google Cloud via web servers', 'big data predictions about population movements', 'Big Data', 'Green Cloud Computing', 'Google Firebase Realtime Database', 'green computing techniques', 'cloud-RAN', 'Antares cloud service', 'Google Earth Engine (GEE) cloud platform', 'Big Data', 'Google Fusion Tables (GFT)', 'cloud-based SOS for managing soil moisture data', 'Big Data', 'Green Cloud Computing', 'cloud computing (CC)', 'cloud-based geo data platform', 'integration of big data to the Google Cloud via web servers', 'cloud data storage and compute capacity', 'cloud computing services', 'cloud computing', 'Big data', 'Big Data predictions about population movements', 'cloud storage', 'Cloud Computing', 'Big Data', 'cloud technologies', 'cloud platform technology', 'solutions based on a cloud platform and automated remote control', 'ThingSpeak cloud-based MATLAB', 'big data use', 'cloud computing', 'Cloud Computing', 'smarter technology, cloud based services, and on-demand content', 'big data analytics', 'cloud server for big data mining and analysis', 'big data', 'cloud computing (CC)', 'cloud-based geo data platform', 'big data analytics', 'cloud application', 'big data predictions about population movements', 'Big Data', 'Green Cloud Computing', 'cloud computing (CC)', 'cloud computing (CC)']"
        ],
        [
         "28",
         "9-0",
         "['Eco-design guidelines, strategies, and digital tools', 'EcoNet', 'eco design', 'eco-labels', 'economizers', 'EcoNet', 'eco design', 'economizers', 'Spanish ecofiction', 'EcoNet', 'eco design', 'EcoNet', 'EcoNet']"
        ],
        [
         "29",
         "9-1",
         "['cooling system in data center', 'improvement in the cooling system of data center', 'effective cooling inside the equipment', 'direct free cooling (DFC) system', 'MERV13 filters', 'optimization of cooling cycle', 'mechanical infrastructure (especially cooling systems) of the data centre', 'direct air-side economiser', 'humidity treatment in the data rooms', 'cooling technologies, architectural design, renewable energy sourcing, and hardware efficiency', 'energy efficient cooling technologies (e.g. dew point cooling)', 'cold air supply management at the room level, row level, and rack level', 'two kinds of air conditioning systems', 'zero-emission cryogenic energy system', 'energy-efficient cooling systems', 'heat exchanger systems', 'minimising the cooling energy demand in data centres', 'cooling infrastructure and operation of the data centre', 'economizers using outdoor air for cooling', 'improved air filtration in data centers', 'thermostatically controlled loads (TCLs) of buildings', 'cooling infrastructure', 'numerical analyses of flow and temperature fields', 'liquid immersion cooling systems', 'Innovative cooling network designs', 'waste-heat recovery for district heating systems', 'control of the chilled water supply temperature', 'development of solar powered solutions for thermal management of remote equipment enclosures', 'reduction of heat dissipation of power equipment to air-conditioned telecommunications equipment environments', 're-appraisal of need for coolant heating systems on diesel generators', 'ternary two-way plate heat exchanger', 'water consumption in data centers', 'direct water consumption for cooling tower operation', 'indirect water consumption for power generation to operate the IT equipment and cooling infrastructure', 'techniques to reuse and reduce water in the data center', 'cold plate liquid cooling system', 'novel system integrating three thermodynamic cycles (ORC, HP, Gas burner)', 'energy-efficient cooling systems', 'heat exchanger systems', 'minimising the cooling energy demand in data centres', 'cooling infrastructure and operation of the data centre', 'economizers using outdoor air for cooling', 'improved air filtration in data centers', 'smart air conditioners (SACs)', 'thermal ink jet (TIJ) printhead design', 'new side shooter thermal ink jet printhead', 'air-side economizers', 'advanced cooling technologies', 'cooling infrastructure', 'advanced technologies on cooling systems and servers', 'energy-efficient cooling systems', 'heat exchanger systems', 'minimising the cooling energy demand in data centres', 'cooling infrastructure and operation of the data centre', 'economizers using outdoor air for cooling', 'improved air filtration in data centers', 'energy efficiency of cooling equipment', 'use of seawater for cooling energy plants or data centres', 'proper management of airflow', 'Variable Airflow Panels (Dampers)', 'energy efficient and cost effective cooling strategy', 'Free Cooling and Combo Cooling systems', 'thermal ink jet (TIJ) printhead design', 'new side shooter thermal ink jet printhead', 'more efficient liquid cooling', 'raising temperatures in computer rooms', 'new type of air conditioner', 'thermal management in DCs', 'economizers using outdoor air for cooling', 'evaporative cooling (EC)', 'indirect air-side economizer (IASE)', 'direct air-side economizer (DASE)', 'computer room air handler (CRAH) supply temperature', 'CRAH temperature difference', 'HPC/ICT servers operation and cooling', 'air cooling', 'hybrid cooling', 'liquid cooling systems', 'improved air filtration in data centers', 'thermostatically controlled loads (TCLs) of buildings', 'waste-heat recovery for district heating systems', 'energy-efficient cooling systems', 'heat exchanger systems', 'minimising the cooling energy demand in data centres', 'cooling infrastructure and operation of the data centre', 'economizers using outdoor air for cooling', 'improved air filtration in data centers', 'improved air filtration in data centers']"
        ],
        [
         "30",
         "16-0",
         "['regulating food and beverage advertising particularly for children', 'food-related content on social media platforms', 'additive‐free claims on packages', 'products considered healthy by consumers', 'products considered unhealthy by consumers', \"consumers' general attitude towards no‐additives products\", 'expiry date tracker for short shelf-life food', 'food sharing', 'foods advertised on TV', 'health pursuit-type dietary lifestyle', 'taste pursuit-type dietary lifestyle', 'convenience pursuit-type dietary lifestyle', 'food exploration-type dietary lifestyle', 'image of TV cooking show program', 'mhealth and sport market products', 'social media as source of nutrition information', 'online food delivery services (OFDS)', 'food delivery apps', \"vloggers influence on consumers' purchase intention for sustainable healthy diet food\", '7-day food diary (7DFD)', 'supplemental food frequency questionnaire (SFFQ)', 'economic power of unhealthy product promotions on media', 'online direct food marketing platform', 'fast-food restaurant advertising', 'ban on fast-food restaurant advertisements', 'elimination of the tax deductibility of fast-food restaurant advertising', 'food advertising', 'online fresh food platforms', 'statutory bans on advertising targeting children', 'photographic food records (PFR)', 'food-related content on social media platforms', 'additive‐free claims on packages', 'products considered healthy by consumers', 'products considered unhealthy by consumers', \"consumers' general attitude towards no‐additives products\", 'expiry date tracker for short shelf-life food', 'food sharing', 'foods advertised on TV', 'advertising to promote healthy eating habits', 'unhealthy food marketing through electronic media', 'food blogging in social media', 'internet-based seafood resource guide', 'photographic food records (PFR)', 'food-related content on social media platforms', 'additive‐free claims on packages', 'products considered healthy by consumers', 'products considered unhealthy by consumers', \"consumers' general attitude towards no‐additives products\", 'expiry date tracker for short shelf-life food', 'food sharing', 'foods advertised on TV', 'fast-food restaurant advertising', 'ban on fast-food restaurant advertisements', 'elimination of the tax deductibility of fast-food restaurant advertising', 'food advertising', 'stronger policies to restrict e-cigarette portrayals in retail outlets', 'food sharing apps', 'food advertisements', 'food and beverage marketing targeting emerging adults', 'fast food and soft drink industries marketing campaigns', 'TV and radio as source of nutritional information', 'online food delivery (OFD) service quality', 'maintenance of meal quality and hygiene', 'food photography in Instagram media', 'mhealth and sport market products', 'foods advertised on TV', 'health pursuit-type dietary lifestyle', 'taste pursuit-type dietary lifestyle', 'convenience pursuit-type dietary lifestyle', 'food exploration-type dietary lifestyle', 'image of TV cooking show program', 'photographic food records (PFR)', 'food-related content on social media platforms', 'additive‐free claims on packages', 'products considered healthy by consumers', 'products considered unhealthy by consumers', \"consumers' general attitude towards no‐additives products\", 'expiry date tracker for short shelf-life food', 'food sharing', 'foods advertised on TV', 'additive‐free claims on packages', 'products considered healthy by consumers', 'products considered unhealthy by consumers', \"consumers' general attitude towards no‐additives products\", 'expiry date tracker for short shelf-life food', 'food sharing', 'foods advertised on TV']"
        ],
        [
         "31",
         "16-1",
         "['advertising strategy of PT. Jafra Cosmetics', 'government sponsored advertising campaign', 'adequacy', 'advertising', 'advertising', 'manufacturer advertising', 'retailer advertising', 'advertising involvement', 'advertising themes', 'advertising', 'social advertising of electric transport', 'advertising', 'advertising disclosure', 'advertising strategies on public transportation', 'advertising', 'television ads', 'advertising', 'social advertising of electric transport', 'advertising', 'social media advertising', 'per capita advertising expenditure', 'government sponsored advertising campaign', 'e-cigarette advertising in retail outlets', 'advertising', 'advertising', 'Making purchase decisions based on Instagram ads', 'online advertisement', 'advertising', '1988 political advertising campaign', 'advertizing perfect skin through media', 'advertising', 'manufacturer advertising', 'retailer advertising', 'advertising', 'social advertising of electric transport', 'advertising']"
        ],
        [
         "32",
         "23-0",
         "['green radio network planning approach', 'green telecommunication networks', 'Green Network Initiative', 'green networks', 'green energy-sharing mechanism', 'green network mechanism and strategy', 'green radio network planning approach', 'green communication', 'green network mechanism and strategy', 'green radio network planning approach', 'green telecommunication networks', 'Green Network Initiative', 'green networks', 'green energy-sharing mechanism', 'green networking collaboration among competitive mobile operators', 'technology development in green communications', 'greener communications networks', 'Internet + Green public welfare model', 'green radio network planning approach', 'green telecommunication networks', 'Green Network Initiative', 'green networks', 'green infrastructure deployment', 'green network mechanism and strategy', 'green radio network planning approach', 'green telecommunication networks', 'Green Network Initiative', 'green radio network planning approach', 'green telecommunication networks', 'Green Network Initiative']"
        ],
        [
         "33",
         "23-1",
         "['green mobile application (Thrifteal)', 'green ICT', 'green campus', 'green IT education', 'green lifestyle promotion', 'green activism', 'Green IT initiatives', 'awareness of Green IT', 'greenfluencer credibility', 'green mobile application (Thrifteal)', 'green ICT', 'green competence-building practices', 'green motivation-enhancing practices', 'green employee involvement practices', 'green IT', 'green IoT', 'green electronics', 'green ICT practices', 'Green IoT', 'green marketing strategies', 'green IT initiatives', 'green mobile application (Thrifteal)', 'green ICT', 'green campus', 'green IT education', 'green IoT', 'Green IT', 'green labeling', 'green IT', 'green DC monitoring', 'green YouTube Ads', 'internet of sustainable green things', 'Green IT initiatives', 'awareness of Green IT', 'Green IT', 'green ICT', 'green campus', 'green IT education', 'green lifestyle promotion', 'green activism', 'Green Button API', 'green mobile application (Thrifteal)', 'green ICT', 'green campus', 'green mobile application (Thrifteal)', 'green ICT', 'green campus']"
        ],
        [
         "34",
         "24-0",
         "['telecommunications', 'demand for pharmaceuticals, IT and telecommunications', 'communication facilities', 'communication network', 'communications', 'cellular-assisted underlay device-to-device (D2D) communications', 'cellular technology with long term evolution (LTE)-based standards', 'communication technologies', 'broadcast engineering design', 'General Packet Radio Service (GPRS) communications', 'telecommunications services quality', 'Long Range Wide Area Network (LoRa-WAN)', 'Base Transceiver Stations (BTS)', 'telecom centers', 'multicast in the back-bone network', 'new algorithm for multicast tree construction', 'bidirectional communication device', 'mobile Internet infrastructure', 'cellular base stations enabled with renewable energy sources (RES)', '6G development', 'telecommunication infrastructure', 'communication technology development', 'Fifth Generation (5G) wireless networks', 'energy-efficient hybrid power supply system for a 5G macro base station', 'public address systems', 'new mobile Internet services', 'network scaling approach', 'disabling one carrier', 'KNX and LonWorks communication protocols', 'Telecom services', 'mobile networks', 'faster data rates and higher capacities', 'aggregator agents', 'communication architecture', 'two-way communication infrastructure', 'better mobile connectivity', 'communication media', 'modern communication tools', '5G networks and digital technologies', 'access to telecommunication services', 'communications infrastructure', 'local area network', 'communication protocols', 'low-power wide-area network (LPWAN)', 'telecommunication', 'smart communications', 'communications and infrastructure upgrades', 'base station deployment strategy', 'network densification', 'broader use of telecommunications technologies', 'small cell base stations deployment', 'privately funded GSM network', 'poor communications infrastructure', 'Wavelength-Division Multiplexing (WDM) and other telecommunications equipment', 'cell-phone transmission stations', '5G wireless networks', 'Small Cell Remote Radio Heads (SC-RRHs)', 'installation of liquid and gas pipes, fiber optics', 'LTE/4G and LoRa communication capabilities', 'telephone or video conversations', 'telecommunication tower', 'joint use of towers', 'Long-Range (LoRa) wireless communication system', 'data transmission', 'investments in telecommunications infrastructure', 'Power Line Communication (PLC) technology', 'IPv6 PLC technology', 'model to deal with uncertainty from the Aggregator perspective', 'unreliable, spotty telecommunications', 'mobile communication towers', 'communication network quality', 'subsea cables', 'cellular base stations (BSs) deployment', 'mobile edge cloud (MEC)', 'technology tools (Internet, mobile applications, social media, video games)', '5G technology', 'undersea fiber-optic cables', 'expenditure for communications', 'self-organization algorithm and message passing algorithm', 'telecommunication infrastructure', 'BTS tower development', 'Starlink by SpaceX', 'global system for mobile communications (GSM) messaging service', 'team communication application, Slack', 'communications', 'Cable Extension Project for Tango', 'communication base station backup power supply', 'Communications by using TCP and X10 protocols', '5G innovation', '6G technology', 'affordable access to communication services', 'data consumption', 'connecting base stations to microgrids', 'Deployment of Infrastructure of Telecommunications', 'maintenance of equipment and networks', 'operation of telecommunications equipment', 'antennas', 'altered communications', 'remote communications technology for sending data between things', 'affordable telecommunications infrastructure', 'communication technology', 'density of mobile phone base stations', 'Network Functions Virtualization (NFV) and Software Defined Networking (SDN) technologies', 'high speed radio communication backbone', 'microwave radio communication network', 'cellular base stations (BSs) deployment', 'poor communications', 'maritime wireless mesh network (MWMN)', 'very-high frequency (VHF) communication', 'cooperative transmission method', 'Garmin Fenix 5', 'Putting the underutilized components of RBSs in sleep mode during low load', 'Information and Technology Communication tools', 'joint construction and share of telecommunication infrastructure', 'KNX and LonWorks communication protocols', 'Telecom services', 'mobile networks', 'faster data rates and higher capacities', 'aggregator agents', 'communication architecture', 'two-way communication infrastructure', 'better mobile connectivity', 'communication media', 'modern communication tools', 'low cost telecommunications infrastructures', 'public long term evolution (LTE) network', 'cluster-based hybrid sensor-LTE network', 'public telecommunications infrastructure', 'new targeted and customized delivery platforms using modern communication techniques', 'advancement in base station technology', 'Radio Data System communications', 'regional/local hubs', 'energy local area network', 'heterogeneous networks consisting of a mixture of both technologies', 'aerial amplifier', 'narrowband power line communication (NB-PLC) technique', 'wireless communication services', 'base stations', 'predictive modeling approach for base station energy consumption', 'national communication system', 'modern (tele-)communication', 'network quality', 'network planning and deployment', 'LPWAN LoRa for data transmission', 'telecommunications services', 'multimedia communications development', 'wirelessly via GSM', '5G base stations', 'poor communication', 'telecommunication infrastructure', 'public telecommunications infrastructure', 'LTE networks', 'QoS class of SG DR traffic transmitted in downlink direction', 'Information and Technology Communication tools', 'joint construction and share of telecommunication infrastructure', 'KNX and LonWorks communication protocols', 'Telecom services', 'mobile networks', 'faster data rates and higher capacities', 'aggregator agents', 'communication architecture', 'two-way communication infrastructure', 'better mobile connectivity', 'communication media', 'modern communication tools', '5G networks and digital technologies', 'access to telecommunication services', 'communications infrastructure', 'local area network', 'communication protocols', 'low-power wide-area network (LPWAN)', 'telecommunication', 'bidirectional communication device', 'smart communications', 'communications and infrastructure upgrades', 'base station deployment strategy', 'network densification', 'broader use of telecommunications technologies', 'small cell base stations deployment', 'privately funded GSM network', 'poor communications infrastructure', 'Wavelength-Division Multiplexing (WDM) and other telecommunications equipment', 'cell-phone transmission stations', '5G wireless networks', 'Small Cell Remote Radio Heads (SC-RRHs)', 'installation of liquid and gas pipes, fiber optics', 'cellular base stations (BSs) deployment', 'poor communications', 'communication networks based on optical infrastructure', 'telecommunications technologies', 'mobile communications', 'base station sleeping strategy', 'intermediate bus architecture (IBA)', 'Network Quality', 'development in electronics, communications, embedded systems, and intelligence at the edge', '5G wireless communications', 'GSM technology for data collection', '5G mobile network', 'improvement of communication technologies', 'privately funded GSM network', 'remote communication methods', '5G coverage', 'home communications', 'deployment of cellular base-stations', 'software defined networking (SDN) paradigm', 'Control and Monitoring Unit (CMU) to aggregator agent communication using Long Term Evolution (LTE) protocol', 'intelligent hybrid communication system', 'controller area network (CAN) bus', 'application specific communication protocol', 'communication campaigns through signalling the paths', 'Fiber optic network', 'new fiber construction methods', 'telecommunication equipment', 'increasing deployment density through additional micro sites', 'telecommunication network systems', 'multiple-input multiple-output (MIMO)', 'orthogonal frequency division multiplexing (OFDM)', 'cognitive radio (CR)', 'network coding', 'new network architectures such as heterogeneous network', 'cooperative communication', 'trainings and capacity building sessions for media representatives', 'data communication network', 'telemetry equipment for communicating with distributed units in the field', 'deployment of 5G and even 6G networks', 'high density of base stations (BSs) and high-power consumption of single station', 'heterogeneous network (HetNet) consisting of macro and micro base station (BS)', 'altered communications', 'two-way communication', 'overlay multi-tier communications infrastructure', 'deployment of missing links in the national fiber optic network', 'poor communications', 'Global System for Mobile Communication (GSM) technology', 'new mobile Internet services', 'clustered network architecture', 'wireless coverage', 'modern telecommunications tools', 'digital communication', 'millimetre-wave communications', 'Long-Term Evolution in unlicensed spectrum', 'ultra-dense heterogeneous networks', 'device-to-device communications', 'massive multiple-input multiple-output communications', 'communication through telephone and the Internet', 'AODV (adhoc On-demand distance Vector) routing protocol', 'better telecommunication services', 'unlawful interception of communication', '5G communication', 'renewable energy sources for mobile base stations', 'base stations switching-off', 'standard communication technologies (most often Profibus or Ethernet)', '5G base stations deployment', '5G traffic demand', '4G traffic', 'distributed infrastructure for heterogeneous devices in the home local area network (xAAL)', '4G services', '5G networks', 'mobile communication', 'competitive pressure from cable providers', 'Discontinuous transmission (DTX)', 'global system for mobile communications (gsm) subscribers', 'network environment norms', 'telecommunications development', 'WiFi and Global System for Mobile communication network', 'Long Term Evolution (LTE) protocol for Control and Monitoring Unit (CMU) to aggregator agent communication', 'poor radio signals', 'mobile coverage', 'communication technology', 'wireless based communication network', 'lack of a network', 'wireless communication module', '5G', 'communication through telephone and the Internet', 'telecommunications infrastructure development', 'two-way communication infrastructure', 'better mobile connectivity', 'communication media', 'modern communication tools', '5G networks and digital technologies', 'access to telecommunication services', 'communications infrastructure', 'local area network', 'communication protocols', 'low-power wide-area network (LPWAN)', 'telecommunication', 'bidirectional communication device', 'smart communications', 'communications and infrastructure upgrades', 'base station deployment strategy', 'network densification', 'broader use of telecommunications technologies', 'small cell base stations deployment', 'privately funded GSM network', 'poor communications infrastructure', 'Wavelength-Division Multiplexing (WDM) and other telecommunications equipment', 'cell-phone transmission stations', '5G wireless networks', 'Small Cell Remote Radio Heads (SC-RRHs)', 'installation of liquid and gas pipes, fiber optics', 'LTE/4G and LoRa communication capabilities', 'telephone or video conversations', 'wireless telecommunication EMF', 'encouraging telecommunication service providers to jointly use the same mast in an area for broadcast', 'telecommunication systems', 'higher data rate mobile broadband', 'restructuring of existing network architecture', 'controlling system in every base station', 'telecom services growth', 'right RAN architecture', 'share the network with other operators', 'telecommunication systems', 'beam transmission', 'conversion to DC at the receiving antenna on earth', '5G mobile networks', '5G network slicing', 'artificial intelligence-based implementations of network slicing', 'energy-saving technologies for 5G base stations', 'omnichannel integration', '5G base stations', 'sleep mechanism', 'telecommunications', 'global communication systems', 'modern communication technology', 'Putting the underutilized components of RBSs in sleep mode during low load', 'Information and Technology Communication tools', 'joint construction and share of telecommunication infrastructure', 'KNX and LonWorks communication protocols', 'Telecom services', 'mobile networks', 'faster data rates and higher capacities', 'aggregator agents', 'communication architecture', 'two-way communication infrastructure', 'better mobile connectivity', 'communication media', 'modern communication tools', '5G networks and digital technologies', 'access to telecommunication services', 'communications infrastructure', 'local area network', 'communication protocols', 'low-power wide-area network (LPWAN)', 'telecommunication', 'bidirectional communication device', 'smart communications', 'communications and infrastructure upgrades', 'base station deployment strategy', 'network densification', 'broader use of telecommunications technologies', 'small cell base stations deployment', 'privately funded GSM network', 'poor communications infrastructure', 'communication architecture', 'two-way communication infrastructure', 'better mobile connectivity', 'communication media', 'modern communication tools', '5G networks and digital technologies', 'access to telecommunication services', 'communications infrastructure', 'local area network', 'communication protocols', 'low-power wide-area network (LPWAN)', 'telecommunication', 'bidirectional communication device', 'smart communications', 'communications and infrastructure upgrades', 'base station deployment strategy', 'network densification', 'broader use of telecommunications technologies', 'small cell base stations deployment', 'privately funded GSM network']"
        ],
        [
         "35",
         "24-1",
         "[\"Chinese investments in Africa's telecom sector\", 'Internet access', 'broadband access', 'regulating Internet access services', 'internet access', 'high-speed fixed broadband Internet access', 'limited Internet access', 'expansion of broadband capabilities', 'broadband Internet connectivity for centers of learning', 'broadband services', 'regulating Internet access services', 'internet access', 'internet access', 'high-speed fixed broadband Internet access in rural areas', 'broadband use', 'Internet access', 'regulating Internet access services', 'internet access', 'wireless and broadband technology', 'better internet connections', 'broadband internet access', 'investments in broadband access', 'investments in broadband', 'Internet-specific rule setting', 'reactive restrictions towards Internet use', 'internet access', 'regulating Internet access services', 'usage-based pricing for fixed broadband service', 'usage-based pricing for wireless broadband service', 'tiered pricing in wireless broadband', 'monthly data caps and overage charges in fixed broadband', 'Internet access', 'new approaches to regulation of Internet intermediaries', 'broadband connectivity', 'Broadband China Pilot Policy (BCPP)', 'Broadband China Policy', 'expensive internet access', 'competition among Internet service providers', 'broadband deployment and speed', 'competition between broadband providers', 'deploying high-speed internet', 'internet access', 'internet access', 'regulating Internet access services', 'internet access', 'regulating Internet access services', 'internet access', 'regulating Internet access services', 'internet access']"
        ],
        [
         "36",
         "27-0",
         "['activewear purchased to be worn as casualwear', 'Shopping Lifestyle', 'Fashion Involvement', 'Sales Promotion', 'buying and selling pre-owned fashion products through online resale platforms', 'online fashion resale participation', 'ease of use', 'price', 'organizational citizenship behavior (OCB)', 'job autonomy', 'self-regulation', 'social self-efficacy', 'Marrakesh Treaty implementation', 'fashion lifestyle', 'sales promotion', 'self image', 'impulse buying behaviour', 'social media self-efficacy', 'market orientation', 'emotional commitment', 'behavioral activation system (BAS)', 'behavioral inhibition system (BIS)', 'positive reinforcement motives', 'negative reinforcement motives', 'self-control', 'distress tolerance', 'materialism', 'online purchasing of daily necessities', 'promotion', 'positive emotion', 'hedonic intention', 'consumer technologies', 'perceived warmth', 'perceived competence', 'self-sufficiency', 'consumers’ knowledge', 'e-justice system', 'gamifying awareness/contributions', 'Trustworthiness', 'Perceived Risk', 'digital marketing workshops', 'usefulness', 'sufficiency', 'needs fitting', 'perceived utility', 'observability', 'willingness', 'online shopping activities', 'fashion attentiveness', 'optimism', 'compensation', 'environment-friendly fashion', \"product's intrinsic and extrinsic quality increase\", 'image building', 'direct benefit', 'target market development', 'psychological empowerment', 'official organisations', 'flexible employment model', 'customer perceived value (utilitarian and hedonic values)', 'trust in the media', 'enforcing pertinent regulations', 'emotional self-efficacy', 'product complexity', 'brand symbolism', 'experiential marketing', 'consumer-based brand equity', 'customer satisfaction', 'stricter regulations', 'online ticketing', 'consumer-to-consumer interaction', 'nomophobia', 'self-esteem', 'hedonistic and consumptive lifestyles', 'consumptive behavior', 'perceived value', 'digital marketing innovation', 'continuance purchase intention', 'subjective norm', 'empowering human resources', 'efficiency at work', 'independence at work', 'emotional intelligence', 'communication satisfaction (CS)', 'cultural values', 'individualism/collectivism (IC)', 'masculinity/femininity (MF) and power distance (PD)', 'fashion lifestyle', 'consumption value of avatar fashion items', 'individuality seeking', 'fashion seeking', 'brand seeking', 'economic seeking', 'practicality seeking', 'trend/brand value', 'individuality value', 'ideal appearance value', 'customer trust', 'Fear of Missing Out (FoMO)', 'gaming avatars', 'international trade law', 'constitutional pluralism', 'marketing/branding strategies', 'impulsive trait', 'sustainable fashion brand image', 'aesthetic value in attire', 'personal image and confidence in social situations', 'bringing happiness and positive emotions', 'increasing consumer acceptance of innovative products', 'Team Europe regional initiatives', 'second law analysis', 'communication of the benefits of growth that arise from trade and globalization', 'investing time and energy in family demands during work time', 'competitive climate within the organization', 'self-disclosure behavior', 'apologies', 'mediation', 'on-line shopping', 'self-emotion regulation ability', 'perceived susceptibility-severity', 'self-openness', 'enjoyment', 'affective commitment', 'attitude', 'satisfaction', 'hedonic value', 'perceived usefulness', 'hedonic lifestyle', 'body positivity discourse', 'visual art', 'non-art images', 'culture (Japanese vs. West European)', 'reward', 'intrinsic motivation', 'extrinsic motivation', 'creative self-efficacy', 'intrinsic motivations', 'extrinsic motivations', 'hedonic motivations', 'utilitarian motivations', 'curiosity', 'enjoyment and playfulness motivations', 'reward motivation', 'visual feedback', 'competition', 'psychological benefits', 'customer satisfaction', 'regulatory approach grounded in procedural rule of law principles and mandatory human rights due diligence', 'authority with human rights leaders', 'photocopiers', 'improvement of accounting rules', 'translate existing human rights to the internet environment', 'role of civil society as ‘translator’ to participate in global internet governance', 'Perceived Ease of Use', 'Trust', 'customer satisfaction', 'standards of transparency and oversight in human rights due diligence processes', 'spatial plan compliance', 'licensing process', 'holistic, process-oriented regulatory approach', 'digital marketing efficacy', 'procedural injustice', 'sympathetic brand response', \"students' mastery goal orientation\", 'perceived pleasure', 'job stress', 'work environment', 'overall compensation benefits and pay', 'perfectionism', 'self-promotion', 'performance expectancy', 'effort expectancy', 'hedonic motivation', 'price value', 'globalization', 'effective visual product presentation', 'purchase of lifestyle products', 'mood', 'hedonic pleasure', 'enjoyment experience', 'physical retail', 'mono-brand stores', 'multi-brand stores', 'purchase intentions', 'gaming avatars', 'attitude towards luxury goods in collaborative consumption', 'subjective norm', 'perceived risk', 'fashion leadership', 'psychological transition', 'promotion-focus', 'legislative efforts', 'FairDR', 'analysis of customer’s needs', 'shopping values', 'recreational shopping consciousness', 'playfulness', 'online trade of plants', 'perceived risk (PR)', 'organizational and strategic alignment', 'gender identity congruity', 'national culture', 'physical concern', 'perceived brand quality', 'human customer service', 'fashion purchasing', 'conformity', 'self-efficacy program', 'espoused cultural value uncertainty avoidance', 'espoused cultural value power distance', 'brand name size cues', 'size cue of smallness in the name', 'size cue of bigness', 'organizational justice outcomes', 'strict controlling measures in the private sector', 'fear of job loss', 'globalization', 'online promotion and booking', 'perceived switching costs', 'interactional justice', 'procedural justice', 'cultural proximity', 'enduring involvement', 'the social life of metrics', 'gadget-loving sales consultants', 'need for uniqueness', 'materialistic personality traits', 'modelling competition with an explicit focus on the thin ideal', 'gamification', 'hedonic motivation', 'experience variables', 'emotional intelligence', 'job demands-resources', 'Organizational Citizenship Behavior (OCB)', 'Work Passion', 'box office revenue', 'higher controls', 'higher burnout', 'shopping lifestyle', 'fashion involvement', 'hedonic shopping motivation', 'positive emotion', 'decision-making self-efficacy', 'Consumer Ethnocentrism', 'Quality Perception', 'perceived usefulness', \"consumers' need to belong (high vs. low)\", 'environment-friendly fashion', \"product's intrinsic and extrinsic quality increase\", 'image building', 'direct benefit', 'target market development', 'psychological empowerment', 'official organisations', 'flexible employment model', 'customer perceived value (utilitarian and hedonic values)', 'trust in the media', 'enforcing pertinent regulations', 'emotional self-efficacy', 'product complexity', 'brand symbolism', 'experiential marketing', 'consumer-based brand equity', 'customer satisfaction', 'seller trust', 'self-image congruity', 'perceived control', 'ease of use', 'usefulness', 'gamification techniques', 'gamified load management platform', 'coping strategies', 'brand coolness', 'brand commitment', 'communal brand connection', 'distribution', 'merchandise value perception (MVP)', 'online shoppers’ loyalty intentions', 'globalization of markets and information flows', 'Promotion and improving market access', 'consumer perceived value', 'gamification elements', 'monetary incentives', 'contents satisfaction', 'price satisfaction', 'aesthetic simplicity', 'inspiring personal journeys and potential', 'encouraging mindfulness and gratitude', 'advancing diversity and equity', 'sales promotions through alumni distribution', 'online shopping', 'price-oriented lifestyle', 'Islamic self-help and life-coaching literature consumption', 'fairness notions', 'self-efficacy', 'avatar identification', 'avatar customization', 'factor price distortions in favour of capital', 'online shopping', 'self-image congruity', 'female sportswear as fashionwear (athleisurewear)', 'activewear brands', 'shopeepay feature', 'modality affordance', 'agency affordance', 'interactivity affordance', 'navigability affordance', 'entertainment gratification', 'visual art', 'non-art images', 'organizational culture', 'work satisfaction', 'employee competency', 'critical social justice education', 'conformity', 'consumptive behavior', 'experiential marketing', 'consumer-based brand equity', 'customer satisfaction', 'shopping lifestyle', 'fashion involvement', 'hedonic shopping motivation', 'positive emotion', 'decision-making self-efficacy', 'Consumer Ethnocentrism', 'Quality Perception', 'perceived usefulness', \"consumers' need to belong (high vs. low)\", 'environment-friendly fashion', \"product's intrinsic and extrinsic quality increase\", 'image building', 'direct benefit', 'target market development', 'psychological empowerment', 'official organisations', 'flexible employment model', 'customer perceived value (utilitarian and hedonic values)', 'trust in the media', 'enforcing pertinent regulations', 'emotional self-efficacy', 'product complexity', 'brand symbolism', 'experiential marketing', 'consumer-based brand equity', 'customer satisfaction', 'stricter regulations', 'online ticketing', 'consumer-to-consumer interaction', 'nomophobia', 'self-esteem', 'hedonistic and consumptive lifestyles', 'consumptive behavior', 'perceived value', 'digital marketing innovation', 'continuance purchase intention', 'subjective norm', 'empowering human resources', 'efficiency at work', 'independence at work', 'organizational justice outcomes', 'strict controlling measures in the private sector', 'fear of job loss', 'globalization', 'enhanced competition', 'strict body regimes', 'customer satisfaction', 'trust', 'gamification', 'perceived value of users', 'Price Sensitiveness', 'Human Interaction Quality', 'Product Mix', 'Image', 'efficiency', 'convenience', 'trust', 'perceived ease of use (PEOU)', 'information systems (IS) continuance model extended with ease of use', 'hedonism lifestyle', 'life satisfaction', 'communication satisfaction', 'voluntary social and corporate responsibility and ethical obligations', 'public perception', 'branding lifestyle', 'performance expectancy', 'effort expectancy', 'propensity to act', 'online store atmosphere', 'shopping lifestyle', 'positive emotions', 'Sales Promotion', 'brand familiarity', 'locus of control', 'consumptive lifestyle', 'leasing of products', 'remanufactured products procurement', 'selling used products to remanufacturers', 'online shopping', 'fashion curation service usage motivation', 'brand identity, consumer lifestyle, and product information', 'consumer lifestyle image, convenience, hedonic shopping orientation, and personal expression motivation', 'fashion trend, practical information exploration, and entertainment motivation', 'customer relationship management', 'market turbulence', 'accountability', 'auditability', 'observability', 'conformity', 'hedonic lifestyle', 'cultural goods trade', \"understanding users' satisfaction\", 'e-business customer satisfaction', 'gamification in marketing', 'personality tests', 'globalization', 'box office revenue', 'cultural distance from the United States', 'trust', 'subjective norms', 'hedonism', 'shopping convenience', 'online shopping', 'experience', 'behavioral experience', 'app trust and commitment', 'returning autonomy to users', 'organizational commitment', 'organizational climate', 'online apparel shopping adoption', \"beliefs about the compatibility of online shopping with respondents' lifestyles\", 'perceived risk', 'trust', 'fashion orientation', 'preference for standard goods', 'preference for specific brands', 'emotional intelligence (EI)', 'feel-good marketing strategies', 'enforcing pertinent regulations', 'self-efficacy', 'intrinsic information quality', 'perceived enjoyment', 'digital marketing', 'hedonic shopping value', 'shopping lifestyle', 'self-photographs as profile pictures', 'other pictures as profile pictures', 'human rights protections in the digital sphere', 'direct marketing', 'Affective Computing', 'fashion attentiveness', 'Urban Outfitters rebranding of the Palestinian scarf', 'brand image', 'hedonic lifestyle', 'perceived value', 'international human rights approach', 'US approach', 'decentralized EMS', 'boundary management of work and personal life', 'AI-enabled marketing strategies', 'personalized marketing', 'venetian blind control', 'money attitude', 'personal value', 'shopping lifestyle', 'hedonic behavior', 'inertia behavior', 'satisfaction', 'materialism', 'self-control', 'Declaration of Principles on Freedom of Expression and Access to Information in Africa, 2019 (revised Declaration)', 'implementation plan', 'brand awareness', 'incorporation of human rights considerations into decision-making processes', 'Perceived Ease of Use', 'Trust', 'facilitating cultural interactions', 'unmasking cultural stereotypes and intolerance', 'forging a common cultural-pluralistic narrative', 'watching satisfaction', 'surrogate satisfaction', 'paid contractors', 'juries of users', 'translation of human rights to the internet environment', 'civil society as translator', 'assurance', 'reliability', 'restorative justice', 'women shopping online', 'co-regulation', 'shopping motivation', 'online shopping (e-commerce shopee)', 'perceived usefulness', 'branded products', 'consumer vanity', 'money attitudes', 'satisfaction', 'job resource adequacy', 'digital marketing', 'online shopping', 'hedonic lifestyle', 'online shopping', 'human flesh search behavior', 'legal regulation', 'online marketing', 'mood', 'deregulation and liberalization strategies', 'privatization and liberalization', 'sustainable fashion brand image', 'aesthetic value in attire', 'personal image and confidence in social situations', 'happiness and positive emotions', 'consumer acceptance of innovative products', 'creative thinking', 'lifestyle and shoppable fashion product displays', 'consumers’ convenience orientation and hedonic shopping value', 'Fashion Lifestyle', 'Fashion Interest', 'brand familiarity', 'locus of control', 'sales promotion', 'shopping lifestyle', 'hedonic shopping motivation', 'IPRs regimes (treaties)', 'perceived ease of use', 'work-life balance', 'user experience (UX)', 'corporate image', 'trustworthiness', 'gaming avatars', 'creating a network of marketing', 'enjoyment of web experience', 'voluntary staff turnover', 'price', 'promotion', 'online gamified learning', 'perceived usefulness', 'perceived enjoyment', 'challenge stressors', 'hindrance stressors', 'perceived ease of use', 'enforcing pertinent regulations', 'emotional self-efficacy', 'product complexity', 'brand symbolism', 'experiential marketing', 'consumer-based brand equity', 'customer satisfaction', 'stricter regulations', 'online ticketing', 'consumer-to-consumer interaction', 'nomophobia', 'self-esteem', 'hedonistic and consumptive lifestyles', 'consumptive behavior', 'perceived value', 'digital marketing innovation', 'continuance purchase intention', 'subjective norm', 'empowering human resources', 'efficiency at work', 'independence at work', 'emotional intelligence', 'communication satisfaction (CS)', 'cultural values', 'individualism/collectivism (IC)', 'masculinity/femininity (MF) and power distance (PD)', 'fashion lifestyle', 'consumption value of avatar fashion items', 'individuality seeking', 'fashion seeking', 'brand seeking', 'economic seeking', 'practicality seeking', 'trend/brand value', 'individuality value', 'ideal appearance value', 'customer trust', 'Fear of Missing Out (FoMO)', 'gaming avatars', 'international trade law', 'constitutional pluralism', 'elements of inequality and exclusion', 'motivation to play', 'SizeCap', 'functional pursuit', 'pleasure pursuit', 'social value pursuit', 'cost reduction pursuit', 'perceived ease of use of VR technology', 'accountability matters', 'recognition of gains positively affects motivation', 'shopping lifestyle', 'fashion involvement', 'hedonic shopping motivation', 'positive emotion', 'decision-making self-efficacy', 'Consumer Ethnocentrism', 'Quality Perception', 'perceived usefulness', \"consumers' need to belong (high vs. low)\", 'environment-friendly fashion', \"product's intrinsic and extrinsic quality increase\", 'image building', 'direct benefit', 'target market development', 'psychological empowerment', 'official organisations', 'flexible employment model', 'customer perceived value (utilitarian and hedonic values)', 'trust in the media', 'enforcing pertinent regulations', 'emotional self-efficacy', 'product complexity', 'brand symbolism', 'experiential marketing', 'consumer-based brand equity', 'customer satisfaction', 'stricter regulations', 'online ticketing', 'consumer-to-consumer interaction', 'nomophobia', 'self-esteem', 'hedonistic and consumptive lifestyles', 'consumptive behavior', 'customer perceived value (utilitarian and hedonic values)', 'trust in the media', 'enforcing pertinent regulations', 'emotional self-efficacy', 'product complexity', 'brand symbolism', 'experiential marketing', 'consumer-based brand equity', 'customer satisfaction', 'stricter regulations', 'online ticketing', 'consumer-to-consumer interaction', 'nomophobia', 'self-esteem', 'hedonistic and consumptive lifestyles', 'consumptive behavior']"
        ],
        [
         "37",
         "27-1",
         "['perceived service quality', 'e-Service Quality', 'e-service quality', 'e-service quality', 'e-government', 'service failure severity', 'service quality', 'online game service quality improvement', 'e-health services', 'AI customer service', 'service failure severity', 'e‐service quality (e‐SQ) dimensions', 'e-Service Quality', 'e-service quality', 'e-service quality', 'Perceived Service Quality', 'higher competence to use e-services', 'use e-services', 'performance quality of business app', 'ease of use of e-wallets', 'AI service quality', 'AI-enabled service quality', 'service quality (servqual)', 'perceived service quality', 'website quality', 'service quality', 'e-government services development', 'e-Service Quality', 'e-service quality', 'e-service quality', 'consumer service experience consciousness', 'OTT service user tendencies', 'e-Service Quality', 'e-Service Quality']"
        ],
        [
         "38",
         "30-0",
         "['energy cost saving in heterogenous cellular networks with hybrid energy supplies', 'user association to minimize the total energy cost of the network', 'energy efficiency of communication networks', 'energy efficiency of IP communication equipment', 'energy efficiency of mobile communication equipment', 'High-frequency AC (HFAC) power distribution systems', 'conventional network with constant power consumption', 'energy efficiency of communication networks', 'energy efficiency of IP communication equipment', 'energy efficiency of mobile communication equipment', 'energy efficiency of telecommunications switching centers', 'fiber based energy efficient networks', 'network energy-saving routing', 'energy efficiency of communication networks', 'energy efficiency of IP communication equipment', 'energy efficiency of mobile communication equipment', 'High-frequency AC (HFAC) power distribution systems', 'efficient distribution, conversion and use of electrical energy by telecommunication industry', 'DC power systems for a central office and base station of telecommunication infrastructure', 'high efficiency over wide output power range and low power consumption telecom power distribution system', 'reduce their maximum transmit powers to a minimum', 'macrosite transmit power reduction', 'energy efficiency of IP communication equipment', 'energy efficiency of mobile communication equipment', 'High-frequency AC (HFAC) power distribution systems', 'energy-aware network design', 'energy efficiency of communication networks', 'energy efficiency of IP communication equipment', 'energy efficiency of mobile communication equipment', 'High-frequency AC (HFAC) power distribution systems', 'energy efficiency of IP communication equipment', 'energy efficiency of mobile communication equipment', 'High-frequency AC (HFAC) power distribution systems']"
        ],
        [
         "39",
         "30-1",
         "['innovations in appliances, fuels, infrastructures and institutions', 'dynamic pricing servers', 'performance of computers', 'energy cooperation scheme', 'energy efficiency improvement techniques', 'energy-efficient power allocation algorithm', 'energy recovery', 'system for power management of individual modules with interaction via the Ethernet', 'smart energy management systems', 'home energy management systems (HEMS)', 'efficient resource allocation', 'Energy efficiency measures', 'centralized energy provision', 'distributed energy provision', 'energy management', 'macro-level energy demand assessment tool', 'peak power shaving approaches', 'energy-efficient end-user devices', 'automatic generation control (AGC) system', 'power dispatch strategy', 'energy map', 'energy-efficient designs', 'dynamic scheduling of servers based on sequential search, random search, and a maximum fairness search', 'power management settings on desktop and laptop computers', 'energy-efficient computers', 'intelligent power consumption management platform', 'empirical research of power demand response', 'adaptive scheduling algorithm', 'super-energy-efficient computers', 'Energy Eat by Servers and Switches (EESS)', 'Energy Eat and SLA violation Factor (EESF)', 'A/R visualization of energy-related information', 'power management settings on desktop and laptop computers', 'energy-efficient computers', 'local energy communities with information from the real-time market', 'consumers with price knowledge changing their power consumption to lower-cost periods', 'consumers with higher rates chosen to participate in the local flexibility markets', 'use of clean energy', 'scheduling and power capping online heuristics', 'optimal scheduling of appliances', 'virtual cell resource mapping multi-objective decision making energy saving model', 'energy efficiency improvement', 'resource consolidation', 'development of more efficient devices', 'demand flexibility in electricity markets', 'power management techniques at the server level', 'Novel power consumption model and refined power consumption model', 'low-power, duty-cycling, and on-demand modes', 'continuous power mode', 'Domestic appliance scheduling', 'constrained Particle Swarm Optimization (PSO)-based residential consumer-centric load-scheduling method', 'home energy management system', 'evaluation of quantitative negative impact of supply authority AC power failures on energy cost, with a view to obtaining discounts', 'theory of consumption values (TCV)', 'schedule of time operating for electrical appliances', 'Lex-energetica', 'power management settings on desktop and laptop computers', 'energy-efficient computers', 'shift usage of peak hour appliances to nonpeak hours', 'locally available distributed generation solutions', \"servers' power usage reduction\", 'consumption model conditioned on availability', 'prioritization of the energy supply and workload scheduling using time-shifting capabilities', 'power consumption simulator', 'energy efficiency metrics', 'lighting appliances, fuels, infrastructures and institutions innovations', 'income and price elasticities of demand for lighting services', 'energy management strategy using a price-based demand response program', 'schedule controller', 'Energy Management Systems (EMSs)', 'Home Energy Management Systems (HEMSs)', 'power management settings on desktop and laptop computers', 'energy-efficient computers', 'electricity demand in information industry', 'resource allocation and task management', 'improve the energy efficiency in the operation', 'develop new energy', 'energy recovery', 'system for power management of individual modules with interaction via the Ethernet', 'smart energy management systems', 'home energy management systems (HEMS)', 'efficient management of energy resources', 'improving the idle mode power consumption of small cells', 'promoting technologies that help reduce carbon emissions and energy consumption', 'holistic approach integrating renewable supply, dynamic pricing, and cooling supply with IT workload planning', 'IT workload management plan', 'ongoing improvements in the energy efficiency of the technology', 'resource allocation', 'energy harvesting and transfer', 'power infrastructure', 'holistic approach integrating renewable supply, dynamic pricing, and cooling supply with IT workload planning', 'resource assignment policies', 'prioritisation in assigned resource amounts', 'coordinated scheduling strategy', 'many-to-many proportional energy-sharing algorithm', 'multi-objective, two-layer collaborative dispatching strategy', 'energy efficiency in Web server systems', 'energy efficiency actions', 'resource allocation and task management', 'improve the energy efficiency in the operation', 'develop new energy', 'energy recovery', 'system for power management of individual modules with interaction via the Ethernet', 'smart energy management systems', 'home energy management systems (HEMS)', 'efficient resource allocation', 'Energy efficiency measures', 'centralized energy provision', 'distributed energy provision', 'energy management', 'macro-level energy demand assessment tool', 'peak power shaving approaches', 'energy-efficient end-user devices', 'energy efficiency metrics', 'electricity demand forecast', 'electricity cost management for Internet service providers', 'minimizing the total electricity cost under multiple electricity markets environment', 'energy management platform (DCIM)', 'concentration of power in the hands of a few companies', 'Markov Decision Process (MDP)-based scheduling mechanism for residential energy management (REM) in smart grid', 'Home Energy Management Unit (HEMU)', 'Central Energy Management Unit (CEMU)', 'resource availability', 'distributed multi-level solution for the energy consumption optimization', 'scheduling scheme that minimizes the total cost of a building energy demand based on a cooperative game model', 'mechanism that improves the consumer satisfaction when the available energy is insufficient', 'Energy Management Programme', 'energy demand forecasting', 'network resource management schemes', 'energy-based cost model', 'performance and energy-based cost prediction framework', 'energy management products', 'placement and scheduling of flexible workloads', 'traditional EMS based on centralized control strategies', 'variance-based optimization algorithm for a decentralized Home Energy Management Systems (HEMS)', 'proposed HEMS', 'energy efficiency classification mechanism', 'energy efficiency standards', 'DCs power management', 'appliance automated control', 'TEER (Telecommunications Energy Efficiency Rating) documents', 'intelligent renewable energy allocation and switch-off mechanism', 'conventional energy', 'abatement strategies in their fleet, electricity generation, and consumer electricity use', 'energy information services', 'global energy consumption prediction framework', 'Carbon Usage Effectiveness (CUE) analysis', 'electricity costs analysis', 'Power Usage Effectiveness (PUE)', 'resource conservation', 'Coal Management Module (CMM) Software', 'resource allocation', 'Energy-Conscience Workload Scheduling', 'energy saving techniques', 'Uninterruptible Power Supplies (UPS) improvement', 'intelligent system for energy managing', 'smart energy management systems', 'home energy management systems (HEMS)', 'efficient resource allocation', 'Energy efficiency measures', 'centralized energy provision', 'distributed energy provision', 'energy management', 'macro-level energy demand assessment tool', 'peak power shaving approaches', 'energy-efficient end-user devices', 'automatic generation control (AGC) system', 'power dispatch strategy', 'energy map', 'energy-efficient designs', 'dynamic scheduling of servers based on sequential search, random search, and a maximum fairness search', 'home energy management application', 'most efficient energy minimising technologies in the RAN', 'Home Energy Management System (HEMS)', 'energy-saving control mechanism', 'Smart Home Energy Management System', 'power capping', 'demand flexibility in electricity markets', 'dynamic power management', 'energy harvesting', 'energy management strategy using a price-based demand response program', 'schedule controller', 'Energy Management Systems (EMSs)', 'Home Energy Management Systems (HEMSs)', 'power management settings on desktop and laptop computers', 'energy-efficient computers', 'electricity demand in information industry', 'resource allocation and task management', 'improve the energy efficiency in the operation', 'develop new energy', 'energy recovery', 'system for power management of individual modules with interaction via the Ethernet', 'smart energy management systems', 'home energy management systems (HEMS)', 'efficient resource allocation', 'Energy efficiency measures', 'centralized energy provision', 'distributed energy provision', 'energy management', 'smart energy management systems', 'home energy management systems (HEMS)', 'efficient resource allocation', 'Energy efficiency measures', 'centralized energy provision', 'distributed energy provision', 'energy management']"
        ]
       ],
       "shape": {
        "columns": 2,
        "rows": 40
       }
      },
      "text/html": [
       "<div>\n",
       "<style scoped>\n",
       "    .dataframe tbody tr th:only-of-type {\n",
       "        vertical-align: middle;\n",
       "    }\n",
       "\n",
       "    .dataframe tbody tr th {\n",
       "        vertical-align: top;\n",
       "    }\n",
       "\n",
       "    .dataframe thead th {\n",
       "        text-align: right;\n",
       "    }\n",
       "</style>\n",
       "<table border=\"1\" class=\"dataframe\">\n",
       "  <thead>\n",
       "    <tr style=\"text-align: right;\">\n",
       "      <th></th>\n",
       "      <th>cluster_id</th>\n",
       "      <th>sentences</th>\n",
       "    </tr>\n",
       "  </thead>\n",
       "  <tbody>\n",
       "    <tr>\n",
       "      <th>0</th>\n",
       "      <td>1</td>\n",
       "      <td>[social media usage, social media use, social ...</td>\n",
       "    </tr>\n",
       "    <tr>\n",
       "      <th>1</th>\n",
       "      <td>2</td>\n",
       "      <td>[internet usage, Internet use, internet use, i...</td>\n",
       "    </tr>\n",
       "    <tr>\n",
       "      <th>2</th>\n",
       "      <td>3</td>\n",
       "      <td>[information and communication technologies (I...</td>\n",
       "    </tr>\n",
       "    <tr>\n",
       "      <th>3</th>\n",
       "      <td>4</td>\n",
       "      <td>[Internet of Things utilization, technological...</td>\n",
       "    </tr>\n",
       "    <tr>\n",
       "      <th>4</th>\n",
       "      <td>5</td>\n",
       "      <td>[digitalisation of societies, technology and d...</td>\n",
       "    </tr>\n",
       "    <tr>\n",
       "      <th>5</th>\n",
       "      <td>6</td>\n",
       "      <td>[social media, social media, social media, web...</td>\n",
       "    </tr>\n",
       "    <tr>\n",
       "      <th>6</th>\n",
       "      <td>8</td>\n",
       "      <td>[digital technologies, digital technologies, d...</td>\n",
       "    </tr>\n",
       "    <tr>\n",
       "      <th>7</th>\n",
       "      <td>10</td>\n",
       "      <td>[data centres (DCs), data centers, data center...</td>\n",
       "    </tr>\n",
       "    <tr>\n",
       "      <th>8</th>\n",
       "      <td>11</td>\n",
       "      <td>[ICT utilization program, information technolo...</td>\n",
       "    </tr>\n",
       "    <tr>\n",
       "      <th>9</th>\n",
       "      <td>12</td>\n",
       "      <td>[social media collaboration, face-to-face coll...</td>\n",
       "    </tr>\n",
       "    <tr>\n",
       "      <th>10</th>\n",
       "      <td>13</td>\n",
       "      <td>[mobile telephony, text messaging, email, SMS/...</td>\n",
       "    </tr>\n",
       "    <tr>\n",
       "      <th>11</th>\n",
       "      <td>14</td>\n",
       "      <td>[electronic alternatives, emerging technologie...</td>\n",
       "    </tr>\n",
       "    <tr>\n",
       "      <th>12</th>\n",
       "      <td>15</td>\n",
       "      <td>[personal innovativeness, technology use (TU),...</td>\n",
       "    </tr>\n",
       "    <tr>\n",
       "      <th>13</th>\n",
       "      <td>17</td>\n",
       "      <td>[smart technology, wireless sensor networks, s...</td>\n",
       "    </tr>\n",
       "    <tr>\n",
       "      <th>14</th>\n",
       "      <td>18</td>\n",
       "      <td>[exergames, gaming, video gaming, video game a...</td>\n",
       "    </tr>\n",
       "    <tr>\n",
       "      <th>15</th>\n",
       "      <td>19</td>\n",
       "      <td>[smartphones, GPS and camera-equipped mobile d...</td>\n",
       "    </tr>\n",
       "    <tr>\n",
       "      <th>16</th>\n",
       "      <td>20</td>\n",
       "      <td>[activity monitor, mobile technology usage for...</td>\n",
       "    </tr>\n",
       "    <tr>\n",
       "      <th>17</th>\n",
       "      <td>21</td>\n",
       "      <td>[lifestyle, providing convenient channels for ...</td>\n",
       "    </tr>\n",
       "    <tr>\n",
       "      <th>18</th>\n",
       "      <td>22</td>\n",
       "      <td>[mass media, mass media campaigns, raising awa...</td>\n",
       "    </tr>\n",
       "    <tr>\n",
       "      <th>19</th>\n",
       "      <td>25</td>\n",
       "      <td>[live broadcasting, watching television, liste...</td>\n",
       "    </tr>\n",
       "    <tr>\n",
       "      <th>20</th>\n",
       "      <td>26</td>\n",
       "      <td>[screen time use, time occupied by the game, h...</td>\n",
       "    </tr>\n",
       "    <tr>\n",
       "      <th>21</th>\n",
       "      <td>28</td>\n",
       "      <td>[advanced, automated internet technology, CEDa...</td>\n",
       "    </tr>\n",
       "    <tr>\n",
       "      <th>22</th>\n",
       "      <td>29</td>\n",
       "      <td>[common satellite in South Asian Association f...</td>\n",
       "    </tr>\n",
       "    <tr>\n",
       "      <th>23</th>\n",
       "      <td>31</td>\n",
       "      <td>[hybrid model (main grid power and dynamically...</td>\n",
       "    </tr>\n",
       "    <tr>\n",
       "      <th>24</th>\n",
       "      <td>32</td>\n",
       "      <td>[access to information, documentation, immedia...</td>\n",
       "    </tr>\n",
       "    <tr>\n",
       "      <th>25</th>\n",
       "      <td>33</td>\n",
       "      <td>[LSTM-GRU-PPCM model, relational learning, dat...</td>\n",
       "    </tr>\n",
       "    <tr>\n",
       "      <th>26</th>\n",
       "      <td>7-0</td>\n",
       "      <td>[smart city policies, smart city, propensity t...</td>\n",
       "    </tr>\n",
       "    <tr>\n",
       "      <th>27</th>\n",
       "      <td>7-1</td>\n",
       "      <td>[Cloud Computing, Green Cloud Computing, feder...</td>\n",
       "    </tr>\n",
       "    <tr>\n",
       "      <th>28</th>\n",
       "      <td>9-0</td>\n",
       "      <td>[Eco-design guidelines, strategies, and digita...</td>\n",
       "    </tr>\n",
       "    <tr>\n",
       "      <th>29</th>\n",
       "      <td>9-1</td>\n",
       "      <td>[cooling system in data center, improvement in...</td>\n",
       "    </tr>\n",
       "    <tr>\n",
       "      <th>30</th>\n",
       "      <td>16-0</td>\n",
       "      <td>[regulating food and beverage advertising part...</td>\n",
       "    </tr>\n",
       "    <tr>\n",
       "      <th>31</th>\n",
       "      <td>16-1</td>\n",
       "      <td>[advertising strategy of PT. Jafra Cosmetics, ...</td>\n",
       "    </tr>\n",
       "    <tr>\n",
       "      <th>32</th>\n",
       "      <td>23-0</td>\n",
       "      <td>[green radio network planning approach, green ...</td>\n",
       "    </tr>\n",
       "    <tr>\n",
       "      <th>33</th>\n",
       "      <td>23-1</td>\n",
       "      <td>[green mobile application (Thrifteal), green I...</td>\n",
       "    </tr>\n",
       "    <tr>\n",
       "      <th>34</th>\n",
       "      <td>24-0</td>\n",
       "      <td>[telecommunications, demand for pharmaceutical...</td>\n",
       "    </tr>\n",
       "    <tr>\n",
       "      <th>35</th>\n",
       "      <td>24-1</td>\n",
       "      <td>[Chinese investments in Africa's telecom secto...</td>\n",
       "    </tr>\n",
       "    <tr>\n",
       "      <th>36</th>\n",
       "      <td>27-0</td>\n",
       "      <td>[activewear purchased to be worn as casualwear...</td>\n",
       "    </tr>\n",
       "    <tr>\n",
       "      <th>37</th>\n",
       "      <td>27-1</td>\n",
       "      <td>[perceived service quality, e-Service Quality,...</td>\n",
       "    </tr>\n",
       "    <tr>\n",
       "      <th>38</th>\n",
       "      <td>30-0</td>\n",
       "      <td>[energy cost saving in heterogenous cellular n...</td>\n",
       "    </tr>\n",
       "    <tr>\n",
       "      <th>39</th>\n",
       "      <td>30-1</td>\n",
       "      <td>[innovations in appliances, fuels, infrastruct...</td>\n",
       "    </tr>\n",
       "  </tbody>\n",
       "</table>\n",
       "</div>"
      ],
      "text/plain": [
       "   cluster_id                                          sentences\n",
       "0           1  [social media usage, social media use, social ...\n",
       "1           2  [internet usage, Internet use, internet use, i...\n",
       "2           3  [information and communication technologies (I...\n",
       "3           4  [Internet of Things utilization, technological...\n",
       "4           5  [digitalisation of societies, technology and d...\n",
       "5           6  [social media, social media, social media, web...\n",
       "6           8  [digital technologies, digital technologies, d...\n",
       "7          10  [data centres (DCs), data centers, data center...\n",
       "8          11  [ICT utilization program, information technolo...\n",
       "9          12  [social media collaboration, face-to-face coll...\n",
       "10         13  [mobile telephony, text messaging, email, SMS/...\n",
       "11         14  [electronic alternatives, emerging technologie...\n",
       "12         15  [personal innovativeness, technology use (TU),...\n",
       "13         17  [smart technology, wireless sensor networks, s...\n",
       "14         18  [exergames, gaming, video gaming, video game a...\n",
       "15         19  [smartphones, GPS and camera-equipped mobile d...\n",
       "16         20  [activity monitor, mobile technology usage for...\n",
       "17         21  [lifestyle, providing convenient channels for ...\n",
       "18         22  [mass media, mass media campaigns, raising awa...\n",
       "19         25  [live broadcasting, watching television, liste...\n",
       "20         26  [screen time use, time occupied by the game, h...\n",
       "21         28  [advanced, automated internet technology, CEDa...\n",
       "22         29  [common satellite in South Asian Association f...\n",
       "23         31  [hybrid model (main grid power and dynamically...\n",
       "24         32  [access to information, documentation, immedia...\n",
       "25         33  [LSTM-GRU-PPCM model, relational learning, dat...\n",
       "26        7-0  [smart city policies, smart city, propensity t...\n",
       "27        7-1  [Cloud Computing, Green Cloud Computing, feder...\n",
       "28        9-0  [Eco-design guidelines, strategies, and digita...\n",
       "29        9-1  [cooling system in data center, improvement in...\n",
       "30       16-0  [regulating food and beverage advertising part...\n",
       "31       16-1  [advertising strategy of PT. Jafra Cosmetics, ...\n",
       "32       23-0  [green radio network planning approach, green ...\n",
       "33       23-1  [green mobile application (Thrifteal), green I...\n",
       "34       24-0  [telecommunications, demand for pharmaceutical...\n",
       "35       24-1  [Chinese investments in Africa's telecom secto...\n",
       "36       27-0  [activewear purchased to be worn as casualwear...\n",
       "37       27-1  [perceived service quality, e-Service Quality,...\n",
       "38       30-0  [energy cost saving in heterogenous cellular n...\n",
       "39       30-1  [innovations in appliances, fuels, infrastruct..."
      ]
     },
     "execution_count": 57,
     "metadata": {},
     "output_type": "execute_result"
    }
   ],
   "source": [
    "## Re-clsutering of subdivision of clusters\n",
    "### List of clusters to subdivide\n",
    "clusters_to_subdivide_with_params = {\n",
    "    7: {'min_cluster_size': 15, 'min_samples': 5, 'cluster_selection_epsilon': 0.1},\n",
    "    9: {'min_cluster_size': 10, 'min_samples': 5, 'cluster_selection_epsilon': 0.1},\n",
    "    16: {'min_cluster_size': 15, 'min_samples': 5, 'cluster_selection_epsilon': 0.1},\n",
    "    23: {'min_cluster_size': 15, 'min_samples': 5, 'cluster_selection_epsilon': 0.1},\n",
    "    24: {'min_cluster_size': 15, 'min_samples': 5, 'cluster_selection_epsilon': 0.1},\n",
    "    27: {'min_cluster_size': 17, 'min_samples': 5, 'cluster_selection_epsilon': 0.1},\n",
    "    30: {'min_cluster_size': 17, 'min_samples': 5, 'cluster_selection_epsilon': 0.1}\n",
    "}\n",
    "\n",
    "# Subdivide selected clusters and create a new dataframe\n",
    "new_cluster_df, new_noise, cluster_assignment_to_change_indices, new_cluster_assignment = clusterize.subdivide_clusters(\n",
    "    clustered_sentences, cluster_assignment, reduced_embeddings_items, preprocessed_items, clusters_to_subdivide_with_params\n",
    ")\n",
    "\n",
    "# Display the new dataframe\n",
    "new_cluster_df"
   ]
  },
  {
   "cell_type": "code",
   "execution_count": null,
   "metadata": {},
   "outputs": [
    {
     "name": "stdout",
     "output_type": "stream",
     "text": [
      "14 new clusters were created out of 7\n",
      "47 items from the previous clusters were classified as noise\n"
     ]
    }
   ],
   "source": [
    "print(f'{new_cluster_df.shape[0] - cluster_summary_df.shape[0] + len(clusters_to_subdivide_with_params.keys())} new clusters were created out of {len(clusters_to_subdivide_with_params.keys())}')\n",
    "print(f'{len(new_noise)} items from the previous clusters were classified as noise')"
   ]
  },
  {
   "cell_type": "code",
   "execution_count": null,
   "metadata": {},
   "outputs": [
    {
     "data": {
      "text/plain": [
       "['online pizza ordering system',\n",
       " 'cloud radio access network (C-RAN) architecture',\n",
       " 'optimization problem to allocate radio resources',\n",
       " 'flexible service level agreements in Green IT',\n",
       " 'Cloud Radio Access Network (C-RAN) architecture',\n",
       " 'green communication technologies',\n",
       " 'radio access network (RAN) energy consumption',\n",
       " 'Green procurement',\n",
       " 'Reverse Logistics in Green Procurement',\n",
       " 'Cloud Radio Access Network (C-RAN) architecture']"
      ]
     },
     "execution_count": 59,
     "metadata": {},
     "output_type": "execute_result"
    }
   ],
   "source": [
    "new_noise[:10]"
   ]
  },
  {
   "cell_type": "code",
   "execution_count": null,
   "metadata": {},
   "outputs": [
    {
     "data": {
      "application/vnd.microsoft.datawrangler.viewer.v0+json": {
       "columns": [
        {
         "name": "index",
         "rawType": "int64",
         "type": "integer"
        },
        {
         "name": "noise_samples",
         "rawType": "object",
         "type": "string"
        }
       ],
       "ref": "7655cfdf-0e0c-476b-858b-c5ea18ea75dc",
       "rows": [
        [
         "0",
         "experimentation with novel strategies"
        ],
        [
         "1",
         "persuasive messages"
        ],
        [
         "2",
         "persuasive messages"
        ],
        [
         "3",
         "persuasive strategies"
        ],
        [
         "4",
         "digital leadership"
        ],
        [
         "5",
         "Transformational Leadership"
        ],
        [
         "6",
         "Reverse Logistics in Green Procurement"
        ],
        [
         "7",
         "human-centered digital workplaces"
        ],
        [
         "8",
         "Cloud Radio Access Network (C-RAN) architecture"
        ],
        [
         "9",
         "positive leadership behaviour"
        ],
        [
         "10",
         "flexible service level agreements in Green IT"
        ],
        [
         "11",
         "persuasive messages"
        ],
        [
         "12",
         "use of strategies to obtain these indicators"
        ],
        [
         "13",
         "engagement with traditional and online alcohol marketing"
        ],
        [
         "14",
         "digital leadership"
        ],
        [
         "15",
         "leadership"
        ],
        [
         "16",
         "optimization problem to allocate radio resources"
        ],
        [
         "17",
         "Cloud Radio Access Network (C-RAN) architecture"
        ],
        [
         "18",
         "competence in English"
        ],
        [
         "19",
         "Digital Leadership"
        ],
        [
         "20",
         "power supply systems and topologies"
        ],
        [
         "21",
         "positive leadership behaviour"
        ],
        [
         "22",
         "Cloud Radio Access Network (C-RAN) architecture"
        ],
        [
         "23",
         "alcohol marketing"
        ],
        [
         "24",
         "Organizational Learning"
        ],
        [
         "25",
         "use of diversity technique"
        ],
        [
         "26",
         "professional involvement"
        ],
        [
         "27",
         "use of strategies to obtain these indicators"
        ],
        [
         "28",
         "linguistic diversity"
        ],
        [
         "29",
         "persuasive games"
        ],
        [
         "30",
         "complex approaches (FLAASH, ATCOR, 6S)"
        ],
        [
         "31",
         "green electrical appliances"
        ],
        [
         "32",
         "extroverted learning style"
        ],
        [
         "33",
         "Green procurement"
        ],
        [
         "34",
         "online pizza ordering system"
        ],
        [
         "35",
         "persuasive messages"
        ],
        [
         "36",
         "positive leadership behaviour"
        ],
        [
         "37",
         "organizational learning capability"
        ],
        [
         "38",
         "positive leadership behaviour"
        ],
        [
         "39",
         "content diversity"
        ],
        [
         "40",
         "persuasive messages"
        ],
        [
         "41",
         "experimentation with novel strategies"
        ],
        [
         "42",
         "green communication technologies"
        ],
        [
         "43",
         "trialability"
        ],
        [
         "44",
         "cloud radio access network (C-RAN) architecture"
        ],
        [
         "45",
         "radio access network (RAN) energy consumption"
        ],
        [
         "46",
         "service recovery justice"
        ]
       ],
       "shape": {
        "columns": 1,
        "rows": 47
       }
      },
      "text/html": [
       "<div>\n",
       "<style scoped>\n",
       "    .dataframe tbody tr th:only-of-type {\n",
       "        vertical-align: middle;\n",
       "    }\n",
       "\n",
       "    .dataframe tbody tr th {\n",
       "        vertical-align: top;\n",
       "    }\n",
       "\n",
       "    .dataframe thead th {\n",
       "        text-align: right;\n",
       "    }\n",
       "</style>\n",
       "<table border=\"1\" class=\"dataframe\">\n",
       "  <thead>\n",
       "    <tr style=\"text-align: right;\">\n",
       "      <th></th>\n",
       "      <th>noise_samples</th>\n",
       "    </tr>\n",
       "  </thead>\n",
       "  <tbody>\n",
       "    <tr>\n",
       "      <th>0</th>\n",
       "      <td>experimentation with novel strategies</td>\n",
       "    </tr>\n",
       "    <tr>\n",
       "      <th>1</th>\n",
       "      <td>persuasive messages</td>\n",
       "    </tr>\n",
       "    <tr>\n",
       "      <th>2</th>\n",
       "      <td>persuasive messages</td>\n",
       "    </tr>\n",
       "    <tr>\n",
       "      <th>3</th>\n",
       "      <td>persuasive strategies</td>\n",
       "    </tr>\n",
       "    <tr>\n",
       "      <th>4</th>\n",
       "      <td>digital leadership</td>\n",
       "    </tr>\n",
       "    <tr>\n",
       "      <th>5</th>\n",
       "      <td>Transformational Leadership</td>\n",
       "    </tr>\n",
       "    <tr>\n",
       "      <th>6</th>\n",
       "      <td>Reverse Logistics in Green Procurement</td>\n",
       "    </tr>\n",
       "    <tr>\n",
       "      <th>7</th>\n",
       "      <td>human-centered digital workplaces</td>\n",
       "    </tr>\n",
       "    <tr>\n",
       "      <th>8</th>\n",
       "      <td>Cloud Radio Access Network (C-RAN) architecture</td>\n",
       "    </tr>\n",
       "    <tr>\n",
       "      <th>9</th>\n",
       "      <td>positive leadership behaviour</td>\n",
       "    </tr>\n",
       "    <tr>\n",
       "      <th>10</th>\n",
       "      <td>flexible service level agreements in Green IT</td>\n",
       "    </tr>\n",
       "    <tr>\n",
       "      <th>11</th>\n",
       "      <td>persuasive messages</td>\n",
       "    </tr>\n",
       "    <tr>\n",
       "      <th>12</th>\n",
       "      <td>use of strategies to obtain these indicators</td>\n",
       "    </tr>\n",
       "    <tr>\n",
       "      <th>13</th>\n",
       "      <td>engagement with traditional and online alcohol...</td>\n",
       "    </tr>\n",
       "    <tr>\n",
       "      <th>14</th>\n",
       "      <td>digital leadership</td>\n",
       "    </tr>\n",
       "    <tr>\n",
       "      <th>15</th>\n",
       "      <td>leadership</td>\n",
       "    </tr>\n",
       "    <tr>\n",
       "      <th>16</th>\n",
       "      <td>optimization problem to allocate radio resources</td>\n",
       "    </tr>\n",
       "    <tr>\n",
       "      <th>17</th>\n",
       "      <td>Cloud Radio Access Network (C-RAN) architecture</td>\n",
       "    </tr>\n",
       "    <tr>\n",
       "      <th>18</th>\n",
       "      <td>competence in English</td>\n",
       "    </tr>\n",
       "    <tr>\n",
       "      <th>19</th>\n",
       "      <td>Digital Leadership</td>\n",
       "    </tr>\n",
       "    <tr>\n",
       "      <th>20</th>\n",
       "      <td>power supply systems and topologies</td>\n",
       "    </tr>\n",
       "    <tr>\n",
       "      <th>21</th>\n",
       "      <td>positive leadership behaviour</td>\n",
       "    </tr>\n",
       "    <tr>\n",
       "      <th>22</th>\n",
       "      <td>Cloud Radio Access Network (C-RAN) architecture</td>\n",
       "    </tr>\n",
       "    <tr>\n",
       "      <th>23</th>\n",
       "      <td>alcohol marketing</td>\n",
       "    </tr>\n",
       "    <tr>\n",
       "      <th>24</th>\n",
       "      <td>Organizational Learning</td>\n",
       "    </tr>\n",
       "    <tr>\n",
       "      <th>25</th>\n",
       "      <td>use of diversity technique</td>\n",
       "    </tr>\n",
       "    <tr>\n",
       "      <th>26</th>\n",
       "      <td>professional involvement</td>\n",
       "    </tr>\n",
       "    <tr>\n",
       "      <th>27</th>\n",
       "      <td>use of strategies to obtain these indicators</td>\n",
       "    </tr>\n",
       "    <tr>\n",
       "      <th>28</th>\n",
       "      <td>linguistic diversity</td>\n",
       "    </tr>\n",
       "    <tr>\n",
       "      <th>29</th>\n",
       "      <td>persuasive games</td>\n",
       "    </tr>\n",
       "    <tr>\n",
       "      <th>30</th>\n",
       "      <td>complex approaches (FLAASH, ATCOR, 6S)</td>\n",
       "    </tr>\n",
       "    <tr>\n",
       "      <th>31</th>\n",
       "      <td>green electrical appliances</td>\n",
       "    </tr>\n",
       "    <tr>\n",
       "      <th>32</th>\n",
       "      <td>extroverted learning style</td>\n",
       "    </tr>\n",
       "    <tr>\n",
       "      <th>33</th>\n",
       "      <td>Green procurement</td>\n",
       "    </tr>\n",
       "    <tr>\n",
       "      <th>34</th>\n",
       "      <td>online pizza ordering system</td>\n",
       "    </tr>\n",
       "    <tr>\n",
       "      <th>35</th>\n",
       "      <td>persuasive messages</td>\n",
       "    </tr>\n",
       "    <tr>\n",
       "      <th>36</th>\n",
       "      <td>positive leadership behaviour</td>\n",
       "    </tr>\n",
       "    <tr>\n",
       "      <th>37</th>\n",
       "      <td>organizational learning capability</td>\n",
       "    </tr>\n",
       "    <tr>\n",
       "      <th>38</th>\n",
       "      <td>positive leadership behaviour</td>\n",
       "    </tr>\n",
       "    <tr>\n",
       "      <th>39</th>\n",
       "      <td>content diversity</td>\n",
       "    </tr>\n",
       "    <tr>\n",
       "      <th>40</th>\n",
       "      <td>persuasive messages</td>\n",
       "    </tr>\n",
       "    <tr>\n",
       "      <th>41</th>\n",
       "      <td>experimentation with novel strategies</td>\n",
       "    </tr>\n",
       "    <tr>\n",
       "      <th>42</th>\n",
       "      <td>green communication technologies</td>\n",
       "    </tr>\n",
       "    <tr>\n",
       "      <th>43</th>\n",
       "      <td>trialability</td>\n",
       "    </tr>\n",
       "    <tr>\n",
       "      <th>44</th>\n",
       "      <td>cloud radio access network (C-RAN) architecture</td>\n",
       "    </tr>\n",
       "    <tr>\n",
       "      <th>45</th>\n",
       "      <td>radio access network (RAN) energy consumption</td>\n",
       "    </tr>\n",
       "    <tr>\n",
       "      <th>46</th>\n",
       "      <td>service recovery justice</td>\n",
       "    </tr>\n",
       "  </tbody>\n",
       "</table>\n",
       "</div>"
      ],
      "text/plain": [
       "                                        noise_samples\n",
       "0               experimentation with novel strategies\n",
       "1                                 persuasive messages\n",
       "2                                 persuasive messages\n",
       "3                               persuasive strategies\n",
       "4                                  digital leadership\n",
       "5                         Transformational Leadership\n",
       "6              Reverse Logistics in Green Procurement\n",
       "7                   human-centered digital workplaces\n",
       "8     Cloud Radio Access Network (C-RAN) architecture\n",
       "9                       positive leadership behaviour\n",
       "10      flexible service level agreements in Green IT\n",
       "11                                persuasive messages\n",
       "12       use of strategies to obtain these indicators\n",
       "13  engagement with traditional and online alcohol...\n",
       "14                                 digital leadership\n",
       "15                                         leadership\n",
       "16   optimization problem to allocate radio resources\n",
       "17    Cloud Radio Access Network (C-RAN) architecture\n",
       "18                              competence in English\n",
       "19                                 Digital Leadership\n",
       "20                power supply systems and topologies\n",
       "21                      positive leadership behaviour\n",
       "22    Cloud Radio Access Network (C-RAN) architecture\n",
       "23                                  alcohol marketing\n",
       "24                            Organizational Learning\n",
       "25                         use of diversity technique\n",
       "26                           professional involvement\n",
       "27       use of strategies to obtain these indicators\n",
       "28                               linguistic diversity\n",
       "29                                   persuasive games\n",
       "30             complex approaches (FLAASH, ATCOR, 6S)\n",
       "31                        green electrical appliances\n",
       "32                         extroverted learning style\n",
       "33                                  Green procurement\n",
       "34                       online pizza ordering system\n",
       "35                                persuasive messages\n",
       "36                      positive leadership behaviour\n",
       "37                 organizational learning capability\n",
       "38                      positive leadership behaviour\n",
       "39                                  content diversity\n",
       "40                                persuasive messages\n",
       "41              experimentation with novel strategies\n",
       "42                   green communication technologies\n",
       "43                                       trialability\n",
       "44    cloud radio access network (C-RAN) architecture\n",
       "45      radio access network (RAN) energy consumption\n",
       "46                           service recovery justice"
      ]
     },
     "execution_count": 60,
     "metadata": {},
     "output_type": "execute_result"
    }
   ],
   "source": [
    "data = {'noise_samples': random.sample(new_noise, min(100, len(new_noise)))}\n",
    "\n",
    "# Creating DataFrame\n",
    "new_noise_df = pd.DataFrame(data)\n",
    "\n",
    "new_noise_df.to_csv(f'../outputs/noise_sample_recluster_{domain}_items.csv', index=False)\n",
    "\n",
    "new_noise_df"
   ]
  },
  {
   "cell_type": "code",
   "execution_count": null,
   "metadata": {},
   "outputs": [
    {
     "data": {
      "application/vnd.microsoft.datawrangler.viewer.v0+json": {
       "columns": [
        {
         "name": "index",
         "rawType": "int64",
         "type": "integer"
        },
        {
         "name": "ITEM",
         "rawType": "object",
         "type": "string"
        },
        {
         "name": "cluster",
         "rawType": "int64",
         "type": "integer"
        },
        {
         "name": "cluster_2",
         "rawType": "object",
         "type": "unknown"
        },
        {
         "name": "doi",
         "rawType": "object",
         "type": "unknown"
        }
       ],
       "ref": "c864654f-f1d3-4e7d-b683-8d25d0e7596f",
       "rows": [
        [
         "0",
         "mass media",
         "22",
         "22",
         "https://doi.org/10.22038/jmrh.2014.2918"
        ],
        [
         "1",
         "exergames",
         "18",
         "18",
         "https://doi.org/10.48550/arxiv.1908.09984"
        ],
        [
         "3",
         "telecommunications",
         "24",
         "24_0",
         "https://doi.org/10.1080/17543266.2018.1477995"
        ],
        [
         "4",
         "activewear purchased to be worn as casualwear",
         "27",
         "27_0",
         "https://doi.org/10.2118/209896-ms"
        ],
        [
         "6",
         "advanced, automated internet technology",
         "28",
         "28",
         "https://doi.org/10.2478/aup-2023-0012"
        ],
        [
         "7",
         "smartphones",
         "19",
         "19",
         "https://doi.org/10.1051/e3sconf/202234906007"
        ],
        [
         "8",
         "augmented reality",
         "-1",
         "-1",
         "https://doi.org/10.1051/e3sconf/202234906007"
        ],
        [
         "9",
         "data centres (DCs)",
         "10",
         "10",
         "https://doi.org/10.1051/e3sconf/202234906007"
        ],
        [
         "11",
         "CEDaCI project",
         "28",
         "28",
         "https://doi.org/10.1017/cbo9781139052337.011"
        ],
        [
         "13",
         "Eco-design guidelines, strategies, and digital tools",
         "9",
         "9_0",
         "https://doi.org/10.53479/30069"
        ],
        [
         "16",
         "Internet of Things utilization",
         "4",
         "4",
         "https://doi.org/10.33790/jrpr1100135"
        ],
        [
         "17",
         "access to information",
         "32",
         "32",
         null
        ],
        [
         "18",
         "information technology and networks",
         "-1",
         "-1",
         null
        ],
        [
         "19",
         "demand for pharmaceuticals, IT and telecommunications",
         "24",
         "24_0",
         null
        ],
        [
         "20",
         "social media usage",
         "1",
         "1",
         null
        ],
        [
         "21",
         "communication facilities",
         "24",
         "24_0",
         null
        ],
        [
         "22",
         "ICT utilization program",
         "11",
         "11",
         "https://doi.org/10.3390/su12072763"
        ],
        [
         "25",
         "information technology growth and innovation in electronic component and data center equipment",
         "11",
         "11",
         "https://doi.org/10.4108/eai.3-10-2020.2306591"
        ],
        [
         "26",
         "cooling system in data center",
         "9",
         "9_1",
         "https://doi.org/10.4108/eai.3-10-2020.2306591"
        ],
        [
         "29",
         "improvement in the cooling system of data center",
         "9",
         "9_1",
         null
        ],
        [
         "30",
         "effective cooling inside the equipment",
         "9",
         "9_1",
         "https://doi.org/10.31234/osf.io/xv76f_v1"
        ],
        [
         "31",
         "digitalisation of societies",
         "5",
         "5",
         "https://doi.org/10.31234/osf.io/xv76f_v1"
        ],
        [
         "32",
         "information communication technology",
         "-1",
         "-1",
         null
        ],
        [
         "33",
         "digital technologies",
         "8",
         "8",
         null
        ],
        [
         "35",
         "documentation",
         "32",
         "32",
         "https://doi.org/10.1787/a845c0b6-en"
        ],
        [
         "36",
         "Shopping Lifestyle",
         "27",
         "27_0",
         "https://doi.org/10.1787/a845c0b6-en"
        ],
        [
         "37",
         "Fashion Involvement",
         "27",
         "27_0",
         "https://doi.org/10.4018/978-1-4666-1918-0.ch002"
        ],
        [
         "38",
         "Sales Promotion",
         "27",
         "27_0",
         "https://doi.org/10.4018/978-1-4666-1918-0.ch002"
        ],
        [
         "39",
         "common satellite in South Asian Association for Regional Co-operation (SAARC)",
         "29",
         "29",
         "https://doi.org/10.4018/978-1-4666-1918-0.ch002"
        ],
        [
         "42",
         "new policy framework specific to the application of satellite technologies",
         "29",
         "29",
         "https://doi.org/10.1109/iciset.2018.8745631"
        ],
        [
         "44",
         "social media use",
         "1",
         "1",
         "https://doi.org/10.18203/2394-6040.ijcmph20242890"
        ],
        [
         "45",
         "gaming",
         "18",
         "18",
         "https://doi.org/10.1007/978-3-031-55408-7_11"
        ],
        [
         "47",
         "GPS and camera-equipped mobile devices",
         "19",
         "19",
         "https://doi.org/10.1136/jech-2012-201034"
        ],
        [
         "48",
         "photogrammetry software or mobile device-based GPS",
         "19",
         "19",
         "https://doi.org/10.1177/1464993420927507"
        ],
        [
         "49",
         "technology and digitalisation",
         "5",
         "5",
         "https://doi.org/10.1080/09537287.2023.2197851"
        ],
        [
         "51",
         "mass media campaigns",
         "22",
         "22",
         "https://doi.org/10.4018/978-1-7998-5033-5.ch017"
        ],
        [
         "52",
         "regulating food and beverage advertising particularly for children",
         "16",
         "16_0",
         "https://doi.org/10.5455/jrcrs.2018060205"
        ],
        [
         "53",
         "information and communication technologies (ICTs)",
         "3",
         "3",
         "https://doi.org/10.1080/00045608.2013.754658"
        ],
        [
         "56",
         "Internet and mobile phones",
         "19",
         "19",
         "https://doi.org/10.4122/dtu:112"
        ],
        [
         "58",
         "ICT policies favoring human rights",
         "11",
         "11",
         null
        ],
        [
         "60",
         "custom smartphone application",
         "19",
         "19",
         "https://doi.org/10.21203/rs.3.rs-1442880/v1"
        ],
        [
         "61",
         "activity monitor",
         "20",
         "20",
         "https://doi.org/10.1109/ic2ie56416.2022.9970104"
        ],
        [
         "62",
         "cloud radio access network (C-RAN) architecture",
         "23",
         "-1",
         "https://doi.org/10.1080/24694452.2019.1617101"
        ],
        [
         "63",
         "screen time use",
         "26",
         "26",
         "https://doi.org/10.1080/24694452.2019.1617101"
        ],
        [
         "64",
         "limiting the use of electronic devices before bedtime",
         "-1",
         "-1",
         "https://doi.org/10.31224/3859"
        ],
        [
         "65",
         "raising awareness by global mass media",
         "22",
         "22",
         "https://doi.org/10.31224/3859"
        ],
        [
         "66",
         "role of mass media in fostering public awareness",
         "22",
         "22",
         "https://doi.org/10.1109/intlec.1993.388472"
        ],
        [
         "67",
         "media campaigns and branding",
         "22",
         "22",
         null
        ],
        [
         "68",
         "information and communications technology (ICT) infrastructures",
         "11",
         "11",
         "https://doi.org/10.21203/rs.3.rs-3849566/v1"
        ],
        [
         "70",
         "technological advances (e.g. big data and IoT)",
         "4",
         "4",
         "https://doi.org/10.21203/rs.3.rs-3849566/v1"
        ]
       ],
       "shape": {
        "columns": 4,
        "rows": 6890
       }
      },
      "text/html": [
       "<div>\n",
       "<style scoped>\n",
       "    .dataframe tbody tr th:only-of-type {\n",
       "        vertical-align: middle;\n",
       "    }\n",
       "\n",
       "    .dataframe tbody tr th {\n",
       "        vertical-align: top;\n",
       "    }\n",
       "\n",
       "    .dataframe thead th {\n",
       "        text-align: right;\n",
       "    }\n",
       "</style>\n",
       "<table border=\"1\" class=\"dataframe\">\n",
       "  <thead>\n",
       "    <tr style=\"text-align: right;\">\n",
       "      <th></th>\n",
       "      <th>ITEM</th>\n",
       "      <th>cluster</th>\n",
       "      <th>cluster_2</th>\n",
       "      <th>doi</th>\n",
       "    </tr>\n",
       "  </thead>\n",
       "  <tbody>\n",
       "    <tr>\n",
       "      <th>0</th>\n",
       "      <td>mass media</td>\n",
       "      <td>22</td>\n",
       "      <td>22</td>\n",
       "      <td>https://doi.org/10.22038/jmrh.2014.2918</td>\n",
       "    </tr>\n",
       "    <tr>\n",
       "      <th>1</th>\n",
       "      <td>exergames</td>\n",
       "      <td>18</td>\n",
       "      <td>18</td>\n",
       "      <td>https://doi.org/10.48550/arxiv.1908.09984</td>\n",
       "    </tr>\n",
       "    <tr>\n",
       "      <th>3</th>\n",
       "      <td>telecommunications</td>\n",
       "      <td>24</td>\n",
       "      <td>24_0</td>\n",
       "      <td>https://doi.org/10.1080/17543266.2018.1477995</td>\n",
       "    </tr>\n",
       "    <tr>\n",
       "      <th>4</th>\n",
       "      <td>activewear purchased to be worn as casualwear</td>\n",
       "      <td>27</td>\n",
       "      <td>27_0</td>\n",
       "      <td>https://doi.org/10.2118/209896-ms</td>\n",
       "    </tr>\n",
       "    <tr>\n",
       "      <th>6</th>\n",
       "      <td>advanced, automated internet technology</td>\n",
       "      <td>28</td>\n",
       "      <td>28</td>\n",
       "      <td>https://doi.org/10.2478/aup-2023-0012</td>\n",
       "    </tr>\n",
       "    <tr>\n",
       "      <th>...</th>\n",
       "      <td>...</td>\n",
       "      <td>...</td>\n",
       "      <td>...</td>\n",
       "      <td>...</td>\n",
       "    </tr>\n",
       "    <tr>\n",
       "      <th>10376</th>\n",
       "      <td>IoT-based air pollution monitoring system usin...</td>\n",
       "      <td>-1</td>\n",
       "      <td>-1</td>\n",
       "      <td>NaN</td>\n",
       "    </tr>\n",
       "    <tr>\n",
       "      <th>10377</th>\n",
       "      <td>privately funded GSM network</td>\n",
       "      <td>24</td>\n",
       "      <td>24_0</td>\n",
       "      <td>NaN</td>\n",
       "    </tr>\n",
       "    <tr>\n",
       "      <th>10378</th>\n",
       "      <td>watching television and playing computer</td>\n",
       "      <td>25</td>\n",
       "      <td>25</td>\n",
       "      <td>NaN</td>\n",
       "    </tr>\n",
       "    <tr>\n",
       "      <th>10379</th>\n",
       "      <td>social media</td>\n",
       "      <td>6</td>\n",
       "      <td>6</td>\n",
       "      <td>NaN</td>\n",
       "    </tr>\n",
       "    <tr>\n",
       "      <th>10380</th>\n",
       "      <td>social media</td>\n",
       "      <td>6</td>\n",
       "      <td>6</td>\n",
       "      <td>NaN</td>\n",
       "    </tr>\n",
       "  </tbody>\n",
       "</table>\n",
       "<p>6890 rows × 4 columns</p>\n",
       "</div>"
      ],
      "text/plain": [
       "                                                    ITEM  cluster cluster_2  \\\n",
       "0                                             mass media       22        22   \n",
       "1                                              exergames       18        18   \n",
       "3                                     telecommunications       24      24_0   \n",
       "4          activewear purchased to be worn as casualwear       27      27_0   \n",
       "6                advanced, automated internet technology       28        28   \n",
       "...                                                  ...      ...       ...   \n",
       "10376  IoT-based air pollution monitoring system usin...       -1        -1   \n",
       "10377                       privately funded GSM network       24      24_0   \n",
       "10378           watching television and playing computer       25        25   \n",
       "10379                                       social media        6         6   \n",
       "10380                                       social media        6         6   \n",
       "\n",
       "                                                 doi  \n",
       "0            https://doi.org/10.22038/jmrh.2014.2918  \n",
       "1          https://doi.org/10.48550/arxiv.1908.09984  \n",
       "3      https://doi.org/10.1080/17543266.2018.1477995  \n",
       "4                  https://doi.org/10.2118/209896-ms  \n",
       "6              https://doi.org/10.2478/aup-2023-0012  \n",
       "...                                              ...  \n",
       "10376                                            NaN  \n",
       "10377                                            NaN  \n",
       "10378                                            NaN  \n",
       "10379                                            NaN  \n",
       "10380                                            NaN  \n",
       "\n",
       "[6890 rows x 4 columns]"
      ]
     },
     "execution_count": 61,
     "metadata": {},
     "output_type": "execute_result"
    }
   ],
   "source": [
    "sentences_df = pd.DataFrame(preprocessed_items.copy())\n",
    "\n",
    "if domain == 'E': # TODO maintenant que doi dans extracted df, interagir directement avec cette colonne ?\n",
    "    doi_col = df[(df['FACTOR'] != \"\\\"None\\\"\") & (df['FACTOR'] != \"\\\"rainfall estimation\\\"\")]['doi']\n",
    "\n",
    "cluster_assignment_with_correct_index = [i + 1 if i != -1 else i for i in cluster_assignment]\n",
    "\n",
    "final_df = clusterize.create_final_df(sentences_df, doi_col, cluster_assignment_with_correct_index, new_cluster_assignment, cluster_assignment_to_change_indices)\n",
    "final_df"
   ]
  },
  {
   "cell_type": "code",
   "execution_count": null,
   "metadata": {},
   "outputs": [],
   "source": [
    "final_df.to_csv(f'../outputs/clusters_recluster_hdbscan_{domain}_items.csv', index=False)"
   ]
  },
  {
   "cell_type": "code",
   "execution_count": null,
   "metadata": {},
   "outputs": [
    {
     "data": {
      "application/vnd.microsoft.datawrangler.viewer.v0+json": {
       "columns": [
        {
         "name": "cluster_id",
         "rawType": "int64",
         "type": "integer"
        },
        {
         "name": "min_cluster_size",
         "rawType": "int64",
         "type": "integer"
        },
        {
         "name": "min_samples",
         "rawType": "int64",
         "type": "integer"
        },
        {
         "name": "cluster_selection_epsilon",
         "rawType": "float64",
         "type": "float"
        }
       ],
       "ref": "6348bb6d-a3cb-4508-99a5-18d58f54f609",
       "rows": [
        [
         "7",
         "15",
         "5",
         "0.1"
        ],
        [
         "9",
         "10",
         "5",
         "0.1"
        ],
        [
         "16",
         "15",
         "5",
         "0.1"
        ],
        [
         "23",
         "15",
         "5",
         "0.1"
        ],
        [
         "24",
         "15",
         "5",
         "0.1"
        ],
        [
         "27",
         "17",
         "5",
         "0.1"
        ],
        [
         "30",
         "17",
         "5",
         "0.1"
        ]
       ],
       "shape": {
        "columns": 3,
        "rows": 7
       }
      },
      "text/html": [
       "<div>\n",
       "<style scoped>\n",
       "    .dataframe tbody tr th:only-of-type {\n",
       "        vertical-align: middle;\n",
       "    }\n",
       "\n",
       "    .dataframe tbody tr th {\n",
       "        vertical-align: top;\n",
       "    }\n",
       "\n",
       "    .dataframe thead th {\n",
       "        text-align: right;\n",
       "    }\n",
       "</style>\n",
       "<table border=\"1\" class=\"dataframe\">\n",
       "  <thead>\n",
       "    <tr style=\"text-align: right;\">\n",
       "      <th></th>\n",
       "      <th>min_cluster_size</th>\n",
       "      <th>min_samples</th>\n",
       "      <th>cluster_selection_epsilon</th>\n",
       "    </tr>\n",
       "    <tr>\n",
       "      <th>cluster_id</th>\n",
       "      <th></th>\n",
       "      <th></th>\n",
       "      <th></th>\n",
       "    </tr>\n",
       "  </thead>\n",
       "  <tbody>\n",
       "    <tr>\n",
       "      <th>7</th>\n",
       "      <td>15</td>\n",
       "      <td>5</td>\n",
       "      <td>0.1</td>\n",
       "    </tr>\n",
       "    <tr>\n",
       "      <th>9</th>\n",
       "      <td>10</td>\n",
       "      <td>5</td>\n",
       "      <td>0.1</td>\n",
       "    </tr>\n",
       "    <tr>\n",
       "      <th>16</th>\n",
       "      <td>15</td>\n",
       "      <td>5</td>\n",
       "      <td>0.1</td>\n",
       "    </tr>\n",
       "    <tr>\n",
       "      <th>23</th>\n",
       "      <td>15</td>\n",
       "      <td>5</td>\n",
       "      <td>0.1</td>\n",
       "    </tr>\n",
       "    <tr>\n",
       "      <th>24</th>\n",
       "      <td>15</td>\n",
       "      <td>5</td>\n",
       "      <td>0.1</td>\n",
       "    </tr>\n",
       "    <tr>\n",
       "      <th>27</th>\n",
       "      <td>17</td>\n",
       "      <td>5</td>\n",
       "      <td>0.1</td>\n",
       "    </tr>\n",
       "    <tr>\n",
       "      <th>30</th>\n",
       "      <td>17</td>\n",
       "      <td>5</td>\n",
       "      <td>0.1</td>\n",
       "    </tr>\n",
       "  </tbody>\n",
       "</table>\n",
       "</div>"
      ],
      "text/plain": [
       "            min_cluster_size  min_samples  cluster_selection_epsilon\n",
       "cluster_id                                                          \n",
       "7                         15            5                        0.1\n",
       "9                         10            5                        0.1\n",
       "16                        15            5                        0.1\n",
       "23                        15            5                        0.1\n",
       "24                        15            5                        0.1\n",
       "27                        17            5                        0.1\n",
       "30                        17            5                        0.1"
      ]
     },
     "execution_count": 25,
     "metadata": {},
     "output_type": "execute_result"
    }
   ],
   "source": [
    "recluster_params = pd.DataFrame.from_dict(clusters_to_subdivide_with_params, orient='index')\n",
    "recluster_params.index.name = 'cluster_id'\n",
    "\n",
    "recluster_params.to_csv(f'../outputs/params_recluster_{domain}_items.csv')\n",
    "\n",
    "recluster_params"
   ]
  },
  {
   "cell_type": "markdown",
   "metadata": {},
   "source": [
    "### c. FACTORS"
   ]
  },
  {
   "cell_type": "code",
   "execution_count": null,
   "metadata": {},
   "outputs": [
    {
     "data": {
      "application/vnd.microsoft.datawrangler.viewer.v0+json": {
       "columns": [
        {
         "name": "index",
         "rawType": "int64",
         "type": "integer"
        },
        {
         "name": "FACTOR",
         "rawType": "object",
         "type": "string"
        }
       ],
       "ref": "fe2fb4b4-e95c-4b47-b97f-f59753ccd8bf",
       "rows": [
        [
         "0",
         "awareness about the benefits of physical activity"
        ],
        [
         "1",
         "physical activity (PA) in the general population"
        ],
        [
         "2",
         "PA barriers that AD caregivers face"
        ],
        [
         "3",
         "trip generation rates"
        ],
        [
         "4",
         "intent to purchase activewear"
        ],
        [
         "5",
         "attitude towards shopping activewear for casual purpose"
        ],
        [
         "6",
         "robust connectivity"
        ],
        [
         "7",
         "health care delivery"
        ],
        [
         "8",
         "preservation of archaeological sites"
        ],
        [
         "9",
         "resource utilization"
        ],
        [
         "10",
         "demand for Critical Raw Materials"
        ],
        [
         "11",
         "sectoral sustainability"
        ],
        [
         "12",
         "circularity in the DCI"
        ],
        [
         "13",
         "product life"
        ],
        [
         "14",
         "recycling"
        ],
        [
         "15",
         "decision-making"
        ],
        [
         "16",
         "wind power implementation"
        ],
        [
         "17",
         "right to information"
        ],
        [
         "18",
         "global debates on information rights"
        ],
        [
         "19",
         "changes in habits in the wake of the pandemic"
        ],
        [
         "20",
         "academic performance"
        ],
        [
         "21",
         "development of the village"
        ],
        [
         "22",
         "device use anxiety"
        ],
        [
         "23",
         "health-related quality of life"
        ],
        [
         "24",
         "social participation"
        ],
        [
         "25",
         "demand of data center providing and performance"
        ],
        [
         "26",
         "power consumption"
        ],
        [
         "27",
         "heat load density"
        ],
        [
         "28",
         "energy efficiency"
        ],
        [
         "29",
         "energy efficiency"
        ],
        [
         "30",
         "optimization of cooling system"
        ],
        [
         "31",
         "data on consumers"
        ],
        [
         "32",
         "haze pollution"
        ],
        [
         "33",
         "human rights"
        ],
        [
         "34",
         "rights and freedoms of man and citizen"
        ],
        [
         "35",
         "human rights"
        ],
        [
         "36",
         "Impulse Buying"
        ],
        [
         "37",
         "Impulse Buying"
        ],
        [
         "38",
         "Impulse Buying"
        ],
        [
         "39",
         "weather forecasting"
        ],
        [
         "40",
         "disaster risk reduction"
        ],
        [
         "41",
         "crop harvest projections"
        ],
        [
         "42",
         "real time sharing of regional satellite data"
        ],
        [
         "43",
         "disaster risk reduction"
        ],
        [
         "44",
         "internalising symptoms"
        ],
        [
         "45",
         "internalising symptoms"
        ],
        [
         "46",
         "social media use"
        ],
        [
         "47",
         "volunteered information production"
        ],
        [
         "48",
         "collection of flood levels automation"
        ],
        [
         "49",
         "resource efficiency"
        ]
       ],
       "shape": {
        "columns": 1,
        "rows": 10381
       }
      },
      "text/plain": [
       "0        awareness about the benefits of physical activity\n",
       "1         physical activity (PA) in the general population\n",
       "2                      PA barriers that AD caregivers face\n",
       "3                                    trip generation rates\n",
       "4                            intent to purchase activewear\n",
       "                               ...                        \n",
       "10376                air quality information accessibility\n",
       "10377                            mobile telephone coverage\n",
       "10378                                              obesity\n",
       "10379                           biogas technology adoption\n",
       "10380                                       social support\n",
       "Name: FACTOR, Length: 10381, dtype: object"
      ]
     },
     "execution_count": 26,
     "metadata": {},
     "output_type": "execute_result"
    }
   ],
   "source": [
    "preprocessed_factors = extracted_df['FACTOR']\n",
    "preprocessed_factors"
   ]
  },
  {
   "cell_type": "code",
   "execution_count": null,
   "metadata": {},
   "outputs": [],
   "source": [
    "corpus_list_factors, corpus_embeddings_factors = clusterize.get_embeddings(preprocessed_factors)"
   ]
  },
  {
   "cell_type": "code",
   "execution_count": null,
   "metadata": {},
   "outputs": [
    {
     "name": "stderr",
     "output_type": "stream",
     "text": [
      "/home/thomas/.pyenv/versions/lewagon-decision-science/lib/python3.12/site-packages/umap/umap_.py:1952: UserWarning: n_jobs value 1 overridden to 1 by setting random_state. Use no seed for parallelism.\n",
      "  warn(\n"
     ]
    },
    {
     "name": "stdout",
     "output_type": "stream",
     "text": [
      "Number of clusters found: 21\n"
     ]
    }
   ],
   "source": [
    "params = {\n",
    "    'umap_n_neighbors': 10,\n",
    "    'umap_min_dist': 0.1,\n",
    "    'umap_n_components': 60,\n",
    "    'hdbscan_min_cluster_size': 40,\n",
    "    'hdbscan_min_samples': 5,\n",
    "    'hdbscan_cluster_selection_epsilon': 0.2,\n",
    "    'hdbscan_max_cluster_size': None #300\n",
    "}\n",
    "\n",
    "hdbscan_model, cluster_assignment, clustered_sentences, noise, reduced_embeddings_factors = clusterize.clusterize(\n",
    "                            corpus_list_factors, corpus_embeddings_factors,\n",
    "                            params,\n",
    "                            print_clusters=False)"
   ]
  },
  {
   "cell_type": "code",
   "execution_count": null,
   "metadata": {},
   "outputs": [
    {
     "name": "stdout",
     "output_type": "stream",
     "text": [
      "total number of factors: 10381, \n",
      "factors classified as noise: 1000, \n",
      "percentage of noise: 9.63\n"
     ]
    }
   ],
   "source": [
    "results = {\n",
    "    'factors_total': len(cluster_assignment),\n",
    "    'factors_noise': len(noise),\n",
    "    'noise_pct': round(len(noise)/len(cluster_assignment) * 100, 2)\n",
    "}\n",
    "\n",
    "print(f'total number of factors: {results['factors_total']}, \\nfactors classified as noise: {results['factors_noise']}, \\npercentage of noise: {results['noise_pct']}')"
   ]
  },
  {
   "cell_type": "code",
   "execution_count": null,
   "metadata": {},
   "outputs": [
    {
     "data": {
      "application/vnd.microsoft.datawrangler.viewer.v0+json": {
       "columns": [
        {
         "name": "index",
         "rawType": "int64",
         "type": "integer"
        },
        {
         "name": "Cluster Number",
         "rawType": "int64",
         "type": "integer"
        },
        {
         "name": "Number of Sentences",
         "rawType": "int64",
         "type": "integer"
        },
        {
         "name": "Sample Sentences",
         "rawType": "object",
         "type": "string"
        }
       ],
       "ref": "078bc5b2-bc50-45fd-ab5b-15171128e12b",
       "rows": [
        [
         "0",
         "1",
         "7",
         "negative effects on well-being; personalised well-being recommendations; total well-being; affective well-being; perceptions of self-worth; affective well-being at the end of workday; subjective well-being"
        ],
        [
         "1",
         "2",
         "3",
         "freedom of expression; free expression; right to freedom of expression"
        ],
        [
         "2",
         "3",
         "6",
         "customer performance evaluation; internal customer satisfaction; Customer Satisfaction; customer motivation and direction; customer satisfaction; external customer satisfaction"
        ],
        [
         "3",
         "4",
         "6",
         "sedentary life; sedentary lifestyle; carbon emission; carbon emission efficiency; carbon emission intensity; sedentary lifestyles"
        ],
        [
         "4",
         "5",
         "12",
         "Carbon dioxide emissions; per capita carbon emissions; CO2 emissions; understanding of CO2 mitigation strategies; carbon emissions per capita; carbon dioxide emissions; Co2 emissions; cocreation process; carbon dioxide emission; CO2 emissions per capita; CO₂ emissions; CO2 conductivity, temperature, and humidity monitoring"
        ],
        [
         "5",
         "6",
         "3",
         "sleep quality; sleep outcomes; subjective well-being (SWB)"
        ],
        [
         "6",
         "7",
         "2",
         "well-being at work; well-being"
        ],
        [
         "7",
         "8",
         "11",
         "carbon footprint; carbon footprint of EDR; energy/carbon footprint; carbon footprints; water footprint; CO2 footprint; energy footprint; total energy footprint; carbon dioxide (CO2) footprint; carbon footprint of the NFT sector; environmental footprint"
        ],
        [
         "8",
         "9",
         "14",
         "embodied greenhouse gas emissions; GHG emissions of buildings; greenhouse gas emissions; GHG emissions; GHG emission; greenhouse gas emission; global greenhouse gas emissions; global warming potential (GWP); GHG mitigation; emissions of GHG; greenhouse-gas emissions; Green House Gas Emissions; life cycle greenhouse gas (GHG) emissions of global light provision; greenhouse gas (GHG) emissions"
        ],
        [
         "9",
         "10",
         "19",
         "academic stress; occupational stress; symptoms of stress; stress resistance; stress; life stressors; pain intensity; stress assessment; perceived stress level; acculturative stress; job stress; stress reduction; chronic stress; stress levels; perceived stress"
        ],
        [
         "10",
         "11",
         "10",
         "impulse buying; Impulse Buying; EBV antibody titer; effect of depression on impulse buying; Impulse Buying Behavior; immune function; impulse buying decisions; impulse buying behaviour; non-communicable diseases (NCD’s); motivations for the prevention of communicable diseases"
        ],
        [
         "11",
         "12",
         "11",
         "happiness and life satisfaction; overall life satisfaction; patient satisfaction; life satisfaction indicators; family life satisfaction; satisfaction of social needs; life purpose; comfort of life; life easier and providing opportunities; meaning and purpose; life satisfaction"
        ],
        [
         "12",
         "13",
         "11",
         "self-reported physical health; self-rated health status; self-rated health score; glycemic control; managing chronic health conditions; self-manage health; self-rated health; diabetes management; self-perceived health; self-management of glycemic indices; misperception regarding diabetes self-care"
        ],
        [
         "13",
         "14",
         "10",
         "energy bill saving; energy saving; electricity bills; power saving; saving of energy; energy-saving; electricity billing; consumer awareness of energy savings; energy bills saving for households; energy savings"
        ],
        [
         "14",
         "15",
         "28",
         "evening chronotype; daytime sleepiness; sleep problems; bedtime; sleep routine; sleep; conjunctivitis; sleep deprivation; weekday sleep; musculoskeletal pain; sleep disturbance; headache prevalence; sleep hygiene; sleeping; sleep restorative function"
        ],
        [
         "15",
         "16",
         "3",
         "depressive symptoms; depressive symptomology; severity of depressive symptoms"
        ],
        [
         "16",
         "17",
         "13",
         "symptoms of depression, anxiety, low self-esteem, and life dissatisfaction; symptoms of depression and anxiety; depression scale score; depression risk; depression symptoms; depression treatment; generalized depression; depression levels among the elderly; development of depression; depression; depression rates; depression levels; symptoms of depression"
        ],
        [
         "17",
         "18",
         "9",
         "absenteeism; dissident; loyalty; Loyalty; loneliness; loyalty and disloyalty; character and virtue; fear of missing out; state loneliness"
        ],
        [
         "18",
         "19",
         "29",
         "ability to participate in social activities; residential well-being; individual and collective well-being; shopping well-being; population well-being indices; well-being narrative; spiritual well-being; social well-being; general well being; well-being of rural residents; well-being outcomes; well-being among residents; psychological well-being (PWB); human well-being; eudaimonic well-being"
        ],
        [
         "19",
         "20",
         "3425",
         "digital music industry; rights on the UDHR; total cost of the whole system; personas on different platforms; credibility as sources; fashion shopping propensity; transport energy use; implementation of optimization model; COVID-19 burden; marketisation of global justice; nutrition knowledge; demand of supplies and energy; attitude towards shopping activewear for casual purpose; resource-saving and recovery; integration of solar power in buildings"
        ],
        [
         "20",
         "21",
         "14",
         "user’s feedback; satisfaction; marital satisfaction; perceived interactivity; Satisfaction; social satisfaction; community satisfaction; users’ experience; internal locus of control and satisfaction; perceived satisfaction; satisfaction among older people; perceived presence; psychological satisfaction; satisfaction with the experience"
        ]
       ],
       "shape": {
        "columns": 3,
        "rows": 21
       }
      },
      "text/html": [
       "<div>\n",
       "<style scoped>\n",
       "    .dataframe tbody tr th:only-of-type {\n",
       "        vertical-align: middle;\n",
       "    }\n",
       "\n",
       "    .dataframe tbody tr th {\n",
       "        vertical-align: top;\n",
       "    }\n",
       "\n",
       "    .dataframe thead th {\n",
       "        text-align: right;\n",
       "    }\n",
       "</style>\n",
       "<table border=\"1\" class=\"dataframe\">\n",
       "  <thead>\n",
       "    <tr style=\"text-align: right;\">\n",
       "      <th></th>\n",
       "      <th>Cluster Number</th>\n",
       "      <th>Number of Sentences</th>\n",
       "      <th>Sample Sentences</th>\n",
       "    </tr>\n",
       "  </thead>\n",
       "  <tbody>\n",
       "    <tr>\n",
       "      <th>0</th>\n",
       "      <td>1</td>\n",
       "      <td>7</td>\n",
       "      <td>negative effects on well-being; personalised w...</td>\n",
       "    </tr>\n",
       "    <tr>\n",
       "      <th>1</th>\n",
       "      <td>2</td>\n",
       "      <td>3</td>\n",
       "      <td>freedom of expression; free expression; right ...</td>\n",
       "    </tr>\n",
       "    <tr>\n",
       "      <th>2</th>\n",
       "      <td>3</td>\n",
       "      <td>6</td>\n",
       "      <td>customer performance evaluation; internal cust...</td>\n",
       "    </tr>\n",
       "    <tr>\n",
       "      <th>3</th>\n",
       "      <td>4</td>\n",
       "      <td>6</td>\n",
       "      <td>sedentary life; sedentary lifestyle; carbon em...</td>\n",
       "    </tr>\n",
       "    <tr>\n",
       "      <th>4</th>\n",
       "      <td>5</td>\n",
       "      <td>12</td>\n",
       "      <td>Carbon dioxide emissions; per capita carbon em...</td>\n",
       "    </tr>\n",
       "    <tr>\n",
       "      <th>5</th>\n",
       "      <td>6</td>\n",
       "      <td>3</td>\n",
       "      <td>sleep quality; sleep outcomes; subjective well...</td>\n",
       "    </tr>\n",
       "    <tr>\n",
       "      <th>6</th>\n",
       "      <td>7</td>\n",
       "      <td>2</td>\n",
       "      <td>well-being at work; well-being</td>\n",
       "    </tr>\n",
       "    <tr>\n",
       "      <th>7</th>\n",
       "      <td>8</td>\n",
       "      <td>11</td>\n",
       "      <td>carbon footprint; carbon footprint of EDR; ene...</td>\n",
       "    </tr>\n",
       "    <tr>\n",
       "      <th>8</th>\n",
       "      <td>9</td>\n",
       "      <td>14</td>\n",
       "      <td>embodied greenhouse gas emissions; GHG emissio...</td>\n",
       "    </tr>\n",
       "    <tr>\n",
       "      <th>9</th>\n",
       "      <td>10</td>\n",
       "      <td>19</td>\n",
       "      <td>academic stress; occupational stress; symptoms...</td>\n",
       "    </tr>\n",
       "    <tr>\n",
       "      <th>10</th>\n",
       "      <td>11</td>\n",
       "      <td>10</td>\n",
       "      <td>impulse buying; Impulse Buying; EBV antibody t...</td>\n",
       "    </tr>\n",
       "    <tr>\n",
       "      <th>11</th>\n",
       "      <td>12</td>\n",
       "      <td>11</td>\n",
       "      <td>happiness and life satisfaction; overall life ...</td>\n",
       "    </tr>\n",
       "    <tr>\n",
       "      <th>12</th>\n",
       "      <td>13</td>\n",
       "      <td>11</td>\n",
       "      <td>self-reported physical health; self-rated heal...</td>\n",
       "    </tr>\n",
       "    <tr>\n",
       "      <th>13</th>\n",
       "      <td>14</td>\n",
       "      <td>10</td>\n",
       "      <td>energy bill saving; energy saving; electricity...</td>\n",
       "    </tr>\n",
       "    <tr>\n",
       "      <th>14</th>\n",
       "      <td>15</td>\n",
       "      <td>28</td>\n",
       "      <td>evening chronotype; daytime sleepiness; sleep ...</td>\n",
       "    </tr>\n",
       "    <tr>\n",
       "      <th>15</th>\n",
       "      <td>16</td>\n",
       "      <td>3</td>\n",
       "      <td>depressive symptoms; depressive symptomology; ...</td>\n",
       "    </tr>\n",
       "    <tr>\n",
       "      <th>16</th>\n",
       "      <td>17</td>\n",
       "      <td>13</td>\n",
       "      <td>symptoms of depression, anxiety, low self-este...</td>\n",
       "    </tr>\n",
       "    <tr>\n",
       "      <th>17</th>\n",
       "      <td>18</td>\n",
       "      <td>9</td>\n",
       "      <td>absenteeism; dissident; loyalty; Loyalty; lone...</td>\n",
       "    </tr>\n",
       "    <tr>\n",
       "      <th>18</th>\n",
       "      <td>19</td>\n",
       "      <td>29</td>\n",
       "      <td>ability to participate in social activities; r...</td>\n",
       "    </tr>\n",
       "    <tr>\n",
       "      <th>19</th>\n",
       "      <td>20</td>\n",
       "      <td>3425</td>\n",
       "      <td>digital music industry; rights on the UDHR; to...</td>\n",
       "    </tr>\n",
       "    <tr>\n",
       "      <th>20</th>\n",
       "      <td>21</td>\n",
       "      <td>14</td>\n",
       "      <td>user’s feedback; satisfaction; marital satisfa...</td>\n",
       "    </tr>\n",
       "  </tbody>\n",
       "</table>\n",
       "</div>"
      ],
      "text/plain": [
       "    Cluster Number  Number of Sentences  \\\n",
       "0                1                    7   \n",
       "1                2                    3   \n",
       "2                3                    6   \n",
       "3                4                    6   \n",
       "4                5                   12   \n",
       "5                6                    3   \n",
       "6                7                    2   \n",
       "7                8                   11   \n",
       "8                9                   14   \n",
       "9               10                   19   \n",
       "10              11                   10   \n",
       "11              12                   11   \n",
       "12              13                   11   \n",
       "13              14                   10   \n",
       "14              15                   28   \n",
       "15              16                    3   \n",
       "16              17                   13   \n",
       "17              18                    9   \n",
       "18              19                   29   \n",
       "19              20                 3425   \n",
       "20              21                   14   \n",
       "\n",
       "                                     Sample Sentences  \n",
       "0   negative effects on well-being; personalised w...  \n",
       "1   freedom of expression; free expression; right ...  \n",
       "2   customer performance evaluation; internal cust...  \n",
       "3   sedentary life; sedentary lifestyle; carbon em...  \n",
       "4   Carbon dioxide emissions; per capita carbon em...  \n",
       "5   sleep quality; sleep outcomes; subjective well...  \n",
       "6                      well-being at work; well-being  \n",
       "7   carbon footprint; carbon footprint of EDR; ene...  \n",
       "8   embodied greenhouse gas emissions; GHG emissio...  \n",
       "9   academic stress; occupational stress; symptoms...  \n",
       "10  impulse buying; Impulse Buying; EBV antibody t...  \n",
       "11  happiness and life satisfaction; overall life ...  \n",
       "12  self-reported physical health; self-rated heal...  \n",
       "13  energy bill saving; energy saving; electricity...  \n",
       "14  evening chronotype; daytime sleepiness; sleep ...  \n",
       "15  depressive symptoms; depressive symptomology; ...  \n",
       "16  symptoms of depression, anxiety, low self-este...  \n",
       "17  absenteeism; dissident; loyalty; Loyalty; lone...  \n",
       "18  ability to participate in social activities; r...  \n",
       "19  digital music industry; rights on the UDHR; to...  \n",
       "20  user’s feedback; satisfaction; marital satisfa...  "
      ]
     },
     "execution_count": 30,
     "metadata": {},
     "output_type": "execute_result"
    }
   ],
   "source": [
    "cluster_summary_df = clusterize.get_cluster_summary(clustered_sentences)\n",
    "cluster_summary_df"
   ]
  },
  {
   "cell_type": "code",
   "execution_count": null,
   "metadata": {},
   "outputs": [
    {
     "data": {
      "application/vnd.microsoft.datawrangler.viewer.v0+json": {
       "columns": [
        {
         "name": "index",
         "rawType": "int64",
         "type": "integer"
        },
        {
         "name": "samples",
         "rawType": "object",
         "type": "string"
        }
       ],
       "ref": "0fa9017d-ac55-4439-af05-dc1bc3fc5564",
       "rows": [
        [
         "0",
         "CSR message engagement"
        ],
        [
         "1",
         "moderation effect of product types"
        ],
        [
         "2",
         "lifestyle quality"
        ],
        [
         "3",
         "HRM"
        ],
        [
         "4",
         "living standards"
        ],
        [
         "5",
         "brown power consumption of transport networks and data centres"
        ],
        [
         "6",
         "renewables and EV technology development"
        ],
        [
         "7",
         "WC-enabled behavioral engagement"
        ],
        [
         "8",
         "low-carbon economy transition"
        ],
        [
         "9",
         "perceived usefulness (PU)"
        ],
        [
         "10",
         "health disparities"
        ],
        [
         "11",
         "anxiety, depression, and stress"
        ],
        [
         "12",
         "anxiety"
        ],
        [
         "13",
         "suicidal ideation"
        ],
        [
         "14",
         "access to and engagement with the LWdP program"
        ],
        [
         "15",
         "human flourishing"
        ],
        [
         "16",
         "continuance intention"
        ],
        [
         "17",
         "present focused awareness"
        ],
        [
         "18",
         "social networks"
        ],
        [
         "19",
         "HRM"
        ],
        [
         "20",
         "public discourse on climate change"
        ],
        [
         "21",
         "children's caloric intake"
        ],
        [
         "22",
         "health literacy"
        ],
        [
         "23",
         "burnout"
        ],
        [
         "24",
         "time in physical activity"
        ],
        [
         "25",
         "reading performance"
        ],
        [
         "26",
         "cycling economy"
        ],
        [
         "27",
         "paranoia"
        ],
        [
         "28",
         "mood"
        ],
        [
         "29",
         "eating habits in children"
        ],
        [
         "30",
         "consumptive behavior"
        ],
        [
         "31",
         "children's dietary intake"
        ],
        [
         "32",
         "screen time"
        ],
        [
         "33",
         "job burnout"
        ],
        [
         "34",
         "use of CFCs"
        ],
        [
         "35",
         "mood"
        ],
        [
         "36",
         "sleep duration"
        ],
        [
         "37",
         "health literacy"
        ],
        [
         "38",
         "health of the consumer"
        ],
        [
         "39",
         "time spent sedentary"
        ],
        [
         "40",
         "paranoia"
        ],
        [
         "41",
         "WC-enabled behavioral engagement"
        ],
        [
         "42",
         "content moderation legality"
        ],
        [
         "43",
         "paranoia"
        ],
        [
         "44",
         "alienation"
        ],
        [
         "45",
         "e-commerce"
        ],
        [
         "46",
         "legal framework for electronic commerce"
        ],
        [
         "47",
         "social network"
        ],
        [
         "48",
         "time spent sedentary"
        ],
        [
         "49",
         "perfectionism"
        ]
       ],
       "shape": {
        "columns": 1,
        "rows": 100
       }
      },
      "text/html": [
       "<div>\n",
       "<style scoped>\n",
       "    .dataframe tbody tr th:only-of-type {\n",
       "        vertical-align: middle;\n",
       "    }\n",
       "\n",
       "    .dataframe tbody tr th {\n",
       "        vertical-align: top;\n",
       "    }\n",
       "\n",
       "    .dataframe thead th {\n",
       "        text-align: right;\n",
       "    }\n",
       "</style>\n",
       "<table border=\"1\" class=\"dataframe\">\n",
       "  <thead>\n",
       "    <tr style=\"text-align: right;\">\n",
       "      <th></th>\n",
       "      <th>samples</th>\n",
       "    </tr>\n",
       "  </thead>\n",
       "  <tbody>\n",
       "    <tr>\n",
       "      <th>0</th>\n",
       "      <td>CSR message engagement</td>\n",
       "    </tr>\n",
       "    <tr>\n",
       "      <th>1</th>\n",
       "      <td>moderation effect of product types</td>\n",
       "    </tr>\n",
       "    <tr>\n",
       "      <th>2</th>\n",
       "      <td>lifestyle quality</td>\n",
       "    </tr>\n",
       "    <tr>\n",
       "      <th>3</th>\n",
       "      <td>HRM</td>\n",
       "    </tr>\n",
       "    <tr>\n",
       "      <th>4</th>\n",
       "      <td>living standards</td>\n",
       "    </tr>\n",
       "    <tr>\n",
       "      <th>...</th>\n",
       "      <td>...</td>\n",
       "    </tr>\n",
       "    <tr>\n",
       "      <th>95</th>\n",
       "      <td>urban-rural income gap</td>\n",
       "    </tr>\n",
       "    <tr>\n",
       "      <th>96</th>\n",
       "      <td>urban–rural income gap</td>\n",
       "    </tr>\n",
       "    <tr>\n",
       "      <th>97</th>\n",
       "      <td>lifestyle quality</td>\n",
       "    </tr>\n",
       "    <tr>\n",
       "      <th>98</th>\n",
       "      <td>awareness</td>\n",
       "    </tr>\n",
       "    <tr>\n",
       "      <th>99</th>\n",
       "      <td>paranoia</td>\n",
       "    </tr>\n",
       "  </tbody>\n",
       "</table>\n",
       "<p>100 rows × 1 columns</p>\n",
       "</div>"
      ],
      "text/plain": [
       "                               samples\n",
       "0               CSR message engagement\n",
       "1   moderation effect of product types\n",
       "2                    lifestyle quality\n",
       "3                                  HRM\n",
       "4                     living standards\n",
       "..                                 ...\n",
       "95              urban-rural income gap\n",
       "96              urban–rural income gap\n",
       "97                   lifestyle quality\n",
       "98                           awareness\n",
       "99                            paranoia\n",
       "\n",
       "[100 rows x 1 columns]"
      ]
     },
     "execution_count": 31,
     "metadata": {},
     "output_type": "execute_result"
    }
   ],
   "source": [
    "noise_df = clusterize.get_noise_sample(noise)\n",
    "noise_df"
   ]
  },
  {
   "cell_type": "code",
   "execution_count": null,
   "metadata": {},
   "outputs": [],
   "source": [
    "clusterize.save_results(params, results, noise_df, cluster_summary_df, hdbscan_model, domain, 'factors')"
   ]
  },
  {
   "cell_type": "code",
   "execution_count": null,
   "metadata": {},
   "outputs": [
    {
     "name": "stdout",
     "output_type": "stream",
     "text": [
      "no noise generated by cluster 4\n",
      "reclustering of cluster 20 adding 33 items to noise\n"
     ]
    },
    {
     "data": {
      "application/vnd.microsoft.datawrangler.viewer.v0+json": {
       "columns": [
        {
         "name": "index",
         "rawType": "int64",
         "type": "integer"
        },
        {
         "name": "cluster_id",
         "rawType": "object",
         "type": "unknown"
        },
        {
         "name": "sentences",
         "rawType": "object",
         "type": "unknown"
        }
       ],
       "ref": "8d15595a-f9ee-4128-a102-449013c1aa33",
       "rows": [
        [
         "0",
         "1",
         "['subjective well-being', 'subjective well-being', 'subjective well-being', 'personalised well-being recommendations', 'negative effects on well-being', 'subjective well-being', 'subjective well-being', 'subjective well-being', 'subjective well-being', 'subjective well-being', 'subjective well-being', 'subjective well-being', 'subjective well-being', 'subjective well-being', 'subjective well-being', 'subjective well-being', 'subjective well-being', 'subjective well-being', 'subjective well-being', 'subjective well-being', 'subjective well-being', 'subjective well-being', 'subjective well-being', 'subjective well-being', 'subjective well-being', 'subjective well-being', 'personalised well-being recommendations', 'subjective well-being', 'total well-being', 'perceptions of self-worth', 'subjective well-being', 'affective well-being at the end of workday', 'affective well-being at the end of workday', 'subjective well-being', 'subjective well-being', 'personalised well-being recommendations', 'subjective well-being', 'affective well-being', 'subjective well-being', 'subjective well-being', 'subjective well-being', 'subjective well-being', 'subjective well-being', 'subjective well-being']"
        ],
        [
         "1",
         "2",
         "['freedom of expression', 'freedom of expression', 'freedom of expression', 'freedom of expression', 'freedom of expression', 'freedom of expression', 'freedom of expression', 'freedom of expression', 'freedom of expression', 'freedom of expression', 'freedom of expression', 'freedom of expression', 'freedom of expression', 'freedom of expression', 'freedom of expression', 'free expression', 'freedom of expression', 'freedom of expression', 'right to freedom of expression', 'freedom of expression', 'freedom of expression', 'freedom of expression', 'freedom of expression', 'freedom of expression', 'freedom of expression', 'freedom of expression', 'freedom of expression', 'freedom of expression', 'free expression', 'freedom of expression', 'freedom of expression', 'freedom of expression', 'freedom of expression', 'freedom of expression', 'freedom of expression', 'freedom of expression', 'freedom of expression', 'freedom of expression', 'freedom of expression', 'freedom of expression', 'freedom of expression', 'freedom of expression', 'freedom of expression', 'freedom of expression', 'freedom of expression', 'freedom of expression', 'freedom of expression', 'freedom of expression', 'freedom of expression', 'freedom of expression', 'freedom of expression']"
        ],
        [
         "2",
         "3",
         "['customer satisfaction', 'customer satisfaction', 'customer satisfaction', 'customer satisfaction', 'Customer Satisfaction', 'Customer Satisfaction', 'Customer Satisfaction', 'customer satisfaction', 'customer satisfaction', 'customer satisfaction', 'customer satisfaction', 'customer satisfaction', 'customer satisfaction', 'customer satisfaction', 'customer satisfaction', 'customer satisfaction', 'customer satisfaction', 'customer satisfaction', 'customer satisfaction', 'customer motivation and direction', 'customer performance evaluation', 'customer satisfaction', 'customer satisfaction', 'customer satisfaction', 'customer satisfaction', 'customer satisfaction', 'customer satisfaction', 'customer satisfaction', 'customer satisfaction', 'internal customer satisfaction', 'external customer satisfaction', 'customer satisfaction', 'Customer Satisfaction', 'customer satisfaction', 'customer satisfaction', 'customer satisfaction', 'customer satisfaction', 'customer satisfaction', 'customer satisfaction', 'customer satisfaction', 'customer satisfaction', 'customer satisfaction', 'customer satisfaction', 'customer satisfaction', 'customer satisfaction', 'customer satisfaction', 'customer satisfaction', 'customer satisfaction', 'customer satisfaction', 'customer satisfaction', 'customer satisfaction', 'customer satisfaction', 'customer satisfaction', 'customer satisfaction', 'customer satisfaction']"
        ],
        [
         "3",
         "5",
         "['CO2 emissions', 'CO2 emissions', 'carbon dioxide emission', 'carbon dioxide emission', 'carbon dioxide emission', 'CO2 emissions per capita', 'CO2 emissions', 'CO2 emissions', 'carbon dioxide emission', 'CO2 emissions', 'CO2 emissions', 'CO2 emissions', 'CO2 emissions', 'CO2 emissions', 'CO2 emissions', 'CO2 emissions', 'CO2 emissions', 'CO₂ emissions', 'CO₂ emissions', 'CO2 emissions', 'CO2 emissions', 'CO2 emissions', 'CO2 emissions', 'CO2 emissions', 'CO2 emissions', 'CO2 emissions', 'CO2 emissions', 'CO2 emissions', 'CO2 emissions', 'understanding of CO2 mitigation strategies', 'CO2 emissions', 'CO2 emissions', 'CO2 emissions', 'CO2 emissions', 'CO2 emissions', 'CO2 emissions', 'CO2 emissions', 'CO2 emissions', 'CO2 emissions', 'CO2 emissions', 'CO2 emissions', 'CO2 emissions', 'CO2 emissions', 'CO2 emissions', 'CO2 emissions', 'CO2 emissions', 'CO2 emissions', 'CO2 emissions', 'CO2 emissions', 'CO2 emissions', 'per capita carbon emissions', 'per capita carbon emissions', 'per capita carbon emissions', 'CO2 emissions', 'CO2 emissions', 'CO2 emissions', 'CO2 emissions', 'CO2 emissions', 'CO2 emissions', 'CO2 emissions', 'carbon dioxide emissions', 'carbon dioxide emissions', 'CO2 emissions', 'CO2 emissions', 'Carbon dioxide emissions', 'CO2 emissions', 'CO2 emissions', 'carbon dioxide emissions', 'carbon dioxide emissions', 'carbon emissions per capita', 'CO2 conductivity, temperature, and humidity monitoring', 'CO2 emissions', 'CO2 emissions', 'CO2 emissions', 'CO2 emissions', 'CO2 emissions', 'CO2 emissions', 'CO2 emissions', 'CO2 emissions', 'Co2 emissions', 'CO2 emissions', 'CO2 emissions', 'CO2 emissions', 'CO2 emissions', 'CO2 emissions', 'CO₂ emissions', 'CO₂ emissions', 'CO2 emissions', 'CO2 emissions', 'CO2 emissions', 'CO2 emissions', 'carbon dioxide emissions', 'CO2 emissions', 'cocreation process', 'CO2 emissions', 'CO2 emissions', 'CO2 emissions', 'CO2 emissions', 'CO2 emissions', 'CO2 emissions', 'CO2 emissions']"
        ],
        [
         "4",
         "6",
         "['sleep quality', 'sleep quality', 'sleep quality', 'sleep quality', 'sleep quality', 'subjective well-being (SWB)', 'subjective well-being (SWB)', 'sleep quality', 'sleep quality', 'subjective well-being (SWB)', 'subjective well-being (SWB)', 'subjective well-being (SWB)', 'sleep quality', 'subjective well-being (SWB)', 'sleep quality', 'sleep quality', 'sleep quality', 'sleep quality', 'sleep quality', 'sleep quality', 'sleep quality', 'sleep quality', 'subjective well-being (SWB)', 'subjective well-being (SWB)', 'subjective well-being (SWB)', 'sleep outcomes', 'sleep quality', 'sleep quality', 'sleep quality', 'sleep quality', 'sleep quality', 'sleep quality', 'sleep quality', 'subjective well-being (SWB)', 'sleep quality', 'sleep quality', 'subjective well-being (SWB)', 'subjective well-being (SWB)', 'subjective well-being (SWB)', 'sleep quality', 'sleep quality', 'sleep quality', 'sleep quality', 'subjective well-being (SWB)', 'subjective well-being (SWB)', 'subjective well-being (SWB)', 'sleep quality', 'subjective well-being (SWB)', 'subjective well-being (SWB)', 'subjective well-being (SWB)']"
        ],
        [
         "5",
         "7",
         "['well-being', 'well-being', 'well-being', 'well-being', 'well-being', 'well-being', 'well-being', 'well-being', 'well-being', 'well-being', 'well-being', 'well-being', 'well-being', 'well-being', 'well-being', 'well-being', 'well-being', 'well-being', 'well-being', 'well-being', 'well-being', 'well-being', 'well-being', 'well-being', 'well-being', 'well-being', 'well-being', 'well-being', 'well-being', 'well-being', 'well-being', 'well-being at work', 'well-being at work', 'well-being at work', 'well-being', 'well-being', 'well-being', 'well-being', 'well-being', 'well-being', 'well-being', 'well-being', 'well-being', 'well-being', 'well-being', 'well-being', 'well-being', 'well-being', 'well-being', 'well-being', 'well-being', 'well-being', 'well-being', 'well-being', 'well-being', 'well-being', 'well-being', 'well-being', 'well-being', 'well-being', 'well-being', 'well-being', 'well-being', 'well-being', 'well-being', 'well-being', 'well-being', 'well-being', 'well-being', 'well-being', 'well-being', 'well-being', 'well-being', 'well-being', 'well-being', 'well-being', 'well-being', 'well-being', 'well-being', 'well-being', 'well-being', 'well-being', 'well-being', 'well-being', 'well-being', 'well-being', 'well-being', 'well-being', 'well-being', 'well-being', 'well-being', 'well-being', 'well-being', 'well-being', 'well-being', 'well-being', 'well-being', 'well-being', 'well-being', 'well-being', 'well-being', 'well-being', 'well-being', 'well-being', 'well-being', 'well-being', 'well-being', 'well-being', 'well-being', 'well-being', 'well-being', 'well-being', 'well-being', 'well-being', 'well-being', 'well-being', 'well-being', 'well-being', 'well-being', 'well-being', 'well-being', 'well-being', 'well-being', 'well-being', 'well-being', 'well-being', 'well-being', 'well-being', 'well-being', 'well-being', 'well-being', 'well-being', 'well-being', 'well-being', 'well-being', 'well-being', 'well-being', 'well-being']"
        ],
        [
         "6",
         "8",
         "['environmental footprint', 'carbon footprint', 'carbon footprint', 'carbon footprint', 'environmental footprint', 'carbon footprint', 'carbon footprint', 'carbon footprint', 'carbon footprint', 'carbon footprint', 'carbon footprint', 'carbon footprint', 'carbon footprints', 'carbon footprint', 'carbon footprint', 'carbon footprint', 'carbon footprint', 'carbon footprint', 'carbon footprint', 'carbon footprints', 'carbon footprint', 'carbon footprint of EDR', 'carbon footprints', 'carbon footprint of the NFT sector', 'water footprint', 'energy/carbon footprint', 'environmental footprint', 'carbon footprint', 'carbon footprint', 'total energy footprint', 'energy footprint', 'energy/carbon footprint', 'environmental footprint', 'carbon footprint', 'carbon footprint', 'carbon footprint', 'carbon footprint', 'carbon footprint', 'carbon footprint', 'carbon footprint', 'carbon footprints', 'carbon footprints', 'CO2 footprint', 'environmental footprint', 'carbon dioxide (CO2) footprint', 'carbon footprints', 'carbon footprint', 'carbon footprint', 'carbon footprint', 'carbon footprint', 'carbon footprint', 'carbon footprint', 'carbon footprint', 'carbon footprint', 'carbon footprint', 'carbon footprint', 'carbon footprint', 'carbon footprints', 'carbon footprint', 'carbon footprint', 'carbon footprint', 'carbon footprint', 'carbon footprint', 'water footprint', 'energy/carbon footprint', 'environmental footprint', 'carbon footprint', 'carbon footprint', 'carbon footprint', 'carbon footprint', 'carbon footprint', 'carbon footprint', 'carbon footprint', 'carbon footprint', 'carbon footprint', 'carbon footprint', 'carbon footprint', 'carbon footprint', 'carbon footprint', 'carbon footprint']"
        ],
        [
         "7",
         "9",
         "['embodied greenhouse gas emissions', 'embodied greenhouse gas emissions', 'embodied greenhouse gas emissions', 'embodied greenhouse gas emissions', 'embodied greenhouse gas emissions', 'global greenhouse gas emissions', 'greenhouse gas emissions', 'greenhouse gas emissions', 'greenhouse gas emissions', 'GHG mitigation', 'greenhouse gas emissions', 'greenhouse gas (GHG) emissions', 'emissions of GHG', 'GHG emissions of buildings', 'GHG emissions', 'greenhouse gas emissions', 'greenhouse gas emissions', 'greenhouse gas emissions', 'GHG emissions', 'GHG emissions', 'GHG emissions', 'GHG emissions', 'GHG emissions', 'greenhouse gas (GHG) emissions', 'greenhouse gas (GHG) emissions', 'greenhouse gas emissions', 'greenhouse gas emissions', 'greenhouse gas emissions', 'greenhouse gas emissions', 'greenhouse gas emissions', 'greenhouse gas emissions', 'greenhouse gas emissions', 'greenhouse gas emissions', 'greenhouse-gas emissions', 'greenhouse-gas emissions', 'greenhouse gas emissions', 'greenhouse gas emissions', 'GHG emissions', 'GHG emissions', 'GHG emissions', 'GHG emissions', 'greenhouse gas emissions', 'greenhouse gas emissions', 'global warming potential (GWP)', 'greenhouse gas emissions', 'greenhouse gas emissions', 'greenhouse gas emissions', 'greenhouse gas emissions', 'greenhouse gas emissions', 'greenhouse gas emissions', 'greenhouse gas emissions', 'greenhouse gas emissions', 'greenhouse gas (GHG) emissions', 'emissions of GHG', 'GHG emissions of buildings', 'greenhouse gas emissions', 'GHG emissions', 'GHG emissions', 'greenhouse gas emissions', 'greenhouse gas emissions', 'greenhouse gas emissions', 'greenhouse gas emissions', 'greenhouse gas emissions', 'greenhouse gas emission', 'life cycle greenhouse gas (GHG) emissions of global light provision', 'life cycle greenhouse gas (GHG) emissions of global light provision', 'GHG emission', 'GHG emissions', 'GHG emissions', 'GHG emissions', 'Green House Gas Emissions', 'greenhouse gas (GHG) emissions', 'emissions of GHG', 'GHG emissions of buildings', 'GHG emissions', 'GHG emissions', 'greenhouse gas emissions', 'greenhouse gas emissions', 'greenhouse gas (GHG) emissions', 'emissions of GHG', 'GHG emissions of buildings', 'greenhouse gas (GHG) emissions', 'emissions of GHG', 'GHG emissions of buildings']"
        ],
        [
         "8",
         "10",
         "['stress management', 'stress resistance', 'stress resistance', 'stress', 'perceived stress', 'acculturative stress', 'technology induced stress', 'stress', 'stress', 'stress', 'financial stress', 'stress', 'stress levels', 'stress levels', 'life stressors', 'pain intensity', 'chronic stress', 'life stressors', 'symptoms of stress', 'stress', 'stress', 'perceived stress', 'academic stress', 'academic stress', 'perceived stress level', 'perceived stress level', 'symptoms of stress', 'stress', 'stress', 'perceived stress', 'acculturative stress', 'technology induced stress', 'stress', 'life stressors', 'perceived stress', 'symptoms of stress', 'human stress', 'stress', 'stress reduction', 'stress assessment', 'academic stress', 'stress', 'occupational stress', 'stress', 'stress reduction', 'job stress', 'perceived stress', 'acculturative stress', 'technology induced stress', 'stress', 'symptoms of stress', 'stress', 'stress', 'perceived stress', 'acculturative stress', 'technology induced stress', 'perceived stress', 'acculturative stress', 'technology induced stress']"
        ],
        [
         "9",
         "11",
         "['Impulse Buying', 'Impulse Buying', 'Impulse Buying', 'impulse buying behaviour', 'impulse buying behaviour', 'impulse buying behaviour', 'EBV antibody titer', 'non-communicable diseases (NCD’s)', 'non-communicable diseases (NCD’s)', 'non-communicable diseases (NCD’s)', 'impulse buying', 'impulse buying', 'impulse buying', 'impulse buying', 'EBV antibody titer', 'impulse buying decisions', 'impulse buying decisions', 'impulse buying', 'impulse buying', 'impulse buying', 'impulse buying', 'EBV antibody titer', 'non-communicable diseases (NCD’s)', 'non-communicable diseases (NCD’s)', 'non-communicable diseases (NCD’s)', 'impulse buying decisions', 'impulse buying decisions', 'impulse buying decisions', 'Impulse Buying', 'Impulse Buying', 'impulse buying', 'impulse buying', 'effect of depression on impulse buying', 'immune function', 'motivations for the prevention of communicable diseases', 'motivations for the prevention of communicable diseases', 'Impulse Buying Behavior', 'Impulse Buying Behavior', 'EBV antibody titer', 'non-communicable diseases (NCD’s)', 'non-communicable diseases (NCD’s)', 'non-communicable diseases (NCD’s)', 'impulse buying', 'impulse buying', 'impulse buying', 'impulse buying', 'EBV antibody titer', 'non-communicable diseases (NCD’s)', 'non-communicable diseases (NCD’s)', 'non-communicable diseases (NCD’s)', 'EBV antibody titer', 'non-communicable diseases (NCD’s)', 'non-communicable diseases (NCD’s)', 'non-communicable diseases (NCD’s)']"
        ],
        [
         "10",
         "12",
         "['comfort of life', 'life satisfaction', 'life satisfaction', 'life satisfaction', 'life satisfaction', 'life satisfaction', 'patient satisfaction', 'life satisfaction', 'life satisfaction', 'life satisfaction', 'life satisfaction', 'family life satisfaction', 'life satisfaction', 'life satisfaction', 'life satisfaction', 'life satisfaction', 'life satisfaction', 'life satisfaction', 'overall life satisfaction', 'overall life satisfaction', 'life satisfaction', 'happiness and life satisfaction', 'meaning and purpose', 'life satisfaction indicators', 'life satisfaction indicators', 'life purpose', 'life satisfaction', 'life satisfaction', 'life satisfaction', 'patient satisfaction', 'life satisfaction', 'life satisfaction', 'life satisfaction', 'life satisfaction', 'life satisfaction', 'life satisfaction', 'life satisfaction', 'life satisfaction', 'patient satisfaction', 'life satisfaction', 'life satisfaction', 'life satisfaction', 'life satisfaction', 'life purpose', 'life satisfaction', 'life satisfaction', 'life satisfaction', 'life satisfaction', 'life satisfaction', 'life easier and providing opportunities', 'life satisfaction', 'satisfaction of social needs', 'life satisfaction', 'life satisfaction', 'life satisfaction', 'life satisfaction', 'life satisfaction', 'life satisfaction', 'life satisfaction', 'life satisfaction', 'patient satisfaction', 'life satisfaction', 'life satisfaction', 'life satisfaction', 'life satisfaction', 'patient satisfaction', 'life satisfaction', 'life satisfaction', 'life satisfaction', 'life satisfaction']"
        ],
        [
         "11",
         "13",
         "['self-perceived health', 'self-manage health', 'diabetes management', 'diabetes management', 'diabetes management', 'diabetes management', 'self-rated health', 'self-rated health', 'managing chronic health conditions', 'self-rated health status', 'self-rated health status', 'misperception regarding diabetes self-care', 'self-rated health status', 'self-management of glycemic indices', 'self-manage health', 'diabetes management', 'diabetes management', 'diabetes management', 'diabetes management', 'self-rated health', 'self-rated health', 'self-rated health', 'self-manage health', 'diabetes management', 'diabetes management', 'diabetes management', 'diabetes management', 'self-rated health', 'glycemic control', 'self-reported physical health', 'self-rated health', 'self-rated health', 'self-rated health', 'self-rated health score', 'diabetes management', 'diabetes management', 'diabetes management', 'diabetes management', 'self-rated health', 'self-manage health', 'diabetes management', 'diabetes management', 'diabetes management', 'diabetes management', 'self-rated health', 'self-manage health', 'diabetes management', 'diabetes management', 'diabetes management', 'diabetes management', 'self-rated health']"
        ],
        [
         "12",
         "14",
         "['energy savings', 'energy savings', 'energy saving', 'energy saving', 'energy saving', 'electricity bills', 'electricity bills', 'electricity bills', 'energy-saving', 'power saving', 'power saving', 'power saving', 'energy saving', 'electricity billing', 'energy savings', 'energy saving', 'energy saving', 'electricity bills', 'electricity bills', 'electricity bills', 'electricity bills', 'energy-saving', 'energy savings', 'electricity bills', 'electricity bills', 'electricity bills', 'energy-saving', 'power saving', 'power saving', 'power saving', 'energy saving', 'energy savings', 'energy saving', 'energy bills saving for households', 'energy bill saving', 'saving of energy', 'energy saving', 'consumer awareness of energy savings', 'electricity bills', 'electricity bills', 'electricity bills', 'energy-saving', 'power saving', 'power saving', 'power saving', 'energy saving', 'energy saving', 'electricity bills', 'electricity bills', 'electricity bills', 'electricity bills', 'energy-saving', 'electricity bills', 'electricity bills', 'electricity bills', 'energy-saving']"
        ],
        [
         "13",
         "15",
         "['daytime sleepiness', 'daytime sleepiness', 'excessive daytime sleepiness', 'daytime napping', 'sleep restorative function', 'Excessive Daytime Sleepiness', 'sleep patterns', 'sleep routine', 'conjunctivitis', 'weekday sleep', 'time in bed', 'lack of sleep', 'insomnia', 'sleeping pattern', 'sleep disturbances', 'sleep', 'excessive daytime sleepiness', 'daytime napping', 'sleep restorative function', 'sleep', 'headache prevalence', 'musculoskeletal pain', 'musculoskeletal pain', 'daytime sleepiness', 'daytime sleepiness', 'daytime sleepiness', 'sleep hygiene', 'sleep hygiene', 'sleep', 'excessive daytime sleepiness', 'daytime napping', 'sleep restorative function', 'sleep deprivation', 'sleep', 'sleep disturbance', 'neck pain', 'insomnia', 'disrupted sleep patterns', 'sleep problems', 'bedtime', 'bedtime', 'sleep disturbances', 'sleep disturbances', 'daytime sleepiness', 'sleep', 'sleeping', 'evening chronotype', 'musculoskeletal pains', 'musculoskeletal pains', 'musculoskeletal complaints', 'sleep disturbances', 'sleep', 'excessive daytime sleepiness', 'daytime napping', 'sleep restorative function', 'sleep restorative function']"
        ],
        [
         "14",
         "16",
         "['depressive symptoms', 'depressive symptoms', 'depressive symptoms', 'depressive symptoms', 'depressive symptoms', 'depressive symptoms', 'depressive symptoms', 'depressive symptoms', 'depressive symptoms', 'depressive symptomology', 'depressive symptoms', 'depressive symptoms', 'depressive symptoms', 'depressive symptoms', 'depressive symptoms', 'depressive symptoms', 'depressive symptoms', 'depressive symptoms', 'depressive symptoms', 'severity of depressive symptoms', 'depressive symptoms', 'depressive symptoms', 'depressive symptoms', 'depressive symptoms', 'depressive symptoms', 'depressive symptoms', 'depressive symptoms', 'depressive symptoms', 'depressive symptoms', 'depressive symptoms', 'depressive symptoms', 'depressive symptoms', 'depressive symptoms', 'depressive symptoms', 'depressive symptoms', 'depressive symptoms', 'depressive symptoms', 'depressive symptoms', 'depressive symptoms', 'depressive symptoms']"
        ],
        [
         "15",
         "17",
         "['symptoms of depression and anxiety', 'depression', 'depression', 'depression', 'depression', 'depression', 'depression', 'depression', 'depression', 'depression', 'symptoms of depression, anxiety, low self-esteem, and life dissatisfaction', 'depression', 'depression', 'depression', 'depression', 'depression', 'depression levels among the elderly', 'symptoms of depression', 'symptoms of depression', 'depression risk', 'depression risk', 'depression risk', 'depression risk', 'depression symptoms', 'depression rates', 'depression levels', 'symptoms of depression', 'depression', 'depression', 'depression', 'depression', 'depression', 'depression', 'depression', 'depression levels', 'generalized depression', 'development of depression', 'symptoms of depression', 'depression', 'depression', 'depression', 'depression', 'depression', 'depression', 'depression', 'depression', 'depression', 'symptoms of depression', 'depression', 'depression', 'depression', 'depression', 'depression', 'depression symptoms', 'depression treatment', 'depression', 'depression', 'depression', 'depression', 'depression', 'depression', 'depression', 'depression scale score', 'depression', 'depression', 'depression', 'depression', 'depression', 'depression', 'symptoms of depression', 'depression', 'depression', 'depression', 'depression', 'depression', 'depression', 'depression', 'depression', 'depression', 'depression', 'depression', 'depression']"
        ],
        [
         "16",
         "18",
         "['loneliness', 'loneliness', 'loneliness', 'loneliness', 'loneliness', 'loneliness', 'loneliness', 'loneliness', 'Loyalty', 'Loyalty', 'state loneliness', 'fear of missing out', 'loneliness', 'character and virtue', 'absenteeism', 'absenteeism', 'dissident', 'loneliness', 'loneliness', 'loneliness', 'loneliness', 'fear of missing out', 'loneliness', 'loneliness', 'loneliness', 'loneliness', 'loneliness', 'loneliness', 'loneliness', 'loneliness', 'loneliness', 'loneliness', 'Loyalty', 'Loyalty', 'absenteeism', 'absenteeism', 'loneliness', 'loneliness', 'loneliness', 'loneliness', 'loneliness', 'loyalty', 'loneliness', 'loneliness', 'loyalty', 'loyalty', 'loneliness', 'loyalty and disloyalty', 'loyalty and disloyalty', 'loneliness', 'loneliness', 'loneliness', 'loneliness', 'Loyalty', 'Loyalty', 'state loneliness', 'loneliness', 'loneliness', 'loneliness', 'loneliness', 'loneliness']"
        ],
        [
         "17",
         "19",
         "['people’s well-being', 'spiritual well-being', 'psychological well-being (PWB)', 'psychological well-being (PWB)', 'digital well-being', 'digital well-being', 'population well-being indices', 'social well-being', 'human well-being', 'psychological well-being', 'sense of well-being', 'individual and collective well-being', 'digital well-being', 'physiological, psychological, and relational well-being', 'psychological well-being (PWB)', 'digital well-being', 'digital sports well-being (DSW)', 'psychological well-being', 'well-being among residents', 'ability to participate in social activities', 'well-being of rural residents', 'relationship between the development of the digital economy and the well-being of rural residents', 'human well-being', 'shopping well-being', 'shopping well-being', 'shopping well-being', 'well-being of the whole community', 'well-being of the whole community', 'psychological well-being', 'psychological well-being', 'psychological well-being', 'psychological well-being', 'psychological well-being', 'psychological well-being', 'consumer well-being', 'well-being narrative', 'psychological well-being', 'digital well-being', 'digital well-being', 'population well-being indices', 'overall well-being', 'digital well-being', 'digital well-being', 'population well-being indices', 'social well-being', 'human well-being', 'psychological well-being', 'sense of well-being', 'individual and collective well-being', 'well-being of the whole community', 'well-being of the whole community', 'psychological well-being', 'psychological well-being', 'academic well-being', 'psychological well-being', 'psychological well-being', 'people’s well-being', 'residential well-being', 'psychological well-being', 'psychological well-being', 'physiological and psychological well-being', 'well-being outcomes', 'well-being of residents', 'well-being perceptions', 'general well being', 'psychological well-being', 'social well-being', 'consumer well-being', 'social well-being', 'human well-being', 'psychological well-being', 'sense of well-being', 'individual and collective well-being', 'eudaimonic well-being', 'eudaimonic well-being', 'well-being narrative', 'psychological well-being', 'digital well-being', 'digital well-being', 'population well-being indices', 'social well-being', 'human well-being', 'psychological well-being', 'sense of well-being', 'individual and collective well-being', 'population well-being indices', 'social well-being', 'human well-being', 'psychological well-being', 'sense of well-being', 'individual and collective well-being']"
        ],
        [
         "18",
         "21",
         "['community satisfaction', 'satisfaction', 'Satisfaction', 'Satisfaction', 'users’ experience', 'internal locus of control and satisfaction', 'satisfaction', 'psychological satisfaction', 'psychological satisfaction', 'satisfaction among older people', 'perceived satisfaction', 'perceived satisfaction', 'perceived satisfaction', 'perceived presence', 'satisfaction', 'perceived interactivity', 'satisfaction with the experience', 'satisfaction with the experience', 'perceived interactivity', 'satisfaction with the experience', 'perceived interactivity', 'satisfaction with the experience', 'satisfaction', 'Satisfaction', 'Satisfaction', 'users’ experience', 'marital satisfaction', 'satisfaction', 'satisfaction', 'social satisfaction', 'satisfaction', 'satisfaction', 'satisfaction', 'satisfaction', 'satisfaction', 'psychological satisfaction', 'psychological satisfaction', 'satisfaction', 'user’s feedback', 'user’s feedback', 'Satisfaction', 'Satisfaction', 'users’ experience', 'satisfaction', 'satisfaction', 'satisfaction', 'satisfaction', 'satisfaction', 'perceived presence', 'satisfaction']"
        ],
        [
         "19",
         "4-0",
         "['sedentary lifestyle', 'sedentary lifestyles', 'sedentary life', 'sedentary lifestyles', 'sedentary lifestyle', 'sedentary lifestyle', 'sedentary lifestyle', 'sedentary lifestyle', 'sedentary lifestyles', 'sedentary lifestyles', 'sedentary life', 'sedentary lifestyles', 'sedentary lifestyle', 'sedentary lifestyles', 'sedentary lifestyles', 'sedentary lifestyle', 'sedentary lifestyles', 'sedentary life', 'sedentary lifestyles', 'sedentary lifestyles']"
        ],
        [
         "20",
         "4-1",
         "['carbon emission', 'carbon emission', 'carbon emission', 'carbon emission', 'carbon emission intensity', 'carbon emission', 'carbon emission', 'carbon emission', 'carbon emission', 'carbon emission', 'carbon emission efficiency', 'carbon emission intensity', 'carbon emission', 'carbon emission', 'carbon emission', 'carbon emission', 'carbon emission', 'carbon emission', 'carbon emission', 'carbon emission', 'carbon emission', 'carbon emission', 'carbon emission']"
        ],
        [
         "21",
         "20-0",
         "['substance use', 'positive affect', 'positive affect', \"college students' alcohol use\", \"college students' alcohol use\", \"college students' alcohol use\", 'normative beliefs about teenage drinking', 'normative beliefs about teenage drinking', 'normative beliefs about teenage drinking', 'normative beliefs about teenage drinking', 'positive mood', 'negative mood', 'positive attitude towards divorce', 'positive affect', 'positive affect', 'positive affect', 'positive affect (PA)', 'positive alcohol expectancies', 'negative alcohol expectancies', 'dissemination of positive psychoeducation', 'positive affect', 'positive affect', 'positive affect', 'positive mood', 'negative mood', 'positive attitude towards divorce', 'positive affect', 'positive affect']"
        ],
        [
         "22",
         "20-1",
         "['habit', 'habit', 'habit formation', 'habit', 'habit', 'habit', 'habit', 'habit', 'persistence', 'habit', 'habit', 'habit']"
        ],
        [
         "23",
         "20-2",
         "['transition from the linear economy to a circular economy', 'circular economy models', 'circular economy practices', 'transition to circular economy', 'resource-efficient circular economy', 'transition from the linear economy to a circular economy', 'circular economy practices', 'circular economy practices', 'circular economy practices', 'transition from the linear economy to a circular economy', 'circular economy', 'circular economy', 'circular economy', 'circular economy', 'circular plastic economy', 'uptake of technological innovations for the circular plastic economy', 'uptake of technological innovations for the circular plastic economy', 'transition from the linear economy to a circular economy', 'transition from the linear economy to a circular economy', 'transition from the linear economy to a circular economy']"
        ],
        [
         "24",
         "20-3",
         "['resilience', 'resilience', 'infrastructure damage and recovery', 'irreversibilities', 'business resilience', 'psychological resilience', 'resilience of the distribution system', 'disaster resilience', 'disaster resilience', 'resilience', 'resilience of environmental investment (REI)', 'resilience', 'resilience', 'employee resilience', 'employee resilience', 'employee resilience', 'employee resilience', 'disaster resilience', 'ability to deal with emergencies', 'resilience', 'resilience', 'infrastructure damage and recovery', 'resilience', 'urban resilience', 'resilience capacity', 'resilience', 'infrastructure damage and recovery', 'resilience and sustainability', 'resilience and sustainability', 'resilience and sustainability', 'psychological resilience', 'resilience', 'resilience', 'resilience', 'resilience']"
        ],
        [
         "25",
         "20-4",
         "['physical activity level', 'physical activity level', 'PM10 concentrations', 'physical activity level', 'physical activity levels', 'smartphone use intensity', 'smartphone use intensity', 'indoor levels of airborne particles', 'indoor/outdoor concentration ratios for most measured particle types', 'indoor particle concentrations', 'physical health', 'physical health', 'physical activity level', 'physical activity level', 'physical activity level', 'check-in intensity', 'physical activity levels', 'physical activity levels', 'exercise intensity', 'exercise intensity', 'exercise intensity', 'Particulate Matter (PM) concentrations', 'physical activity levels', 'physical activity levels', 'health-related fitness', 'PM2.5 levels', 'PM2.5 levels', 'physical health', 'physical health', 'physical activity intensity', 'activity levels during game play', 'physical activity levels', 'physical health', 'physical activity level', 'physical activity levels', 'smartphone use intensity', 'smartphone use intensity', 'indoor levels of airborne particles', 'indoor/outdoor concentration ratios for most measured particle types', 'indoor particle concentrations', 'physical activity levels', 'physical health', 'physical activity levels', 'physical activity levels', 'physical activity levels', 'physical activity level', 'physical activity levels', 'smartphone use intensity', 'smartphone use intensity', 'indoor levels of airborne particles', 'indoor/outdoor concentration ratios for most measured particle types', 'indoor particle concentrations', 'physical health', 'physical health', 'physical activity level', 'physical activity level', 'physical health', 'activity levels', 'physical fitness level', 'physical activity levels', 'physical activity levels', 'physical activity levels', 'fitness levels', 'physical fitness levels', 'activity intensity', 'physical activity levels', 'physical health', 'physical health', 'physical activity levels', 'physical health', 'fitness outcomes', 'physical health condition', 'physical activity intensity', 'fitness level adaptation', 'subsequent health or fitness choices', 'subsequent health or fitness choices', 'evaluation and satisfaction with one’s fitness journey', 'aspiration levels', 'educational levels about exercise', 'educational levels about exercise', 'physical health and fitness', 'physical health and fitness', 'PM2.5 concentrations', 'PM10 concentrations', 'physical health', 'ground-level PM2.5 concentrations', 'physical fitness', 'physical activity levels', 'physical activity level', 'physical activity levels', 'physical activity levels', 'indoor levels of airborne particles', 'indoor/outdoor concentration ratios for most measured particle types', 'indoor particle concentrations', 'physical health', 'physical health', 'physical activity level', 'physical activity level', 'functional fitness', 'physical health of male, elderly, high-educated, and eastern regional rural residents', 'physical activity level', 'physical activity levels', 'smartphone use intensity', 'smartphone use intensity', 'indoor levels of airborne particles', 'indoor/outdoor concentration ratios for most measured particle types', 'indoor particle concentrations', 'indoor levels of airborne particles', 'indoor/outdoor concentration ratios for most measured particle types', 'indoor particle concentrations']"
        ],
        [
         "26",
         "20-5",
         "['negative affect', 'feelings of loneliness', 'negative affect', 'negative affect', 'negative health consequences', 'feelings of loneliness', 'anger of negative emotion', 'feelings of loneliness', 'feelings of loneliness', 'damage from negative reviews', 'negative emotions', 'negative behaviors', 'negative affect', 'negative affect', 'feelings of loneliness', 'ambivalent feelings', 'negative affect', 'negative affect (NA)', 'feelings of loneliness', 'negative affect', 'feelings of loneliness', 'feelings of loneliness', 'hurt and negative emotion', 'negative affect', 'feelings of loneliness', 'negative affect', 'negative affect', 'relationship of motivation to play with loneliness', 'negative affect', 'feelings of loneliness', 'negative affect', 'feelings of loneliness']"
        ],
        [
         "27",
         "20-6",
         "['inclusive growth', 'GDP contribution', 'economic growth', 'economic growth', 'economic growth', 'real GDP share', 'integration of the solution', 'economic growth', 'economic growth', 'economic growth (RGDP)', 'economic growth', 'macroeconomic growth', 'agglomeration economies', 'economic growth', 'economic growth', 'regional growth performance', 'economic growth', 'regional economic growth', 'economic growth', 'GDP', 'integration of the solution', 'economic growth', 'economic growth', 'economic growth', 'growth of the SIS', 'integration of the solution', 'economic growth', 'economic growth', 'economic growth (RGDP)', 'economic growth', 'macroeconomic growth', 'regional economic growth', 'economic growth', 'economic growth', 'economic growth', 'economic growth', 'economic growth', 'economic growth and development', 'annual per capital GDP growth', 'GDP', 'economic growth', 'economic growth', 'gross regional product', 'economic growth', 'economic growth (RGDP)', 'economic growth', 'macroeconomic growth', 'growth momentum and integration', 'economic growth', 'GDP', 'integration of the solution', 'economic growth', 'economic growth', 'economic growth (RGDP)', 'economic growth', 'economic growth', 'economic growth', 'economic growth (RGDP)', 'economic growth']"
        ],
        [
         "28",
         "20-7",
         "['continuance use intention', 'continuance usage of mobile payment', 'withdrawal intentions', 'continuance intention to use an IS', 'continuance intention to use an IS', 'continuance intention to use an IS', 'continuance intention to use an IS', 'continuance intention to use an IS', 'continuance intention to use an IS', 'continuance using intention', 'continuance using intention', 'continuance using intention', 'continuance using intention', 'intention to spread positive WOM', 'follow up for remittances', 'continuance using intention', 'continuance using intention', 'continuance using intention', 'continuance using intention', 'continuance use intention', 'continuance usage of mobile payment', 'continuance intention of Web 2.0 platforms', 'continuance use intention', 'continuance usage of mobile payment', 'continuance using intention', 'continuance using intention', 'continuance using intention', 'continuance using intention', 'continuance use intention', 'continuance usage of mobile payment', 'continuance use intention', 'continuance usage of mobile payment']"
        ],
        [
         "29",
         "20-8",
         "['self-esteem', 'self-esteem', 'self-esteem', 'self-esteem', 'self-esteem', 'self-esteem', 'self-esteem', 'self-esteem', 'self-esteem', 'self-esteem', 'self-esteem', 'self-esteem', 'self-esteem', 'self-esteem', 'self-esteem', 'negative impact of Instagram posts on self-esteem', 'enabling a selective and optimized self-image', 'hedonic shopping value', 'hedonic shopping value', 'hedonic shopping value', 'hedonic shopping value', 'hedonic shopping motivations', 'hedonistic lifestyles', 'self-esteem', 'self-esteem', 'self-esteem', 'self-esteem', 'self-esteem', 'self-esteem', 'student hedonic lifestyle', 'self-esteem', 'self-esteem', 'self-esteem', 'self-esteem', 'self-esteem', 'self-esteem', 'self-esteem', 'negative impact of Instagram posts on self-esteem', 'hedonic lifestyle', 'hedonism lifestyle', 'self-sexualization', 'self-sexualization', 'self-sexualization', 'self-esteem', 'self-esteem', 'self-esteem components', 'self-esteem components', 'self-esteem and reasonable consumption', 'conspicuous consumption, hedonic consumption and self-esteem', 'self-esteem', 'self-esteem', 'self-esteem', 'hedonic consumer lifestyle', 'hedonic consumer lifestyle', 'hedonic consumer lifestyle', 'self-esteem', 'self-esteem', 'self-esteem', 'self-esteem', 'self-esteem', 'self-esteem', 'negative impact of Instagram posts on self-esteem', 'self-esteem', 'self-image', 'self-esteem', 'self-esteem', 'self-esteem', 'self-esteem', 'self-esteem', 'self-esteem', 'self-esteem', 'self-esteem', 'self-esteem', 'self-esteem', 'self-esteem']"
        ],
        [
         "30",
         "20-9",
         "['user satisfaction', 'user satisfaction', 'user satisfaction', 'user satisfaction', 'user satisfaction', 'viewers satisfaction', 'user satisfaction', 'user satisfaction', 'user satisfaction', 'user satisfaction', 'user satisfaction', 'user satisfaction', 'user satisfaction', 'user satisfaction', 'user satisfaction', 'user satisfaction', 'user satisfaction', 'user satisfaction', 'user satisfaction', 'satisfaction with Facebook', 'user satisfaction', 'user satisfaction', 'user satisfaction', 'user satisfaction', 'user satisfaction', 'viewers satisfaction', 'user satisfaction', 'user satisfaction', 'user satisfaction', 'user satisfaction', 'user satisfaction', 'user satisfaction', 'user satisfaction', 'user satisfaction', 'user satisfaction', 'user satisfaction']"
        ],
        [
         "31",
         "20-10",
         "['job quality', 'job satisfaction', 'job satisfaction', 'ability to fulfill job demands', 'career success', 'employees’ job satisfaction', 'employees’ job satisfaction', 'employees’ job satisfaction', 'employees’ job satisfaction', 'work individualistic and enjoyable', 'work-related attitudes', 'job satisfaction', 'job satisfaction', 'job satisfaction', 'job satisfaction', 'job satisfaction', 'job satisfaction', 'work satisfaction', 'job satisfaction', 'job satisfaction', 'job satisfaction', 'job satisfaction', 'job satisfaction', 'job satisfaction', 'job satisfaction', 'job satisfaction', 'job satisfaction', 'job satisfaction', 'job satisfaction', 'job satisfaction', 'job satisfaction', 'job satisfaction']"
        ],
        [
         "32",
         "20-11",
         "['adoption of VREs', 'VR store satisfaction', 'VR shopping self-efficacy', 'VR shopping pleasure', 'VR store satisfaction', 'VR shopping self-efficacy', 'VR shopping pleasure', 'consumer attitudes toward virtual shopping', 'VR store satisfaction', 'VR shopping self-efficacy', 'VR shopping pleasure']"
        ],
        [
         "33",
         "20-12",
         "['health and well-being', 'mental wellbeing', 'mental well-being', 'health and well-being', 'motivational wellbeing', 'healthy lifestyles', 'wellbeing', 'healthy lifestyles promotion', 'children’s well-being', 'mental well-being', 'health and well-being', 'attention and interest in health and wellbeing programs', 'wellbeing', 'student conscientiousness and performance', 'health promotion', 'healthy lifestyles', 'healthy lifestyles', 'healthy lifestyles', 'sexual wellbeing', 'employee wellness', \"women's well-being\", 'mental well-being', 'mental well-being', 'multitasking among Malaysian higher education students', 'health promotion', 'health and wellbeing', 'healthy lifestyles', 'healthy lifestyles', 'healthy lifestyles', 'wellbeing', 'wellbeing', 'wellbeing', 'wellbeing', 'wellbeing', 'wellbeing', 'wellbeing', 'societal health and wellness', 'wellbeing', 'wellbeing', 'efficacy, reach, and impact of health promotion programs', 'healthy lifestyle patterns', 'social connection to promote a healthy lifestyle', \"young people's wellbeing\", 'wellbeing', 'wellbeing', 'healthy lifestyles', 'healthy lifestyles', 'wellbeing', 'healthy lifestyles promotion', 'children’s well-being', 'mental well-being', 'health promotion', 'health and wellbeing', 'health and physical well-being', 'wellbeing outcomes', 'mental wellbeing', 'use of mHealth', 'mental well-being', 'adoption of healthy lifestyle software apps', 'healthy lifestyles', 'lifestyle and wellbeing', 'mental well-being', 'mental well-being', 'mental well-being', 'deterioration of living conditions at work', 'health promoting lifestyle profile', 'psychological wellbeing', 'mental well-being', 'wellness dimensions', 'wellbeing', 'healthy and fit lifestyles', 'health and well-being', 'child mental health and well-being', 'wellbeing', 'employee wellbeing', 'user engagement towards a healthy lifestyle', 'user engagement towards a healthy lifestyle', 'wellbeing', 'student wellbeing', 'healthy lifestyles', 'healthy lifestyles', 'family well-being', 'wellbeing', 'wellbeing', 'working and living conditions', 'wellbeing', 'psychological wellbeing', \"students' intent to participate\", \"students' intent to participate\", \"students' intent to participate\", \"students' intent to participate\", 'healthy lifestyles', 'wellbeing', 'healthy lifestyles promotion', 'children’s well-being', 'mental well-being', 'health and well-being', 'healthy lifestyles', 'healthy lifestyles', 'healthy lifestyles', 'wellbeing', 'participation in classroom activities', 'healthy lifestyles', 'wellbeing', 'healthy lifestyles', 'wellbeing']"
        ],
        [
         "34",
         "20-13",
         "['health-related quality of life', 'quality of life perceptions', 'quality of life perceptions', 'health', 'health-related quality of life (HRQOL)', 'quality of life', 'health inequities', 'overall health', 'quality of life', 'quality of life', 'health-related quality of life', 'education quality', 'health', 'age', 'quality of life', 'self-perceived Quality of Life (QoL)', 'quality and standard of living of the population', 'human health', 'welfare and quality of life', 'ill-health', \"older adults' well-being\", 'disease monitoring, diagnosis and treatment', 'quality of life', 'human health', 'quality of life', 'human health impact', 'brain health', 'health', 'quality of life', 'overall health', 'human health', 'health of workers', 'health status monitoring', 'beach health', 'health', 'health problems', 'quality of life', 'health monitoring', 'skin allergy', 'human health', 'quality of life of elderly people', 'health', 'health', 'health', 'quality education', 'quality of life', 'health', 'quality of life', 'prevalence of chronic conditions and disability', 'quality of experience (QoE)', 'human health', 'quality and living conditions of citizens', 'skin health', 'quality of life', 'quality of life', 'self-perceived Quality of Life (QoL)', 'quality and standard of living of the population', 'human health', 'welfare and quality of life', 'ill-health', \"older adults' well-being\", 'quality of life', 'life quality of the older adult population', 'quality of life', 'quality of life', 'quality of life', 'quality of life', 'health-related quality of life', 'quality of life', 'suboptimal health status', 'quality of life', 'quality of life', 'positive perceptions of aging and older people', 'quality of life', 'quality of life', 'quality of life', 'quality of life', 'life quality', 'quality of life (QoL)', 'quality of life', 'quality of life', 'quality of life', 'human health', 'quality of life', 'self-perceived Quality of Life (QoL)', 'quality and standard of living of the population', 'human health', 'welfare and quality of life', 'ill-health', \"older adults' well-being\", 'disease monitoring, diagnosis and treatment', 'quality of life', 'human health', 'quality of life', 'quality of experience (QoE)', 'human health', 'quality of life', 'human occupancy rates', 'health', 'health', 'health status', 'quality of life', 'quality of life', 'urban quality of life (Uqol)', 'urban quality of life (Uqol)', 'health equity', 'issues faced by the urban-aged population', 'oral health', 'quality of life', 'overall health', 'economic challenge of ageing', 'health', 'skin health', 'quality of life and well-being', 'Sexual and Reproductive health', 'health', 'health status', 'oral health-related quality of life', 'older residents’ wellbeing', 'health status', 'quality of life', 'health conditions', 'health', 'chronic diseases', 'social health', 'health status indicators', 'economic and quality-of-life development', 'menstrual health', 'menstrual health', 'overall health and quality of life', 'human health', 'quality of life', 'quality of life', 'quality of life', 'quality of life', 'welfare and quality of life', 'ill-health', \"older adults' well-being\", 'disease monitoring, diagnosis and treatment', 'quality of life', 'human health', 'quality of life', 'human health impact', 'brain health', 'functional health', 'health', 'quality of life', 'quality of life', 'self-perceived Quality of Life (QoL)', 'quality and standard of living of the population', 'human health', 'welfare and quality of life', 'ill-health', \"older adults' well-being\", 'disease monitoring, diagnosis and treatment', 'quality of life', 'quality and standard of living of the population', 'human health', 'welfare and quality of life', 'ill-health', \"older adults' well-being\", 'disease monitoring, diagnosis and treatment', 'quality of life']"
        ],
        [
         "35",
         "20-14",
         "['power consumption', 'power consumption', 'power consumption by ICT equipment', 'Power Usage Effectiveness', 'power consumption', 'total power consumption', 'power consumption', 'power consumption', 'power consumption', 'power consumption', 'power consumption', 'power consumption', 'power consumption', 'total transmission power', 'power supply and consumption characteristics', 'power consumption', 'power consumption', 'battery degradation', 'power consumption performance', 'total power reduction', 'power consumption', 'power consumption', 'power consumption', 'power consumption', 'power consumption', 'power consumption', 'total power consumption', 'power consumption', 'power consumption', 'power consumption', 'power consumption', 'power consumed by air-conditioners', 'power consumption', 'power consumption', 'power consumption', 'power consumption', 'power consumption', 'power consumption', 'power consumption', 'power consumption', 'power consumption', 'total power consumption', 'power consumption', 'power consumption', 'power consumption', 'power consumption']"
        ],
        [
         "36",
         "20-15",
         "['day-ahead scheduling', 'harmonic alleviation', 'acoustic resonance phenomenon', 'day-ahead scheduling', 'day-ahead scheduling', 'harmonic alleviation', 'acoustic resonance phenomenon', 'flexible scheduling', 'day-ahead scheduling', 'harmonic alleviation', 'acoustic resonance phenomenon', 'day-ahead scheduling', 'harmonic alleviation', 'day-ahead scheduling', 'harmonic alleviation']"
        ],
        [
         "37",
         "20-16",
         "['awareness about the benefits of physical activity', 'physical activity (PA) in the general population', 'circularity in the DCI', 'physical activity', 'physical activity', 'physical activity', 'physical activity pattern', 'physical activity recognition', 'physical activity', 'moderate-to-vigorous physical activity', 'moderate-to-vigorous physical activity', 'moderate-to-vigorous physical activity', 'physical activity', 'physical activity', 'physical activity', 'physical activity', 'physical activity', 'physical activity', 'physical activity', 'HR quality', 'physical activity participation', 'physical activity', 'attitude toward HRI', 'human organ extension', 'physical activity', 'physical activity', 'physical activity', 'delivery of physical activity programs', 'human activities detection', 'assessment of UGS quality', 'physical activity', 'physical activity', 'physical activity behavior', 'physical activity behaviors', 'physical activity promotion', 'participation in sports and exercise', 'physical activity', 'body dissatisfaction', 'body satisfaction', 'body satisfaction', 'physical activity', 'physical activity', 'awareness of activity patterns', 'awareness of activity patterns', 'awareness of activity patterns', 'awareness about women’s bodies', 'user experience of exercise', 'physical activity', 'physical activity', 'physical activity', 'physical activity', 'physical activity', 'physical activity', 'intrinsic motivation for walking exercise', 'physical activity', 'physical activity', 'physical activity', 'physical inactivity', 'access to physical activity programs', 'physical activity', 'body image', 'body image dissatisfaction', 'body image dissatisfaction', 'physical activity-related knowledge', 'risks of inactivity', 'physical activity', 'physical activities', 'regular physical activity', 'body dissatisfaction', 'physical activity participation', 'physical activity', 'exercise compliance', 'physical and learning activities', 'gait', 'body image', 'physical activity', 'moderate-to-vigorous physical activity', 'physical activity', 'physical activity', 'exertion', 'exertion', 'physical activity behaviour', 'participation in walking program', 'physical activity', 'physical activity', 'physical activity', 'physical activity', 'physical activity', 'physical activity', 'physical activity', 'physical activity', 'physical activity', 'physical activity', 'body weight dissatisfaction', 'body weight dissatisfaction', 'physical activity', 'attitude extremity', 'attitude extremity', 'body image perception', 'physical activity', 'physical activity', 'physical activity', 'exercise', 'physical activity', 'physical activity', 'physical activity', 'physical activity', 'physical activity', 'physical activity', 'physical activity', 'HR quality', 'physical activity participation', 'physical activity', 'physical activity', 'physical activity', 'physical activity', 'physical activity', 'physical activity', 'motivation for physical activity', 'physical activity', 'physical activity (PA)', 'physical activity', 'physical activity', 'physical activity', 'physical activity', 'physical activity', 'physical activity', 'physical activity awareness and participation', 'physical activity', 'body dissatisfaction', 'physical activity', 'physical activity', 'physical inactivity', 'physical inactivity', 'exercise', 'physical activity', 'physical activity', 'physical activity', 'physical activity', 'physical activity', 'physical activity', 'physical activity', 'HR quality', 'physical activity participation', 'physical activity', 'attitude toward HRI', 'human organ extension', 'physical activity', 'physical activity', 'physical activity', 'delivery of physical activity programs', 'human activities detection', 'physical activity', 'physical activity', 'physical activity', 'physical activity', 'physical activity', 'physical activity', 'body ideals', 'body practices', 'body ideals', 'body practices', 'physical activity', 'physical activity', 'physical activity popularity', 'physical activity accessibility', 'exercise', 'physical activity', 'human activity anomalies', 'exercise motivation', 'barriers to exercise', 'physical activity', 'physical activity', 'walkability', 'physical activity', 'physical activity', 'body image satisfaction', 'physical activity', 'physical activity', 'physical activity', 'sports culture', 'physical inactivity', 'exercise motivation', 'attitude toward physical activity', 'attitude toward physical activity', 'attitude toward physical activity', 'attitude toward physical activity', 'attitude toward physical activity', 'exercise adherence', 'sports participation', 'physical inactivity', 'physical activity adherence', 'body satisfaction', 'physical activity adherence', 'body satisfaction', 'perceived pressure to have an athletic and slim build', 'negative body image perception', 'negative body image perception', 'physical activity', 'physical activity', 'physical activity', 'physical activity', 'inertia behavior', 'motivation to engage in physical activity', 'motivation to engage in physical activity', 'physical activity behaviours', 'physical activity', 'physical activity', 'physical activity', 'physical activity', 'body satisfaction', 'state body satisfaction', 'state body appreciation', 'state body satisfaction', 'state body appreciation', 'participation in recreational sports', 'physical activity', 'physical activity', 'physical activity (PA) in the general population', 'physical activity', 'physical activity', 'physical activity', 'physical activity patterns', 'physical activity', 'physical activity', 'physical activity', 'physical activity', 'physical activity', 'physical activity participation', 'physical activity', 'attitude toward HRI', 'human organ extension', 'physical activity', 'physical activity', 'physical activity', 'delivery of physical activity programs', 'human activities detection', 'assessment of UGS quality', 'physical activity', 'physical activity', 'body image', 'physical activity', 'feeling like an athlete', 'motivating others to participate in running', 'maintaining sport behaviour', 'exercise adherence motivation', 'exercise adherence motivation', 'exercise adherence motivation', 'exercise adherence motivation', 'exercise adherence motivation', 'exercise adherence motivation', 'physical activity', 'physical activity', 'exercise', 'physical activity', 'physical activity', 'physical activity', 'physical activity', 'physical activity', 'physical activity', 'physical activity', 'HR quality', 'physical activity participation', 'physical activity', 'attitude toward HRI', 'human organ extension', 'physical activity', 'physical activity', 'physical activity', 'physical activity', 'physical activity', 'physical activity', 'physical activity', 'HR quality', 'physical activity participation', 'physical activity', 'attitude toward HRI', 'human organ extension', 'physical activity', 'physical activity', 'physical activity']"
        ],
        [
         "38",
         "20-17",
         "['academic performance', 'academic performance', 'academic performance', 'academic performance', 'college performance', 'effect of DR capability', 'academic performance', 'fluency achievement', 'teacher competence', 'academic performance', 'performance effectiveness', 'performance effectiveness', 'performance effectiveness', 'performance effectiveness', 'performance effectiveness', 'student satisfaction and performance', 'academic performance', 'study routine', 'academic performance', 'academic involvement', 'academic involvement', 'academic involvement', 'academic self-perceptions', 'academic self-perceptions', 'poor performance at school', 'use of academic sources', 'oral reading fluency (ORF) scores', 'oral reading fluency (ORF) scores', 'academic failure', 'perceived academic performance', 'perceived academic performance', 'perceived academic performance', 'academic libraries', 'study patterns', 'GPA', 'academic performance', \"students' academic performance\", \"students' academic performance\", 'perceived competence', 'perceived competence', 'precision of assessments', 'academic involvement', 'academic involvement', 'academic involvement', 'academic performance', 'scaling-up process studies', 'formal and independent study time', 'adaptive performance', 'academic performance', 'fluency achievement', 'teacher competence', 'academic performance', 'performance effectiveness', 'performance effectiveness', 'performance effectiveness', 'performance effectiveness', 'performance effectiveness', 'precision of assessments', 'academic performance', 'academic development', 'influence of competence on performance', 'academic performance', 'academic performance', 'procedures acceleration', 'science and mathematics achievements', 'science and mathematics achievements', 'science and mathematics achievements', 'performance expectancy', 'performance evaluation process reaction', 'performance evaluation process reaction', 'performance evaluation process reaction', 'performance assessment', 'higher education performance', 'higher education performance', 'higher education performance', 'higher education performance', 'studying', 'academic achievement', 'fluency achievement', 'teacher competence', 'academic performance', 'performance effectiveness', 'performance effectiveness', 'performance effectiveness', 'performance effectiveness', 'performance effectiveness', 'academic involvement', 'academic involvement', 'academic involvement', 'academics', 'academic performance', 'fluency achievement', 'teacher competence', 'fluency achievement', 'teacher competence']"
        ],
        [
         "39",
         "20-18",
         "['social media use', \"social media's academic use\", 'problematic social media use', 'problematic social media use', 'problematic social media use', 'problematic social media use', 'social media users intensity', 'problematic social media use', 'problematic social media use', 'problematic social media use', 'problematic social media use', 'problematic social media use']"
        ],
        [
         "40",
         "20-19",
         "['carbon emissions', 'carbon emissions', 'carbon emissions', 'carbon emissions', 'carbon emissions', 'carbon emissions', 'carbon emissions', 'carbon emissions', 'carbon emissions', 'carbon emissions', 'trade adjusted carbon emissions', 'consumption-based carbon emissions', 'carbon emissions', 'carbon emissions', 'carbon emissions', 'carbon pollution', 'social response to carbon neutrality', 'global carbon emissions', 'urban carbon emissions', 'urban carbon emissions', 'urban carbon emissions', 'carbon emissions', 'carbon emissions', 'urban low-carbon sustainability', 'carbon emissions', 'carbon emissions', 'carbon emissions', 'carbon emissions', 'carbon emissions', 'carbon emissions', 'carbon emissions', 'carbon emissions', 'carbon emissions', 'carbon emissions', 'carbon emissions', 'carbon emissions', 'carbon emissions', 'global emissions', 'global emissions', 'carbon emissions', 'carbon neutrality goals', 'carbon emissions', 'total carbon emissions', 'carbon emissions', 'carbon emissions', 'domestic energy and emissions impacts', 'carbon emissions', 'carbon emissions', 'carbon emissions', 'carbon emissions', 'indirect carbon emissions', 'indirect carbon emissions', 'carbon emissions', 'carbon emissions', 'carbon emissions', 'carbon emissions', 'carbon emissions', 'carbon emissions', 'carbon emissions', 'carbon emissions', 'carbon emissions', 'carbon emissions', 'carbon emissions', 'carbon emissions', 'carbon emissions', 'carbon emissions', 'carbon emissions', 'carbon emissions', 'carbon emissions']"
        ],
        [
         "41",
         "20-20",
         "['lifestyle change', 'lifestyle change', 'lifestyle change', 'lifestyle change', 'lifestyle changes', 'lifestyle improvement', 'adherence to lifestyle changes', 'lifestyle adaptations', 'lifestyle changes', 'lifestyle change', 'lifestyle change', 'lifestyle change', 'lifestyle change', 'lifestyle changes', 'lifestyle enhancement', 'lifestyle change', 'lifestyle change', 'lifestyle change', 'lifestyle change', 'lifestyle change', 'lifestyle changes', 'lifestyle improvement', 'lifestyle change', 'lifestyle change', 'lifestyle change', 'lifestyle change', 'lifestyle changes', 'lifestyle change', 'lifestyle change', 'lifestyle change', 'lifestyle change', 'lifestyle changes']"
        ],
        [
         "42",
         "20-21",
         "['intellectual development', 'cognitive function', 'technostress', 'technostress', 'ability', 'personal development', 'technostress', 'technostress', 'technostress', 'cognitive image of cooking show', 'cognitive image of cooking show', 'cognitive image of cooking show', 'cognitive image of cooking show', 'cognitive function', 'cognitive performance', 'cognitive impairment', 'cognitive impairment', 'cognitive development', 'technostress', 'cognitive abilities', 'cognitive reserve levels', 'personal growth', 'cognitive development', 'cognitive impairment', 'cognitive impairment', 'cognitive impairment', 'mind-wandering', 'ability', 'cognitive function', 'cognitive function', 'cognitive performance', 'cognitive', 'mind-wandering', 'ability', 'personal development', 'technostress', 'technostress', 'technostress', 'cognitive abilities', 'cognitive reserve levels', 'personal growth', 'cognitive performance', 'cognitive performance', 'cognitive performance', 'cognition function', 'cognitive impairment', 'technostress', 'cognitive function score', 'contemporary ways of making memories', 'techno-exhaustion', 'time for self-development', 'ability', 'personal development', 'technostress', 'technostress', 'technostress', 'cognitive image of cooking show', 'cognitive image of cooking show', 'cognitive image of cooking show', 'cognitive image of cooking show', 'cognitive function', 'cognition', 'cognitive development', 'mind-wandering', 'ability', 'personal development', 'technostress', 'technostress', 'ability', 'personal development', 'technostress', 'technostress']"
        ],
        [
         "43",
         "20-22",
         "['food waste', 'food waste', 'food waste', 'food waste', 'food waste', 'food waste', 'food waste', 'food waste', 'food waste', 'food waste', 'food waste', 'food waste', 'food waste', 'food waste', 'food waste', 'food waste', 'food waste', 'food waste', 'food waste', 'food waste', 'food waste']"
        ],
        [
         "44",
         "20-23",
         "['general enjoyment', 'adaptation measures', 'pleasure', 'enjoyment', 'enjoyment', 'liking', 'perceived pleasure', 'experiential enjoyment', 'gadget-loving', 'gadget-loving', 'gadget-loving', 'gadget-loving', 'gadget-loving', 'adaptability', 'general enjoyment', 'enjoyment of the metaverse', 'enjoyment of the metaverse', 'enjoyment of the metaverse', 'adaptability', 'general enjoyment', 'adaptation measures', 'pleasure', 'enjoyment', 'enjoyment', 'enjoyment', 'need for hedonic sensory enjoyment', 'activity enjoyment', 'rapid adaptation', 'enjoyment', 'enjoyment', 'hyperactivity', 'adaptation measures', 'pleasure', 'adaptability', 'general enjoyment', 'adaptation measures', 'adaptation measures']"
        ],
        [
         "45",
         "20-24",
         "['knowledge capital', 'relationship between social capital and human resource performance', 'relationship between human capital and human resource performance', 'human capital accumulation', 'link between physical exercise and social capital', 'social capital', 'human capital accumulating activities', 'human capital accumulation', 'human capital development', 'social capital', 'human capital accumulation', 'social equity', 'social capital', 'social capital', 'human capital accumulating activities', 'human capital accumulation']"
        ],
        [
         "46",
         "20-25",
         "['demand of data center providing and performance', 'energy consumption in data centres', 'demand for data centers', 'cooling challenge in data centre operation', 'data center energy demands', 'energy consumption of data center cooling', 'data center performance', 'data center energy consumption', 'footprint of data centers and telecom networks', 'data center energy demands', 'energy consumption of data center cooling', 'energy efficiency of data centers', 'PUE for the data center', 'energy efficiency for data centers', 'data center energy demands', 'energy consumption of data center cooling', 'demands for hyperscale data centers', 'data center energy demands', 'energy consumption of data center cooling', 'footprint of data centers and telecom networks', 'data center energy demands', 'energy consumption of data center cooling', 'data center energy demands', 'energy consumption of data center cooling']"
        ],
        [
         "47",
         "20-26",
         "['energy consumption', 'energy consumption', 'energy consumption', 'energy consumption', 'energy consumption', 'energy consumption', 'energy consumption', 'energy consumption', 'energy consumption of the base station', 'energy consumption', 'energy consumption', 'energy consumption', 'energy consumption', 'energy consumption', 'energy consumption', 'energy consumption', 'energy consumption', 'energy consumption', 'energy consumption', 'energy consumption', 'energy consumption', 'energy consumption', 'energy consumption', 'energy consumption', 'energy consumption', 'energy consumption', 'energy consumption', 'in-service energy consumption', 'per-bit-rate energy consumption', 'energy consumption', 'energy consumption', 'energy consumption', 'energy consumption', 'energy consumption', 'energy consumption', 'energy consumption', 'energy consumption', 'energy consumption', 'energy consumption', 'energy consumption', 'energy distribution and consumption', 'energy consumption', 'energy consumption', 'energy consumption', 'energy consume', 'energy consumption', 'energy consumption', 'energy consumption', 'energy consumption', 'energy consumption', 'energy consumption', 'energy consumption', 'energy consumption', 'system energy consumption', 'system energy consumption', 'energy consumption', 'energy consumption', 'energy consumption', 'energy consumption', 'energy consumption', 'energy consumption', 'energy consumption', 'domestic energy consumption', 'energy consumption', 'energy consumption', 'brown energy consumption', 'energy consumption', 'energy consumption', 'energy consumption', 'energy consumption', 'energy consumption', 'energy consumption', 'energy consumption', 'energy consumption', 'energy consumption', 'energy consumption', 'energy consumption', 'energy consumption', 'energy consumption', 'consumption of natural material and energy', 'energy consumption', 'energy services consumption', 'energy consumption', 'energy–intensive consumption', 'energy consumption', 'energy consumption', 'energy consumption', 'energy consumption', 'energy consumption', 'energy consumption', 'energy consumption', 'energy consumption', 'energy consumption', 'energy consumption stabilization', 'energy consumption', 'energy consumption', 'energy consumption', 'energy consumption', 'energy consumption', 'energy consumption', 'energy consumption', 'energy consumption', 'energy consumption', 'energy consumption', 'energy consumption', 'energy consumption', 'overall energy consumption', 'energy consumption structure', 'energy production, consumption, technology and system revolution', 'energy consumption', 'energy consumption', 'energy consumption', 'energy consumption', 'energy consumption', 'energy consumption', 'energy consumption', 'energy consumption', 'energy consumption', 'energy consumption', 'energy consumption', 'energy consumption', 'energy consumption', 'energy consumption stabilization', 'energy consumption', 'energy consumption', 'energy consumption', 'energy consumption', 'energy consumption', 'energy consumption', 'energy consumption', 'energy consumption', 'energy consumption', 'energy consumption', 'energy consumption', 'energy consumption', 'energy consumption', 'energy consumption', 'energy consumption', 'energy consumption', 'energy consumption', 'energy consumption', 'in-service energy consumption', 'per-bit-rate energy consumption', 'energy consumption', 'energy consumption', 'energy consumption', 'energy consumption', 'energy consumption', 'energy consumption', 'energy consumption', 'consumption of natural material and energy', 'energy consumption', 'energy consumption', 'energy consumption', 'energy consumption', 'energy consumption', 'energy consumption', 'energy consumption', 'energy consumption', 'energy consumption', 'energy consumption', 'energy consumption', 'energy consumption of IT systems', 'energy consumption', 'energy consumption', 'energy consumption', 'energy consumption', 'energy consumption', 'energy consumption behavior', 'energy consumption', 'energy consumption', 'energy consumption', 'energy consumption', 'energy consumption', 'energy consumption', 'energy consumption', 'overall energy consumption', 'overall energy consumption', 'energy consumption', 'energy consumption', 'energy consumption', 'energy consumption stabilization', 'energy consumption', 'energy consumption', 'energy consumption', 'time consumption', 'energy consumption', 'energy consumption', 'energy consumption', 'energy consumption', 'energy consumption', 'energy consumption', 'energy consumption', 'energy consumption', 'energy consumption', 'energy consumption', 'energy consumption', 'energy consumption', 'energy consumption', 'energy consumption', 'diesel consumption', 'diesel consumption', 'energy consumption', 'energy consumption', 'energy consumption', 'energy consumption', 'energy consumption', 'energy consumption', 'energy consumption intensity', 'energy consumption', 'energy consumption', 'energy consumption', 'energy consumption', 'energy consumption', 'energy consumption', 'energy consumption', 'energy consumption', 'energy consumption', 'in-service energy consumption', 'per-bit-rate energy consumption', 'energy consumption', 'energy consumption', 'energy consumption', 'energy consumption', 'energy consumption', 'energy consumption', 'energy consumption', 'energy consumption', 'energy consumption', 'energy consumption', 'energy consumption', 'energy consumption', 'energy consumption', 'energy consumption', 'fuel consumption', 'energy consumption', 'energy consumption monitoring', 'energy consumption', 'energy consumption', 'energy consumption', 'resource and energy consumption', 'energy–intensive consumption', 'energy consumption', 'energy consumption', 'energy consumption', 'energy consumption', 'energy consumption', 'energy consumption', 'energy consumption', 'energy consumption', 'energy consumption', 'energy consumption stabilization', 'energy consumption', 'energy consumption', 'energy consumption', 'energy consumption', 'energy consumption', 'energy consumption', 'energy consumption', 'energy consumption', 'energy consumption', 'energy consumption', 'energy consumption', 'energy consumption', 'energy consumption', 'energy consumption', 'energy consumption', 'energy consumption', 'energy consumption', 'energy consumption', 'energy consumption', 'energy consumption', 'energy consumption', 'energy consumption', 'energy consumption', 'energy consumption', 'energy consumption', 'energy consumption', 'energy consumption', 'energy consumption']"
        ],
        [
         "48",
         "20-27",
         "['cost of lighting services', 'per capita use of lighting', 'total lighting consumption', 'cost of using charging service', 'cost of using charging service', 'luminous efficacy', 'suitable illumination', 'nighttime light pollution', 'ambient illuminance at night', 'nighttime illuminance', 'remote LU/LC classification', 'lighting practices', 'lighting consumption', 'lighting price', 'lighting market rebound effects', 'penetration of different LED displays', 'cost of using charging service', 'cost of using charging service', 'luminous efficacy', 'suitable illumination', 'lighting practices', 'lighting energy cost', 'target luminance', 'uniformity of natural lights', 'energy consumed for lighting services', 'luminous efficacy', 'environmentally benign lighting', 'global lighting market share', 'aesthetic value of the sky at night', 'cost of using charging service', 'cost of using charging service', 'luminous efficacy', 'suitable illumination']"
        ],
        [
         "49",
         "20-28",
         "['labour productivity', 'productivity', 'productivity', 'productivity', 'individual perception productivity', 'human labor productivity', 'human labor productivity', 'labor productivity', 'productivity', 'productivity', 'productivity improvement', 'productivity', 'productivity', 'productivity levels', 'total factor productivity growth', 'labour productivity', 'labour productivity growth', 'productivity', 'productivity', 'productivity', 'WFH productivity', 'labour productivity growth', 'productivity', 'productivity', 'productivity', 'productivity and efficiency', 'productivity', 'efficiency and productivity gains', 'productive engagements', 'productivity', 'productivity', 'productivity', 'labor productivity', 'productivity', 'productivity', 'multifactor productivity', 'productivity', 'labour productivity growth', 'productivity', 'productivity', 'productivity', 'productivity', 'productivity', 'productivity']"
        ]
       ],
       "shape": {
        "columns": 2,
        "rows": 55
       }
      },
      "text/html": [
       "<div>\n",
       "<style scoped>\n",
       "    .dataframe tbody tr th:only-of-type {\n",
       "        vertical-align: middle;\n",
       "    }\n",
       "\n",
       "    .dataframe tbody tr th {\n",
       "        vertical-align: top;\n",
       "    }\n",
       "\n",
       "    .dataframe thead th {\n",
       "        text-align: right;\n",
       "    }\n",
       "</style>\n",
       "<table border=\"1\" class=\"dataframe\">\n",
       "  <thead>\n",
       "    <tr style=\"text-align: right;\">\n",
       "      <th></th>\n",
       "      <th>cluster_id</th>\n",
       "      <th>sentences</th>\n",
       "    </tr>\n",
       "  </thead>\n",
       "  <tbody>\n",
       "    <tr>\n",
       "      <th>0</th>\n",
       "      <td>1</td>\n",
       "      <td>[subjective well-being, subjective well-being,...</td>\n",
       "    </tr>\n",
       "    <tr>\n",
       "      <th>1</th>\n",
       "      <td>2</td>\n",
       "      <td>[freedom of expression, freedom of expression,...</td>\n",
       "    </tr>\n",
       "    <tr>\n",
       "      <th>2</th>\n",
       "      <td>3</td>\n",
       "      <td>[customer satisfaction, customer satisfaction,...</td>\n",
       "    </tr>\n",
       "    <tr>\n",
       "      <th>3</th>\n",
       "      <td>5</td>\n",
       "      <td>[CO2 emissions, CO2 emissions, carbon dioxide ...</td>\n",
       "    </tr>\n",
       "    <tr>\n",
       "      <th>4</th>\n",
       "      <td>6</td>\n",
       "      <td>[sleep quality, sleep quality, sleep quality, ...</td>\n",
       "    </tr>\n",
       "    <tr>\n",
       "      <th>5</th>\n",
       "      <td>7</td>\n",
       "      <td>[well-being, well-being, well-being, well-bein...</td>\n",
       "    </tr>\n",
       "    <tr>\n",
       "      <th>6</th>\n",
       "      <td>8</td>\n",
       "      <td>[environmental footprint, carbon footprint, ca...</td>\n",
       "    </tr>\n",
       "    <tr>\n",
       "      <th>7</th>\n",
       "      <td>9</td>\n",
       "      <td>[embodied greenhouse gas emissions, embodied g...</td>\n",
       "    </tr>\n",
       "    <tr>\n",
       "      <th>8</th>\n",
       "      <td>10</td>\n",
       "      <td>[stress management, stress resistance, stress ...</td>\n",
       "    </tr>\n",
       "    <tr>\n",
       "      <th>9</th>\n",
       "      <td>11</td>\n",
       "      <td>[Impulse Buying, Impulse Buying, Impulse Buyin...</td>\n",
       "    </tr>\n",
       "    <tr>\n",
       "      <th>10</th>\n",
       "      <td>12</td>\n",
       "      <td>[comfort of life, life satisfaction, life sati...</td>\n",
       "    </tr>\n",
       "    <tr>\n",
       "      <th>11</th>\n",
       "      <td>13</td>\n",
       "      <td>[self-perceived health, self-manage health, di...</td>\n",
       "    </tr>\n",
       "    <tr>\n",
       "      <th>12</th>\n",
       "      <td>14</td>\n",
       "      <td>[energy savings, energy savings, energy saving...</td>\n",
       "    </tr>\n",
       "    <tr>\n",
       "      <th>13</th>\n",
       "      <td>15</td>\n",
       "      <td>[daytime sleepiness, daytime sleepiness, exces...</td>\n",
       "    </tr>\n",
       "    <tr>\n",
       "      <th>14</th>\n",
       "      <td>16</td>\n",
       "      <td>[depressive symptoms, depressive symptoms, dep...</td>\n",
       "    </tr>\n",
       "    <tr>\n",
       "      <th>15</th>\n",
       "      <td>17</td>\n",
       "      <td>[symptoms of depression and anxiety, depressio...</td>\n",
       "    </tr>\n",
       "    <tr>\n",
       "      <th>16</th>\n",
       "      <td>18</td>\n",
       "      <td>[loneliness, loneliness, loneliness, lonelines...</td>\n",
       "    </tr>\n",
       "    <tr>\n",
       "      <th>17</th>\n",
       "      <td>19</td>\n",
       "      <td>[people’s well-being, spiritual well-being, ps...</td>\n",
       "    </tr>\n",
       "    <tr>\n",
       "      <th>18</th>\n",
       "      <td>21</td>\n",
       "      <td>[community satisfaction, satisfaction, Satisfa...</td>\n",
       "    </tr>\n",
       "    <tr>\n",
       "      <th>19</th>\n",
       "      <td>4-0</td>\n",
       "      <td>[sedentary lifestyle, sedentary lifestyles, se...</td>\n",
       "    </tr>\n",
       "    <tr>\n",
       "      <th>20</th>\n",
       "      <td>4-1</td>\n",
       "      <td>[carbon emission, carbon emission, carbon emis...</td>\n",
       "    </tr>\n",
       "    <tr>\n",
       "      <th>21</th>\n",
       "      <td>20-0</td>\n",
       "      <td>[substance use, positive affect, positive affe...</td>\n",
       "    </tr>\n",
       "    <tr>\n",
       "      <th>22</th>\n",
       "      <td>20-1</td>\n",
       "      <td>[habit, habit, habit formation, habit, habit, ...</td>\n",
       "    </tr>\n",
       "    <tr>\n",
       "      <th>23</th>\n",
       "      <td>20-2</td>\n",
       "      <td>[transition from the linear economy to a circu...</td>\n",
       "    </tr>\n",
       "    <tr>\n",
       "      <th>24</th>\n",
       "      <td>20-3</td>\n",
       "      <td>[resilience, resilience, infrastructure damage...</td>\n",
       "    </tr>\n",
       "    <tr>\n",
       "      <th>25</th>\n",
       "      <td>20-4</td>\n",
       "      <td>[physical activity level, physical activity le...</td>\n",
       "    </tr>\n",
       "    <tr>\n",
       "      <th>26</th>\n",
       "      <td>20-5</td>\n",
       "      <td>[negative affect, feelings of loneliness, nega...</td>\n",
       "    </tr>\n",
       "    <tr>\n",
       "      <th>27</th>\n",
       "      <td>20-6</td>\n",
       "      <td>[inclusive growth, GDP contribution, economic ...</td>\n",
       "    </tr>\n",
       "    <tr>\n",
       "      <th>28</th>\n",
       "      <td>20-7</td>\n",
       "      <td>[continuance use intention, continuance usage ...</td>\n",
       "    </tr>\n",
       "    <tr>\n",
       "      <th>29</th>\n",
       "      <td>20-8</td>\n",
       "      <td>[self-esteem, self-esteem, self-esteem, self-e...</td>\n",
       "    </tr>\n",
       "    <tr>\n",
       "      <th>30</th>\n",
       "      <td>20-9</td>\n",
       "      <td>[user satisfaction, user satisfaction, user sa...</td>\n",
       "    </tr>\n",
       "    <tr>\n",
       "      <th>31</th>\n",
       "      <td>20-10</td>\n",
       "      <td>[job quality, job satisfaction, job satisfacti...</td>\n",
       "    </tr>\n",
       "    <tr>\n",
       "      <th>32</th>\n",
       "      <td>20-11</td>\n",
       "      <td>[adoption of VREs, VR store satisfaction, VR s...</td>\n",
       "    </tr>\n",
       "    <tr>\n",
       "      <th>33</th>\n",
       "      <td>20-12</td>\n",
       "      <td>[health and well-being, mental wellbeing, ment...</td>\n",
       "    </tr>\n",
       "    <tr>\n",
       "      <th>34</th>\n",
       "      <td>20-13</td>\n",
       "      <td>[health-related quality of life, quality of li...</td>\n",
       "    </tr>\n",
       "    <tr>\n",
       "      <th>35</th>\n",
       "      <td>20-14</td>\n",
       "      <td>[power consumption, power consumption, power c...</td>\n",
       "    </tr>\n",
       "    <tr>\n",
       "      <th>36</th>\n",
       "      <td>20-15</td>\n",
       "      <td>[day-ahead scheduling, harmonic alleviation, a...</td>\n",
       "    </tr>\n",
       "    <tr>\n",
       "      <th>37</th>\n",
       "      <td>20-16</td>\n",
       "      <td>[awareness about the benefits of physical acti...</td>\n",
       "    </tr>\n",
       "    <tr>\n",
       "      <th>38</th>\n",
       "      <td>20-17</td>\n",
       "      <td>[academic performance, academic performance, a...</td>\n",
       "    </tr>\n",
       "    <tr>\n",
       "      <th>39</th>\n",
       "      <td>20-18</td>\n",
       "      <td>[social media use, social media's academic use...</td>\n",
       "    </tr>\n",
       "    <tr>\n",
       "      <th>40</th>\n",
       "      <td>20-19</td>\n",
       "      <td>[carbon emissions, carbon emissions, carbon em...</td>\n",
       "    </tr>\n",
       "    <tr>\n",
       "      <th>41</th>\n",
       "      <td>20-20</td>\n",
       "      <td>[lifestyle change, lifestyle change, lifestyle...</td>\n",
       "    </tr>\n",
       "    <tr>\n",
       "      <th>42</th>\n",
       "      <td>20-21</td>\n",
       "      <td>[intellectual development, cognitive function,...</td>\n",
       "    </tr>\n",
       "    <tr>\n",
       "      <th>43</th>\n",
       "      <td>20-22</td>\n",
       "      <td>[food waste, food waste, food waste, food wast...</td>\n",
       "    </tr>\n",
       "    <tr>\n",
       "      <th>44</th>\n",
       "      <td>20-23</td>\n",
       "      <td>[general enjoyment, adaptation measures, pleas...</td>\n",
       "    </tr>\n",
       "    <tr>\n",
       "      <th>45</th>\n",
       "      <td>20-24</td>\n",
       "      <td>[knowledge capital, relationship between socia...</td>\n",
       "    </tr>\n",
       "    <tr>\n",
       "      <th>46</th>\n",
       "      <td>20-25</td>\n",
       "      <td>[demand of data center providing and performan...</td>\n",
       "    </tr>\n",
       "    <tr>\n",
       "      <th>47</th>\n",
       "      <td>20-26</td>\n",
       "      <td>[energy consumption, energy consumption, energ...</td>\n",
       "    </tr>\n",
       "    <tr>\n",
       "      <th>48</th>\n",
       "      <td>20-27</td>\n",
       "      <td>[cost of lighting services, per capita use of ...</td>\n",
       "    </tr>\n",
       "    <tr>\n",
       "      <th>49</th>\n",
       "      <td>20-28</td>\n",
       "      <td>[labour productivity, productivity, productivi...</td>\n",
       "    </tr>\n",
       "    <tr>\n",
       "      <th>50</th>\n",
       "      <td>20-29</td>\n",
       "      <td>[product life, daily life, healthy lifestyle, ...</td>\n",
       "    </tr>\n",
       "    <tr>\n",
       "      <th>51</th>\n",
       "      <td>20-30</td>\n",
       "      <td>[willingness to act towards more sustainable l...</td>\n",
       "    </tr>\n",
       "    <tr>\n",
       "      <th>52</th>\n",
       "      <td>20-31</td>\n",
       "      <td>[crop harvest projections, farmers' access to ...</td>\n",
       "    </tr>\n",
       "    <tr>\n",
       "      <th>53</th>\n",
       "      <td>20-32</td>\n",
       "      <td>[PA barriers that AD caregivers face, trip gen...</td>\n",
       "    </tr>\n",
       "    <tr>\n",
       "      <th>54</th>\n",
       "      <td>20-33</td>\n",
       "      <td>[air quality prediction, air quality predictio...</td>\n",
       "    </tr>\n",
       "  </tbody>\n",
       "</table>\n",
       "</div>"
      ],
      "text/plain": [
       "   cluster_id                                          sentences\n",
       "0           1  [subjective well-being, subjective well-being,...\n",
       "1           2  [freedom of expression, freedom of expression,...\n",
       "2           3  [customer satisfaction, customer satisfaction,...\n",
       "3           5  [CO2 emissions, CO2 emissions, carbon dioxide ...\n",
       "4           6  [sleep quality, sleep quality, sleep quality, ...\n",
       "5           7  [well-being, well-being, well-being, well-bein...\n",
       "6           8  [environmental footprint, carbon footprint, ca...\n",
       "7           9  [embodied greenhouse gas emissions, embodied g...\n",
       "8          10  [stress management, stress resistance, stress ...\n",
       "9          11  [Impulse Buying, Impulse Buying, Impulse Buyin...\n",
       "10         12  [comfort of life, life satisfaction, life sati...\n",
       "11         13  [self-perceived health, self-manage health, di...\n",
       "12         14  [energy savings, energy savings, energy saving...\n",
       "13         15  [daytime sleepiness, daytime sleepiness, exces...\n",
       "14         16  [depressive symptoms, depressive symptoms, dep...\n",
       "15         17  [symptoms of depression and anxiety, depressio...\n",
       "16         18  [loneliness, loneliness, loneliness, lonelines...\n",
       "17         19  [people’s well-being, spiritual well-being, ps...\n",
       "18         21  [community satisfaction, satisfaction, Satisfa...\n",
       "19        4-0  [sedentary lifestyle, sedentary lifestyles, se...\n",
       "20        4-1  [carbon emission, carbon emission, carbon emis...\n",
       "21       20-0  [substance use, positive affect, positive affe...\n",
       "22       20-1  [habit, habit, habit formation, habit, habit, ...\n",
       "23       20-2  [transition from the linear economy to a circu...\n",
       "24       20-3  [resilience, resilience, infrastructure damage...\n",
       "25       20-4  [physical activity level, physical activity le...\n",
       "26       20-5  [negative affect, feelings of loneliness, nega...\n",
       "27       20-6  [inclusive growth, GDP contribution, economic ...\n",
       "28       20-7  [continuance use intention, continuance usage ...\n",
       "29       20-8  [self-esteem, self-esteem, self-esteem, self-e...\n",
       "30       20-9  [user satisfaction, user satisfaction, user sa...\n",
       "31      20-10  [job quality, job satisfaction, job satisfacti...\n",
       "32      20-11  [adoption of VREs, VR store satisfaction, VR s...\n",
       "33      20-12  [health and well-being, mental wellbeing, ment...\n",
       "34      20-13  [health-related quality of life, quality of li...\n",
       "35      20-14  [power consumption, power consumption, power c...\n",
       "36      20-15  [day-ahead scheduling, harmonic alleviation, a...\n",
       "37      20-16  [awareness about the benefits of physical acti...\n",
       "38      20-17  [academic performance, academic performance, a...\n",
       "39      20-18  [social media use, social media's academic use...\n",
       "40      20-19  [carbon emissions, carbon emissions, carbon em...\n",
       "41      20-20  [lifestyle change, lifestyle change, lifestyle...\n",
       "42      20-21  [intellectual development, cognitive function,...\n",
       "43      20-22  [food waste, food waste, food waste, food wast...\n",
       "44      20-23  [general enjoyment, adaptation measures, pleas...\n",
       "45      20-24  [knowledge capital, relationship between socia...\n",
       "46      20-25  [demand of data center providing and performan...\n",
       "47      20-26  [energy consumption, energy consumption, energ...\n",
       "48      20-27  [cost of lighting services, per capita use of ...\n",
       "49      20-28  [labour productivity, productivity, productivi...\n",
       "50      20-29  [product life, daily life, healthy lifestyle, ...\n",
       "51      20-30  [willingness to act towards more sustainable l...\n",
       "52      20-31  [crop harvest projections, farmers' access to ...\n",
       "53      20-32  [PA barriers that AD caregivers face, trip gen...\n",
       "54      20-33  [air quality prediction, air quality predictio..."
      ]
     },
     "execution_count": 33,
     "metadata": {},
     "output_type": "execute_result"
    }
   ],
   "source": [
    "clusters_to_subdivide_with_params = {\n",
    "    4: {'min_cluster_size': 10, 'min_samples': 5, 'cluster_selection_epsilon': 0.1},\n",
    "    #15: {'min_cluster_size': 8, 'min_samples': 5, 'cluster_selection_epsilon': 0.0},\n",
    "    20: {'min_cluster_size': 10, 'min_samples': 5, 'cluster_selection_epsilon': 0.1}\n",
    "}\n",
    "\n",
    "# Subdivide selected clusters and create a new dataframe\n",
    "new_cluster_df, new_noise, cluster_assignment_to_change_indices, new_cluster_assignment = clusterize.subdivide_clusters(\n",
    "    clustered_sentences, cluster_assignment, reduced_embeddings_factors, preprocessed_factors, clusters_to_subdivide_with_params\n",
    ")\n",
    "\n",
    "# Display the new dataframe\n",
    "new_cluster_df"
   ]
  },
  {
   "cell_type": "code",
   "execution_count": null,
   "metadata": {},
   "outputs": [
    {
     "name": "stdout",
     "output_type": "stream",
     "text": [
      "36 new clusters were created out of 2\n",
      "33 items from the previous clusters were classified as noise\n"
     ]
    }
   ],
   "source": [
    "print(f'{new_cluster_df.shape[0] - cluster_summary_df.shape[0] + len(clusters_to_subdivide_with_params.keys())} new clusters were created out of {len(clusters_to_subdivide_with_params.keys())}')\n",
    "print(f'{len(new_noise)} items from the previous clusters were classified as noise')"
   ]
  },
  {
   "cell_type": "code",
   "execution_count": null,
   "metadata": {},
   "outputs": [
    {
     "data": {
      "application/vnd.microsoft.datawrangler.viewer.v0+json": {
       "columns": [
        {
         "name": "index",
         "rawType": "int64",
         "type": "integer"
        },
        {
         "name": "FACTOR",
         "rawType": "object",
         "type": "string"
        },
        {
         "name": "cluster",
         "rawType": "int64",
         "type": "integer"
        },
        {
         "name": "cluster_2",
         "rawType": "object",
         "type": "unknown"
        },
        {
         "name": "doi",
         "rawType": "object",
         "type": "unknown"
        }
       ],
       "ref": "0a18e868-ec93-4860-839d-b750696a3e2a",
       "rows": [
        [
         "0",
         "awareness about the benefits of physical activity",
         "20",
         "20_16",
         "https://doi.org/10.22038/jmrh.2014.2918"
        ],
        [
         "1",
         "physical activity (PA) in the general population",
         "20",
         "20_16",
         "https://doi.org/10.48550/arxiv.1908.09984"
        ],
        [
         "2",
         "PA barriers that AD caregivers face",
         "20",
         "20_32",
         "https://doi.org/10.48550/arxiv.1908.09984"
        ],
        [
         "3",
         "trip generation rates",
         "20",
         "20_32",
         "https://doi.org/10.3141/1682-09"
        ],
        [
         "4",
         "intent to purchase activewear",
         "20",
         "20_32",
         "https://doi.org/10.1080/17543266.2018.1477995"
        ],
        [
         "5",
         "attitude towards shopping activewear for casual purpose",
         "20",
         "20_32",
         "https://doi.org/10.1080/17543266.2018.1477995"
        ],
        [
         "6",
         "robust connectivity",
         "20",
         "20_32",
         "https://doi.org/10.2118/209896-ms"
        ],
        [
         "7",
         "health care delivery",
         "20",
         "20_32",
         "https://doi.org/10.1080/10410236.2024.2402160"
        ],
        [
         "8",
         "preservation of archaeological sites",
         "20",
         "20_32",
         "https://doi.org/10.2478/aup-2023-0012"
        ],
        [
         "9",
         "resource utilization",
         "20",
         "20_32",
         "https://doi.org/10.1051/e3sconf/202234906007"
        ],
        [
         "10",
         "demand for Critical Raw Materials",
         "20",
         "20_32",
         "https://doi.org/10.1051/e3sconf/202234906007"
        ],
        [
         "11",
         "sectoral sustainability",
         "20",
         "20_32",
         "https://doi.org/10.1051/e3sconf/202234906007"
        ],
        [
         "12",
         "circularity in the DCI",
         "20",
         "20_16",
         "https://doi.org/10.1051/e3sconf/202234906007"
        ],
        [
         "13",
         "product life",
         "20",
         "20_29",
         "https://doi.org/10.1051/e3sconf/202234906007"
        ],
        [
         "14",
         "recycling",
         "20",
         "20_32",
         "https://doi.org/10.1051/e3sconf/202234906007"
        ],
        [
         "15",
         "decision-making",
         "20",
         "20_32",
         "https://doi.org/10.1051/e3sconf/202234906007"
        ],
        [
         "16",
         "wind power implementation",
         "20",
         "20_32",
         "https://doi.org/10.54595/jmeb.v4i1.75"
        ],
        [
         "17",
         "right to information",
         "20",
         "20_32",
         "https://doi.org/10.1017/cbo9781139052337.011"
        ],
        [
         "18",
         "global debates on information rights",
         "20",
         "20_32",
         "https://doi.org/10.1017/cbo9781139052337.011"
        ],
        [
         "19",
         "changes in habits in the wake of the pandemic",
         "20",
         "20_32",
         "https://doi.org/10.53479/30069"
        ],
        [
         "20",
         "academic performance",
         "20",
         "20_17",
         "https://doi.org/10.1177/1469787418782817"
        ],
        [
         "21",
         "development of the village",
         "20",
         "20_32",
         "https://doi.org/10.54207/bsmps1000-2012-e00txt"
        ],
        [
         "22",
         "device use anxiety",
         "-1",
         "-1",
         "https://doi.org/10.33790/jrpr1100135"
        ],
        [
         "23",
         "health-related quality of life",
         "20",
         "20_13",
         "https://doi.org/10.33790/jrpr1100135"
        ],
        [
         "24",
         "social participation",
         "20",
         "20_32",
         "https://doi.org/10.33790/jrpr1100135"
        ],
        [
         "25",
         "demand of data center providing and performance",
         "20",
         "20_25",
         null
        ],
        [
         "26",
         "power consumption",
         "20",
         "20_14",
         null
        ],
        [
         "27",
         "heat load density",
         "20",
         "20_32",
         null
        ],
        [
         "28",
         "energy efficiency",
         "20",
         "20_32",
         null
        ],
        [
         "29",
         "energy efficiency",
         "20",
         "20_32",
         null
        ],
        [
         "30",
         "optimization of cooling system",
         "20",
         "20_32",
         null
        ],
        [
         "31",
         "data on consumers",
         "20",
         "20_32",
         null
        ],
        [
         "32",
         "haze pollution",
         "20",
         "20_32",
         "https://doi.org/10.3390/su12072763"
        ],
        [
         "33",
         "human rights",
         "20",
         "20_32",
         null
        ],
        [
         "34",
         "rights and freedoms of man and citizen",
         "20",
         "20_32",
         null
        ],
        [
         "35",
         "human rights",
         "20",
         "20_32",
         null
        ],
        [
         "36",
         "Impulse Buying",
         "11",
         "11",
         "https://doi.org/10.4108/eai.3-10-2020.2306591"
        ],
        [
         "37",
         "Impulse Buying",
         "11",
         "11",
         "https://doi.org/10.4108/eai.3-10-2020.2306591"
        ],
        [
         "38",
         "Impulse Buying",
         "11",
         "11",
         "https://doi.org/10.4108/eai.3-10-2020.2306591"
        ],
        [
         "39",
         "weather forecasting",
         "20",
         "20_32",
         null
        ],
        [
         "40",
         "disaster risk reduction",
         "20",
         "20_32",
         null
        ],
        [
         "41",
         "crop harvest projections",
         "20",
         "20_31",
         null
        ],
        [
         "42",
         "real time sharing of regional satellite data",
         "20",
         "20_32",
         null
        ],
        [
         "43",
         "disaster risk reduction",
         "20",
         "20_32",
         null
        ],
        [
         "44",
         "internalising symptoms",
         "-1",
         "-1",
         "https://doi.org/10.31234/osf.io/xv76f_v1"
        ],
        [
         "45",
         "internalising symptoms",
         "-1",
         "-1",
         "https://doi.org/10.31234/osf.io/xv76f_v1"
        ],
        [
         "46",
         "social media use",
         "20",
         "20_18",
         "https://doi.org/10.31234/osf.io/xv76f_v1"
        ],
        [
         "47",
         "volunteered information production",
         "20",
         "20_32",
         null
        ],
        [
         "48",
         "collection of flood levels automation",
         "20",
         "20_32",
         null
        ],
        [
         "49",
         "resource efficiency",
         "-1",
         "-1",
         "https://doi.org/10.2478/ie-2023-0014"
        ]
       ],
       "shape": {
        "columns": 4,
        "rows": 10381
       }
      },
      "text/html": [
       "<div>\n",
       "<style scoped>\n",
       "    .dataframe tbody tr th:only-of-type {\n",
       "        vertical-align: middle;\n",
       "    }\n",
       "\n",
       "    .dataframe tbody tr th {\n",
       "        vertical-align: top;\n",
       "    }\n",
       "\n",
       "    .dataframe thead th {\n",
       "        text-align: right;\n",
       "    }\n",
       "</style>\n",
       "<table border=\"1\" class=\"dataframe\">\n",
       "  <thead>\n",
       "    <tr style=\"text-align: right;\">\n",
       "      <th></th>\n",
       "      <th>FACTOR</th>\n",
       "      <th>cluster</th>\n",
       "      <th>cluster_2</th>\n",
       "      <th>doi</th>\n",
       "    </tr>\n",
       "  </thead>\n",
       "  <tbody>\n",
       "    <tr>\n",
       "      <th>0</th>\n",
       "      <td>awareness about the benefits of physical activity</td>\n",
       "      <td>20</td>\n",
       "      <td>20_16</td>\n",
       "      <td>https://doi.org/10.22038/jmrh.2014.2918</td>\n",
       "    </tr>\n",
       "    <tr>\n",
       "      <th>1</th>\n",
       "      <td>physical activity (PA) in the general population</td>\n",
       "      <td>20</td>\n",
       "      <td>20_16</td>\n",
       "      <td>https://doi.org/10.48550/arxiv.1908.09984</td>\n",
       "    </tr>\n",
       "    <tr>\n",
       "      <th>2</th>\n",
       "      <td>PA barriers that AD caregivers face</td>\n",
       "      <td>20</td>\n",
       "      <td>20_32</td>\n",
       "      <td>https://doi.org/10.48550/arxiv.1908.09984</td>\n",
       "    </tr>\n",
       "    <tr>\n",
       "      <th>3</th>\n",
       "      <td>trip generation rates</td>\n",
       "      <td>20</td>\n",
       "      <td>20_32</td>\n",
       "      <td>https://doi.org/10.3141/1682-09</td>\n",
       "    </tr>\n",
       "    <tr>\n",
       "      <th>4</th>\n",
       "      <td>intent to purchase activewear</td>\n",
       "      <td>20</td>\n",
       "      <td>20_32</td>\n",
       "      <td>https://doi.org/10.1080/17543266.2018.1477995</td>\n",
       "    </tr>\n",
       "    <tr>\n",
       "      <th>...</th>\n",
       "      <td>...</td>\n",
       "      <td>...</td>\n",
       "      <td>...</td>\n",
       "      <td>...</td>\n",
       "    </tr>\n",
       "    <tr>\n",
       "      <th>10376</th>\n",
       "      <td>air quality information accessibility</td>\n",
       "      <td>20</td>\n",
       "      <td>20_32</td>\n",
       "      <td>https://doi.org/10.51967/tanesa.v24i2.2946</td>\n",
       "    </tr>\n",
       "    <tr>\n",
       "      <th>10377</th>\n",
       "      <td>mobile telephone coverage</td>\n",
       "      <td>20</td>\n",
       "      <td>20_32</td>\n",
       "      <td>NaN</td>\n",
       "    </tr>\n",
       "    <tr>\n",
       "      <th>10378</th>\n",
       "      <td>obesity</td>\n",
       "      <td>20</td>\n",
       "      <td>20_32</td>\n",
       "      <td>NaN</td>\n",
       "    </tr>\n",
       "    <tr>\n",
       "      <th>10379</th>\n",
       "      <td>biogas technology adoption</td>\n",
       "      <td>-1</td>\n",
       "      <td>-1</td>\n",
       "      <td>https://doi.org/10.3390/ijerph17072311</td>\n",
       "    </tr>\n",
       "    <tr>\n",
       "      <th>10380</th>\n",
       "      <td>social support</td>\n",
       "      <td>20</td>\n",
       "      <td>20_32</td>\n",
       "      <td>https://doi.org/10.1111/cob.12605</td>\n",
       "    </tr>\n",
       "  </tbody>\n",
       "</table>\n",
       "<p>10381 rows × 4 columns</p>\n",
       "</div>"
      ],
      "text/plain": [
       "                                                  FACTOR  cluster cluster_2  \\\n",
       "0      awareness about the benefits of physical activity       20     20_16   \n",
       "1       physical activity (PA) in the general population       20     20_16   \n",
       "2                    PA barriers that AD caregivers face       20     20_32   \n",
       "3                                  trip generation rates       20     20_32   \n",
       "4                          intent to purchase activewear       20     20_32   \n",
       "...                                                  ...      ...       ...   \n",
       "10376              air quality information accessibility       20     20_32   \n",
       "10377                          mobile telephone coverage       20     20_32   \n",
       "10378                                            obesity       20     20_32   \n",
       "10379                         biogas technology adoption       -1        -1   \n",
       "10380                                     social support       20     20_32   \n",
       "\n",
       "                                                 doi  \n",
       "0            https://doi.org/10.22038/jmrh.2014.2918  \n",
       "1          https://doi.org/10.48550/arxiv.1908.09984  \n",
       "2          https://doi.org/10.48550/arxiv.1908.09984  \n",
       "3                    https://doi.org/10.3141/1682-09  \n",
       "4      https://doi.org/10.1080/17543266.2018.1477995  \n",
       "...                                              ...  \n",
       "10376     https://doi.org/10.51967/tanesa.v24i2.2946  \n",
       "10377                                            NaN  \n",
       "10378                                            NaN  \n",
       "10379         https://doi.org/10.3390/ijerph17072311  \n",
       "10380              https://doi.org/10.1111/cob.12605  \n",
       "\n",
       "[10381 rows x 4 columns]"
      ]
     },
     "execution_count": 43,
     "metadata": {},
     "output_type": "execute_result"
    }
   ],
   "source": [
    "sentences_df = pd.DataFrame(preprocessed_factors.copy())\n",
    "\n",
    "doi_col = extracted_df['doi']\n",
    "\n",
    "cluster_assignment_with_correct_index = [i + 1 if i != -1 else i for i in cluster_assignment]\n",
    "\n",
    "final_df = clusterize.create_final_df(sentences_df, doi_col, cluster_assignment_with_correct_index, new_cluster_assignment, cluster_assignment_to_change_indices)\n",
    "final_df"
   ]
  },
  {
   "cell_type": "code",
   "execution_count": null,
   "metadata": {},
   "outputs": [
    {
     "data": {
      "application/vnd.microsoft.datawrangler.viewer.v0+json": {
       "columns": [
        {
         "name": "index",
         "rawType": "int64",
         "type": "integer"
        },
        {
         "name": "noise_samples",
         "rawType": "object",
         "type": "string"
        }
       ],
       "ref": "36c630f1-90a0-4175-8efc-4c305b102460",
       "rows": [
        [
         "0",
         "use of strategies to obtain these indicators"
        ],
        [
         "1",
         "positive leadership behaviour"
        ],
        [
         "2",
         "use of diversity technique"
        ],
        [
         "3",
         "persuasive strategies"
        ],
        [
         "4",
         "use of strategies to obtain these indicators"
        ],
        [
         "5",
         "green communication technologies"
        ],
        [
         "6",
         "competence in English"
        ],
        [
         "7",
         "persuasive messages"
        ],
        [
         "8",
         "Transformational Leadership"
        ],
        [
         "9",
         "alcohol marketing"
        ],
        [
         "10",
         "power supply systems and topologies"
        ],
        [
         "11",
         "optimization problem to allocate radio resources"
        ],
        [
         "12",
         "persuasive messages"
        ],
        [
         "13",
         "cloud radio access network (C-RAN) architecture"
        ],
        [
         "14",
         "persuasive messages"
        ],
        [
         "15",
         "trialability"
        ],
        [
         "16",
         "Digital Leadership"
        ],
        [
         "17",
         "organizational learning capability"
        ],
        [
         "18",
         "Cloud Radio Access Network (C-RAN) architecture"
        ],
        [
         "19",
         "Reverse Logistics in Green Procurement"
        ],
        [
         "20",
         "Organizational Learning"
        ],
        [
         "21",
         "persuasive games"
        ],
        [
         "22",
         "online pizza ordering system"
        ],
        [
         "23",
         "Cloud Radio Access Network (C-RAN) architecture"
        ],
        [
         "24",
         "engagement with traditional and online alcohol marketing"
        ],
        [
         "25",
         "content diversity"
        ],
        [
         "26",
         "persuasive messages"
        ],
        [
         "27",
         "positive leadership behaviour"
        ],
        [
         "28",
         "leadership"
        ],
        [
         "29",
         "service recovery justice"
        ],
        [
         "30",
         "experimentation with novel strategies"
        ],
        [
         "31",
         "experimentation with novel strategies"
        ],
        [
         "32",
         "professional involvement"
        ],
        [
         "33",
         "human-centered digital workplaces"
        ],
        [
         "34",
         "positive leadership behaviour"
        ],
        [
         "35",
         "persuasive messages"
        ],
        [
         "36",
         "radio access network (RAN) energy consumption"
        ],
        [
         "37",
         "Cloud Radio Access Network (C-RAN) architecture"
        ],
        [
         "38",
         "Green procurement"
        ],
        [
         "39",
         "flexible service level agreements in Green IT"
        ],
        [
         "40",
         "positive leadership behaviour"
        ],
        [
         "41",
         "digital leadership"
        ],
        [
         "42",
         "digital leadership"
        ],
        [
         "43",
         "green electrical appliances"
        ],
        [
         "44",
         "linguistic diversity"
        ],
        [
         "45",
         "complex approaches (FLAASH, ATCOR, 6S)"
        ],
        [
         "46",
         "extroverted learning style"
        ]
       ],
       "shape": {
        "columns": 1,
        "rows": 47
       }
      },
      "text/html": [
       "<div>\n",
       "<style scoped>\n",
       "    .dataframe tbody tr th:only-of-type {\n",
       "        vertical-align: middle;\n",
       "    }\n",
       "\n",
       "    .dataframe tbody tr th {\n",
       "        vertical-align: top;\n",
       "    }\n",
       "\n",
       "    .dataframe thead th {\n",
       "        text-align: right;\n",
       "    }\n",
       "</style>\n",
       "<table border=\"1\" class=\"dataframe\">\n",
       "  <thead>\n",
       "    <tr style=\"text-align: right;\">\n",
       "      <th></th>\n",
       "      <th>noise_samples</th>\n",
       "    </tr>\n",
       "  </thead>\n",
       "  <tbody>\n",
       "    <tr>\n",
       "      <th>0</th>\n",
       "      <td>use of strategies to obtain these indicators</td>\n",
       "    </tr>\n",
       "    <tr>\n",
       "      <th>1</th>\n",
       "      <td>positive leadership behaviour</td>\n",
       "    </tr>\n",
       "    <tr>\n",
       "      <th>2</th>\n",
       "      <td>use of diversity technique</td>\n",
       "    </tr>\n",
       "    <tr>\n",
       "      <th>3</th>\n",
       "      <td>persuasive strategies</td>\n",
       "    </tr>\n",
       "    <tr>\n",
       "      <th>4</th>\n",
       "      <td>use of strategies to obtain these indicators</td>\n",
       "    </tr>\n",
       "    <tr>\n",
       "      <th>5</th>\n",
       "      <td>green communication technologies</td>\n",
       "    </tr>\n",
       "    <tr>\n",
       "      <th>6</th>\n",
       "      <td>competence in English</td>\n",
       "    </tr>\n",
       "    <tr>\n",
       "      <th>7</th>\n",
       "      <td>persuasive messages</td>\n",
       "    </tr>\n",
       "    <tr>\n",
       "      <th>8</th>\n",
       "      <td>Transformational Leadership</td>\n",
       "    </tr>\n",
       "    <tr>\n",
       "      <th>9</th>\n",
       "      <td>alcohol marketing</td>\n",
       "    </tr>\n",
       "    <tr>\n",
       "      <th>10</th>\n",
       "      <td>power supply systems and topologies</td>\n",
       "    </tr>\n",
       "    <tr>\n",
       "      <th>11</th>\n",
       "      <td>optimization problem to allocate radio resources</td>\n",
       "    </tr>\n",
       "    <tr>\n",
       "      <th>12</th>\n",
       "      <td>persuasive messages</td>\n",
       "    </tr>\n",
       "    <tr>\n",
       "      <th>13</th>\n",
       "      <td>cloud radio access network (C-RAN) architecture</td>\n",
       "    </tr>\n",
       "    <tr>\n",
       "      <th>14</th>\n",
       "      <td>persuasive messages</td>\n",
       "    </tr>\n",
       "    <tr>\n",
       "      <th>15</th>\n",
       "      <td>trialability</td>\n",
       "    </tr>\n",
       "    <tr>\n",
       "      <th>16</th>\n",
       "      <td>Digital Leadership</td>\n",
       "    </tr>\n",
       "    <tr>\n",
       "      <th>17</th>\n",
       "      <td>organizational learning capability</td>\n",
       "    </tr>\n",
       "    <tr>\n",
       "      <th>18</th>\n",
       "      <td>Cloud Radio Access Network (C-RAN) architecture</td>\n",
       "    </tr>\n",
       "    <tr>\n",
       "      <th>19</th>\n",
       "      <td>Reverse Logistics in Green Procurement</td>\n",
       "    </tr>\n",
       "    <tr>\n",
       "      <th>20</th>\n",
       "      <td>Organizational Learning</td>\n",
       "    </tr>\n",
       "    <tr>\n",
       "      <th>21</th>\n",
       "      <td>persuasive games</td>\n",
       "    </tr>\n",
       "    <tr>\n",
       "      <th>22</th>\n",
       "      <td>online pizza ordering system</td>\n",
       "    </tr>\n",
       "    <tr>\n",
       "      <th>23</th>\n",
       "      <td>Cloud Radio Access Network (C-RAN) architecture</td>\n",
       "    </tr>\n",
       "    <tr>\n",
       "      <th>24</th>\n",
       "      <td>engagement with traditional and online alcohol...</td>\n",
       "    </tr>\n",
       "    <tr>\n",
       "      <th>25</th>\n",
       "      <td>content diversity</td>\n",
       "    </tr>\n",
       "    <tr>\n",
       "      <th>26</th>\n",
       "      <td>persuasive messages</td>\n",
       "    </tr>\n",
       "    <tr>\n",
       "      <th>27</th>\n",
       "      <td>positive leadership behaviour</td>\n",
       "    </tr>\n",
       "    <tr>\n",
       "      <th>28</th>\n",
       "      <td>leadership</td>\n",
       "    </tr>\n",
       "    <tr>\n",
       "      <th>29</th>\n",
       "      <td>service recovery justice</td>\n",
       "    </tr>\n",
       "    <tr>\n",
       "      <th>30</th>\n",
       "      <td>experimentation with novel strategies</td>\n",
       "    </tr>\n",
       "    <tr>\n",
       "      <th>31</th>\n",
       "      <td>experimentation with novel strategies</td>\n",
       "    </tr>\n",
       "    <tr>\n",
       "      <th>32</th>\n",
       "      <td>professional involvement</td>\n",
       "    </tr>\n",
       "    <tr>\n",
       "      <th>33</th>\n",
       "      <td>human-centered digital workplaces</td>\n",
       "    </tr>\n",
       "    <tr>\n",
       "      <th>34</th>\n",
       "      <td>positive leadership behaviour</td>\n",
       "    </tr>\n",
       "    <tr>\n",
       "      <th>35</th>\n",
       "      <td>persuasive messages</td>\n",
       "    </tr>\n",
       "    <tr>\n",
       "      <th>36</th>\n",
       "      <td>radio access network (RAN) energy consumption</td>\n",
       "    </tr>\n",
       "    <tr>\n",
       "      <th>37</th>\n",
       "      <td>Cloud Radio Access Network (C-RAN) architecture</td>\n",
       "    </tr>\n",
       "    <tr>\n",
       "      <th>38</th>\n",
       "      <td>Green procurement</td>\n",
       "    </tr>\n",
       "    <tr>\n",
       "      <th>39</th>\n",
       "      <td>flexible service level agreements in Green IT</td>\n",
       "    </tr>\n",
       "    <tr>\n",
       "      <th>40</th>\n",
       "      <td>positive leadership behaviour</td>\n",
       "    </tr>\n",
       "    <tr>\n",
       "      <th>41</th>\n",
       "      <td>digital leadership</td>\n",
       "    </tr>\n",
       "    <tr>\n",
       "      <th>42</th>\n",
       "      <td>digital leadership</td>\n",
       "    </tr>\n",
       "    <tr>\n",
       "      <th>43</th>\n",
       "      <td>green electrical appliances</td>\n",
       "    </tr>\n",
       "    <tr>\n",
       "      <th>44</th>\n",
       "      <td>linguistic diversity</td>\n",
       "    </tr>\n",
       "    <tr>\n",
       "      <th>45</th>\n",
       "      <td>complex approaches (FLAASH, ATCOR, 6S)</td>\n",
       "    </tr>\n",
       "    <tr>\n",
       "      <th>46</th>\n",
       "      <td>extroverted learning style</td>\n",
       "    </tr>\n",
       "  </tbody>\n",
       "</table>\n",
       "</div>"
      ],
      "text/plain": [
       "                                        noise_samples\n",
       "0        use of strategies to obtain these indicators\n",
       "1                       positive leadership behaviour\n",
       "2                          use of diversity technique\n",
       "3                               persuasive strategies\n",
       "4        use of strategies to obtain these indicators\n",
       "5                    green communication technologies\n",
       "6                               competence in English\n",
       "7                                 persuasive messages\n",
       "8                         Transformational Leadership\n",
       "9                                   alcohol marketing\n",
       "10                power supply systems and topologies\n",
       "11   optimization problem to allocate radio resources\n",
       "12                                persuasive messages\n",
       "13    cloud radio access network (C-RAN) architecture\n",
       "14                                persuasive messages\n",
       "15                                       trialability\n",
       "16                                 Digital Leadership\n",
       "17                 organizational learning capability\n",
       "18    Cloud Radio Access Network (C-RAN) architecture\n",
       "19             Reverse Logistics in Green Procurement\n",
       "20                            Organizational Learning\n",
       "21                                   persuasive games\n",
       "22                       online pizza ordering system\n",
       "23    Cloud Radio Access Network (C-RAN) architecture\n",
       "24  engagement with traditional and online alcohol...\n",
       "25                                  content diversity\n",
       "26                                persuasive messages\n",
       "27                      positive leadership behaviour\n",
       "28                                         leadership\n",
       "29                           service recovery justice\n",
       "30              experimentation with novel strategies\n",
       "31              experimentation with novel strategies\n",
       "32                           professional involvement\n",
       "33                  human-centered digital workplaces\n",
       "34                      positive leadership behaviour\n",
       "35                                persuasive messages\n",
       "36      radio access network (RAN) energy consumption\n",
       "37    Cloud Radio Access Network (C-RAN) architecture\n",
       "38                                  Green procurement\n",
       "39      flexible service level agreements in Green IT\n",
       "40                      positive leadership behaviour\n",
       "41                                 digital leadership\n",
       "42                                 digital leadership\n",
       "43                        green electrical appliances\n",
       "44                               linguistic diversity\n",
       "45             complex approaches (FLAASH, ATCOR, 6S)\n",
       "46                         extroverted learning style"
      ]
     },
     "execution_count": 62,
     "metadata": {},
     "output_type": "execute_result"
    }
   ],
   "source": [
    "data = {'noise_samples': random.sample(new_noise, min(100, len(new_noise)))}\n",
    "\n",
    "# Creating DataFrame\n",
    "new_noise_df = pd.DataFrame(data)\n",
    "\n",
    "new_noise_df.to_csv(f'../outputs/noise_sample_recluster_{domain}_factors.csv', index=False)\n",
    "\n",
    "new_noise_df"
   ]
  },
  {
   "cell_type": "code",
   "execution_count": null,
   "metadata": {},
   "outputs": [
    {
     "data": {
      "application/vnd.microsoft.datawrangler.viewer.v0+json": {
       "columns": [
        {
         "name": "cluster_id",
         "rawType": "int64",
         "type": "integer"
        },
        {
         "name": "min_cluster_size",
         "rawType": "int64",
         "type": "integer"
        },
        {
         "name": "min_samples",
         "rawType": "int64",
         "type": "integer"
        },
        {
         "name": "cluster_selection_epsilon",
         "rawType": "float64",
         "type": "float"
        }
       ],
       "ref": "95f32a7b-04fd-4854-a396-0efd6a476573",
       "rows": [
        [
         "4",
         "10",
         "5",
         "0.1"
        ],
        [
         "20",
         "10",
         "5",
         "0.1"
        ]
       ],
       "shape": {
        "columns": 3,
        "rows": 2
       }
      },
      "text/html": [
       "<div>\n",
       "<style scoped>\n",
       "    .dataframe tbody tr th:only-of-type {\n",
       "        vertical-align: middle;\n",
       "    }\n",
       "\n",
       "    .dataframe tbody tr th {\n",
       "        vertical-align: top;\n",
       "    }\n",
       "\n",
       "    .dataframe thead th {\n",
       "        text-align: right;\n",
       "    }\n",
       "</style>\n",
       "<table border=\"1\" class=\"dataframe\">\n",
       "  <thead>\n",
       "    <tr style=\"text-align: right;\">\n",
       "      <th></th>\n",
       "      <th>min_cluster_size</th>\n",
       "      <th>min_samples</th>\n",
       "      <th>cluster_selection_epsilon</th>\n",
       "    </tr>\n",
       "    <tr>\n",
       "      <th>cluster_id</th>\n",
       "      <th></th>\n",
       "      <th></th>\n",
       "      <th></th>\n",
       "    </tr>\n",
       "  </thead>\n",
       "  <tbody>\n",
       "    <tr>\n",
       "      <th>4</th>\n",
       "      <td>10</td>\n",
       "      <td>5</td>\n",
       "      <td>0.1</td>\n",
       "    </tr>\n",
       "    <tr>\n",
       "      <th>20</th>\n",
       "      <td>10</td>\n",
       "      <td>5</td>\n",
       "      <td>0.1</td>\n",
       "    </tr>\n",
       "  </tbody>\n",
       "</table>\n",
       "</div>"
      ],
      "text/plain": [
       "            min_cluster_size  min_samples  cluster_selection_epsilon\n",
       "cluster_id                                                          \n",
       "4                         10            5                        0.1\n",
       "20                        10            5                        0.1"
      ]
     },
     "execution_count": 106,
     "metadata": {},
     "output_type": "execute_result"
    }
   ],
   "source": [
    "recluster_params = pd.DataFrame.from_dict(clusters_to_subdivide_with_params, orient='index')\n",
    "recluster_params.index.name = 'cluster_id'\n",
    "\n",
    "recluster_params.to_csv(f'../outputs/params_recluster_{domain}_factors.csv')\n",
    "\n",
    "recluster_params"
   ]
  }
 ],
 "metadata": {
  "kernelspec": {
   "display_name": "lewagon-decision-science",
   "language": "python",
   "name": "python3"
  },
  "language_info": {
   "codemirror_mode": {
    "name": "ipython",
    "version": 3
   },
   "file_extension": ".py",
   "mimetype": "text/x-python",
   "name": "python",
   "nbconvert_exporter": "python",
   "pygments_lexer": "ipython3",
   "version": "3.12.9"
  }
 },
 "nbformat": 4,
 "nbformat_minor": 2
}
