{
 "cells": [
  {
   "cell_type": "code",
   "execution_count": 1,
   "metadata": {},
   "outputs": [
    {
     "name": "stdout",
     "output_type": "stream",
     "text": [
      "The autoreload extension is already loaded. To reload it, use:\n",
      "  %reload_ext autoreload\n"
     ]
    }
   ],
   "source": [
    "%load_ext autoreload\n",
    "%autoreload 2"
   ]
  },
  {
   "cell_type": "markdown",
   "metadata": {},
   "source": [
    "# Clustering process for policies"
   ]
  },
  {
   "cell_type": "markdown",
   "metadata": {},
   "source": [
    "## 1. Import the relevant packages"
   ]
  },
  {
   "cell_type": "code",
   "execution_count": 2,
   "metadata": {},
   "outputs": [
    {
     "name": "stderr",
     "output_type": "stream",
     "text": [
      "2025-07-16 14:30:25.810540: I external/local_tsl/tsl/cuda/cudart_stub.cc:32] Could not find cuda drivers on your machine, GPU will not be used.\n",
      "2025-07-16 14:30:25.837167: I external/local_tsl/tsl/cuda/cudart_stub.cc:32] Could not find cuda drivers on your machine, GPU will not be used.\n",
      "2025-07-16 14:30:25.880101: E external/local_xla/xla/stream_executor/cuda/cuda_fft.cc:479] Unable to register cuFFT factory: Attempting to register factory for plugin cuFFT when one has already been registered\n",
      "2025-07-16 14:30:25.925494: E external/local_xla/xla/stream_executor/cuda/cuda_dnn.cc:10575] Unable to register cuDNN factory: Attempting to register factory for plugin cuDNN when one has already been registered\n",
      "2025-07-16 14:30:25.925534: E external/local_xla/xla/stream_executor/cuda/cuda_blas.cc:1442] Unable to register cuBLAS factory: Attempting to register factory for plugin cuBLAS when one has already been registered\n",
      "2025-07-16 14:30:25.983738: I tensorflow/core/platform/cpu_feature_guard.cc:210] This TensorFlow binary is optimized to use available CPU instructions in performance-critical operations.\n",
      "To enable the following instructions: AVX2 FMA, in other operations, rebuild TensorFlow with the appropriate compiler flags.\n",
      "2025-07-16 14:30:27.915242: W tensorflow/compiler/tf2tensorrt/utils/py_utils.cc:38] TF-TRT Warning: Could not find TensorRT\n",
      "/home/thomas/.pyenv/versions/lewagon-decision-science/lib/python3.12/site-packages/numba/np/ufunc/dufunc.py:344: NumbaWarning: Compilation requested for previously compiled argument types ((uint32,)). This has no effect and perhaps indicates a bug in the calling code (compiling a ufunc more than once for the same signature\n",
      "  warnings.warn(msg, errors.NumbaWarning)\n",
      "/home/thomas/.pyenv/versions/lewagon-decision-science/lib/python3.12/site-packages/numba/np/ufunc/dufunc.py:344: NumbaWarning: Compilation requested for previously compiled argument types ((uint32,)). This has no effect and perhaps indicates a bug in the calling code (compiling a ufunc more than once for the same signature\n",
      "  warnings.warn(msg, errors.NumbaWarning)\n",
      "/home/thomas/.pyenv/versions/lewagon-decision-science/lib/python3.12/site-packages/numba/np/ufunc/dufunc.py:344: NumbaWarning: Compilation requested for previously compiled argument types ((uint32,)). This has no effect and perhaps indicates a bug in the calling code (compiling a ufunc more than once for the same signature\n",
      "  warnings.warn(msg, errors.NumbaWarning)\n"
     ]
    }
   ],
   "source": [
    "import pandas as pd\n",
    "import random\n",
    "\n",
    "from process import extract_items\n",
    "import clusterize"
   ]
  },
  {
   "cell_type": "markdown",
   "metadata": {},
   "source": [
    "## 2. Prepare data for clustering"
   ]
  },
  {
   "cell_type": "code",
   "execution_count": 141,
   "metadata": {},
   "outputs": [],
   "source": [
    "domain = 'E'\n",
    "input_path = f\"../data/results_{domain}.csv\""
   ]
  },
  {
   "cell_type": "code",
   "execution_count": 142,
   "metadata": {},
   "outputs": [
    {
     "data": {
      "application/vnd.microsoft.datawrangler.viewer.v0+json": {
       "columns": [
        {
         "name": "index",
         "rawType": "int64",
         "type": "integer"
        },
        {
         "name": "GEOGRAPHIC",
         "rawType": "object",
         "type": "unknown"
        },
        {
         "name": "ITEM",
         "rawType": "object",
         "type": "string"
        },
        {
         "name": "FACTOR",
         "rawType": "object",
         "type": "string"
        },
        {
         "name": "SECTOR",
         "rawType": "object",
         "type": "string"
        },
        {
         "name": "abstract",
         "rawType": "object",
         "type": "string"
        },
        {
         "name": "doi",
         "rawType": "object",
         "type": "unknown"
        },
        {
         "name": "openalex_id",
         "rawType": "object",
         "type": "string"
        }
       ],
       "ref": "f240e8ce-8c58-4710-82e6-a9a0fe9d822d",
       "rows": [
        [
         "0",
         "Mashhad University of Medical Sciences",
         "mass media",
         "{\"awareness about the benefits of physical activity\": {\"CORRELATION\": \"increasing\"}}",
         "[\"E\"]",
         "Background and Aim: Health-promoting lifestyle (HPL) is one of the main criteria which determine health and underlying factors preventing the health-threatening factors. HPL includes six dimensions of spiritual growth, health responsibility, nutrition, stress management, interpersonal relations, and physical activity. Considering the importance of students’ health, both at individual and social levels, the present study was carried out to evaluate HPL among students (mainly females) of School of Health, affiliated to Mashhad University of Medical Sciences in 2014. Methods: In this cross-sectional descriptive study, 107 students of Mashhad School of Health using stratified random sampling were included. In order to collect data, Walker questionnaire, with a 4-point Likert scale, was utilized which included two sections of demographic questions, and questions related to the six dimensions of HPL. The collected data were analyzed by descriptive statistics and independent T-test, using SPSS version 11.5. The significance level was considered less than 0.05. Results: Lifestyle of 9.3%, 84.1%, and 6.5% of the students was poor, moderate and good, respectively. The mean scores of HPL dimensions were as follows: spiritual growth: 30.27±5.4, health responsibility: 32.15±6.5, nutrition: 15.65±4.06, stress management: 12.76±2.9, interpersonal relations: 21.34±4.35, and physical activity: 13.69±5.1. A significant relationship was seen between gender and physical activity (p <0.05). Conclusion: The majority of students had a moderate score of HPL. Since the lowest scores were related to physical activity and stress management, more facilities and training programs are required to improve these issues. It is recommended to provide high-quality healthcare services for students and raise their awareness about the benefits of physical activity via mass media.",
         "https://doi.org/10.22038/jmrh.2014.2918",
         "W2099730092"
        ],
        [
         "1",
         "United States",
         "exergames",
         "{\"physical activity (PA) in the general population\": {\"CORRELATION\": \"increasing\"}, \"PA barriers that AD caregivers face\": {\"CORRELATION\": \"decreasing\"}}",
         "[\"E\", \"J\"]",
         "The number of informal caregivers for family members with Alzheimer's Disease (AD) is rising dramatically in the United States. AD caregivers disproportionately experience numerous health problems and are often isolated with little support. An active lifestyle can help prevent and mitigate physical and psychological health concerns amongst AD caregivers. Research has demonstrated how pervasive exergames can encourage physical activity (PA) in the general population, yet little work has explored how these tools can address the significant PA barriers that AD caregivers face. To identify opportunities for design, we conducted semi-structured interviews and participatory design sessions with 14 informal caregivers of family members with AD. Our findings characterize how becoming an AD caregiver profoundly impacts one's ability to be active, perspectives on being active, and the ways that exergames might best support this population. We discuss implications for design and how our findings challenge existing technological approaches to PA promotion.",
         "https://doi.org/10.48550/arxiv.1908.09984",
         "W2970340995"
        ],
        [
         "2",
         "Puget Sound",
         "telecommunications",
         "{\"trip generation rates\": {\"CORRELATION\": \"decreasing\"}}",
         "[\"E\"]",
         "Most trip generation models are insensitive to the effects of transportation demand management (TDM) strategies. To evaluate the potential effectiveness of TDM solutions, transportation professionals must rely largely on the results of case studies, which cannot be generalized for all urban areas. To evaluate TDM strategies in a context that is sensitive to the unique characteristics of each urban area, TDM strategies should be incorporated into regional travel demand models. Five TDM strategies affecting trip generation rates are examined: telecommunications, alternative work schedules, on-site amenities, pricing strategies, and land use strategies. To analyze these strategies, data from the Puget Sound Transportation Panel (PSTP) were used. Variables derived from the PSTP data that may help explain the impacts of these strategies were evaluated for significance in trip generation models for several home-based and non-home-based trip purposes. The trip generation models were specified using Poisson and negative binomial regression techniques. After the models were estimated, the significance of the variables representing the impacts of TDM strategies was analyzed. Many of the TDM variables were indeed significant in the trip generation models; however, in some cases, the significance of the variables can be attributed to factors such as trip chaining, which does not describe the effects of TDM strategies. Additional research is needed to fully determine the effects of trip chaining on the variables examined in this study, and additional data could enable the development of variables that more accurately describe the effects of TDM strategies.",
         "https://doi.org/10.3141/1682-09",
         "W2129598736"
        ],
        [
         "3",
         "US",
         "activewear purchased to be worn as casualwear",
         "{\"intent to purchase activewear\": {\"CORRELATION\": \"increasing\"}, \"attitude towards shopping activewear for casual purpose\": {\"CORRELATION\": \"positive\"}}",
         "[\"E\"]",
         "In recent years, activewear is no longer contained to the gym. It is visible in places such as grocery store, movie theatre, and classroom. To better understand this phenomenon of activewear purchased to be worn as casualwear, based on an expanded theory of planned behaviour model, using the primary survey data, this study aimed to determine the key factors influencing the US consumers' intention towards purchasing activewear for casual use. Multiple regression method was utilised for hypothesis testing. Attitude and perceived behavioural control showed significantly positive effects on intent to purchase activewear. Past activewear purchase behaviour and lifestyle orientation towards health and wellness help US consumers gain positive attitude towards shopping activewear for casual purpose. The proposed model exhibits a high explanatory power for US consumer purchase intention towards activewear for casual use, accounting for 52.4% of variance in the purchase intention.",
         "https://doi.org/10.1080/17543266.2018.1477995",
         "W2805060567"
        ],
        [
         "4",
         "Indonesia",
         "advanced, automated internet technology",
         "{\"robust connectivity\": {\"CORRELATION\": \"increasing\"}}",
         "[\"E\"]",
         "Abstract The Indonesian government has a goal to reduce 834 million-tons CO2e emissions by 2030 with 314 million-tons CO2e portion coming from the energy sector. A significant contribution is required from all aspects of the energy sector, including Directional-Drilling (DD) &amp; Measurement/Logging-While-Drilling (M/LWD) activity which traditionally deploys human resources for field execution. With the governmentâ€™s increased hydrocarbon lifting target, an innovative approach is needed to keep the field carbon footprint low while still maintaining DD-M/LWD operational excellence. Performance-Live is a digitally collaborative service that enables live remote-control of wellsite operations to optimize task distribution between the well site and town thus boosting operational efficiency. As a solid foundation to execute these remote operations, highly skilled Performance-Live Engineers (PLE) are centralized in a Performance-Live Center, monitoring several rigs in parallel, while multiskilled DD-M/LWD Cross Trained (DDX) who are fully competent to handle both competencies are staffed at the well site. This collaboration can be seamlessly achievable by leveraging elevated digital peripheral systems such as advanced, automated internet technology and support centralized in the main Java island to enable robust connectivity. Flexible strategies for remote-operations implementation play a significant role in sustainability. In one of the land projects in Indonesia started from Q3 2020 until Q4 2021, 31 wells are drilled successfully using the Performance-Live service. This reduced headcount from 4 personnel to 3 personnel on board (POB) resulting estimated total of 3.52 metric tons of CO2 emission reduction. Another offshore pilot project in Indonesia for the one-month trial duration in 2021 with the same strategy resulted in the reduction of estimated 0.20 metric tons of CO2 emission. In one of the special projects in the same offshore area, an innovative open-hole drilling using Hydraulic Workover Unit (HWU) is implemented using Performance-Live and combined cabin container unit for DD-M/LWD-Mud Logging as full team collaboration. During this 5-months project, this single combined cabin unit enabled 4 field personnel reductions resulting estimated 4.01 metric tons of CO2 emission reduction. The continuity of this service in Indonesia can be potentially developed by further reduction from 3 to 2 POB (2x DDX with 2x PLE) which may result in double of the CO2 emission reduction, and a pre-prepared BHA model which will minimize POB rig days to reduce further estimated of 18% CO2 emission. This paper presents how the Performance-Live Remote-Operation model contributes to long-term sustainability goals, quantifies the amount of carbon footprint reduction, and speeds up the race toward net zero emissions future accomplishment in Indonesia. This paper will also present strategies for building a digital ecosystem for remote-operations implementation, challenges encountered, and optimization opportunities. DD-M/LWD remote-operations implementation in Indonesia has thus far been successful and will continue expanding to align with the governmentâ€™s net-zero goal.",
         "https://doi.org/10.2118/209896-ms",
         "W4290471442"
        ],
        [
         "5",
         null,
         "smartphones",
         "{\"health care delivery\": {\"CORRELATION\": \"increasing\"}}",
         "[\"E\"]",
         "In the span of a decade, smartphones have gained popularity and acceptance among both patients and physicians thanks to their advantages in health care delivery. However, research investigating mobile patient-provider communication (MPPC) and its impact on patients' lifestyles is only just beginning. Drawing on the pathway model of health communication and mobile technology (MTI) theory, we developed a research model to explore the effect of MPPC on lifestyle improvement, using health empowerment as a mediator and MTI as a moderator. The findings from 432 participants (M",
         "https://doi.org/10.1080/10410236.2024.2402160",
         "W4402456596"
        ],
        [
         "6",
         "Babylon",
         "augmented reality",
         "{\"preservation of archaeological sites\": {\"CORRELATION\": \"increasing\"}}",
         "[\"E\"]",
         "Abstract Archaeological sites have always suffered from loss and degradation due to many human and natural hazards. In recent decades, interest in preserving archaeological sites has increased dramatically. Many modern techniques have emerged from the different disciplines that can be used in preservation works, and a large number of the techniques and their capability made it difficult for decision-makers and specialists to determine the appropriate technique that gives the best results in preserving the archaeological site. The research aims to identify the project needed to preserve the archaeological site and then choose the appropriate technique for it, based on the opinions of experts using the analytic hierarchy process (AHP) method, which helps decision-makers and specialists to choose the most appropriate technology. The archaeological site of Babylon was chosen as a case study. As a result of applying the AHP method, the priority weights of preservation stages for the archaeological site of Babylon were determined as follows: (diagnosis and monitoring 30.8 %), (intervention 21.2 %), and (tourism and media 16.6 %), while the appropriate technique was determined as follows: (infrared thermography 29.4 %), (maintenance 49.3 %), and (augmented reality 38.7 %).",
         "https://doi.org/10.2478/aup-2023-0012",
         "W4386799045"
        ],
        [
         "7",
         null,
         "data centres (DCs)",
         "{\"resource utilization\": {\"CORRELATION\": \"increasing\"}, \"demand for Critical Raw Materials\": {\"CORRELATION\": \"increasing\"}}",
         "[\"E\"]",
         "Data centres (DCs) house data processing and storage equipment. The data centre industry (DCI) is evolving rapidly, as society is becoming more dependent on digital technologies. Currently, there are 7.2 million DCs globally and provision is predicted to grow fivefold by 2030. The sector already utilises millions of tonnes of resources, including Critical Raw Materials, and the demand will only increase. DCI is based on a linear economy; recycling and materials reclamation infrastructure are also inadequate. At the end-of-life, many materials are either lost to landfill, incinerated, or unaccounted for. Furthermore, many virgin materials are located in geopolitically sensitive locations, which poses a threat to the supply chain that the sector relies on. The CEDaCI project aims to increase overall sectoral sustainability by addressing the various technical, cultural, and behavioural barriers across the DCI, such as fragmentation and sole focus on the energy efficiency. This paper describes the whole-systems approach and CEDaCI project outputs, including bespoke Eco-design guidelines, strategies, and digital tools to extend product life and recycling, and enable better decision-making to increase circularity in the DCI, prepare and support implementation of the EU Circular Economy Action Plan and ensure a secure, sustainable resource supply chain.",
         "https://doi.org/10.1051/e3sconf/202234906007",
         "W4293201036"
        ],
        [
         "8",
         null,
         "CEDaCI project",
         "{\"sectoral sustainability\": {\"CORRELATION\": \"increasing\"}, \"circularity in the DCI\": {\"CORRELATION\": \"increasing\"}}",
         "[\"E\"]",
         "Data centres (DCs) house data processing and storage equipment. The data centre industry (DCI) is evolving rapidly, as society is becoming more dependent on digital technologies. Currently, there are 7.2 million DCs globally and provision is predicted to grow fivefold by 2030. The sector already utilises millions of tonnes of resources, including Critical Raw Materials, and the demand will only increase. DCI is based on a linear economy; recycling and materials reclamation infrastructure are also inadequate. At the end-of-life, many materials are either lost to landfill, incinerated, or unaccounted for. Furthermore, many virgin materials are located in geopolitically sensitive locations, which poses a threat to the supply chain that the sector relies on. The CEDaCI project aims to increase overall sectoral sustainability by addressing the various technical, cultural, and behavioural barriers across the DCI, such as fragmentation and sole focus on the energy efficiency. This paper describes the whole-systems approach and CEDaCI project outputs, including bespoke Eco-design guidelines, strategies, and digital tools to extend product life and recycling, and enable better decision-making to increase circularity in the DCI, prepare and support implementation of the EU Circular Economy Action Plan and ensure a secure, sustainable resource supply chain.",
         "https://doi.org/10.1051/e3sconf/202234906007",
         "W4293201036"
        ],
        [
         "9",
         null,
         "Eco-design guidelines, strategies, and digital tools",
         "{\"product life\": {\"CORRELATION\": \"increasing\"}, \"recycling\": {\"CORRELATION\": \"increasing\"}, \"decision-making\": {\"CORRELATION\": \"improving\"}}",
         "[\"E\"]",
         "Data centres (DCs) house data processing and storage equipment. The data centre industry (DCI) is evolving rapidly, as society is becoming more dependent on digital technologies. Currently, there are 7.2 million DCs globally and provision is predicted to grow fivefold by 2030. The sector already utilises millions of tonnes of resources, including Critical Raw Materials, and the demand will only increase. DCI is based on a linear economy; recycling and materials reclamation infrastructure are also inadequate. At the end-of-life, many materials are either lost to landfill, incinerated, or unaccounted for. Furthermore, many virgin materials are located in geopolitically sensitive locations, which poses a threat to the supply chain that the sector relies on. The CEDaCI project aims to increase overall sectoral sustainability by addressing the various technical, cultural, and behavioural barriers across the DCI, such as fragmentation and sole focus on the energy efficiency. This paper describes the whole-systems approach and CEDaCI project outputs, including bespoke Eco-design guidelines, strategies, and digital tools to extend product life and recycling, and enable better decision-making to increase circularity in the DCI, prepare and support implementation of the EU Circular Economy Action Plan and ensure a secure, sustainable resource supply chain.",
         "https://doi.org/10.1051/e3sconf/202234906007",
         "W4293201036"
        ],
        [
         "10",
         "Indonesia, South Sulawesi, Sidrap and Jeneponto Regencies",
         "Internet of Things utilization",
         "{\"wind power implementation\": {\"CORRELATION\": \"increasing\"}}",
         "[\"E\"]",
         "Utilization of renewable energy as an alternative to provide clean energy is one of the priorities of the Sustainable Development Goal, which can reduce the use of carbon emissions. Without the utilization of renewable energy, the results of global carbon dioxide (CO2) emissions are projected to increase until 2030 (IPCC 2014; IEA 2015), global energy demand is expected to double by 2050 compared to 1991 (World Energy Council 2013). In today's world development, there are already thousands of Wind Power Plants (PLTB) or Wind power installed with a maximum capacity of 93,849 MW. Indonesia is one of the countries that has implemented it, also in South Sulawesi recently, namely in Sidrap and Jeneponto Regencies with a capacity of 75 MW and 72 MW respectively. The problem that arises is that the MNC that runs it has asked for an increase in PLN's purchase price for the wind power it produces, but the Government has not granted it, while as many as six million people in Indonesia who still lack access to electricity, especially in remote rural areas, are predicted to see an increase in demand for electricity of around 10% each year. The solution to this is the implementation of several things including the need for Government Policy in considering the economics of wind power plants, namely by making a Law on Renewable Energy including wind power and making a Presidential Regulation on the price of electricity purchased by PLN from companies that produce Renewable Energy including wind power; Transition in Government Practices and Community Institutions for the sustainable progress of humanity and the utilization of technological advances, especially the Internet of Things in Indonesia to help accelerate the implementation of wind power in Indonesia.",
         "https://doi.org/10.54595/jmeb.v4i1.75",
         "W4401671001"
        ],
        [
         "11",
         null,
         "access to information",
         "{\"right to information\": {\"CORRELATION\": \"increasing\"}}",
         "[\"E\"]",
         "As the capacity of technology to deliver information expands, the idea that citizens have a right to information grows. Access to information is, in fact, an issue of the electronic age. Until recently the question of a right to information has largely been an American concern because the development and application of information technology came first in the United States, but with information technology and networks spreading to the rest of the world, the same debates are taking place in other democratic countries. The fundamental issue is essentially the same question as in so many other areas of human need: What is the proper role of the state?",
         "https://doi.org/10.1017/cbo9781139052337.011",
         "W2403236233"
        ],
        [
         "12",
         null,
         "information technology and networks",
         "{\"global debates on information rights\": {\"CORRELATION\": \"increasing\"}}",
         "[\"E\"]",
         "As the capacity of technology to deliver information expands, the idea that citizens have a right to information grows. Access to information is, in fact, an issue of the electronic age. Until recently the question of a right to information has largely been an American concern because the development and application of information technology came first in the United States, but with information technology and networks spreading to the rest of the world, the same debates are taking place in other democratic countries. The fundamental issue is essentially the same question as in so many other areas of human need: What is the proper role of the state?",
         "https://doi.org/10.1017/cbo9781139052337.011",
         "W2403236233"
        ],
        [
         "13",
         "Spain",
         "demand for pharmaceuticals, IT and telecommunications",
         "{\"changes in habits in the wake of the pandemic\": {\"CORRELATION\": \"increasing\"}}",
         "[\"E\"]",
         "Rationale Spanish goods imports grew in 2022 above what could be expected based on their traditional determinants (final demand and price competitiveness). It is therefore worth studying which additional elements underpinned purchases abroad. Takeaways •Energy market tensions caused by the Russian invasion of Ukraine boosted energy imports, due to stockpiling strategies against possible supply problems and for re-export to other EU countries. •Imports of goods with energy-intensive productive processes appear to have benefited from the loss of competitiveness of domestic production resulting from higher energy commodity prices. •The strong import growth also seems to have stemmed from the shift in industrial production towards sectors with a higher import content, the demand for which would have increased due to changes in habits in the wake of the pandemic (e.g. pharmaceuticals, IT and telecommunications) and the recovery in mobility (e.g. textiles).",
         "https://doi.org/10.53479/30069",
         "W4378376870"
        ],
        [
         "14",
         null,
         "social media usage",
         "{\"academic performance\": {\"CORRELATION\": \"decreasing\"}}",
         "[\"E\"]",
         "Accessing social media is common and although concerns have been raised regarding the impact of social media on academic success, research in this area is sparse and inconsistent. Survey responses were collected from 659 undergraduate and graduate students to determine the relationship between social media usage and overall academic performance, as well as explore if this relationship is moderated by attention (regulation of time/study environment) and motivation (effort regulation). Both predictors, social media usage and attention, significantly predicted academic performance. Likewise, when motivation was considered as a predictor, it significantly predicted academic performance above and beyond social media usage. No moderation was found between the three variables. Implications of these relationships are discussed.",
         "https://doi.org/10.1177/1469787418782817",
         "W2809210764"
        ],
        [
         "15",
         "Jammu and Kashmir, Kupwara District, Shumeriyal and Doban Village",
         "communication facilities",
         "{\"development of the village\": {\"CORRELATION\": \"increasing\"}}",
         "[\"E\"]",
         "All forest land area in Jammu and Kashmir is State owned and are under the technical and administrative control of the State Forest Department. The department is, therefore, managing these forests in the interest of the State. The State interest has too often been expressed as an extension of the policies of the State and Central Govt. which usually focus on exploitation of these forests for the overall development of the State, as a result of which the local communities which inhabit the forest under exploitation are marginalized. Participatory Forest Management got its formal shape in the year 1990. A need has arise to evaluate the impact of this management tool. 58 VFCs are functioning both with the Social Forestry projects and the territorial wings of the forest departments for the rehabilitation of the forest land of Kupwara District. A study was taken up in Shumeriyal and Doban Village committees to assess the impact of Joint Forest Management on the socio-economic development of rural people and to identify the prime ingredients of this programme responsible for bringing about the desired change. It was observed that the household income has considerable increased due to alternative job opportunities, agriculture production has increased, reduction in distance travelled and time spent for fuelwood and fodder collection and institution building and other constructions (Entry point activities) has paved the way for sustainability of the whole process. For the present study, the two VFCs selected, one VFC (Shumeriyal) which is only 6 kms from the district headquarter Kupwara having the population of 5800 souls and the another VFC (Doban) which is near about 60 kms away from the district headquarter having population of 2740 souls. During the present study it was observed that the Shumeriyal village is more developed than that of Doban village due to proper transport facilities, communication facilities, land productivity, drainage system, education and employment, During the present study it was observed that the forest villages which are near to the District headquarter are well developed than those areas which are far beyond the District headquarter.",
         "https://doi.org/10.54207/bsmps1000-2012-e00txt",
         "W4298474022"
        ],
        [
         "16",
         null,
         "ICT utilization program",
         "{\"device use anxiety\": {\"CORRELATION\": \"decreasing\"}, \"health-related quality of life\": {\"CORRELATION\": \"increasing\"}, \"social participation\": {\"CORRELATION\": \"increasing\"}}",
         "[\"E\", \"J\"]",
         "Purpose: With the aging of the population and the development of information and communication technology (ICT) infrastructure and education systems, methods to maintain social networks among the older adults are attracting attention. In this study, familiar leisure activities were introduced into the process of learning how to use devices, as anxiety about using devices has been considered one of the factors that hinder the spread of ICT among older adults. This study aimed to explore the effects of an ICT utilization program on device use anxiety and health-related quality of life quality and how ICT use affects social participation. Participants and Methods: Twenty-two community-dwelling older adults participated in a social network service group exchange for 1 month, and a questionnaire survey was conducted on ICT utilization and WHO-5 before and after the program. From the survey, we examined the effects of ICT use on older adults anxiety about device use and life satisfaction. Results: Before and after the program, a change in the WHO-5 total score and anxiety about using a device was found. In addition, not only positive opinions were heard regarding the impressions of the program, but many wished to continue the program in the future. Conclusion: In this study, we confirmed that a style in which participants naturally learn how to use a device while interacting with each other based on themes that include elements of enjoyment leads to a reduction in anxiety about device use and increase the degree of satisfaction.",
         "https://doi.org/10.33790/jrpr1100135",
         "W4313130325"
        ],
        [
         "17",
         null,
         "information technology growth and innovation in electronic component and data center equipment",
         "{\"demand of data center providing and performance\": {\"CORRELATION\": \"increasing\"}}",
         "[\"E\"]",
         "The rapid growth in the information technology in many sectors and innovation in the supporting electronic component and data center equipment, has led the increasing demand of the data center providing and performance. The conditions directly implicate to the increasing of power consumption and heat load density. The cooling system takes critical mission to provide the environment of data center for the equipment working properly. Unfortunately, the power consumption of the cooling system increase along with the increasing of server density. Data center requires three to five times higher cooling capacity for the same space area than the cooling system for office building. Improvement in the cooling system of data center will give significant benefit to the energy efficiency. Heat dissipation from the component inside the equipment is the major heat load for the cooling system. Investigation of the effective cooling inside the equipment is an important part for the optimization of cooling system. In this paper, authors attempt to summarize the problem of energy usage in the cooling system of data center and interest to look for opportunity for energy efficiency.",
         null,
         "W126362568"
        ],
        [
         "18",
         null,
         "cooling system in data center",
         "{\"power consumption\": {\"CORRELATION\": \"increasing\"}, \"heat load density\": {\"CORRELATION\": \"increasing\"}, \"energy efficiency\": {\"CORRELATION\": \"increasing\"}}",
         "[\"E\"]",
         "The rapid growth in the information technology in many sectors and innovation in the supporting electronic component and data center equipment, has led the increasing demand of the data center providing and performance. The conditions directly implicate to the increasing of power consumption and heat load density. The cooling system takes critical mission to provide the environment of data center for the equipment working properly. Unfortunately, the power consumption of the cooling system increase along with the increasing of server density. Data center requires three to five times higher cooling capacity for the same space area than the cooling system for office building. Improvement in the cooling system of data center will give significant benefit to the energy efficiency. Heat dissipation from the component inside the equipment is the major heat load for the cooling system. Investigation of the effective cooling inside the equipment is an important part for the optimization of cooling system. In this paper, authors attempt to summarize the problem of energy usage in the cooling system of data center and interest to look for opportunity for energy efficiency.",
         null,
         "W126362568"
        ],
        [
         "19",
         null,
         "improvement in the cooling system of data center",
         "{\"energy efficiency\": {\"CORRELATION\": \"increasing\"}}",
         "[\"E\"]",
         "The rapid growth in the information technology in many sectors and innovation in the supporting electronic component and data center equipment, has led the increasing demand of the data center providing and performance. The conditions directly implicate to the increasing of power consumption and heat load density. The cooling system takes critical mission to provide the environment of data center for the equipment working properly. Unfortunately, the power consumption of the cooling system increase along with the increasing of server density. Data center requires three to five times higher cooling capacity for the same space area than the cooling system for office building. Improvement in the cooling system of data center will give significant benefit to the energy efficiency. Heat dissipation from the component inside the equipment is the major heat load for the cooling system. Investigation of the effective cooling inside the equipment is an important part for the optimization of cooling system. In this paper, authors attempt to summarize the problem of energy usage in the cooling system of data center and interest to look for opportunity for energy efficiency.",
         null,
         "W126362568"
        ],
        [
         "20",
         null,
         "effective cooling inside the equipment",
         "{\"optimization of cooling system\": {\"CORRELATION\": \"increasing\"}}",
         "[\"E\"]",
         "The rapid growth in the information technology in many sectors and innovation in the supporting electronic component and data center equipment, has led the increasing demand of the data center providing and performance. The conditions directly implicate to the increasing of power consumption and heat load density. The cooling system takes critical mission to provide the environment of data center for the equipment working properly. Unfortunately, the power consumption of the cooling system increase along with the increasing of server density. Data center requires three to five times higher cooling capacity for the same space area than the cooling system for office building. Improvement in the cooling system of data center will give significant benefit to the energy efficiency. Heat dissipation from the component inside the equipment is the major heat load for the cooling system. Investigation of the effective cooling inside the equipment is an important part for the optimization of cooling system. In this paper, authors attempt to summarize the problem of energy usage in the cooling system of data center and interest to look for opportunity for energy efficiency.",
         null,
         "W126362568"
        ],
        [
         "21",
         null,
         "digitalisation of societies",
         "{\"data on consumers\": {\"CORRELATION\": \"increasing\"}}",
         "[\"E\"]",
         "There is growing interest in consumer health related to food, behaviourand lifestyle determinants. At the same time, digitalisation of societies creates newsets of data on consumers. A major drivin ...",
         null,
         "W2787687649"
        ],
        [
         "22",
         "288 prefecture-level cities in China",
         "information communication technology",
         "{\"haze pollution\": {\"CORRELATION\": \"decreasing\"}}",
         "[\"E\"]",
         "Haze pollution impacts human health, as well as the competitive capabilities of firms and local economic development. Considerable attention has been given to the study of mechanisms for reducing haze pollution, but few studies have investigated the effect of city-to-city transportation infrastructures on environmental issues based on an institutional perspective. To address this research gap, this study advances our understanding by assessing the effect of city–to–city transportation on haze pollution caused by the operation of high-speed rail, which triggers the rapid flow of individuals and information, improves information transparency, as well as imposes institutional pressure on local governments and firms to reduce haze pollution. To further verify the underlying mechanisms, we tested the development of hard infrastructure (information communication technology) and soft infrastructure (market development level), which represent two conditions for which the mechanism is likely to be critical. We tested our hypotheses using a sample of 288 prefecture-level cities in China during the period from 2005 to 2016. The empirical results indicate that the operation of high-speed rail can reduce haze pollution by 17% on average.",
         "https://doi.org/10.3390/su12072763",
         "W3015008118"
        ],
        [
         "23",
         null,
         "digital technologies",
         "{\"human rights\": {\"CORRELATION\": \"neutral\"}, \"rights and freedoms of man and citizen\": {\"CORRELATION\": \"neutral\"}}",
         "[\"E\"]",
         "Aspects of the application of digital technologies are examined, in particular, their impact on human rights. The current content of digital technology law is analyzed in terms of the real possibility of realizing the rights and freedoms of man and citizen, including in complex information systems. The conclusion is drawn on the need to analyze the application of technology with a view to achieving a balance of possible benefi ts for society and potential violations of human rights, as well as taking measures to regulate such use, in particular, documentation. Thus, it is possible to leave the possibility of real realization of human rights.",
         null,
         "W3037794653"
        ],
        [
         "24",
         null,
         "documentation",
         "{\"human rights\": {\"CORRELATION\": \"increasing\"}}",
         "[\"E\"]",
         "Aspects of the application of digital technologies are examined, in particular, their impact on human rights. The current content of digital technology law is analyzed in terms of the real possibility of realizing the rights and freedoms of man and citizen, including in complex information systems. The conclusion is drawn on the need to analyze the application of technology with a view to achieving a balance of possible benefi ts for society and potential violations of human rights, as well as taking measures to regulate such use, in particular, documentation. Thus, it is possible to leave the possibility of real realization of human rights.",
         null,
         "W3037794653"
        ],
        [
         "25",
         "Bekasi",
         "Shopping Lifestyle",
         "{\"Impulse Buying\": {\"CORRELATION\": \"increasing\"}}",
         "[\"E\"]",
         "The purpose of this study was to determine the effect of Shopping Lifestyle, Fashion Involvement and Sales Promotion on Impulse Buying with Positive Emotion as an Intervening Variable in the Consumer of Bukalapak Online Shop in Bekasi. Data collection techniques with distributing questionnaires base",
         "https://doi.org/10.4108/eai.3-10-2020.2306591",
         "W3167293510"
        ],
        [
         "26",
         "Bekasi",
         "Fashion Involvement",
         "{\"Impulse Buying\": {\"CORRELATION\": \"increasing\"}}",
         "[\"E\"]",
         "The purpose of this study was to determine the effect of Shopping Lifestyle, Fashion Involvement and Sales Promotion on Impulse Buying with Positive Emotion as an Intervening Variable in the Consumer of Bukalapak Online Shop in Bekasi. Data collection techniques with distributing questionnaires base",
         "https://doi.org/10.4108/eai.3-10-2020.2306591",
         "W3167293510"
        ],
        [
         "27",
         "Bekasi",
         "Sales Promotion",
         "{\"Impulse Buying\": {\"CORRELATION\": \"increasing\"}}",
         "[\"E\"]",
         "The purpose of this study was to determine the effect of Shopping Lifestyle, Fashion Involvement and Sales Promotion on Impulse Buying with Positive Emotion as an Intervening Variable in the Consumer of Bukalapak Online Shop in Bekasi. Data collection techniques with distributing questionnaires base",
         "https://doi.org/10.4108/eai.3-10-2020.2306591",
         "W3167293510"
        ],
        [
         "28",
         "South Asia",
         "common satellite in South Asian Association for Regional Co-operation (SAARC)",
         "{\"weather forecasting\": {\"CORRELATION\": \"increasing\"}, \"disaster risk reduction\": {\"CORRELATION\": \"increasing\"}, \"crop harvest projections\": {\"CORRELATION\": \"increasing\"}}",
         "[\"E\"]",
         "All countries are vulnerable to natural disasters. While this may not be avoidable the impacts on affected populations can be minimized through implementing an efficient disaster management policy. This is particularly significant given that the cost to human life and the economy rises each year, regardless of how many natural disasters occur per annum. \nThe tropical region of South Asia with non-linear processes need denser network of observations. What is presently available in South Asia is hardly 20-30 percent of these requirements. An extremely high-risk region is in fact poorly populated by the observational networks. The idea is of a common satellite in South Asian Association for Regional Co-operation (SAARC) whose members are Afghanistan, Bangladesh, Bhutan, India, the Maldives, Nepal, Pakistan and Sri Lanka. All South Asian countries share common geophysical, meteorological and oceanographic factors. Space-based platforms can provide trans-boundary perspectives invaluable for more accurate weather forecasting, disaster risk reduction, crop harvest projections and other purposes. \nMany challenges still remain before these satellite applications can be made widely accessible to all nations for disaster management. This paper identifies ongoing challenges in space policy and law, correlating remote sensing practices, and data sharing issues for humanitarian relief following natural disasters. This paper concludes that, a new policy framework should be developed specific to the application of satellite technologies for real time sharing of regional satellite data is especially critical in disaster risk reduction.",
         null,
         "W2610618513"
        ],
        [
         "29",
         "South Asia",
         "new policy framework specific to the application of satellite technologies",
         "{\"real time sharing of regional satellite data\": {\"CORRELATION\": \"increasing\"}, \"disaster risk reduction\": {\"CORRELATION\": \"increasing\"}}",
         "[\"E\", \"K\"]",
         "All countries are vulnerable to natural disasters. While this may not be avoidable the impacts on affected populations can be minimized through implementing an efficient disaster management policy. This is particularly significant given that the cost to human life and the economy rises each year, regardless of how many natural disasters occur per annum. \nThe tropical region of South Asia with non-linear processes need denser network of observations. What is presently available in South Asia is hardly 20-30 percent of these requirements. An extremely high-risk region is in fact poorly populated by the observational networks. The idea is of a common satellite in South Asian Association for Regional Co-operation (SAARC) whose members are Afghanistan, Bangladesh, Bhutan, India, the Maldives, Nepal, Pakistan and Sri Lanka. All South Asian countries share common geophysical, meteorological and oceanographic factors. Space-based platforms can provide trans-boundary perspectives invaluable for more accurate weather forecasting, disaster risk reduction, crop harvest projections and other purposes. \nMany challenges still remain before these satellite applications can be made widely accessible to all nations for disaster management. This paper identifies ongoing challenges in space policy and law, correlating remote sensing practices, and data sharing issues for humanitarian relief following natural disasters. This paper concludes that, a new policy framework should be developed specific to the application of satellite technologies for real time sharing of regional satellite data is especially critical in disaster risk reduction.",
         null,
         "W2610618513"
        ],
        [
         "30",
         "Greater Manchester, England",
         "social media use",
         "{\"internalising symptoms\": {\"CORRELATION\": \"neutral\"}}",
         "[\"E\"]",
         "Background: The effects of adolescent digital technology use (e.g. social media, gaming) on their mental health are a major public health concern, but existing evidence is of mixed quality and findings have been inconclusive. Methods: Separating within-person effects from between-person effects, a random-intercept cross-lagged panel model (RI-CLPM) was applied to three annual waves of data (T1, T2, T3) on social media use, gaming and internalising symptoms among N=25,629 adolescents (51% girls, average age 12 years, 7 months (SD = 3.58 months) at baseline) in Greater Manchester, England. Results: Longitudinal relationships varied by gender, such that more frequent gaming at T2 predicted less time spent on social media use at T3 in girls (but not boys) and, more frequent internalising symptoms at T2 predicted reductions in gaming frequency at T3 in boys (but not girls). There was no evidence that time spent on social media or gaming frequency predicted later internalising symptoms among girls or boys. Sensitivity analyses which distinguished active versus passive social media use replicated these findings. Conclusions: The findings of this study do not support the widely held view that adolescent technology use is a major causal factor in their mental health difficulties.",
         "https://doi.org/10.31234/osf.io/xv76f_v1",
         "W4407493560"
        ],
        [
         "31",
         "Greater Manchester, England",
         "gaming",
         "{\"internalising symptoms\": {\"CORRELATION\": \"neutral\"}, \"social media use\": {\"CORRELATION\": \"decreasing\"}}",
         "[\"E\"]",
         "Background: The effects of adolescent digital technology use (e.g. social media, gaming) on their mental health are a major public health concern, but existing evidence is of mixed quality and findings have been inconclusive. Methods: Separating within-person effects from between-person effects, a random-intercept cross-lagged panel model (RI-CLPM) was applied to three annual waves of data (T1, T2, T3) on social media use, gaming and internalising symptoms among N=25,629 adolescents (51% girls, average age 12 years, 7 months (SD = 3.58 months) at baseline) in Greater Manchester, England. Results: Longitudinal relationships varied by gender, such that more frequent gaming at T2 predicted less time spent on social media use at T3 in girls (but not boys) and, more frequent internalising symptoms at T2 predicted reductions in gaming frequency at T3 in boys (but not girls). There was no evidence that time spent on social media or gaming frequency predicted later internalising symptoms among girls or boys. Sensitivity analyses which distinguished active versus passive social media use replicated these findings. Conclusions: The findings of this study do not support the widely held view that adolescent technology use is a major causal factor in their mental health difficulties.",
         "https://doi.org/10.31234/osf.io/xv76f_v1",
         "W4407493560"
        ],
        [
         "32",
         "Brisbane",
         "GPS and camera-equipped mobile devices",
         "{\"volunteered information production\": {\"CORRELATION\": \"increasing\"}}",
         "[\"E\"]",
         "Much flood destruction is due to humans’ desire to live near water. Accordingly, there is a need for accurate flood extent maps, so that we may be prepared for repeat flood events. The advent of the internet, coupled with the proliferation of GPS and camera-equipped mobile devices has led to a marked increase in the production of volunteered information. Flood extent mapping may benefit from additional sources of data, which could be provided by these devices.\n\nThis project developed the mapping of flood extents from volunteered photography and other available data. The specific objectives were to:\n Research existing flood extent creation methods.\n Collect private media featuring the 2011 Brisbane flood high-water mark.\n Collect a topography Digital Elevation Model (DEM) of the target area.\n Create a series of 3D points from the high-water marks.\n Process collected points to create a TIN model; intersect this with topography TIN model to arrive at extent map.\n Compare and document produced extent map to that released by the Surveying and Spatial Sciences Institute (SSSI).\n\nThe online photography site flickr provided the majority of the flood imagery. Most of these marks were able to be collected using RTK GPS. Two topography models were obtained, and three Triangulated Irregular Network (TIN) models created from the collected points. A total of five extent maps were created. This study concluded that volunteered photographs were well suited as a source of additional data to create a flood extent map. It also found that the accuracy of the produced extent map is greatly influenced by the accuracy of the topography DEM used. For best results, the topography DEM should be at least as accurate as the collected data. Advances in photogrammetry software or mobile device-based GPS may greatly automate the collection of flood levels in the future.",
         null,
         "W1588303354"
        ],
        [
         "33",
         "Brisbane",
         "photogrammetry software or mobile device-based GPS",
         "{\"collection of flood levels automation\": {\"CORRELATION\": \"increasing\"}}",
         "[\"E\"]",
         "Much flood destruction is due to humans’ desire to live near water. Accordingly, there is a need for accurate flood extent maps, so that we may be prepared for repeat flood events. The advent of the internet, coupled with the proliferation of GPS and camera-equipped mobile devices has led to a marked increase in the production of volunteered information. Flood extent mapping may benefit from additional sources of data, which could be provided by these devices.\n\nThis project developed the mapping of flood extents from volunteered photography and other available data. The specific objectives were to:\n Research existing flood extent creation methods.\n Collect private media featuring the 2011 Brisbane flood high-water mark.\n Collect a topography Digital Elevation Model (DEM) of the target area.\n Create a series of 3D points from the high-water marks.\n Process collected points to create a TIN model; intersect this with topography TIN model to arrive at extent map.\n Compare and document produced extent map to that released by the Surveying and Spatial Sciences Institute (SSSI).\n\nThe online photography site flickr provided the majority of the flood imagery. Most of these marks were able to be collected using RTK GPS. Two topography models were obtained, and three Triangulated Irregular Network (TIN) models created from the collected points. A total of five extent maps were created. This study concluded that volunteered photographs were well suited as a source of additional data to create a flood extent map. It also found that the accuracy of the produced extent map is greatly influenced by the accuracy of the topography DEM used. For best results, the topography DEM should be at least as accurate as the collected data. Advances in photogrammetry software or mobile device-based GPS may greatly automate the collection of flood levels in the future.",
         null,
         "W1588303354"
        ],
        [
         "34",
         "Europe",
         "technology and digitalisation",
         "{\"resource efficiency\": {\"CORRELATION\": \"increasing\"}, \"environmental burdens\": {\"CORRELATION\": \"minimising\"}}",
         "[\"E\"]",
         "Abstract The war in Ukraine has brought the challenges stemming from Europe’s dependency on natural gas and oil imports into sharp focus. This has also highlighted another dependency – that on raw materials that are critical for the EU’s transition to a low-carbon economy. A strategic approach to raw material management can help negate the risks posed by a dependency on imports of critical raw materials. Improving resource efficiency is also necessary to achieve a low-carbon economy and sustain socio-economic progress in the face of finite natural resources. This Forum highlights the progress currently being made in geopolitical, economic and environmental areas and looks at the main constraints to the circular economy agenda where targeted solutions are needed. What is currently being done to decouple material consumption from welfare creation and use resources more efficiently? To what extent can recycling prolong the use of natural resources? Which measures can transform current business models into circular business models? How can technology and digitalisation be used to improve resource efficiency while minimising environmental burdens? Can knowledge transfer be used in addressing the complexity of the transition to a circular economy?",
         "https://doi.org/10.2478/ie-2023-0014",
         "W4380790478"
        ],
        [
         "35",
         "Brazil",
         "mass media campaigns",
         "{\"overweight\": {\"CORRELATION\": \"decreasing\"}}",
         "[\"E\"]",
         "Overweight is a growing public health challenge in Brazil, with over half of the population overweight in 2016. Brazilians have unhealthier food consumption habits than OECD countries, while the prevalence of insufficient physical activity has increased more rapidly in Brazil than elsewhere over the past decades. Brazil has started to address the issue of overweight in a number of policies and interventions, including a food labelling scheme and school-based policies such as the Programa Saúde na Escola. While these are valuable strategies, Brazil could aim for a more ambitious multi-sectoral and comprehensive response. Brazil should better influence lifestyles through information and education programmes such as introducing menu labelling in restaurants, mass media campaigns, and promoting prescription of physical activity by family health teams. Brazil should also pursue food reformulation more actively, developing workplace or transport policies, while regulating food and beverage advertising particularly for children.",
         "https://doi.org/10.1787/a845c0b6-en",
         "W4400714014"
        ],
        [
         "36",
         "Brazil",
         "regulating food and beverage advertising particularly for children",
         "{\"overweight\": {\"CORRELATION\": \"decreasing\"}}",
         "[\"E\"]",
         "Overweight is a growing public health challenge in Brazil, with over half of the population overweight in 2016. Brazilians have unhealthier food consumption habits than OECD countries, while the prevalence of insufficient physical activity has increased more rapidly in Brazil than elsewhere over the past decades. Brazil has started to address the issue of overweight in a number of policies and interventions, including a food labelling scheme and school-based policies such as the Programa Saúde na Escola. While these are valuable strategies, Brazil could aim for a more ambitious multi-sectoral and comprehensive response. Brazil should better influence lifestyles through information and education programmes such as introducing menu labelling in restaurants, mass media campaigns, and promoting prescription of physical activity by family health teams. Brazil should also pursue food reformulation more actively, developing workplace or transport policies, while regulating food and beverage advertising particularly for children.",
         "https://doi.org/10.1787/a845c0b6-en",
         "W4400714014"
        ],
        [
         "37",
         null,
         "information and communication technologies (ICTs)",
         "{\"communication practices\": {\"CORRELATION\": \"increasing\"}, \"freedom of expression\": {\"CORRELATION\": \"increasing\"}, \"civil society participation\": {\"CORRELATION\": \"increasing\"}}",
         "[\"E\"]",
         "The tremendous developments in information and communication technologies (ICTs) over the last 20 years have substantially changed communication practices across the world. The Internet and mobile phones help to open new horizons for connections between people, leading to a global network for the sharing of information and ideas. In this new environment, human rights need to have a place, and traditional notions related to mass media need to be adapted to the needs of civil society. Freedom of expression has become much more individualistic, with information exchanges no longer relying on the traditional intermediaries (mass media) but on the exchange of ideas on social networking and other platforms. Civil society participation in the information world requires the necessary infrastructure however. And since states have an obligation to see to it that human rights are realized in practice, this may mean the facilitation of private investments to improve the ICT infrastructure. In this context, ICT policies favoring human rights must encompass a right to development.",
         "https://doi.org/10.4018/978-1-4666-1918-0.ch002",
         "W2504260645"
        ],
        [
         "38",
         null,
         "Internet and mobile phones",
         "{\"connections between people\": {\"CORRELATION\": \"increasing\"}, \"sharing of information and ideas\": {\"CORRELATION\": \"increasing\"}}",
         "[\"E\"]",
         "The tremendous developments in information and communication technologies (ICTs) over the last 20 years have substantially changed communication practices across the world. The Internet and mobile phones help to open new horizons for connections between people, leading to a global network for the sharing of information and ideas. In this new environment, human rights need to have a place, and traditional notions related to mass media need to be adapted to the needs of civil society. Freedom of expression has become much more individualistic, with information exchanges no longer relying on the traditional intermediaries (mass media) but on the exchange of ideas on social networking and other platforms. Civil society participation in the information world requires the necessary infrastructure however. And since states have an obligation to see to it that human rights are realized in practice, this may mean the facilitation of private investments to improve the ICT infrastructure. In this context, ICT policies favoring human rights must encompass a right to development.",
         "https://doi.org/10.4018/978-1-4666-1918-0.ch002",
         "W2504260645"
        ],
        [
         "39",
         null,
         "ICT policies favoring human rights",
         "{\"human rights\": {\"CORRELATION\": \"increasing\"}, \"right to development\": {\"CORRELATION\": \"increasing\"}}",
         "[\"E\"]",
         "The tremendous developments in information and communication technologies (ICTs) over the last 20 years have substantially changed communication practices across the world. The Internet and mobile phones help to open new horizons for connections between people, leading to a global network for the sharing of information and ideas. In this new environment, human rights need to have a place, and traditional notions related to mass media need to be adapted to the needs of civil society. Freedom of expression has become much more individualistic, with information exchanges no longer relying on the traditional intermediaries (mass media) but on the exchange of ideas on social networking and other platforms. Civil society participation in the information world requires the necessary infrastructure however. And since states have an obligation to see to it that human rights are realized in practice, this may mean the facilitation of private investments to improve the ICT infrastructure. In this context, ICT policies favoring human rights must encompass a right to development.",
         "https://doi.org/10.4018/978-1-4666-1918-0.ch002",
         "W2504260645"
        ],
        [
         "40",
         "northern Utah",
         "custom smartphone application",
         "{\"behavioral change\": {\"CORRELATION\": \"increasing\"}}",
         "[\"E\"]",
         "Abstract Introduction Most Alzheimer's disease (AD) prevention studies focus on older adults or persons with existing cognitive impairment. This study describes the design and progress of a novel pilot intervention, the Gray Matters study. Methods This proof‐of‐concept randomized controlled trial tests an evidence‐based multidomain lifestyle intervention in 146 persons aged 40 to 64 years, in northern Utah. Data collectors were blinded to participants' randomization to treatment (n = 104) or control (n = 42). Intervention targeted physical activity, food choices, social engagement, cognitive simulation, sleep quality, and stress management, and uses a custom smartphone application, activity monitor, and educational materials. Secondary outcomes include biomarkers, body mass index, cognitive testing, and psychological surveys. Results Midway through the study, achievements include a 98.7% retention rate, a 96% rate of compliance with app data entry, and positive trends in behavioral change. Discussion Participants were empowered, learning that lifestyle might impact AD risk, exhibiting positive behavioral changes thus far.",
         "https://doi.org/10.1016/j.trci.2015.05.001",
         "W1570360045"
        ],
        [
         "41",
         "northern Utah",
         "activity monitor",
         "{\"behavioral change\": {\"CORRELATION\": \"increasing\"}}",
         "[\"E\"]",
         "Abstract Introduction Most Alzheimer's disease (AD) prevention studies focus on older adults or persons with existing cognitive impairment. This study describes the design and progress of a novel pilot intervention, the Gray Matters study. Methods This proof‐of‐concept randomized controlled trial tests an evidence‐based multidomain lifestyle intervention in 146 persons aged 40 to 64 years, in northern Utah. Data collectors were blinded to participants' randomization to treatment (n = 104) or control (n = 42). Intervention targeted physical activity, food choices, social engagement, cognitive simulation, sleep quality, and stress management, and uses a custom smartphone application, activity monitor, and educational materials. Secondary outcomes include biomarkers, body mass index, cognitive testing, and psychological surveys. Results Midway through the study, achievements include a 98.7% retention rate, a 96% rate of compliance with app data entry, and positive trends in behavioral change. Discussion Participants were empowered, learning that lifestyle might impact AD risk, exhibiting positive behavioral changes thus far.",
         "https://doi.org/10.1016/j.trci.2015.05.001",
         "W1570360045"
        ],
        [
         "42",
         null,
         "cloud radio access network (C-RAN) architecture",
         "{\"energy efficiency (EE)\": {\"CORRELATION\": \"increasing\"}}",
         "[\"E\"]",
         "The aggregate power supply of solar photovoltaic (PV) and diesel generator (DG) is an attractive solution for the next generation off-grid cellular network where the electricity is not available. In this paper, we emphasized on energy efficiency (EE) for cloud radio access network (C-RAN) architecture in the context of 5G cellular networks with hybrid supply. The intermittent nature of PV generation is counter balanced by the DG supply which has emerged as a promising option for energy sustainability. The prime aim is to maximum utilization of green energy harvested from installed PV panels for greener the envisioned network. In addition, the environmental effect such as carbon footprint has been comprehensively analyzed by varying solar capacity. An extensive simulation has been carried out for evaluating EE performance of the proposed network varying different system parameters such as transmission power, solar module capacity in consideration of the real traffic demand. Numerical results justify the effectiveness of the proposed scheme.",
         "https://doi.org/10.1109/iciset.2018.8745631",
         "W2955653144"
        ],
        [
         "43",
         "Mysuru city, Karnataka",
         "screen time use",
         "{\"sleep quality\": {\"CORRELATION\": \"decreasing\"}}",
         "[\"E\"]",
         "Background: India houses the largest population of adolescents globally, with an estimated 253 million individuals between the ages of 10 to 19 years. Modifiable lifestyle behaviors such as physical activity, screen time use, and sleep patterns are important components of healthy life and have an impact on behavioral outcomes, performance-based outcomes, mental and emotional well-being, and the physical health of adolescents. The purpose of this study was to assess sleep quality and to determine its association with screen time and physical activity among adolescents. Methods: A cross-sectional study was conducted among 317 study participants in Mysuru city, Karnataka. Convenience sampling technique was used for data collection. Descriptive statistics and association were analyzed using statistical package for the social sciences (SPSS) version 22. Results: The study found 22.1% prevalence of poor sleep quality among study participants in Mysuru city, Karnataka. The average levels of screen times were higher on weekend than weekday. Moreover, specific types of screen time, such as small screen recreation on weekends and education and social activities on weekdays, were associated with poorer sleep quality. The study also observed physical activity, particularly during leisure time and travel is significantly associated with sleep quality. Conclusions: The prevalence of poor sleep quality among study participants was significantly higher. Maintaining healthy sleep habits, incorporating yoga, meditation, or physical activity can effectively relax the mind and should be promoted in schools, and limiting the use of electronic devices before bedtime is crucial for improving sleep quality.",
         "https://doi.org/10.18203/2394-6040.ijcmph20242890",
         "W4402950350"
        ],
        [
         "44",
         "Mysuru city, Karnataka",
         "limiting the use of electronic devices before bedtime",
         "{\"sleep quality\": {\"CORRELATION\": \"increasing\"}}",
         "[\"E\"]",
         "Background: India houses the largest population of adolescents globally, with an estimated 253 million individuals between the ages of 10 to 19 years. Modifiable lifestyle behaviors such as physical activity, screen time use, and sleep patterns are important components of healthy life and have an impact on behavioral outcomes, performance-based outcomes, mental and emotional well-being, and the physical health of adolescents. The purpose of this study was to assess sleep quality and to determine its association with screen time and physical activity among adolescents. Methods: A cross-sectional study was conducted among 317 study participants in Mysuru city, Karnataka. Convenience sampling technique was used for data collection. Descriptive statistics and association were analyzed using statistical package for the social sciences (SPSS) version 22. Results: The study found 22.1% prevalence of poor sleep quality among study participants in Mysuru city, Karnataka. The average levels of screen times were higher on weekend than weekday. Moreover, specific types of screen time, such as small screen recreation on weekends and education and social activities on weekdays, were associated with poorer sleep quality. The study also observed physical activity, particularly during leisure time and travel is significantly associated with sleep quality. Conclusions: The prevalence of poor sleep quality among study participants was significantly higher. Maintaining healthy sleep habits, incorporating yoga, meditation, or physical activity can effectively relax the mind and should be promoted in schools, and limiting the use of electronic devices before bedtime is crucial for improving sleep quality.",
         "https://doi.org/10.18203/2394-6040.ijcmph20242890",
         "W4402950350"
        ],
        [
         "45",
         "North-East India",
         "raising awareness by global mass media",
         "{\"public awareness\": {\"CORRELATION\": \"increasing\"}}",
         "[\"E\"]",
         "Environmental problems, global climate change, and democracy are related phenomena. Global climate change, which shows up as weather extremes and altered rainfall patterns, exacerbates a number of environmental problems, including energy security, deforestation, land use changes, biodiversity loss, soil degradation, and water scarcity. Natural resources, food security, economic activity, and human health together with physical infrastructure are all significantly impacted by climate change. Furthermore, the complicated socioeconomic and cultural dynamics of the area are frequently overlooked by the conservation framework, which can hinder conservation efforts by causing disputes with nearby communities. Integrating traditional knowledge and practices, equitable benefit distribution, and local community awareness and participation in conservation programs should all be given top priority in this framework. The region is impacted by transboundary issues such as sea level rise, illegal wildlife and timber trade, changing rainfall patterns, and rising temperatures. Energy security in democracies necessitates the viability of legislative measures pertaining to carbon prices and caps, which are politically difficult due to higher emission taxes and limits. Democracy in carbon/energy demands using renewable biobased feedstocks while allowing for public choice and participation. A thorough conservation framework considering the region's distinct socioeconomic and cultural features must be created to address these issues. Therefore, it is worthwhile to study the raising awareness by global mass media in several policy frameworks and conservation, climate change impacts on vulnerable communities, inadequate funding for conservation programs, weak implementation together with enforcement of environmental regulations, insufficient coordination among different agencies and stakeholders, regional and transboundary international cooperation, and energy security with emphasis on North-East India to ensure the United Nations Sustainable development goals. In order to combat global climate change in democracies, the chapter focuses on environmental issues including energy democracy and the role of mass media in fostering public awareness, advocating for public policy, rallying support, and facilitating action. A framework pertaining to a democratic and inclusive climate change response is also presented in this chapter, with a focus on North-East India.",
         "https://doi.org/10.1007/978-3-031-55408-7_11",
         "W4396689269"
        ],
        [
         "46",
         "North-East India",
         "role of mass media in fostering public awareness",
         "{\"public awareness\": {\"CORRELATION\": \"increasing\"}}",
         "[\"E\"]",
         "Environmental problems, global climate change, and democracy are related phenomena. Global climate change, which shows up as weather extremes and altered rainfall patterns, exacerbates a number of environmental problems, including energy security, deforestation, land use changes, biodiversity loss, soil degradation, and water scarcity. Natural resources, food security, economic activity, and human health together with physical infrastructure are all significantly impacted by climate change. Furthermore, the complicated socioeconomic and cultural dynamics of the area are frequently overlooked by the conservation framework, which can hinder conservation efforts by causing disputes with nearby communities. Integrating traditional knowledge and practices, equitable benefit distribution, and local community awareness and participation in conservation programs should all be given top priority in this framework. The region is impacted by transboundary issues such as sea level rise, illegal wildlife and timber trade, changing rainfall patterns, and rising temperatures. Energy security in democracies necessitates the viability of legislative measures pertaining to carbon prices and caps, which are politically difficult due to higher emission taxes and limits. Democracy in carbon/energy demands using renewable biobased feedstocks while allowing for public choice and participation. A thorough conservation framework considering the region's distinct socioeconomic and cultural features must be created to address these issues. Therefore, it is worthwhile to study the raising awareness by global mass media in several policy frameworks and conservation, climate change impacts on vulnerable communities, inadequate funding for conservation programs, weak implementation together with enforcement of environmental regulations, insufficient coordination among different agencies and stakeholders, regional and transboundary international cooperation, and energy security with emphasis on North-East India to ensure the United Nations Sustainable development goals. In order to combat global climate change in democracies, the chapter focuses on environmental issues including energy democracy and the role of mass media in fostering public awareness, advocating for public policy, rallying support, and facilitating action. A framework pertaining to a democratic and inclusive climate change response is also presented in this chapter, with a focus on North-East India.",
         "https://doi.org/10.1007/978-3-031-55408-7_11",
         "W4396689269"
        ],
        [
         "47",
         null,
         "media campaigns and branding",
         "{\"young people's sexual health knowledge\": {\"CORRELATION\": \"increasing\"}}",
         "[\"E\"]",
         "Theoretically, there may be benefit in augmenting school-based sexual health education with sexual health services, but the outcomes are poorly understood. Healthy Respect 2 (HR2) combined sex education with youth-friendly sexual health services, media campaigns and branding, and encouraged joint working between health services, local government and the voluntary sector. This study examined whether HR2: (1) improved young people's sexual health knowledge, attitudes, behaviour and use of sexual health services and (2) reduced socioeconomic inequalities in sexual health.A quasi-experiment in which the intervention and comparison areas were matched for teenage pregnancy and terminations, and schools were matched by social deprivation. 5283 pupils aged 15-16 years (2269 intervention, 3014 comparison) were recruited to cross-sectional surveys in 2007, 2008 and 2009.The intervention improved males' and, to a lesser extent, females' sexual health knowledge. Males' intention to use condoms, and reported use of condoms, was unaffected, compared with a reduction in both among males in the comparison arm. Although females exposed to the intervention became less accepting of condoms, there was no change in their intention to use condoms and reported condom use. Pupils became more tolerant of sexual coercion in both the intervention and comparison arms. Attitudes towards same-sex relationships remained largely unaffected. More pupils in the HR2 area used sexual health services, including those from lower socioeconomic backgrounds. This aside, sexual health inequalities remained.Combining school-based sex education and sexual health clinics has a limited impact. Interventions that address the upstream causes of poor sexual health, such as a detrimental sociocultural environment, represent promising alternatives. These should prioritise the most vulnerable young people.",
         "https://doi.org/10.1136/jech-2012-201034",
         "W2155746603"
        ],
        [
         "48",
         "sub-Saharan Africa",
         "information and communications technology (ICT) infrastructures",
         "{\"inclusive growth\": {\"CORRELATION\": \"increasing\"}, \"income disparities\": {\"CORRELATION\": \"decreasing\"}}",
         "[\"E\"]",
         "This study provides an empirical assessment of infrastructure and inclusive growth in sub-Saharan Africa (SSA). An inclusive growth index has been constructed and then used to test the infrastructure–inclusive growth nexus. The study has also examined whether infrastructure has a distributive impact on income groups. The overall analysis employed panel data collected from 31 SSA countries over the period 2003–17. The study found a positive link between infrastructure and inclusive growth. These results were significant for energy, transport and information and communications technology (ICT) infrastructures. It was also found that poorer people gain more benefits from the listed infrastructures than the rich, which shows that infrastructure plays an important role in the distribution of income. The overall results imply that infrastructure is vital in reducing income disparities and enhancing shared prosperity in SSA. Policies for increasing access and affordability of infrastructure services are highly recommended to promote inclusion.",
         "https://doi.org/10.1177/1464993420927507",
         "W3038924493"
        ],
        [
         "49",
         "United Arab Emirates (UAE)",
         "technological advances (e.g. big data and IoT)",
         "{\"waste\": {\"CORRELATION\": \"decreasing\"}}",
         "[\"E\"]",
         "Contemporary business models need to re-imagine the production and distribution of goods and services embedding social, economic, and environmental goals concurrently. To this end, reverse logistics in streamlining a circular economy (take, make, use, reuse, repair, and recycle) catapulted to the top of the discussion for collecting and distributing products. Yet, little is empirically known about the role of reverse logistics in the circular economy. This study attempts to fill this knowledge gap in theory and practice through a multiple case study approach including 40 semi-structured interviews with reverse logistics specialists from the four largest retailing firms in the United Arab Emirates (UAE). Findings reveal multiple ways by which reverse logistics contributes to a circular economy: for instance, reverse logistics enables firms to develop a circular product design; the combination of reverse flow with the forward flow consolidates the high volume of products, thus mitigating waste; use of innovative tools (robots, autonomous bikes) in reverse logistics increases the used products' return rate and thereby enhancing recycling; technological advances (e.g. big data and IoT) in reverse logistics help trace the product thus reducing waste. The paper offers several valuable insights for practitioners to build a circular economy via reverse logistics (waste reduction, responsible consumption, and sustainable logistics). Our study also contributes to multiple United Nations Sustainable Development Goals (SDG 11, SDG 12, and SDG 13).",
         "https://doi.org/10.1080/09537287.2023.2197851",
         "W4363648254"
        ]
       ],
       "shape": {
        "columns": 7,
        "rows": 6940
       }
      },
      "text/html": [
       "<div>\n",
       "<style scoped>\n",
       "    .dataframe tbody tr th:only-of-type {\n",
       "        vertical-align: middle;\n",
       "    }\n",
       "\n",
       "    .dataframe tbody tr th {\n",
       "        vertical-align: top;\n",
       "    }\n",
       "\n",
       "    .dataframe thead th {\n",
       "        text-align: right;\n",
       "    }\n",
       "</style>\n",
       "<table border=\"1\" class=\"dataframe\">\n",
       "  <thead>\n",
       "    <tr style=\"text-align: right;\">\n",
       "      <th></th>\n",
       "      <th>GEOGRAPHIC</th>\n",
       "      <th>ITEM</th>\n",
       "      <th>FACTOR</th>\n",
       "      <th>SECTOR</th>\n",
       "      <th>abstract</th>\n",
       "      <th>doi</th>\n",
       "      <th>openalex_id</th>\n",
       "    </tr>\n",
       "  </thead>\n",
       "  <tbody>\n",
       "    <tr>\n",
       "      <th>0</th>\n",
       "      <td>Mashhad University of Medical Sciences</td>\n",
       "      <td>mass media</td>\n",
       "      <td>{\"awareness about the benefits of physical act...</td>\n",
       "      <td>[\"E\"]</td>\n",
       "      <td>Background and Aim: Health-promoting lifestyle...</td>\n",
       "      <td>https://doi.org/10.22038/jmrh.2014.2918</td>\n",
       "      <td>W2099730092</td>\n",
       "    </tr>\n",
       "    <tr>\n",
       "      <th>1</th>\n",
       "      <td>United States</td>\n",
       "      <td>exergames</td>\n",
       "      <td>{\"physical activity (PA) in the general popula...</td>\n",
       "      <td>[\"E\", \"J\"]</td>\n",
       "      <td>The number of informal caregivers for family m...</td>\n",
       "      <td>https://doi.org/10.48550/arxiv.1908.09984</td>\n",
       "      <td>W2970340995</td>\n",
       "    </tr>\n",
       "    <tr>\n",
       "      <th>2</th>\n",
       "      <td>Puget Sound</td>\n",
       "      <td>telecommunications</td>\n",
       "      <td>{\"trip generation rates\": {\"CORRELATION\": \"dec...</td>\n",
       "      <td>[\"E\"]</td>\n",
       "      <td>Most trip generation models are insensitive to...</td>\n",
       "      <td>https://doi.org/10.3141/1682-09</td>\n",
       "      <td>W2129598736</td>\n",
       "    </tr>\n",
       "    <tr>\n",
       "      <th>3</th>\n",
       "      <td>US</td>\n",
       "      <td>activewear purchased to be worn as casualwear</td>\n",
       "      <td>{\"intent to purchase activewear\": {\"CORRELATIO...</td>\n",
       "      <td>[\"E\"]</td>\n",
       "      <td>In recent years, activewear is no longer conta...</td>\n",
       "      <td>https://doi.org/10.1080/17543266.2018.1477995</td>\n",
       "      <td>W2805060567</td>\n",
       "    </tr>\n",
       "    <tr>\n",
       "      <th>4</th>\n",
       "      <td>Indonesia</td>\n",
       "      <td>advanced, automated internet technology</td>\n",
       "      <td>{\"robust connectivity\": {\"CORRELATION\": \"incre...</td>\n",
       "      <td>[\"E\"]</td>\n",
       "      <td>Abstract The Indonesian government has a goal ...</td>\n",
       "      <td>https://doi.org/10.2118/209896-ms</td>\n",
       "      <td>W4290471442</td>\n",
       "    </tr>\n",
       "    <tr>\n",
       "      <th>...</th>\n",
       "      <td>...</td>\n",
       "      <td>...</td>\n",
       "      <td>...</td>\n",
       "      <td>...</td>\n",
       "      <td>...</td>\n",
       "      <td>...</td>\n",
       "      <td>...</td>\n",
       "    </tr>\n",
       "    <tr>\n",
       "      <th>6935</th>\n",
       "      <td>Samarinda, East Kalimantan province, Indonesia</td>\n",
       "      <td>IoT-based air pollution monitoring system usin...</td>\n",
       "      <td>{\"air quality information accessibility\": {\"CO...</td>\n",
       "      <td>[\"E\"]</td>\n",
       "      <td>The degradation of air quality in numerous Ind...</td>\n",
       "      <td>https://doi.org/10.51967/tanesa.v24i2.2946</td>\n",
       "      <td>W4399888694</td>\n",
       "    </tr>\n",
       "    <tr>\n",
       "      <th>6936</th>\n",
       "      <td>Democratic Republic of Congo (DRC)</td>\n",
       "      <td>privately funded GSM network</td>\n",
       "      <td>{\"mobile telephone coverage\": {\"CORRELATION\": ...</td>\n",
       "      <td>[\"E\"]</td>\n",
       "      <td>The Democratic Republic of Congo (DRC) faces p...</td>\n",
       "      <td>NaN</td>\n",
       "      <td>W3121765686</td>\n",
       "    </tr>\n",
       "    <tr>\n",
       "      <th>6937</th>\n",
       "      <td>Thailand</td>\n",
       "      <td>watching television and playing computer</td>\n",
       "      <td>{\"obesity\": {\"CORRELATION\": \"increasing\"}}</td>\n",
       "      <td>[\"E\"]</td>\n",
       "      <td>Objective:  To determine the dietary pattern, ...</td>\n",
       "      <td>NaN</td>\n",
       "      <td>W2161121663</td>\n",
       "    </tr>\n",
       "    <tr>\n",
       "      <th>6938</th>\n",
       "      <td>Pakistan</td>\n",
       "      <td>social media</td>\n",
       "      <td>{\"biogas technology adoption\": {\"CORRELATION\":...</td>\n",
       "      <td>[\"E\"]</td>\n",
       "      <td>Environmental degradation and rapid climate ch...</td>\n",
       "      <td>https://doi.org/10.3390/ijerph17072311</td>\n",
       "      <td>W3013389524</td>\n",
       "    </tr>\n",
       "    <tr>\n",
       "      <th>6939</th>\n",
       "      <td>NaN</td>\n",
       "      <td>social media</td>\n",
       "      <td>{\"social support\": {\"CORRELATION\": \"increasing\"}}</td>\n",
       "      <td>[\"E\"]</td>\n",
       "      <td>Obesity is a complex lifelong disease of exces...</td>\n",
       "      <td>https://doi.org/10.1111/cob.12605</td>\n",
       "      <td>W4379768387</td>\n",
       "    </tr>\n",
       "  </tbody>\n",
       "</table>\n",
       "<p>6940 rows × 7 columns</p>\n",
       "</div>"
      ],
      "text/plain": [
       "                                          GEOGRAPHIC  \\\n",
       "0             Mashhad University of Medical Sciences   \n",
       "1                                      United States   \n",
       "2                                        Puget Sound   \n",
       "3                                                 US   \n",
       "4                                          Indonesia   \n",
       "...                                              ...   \n",
       "6935  Samarinda, East Kalimantan province, Indonesia   \n",
       "6936              Democratic Republic of Congo (DRC)   \n",
       "6937                                        Thailand   \n",
       "6938                                        Pakistan   \n",
       "6939                                             NaN   \n",
       "\n",
       "                                                   ITEM  \\\n",
       "0                                            mass media   \n",
       "1                                             exergames   \n",
       "2                                    telecommunications   \n",
       "3         activewear purchased to be worn as casualwear   \n",
       "4               advanced, automated internet technology   \n",
       "...                                                 ...   \n",
       "6935  IoT-based air pollution monitoring system usin...   \n",
       "6936                       privately funded GSM network   \n",
       "6937           watching television and playing computer   \n",
       "6938                                       social media   \n",
       "6939                                       social media   \n",
       "\n",
       "                                                 FACTOR      SECTOR  \\\n",
       "0     {\"awareness about the benefits of physical act...       [\"E\"]   \n",
       "1     {\"physical activity (PA) in the general popula...  [\"E\", \"J\"]   \n",
       "2     {\"trip generation rates\": {\"CORRELATION\": \"dec...       [\"E\"]   \n",
       "3     {\"intent to purchase activewear\": {\"CORRELATIO...       [\"E\"]   \n",
       "4     {\"robust connectivity\": {\"CORRELATION\": \"incre...       [\"E\"]   \n",
       "...                                                 ...         ...   \n",
       "6935  {\"air quality information accessibility\": {\"CO...       [\"E\"]   \n",
       "6936  {\"mobile telephone coverage\": {\"CORRELATION\": ...       [\"E\"]   \n",
       "6937         {\"obesity\": {\"CORRELATION\": \"increasing\"}}       [\"E\"]   \n",
       "6938  {\"biogas technology adoption\": {\"CORRELATION\":...       [\"E\"]   \n",
       "6939  {\"social support\": {\"CORRELATION\": \"increasing\"}}       [\"E\"]   \n",
       "\n",
       "                                               abstract  \\\n",
       "0     Background and Aim: Health-promoting lifestyle...   \n",
       "1     The number of informal caregivers for family m...   \n",
       "2     Most trip generation models are insensitive to...   \n",
       "3     In recent years, activewear is no longer conta...   \n",
       "4     Abstract The Indonesian government has a goal ...   \n",
       "...                                                 ...   \n",
       "6935  The degradation of air quality in numerous Ind...   \n",
       "6936  The Democratic Republic of Congo (DRC) faces p...   \n",
       "6937  Objective:  To determine the dietary pattern, ...   \n",
       "6938  Environmental degradation and rapid climate ch...   \n",
       "6939  Obesity is a complex lifelong disease of exces...   \n",
       "\n",
       "                                                doi  openalex_id  \n",
       "0           https://doi.org/10.22038/jmrh.2014.2918  W2099730092  \n",
       "1         https://doi.org/10.48550/arxiv.1908.09984  W2970340995  \n",
       "2                   https://doi.org/10.3141/1682-09  W2129598736  \n",
       "3     https://doi.org/10.1080/17543266.2018.1477995  W2805060567  \n",
       "4                 https://doi.org/10.2118/209896-ms  W4290471442  \n",
       "...                                             ...          ...  \n",
       "6935     https://doi.org/10.51967/tanesa.v24i2.2946  W4399888694  \n",
       "6936                                            NaN  W3121765686  \n",
       "6937                                            NaN  W2161121663  \n",
       "6938         https://doi.org/10.3390/ijerph17072311  W3013389524  \n",
       "6939              https://doi.org/10.1111/cob.12605  W4379768387  \n",
       "\n",
       "[6940 rows x 7 columns]"
      ]
     },
     "execution_count": 142,
     "metadata": {},
     "output_type": "execute_result"
    }
   ],
   "source": [
    "# Import data\n",
    "df = pd.read_csv(input_path)\n",
    "df"
   ]
  },
  {
   "cell_type": "code",
   "execution_count": 159,
   "metadata": {},
   "outputs": [
    {
     "name": "stdout",
     "output_type": "stream",
     "text": [
      "\"rainfall estimation\"\n",
      "\"rainfall estimation\"\n"
     ]
    },
    {
     "data": {
      "application/vnd.microsoft.datawrangler.viewer.v0+json": {
       "columns": [
        {
         "name": "index",
         "rawType": "int64",
         "type": "integer"
        },
        {
         "name": "index",
         "rawType": "int64",
         "type": "integer"
        },
        {
         "name": "ITEM",
         "rawType": "object",
         "type": "string"
        },
        {
         "name": "FACTOR",
         "rawType": "object",
         "type": "string"
        }
       ],
       "ref": "de816ed5-6888-43c5-bfb2-391cfc252563",
       "rows": [
        [
         "0",
         "0",
         "mass media",
         "awareness about the benefits of physical activity"
        ],
        [
         "1",
         "1",
         "exergames",
         "physical activity (PA) in the general population"
        ],
        [
         "2",
         "1",
         "exergames",
         "PA barriers that AD caregivers face"
        ],
        [
         "3",
         "2",
         "telecommunications",
         "trip generation rates"
        ],
        [
         "4",
         "3",
         "activewear purchased to be worn as casualwear",
         "intent to purchase activewear"
        ],
        [
         "5",
         "3",
         "activewear purchased to be worn as casualwear",
         "attitude towards shopping activewear for casual purpose"
        ],
        [
         "6",
         "4",
         "advanced, automated internet technology",
         "robust connectivity"
        ],
        [
         "7",
         "5",
         "smartphones",
         "health care delivery"
        ],
        [
         "8",
         "6",
         "augmented reality",
         "preservation of archaeological sites"
        ],
        [
         "9",
         "7",
         "data centres (DCs)",
         "resource utilization"
        ],
        [
         "10",
         "7",
         "data centres (DCs)",
         "demand for Critical Raw Materials"
        ],
        [
         "11",
         "8",
         "CEDaCI project",
         "sectoral sustainability"
        ],
        [
         "12",
         "8",
         "CEDaCI project",
         "circularity in the DCI"
        ],
        [
         "13",
         "9",
         "Eco-design guidelines, strategies, and digital tools",
         "product life"
        ],
        [
         "14",
         "9",
         "Eco-design guidelines, strategies, and digital tools",
         "recycling"
        ],
        [
         "15",
         "9",
         "Eco-design guidelines, strategies, and digital tools",
         "decision-making"
        ],
        [
         "16",
         "10",
         "Internet of Things utilization",
         "wind power implementation"
        ],
        [
         "17",
         "11",
         "access to information",
         "right to information"
        ],
        [
         "18",
         "12",
         "information technology and networks",
         "global debates on information rights"
        ],
        [
         "19",
         "13",
         "demand for pharmaceuticals, IT and telecommunications",
         "changes in habits in the wake of the pandemic"
        ],
        [
         "20",
         "14",
         "social media usage",
         "academic performance"
        ],
        [
         "21",
         "15",
         "communication facilities",
         "development of the village"
        ],
        [
         "22",
         "16",
         "ICT utilization program",
         "device use anxiety"
        ],
        [
         "23",
         "16",
         "ICT utilization program",
         "health-related quality of life"
        ],
        [
         "24",
         "16",
         "ICT utilization program",
         "social participation"
        ],
        [
         "25",
         "17",
         "information technology growth and innovation in electronic component and data center equipment",
         "demand of data center providing and performance"
        ],
        [
         "26",
         "18",
         "cooling system in data center",
         "power consumption"
        ],
        [
         "27",
         "18",
         "cooling system in data center",
         "heat load density"
        ],
        [
         "28",
         "18",
         "cooling system in data center",
         "energy efficiency"
        ],
        [
         "29",
         "19",
         "improvement in the cooling system of data center",
         "energy efficiency"
        ],
        [
         "30",
         "20",
         "effective cooling inside the equipment",
         "optimization of cooling system"
        ],
        [
         "31",
         "21",
         "digitalisation of societies",
         "data on consumers"
        ],
        [
         "32",
         "22",
         "information communication technology",
         "haze pollution"
        ],
        [
         "33",
         "23",
         "digital technologies",
         "human rights"
        ],
        [
         "34",
         "23",
         "digital technologies",
         "rights and freedoms of man and citizen"
        ],
        [
         "35",
         "24",
         "documentation",
         "human rights"
        ],
        [
         "36",
         "25",
         "Shopping Lifestyle",
         "Impulse Buying"
        ],
        [
         "37",
         "26",
         "Fashion Involvement",
         "Impulse Buying"
        ],
        [
         "38",
         "27",
         "Sales Promotion",
         "Impulse Buying"
        ],
        [
         "39",
         "28",
         "common satellite in South Asian Association for Regional Co-operation (SAARC)",
         "weather forecasting"
        ],
        [
         "40",
         "28",
         "common satellite in South Asian Association for Regional Co-operation (SAARC)",
         "disaster risk reduction"
        ],
        [
         "41",
         "28",
         "common satellite in South Asian Association for Regional Co-operation (SAARC)",
         "crop harvest projections"
        ],
        [
         "42",
         "29",
         "new policy framework specific to the application of satellite technologies",
         "real time sharing of regional satellite data"
        ],
        [
         "43",
         "29",
         "new policy framework specific to the application of satellite technologies",
         "disaster risk reduction"
        ],
        [
         "44",
         "30",
         "social media use",
         "internalising symptoms"
        ],
        [
         "45",
         "31",
         "gaming",
         "internalising symptoms"
        ],
        [
         "46",
         "31",
         "gaming",
         "social media use"
        ],
        [
         "47",
         "32",
         "GPS and camera-equipped mobile devices",
         "volunteered information production"
        ],
        [
         "48",
         "33",
         "photogrammetry software or mobile device-based GPS",
         "collection of flood levels automation"
        ],
        [
         "49",
         "34",
         "technology and digitalisation",
         "resource efficiency"
        ]
       ],
       "shape": {
        "columns": 3,
        "rows": 10381
       }
      },
      "text/html": [
       "<div>\n",
       "<style scoped>\n",
       "    .dataframe tbody tr th:only-of-type {\n",
       "        vertical-align: middle;\n",
       "    }\n",
       "\n",
       "    .dataframe tbody tr th {\n",
       "        vertical-align: top;\n",
       "    }\n",
       "\n",
       "    .dataframe thead th {\n",
       "        text-align: right;\n",
       "    }\n",
       "</style>\n",
       "<table border=\"1\" class=\"dataframe\">\n",
       "  <thead>\n",
       "    <tr style=\"text-align: right;\">\n",
       "      <th></th>\n",
       "      <th>index</th>\n",
       "      <th>ITEM</th>\n",
       "      <th>FACTOR</th>\n",
       "    </tr>\n",
       "  </thead>\n",
       "  <tbody>\n",
       "    <tr>\n",
       "      <th>0</th>\n",
       "      <td>0</td>\n",
       "      <td>mass media</td>\n",
       "      <td>awareness about the benefits of physical activity</td>\n",
       "    </tr>\n",
       "    <tr>\n",
       "      <th>1</th>\n",
       "      <td>1</td>\n",
       "      <td>exergames</td>\n",
       "      <td>physical activity (PA) in the general population</td>\n",
       "    </tr>\n",
       "    <tr>\n",
       "      <th>2</th>\n",
       "      <td>1</td>\n",
       "      <td>exergames</td>\n",
       "      <td>PA barriers that AD caregivers face</td>\n",
       "    </tr>\n",
       "    <tr>\n",
       "      <th>3</th>\n",
       "      <td>2</td>\n",
       "      <td>telecommunications</td>\n",
       "      <td>trip generation rates</td>\n",
       "    </tr>\n",
       "    <tr>\n",
       "      <th>4</th>\n",
       "      <td>3</td>\n",
       "      <td>activewear purchased to be worn as casualwear</td>\n",
       "      <td>intent to purchase activewear</td>\n",
       "    </tr>\n",
       "    <tr>\n",
       "      <th>...</th>\n",
       "      <td>...</td>\n",
       "      <td>...</td>\n",
       "      <td>...</td>\n",
       "    </tr>\n",
       "    <tr>\n",
       "      <th>10376</th>\n",
       "      <td>6935</td>\n",
       "      <td>IoT-based air pollution monitoring system usin...</td>\n",
       "      <td>air quality information accessibility</td>\n",
       "    </tr>\n",
       "    <tr>\n",
       "      <th>10377</th>\n",
       "      <td>6936</td>\n",
       "      <td>privately funded GSM network</td>\n",
       "      <td>mobile telephone coverage</td>\n",
       "    </tr>\n",
       "    <tr>\n",
       "      <th>10378</th>\n",
       "      <td>6937</td>\n",
       "      <td>watching television and playing computer</td>\n",
       "      <td>obesity</td>\n",
       "    </tr>\n",
       "    <tr>\n",
       "      <th>10379</th>\n",
       "      <td>6938</td>\n",
       "      <td>social media</td>\n",
       "      <td>biogas technology adoption</td>\n",
       "    </tr>\n",
       "    <tr>\n",
       "      <th>10380</th>\n",
       "      <td>6939</td>\n",
       "      <td>social media</td>\n",
       "      <td>social support</td>\n",
       "    </tr>\n",
       "  </tbody>\n",
       "</table>\n",
       "<p>10381 rows × 3 columns</p>\n",
       "</div>"
      ],
      "text/plain": [
       "       index                                               ITEM  \\\n",
       "0          0                                         mass media   \n",
       "1          1                                          exergames   \n",
       "2          1                                          exergames   \n",
       "3          2                                 telecommunications   \n",
       "4          3      activewear purchased to be worn as casualwear   \n",
       "...      ...                                                ...   \n",
       "10376   6935  IoT-based air pollution monitoring system usin...   \n",
       "10377   6936                       privately funded GSM network   \n",
       "10378   6937           watching television and playing computer   \n",
       "10379   6938                                       social media   \n",
       "10380   6939                                       social media   \n",
       "\n",
       "                                                  FACTOR  \n",
       "0      awareness about the benefits of physical activity  \n",
       "1       physical activity (PA) in the general population  \n",
       "2                    PA barriers that AD caregivers face  \n",
       "3                                  trip generation rates  \n",
       "4                          intent to purchase activewear  \n",
       "...                                                  ...  \n",
       "10376              air quality information accessibility  \n",
       "10377                          mobile telephone coverage  \n",
       "10378                                            obesity  \n",
       "10379                         biogas technology adoption  \n",
       "10380                                     social support  \n",
       "\n",
       "[10381 rows x 3 columns]"
      ]
     },
     "execution_count": 159,
     "metadata": {},
     "output_type": "execute_result"
    }
   ],
   "source": [
    "# Apply the extraction\n",
    "extracted_items_df = extract_items(df)\n",
    "extracted_items_df"
   ]
  },
  {
   "cell_type": "markdown",
   "metadata": {},
   "source": [
    "## 3. Cluster with HDBSCAN"
   ]
  },
  {
   "cell_type": "markdown",
   "metadata": {},
   "source": [
    "### a. ITEMS"
   ]
  },
  {
   "cell_type": "code",
   "execution_count": 6,
   "metadata": {},
   "outputs": [
    {
     "data": {
      "application/vnd.microsoft.datawrangler.viewer.v0+json": {
       "columns": [
        {
         "name": "index",
         "rawType": "int64",
         "type": "integer"
        },
        {
         "name": "ITEM",
         "rawType": "object",
         "type": "string"
        }
       ],
       "ref": "d77563fd-451c-48ef-b13f-77f1622abd75",
       "rows": [
        [
         "0",
         "mass media"
        ],
        [
         "1",
         "exergames"
        ],
        [
         "3",
         "telecommunications"
        ],
        [
         "4",
         "activewear purchased to be worn as casualwear"
        ],
        [
         "6",
         "advanced, automated internet technology"
        ],
        [
         "7",
         "smartphones"
        ],
        [
         "8",
         "augmented reality"
        ],
        [
         "9",
         "data centres (DCs)"
        ],
        [
         "11",
         "CEDaCI project"
        ],
        [
         "13",
         "Eco-design guidelines, strategies, and digital tools"
        ],
        [
         "16",
         "Internet of Things utilization"
        ],
        [
         "17",
         "access to information"
        ],
        [
         "18",
         "information technology and networks"
        ],
        [
         "19",
         "demand for pharmaceuticals, IT and telecommunications"
        ],
        [
         "20",
         "social media usage"
        ],
        [
         "21",
         "communication facilities"
        ],
        [
         "22",
         "ICT utilization program"
        ],
        [
         "25",
         "information technology growth and innovation in electronic component and data center equipment"
        ],
        [
         "26",
         "cooling system in data center"
        ],
        [
         "29",
         "improvement in the cooling system of data center"
        ],
        [
         "30",
         "effective cooling inside the equipment"
        ],
        [
         "31",
         "digitalisation of societies"
        ],
        [
         "32",
         "information communication technology"
        ],
        [
         "33",
         "digital technologies"
        ],
        [
         "35",
         "documentation"
        ],
        [
         "36",
         "Shopping Lifestyle"
        ],
        [
         "37",
         "Fashion Involvement"
        ],
        [
         "38",
         "Sales Promotion"
        ],
        [
         "39",
         "common satellite in South Asian Association for Regional Co-operation (SAARC)"
        ],
        [
         "42",
         "new policy framework specific to the application of satellite technologies"
        ],
        [
         "44",
         "social media use"
        ],
        [
         "45",
         "gaming"
        ],
        [
         "47",
         "GPS and camera-equipped mobile devices"
        ],
        [
         "48",
         "photogrammetry software or mobile device-based GPS"
        ],
        [
         "49",
         "technology and digitalisation"
        ],
        [
         "51",
         "mass media campaigns"
        ],
        [
         "52",
         "regulating food and beverage advertising particularly for children"
        ],
        [
         "53",
         "information and communication technologies (ICTs)"
        ],
        [
         "56",
         "Internet and mobile phones"
        ],
        [
         "58",
         "ICT policies favoring human rights"
        ],
        [
         "60",
         "custom smartphone application"
        ],
        [
         "61",
         "activity monitor"
        ],
        [
         "62",
         "cloud radio access network (C-RAN) architecture"
        ],
        [
         "63",
         "screen time use"
        ],
        [
         "64",
         "limiting the use of electronic devices before bedtime"
        ],
        [
         "65",
         "raising awareness by global mass media"
        ],
        [
         "66",
         "role of mass media in fostering public awareness"
        ],
        [
         "67",
         "media campaigns and branding"
        ],
        [
         "68",
         "information and communications technology (ICT) infrastructures"
        ],
        [
         "70",
         "technological advances (e.g. big data and IoT)"
        ]
       ],
       "shape": {
        "columns": 1,
        "rows": 6890
       }
      },
      "text/plain": [
       "0                                               mass media\n",
       "1                                                exergames\n",
       "3                                       telecommunications\n",
       "4            activewear purchased to be worn as casualwear\n",
       "6                  advanced, automated internet technology\n",
       "                               ...                        \n",
       "10376    IoT-based air pollution monitoring system usin...\n",
       "10377                         privately funded GSM network\n",
       "10378             watching television and playing computer\n",
       "10379                                         social media\n",
       "10380                                         social media\n",
       "Name: ITEM, Length: 6890, dtype: object"
      ]
     },
     "execution_count": 6,
     "metadata": {},
     "output_type": "execute_result"
    }
   ],
   "source": [
    "preprocessed_items = extracted_items_df[['index', 'ITEM']].drop_duplicates(subset='index')['ITEM']\n",
    "preprocessed_items"
   ]
  },
  {
   "cell_type": "code",
   "execution_count": 7,
   "metadata": {},
   "outputs": [],
   "source": [
    "corpus_list_items, corpus_embeddings_items = clusterize.get_embeddings(preprocessed_items)"
   ]
  },
  {
   "cell_type": "code",
   "execution_count": 72,
   "metadata": {},
   "outputs": [
    {
     "name": "stderr",
     "output_type": "stream",
     "text": [
      "/home/thomas/.pyenv/versions/lewagon-decision-science/lib/python3.12/site-packages/umap/umap_.py:1952: UserWarning: n_jobs value 1 overridden to 1 by setting random_state. Use no seed for parallelism.\n",
      "  warn(\n"
     ]
    },
    {
     "name": "stdout",
     "output_type": "stream",
     "text": [
      "Number of clusters found: 33\n"
     ]
    }
   ],
   "source": [
    "params = {\n",
    "    'umap_n_neighbors': 30,\n",
    "    'umap_min_dist': 0.1,\n",
    "    'umap_n_components': 30,\n",
    "    'hdbscan_min_cluster_size': 70,\n",
    "    'hdbscan_min_samples': 10,\n",
    "    'hdbscan_cluster_selection_epsilon': 0.0,\n",
    "    'hdbscan_max_cluster_size': None\n",
    "}\n",
    "\n",
    "hdbscan_model, cluster_assignment, clustered_sentences, noise, reduced_embeddings_items = clusterize.clusterize(\n",
    "                            corpus_list_items, corpus_embeddings_items,\n",
    "                            params,\n",
    "                            print_clusters=False)"
   ]
  },
  {
   "cell_type": "code",
   "execution_count": 73,
   "metadata": {},
   "outputs": [
    {
     "name": "stdout",
     "output_type": "stream",
     "text": [
      "total number of items: 6890, \n",
      "items classified as noise: 1542, \n",
      "percentage of noise: 22.38\n"
     ]
    }
   ],
   "source": [
    "results = {\n",
    "    'items_total': len(cluster_assignment),\n",
    "    'items_noise': len(noise),\n",
    "    'noise_pct': round(len(noise)/len(cluster_assignment) * 100, 2)\n",
    "}\n",
    "\n",
    "print(f'total number of items: {results['items_total']}, \\nitems classified as noise: {results['items_noise']}, \\npercentage of noise: {results['noise_pct']}')"
   ]
  },
  {
   "cell_type": "code",
   "execution_count": 10,
   "metadata": {},
   "outputs": [
    {
     "data": {
      "application/vnd.microsoft.datawrangler.viewer.v0+json": {
       "columns": [
        {
         "name": "index",
         "rawType": "int64",
         "type": "integer"
        },
        {
         "name": "Cluster Number",
         "rawType": "int64",
         "type": "integer"
        },
        {
         "name": "Number of Sentences",
         "rawType": "int64",
         "type": "integer"
        },
        {
         "name": "Sample Sentences",
         "rawType": "object",
         "type": "string"
        }
       ],
       "ref": "3669049d-5c8e-45ea-b6c6-3a04b5887240",
       "rows": [
        [
         "0",
         "1",
         "58",
         "reduced social media use (SMU); social Internet consumption; phone and social media use; habitual social media use; Twitter; social media posting frequency; social media use for health; social media use; social media checking frequency; perceptions of low social rank when using social media; providing daily information using social media applications or other technical devices; use of social media; active social media use; Enterprise Social Media (ESM) usage; application of social media"
        ],
        [
         "1",
         "2",
         "23",
         "non-use of the internet; using the internet; beliefs about the Internet; internet use daily; moderate and regular internet use frequency; internet dependency; internet activity facilitating self-management; level of Internet use; Internet usage; internet use; internet use management program; computer and internet; use of the Internet; daily internet use; number of Internet users"
        ],
        [
         "2",
         "3",
         "40",
         "information and communications technologies (ICTs); information communications technology (ICT); Information and Communication Technology (ICT) systems; information and communication technologies (ICT) applications; information and communication technology (ICT) services; advanced information and communication technologies (ICT); advanced technologies including information and communication technologies, modern measuring devices like phasor measurement units, fast computational techniques; ICT applications; ICT (information and communications technology); information and communication technologies (ICT); Information and Communication Technology (ICT) and Control Technology (CT); information and communication technology (ICT) for academic purposes; Information Communication Technology (ICT); Information and communications technology (ICT); ICT (information, communications and technology)"
        ],
        [
         "3",
         "4",
         "56",
         "Internet-of-Things; IoT based smart homes; Internet of Things (IoT) techniques; Intemet of Things (IoT) monitoring system; Internet of Things (IoT) cloud; technological advances (e.g. big data and IoT); IoT connection; Internet of things (IoT); develop the same system using IoT platforms like Thingspeak or Cayenne; IoT platform; IoT; Internet of Things (IOT) monitoring; Internet of Things (IoT) technologies; Internet of Things (IoT) and smart grid technologies; synchronizing IoT devices with our energy system"
        ],
        [
         "4",
         "5",
         "23",
         "digital optimization; Digitalization; digitalisation of data; digital business penetration (DBP); digitalisation of societies; massive digitalization; digitalization of maritime industry; regional digitalization; digitization and digital technologies; transforming research libraries; digitalisation; digitalisation enables work from home; digitalization; policy in the field of digitalization; decelerate digital transition"
        ],
        [
         "5",
         "6",
         "27",
         "five-feature website; Korean pop cultural contents (KPCC) consumption behaviors; social digital media; websites; Instagram postings of Blair Imani; Social Media Instagram; instagram online store; searching online; Instagram posts showing luxurious lifestyles; Xiaohongshu (RED); New Social Media; Instagram use intensity; social media; the Internet and the World Wide Web; Instagram addiction"
        ],
        [
         "6",
         "7",
         "53",
         "Big Data; online cloud services; cloud computing (CC); Google Earth Engine (GEE) platform; smart city strategies; cloud server for big data mining and analysis; digital town hall; digital services and cloud computing; cloud data storage and compute capacity; ThingSpeak cloud-based MATLAB; propensity to embrace smart city lifestyles; HSWDC dataset; Google Earth Engine (GEE) cloud platform; federated edge intelligence-based network AI system; big data and analytical technologies"
        ],
        [
         "7",
         "8",
         "91",
         "digital inclusion of civil society; digital solutions; connections between digital technologies, convenience, meaning, and competency; technology and digital lifestyle; the digital economy's role in urban low-carbon development; developing digital tools; digital sovereignty; digital technology; the digital economy; Pancasila-based digital literacy; digital tools; digital technology usage; digital literacy; Digital Culture; digital fluency"
        ],
        [
         "8",
         "9",
         "68",
         "HPC/ICT servers operation and cooling; energy efficient cooling technologies (e.g. dew point cooling); indirect water consumption for power generation to operate the IT equipment and cooling infrastructure; cooling technologies, architectural design, renewable energy sourcing, and hardware efficiency; cold air supply management at the room level, row level, and rack level; hybrid cooling; new type of air conditioner; reduction of heat dissipation of power equipment to air-conditioned telecommunications equipment environments; direct air-side economizer (DASE); raising temperatures in computer rooms; EcoNet; development of solar powered solutions for thermal management of remote equipment enclosures; direct air-side economiser; Spanish ecofiction; cold plate liquid cooling system"
        ],
        [
         "9",
         "10",
         "47",
         "large data center; data center; data centers; electricity consumed by Internet data centers (IDCs); data center hosting; Internet data centers (IDCs) and the distribution network considering demand response (DR); joint expansion planning framework of IDC and distribution network; fully renewable-powered cloud data centres and partially solar-powered fog data centres; shifting of cloud data centers to NEOM; data centres (DCs); efficient energy optimization framework based on dynamic resource scheduling for VM migration in cloud data centers; micro-datacenters deployment; data centres; IT hardware and data center infrastructure; energy-efficient architecture for cloud and fog computing environment integration"
        ],
        [
         "10",
         "11",
         "122",
         "education and ICTs; ICT policies favoring human rights; information technology usage; available information and communication technology infrastructure; information and communications technology (ICT) infrastructures; export of ICT services; ICT products tariff reduction; information and communications technology (ICT) infrastructure; digital infrastructure ownership and coordination by private actors; improved access to ICT; Training older adults to use information and communications technology (ICT) effectively; information technology (IT) infrastructure growth; production, use and diffusion of information and communication technology (ICT); ICT adoption; private investments"
        ],
        [
         "11",
         "12",
         "232",
         "online social interaction; social media analysis; social media interventions; social interaction; social belonging to online groups; longitudinal temporal activity diary; social media technologies (SMTs); online communities; social media collaboration; problematic laws on online harms; participation in knowledge-based virtual communities; virtual conferences; informal communication channels via social media; Facebook Oversight Board; DiaryMood"
        ],
        [
         "12",
         "13",
         "38",
         "text messaging (short message service, SMS); Telegram notification; eHealth and mHealth technologies; telephone accessibility; early warning system via telephone and WhatsApp; text messaging (TM); SMS/text messaging from mobile phones; eHealth literacy (eHL); downloading mobile phone ringtones; machine to machine protocol (MQTT) to external health & well-being services; WhatsApp for learning; eHealth conceptualization and promulgation; mobile telephony; mobile telephone and ICT facilities; E-mail or telephone coaching"
        ],
        [
         "13",
         "14",
         "57",
         "electronic appliances; electronic devices proliferation; use of modern gadgets and digital technologies; communication and awareness about EVs; electronic gadgets; technology invasion into the bedroom; excessive electronic device use; computer; emerging technologies and increased use of electronic devices; laptop; technological gadgets; Raspberry Pi; extending the lifespan of software and devices; increased use of gadgets; miniaturisation of the devices"
        ],
        [
         "14",
         "15",
         "103",
         "assistive technologies; technological services improvement; technology use (TU); digital innovations; open source design principles; technological development; educational activities concerning electric bicycles; nanotechnology; personal innovativeness; understanding of the technologies; modernization; technical curiosity; use of advanced technologies; IT use; time on technology"
        ],
        [
         "15",
         "16",
         "63",
         "products considered unhealthy by consumers; fast food and soft drink industries marketing campaigns; statutory bans on advertising targeting children; food blogging in social media; 7-day food diary (7DFD); social media advertising; mhealth and sport market products; advertising to promote healthy eating habits; fast-food restaurant advertising; convenience pursuit-type dietary lifestyle; online advertisement; retailer advertising; advertising strategies on public transportation; food delivery apps; advertising disclosure"
        ],
        [
         "16",
         "17",
         "63",
         "smart metering strategies; Online POTable water quality monitoring NETwork (POTNET); Smart Meters (SM); Smart Home device; smart gardening; built-in sensors; Smart sensors and other IoT devices; new method to estimate lake water volume; sensor network with delay tolerance (SeNDT) units; Metal oxide semiconductor (MOX) gas sensors; Wireless Sensor Networks (WSNs); smart water and energy meters; smart metering deployment; Smart Object System; intelligent devices"
        ],
        [
         "17",
         "18",
         "54",
         "doomscrolling; Ludo Star game addiction; child possession of music devices; video game addiction; educational video game; online, multi-player experiences; console-gaming aggression; life simulation games; serious video games; balanced gaming habits; video recording of a game; online gaming; computer and console games, as well as TV programs; online game addiction; online gaming addiction"
        ],
        [
         "18",
         "19",
         "170",
         "branded mobile apps from supermarkets; dumbphone use; custom smartphone application; smartphone-based pedometer; responsiveness; mobile device adoption; application on an Android device and an LCD on an air purifier device; mobile phone vibrations to interrupt extended periods of inactivity; mobile-based payment (M-payment) services; ubiquitous computing technologies; mobile phone access; mobile and internet penetration; GPS and camera-equipped mobile devices; apps and other technology-related solutions; mobile phones, televisions"
        ],
        [
         "19",
         "20",
         "44",
         "smartphone apps aimed at promoting healthy habits; continuous glucose monitor and accelerometer; health applications; mobile phone application for sustainable behaviors; mobile technology usage for health enhancement; activity monitor with sitting reminders; mobile phone app interventions; mobile apps to lose weight; health apps; mobile health applications; health enhancement app usage; mobile health (mHealth); Fitbit Versa; Fitbits; fitness apps, wearables, exergames, and chatbots"
        ],
        [
         "20",
         "21",
         "97",
         "home-based education; integrating advanced digital technologies; web-based lifestyle support tools; healthier online habits; prevention-focus; technology integration; internet use in seeking healthy lifestyle behavior (HLB) information on diet and exercise; higher education IS; fitness is a lifestyle; new lifestyles revolving around the home and the internet; habits; personal lifestyle; improving the ability of rural users to effectively use the internet; Digital well-being; digital detox"
        ],
        [
         "21",
         "22",
         "166",
         "electronic media use; role of mass media in fostering public awareness; use of digital media for training; men's lifestyle magazines; sports magazines; information availability and media coverage; media's effect on lifestyle; responsible journalism; openness of media; environmental media; Pambazuka News; flooding of the internet with misinformation, including climate change denial; Media and Information Literacy (MIL) policies; personal perceived environmental threats; effects of promotion on the internet and visual media"
        ],
        [
         "22",
         "23",
         "46",
         "green network mechanism and strategy; green communication; green YouTube Ads; radio access network (RAN) energy consumption; Reverse Logistics in Green Procurement; green activism; green IoT; green labeling; Green IoT; green IT; green networking collaboration among competitive mobile operators; green ICT; Internet + Green public welfare model; Green Network Initiative; green lifestyle promotion"
        ],
        [
         "23",
         "24",
         "269",
         "deployment of cellular base-stations; access to telecommunication services; 5G network slicing; deployment of 5G and even 6G networks; better internet connections; usage-based pricing for fixed broadband service; distributed infrastructure for heterogeneous devices in the home local area network (xAAL); telecommunications technologies; cellular technology with long term evolution (LTE)-based standards; competitive pressure from cable providers; telecommunications services; mobile Internet infrastructure; cell-phone transmission stations; Fifth Generation (5G) wireless networks; base station sleeping strategy"
        ],
        [
         "24",
         "25",
         "82",
         "live video delivery format; traditional DVD methods; hours watching TV daily; time spent watching television; TV drama series; computer games and TV-watching; television/day; audio-visual transmission technology; T.V and Radio; violent scenes; video-on-demand cable television; TV and/or radio watching; LED TV display; documentary Forks Over Knives; TV and video"
        ],
        [
         "25",
         "26",
         "47",
         "video game time use; Screenomics paradigm; time spent on games and computers; screen time use; hours in front of electronic devices; screen-based media (SBM) use; screen use; screen-based media use; total screen time; integration of screens in everyday experience; electronic screen exposure time; familiar devices (as TV); time spent by screens; excessive screen time; usage of screen-based media devices by children"
        ],
        [
         "26",
         "27",
         "464",
         "investing time and energy in family demands during work time; consumer lifestyle image, convenience, hedonic shopping orientation, and personal expression motivation; on-line shopping; sales promotion; critical social justice education; promotion; perceived value of users; engagement with traditional and online alcohol marketing; entertainment gratification; Perceived Risk; gaming avatars; coping strategies; self-image congruity; self-control; materialism"
        ],
        [
         "27",
         "28",
         "52",
         "GIS-based program called ISBIS; online interactive maps; internet-based technologies; website development; geographic information system design; self-service technology (SST); dynamic web application; online application; dynamic web-based delivery system; exertion interfaces; multilingual Web survey; web application for user-end notifications; internet development; information technology and geographical information systems; Internet technologies"
        ],
        [
         "28",
         "29",
         "89",
         "numerical weather prediction (NWP); marine navigational radar; low-cost multispectral sensors; satellite resource dimensioning process; satellite imagery; optical satellite remote-sensing; field collected meteorological data; new policy framework specific to the application of satellite technologies; satellite datasets; fusion of optical and Synthetic Aperture Radar (SAR) data; Satellite remote sensing; satellite remote sensing technology; Seasonal and Trend decomposition using Loess (STL); DMSP/OLS nighttime light data; Sentinel-1"
        ],
        [
         "29",
         "30",
         "153",
         "efficient resource allocation; appliance automated control; energy harvesting and transfer; most efficient energy minimising technologies in the RAN; power dispatch strategy; intelligent power consumption management platform; TEER (Telecommunications Energy Efficiency Rating) documents; home energy management systems (HEMS); constrained Particle Swarm Optimization (PSO)-based residential consumer-centric load-scheduling method; Coal Management Module (CMM) Software; Energy Management Systems (EMSs); intelligent renewable energy allocation and switch-off mechanism; resource consolidation; DC power systems for a central office and base station of telecommunication infrastructure; energy recovery"
        ],
        [
         "30",
         "31",
         "56",
         "renewable energy sources (RES); small-scale solar-powered solution; phase change energy storage module; Alternate energy sources; wind turbines (WTs); hybrid solar PV/WT/BG powered macro BSs; availability of electrical energy; back-up diesel generator (DG); modification of battery maintenance practices and equipment commissioning practices to limit maximum demand; Solar Power Satellites (SPS); low-cost transformation of decommissioned stepped power battery; renewable energy; hybrid model (main grid power and dynamically harvested green energy); power from renewable sources; renewable sources with automation control through wireless telecommunication"
        ],
        [
         "31",
         "32",
         "87",
         "information seeking about others; information flow; mobile information security awareness; surveillance; routine knowledge sharing; traceability; Flip.id application use behavior; communication and information; IT Identity; misinformation disseminated by the news media; cyber surveillance; data surveillance; low concerns about data security; difficulty of access to necessary information; digital visibility"
        ],
        [
         "32",
         "33",
         "86",
         "advanced analytics; heuristic algorithm based on the depth-first search; stochastic theoretical model; urban fire model; data collection without consent; social analytics; integrated study on DMSP/OLS data and other data models; analysis tool; third-degree polynomials model; cross-border information systems; data-modeling; data-mining; Machine Learning (ML) inference algorithm; hybrid models; PUE interpretation tool"
        ]
       ],
       "shape": {
        "columns": 3,
        "rows": 33
       }
      },
      "text/html": [
       "<div>\n",
       "<style scoped>\n",
       "    .dataframe tbody tr th:only-of-type {\n",
       "        vertical-align: middle;\n",
       "    }\n",
       "\n",
       "    .dataframe tbody tr th {\n",
       "        vertical-align: top;\n",
       "    }\n",
       "\n",
       "    .dataframe thead th {\n",
       "        text-align: right;\n",
       "    }\n",
       "</style>\n",
       "<table border=\"1\" class=\"dataframe\">\n",
       "  <thead>\n",
       "    <tr style=\"text-align: right;\">\n",
       "      <th></th>\n",
       "      <th>Cluster Number</th>\n",
       "      <th>Number of Sentences</th>\n",
       "      <th>Sample Sentences</th>\n",
       "    </tr>\n",
       "  </thead>\n",
       "  <tbody>\n",
       "    <tr>\n",
       "      <th>0</th>\n",
       "      <td>1</td>\n",
       "      <td>58</td>\n",
       "      <td>reduced social media use (SMU); social Interne...</td>\n",
       "    </tr>\n",
       "    <tr>\n",
       "      <th>1</th>\n",
       "      <td>2</td>\n",
       "      <td>23</td>\n",
       "      <td>non-use of the internet; using the internet; b...</td>\n",
       "    </tr>\n",
       "    <tr>\n",
       "      <th>2</th>\n",
       "      <td>3</td>\n",
       "      <td>40</td>\n",
       "      <td>information and communications technologies (I...</td>\n",
       "    </tr>\n",
       "    <tr>\n",
       "      <th>3</th>\n",
       "      <td>4</td>\n",
       "      <td>56</td>\n",
       "      <td>Internet-of-Things; IoT based smart homes; Int...</td>\n",
       "    </tr>\n",
       "    <tr>\n",
       "      <th>4</th>\n",
       "      <td>5</td>\n",
       "      <td>23</td>\n",
       "      <td>digital optimization; Digitalization; digitali...</td>\n",
       "    </tr>\n",
       "    <tr>\n",
       "      <th>5</th>\n",
       "      <td>6</td>\n",
       "      <td>27</td>\n",
       "      <td>five-feature website; Korean pop cultural cont...</td>\n",
       "    </tr>\n",
       "    <tr>\n",
       "      <th>6</th>\n",
       "      <td>7</td>\n",
       "      <td>53</td>\n",
       "      <td>Big Data; online cloud services; cloud computi...</td>\n",
       "    </tr>\n",
       "    <tr>\n",
       "      <th>7</th>\n",
       "      <td>8</td>\n",
       "      <td>91</td>\n",
       "      <td>digital inclusion of civil society; digital so...</td>\n",
       "    </tr>\n",
       "    <tr>\n",
       "      <th>8</th>\n",
       "      <td>9</td>\n",
       "      <td>68</td>\n",
       "      <td>HPC/ICT servers operation and cooling; energy ...</td>\n",
       "    </tr>\n",
       "    <tr>\n",
       "      <th>9</th>\n",
       "      <td>10</td>\n",
       "      <td>47</td>\n",
       "      <td>large data center; data center; data centers; ...</td>\n",
       "    </tr>\n",
       "    <tr>\n",
       "      <th>10</th>\n",
       "      <td>11</td>\n",
       "      <td>122</td>\n",
       "      <td>education and ICTs; ICT policies favoring huma...</td>\n",
       "    </tr>\n",
       "    <tr>\n",
       "      <th>11</th>\n",
       "      <td>12</td>\n",
       "      <td>232</td>\n",
       "      <td>online social interaction; social media analys...</td>\n",
       "    </tr>\n",
       "    <tr>\n",
       "      <th>12</th>\n",
       "      <td>13</td>\n",
       "      <td>38</td>\n",
       "      <td>text messaging (short message service, SMS); T...</td>\n",
       "    </tr>\n",
       "    <tr>\n",
       "      <th>13</th>\n",
       "      <td>14</td>\n",
       "      <td>57</td>\n",
       "      <td>electronic appliances; electronic devices prol...</td>\n",
       "    </tr>\n",
       "    <tr>\n",
       "      <th>14</th>\n",
       "      <td>15</td>\n",
       "      <td>103</td>\n",
       "      <td>assistive technologies; technological services...</td>\n",
       "    </tr>\n",
       "    <tr>\n",
       "      <th>15</th>\n",
       "      <td>16</td>\n",
       "      <td>63</td>\n",
       "      <td>products considered unhealthy by consumers; fa...</td>\n",
       "    </tr>\n",
       "    <tr>\n",
       "      <th>16</th>\n",
       "      <td>17</td>\n",
       "      <td>63</td>\n",
       "      <td>smart metering strategies; Online POTable wate...</td>\n",
       "    </tr>\n",
       "    <tr>\n",
       "      <th>17</th>\n",
       "      <td>18</td>\n",
       "      <td>54</td>\n",
       "      <td>doomscrolling; Ludo Star game addiction; child...</td>\n",
       "    </tr>\n",
       "    <tr>\n",
       "      <th>18</th>\n",
       "      <td>19</td>\n",
       "      <td>170</td>\n",
       "      <td>branded mobile apps from supermarkets; dumbpho...</td>\n",
       "    </tr>\n",
       "    <tr>\n",
       "      <th>19</th>\n",
       "      <td>20</td>\n",
       "      <td>44</td>\n",
       "      <td>smartphone apps aimed at promoting healthy hab...</td>\n",
       "    </tr>\n",
       "    <tr>\n",
       "      <th>20</th>\n",
       "      <td>21</td>\n",
       "      <td>97</td>\n",
       "      <td>home-based education; integrating advanced dig...</td>\n",
       "    </tr>\n",
       "    <tr>\n",
       "      <th>21</th>\n",
       "      <td>22</td>\n",
       "      <td>166</td>\n",
       "      <td>electronic media use; role of mass media in fo...</td>\n",
       "    </tr>\n",
       "    <tr>\n",
       "      <th>22</th>\n",
       "      <td>23</td>\n",
       "      <td>46</td>\n",
       "      <td>green network mechanism and strategy; green co...</td>\n",
       "    </tr>\n",
       "    <tr>\n",
       "      <th>23</th>\n",
       "      <td>24</td>\n",
       "      <td>269</td>\n",
       "      <td>deployment of cellular base-stations; access t...</td>\n",
       "    </tr>\n",
       "    <tr>\n",
       "      <th>24</th>\n",
       "      <td>25</td>\n",
       "      <td>82</td>\n",
       "      <td>live video delivery format; traditional DVD me...</td>\n",
       "    </tr>\n",
       "    <tr>\n",
       "      <th>25</th>\n",
       "      <td>26</td>\n",
       "      <td>47</td>\n",
       "      <td>video game time use; Screenomics paradigm; tim...</td>\n",
       "    </tr>\n",
       "    <tr>\n",
       "      <th>26</th>\n",
       "      <td>27</td>\n",
       "      <td>464</td>\n",
       "      <td>investing time and energy in family demands du...</td>\n",
       "    </tr>\n",
       "    <tr>\n",
       "      <th>27</th>\n",
       "      <td>28</td>\n",
       "      <td>52</td>\n",
       "      <td>GIS-based program called ISBIS; online interac...</td>\n",
       "    </tr>\n",
       "    <tr>\n",
       "      <th>28</th>\n",
       "      <td>29</td>\n",
       "      <td>89</td>\n",
       "      <td>numerical weather prediction (NWP); marine nav...</td>\n",
       "    </tr>\n",
       "    <tr>\n",
       "      <th>29</th>\n",
       "      <td>30</td>\n",
       "      <td>153</td>\n",
       "      <td>efficient resource allocation; appliance autom...</td>\n",
       "    </tr>\n",
       "    <tr>\n",
       "      <th>30</th>\n",
       "      <td>31</td>\n",
       "      <td>56</td>\n",
       "      <td>renewable energy sources (RES); small-scale so...</td>\n",
       "    </tr>\n",
       "    <tr>\n",
       "      <th>31</th>\n",
       "      <td>32</td>\n",
       "      <td>87</td>\n",
       "      <td>information seeking about others; information ...</td>\n",
       "    </tr>\n",
       "    <tr>\n",
       "      <th>32</th>\n",
       "      <td>33</td>\n",
       "      <td>86</td>\n",
       "      <td>advanced analytics; heuristic algorithm based ...</td>\n",
       "    </tr>\n",
       "  </tbody>\n",
       "</table>\n",
       "</div>"
      ],
      "text/plain": [
       "    Cluster Number  Number of Sentences  \\\n",
       "0                1                   58   \n",
       "1                2                   23   \n",
       "2                3                   40   \n",
       "3                4                   56   \n",
       "4                5                   23   \n",
       "5                6                   27   \n",
       "6                7                   53   \n",
       "7                8                   91   \n",
       "8                9                   68   \n",
       "9               10                   47   \n",
       "10              11                  122   \n",
       "11              12                  232   \n",
       "12              13                   38   \n",
       "13              14                   57   \n",
       "14              15                  103   \n",
       "15              16                   63   \n",
       "16              17                   63   \n",
       "17              18                   54   \n",
       "18              19                  170   \n",
       "19              20                   44   \n",
       "20              21                   97   \n",
       "21              22                  166   \n",
       "22              23                   46   \n",
       "23              24                  269   \n",
       "24              25                   82   \n",
       "25              26                   47   \n",
       "26              27                  464   \n",
       "27              28                   52   \n",
       "28              29                   89   \n",
       "29              30                  153   \n",
       "30              31                   56   \n",
       "31              32                   87   \n",
       "32              33                   86   \n",
       "\n",
       "                                     Sample Sentences  \n",
       "0   reduced social media use (SMU); social Interne...  \n",
       "1   non-use of the internet; using the internet; b...  \n",
       "2   information and communications technologies (I...  \n",
       "3   Internet-of-Things; IoT based smart homes; Int...  \n",
       "4   digital optimization; Digitalization; digitali...  \n",
       "5   five-feature website; Korean pop cultural cont...  \n",
       "6   Big Data; online cloud services; cloud computi...  \n",
       "7   digital inclusion of civil society; digital so...  \n",
       "8   HPC/ICT servers operation and cooling; energy ...  \n",
       "9   large data center; data center; data centers; ...  \n",
       "10  education and ICTs; ICT policies favoring huma...  \n",
       "11  online social interaction; social media analys...  \n",
       "12  text messaging (short message service, SMS); T...  \n",
       "13  electronic appliances; electronic devices prol...  \n",
       "14  assistive technologies; technological services...  \n",
       "15  products considered unhealthy by consumers; fa...  \n",
       "16  smart metering strategies; Online POTable wate...  \n",
       "17  doomscrolling; Ludo Star game addiction; child...  \n",
       "18  branded mobile apps from supermarkets; dumbpho...  \n",
       "19  smartphone apps aimed at promoting healthy hab...  \n",
       "20  home-based education; integrating advanced dig...  \n",
       "21  electronic media use; role of mass media in fo...  \n",
       "22  green network mechanism and strategy; green co...  \n",
       "23  deployment of cellular base-stations; access t...  \n",
       "24  live video delivery format; traditional DVD me...  \n",
       "25  video game time use; Screenomics paradigm; tim...  \n",
       "26  investing time and energy in family demands du...  \n",
       "27  GIS-based program called ISBIS; online interac...  \n",
       "28  numerical weather prediction (NWP); marine nav...  \n",
       "29  efficient resource allocation; appliance autom...  \n",
       "30  renewable energy sources (RES); small-scale so...  \n",
       "31  information seeking about others; information ...  \n",
       "32  advanced analytics; heuristic algorithm based ...  "
      ]
     },
     "execution_count": 10,
     "metadata": {},
     "output_type": "execute_result"
    }
   ],
   "source": [
    "cluster_summary_df = clusterize.get_cluster_summary(clustered_sentences)\n",
    "cluster_summary_df"
   ]
  },
  {
   "cell_type": "code",
   "execution_count": 11,
   "metadata": {},
   "outputs": [
    {
     "data": {
      "application/vnd.microsoft.datawrangler.viewer.v0+json": {
       "columns": [
        {
         "name": "index",
         "rawType": "int64",
         "type": "integer"
        },
        {
         "name": "samples",
         "rawType": "object",
         "type": "string"
        }
       ],
       "ref": "be3a7ed8-6d80-4ab4-9ef5-b05f70806dd2",
       "rows": [
        [
         "0",
         "TikTok's localised moderation"
        ],
        [
         "1",
         "real-time smart charging and storage platform"
        ],
        [
         "2",
         "mobile phone addiction"
        ],
        [
         "3",
         "virtual reality (VR)"
        ],
        [
         "4",
         "online social support"
        ],
        [
         "5",
         "information technology and networks"
        ],
        [
         "6",
         "internet addiction"
        ],
        [
         "7",
         "excessive exposure to the Internet"
        ],
        [
         "8",
         "monitoring devices like AM7000"
        ],
        [
         "9",
         "e-retail"
        ],
        [
         "10",
         "operational gateways"
        ],
        [
         "11",
         "Information and Communication Technologies"
        ],
        [
         "12",
         "focus on self-presentation and upward social comparison on social media"
        ],
        [
         "13",
         "sufficiency-promoting online content"
        ],
        [
         "14",
         "e-learning and exercise videos"
        ],
        [
         "15",
         "technological advancement in the communication and control infrastructure"
        ],
        [
         "16",
         "Wireless Supply and Load Management (WSLM) scheme"
        ],
        [
         "17",
         "MODIS data"
        ],
        [
         "18",
         "resilience framework assessing five capitals or assets: human, social, physical, financial, and natural capital"
        ],
        [
         "19",
         "information and communication technology"
        ],
        [
         "20",
         "online sightings survey"
        ],
        [
         "21",
         "ecommers platform"
        ],
        [
         "22",
         "Information Communication Technology"
        ],
        [
         "23",
         "IT staff offices"
        ],
        [
         "24",
         "wearable devices"
        ],
        [
         "25",
         "telecommuting"
        ],
        [
         "26",
         "e-commerce"
        ],
        [
         "27",
         "variation in the duration of light"
        ],
        [
         "28",
         "TikTok's localised moderation"
        ],
        [
         "29",
         "artificial-intelligence lie detectors"
        ],
        [
         "30",
         "dormancy and load transfer strategies"
        ],
        [
         "31",
         "e-commerce"
        ],
        [
         "32",
         "procedural guarantees and remediation mechanisms in content moderation systems"
        ],
        [
         "33",
         "information technologies"
        ],
        [
         "34",
         "use of openstreetmap data"
        ],
        [
         "35",
         "smart grid"
        ],
        [
         "36",
         "Internet addiction"
        ],
        [
         "37",
         "Social networking services (SNSs)"
        ],
        [
         "38",
         "network technology advances"
        ],
        [
         "39",
         "artificial intelligence"
        ],
        [
         "40",
         "aggregated Tencent location request (TLR) data"
        ],
        [
         "41",
         "robotic tour guide"
        ],
        [
         "42",
         "Korean language abilities"
        ],
        [
         "43",
         "transition from traditional grid to smart grid"
        ],
        [
         "44",
         "offline social support (OffSS)"
        ],
        [
         "45",
         "development of information and communication technologies"
        ],
        [
         "46",
         "optimal wireless energy charging policy"
        ],
        [
         "47",
         "smartphone addiction"
        ],
        [
         "48",
         "e-commerce"
        ],
        [
         "49",
         "demand-side management system"
        ]
       ],
       "shape": {
        "columns": 1,
        "rows": 100
       }
      },
      "text/html": [
       "<div>\n",
       "<style scoped>\n",
       "    .dataframe tbody tr th:only-of-type {\n",
       "        vertical-align: middle;\n",
       "    }\n",
       "\n",
       "    .dataframe tbody tr th {\n",
       "        vertical-align: top;\n",
       "    }\n",
       "\n",
       "    .dataframe thead th {\n",
       "        text-align: right;\n",
       "    }\n",
       "</style>\n",
       "<table border=\"1\" class=\"dataframe\">\n",
       "  <thead>\n",
       "    <tr style=\"text-align: right;\">\n",
       "      <th></th>\n",
       "      <th>samples</th>\n",
       "    </tr>\n",
       "  </thead>\n",
       "  <tbody>\n",
       "    <tr>\n",
       "      <th>0</th>\n",
       "      <td>TikTok's localised moderation</td>\n",
       "    </tr>\n",
       "    <tr>\n",
       "      <th>1</th>\n",
       "      <td>real-time smart charging and storage platform</td>\n",
       "    </tr>\n",
       "    <tr>\n",
       "      <th>2</th>\n",
       "      <td>mobile phone addiction</td>\n",
       "    </tr>\n",
       "    <tr>\n",
       "      <th>3</th>\n",
       "      <td>virtual reality (VR)</td>\n",
       "    </tr>\n",
       "    <tr>\n",
       "      <th>4</th>\n",
       "      <td>online social support</td>\n",
       "    </tr>\n",
       "    <tr>\n",
       "      <th>...</th>\n",
       "      <td>...</td>\n",
       "    </tr>\n",
       "    <tr>\n",
       "      <th>95</th>\n",
       "      <td>information and communications technology</td>\n",
       "    </tr>\n",
       "    <tr>\n",
       "      <th>96</th>\n",
       "      <td>domain-specific preprocessing for wastewater a...</td>\n",
       "    </tr>\n",
       "    <tr>\n",
       "      <th>97</th>\n",
       "      <td>internet shutdowns</td>\n",
       "    </tr>\n",
       "    <tr>\n",
       "      <th>98</th>\n",
       "      <td>demand response (DR)</td>\n",
       "    </tr>\n",
       "    <tr>\n",
       "      <th>99</th>\n",
       "      <td>MP3 players</td>\n",
       "    </tr>\n",
       "  </tbody>\n",
       "</table>\n",
       "<p>100 rows × 1 columns</p>\n",
       "</div>"
      ],
      "text/plain": [
       "                                              samples\n",
       "0                       TikTok's localised moderation\n",
       "1       real-time smart charging and storage platform\n",
       "2                              mobile phone addiction\n",
       "3                                virtual reality (VR)\n",
       "4                               online social support\n",
       "..                                                ...\n",
       "95          information and communications technology\n",
       "96  domain-specific preprocessing for wastewater a...\n",
       "97                                 internet shutdowns\n",
       "98                               demand response (DR)\n",
       "99                                        MP3 players\n",
       "\n",
       "[100 rows x 1 columns]"
      ]
     },
     "execution_count": 11,
     "metadata": {},
     "output_type": "execute_result"
    }
   ],
   "source": [
    "noise_df = clusterize.get_noise_sample(noise)\n",
    "noise_df"
   ]
  },
  {
   "cell_type": "code",
   "execution_count": 12,
   "metadata": {},
   "outputs": [],
   "source": [
    "clusterize.save_results(params, results, noise_df, cluster_summary_df, hdbscan_model, domain, 'items')"
   ]
  },
  {
   "cell_type": "code",
   "execution_count": 169,
   "metadata": {},
   "outputs": [
    {
     "name": "stdout",
     "output_type": "stream",
     "text": [
      "no noise generated by cluster 7\n",
      "reclustering of cluster 9 adding 39 items to noise\n",
      "reclustering of cluster 16 adding 6 items to noise\n",
      "no noise generated by cluster 23\n",
      "reclustering of cluster 24 adding 7 items to noise\n",
      "reclustering of cluster 27 adding 19 items to noise\n",
      "reclustering of cluster 30 adding 2 items to noise\n"
     ]
    },
    {
     "data": {
      "application/vnd.microsoft.datawrangler.viewer.v0+json": {
       "columns": [
        {
         "name": "index",
         "rawType": "int64",
         "type": "integer"
        },
        {
         "name": "cluster_id",
         "rawType": "object",
         "type": "unknown"
        },
        {
         "name": "sentences",
         "rawType": "object",
         "type": "unknown"
        }
       ],
       "ref": "488d9ddb-6fef-4814-b1dd-dc16c380c9d0",
       "rows": [
        [
         "0",
         "0",
         "['social media usage', 'social media use', 'social media usage', 'social media usage', 'activities on the internet (e.g., gambling, video gaming, social media use, pornography use, etc.)', 'social media use', 'social media use', 'social media use', 'positive social media use', 'social media use', 'habitual social media use', 'supportive social media use', 'happy to spend time on social media', 'screen-time and social media use', 'social media use', 'social media use', 'social media usage', 'social media use', 'social media use', 'posting about feelings and venting on social media', 'perceptions of low social rank when using social media', 'social media use', 'social media use', 'limiting social media use to 30 minutes a day', 'individual differences (social media persona, app preferences and student status)', 'social media use', 'social media usage', 'time management of social media usage', 'Internet and social media use', 'social media use', 'social media use', 'social media use', 'social media use (Instagram and Snapchat)', 'social media use', 'using social media as a means to strengthen business', 'social media usage', 'use of social media', 'social media use', 'reduced social media use (SMU)', 'social media users', 'social Internet consumption', 'tourists’ travel experience sharing via mobile social media (MSM)', 'Twitter use', 'social media use', 'Enterprise Social Media (ESM) usage', 'application of social media', 'social media use', 'active use of social media for informational purposes', 'social media use', 'social media usage', 'social media use', 'use of social media for dissemination', 'social media use', 'social media usage', 'social media usage', 'Machine-to-Machine (M2M) technology and social media networks Twitter', 'social media use', 'social media use', 'reducing SNS time to 30 minutes per day', 'social media use', 'social media usage', 'social media use', 'social media use', 'posting about feelings and venting on social media', 'perceptions of low social rank when using social media', 'social media use', 'use of social media', 'social media usage', 'limit Facebook, Instagram and Snapchat use to 10 minutes, per platform, per day', 'use social media as usual', 'use of some social media', 'Twitter use', 'creative and constructive use of social media', 'phone and social media use', 'social media (SM) use', 'social media identity', 'social media use', 'social media checking frequency', 'social media posting frequency', 'social media use', 'reducing SNS time to 30 minutes per day', 'social media use', 'social media usage', 'social media use', 'social media use', 'posting about feelings and venting on social media', 'perceptions of low social rank when using social media', 'social media use', 'social media use', 'limiting social media use to 30 minutes a day', 'individual differences (social media persona, app preferences and student status)', 'social media use', 'social media usage', 'time management of social media usage', 'Internet and social media use', 'social media use', 'personalized full-screen nudges to reduce social media app use', 'social media use', 'social media use', 'content analysis of trending hash tags on social media platforms', 'social media users intensity', 'usage of social media', 'social media usage', 'frequent social media use', 'social media volume usage', 'no. of social media friends', 'enterprise social media (ESM) usage', 'social media use', 'excessive time on social media websites', 'enterprise social media (ESM) usage', 'social media use for health', 'providing daily information using social media applications or other technical devices', 'Social media (SM) use', 'Twitter use', 'use of social media', 'social media usage', 'social media use', 'social media use', 'responsible social media use', 'health-related social media use', 'active social media use', 'passive social media use', 'smartphones and social media apps', 'social media utilization', 'social media usage', 'smartphone use for entertainment and socialization', 'Twitter', 'social media use', 'time on social media', 'social media use', 'social media use', 'social media usage', 'social media use', 'social media use', 'posting about feelings and venting on social media', 'perceptions of low social rank when using social media', 'social media use', 'social media use', 'limiting social media use to 30 minutes a day', 'individual differences (social media persona, app preferences and student status)', 'social media use', 'social media usage', 'time management of social media usage', 'Internet and social media use', 'social media use', 'social media use', 'social media use', 'social media use', 'reducing SNS time to 30 minutes per day', 'social media use', 'social media usage', 'social media use', 'social media use', 'posting about feelings and venting on social media', 'perceptions of low social rank when using social media', 'social media use', 'social media use', 'limiting social media use to 30 minutes a day', 'individual differences (social media persona, app preferences and student status)', 'social media use', 'social media use', 'social media use', 'posting about feelings and venting on social media', 'perceptions of low social rank when using social media', 'social media use', 'social media use', 'limiting social media use to 30 minutes a day', 'individual differences (social media persona, app preferences and student status)', 'social media use']"
        ],
        [
         "1",
         "1",
         "['internet usage', 'Internet use', 'internet use', 'internet use daily', 'internet use', 'Internet usage', 'use of the Internet', 'internet usage', 'daily internet usage', 'internet use', 'internet use', 'computer and internet', 'internet use', 'number of Internet users', 'Internet use', 'internet use', 'Internet use', 'changes in Internet use due to COVID-19 pandemic', 'Internet use', 'internet use', 'Internet use', 'Internet use', 'Internet use', 'internet usage', 'internet use', 'internet usage', 'Internet usage', 'use of the Internet', 'use of the internet', 'internet use management program', 'internet data usage', 'Internet use', 'internet use', 'internet use', 'computer and internet', 'usage of the internet and mobile internet tools by the older adults population', 'Internet use', 'internet use', 'internet activity facilitating self-management', 'internet dependency', 'Internet usage', 'Internet usage time', 'Internet use', 'internet use', 'internet use', 'computer and internet', 'internet use', 'number of Internet users', 'Internet use', 'internet use', 'use of the internet', 'internet use', 'internet usage', 'using the internet', 'beliefs about the Internet', 'daily internet use', 'moderate and regular internet use frequency', 'internet usage', 'Internet use', 'non-use of the internet', 'level of Internet use', 'internet use', 'number of Internet users', 'Internet use', 'internet use', 'Internet use', 'internet data usage', 'Internet use', 'internet use', 'internet use', 'computer and internet', 'internet use', 'number of Internet users', 'Internet use', 'computer and internet', 'internet use', 'number of Internet users', 'Internet use']"
        ],
        [
         "2",
         "2",
         "['information and communication technologies (ICTs)', 'Information and Communication Technology (ICT)', 'Information and Communication Technology (ICT) systems', 'information and communication technology (ICT) for academic purposes', 'Information and Communication Technology (ICT)', 'information and communications technologies (ICTs)', 'information and communication technology (ICT)', 'Information communication technology (ICT)', 'information and communication technologies (ICT)', 'Information Communication Technology (ICT)', 'information and communication technology (ICT)', 'information and communication technology (ICT)', 'social appropriation of information and communication technologies (icts)', 'ICT applications', 'information and communication technologies (ICTs)', 'information and communication technology (ICT) services', 'information and communications technology (ICT)', 'advanced information and communication technologies', 'Information and Communication Technology (ICT)', 'Information and Communication Technology (ICT) and Control Technology (CT)', 'information and communication technology (ICT)', 'Information and communications technology (ICT)', 'information and communication technologies (ICT)', 'Information and Communication Technology (ICT) application (app)', 'Information and Communication Technologies (ICTs)', 'information and communication technology (ICT)', 'information and communication technologies (ICTs)', 'modern information and communication technology (ICT)', 'ICT (information, communications and technology)', 'information and communications technology (ICT)', 'information and communication technologies (ICT) applications', 'ERP systems', 'Information and communication technologies (ICT)', 'Information and Communication Technologies (ICTs)', 'ICT (information and communications technology)', 'advanced information and communication technologies (ICT)', 'Information Communication Technology (ICT)', 'information and communication technology (ICT)', 'information and communication technology (ICT)', 'Information and Communication Technologies (ICT)', 'Information and Communication Technologies (ICTs)', 'Information and communication technologies (ICT)', 'Information and Communication Technology (ICT), including data centres, communication networks and user devices', 'information and communication technology (ICT)', 'Information and Communication Technology (ICT)', 'information and communication technology (ICT)', 'Information and Communication Technology (ICT) development', 'advanced information and communication technologies (ICT)', 'Information Communication Technology (ICT)', 'information and communication technology (ICT)', 'information and communication technology (ICT)', 'social appropriation of information and communication technologies (icts)', 'ICT applications', 'information and communication technologies (ICTs)', 'information and communication technology (ICT) services', 'information and communications technology (ICT)', 'information and communications technology (ICT)', 'information and communication technology (ICT)', 'information communications technology (ICT)', 'information communications technology (ICT)', 'information and communication technologies (ICTs)', 'information and communication technology (ICT)', 'Information and Communications Technology (ICT)', 'Information and Communications Technology (ICT)', 'modern Information and Communication Technologies (ICTs)', 'information and communication technology (ICT)', 'information and communication technologies (ICTs)', 'information and communications technologies (ICTs)', 'ICT (Information and Communication Technology) resources', 'information and communications technologies (ICTs)', 'Information and Communication Technology (ICT) industry', 'information and communication technology (ICT)', 'information and communication technology (ICT)', 'ICT and other smart technologies of the future', 'advancement of information and communication technology (ICT)', 'information and communications technology (ICT)', 'advanced technologies including information and communication technologies, modern measuring devices like phasor measurement units, fast computational techniques', 'Information and Communication Technologies (ICTs)', 'Information and communication technologies (ICT)', 'Internet Communication and Technologies (ICTs)', 'Information and Communication Technology (ICT)', 'Information and Communication Technology (ICT) products', 'information and communication technologies (ICTs)', 'Information and Communication Technologies (ICTs)', 'information and communication technology (ICT)', 'information and communication technologies (ICT)', 'information and communication technology (ICT)', 'information and communication technology (ICT)', 'social appropriation of information and communication technologies (icts)', 'ICT applications', 'information and communication technologies (ICTs)', 'information and communication technology (ICT) services', 'information and communications technology (ICT)', 'advanced information and communication technologies', 'Information and Communication Technology (ICT)', 'ICT-communication network', 'Information and communication technology (ICT)-based products', 'Information and Communication Technologies (ICTs)', 'ICT (information and communications technology)', 'advanced information and communication technologies (ICT)', 'Information Communication Technology (ICT)', 'information and communication technology (ICT)', 'information and communication technology (ICT)', 'social appropriation of information and communication technologies (icts)', 'ICT applications', 'information and communication technology (ICT)', 'information and communication technology (ICT)', 'social appropriation of information and communication technologies (icts)', 'ICT applications']"
        ],
        [
         "3",
         "3",
         "['Internet of Things utilization', 'technological advances (e.g. big data and IoT)', 'internet of things enabled devices', 'Internet of Things (IoT) systems', 'IoT-based Smart Sensor system (IoT-SS)', 'smart city and IoT-based monitoring', 'automated ICT infrastructure empowered by the IoT technology', 'Internet-of-Things', 'Internet of Things (IoT)', 'Internet of Things (IoT)', 'Internet of Things (IoT) and smart grid technologies', 'IoT technology', 'Internet of Things implementation', 'Intemet of Things (IoT) monitoring system', 'Internet of Things (IoT)', 'Internet of Things (IoT) technology', 'IoT technology', 'Internet of Things cloud server', 'Internet of Things (IoT) based Solution', 'IoT', 'Internet of Things (IoT) platform', 'internet of things (IoT) connectivity', 'IoT (Internet of Things) technology', 'IoT-based technology', 'self-powered IoT sensor network', 'internet of things (IoT)', 'Internet of things and blockchain technologies', 'Internet of Things', 'Internet of Things (IoT)', 'develop the same system using IoT platforms like Thingspeak or Cayenne', 'smart Internet of Things (IoT) devices', 'IoT', 'internet of things (IoT)', 'Internet of Things (IoT)', 'ambient intelligence', 'IoT-HUB technology', 'Internet of Things (IoT) capability', 'Internet of Things (IOT) monitoring', 'IoT entity (a data acquisition module)', 'Internet of Things (IoT)', 'Internet of Things (IoT) and smart grid technologies', 'IoT technology', 'Internet of Things implementation', 'Internet of Things (IoT) and Cloud Database', 'Internet of Things (IoT) communication protocol', 'Internet of Things', 'Internet of Things technology', 'Internet of Things (IoT) technology', 'Smart cities and the Internet of Things (IoT)', 'IoT technology', 'IoT platform', 'IoT connection', 'Internet of Things', 'up-to-date development of weather radar and satellite monitoring, image-based monitoring, information technology (IT), Internet of Things (IoT), big data and artificial intelligence (AI)', 'IoT system compatibility', 'Internet of Things (IoT)', 'Internet of Things (IoT) and smart grid technologies', 'IoT technology', 'Internet of Things implementation', 'Intemet of Things (IoT) monitoring system', 'Internet of Things (IoT)', 'IOT based platform', 'Internet of Things', 'Internet of Things (IoT) technology', 'internet of things', 'Internet of Things (IoT)', 'Internet-of-Things (IoT)', 'Internet of Things (IoT) technology', 'Internet of Things (IoT) techniques', 'IoT-based cage', 'low-cost IoT (internet of things) system for real-time monitoring', 'Internet of Things and big data technology', 'Internet of Things', 'Internet of things (IoT)', 'internet of things', 'IOT (internet of things) integrated with grids', 'Internet of Things (IoT)', 'IOT driven automation', 'Internet of Things (IoT)', 'Internet of Things', 'synchronizing IoT devices with our energy system', 'Internet of Things', 'smart classroom data analysis system based on the Internet of Things', 'Internet of Things technology', 'Internet of Things (IoT) technologies', 'IoT', 'IoT technology', 'Internet of Things implementation', 'Intemet of Things (IoT) monitoring system', 'Internet of Things (IoT)', 'Internet of Things (IoT) technology', 'IoT technology', 'IoT based smart homes', 'Internet of things (IoT) technology', 'Internet of Things (IoT) cloud', 'IoT entity (a data acquisition module)', 'Internet of Things (IoT)', 'Internet of Things (IoT) and smart grid technologies', 'IoT technology', 'Internet of Things implementation', 'Intemet of Things (IoT) monitoring system', 'IoT technology', 'Internet of Things implementation', 'Intemet of Things (IoT) monitoring system']"
        ],
        [
         "4",
         "4",
         "['digitalisation of societies', 'technology and digitalisation', 'digital business penetration (DBP)', 'digitalisation of data', 'digitalisation', 'digitalization', 'digitization and digital technologies', 'digital transformation', 'Digitalization', 'digitalization', 'regional digitalization', 'digitalisation', 'digitalization', 'digital transformation', 'digitalisation', 'digitalisation and penetration of information and communication technologies', 'digitalisation enables work from home', 'digital transformation', 'digital optimization', 'digitalization', 'digitalization', 'digitalization', 'digitalization', 'digital spaces appropriation', 'digital transformation', 'digitalisation', 'transforming research libraries', 'digitalization', 'digitization', 'dematerialization', 'regional digitalization', 'digitalisation', 'decelerate digital transition', 'digitalization of maritime industry', 'massive digitalization', 'digital transformation', 'digitalisation', 'digital transformation', 'digitalization', 'regional digitalization', 'digitalisation', 'digitalization', 'digital transformation', 'digitalisation', 'digitalisation and penetration of information and communication technologies', 'digitalisation enables work from home', 'digitalization', 'digitalization', 'shift the business to digital', 'digitalisation', 'digitalization', 'policy in the field of digitalization', 'digital transformation', 'digitalization', 'digital transformation', 'digitalization', 'digitalisation', 'digitalization', 'digital transformation', 'digitalisation', 'digitalisation and penetration of information and communication technologies', 'digitalisation enables work from home', 'digitization including diffusion of robots and artificial intelligence (AI)', 'digitalization', 'digitization', 'dematerialization', 'regional digitalization', 'digitalisation', 'digitalization', 'digital transformation', 'digitalisation', 'digitalization', 'digital transformation']"
        ],
        [
         "5",
         "5",
         "['social media', 'social media', 'social media', 'website', 'websites', 'social media', 'Instagram postings of Blair Imani', 'social media', 'Instagram addiction', 'Xiaohongshu (RED)', 'bibliographic keyword searches', 'internet', 'social media', 'luxurious lifestyle content shared by influencers on Xiaohongshu', 'social media', 'social media', 'social media', 'Instagram posts showing luxurious lifestyles', 'social media', 'New Social Media', 'Internet', 'five-feature website', 'Chinese lifestyle migration', 'social media', 'social media', 'social media', 'social media', 'social media', 'social media', 'social digital media', 'social media', 'social media', 'Korean pop cultural contents (KPCC) consumption behaviors', 'websites', 'social media', 'Instagram addiction', 'Xiaohongshu (RED)', 'bibliographic keyword searches', 'social media', 'social media', 'social media', 'social media', 'social media', 'social media', 'social media', 'Instagram use intensity', 'social media', 'instagram online store', 'social media', 'Instagram addiction', 'Xiaohongshu (RED)', 'bibliographic keyword searches', 'internet', 'social media', 'luxurious lifestyle content shared by influencers on Xiaohongshu', 'social media', 'social media', 'social media', 'Instagram posts showing luxurious lifestyles', 'social media', 'social media', 'social media', 'the Internet', 'social media', 'Instagram usage', \"Observing others' Instagram profiles\", 'Social Media Instagram', 'social media', 'Instagram', 'social media', 'social media', 'social media', 'social media', 'social media', 'Instagram social media', 'social media', 'internet', 'social media', 'social media', 'the Internet and the World Wide Web', 'searching online', 'bibliographic keyword searches', 'internet', 'social media', 'luxurious lifestyle content shared by influencers on Xiaohongshu', 'social media', 'social media', 'social media', 'Instagram posts showing luxurious lifestyles', 'social media', 'New Social Media', 'wiki site', 'social media', 'Korean pop cultural contents (KPCC) consumption behaviors', 'websites', 'social media', 'Instagram addiction', 'Xiaohongshu (RED)', 'bibliographic keyword searches', 'internet', 'social media', 'luxurious lifestyle content shared by influencers on Xiaohongshu', 'social media', 'social media', 'bibliographic keyword searches', 'internet', 'social media', 'luxurious lifestyle content shared by influencers on Xiaohongshu', 'social media', 'social media']"
        ],
        [
         "6",
         "6",
         "['smart city policies', 'smart city', 'Cloud Computing', 'Green Cloud Computing', 'federated Cloud ecosystems', 'digital services and cloud computing', 'federated edge intelligence-based network AI system', 'cloud platform', 'cloud computing', 'propensity to embrace smart city lifestyles', 'Big Data', 'Green Cloud Computing', 'cloud computing (CC)', 'cloud-based geo data platform', 'Google Earth Engine (GEE) platform', 'HSWDC dataset', 'cloud technology', 'big data and analytical technologies', 'big data analytics', 'cloud computing', 'Sustainable Cloud Architecture \"Environmental Viability as a Service (EVaaS)\"', 'edge computing', 'Big Data', 'smart city', 'Urban GeoDatabase', 'online cloud services', 'cloud technology and intelligent appliances', 'management and control method of air-conditioning based on cloud platform', 'integration of big data to the Google Cloud via web servers', 'digital town hall', 'big data predictions about population movements', 'digital city', 'Big Data', 'Green Cloud Computing', 'Google Firebase Realtime Database', 'green computing techniques', 'open data sources including city services', 'cloud-RAN', 'Antares cloud service', 'Google Earth Engine (GEE) cloud platform', 'Big Data', 'Google Fusion Tables (GFT)', 'cloud-based SOS for managing soil moisture data', 'digital city', 'Big Data', 'Green Cloud Computing', 'cloud computing (CC)', 'cloud-based geo data platform', 'integration of big data to the Google Cloud via web servers', 'cloud data storage and compute capacity', 'cloud computing services', 'cloud computing', 'wireless city', 'Big data', 'Big Data predictions about population movements', 'cloud storage', 'Cloud Computing', 'smart city', 'smart city strategies', 'Big Data', 'cloud technologies', 'Smart Cities projects based on Information and Communication Technologies', 'cloud platform technology', 'solutions based on a cloud platform and automated remote control', 'ThingSpeak cloud-based MATLAB', 'big data use', 'cloud computing', 'Cloud Computing', 'smarter technology, cloud based services, and on-demand content', 'big data analytics', 'smart city', 'cloud server for big data mining and analysis', 'big data', 'cloud computing (CC)', 'cloud-based geo data platform', 'big data analytics', 'cloud application', 'digital town hall', 'big data predictions about population movements', 'digital city', 'Big Data', 'Green Cloud Computing', 'cloud computing (CC)', 'cloud computing (CC)']"
        ],
        [
         "7",
         "8",
         "['Eco-design guidelines, strategies, and digital tools', 'cooling system in data center', 'improvement in the cooling system of data center', 'effective cooling inside the equipment', 'direct free cooling (DFC) system', 'MERV13 filters', 'optimization of cooling cycle', 'mechanical infrastructure (especially cooling systems) of the data centre', 'direct air-side economiser', 'humidity treatment in the data rooms', 'cooling technologies, architectural design, renewable energy sourcing, and hardware efficiency', 'energy efficient cooling technologies (e.g. dew point cooling)', 'cold air supply management at the room level, row level, and rack level', 'two kinds of air conditioning systems', 'zero-emission cryogenic energy system', 'energy-efficient cooling systems', 'heat exchanger systems', 'minimising the cooling energy demand in data centres', 'cooling infrastructure and operation of the data centre', 'economizers using outdoor air for cooling', 'improved air filtration in data centers', 'EcoNet', 'eco design', 'thermostatically controlled loads (TCLs) of buildings', 'cooling infrastructure', 'numerical analyses of flow and temperature fields', 'liquid immersion cooling systems', 'Innovative cooling network designs', 'waste-heat recovery for district heating systems', 'control of the chilled water supply temperature', 'development of solar powered solutions for thermal management of remote equipment enclosures', 'reduction of heat dissipation of power equipment to air-conditioned telecommunications equipment environments', 're-appraisal of need for coolant heating systems on diesel generators', 'ternary two-way plate heat exchanger', 'eco-labels', 'water consumption in data centers', 'direct water consumption for cooling tower operation', 'indirect water consumption for power generation to operate the IT equipment and cooling infrastructure', 'techniques to reuse and reduce water in the data center', 'cold plate liquid cooling system', 'economizers', 'novel system integrating three thermodynamic cycles (ORC, HP, Gas burner)', 'energy-efficient cooling systems', 'heat exchanger systems', 'minimising the cooling energy demand in data centres', 'cooling infrastructure and operation of the data centre', 'economizers using outdoor air for cooling', 'improved air filtration in data centers', 'smart air conditioners (SACs)', 'thermal ink jet (TIJ) printhead design', 'new side shooter thermal ink jet printhead', 'air-side economizers', 'advanced cooling technologies', 'cooling infrastructure', 'advanced technologies on cooling systems and servers', 'energy-efficient cooling systems', 'heat exchanger systems', 'minimising the cooling energy demand in data centres', 'cooling infrastructure and operation of the data centre', 'economizers using outdoor air for cooling', 'improved air filtration in data centers', 'EcoNet', 'eco design', 'economizers', 'Spanish ecofiction', 'energy efficiency of cooling equipment', 'use of seawater for cooling energy plants or data centres', 'proper management of airflow', 'Variable Airflow Panels (Dampers)', 'energy efficient and cost effective cooling strategy', 'Free Cooling and Combo Cooling systems', 'thermal ink jet (TIJ) printhead design', 'new side shooter thermal ink jet printhead', 'more efficient liquid cooling', 'raising temperatures in computer rooms', 'new type of air conditioner', 'thermal management in DCs', 'economizers using outdoor air for cooling', 'evaporative cooling (EC)', 'indirect air-side economizer (IASE)', 'direct air-side economizer (DASE)', 'computer room air handler (CRAH) supply temperature', 'CRAH temperature difference', 'HPC/ICT servers operation and cooling', 'air cooling', 'hybrid cooling', 'liquid cooling systems', 'improved air filtration in data centers', 'EcoNet', 'eco design', 'thermostatically controlled loads (TCLs) of buildings', 'waste-heat recovery for district heating systems', 'energy-efficient cooling systems', 'heat exchanger systems', 'minimising the cooling energy demand in data centres', 'cooling infrastructure and operation of the data centre', 'economizers using outdoor air for cooling', 'improved air filtration in data centers', 'EcoNet', 'improved air filtration in data centers', 'EcoNet']"
        ],
        [
         "8",
         "10",
         "['ICT utilization program', 'information technology growth and innovation in electronic component and data center equipment', 'ICT policies favoring human rights', 'information and communications technology (ICT) infrastructures', 'ICT', 'information technology utilization', 'ICT usage', 'ICT solutions', 'job norms/ message-based ICT demands', 'enhance the information sector', 'Increasing use of the Internet and other information and communications technologies (ICTs)', 'ICT use', 'use of information technology', 'ICT infrastructure construction', 'ICT penetration at county level', 'ICT usage at household level', 'advancement in IT technology', 'rising exports of ICT services', 'available information and communication technology infrastructure', 'ICT sector', 'ICT', 'information and communications technology (ICT) infrastructure', 'preferences for adopting information technology', 'information and communications technology (ICT) use', 'information technology (IT) infrastructure growth', 'immoderate use of the new information technologies', 'FDI in the communication sector', 'ICT solutions', 'ICT-related psychological factors (perceived interest, autonomy, competence, and social interaction in using ICT)', 'schools’ support in ICT devices', 'schools’ support in teachers’ capacity to integrate technology in teaching', 'information technology adoption', 'Global Production Networks (GPNs) facilitated by liberalization, deregulation, and impact of information and communication technology (ICT)', 'sustainable ICT infrastructures and services', 'information communication technology-based interventions', 'ICT stress', 'ICT innovation for growth', 'ICT', 'Adoption Digital Technology', 'ICT use (frequency of using the Internet and smart devices)', 'export of ICT services', 'effective use of information technology', 'internet and communication technology (ICT) sector', 'using of Information and communication technology (ICT) outside of school for schoolwork', 'ICT self-efficacy', 'useful information technologies', 'ICT adoption', 'information and communications technology (ICT) usage', 'time spent in using information technologies (IT)', 'improved access to ICT', 'nonwork-related information and communication technologies (ICTs) usage during office hours', 'e-technology use', 'construction of Internet infrastructure', 'digital infrastructure development', 'Utilization of information technology', 'investment in information and communication technology (ICT)', 'master plan coupled with a business plan for extending the benefits of ICT to all the 600,000+ villages in India by 2007', 'ICT systems connected to providers', 'information and communication technology (ICT) interventions', 'investment in information infrastructure', 'production investment', 'use of information technology', 'investment in information and communication technology', 'production, use and diffusion of information and communication technology (ICT)', 'available information and communication technology infrastructure', 'ICT sector', 'ICT', 'information and communications technology (ICT) infrastructure', 'preferences for adopting information technology', 'information and communications technology (ICT) use', 'information technology (IT) infrastructure growth', 'immoderate use of the new information technologies', 'FDI in the communication sector', 'ICT based solutions', 'export of ICT services', 'use of ICT', 'information infrastructure', 'modern information technologies use', 'information sector growth', 'investment in information resources and information industries', 'pluralistic approach to ICT provision', 'information and communication technology (ICT) nudging pipelines', 'use of information and navigation systems', 'production, use and diffusion of information and communication technology (ICT)', 'available information and communication technology infrastructure', 'ICT sector', 'ICT', 'information and communications technology (ICT) infrastructure', 'preferences for adopting information technology', 'information and communications technology (ICT) use', 'information technology (IT) infrastructure growth', 'immoderate use of the new information technologies', 'FDI in the communication sector', 'ICT solutions', 'ICT-related psychological factors (perceived interest, autonomy, competence, and social interaction in using ICT)', 'schools’ support in ICT devices', 'schools’ support in teachers’ capacity to integrate technology in teaching', 'information technology adoption', 'master plan coupled with a business plan for extending the benefits of ICT to all the 600,000+ villages in India by 2007', 'use of modern information technologies', 'ICT sector innovation', 'low-carbon ICT solutions', 'ICT investments', 'hardware investment', 'software investment', 'communication investment', 'digital infrastructure ownership and coordination by private actors', 'use of information technology', 'electronic government', 'information and communication (ICT) infrastructure development', 'ICT', 'Infrastructure-internet-Human Resources', 'enhance the information sector', 'global information network', 'use of information technology', 'ICT projects', 'widespread use of Information and communication technology (ICTs) to balance demand and supply (e.g. smart grids)', 'investment in the ESM technology', 'private investments', 'ICT policies', 'ICT solutions', 'ICT platform', 'use of information technology projects', 'technological advancements in IT Sector', 'ICT', 'ICT and collaborative economy', 'Training older adults to use information and communications technology (ICT) effectively', 'ICT products tariff reduction', 'informal imports of ICT products', 'poor infrastructure of importation procedures', 'low level of investment incentive for the ICT industry', 'ICT policies', 'public ICT access spaces (telecentres)', 'programmes to develop ICT skills', 'ICT-mediated communication', 'digital infrastructure advancement', 'ICT use', 'information technology innovations', 'smart, IT-driven solutions', 'ICT use patterns (leisure, educational, and school)', 'educational ICT use', 'leisure and school ICT use patterns', 'time spent using information technologies (IT)', 'information technology usage', 'capital investment in ICTs at the workplace', 'social investment by the state for ICTs investments in workplaces', 'digital connectivity growth', 'exponential growth in information and communication services', 'digital technologies adoption', 'information technology advancement', 'investment in technology infrastructure', 'education and ICTs', 'new ICTs', 'information technology use', 'ICT use', 'FDI in the communication sector', 'ICT capital', 'data science and computer science advancements', 'culture in ICT-adoption', 'ICT-Infrastructure', 'information and communications technology (ICT) use', 'information technology (IT) infrastructure growth', 'immoderate use of the new information technologies', 'FDI in the communication sector', 'ICT solutions', 'ICT-related psychological factors (perceived interest, autonomy, competence, and social interaction in using ICT)', 'schools’ support in ICT devices', 'schools’ support in teachers’ capacity to integrate technology in teaching', 'information technology adoption', 'Global Production Networks (GPNs) facilitated by liberalization, deregulation, and impact of information and communication technology (ICT)', 'sustainable ICT infrastructures and services', 'information communication technologies (ICT) based infrastructure for real-time monitoring', 'implementation of ICTs', 'use of information technology', 'investment in information and communication technology', 'production, use and diffusion of information and communication technology (ICT)', 'available information and communication technology infrastructure', 'ICT sector', 'ICT', 'information and communications technology (ICT) infrastructure', 'preferences for adopting information technology', 'information and communications technology (ICT) use', 'information technology (IT) infrastructure growth', 'immoderate use of the new information technologies', 'FDI in the communication sector', 'ICT solutions', 'preferences for adopting information technology', 'information and communications technology (ICT) use', 'information technology (IT) infrastructure growth', 'immoderate use of the new information technologies', 'FDI in the communication sector', 'ICT solutions']"
        ],
        [
         "9",
         "11",
         "['social media collaboration', 'face-to-face collaboration', 'social networking', 'social networking and games', 'problematic social media use (PSMU)', 'witnessed verbal aggression', 'game engagement', 'online relationship', 'cyberbullying', 'Facebook addiction', 'relationship quality', 'problematic social media use (PSMU)', 'actively participating in social media', 'friendship VCAs', 'negative social media use', 'connecting online with known people', 'social networks like Facebook and twitter', 'engagement', 'cyber victimization', 'social media platforms', 'social networks', 'community scope', 'active consumer engagement', 'increasing interconnectedness of the world', 'social networks', 'social network use', 'social media influencers', 'peers/family members', 'influencer endorsements', 'interactions with important social contacts', 'social media involvement', 'YouTube-based, shared video social network', 'communications and social media technology', 'use of technology for social interactions', 'technology use for friendship maintenance', 'social media for education, support and modelling', 'social media discrimination', \"perception of 'powerful others'\", 'social media activity', 'posting about daily activities', 'viewing social media newsfeeds', 'online brand communities (OBCs)', 'remote contact with friends and relatives', 'exposure to negative content on social media', 'social networks', 'social media engagement (limiting interactions to real-life acquaintances)', 'communication and collaboration efforts through a range of conventional and social media', 'coalition lobbying and social capital', 'social media involvement', 'cyberslacking', 'intense exposure to social media', 'educational blogs', 'social media literacy education', 'virtual communities', 'recommender systems', 'Twitter activities', 'socially vulnerable populations activity on Twitter', 'peer-to-peer interaction and digital technology', 'problematic social media use', 'online-only friendships', 'online conferences', 'online social media platforms', 'longitudinal temporal activity diary', 'virtual social interactions', 'social networks for teaching and learning purposes', 'resonance with peers', 'social media engagement in physical activity (SME-PA)', 'social media content', 'online aggressive behavior', 'internet-based storytelling programs with stigma-related content and interactivity', 'internet-based storytelling programs with stigma-related content', 'internet-based storytelling programs without stigma-related content but with interactivity', 'problematic social media use (PSMU)', 'Facebook use', 'user bans', 'participation in communication via social media', 'social media engagement', 'social media influence', 'online communication anxiety', 'Facebook use', 'social media engagement', 'social media and information technology', 'Facebook use', 'interacting with other people directly', 'personalized educational or behavior change programs', 'social interaction', 'online conferences', 'associations with NGO networks', 'parasocial relationships', 'occurrence of online events', 'social anxiety', 'social class', 'disinformation and hate speech on social media', 'social presence', 'self-disclosure via Facebook', 'technology use for relationship maintenance', 'cyberinfrastructure', 'increased level of connectivity', 'connecting people in low and middle-income countries (LMICs)', 'social media, and digital medium', 'social media platforms', 'social networks use', '1-week break from social media (Facebook, Instagram, Twitter, and TikTok)', 'personalized interactions', 'social media activity', 'flexing on social media', 'social influence', 'face-to-face interaction', 'cyber dating', 'live-in relationships', 'social network benefits', 'online friendships', 'development and access to social networks through low-cost ICTs, telecentres', 'nature posts', 'social media platforms', 'social media addiction', \"peers' alcohol-related content posted on social networking sites\", 'spending more than 2 h a day using various social networks', 'choice of connection', 'informal communication channels via social media', 'social networks', 'educational usage of social media (SM) platforms', 'radical collaboration', 'partnerships and connections', 'chatting via the internet', 'verbal aggression', 'online customer engagement', 'online social interaction', \"avoid including a 'read' mark in social media applications\", 'Facebook addiction', 'social media dependency', 'social media data', 'social media multitasking', 'social influence', 'multistakeholder partnerships', 'collaborative initiatives', 'online social network', 'personalization algorithms', 'proprietization of social interactions data', 'hate speech online', 'digital campaigns leveraging social media influencers', 'Facebook® page', 'social networking use', 'heavy use of social networking sites', 'social media interventions', 'Facebook usage among adolescents', 'friends’ connectivity', 'organizing event', 'Facebook dependency', 'desire for popularity', 'belief in the importance of online status indicators', 'emergency information channels in both traditional media and social media', 'virtual meetings', 'increasing interconnectedness of the world', 'social networks', 'social network use', 'social media influencers', 'peers/family members', 'influencer endorsements', 'interactions with important social contacts', 'social media involvement', 'YouTube-based, shared video social network', 'communications and social media technology', 'use of technology for social interactions', 'technology use for friendship maintenance', 'social media for education, support and modelling', 'social media discrimination', \"perception of 'powerful others'\", 'social media activity', 'posting about daily activities', 'viewing social media newsfeeds', 'online brand communities (OBCs)', 'remote contact with friends and relatives', 'para-social interaction', 'social networking', 'smart, personalized, and on the moment, action recommendations', 'social media interactions', 'social media communication', 'peer-to-peer interaction and digital technology', 'social media competency', 'cyberbullying', 'use of popular and commonly accessed social-media platforms', 'social influence', 'virtual community', 'problematic social media use (PSMU)', 'web-based social networking tools', 'supporting connection and community', 'Internet-based social activities and networking through video or phone calls', 'social skills', 'development and use of digital technology and network social platform to strengthen self-discipline', 'Facebook Oversight Board', 'virtual conferences', 'networking of simultaneous coordinated conferences', 'in-person conference every 2 or 3 years', 'participation in knowledge-based virtual communities', 'browsing in knowledge-based virtual communities', 'social influence', 'social engagement', 'para-social interaction', 'perceived importance of social media for social belonging', 'multimodal resources and social networking', 'participatory technology', 'social media analysis', 'social media platforms', 'virtual meetings', 'increasing interconnectedness of the world', 'social networks', 'social network use', 'social media influencers', 'peers/family members', 'influencer endorsements', 'interactions with important social contacts', 'social media involvement', 'YouTube-based, shared video social network', 'communications and social media technology', 'use of technology for social interactions', 'technology use for friendship maintenance', 'social media for education, support and modelling', 'social media discrimination', \"perception of 'powerful others'\", 'social media activity', 'posting about daily activities', 'viewing social media newsfeeds', 'online brand communities (OBCs)', 'remote contact with friends and relatives', 'exposure to negative content on social media', 'social networks', 'social media engagement (limiting interactions to real-life acquaintances)', 'communication and collaboration efforts through a range of conventional and social media', 'coalition lobbying and social capital', 'social media involvement', 'cyberslacking', 'intense exposure to social media', 'educational blogs', 'social media literacy education', 'virtual communities', 'recommender systems', 'Twitter activities', 'socially vulnerable populations activity on Twitter', 'peer-to-peer interaction and digital technology', 'problematic social media use', 'online social network', 'personalization algorithms', 'proprietization of social interactions data', 'excessive use of social media', 'WhatsApp Group and facebook', 'social media platforms use', 'social media addiction', 'social overload', 'social media engagement', 'effective social CRM strategies', 'social media interaction', 'Facebook user satisfaction', 'membership in social networks', 'online social networks', 'virtual social capital', 'peer influence', 'social media interaction', 'social media platforms', 'Passive Social Media Use (PSMU)', 'social influence', 'social network technologies', 'digital social interaction', 'social media platforms', 'social media data', 'social media interaction', 'online communities', 'social media addiction', 'Facebook use', 'Location-based social networks (LBSN)', 'cyber harassment experiences', 'engagement in social networks', 'personalization', 'relationship', 'social media platform operation by US government', 'enthusiasm for engagement', 'problematic social media use', 'social networking and other platforms', 'online communication and connectedness', 'Facebook use', 'sharing physical activity experiences on social network sites', \"observing others' workouts on social network sites\", 'online social networking', 'social media channels', 'social media technologies (SMTs)', 'Facebook use', 'social media interventions', 'public-private partnership (PPP)', 'social connection', 'social media literacy programs', 'educational media programs using social-media', 'social media platforms', 'Social Media interaction', 'posting fitness activities on social media', 'social media addiction', 'distributing advisements on social media platforms', 'social media platform', 'Facebook use', 'fitspiration content on social media', 'social media content by peers', 'use of social technologies', 'use of technologies to promote social contact', 'social media reduction / abstinence intervention', 'posting frequency and quality of exercise and physical activity content in Facebook', 'social media communication', 'social media channel choice', 'social media bans', 'problematic laws on online harms', 'normative whorephobic, racist, ableist user experience (UX) social media design', 'problematic social media use', 'social media platforms', 'Facebook', 'governance mechanisms of social media platforms', 'media-centered forms of civic engagement', 'co-worker relationship', 'peer-to-peer (P2P) sharing and reuse platforms', 'social networking sites use', 'digital collaboration', 'virtual meetings and teleconferencing', 'resonance with peers', 'social media influence', 'social media influencers', 'geolocated social media posts (Twitter)', 'DiaryMood', 'online communication', 'cyberbullying perpetration', 'chatting on social networking Web sites', 'social features', 'cybercrime victimization', 'social belonging to online groups', 'social media affordances manipulation', 'cyberbully’s anonymity manipulation', 'susceptibility to interpersonal influence', 'promoting it as a social ideal', 'use of technology for social interactions', 'technology use for friendship maintenance', 'social media for education, support and modelling', 'social media discrimination', \"perception of 'powerful others'\", 'social media activity', 'posting about daily activities', 'viewing social media newsfeeds', 'online brand communities (OBCs)', 'remote contact with friends and relatives', 'exposure to negative content on social media', 'social networks', 'social media engagement (limiting interactions to real-life acquaintances)', 'communication and collaboration efforts through a range of conventional and social media', 'coalition lobbying and social capital', 'social media involvement', 'cyberslacking', 'intense exposure to social media', 'educational blogs', 'social media literacy education', 'virtual communities', 'recommender systems', 'Twitter activities', 'socially vulnerable populations activity on Twitter', 'peer-to-peer interaction and digital technology', 'problematic social media use', 'online-only friendships', 'online conferences', 'online social media platforms', 'longitudinal temporal activity diary', 'virtual social interactions', 'voluntary disconnection', \"Facebook's Community Standards (CS)\", 'social media tools and platforms', 'social media creates positive fitness competition', 'desire for popularity', 'belief in the importance of online status indicators', 'emergency information channels in both traditional media and social media', 'virtual meetings', 'increasing interconnectedness of the world', 'social networks', 'social network use', 'social media influencers', 'peers/family members', 'influencer endorsements', 'interactions with important social contacts', 'social media involvement', 'YouTube-based, shared video social network', 'communications and social media technology', 'use of technology for social interactions', 'technology use for friendship maintenance', 'social media for education, support and modelling', 'social media discrimination', \"perception of 'powerful others'\", 'social media activity', 'posting about daily activities', 'viewing social media newsfeeds', 'online brand communities (OBCs)', 'remote contact with friends and relatives', 'exposure to negative content on social media', 'social networks', 'social media engagement (limiting interactions to real-life acquaintances)', 'communication and collaboration efforts through a range of conventional and social media', 'coalition lobbying and social capital', 'social media involvement', 'interactions with important social contacts', 'social media involvement', 'YouTube-based, shared video social network', 'communications and social media technology', 'use of technology for social interactions', 'technology use for friendship maintenance', 'social media for education, support and modelling', 'social media discrimination', \"perception of 'powerful others'\", 'social media activity', 'posting about daily activities', 'viewing social media newsfeeds', 'online brand communities (OBCs)', 'remote contact with friends and relatives', 'exposure to negative content on social media', 'social networks', 'social media engagement (limiting interactions to real-life acquaintances)', 'communication and collaboration efforts through a range of conventional and social media', 'coalition lobbying and social capital', 'social media involvement']"
        ],
        [
         "10",
         "12",
         "['mobile telephony', 'text messaging', 'email', 'SMS/text messaging from mobile phones', 'downloading mobile phone ringtones', 'mobile phone messaging', 'one-way text messaging intervention', 'telephone contact', 'eHealth and mHealth technologies', 'eHealth conceptualization and promulgation', 'mobile telephone', 'eHealth platforms', 'text messaging', 'personalized text messages', 'eHealth components', 'WhatsApp application', 'instant messaging', 'Baraza, radios, and mobile phone messages', 'mobile telephone and ICT facilities', 'text messaging (short message service, SMS)', 'early warning system via telephone and WhatsApp', 'text messaging', 'E-mail or telephone coaching', 'instant messaging', 'Short Message Service (SMS) via mobile phone', 'message queue telemetry transportation (MQTT) broker', 'text messaging', 'short message service', 'email', 'downloading mobile phone ringtones', 'mobile phone messaging', 'one-way text messaging intervention', 'telephone contact', 'text messaging', 'Telegram notification', 'well-being messaging on Instagram', 'communicating via emails', 'short message service messages', 'text messaging', 'short service message (SMS)', 'comfort with texting', 'downloading mobile phone ringtones', 'mobile phone messaging', 'one-way text messaging intervention', 'telephone contact', 'eHealth and mHealth technologies', 'eHealth conceptualization and promulgation', 'mobile telephone', 'eHealth platforms', 'text messaging', 'E-mail or telephone coaching', 'text messaging', 'Short Message Service (SMS)', 'interactive and motivational feedback SMS messages', 'WhatsApp for learning', 'text messaging', 'text messaging (TM)', 'phone call and text messaging', 'eHealth literacy (eHL)', 'machine to machine protocol (MQTT) to external health & well-being services', 'telephone accessibility', 'eHealth and mHealth technologies', 'eHealth conceptualization and promulgation', 'mobile telephone', 'eHealth platforms', 'text messaging', 'personalized text messages', 'instant messaging', 'message queue telemetry transportation (MQTT) broker', 'text messaging', 'short message service', 'email', 'downloading mobile phone ringtones', 'mobile phone messaging', 'one-way text messaging intervention', 'telephone contact', 'eHealth and mHealth technologies', 'eHealth conceptualization and promulgation', 'mobile telephone', 'eHealth platforms', 'telephone contact', 'eHealth and mHealth technologies', 'eHealth conceptualization and promulgation', 'mobile telephone', 'eHealth platforms']"
        ],
        [
         "11",
         "13",
         "['electronic alternatives', 'emerging technologies and increased use of electronic devices', 'hardware', 'technology invasion into the bedroom', 'use of electronic media and telecommunication gadgets', 'electronic equipment in the bedroom', 'computer in the bedroom', 'combinations with two or three electronic devices in the bedroom', 'application of new computer technology, interactively matching production with consumer demand', 'triboelectric nanogenerators (TENGs)', 'problematic technology use', 'computer', 'advanced digital gadgets', 'unlimited use of technologies', 'personal computer', 'high use of electronic devices', 'EvoRecSys', 'increased use of gadgets', 'communication and awareness about EVs', 'technology anxiety', 'unlimited use of technologies', 'use of electronic media and telecommunication gadgets', 'technological gadgets', 'electronic gadgets', 'excessive use of technology among adolescents', 'electronic appliances', 'technology addiction', 'excessive use of electronic devices', 'use of electronic gadgets', 'electric and electronic equipment (EEE)', 'electronic devices proliferation', 'miniaturisation of the devices', 'electronic devices', 'incorrect disposal of electronic devices', 'home computer', 'computers', 'computers', 'semiconductor chips of the complementary metal oxide semiconductor (CMOS) transistor structure', 'extending the lifespan of software and devices', 'use of electronic devices', 'home computer', 'electronic devices', 'problematic information and communications technology (ICT) use', 'hardware solutions', 'excessive use of electronic gadgets', 'IT equipment', 'excessive electronic device use', 'problematic technology use', 'computer', 'advanced digital gadgets', 'unlimited use of technologies', 'personal computer', 'high use of electronic devices', 'EvoRecSys', 'miniaturisation of the devices', 'electronic devices', 'incorrect disposal of electronic devices', 'use of gadgets', 'usage of electronic gadgets', 'electronic device consumption', 'electronic invoices', 'electronic equipment production and consumption', 'trans-boundary movement of second-hand electronic equipment', 'computer', 'laptop', 'special dash boards', 'Raspberry Pi', 'use of electronic devices', 'excessive use of technology', 'ACVFS', 'manufacturing phase of the PC', 'problematic technology use', 'computer', 'advanced digital gadgets', 'unlimited use of technologies', 'personal computer', 'high use of electronic devices', 'EvoRecSys', 'Smart gadgets', 'home use of electronic devices', 'use of modern gadgets and digital technologies', 'computers', 'computers', 'problematic technology use', 'computer', 'advanced digital gadgets', 'unlimited use of technologies', 'problematic technology use', 'computer', 'advanced digital gadgets', 'unlimited use of technologies']"
        ],
        [
         "12",
         "14",
         "['personal innovativeness', 'technology use (TU)', 'technological advancements and policy measures', 'vINCI technology', 'triangulating 3 HCI instruments', 'convenience of use', 'innovative', 'continued system use (CSU)', 'responsible use of technology', 'technology', 'technological progress', 'extent of use', 'computer-related training', 'digital innovation', 'proposed system', 'technological capabilities', 'technologies', 'technology design', 'reliance on technology', 'technology use', 'technological development', 'technology dependence', 'technology use by the entire family', 'technological advancements', 'technology', 'innovative culture', 'technological advances', 'IT use', 'new technologies', 'open source design principles', 'modern technological implements in learning, recreation and occupation', 'advancements in technology', 'utilization of technology for support', 'Utilization of IT', 'intuitive design', 'continued system use (CSU)', 'biotechnology', 'nanotechnology', 'technological governance', 'Technological factors', 'technology use', 'modern technology', 'technology use', 'computer technology', 'modern technology', 'low-cost and user-friendly innovations', 'technological innovations', 'internet and gadgets reliance', 'task–technology fit (TTF)', 'technology', 'technology use', 'technological innovation', 'technical curiosity', 'technological optimism', 'technology advancement', 'technology utilization', 'sustainable design–based solutions', 'design solutions', 'technology', 'educational activities concerning electric bicycles', 'technological revolution', 'continued system use (CSU)', 'responsible use of technology', 'technology', 'technological progress', 'extent of use', 'computer-related training', 'digital innovation', 'proposed system', 'technological capabilities', 'ethical design', 'technological infrastructure', 'technology and innovation', 'cutting-edge technology', 'technological services improvement', 'targeted digital training', 'new technology use', 'technology development', 'use of new technologies', 'modern technology utilization', 'technology mediation', 'HCI research and design approaches', 'increased reliance on technology', 'digital innovation', 'digital innovations like AI and social media', 'educational activities concerning electric bicycles', 'technological revolution', 'continued system use (CSU)', 'responsible use of technology', 'technology', 'technological progress', 'extent of use', 'computer-related training', 'digital innovation', 'proposed system', 'technological capabilities', 'technologies', 'technology design', 'reliance on technology', 'technology use', 'technological development', 'technology', 'technology use', 'modernization', 'use of technology', 'harnessing new technologies', 'technological interaction', 'technology', 'cyber technologies', 'SOHO applications', 'technological turbulence', 'Line use', 'access to technology and devices', 'use of technology', 'new technology', 'transportations', 'co-use', 'time on technology', 'technology development', 'transfer of technology', 'population affordability of new technologies', 'Innovation', 'technological functions', 'technologies which facilitate time saving and shifting', 'assistive technologies', 'technological revolution', 'Critical Engineering', 'technology use, specifically internet use', 'recreational technology', 'technology', 'technology', 'technology use', 'learning technologies', 'developing technological solutions for the wider community', 'individual innovative capabilities', 'diffusion of innovation (DOI)', 'technological innovativeness', 'use of advanced technologies', 'technology-focused activities', 'socio-technical dynamics', 'innovative solutions by LIS professionals', 'digital innovations', 'understanding of the technologies', 'computer-related training', 'digital innovation', 'proposed system', 'technological capabilities', 'technologies', 'technology design', 'reliance on technology', 'technology use', 'technological development', 'technology dependence', 'implementing selected technologies and architectures', 'positive changes introduced in the past year', 'use of modern technology', 'sustainable design–based solutions', 'design solutions', 'technology', 'educational activities concerning electric bicycles', 'technological revolution', 'continued system use (CSU)', 'responsible use of technology', 'technology', 'technological progress', 'extent of use', 'computer-related training', 'digital innovation', 'proposed system', 'technological capabilities', 'technologies', 'technology design', 'extent of use', 'computer-related training', 'digital innovation', 'proposed system', 'technological capabilities', 'technologies', 'technology design']"
        ],
        [
         "13",
         "15",
         "['regulating food and beverage advertising particularly for children', 'online pizza ordering system', 'advertising strategy of PT. Jafra Cosmetics', 'government sponsored advertising campaign', 'adequacy', 'food-related content on social media platforms', 'advertising', 'additive‐free claims on packages', 'products considered healthy by consumers', 'products considered unhealthy by consumers', \"consumers' general attitude towards no‐additives products\", 'expiry date tracker for short shelf-life food', 'food sharing', 'foods advertised on TV', 'health pursuit-type dietary lifestyle', 'taste pursuit-type dietary lifestyle', 'convenience pursuit-type dietary lifestyle', 'food exploration-type dietary lifestyle', 'image of TV cooking show program', 'advertising', 'manufacturer advertising', 'retailer advertising', 'mhealth and sport market products', 'social media as source of nutrition information', 'online food delivery services (OFDS)', 'food delivery apps', \"vloggers influence on consumers' purchase intention for sustainable healthy diet food\", '7-day food diary (7DFD)', 'supplemental food frequency questionnaire (SFFQ)', 'economic power of unhealthy product promotions on media', 'advertising involvement', 'online direct food marketing platform', 'fast-food restaurant advertising', 'ban on fast-food restaurant advertisements', 'elimination of the tax deductibility of fast-food restaurant advertising', 'food advertising', 'online fresh food platforms', 'statutory bans on advertising targeting children', 'advertising themes', 'advertising', 'photographic food records (PFR)', 'social advertising of electric transport', 'food-related content on social media platforms', 'advertising', 'additive‐free claims on packages', 'products considered healthy by consumers', 'products considered unhealthy by consumers', \"consumers' general attitude towards no‐additives products\", 'expiry date tracker for short shelf-life food', 'food sharing', 'foods advertised on TV', 'advertising to promote healthy eating habits', 'advertising disclosure', 'advertising strategies on public transportation', 'unhealthy food marketing through electronic media', 'food blogging in social media', 'internet-based seafood resource guide', 'advertising', 'television ads', 'advertising', 'photographic food records (PFR)', 'social advertising of electric transport', 'food-related content on social media platforms', 'advertising', 'additive‐free claims on packages', 'products considered healthy by consumers', 'products considered unhealthy by consumers', \"consumers' general attitude towards no‐additives products\", 'expiry date tracker for short shelf-life food', 'food sharing', 'foods advertised on TV', 'fast-food restaurant advertising', 'ban on fast-food restaurant advertisements', 'elimination of the tax deductibility of fast-food restaurant advertising', 'food advertising', 'social media advertising', 'per capita advertising expenditure', 'government sponsored advertising campaign', 'e-cigarette advertising in retail outlets', 'stronger policies to restrict e-cigarette portrayals in retail outlets', 'advertising', 'food sharing apps', 'advertising', 'Making purchase decisions based on Instagram ads', 'food advertisements', 'online advertisement', 'food and beverage marketing targeting emerging adults', 'fast food and soft drink industries marketing campaigns', 'TV and radio as source of nutritional information', 'online food delivery (OFD) service quality', 'maintenance of meal quality and hygiene', 'advertising', '1988 political advertising campaign', 'food photography in Instagram media', 'mhealth and sport market products', 'advertizing perfect skin through media', 'foods advertised on TV', 'health pursuit-type dietary lifestyle', 'taste pursuit-type dietary lifestyle', 'convenience pursuit-type dietary lifestyle', 'food exploration-type dietary lifestyle', 'image of TV cooking show program', 'advertising', 'manufacturer advertising', 'retailer advertising', 'advertising', 'photographic food records (PFR)', 'social advertising of electric transport', 'food-related content on social media platforms', 'advertising', 'additive‐free claims on packages', 'products considered healthy by consumers', 'products considered unhealthy by consumers', \"consumers' general attitude towards no‐additives products\", 'expiry date tracker for short shelf-life food', 'food sharing', 'foods advertised on TV', 'additive‐free claims on packages', 'products considered healthy by consumers', 'products considered unhealthy by consumers', \"consumers' general attitude towards no‐additives products\", 'expiry date tracker for short shelf-life food', 'food sharing', 'foods advertised on TV']"
        ],
        [
         "14",
         "17",
         "['exergames', 'gaming', 'video gaming', 'video game addiction', 'digital gaming', 'video gaming', 'online, multi-player experiences', 'psychological involvement in video gaming', 'playing computer games of the genre first-person shooter and MOBA', 'use of electronic games', 'videogames in the bedroom', 'internet gaming disorder', 'interactive multimedia online videogame', 'computer games, internet', 'game online addiction', 'app-based games', 'television, computer and online games', 'video gaming', 'video gaming', 'educational video game', 'computer games', 'handheld gaming devices', 'Internet Gaming Disorder (IGD)', 'digital gaming', 'online gaming', 'online game addiction', \"video game consoles in children's bedrooms\", 'child possession of handheld video games', 'child possession of music devices', 'Ludo Star game addiction', 'problematic online gaming', 'console-gaming aggression', 'handheld gaming devices', 'science fiction and fantasy (SFF)', 'Online game play', 'Internet Gaming Disorder (IGD)', 'internet gaming disorder', 'interactive multimedia online videogame', 'computer games, internet', 'video games', 'digital gaming', 'sport games', 'gaming', 'Safe City mobile game', 'internet gaming disorder', 'interactive multimedia online videogame', 'computer games, internet', 'game online addiction', 'video game', 'video recording of a game', 'video gaming', 'life simulation games', 'doomscrolling', 'computer and console games, as well as TV programs', 'video games', 'gaming addiction', 'internet game dependency', 'online video gaming', 'balanced gaming habits', 'video games', 'active gaming', 'online gaming', 'serious video games', 'online gaming', 'smartphone gaming', 'digital gaming', 'internet gaming disorder (IGD)', 'problematic video-gaming', 'e-game/computer use', 'active video games and motor games', 'video games', 'exergames', 'video games', 'gaming', 'game console use', 'video game play', 'pervasive games', 'mobile, location-based pervasive game', 'game online addiction', 'handheld gaming devices', 'online gaming addiction', 'internet gaming disorder', 'interactive multimedia online videogame', 'computer games, internet', 'game online addiction', 'game online addiction']"
        ],
        [
         "15",
         "18",
         "['smartphones', 'GPS and camera-equipped mobile devices', 'photogrammetry software or mobile device-based GPS', 'Internet and mobile phones', 'custom smartphone application', 'mobile phone penetration', 'mobile device adoption', 'mobile-based payment (M-payment) services', 'proposed app', 'mobile banking adoption', 'smartphone application and web dashboard', 'mobile applications', 'approach to improve mobile device resources efficiency', 'mobile phone time', 'mobile terminal positioning technology', 'smartphones', 'mobile application', 'Web-based mobile application', 'ownership transfer', 'massive use of tablets and mobiles', 'smartphone app', 'mobile technology', 'total abstinence from smartphone use', 'reduction of daily smartphone use by 1 hr', 'smartphones', 'Android application for smartphones', 'mobile phone fees', 'mobile phone usage', 'WeChat Pay', 'technology assistance through language learning apps', 'mobile phones', 'cell phone', 'mobile payment', 'Payment Culture (PC)', 'smartphone use and internet browsing', 'Problematic smartphone use (PSU)', 'increased usage of mobile devices', 'smartphone battery temperatures', 'Android application for smartphones', 'smartphone apps for brain training', 'Geo-Tracker App', 'Android-based application', 'mobile technology sharing', 'smart-phone application', 'excessive use of mobile devices for work purposes during nonwork time', 'mobile phone ownership', 'payment', 'late-night smartphone usage for work', 'mobile phone ownership', 'mobile phone vibrations to interrupt extended periods of inactivity', 'mobile money adoption', 'pedometers', 'Internet, mobile phone and social media penetration', 'smartphone-based virtual reality (spVR) system', 'mobile and internet penetration', 'mobile phones', 'government-developed APPs', 'cellular users growth', \"'Our Energy', a custom mobile application (app)\", 'intelligent ordering system (IOS)', 'smart phone technology', 'mobile technology dissemination', 'ubiquity of smartphones', 'SNS device usage environment', 'mobile and internet penetration', 'Arduino-based mobile platforms', 'child possession of cell phones', 'mobile technologies', 'mobile phone usage', 'mobile phones, televisions', 'portable global positioning system (GPS) units', 'GPS technology', 'mobile phone industry', 'Smartphones', 'late-night cell phone use', 'smartphone use', 'sharing smartphone use data with parents', 'smartphone usage', 'mobile technology usage', 'mobile payment (m-payment) continuance', 'mobility', 'mobile phone usage', 'mobile information and communication technologies (MICTs)', 'using internet and mobile phones', 'GPS', 'ownership of a smartphone', 'apps and other technology-related solutions', 'longer mobile phone use time', 'mobile payment (m-payment)', 'cellular technology usage', 'mobile phone use', 'smartphone use', 'dumbphone use', 'responsive website', 'choice of an iOS- or Android-powered smartphone', 'new consumer apps', 'mobile apps', 'computers and smartphones', 'give impetus to reclaim used mobile phones', 'hedonic use of smartphones', 'massive use of tablets and mobiles', 'smartphone app', 'mobile technology', 'total abstinence from smartphone use', 'reduction of daily smartphone use by 1 hr', 'smartphones', 'Android application for smartphones', 'mobile phone fees', 'mobile phone usage', 'smartphone and smartband technology', 'mobile technology', 'smartphone use', 'smartphone use time', 'Mobile usage', 'responsiveness', 'mobile phones', 'smartphone use motives', 'smartphone ownership', 'GPS app in smartphone', 'mobile phones', 'smartphone-based pedometer', 'smartphones', 'PPPs and mobile phones', 'smartphone use', 'real-time indoor positioning system with WiFi data analytics', 'Web-based resources and smart-phone applications', 'mobile phone access', 'scrolling and browsing', 'mobile devices', 'computers and smartphones', 'give impetus to reclaim used mobile phones', 'hedonic use of smartphones', 'massive use of tablets and mobiles', 'smartphone app', 'mobile technology', 'total abstinence from smartphone use', 'reduction of daily smartphone use by 1 hr', 'smartphones', 'Android application for smartphones', 'mobile phone fees', 'mobile phone usage', 'WeChat Pay', 'technology assistance through language learning apps', 'mobile phones', 'cell phone', 'mobile payment', 'Payment Culture (PC)', 'smartphone use and internet browsing', 'Problematic smartphone use (PSU)', 'increased usage of mobile devices', 'mobile phone usage', 'mobile information and communication technologies (MICTs)', 'using internet and mobile phones', 'smartphone', 'Internet/smartphone use', 'cell zooming enabled cellular architecture', 'mobile-based advices', 'mobile phone use', 'proxy for human occupancy rates using WIFI logins', 'Mobile technologies', 'mobile application use', 'Zest app', 'smartphone-based study', 'mobile banking transactions', 'mobile apps usage', 'customization of business app', 'compatibility of business app', 'mobile phones use', 'mobile phone use', 'procurement and use of computers and mobile phones', 'smartphones', 'mobile phones', 'smartphone dependency', 'smartphone usage', 'ownership of consumer electronics (CE)', 'mobile application', 'smartphone application', 'Mobile phone use', 'mobile Internet usage', 'use of mobile cell-phones', 'branded mobile apps from supermarkets', 'mobile phone usage', 'mobile-based technology', 'smartphone or tablet apps', 'pedometer', 'website delivered by a smartphone', 'smart phone technology and web-based platforms', 'mobile interface', 'Internet and mobile phones', 'smart phones', 'cell phone use', 'Cayenne Software', 'ubiquitous computing technologies', 'Mobile Phones usage', 'smartphone usage dependency', 'smartphone use', 'smartphone dependency', 'modern technology such as cell phone', 'mobile phone penetration', 'use of new-age apps', 'smartphone use', 'mobile device usage environment', 'mobile phone usage', 'mobile app', 'outreach platform and mobile app (uniWeatherTM)', 'mobile phone technology', 'shared transportation apps (STA)', 'mobile technology', 'application on an Android device and an LCD on an air purifier device', 'Android mobile app', 'mobile phones', 'mobile phone applications', 'problematic smartphone use', 'smartphone use for personal purposes', 'mobile menstrual tracking apps', 'modern mobile ICT (tablets, smart phones)', 'dating apps', 'mobile device application', 'work-related smartphone use during off-job time', 'internet-enabled mobile digital devices', 'mobile phone', 'smartphone use', 'mobile apps', 'mobile applications', 'Android-based application', 'Java programming language, Firebase, and Arduino software', 'compulsive use of mobile SNS applications', 'mobile based technologies', 'Welithota mobile application', 'mobile phone use among Latinos', 'mobile phone fees', 'mobile phone usage', 'WeChat Pay', 'technology assistance through language learning apps', 'mobile phones', 'cell phone', 'mobile payment', 'Payment Culture (PC)', 'smartphone use and internet browsing', 'Problematic smartphone use (PSU)', 'increased usage of mobile devices', 'smartphone battery temperatures', 'Android application for smartphones', 'smartphone apps for brain training', 'Geo-Tracker App', 'GPS watches', 'mobile phone application for soil monitoring', 'mobile applications (apps) use', 'Zoom software', 'Mobile phones', 'problematic smartphone use', 'mobile computing', 'smart phone-based visibility monitoring system', 'responsive website', 'choice of an iOS- or Android-powered smartphone', 'new consumer apps', 'mobile apps', 'computers and smartphones', 'give impetus to reclaim used mobile phones', 'hedonic use of smartphones', 'massive use of tablets and mobiles', 'smartphone app', 'mobile technology', 'total abstinence from smartphone use', 'reduction of daily smartphone use by 1 hr', 'smartphones', 'Android application for smartphones', 'mobile phone fees', 'mobile phone usage', 'WeChat Pay', 'technology assistance through language learning apps', 'mobile phones', 'cell phone', 'mobile payment', 'Payment Culture (PC)', 'smartphones', 'Android application for smartphones', 'mobile phone fees', 'mobile phone usage', 'WeChat Pay', 'technology assistance through language learning apps', 'mobile phones', 'cell phone', 'mobile payment', 'Payment Culture (PC)']"
        ],
        [
         "16",
         "19",
         "['activity monitor', 'mobile technology usage for health enhancement', 'health enhancement app usage', 'activity monitor with sitting reminders', 'mobile health applications', 'mobile phone-based self-care program', 'physical activity monitoring system', 'interactive activity design', 'fitness apps, wearables, exergames, and chatbots', 'mobile phones tracking and measuring physical activity', 'Fitbit© tracker', 'health messages', 'programs related to health education', 'exercise website, mobile apps and movement detection technologies', 'mobile phone app interventions', 'Wellness Wave', 'fitness apps design elements', 'mobile phone application for sustainable behaviors', 'Fitbits', 'mobile health (mHealth)', 'Apple Watch Series 4', 'Fitbit Versa', 'mobile apps to lose weight', 'exercise mobile apps', 'mobile interventions', 'Fitbits', 'smartphone apps aimed at promoting healthy habits', 'smartphone-based lifestyle interventions', 'mobile phone-based ecological momentary assessment (CEMA)', 'mobile technology usage for health enhancement', 'health enhancement app usage', 'activity monitor with sitting reminders', 'mobile health applications', 'mobile phone-based ecological momentary assessment (CEMA)', 'mobile technology usage for health enhancement', 'health enhancement app usage', 'activity monitor with sitting reminders', 'mobile health applications', 'mobile phone-based self-care program', 'physical activity monitoring system', 'Fitbits', 'physical activity mobile apps', 'Diet and Exercise Mobile Applications', 'health apps', 'continuous glucose monitor and accelerometer', 'Sweatcoin app usage', 'activity tracker', 'sports apps using', 'mobile phone intervention', 'health applications', 'health-related Apps', 'mobile health literacy (mHL)', 'physical activity–related apps', 'Apple Women’s Health Study', 'mHealth app for smartphones', '¡Hola Bebe, Adios Diabetes! app', 'mobile health applications', 'mobile phone-based self-care program', 'physical activity monitoring system', 'Fitbit Surge', 'mobile interventions', 'Fitbits', 'smartphone apps aimed at promoting healthy habits', 'smartphone-based lifestyle interventions', 'mobile phone-based ecological momentary assessment (CEMA)', 'mobile technology usage for health enhancement', 'health enhancement app usage', 'activity monitor with sitting reminders', 'mobile health applications', 'mobile phone-based self-care program', 'activity monitor with sitting reminders', 'mobile health applications', 'mobile phone-based self-care program']"
        ],
        [
         "17",
         "20",
         "['lifestyle', 'providing convenient channels for rural older adults to use the internet', 'improving the ability of rural users to effectively use the internet', 'promoting internet popularity in rural areas', 'lifestyle', 'individual habits', 'lifestyle changes', 'interoperability', 'integrating advanced digital technologies', 'higher education IS', 'use of the internet to assist with lifestyle modifications', 'use of the internet to obtain health information', 'Net Oriented Lifestyle', 'Lifestyle Compatibility (LC)', 'distance technology interventions', 'healthy living website', 'internet use for promoting healthy lifestyle', 'online education', 'hybrid education', 'web-based lifestyle support tools', 'home-based education', 'technology integration', 'digital well-being', 'health information behaviour', 'online nutrition education', 'online lifestyle', 'health and wellbeing program attributes', 'personal lifestyle', 'internet use in seeking healthy lifestyle behavior (HLB) information on diet and exercise', 'health behaviour similarity', 'online language education', 'Internet lifestyle', 'online education', 'digital well-being', 'Open Distance Learning (ODL) institutions', 'Lifestyle', 'habit', 'online health information seeking', 'healthy online lifestyle', 'construction of a multi-dimensional indicator system for the well-being of rural residents', 'online lectures', 'software interoperability', 'new lifestyles revolving around the home and the internet', 'prevention-focus', 'lifestyle', 'fitness band', 'manually reporting lifestyle and well-being data', 'online study', 'ensuring appropriate online delivery of advisory and assistance measures', 'lifestyle', 'digital wellbeing initiatives', 'wellbeing supportive design', 'online weight/diet monitoring', 'integration of digital technology', 'digital interventions and information technology', 'habits', 'Internet interventions', 'two-dimensional (2D) online interventions', 'use of information and communication technology (ICT) for a health-promoting lifestyle behaviour programme', 'Lifestyle', 'integrating advanced digital technologies', 'higher education IS', 'use of the internet to assist with lifestyle modifications', 'use of the internet to obtain health information', 'Digital Wellbeing (DWB)', 'digital health', 'distance learning', 'false tag interventions', 'inoculation interventions', 'digital insertion by means of blogs, computing approach and activities', 'network lifestyle', 'digital interventions', 'lifestyle-based apps', 'time-oriented lifestyle', 'net-oriented lifestyle', 'healthy internet activity', 'distance education', 'cyber wellness', 'education and training on cyber wellness and digital well-being', 'lifestyle', 'lifestyle', 'HutchWorld', 'Lifestyle', 'integrating advanced digital technologies', 'higher education IS', 'use of the internet to assist with lifestyle modifications', 'use of the internet to obtain health information', 'Net Oriented Lifestyle', 'Lifestyle Compatibility (LC)', 'distance technology interventions', 'healthy living website', 'integration of digital health technologies', 'internet use for promoting healthy lifestyle', 'digital wellbeing initiatives', 'wellbeing supportive design', 'online weight/diet monitoring', 'integration of digital technology', 'exercise-and diet blog community', 'fitness culture', 'lifestyle', 'well-being', 'changes in lifestyle', 'Internet-based psychological interventions', 'information technology integration', 'software for life cycle assessment (LCA)', 'online learning community', 'lifestyle', 'healthier online habits', 'modern lifestyles changes', 'Opportunistic Interventions', 'remedies in the form of adaptation', 'Digital well-being', 'digital detox', 'lifestyle', 'technology integration', 'networked health information on diabetes', 'Lifestyle', 'education systems', 'digital technology interventions', 'digital well-being', 'digital detox interventions', 'digital wellness', 'lifestyle', 'habit', 'online learning platforms', 'resistance to change', 'proteus effect', 'full-filled lifestyle', 'electronic health record system', 'use of the internet to assist with lifestyle modifications', 'use of the internet to obtain health information', 'Net Oriented Lifestyle', 'Lifestyle Compatibility (LC)', 'distance technology interventions', 'healthy living website', 'integration of digital health technologies', 'internet use for promoting healthy lifestyle', 'online education', 'hybrid education', 'web-based lifestyle support tools', 'DG (increased use of)', 'fitness is a lifestyle', 'Internet interventions', 'two-dimensional (2D) online interventions', 'use of information and communication technology (ICT) for a health-promoting lifestyle behaviour programme', 'Lifestyle', 'integrating advanced digital technologies', 'higher education IS', 'use of the internet to assist with lifestyle modifications', 'use of the internet to obtain health information', 'Net Oriented Lifestyle', 'Lifestyle Compatibility (LC)', 'distance technology interventions', 'use of the internet to assist with lifestyle modifications', 'use of the internet to obtain health information', 'Net Oriented Lifestyle', 'Lifestyle Compatibility (LC)', 'distance technology interventions']"
        ],
        [
         "18",
         "21",
         "['mass media', 'mass media campaigns', 'raising awareness by global mass media', 'role of mass media in fostering public awareness', 'media campaigns and branding', 'personal perceived environmental threats', 'appearance-focused television exposure', 'media coverage of air pollution', 'Pambazuka News', 'printing', 'ethic of solidarity in digital journalism', 'Urging media to raise environmental awareness', 'being mindful about environmental destruction', 'digital media', 'U.S. mass media', 'attention to mass media', 'media usage', 'media reportage on climate change and adaptation', 'media', 'cleanliness representations in Swedish media', 'digital media', 'media-induced recovery', 'digital media use behaviors', 'mass media messaging', 'media and other technologies', 'impact of novel, consumption-focused media', 'garnering national mass media coverage', 'media campaigns', 'open access publication', 'manuscript transfer service', 'electronic media exposure', 'digital media', 'Twitter/X communication by climate action NGOs', 'media', 'social media campaigns', 'media outlets assuming quasi-judicial roles', 'press freedom', 'responsible journalism', 'media trials', 'informed and impartial media landscape', 'adjusting targets’ audiences', 'mass media', 'electronic media as a sources of information', 'print media as a source of information', 'new media model for promoting marine conservation awareness', 'mass media information dissemination', 'media', 'absence of coverage of relevant local issues by the media', 'openness of media', 'newspapers', 'climate change communications', 'print news use', 'television news use', 'interpersonal relationships with journalists', 'Mass Communications and Human Rights', 'print media', 'electronic media (mobile and internet)', 'new media', 'digital-only publication', 'Media and internet', 'mass media campaigns', 'garnering national mass media coverage', 'flooding of the internet with misinformation, including climate change denial', 'television news frames PA', 'news coverage of PA', 'toluene exposure', 'newspaper coverage', 'communication of environmental awareness through social media', 'media use', \"media's effect on lifestyle\", 'provision of information from social media and mass media', 'media use', 'effective use of mass media', 'digital resources', 'lifestyle magazines for women', 'mass media', 'media device availability in personal space', 'full-view coverage CSN', 'youth-oriented magazines', 'music/entertainment magazines', 'sports magazines', \"men's lifestyle magazines\", 'mass media and information technology', 'phones, radio, and newspapers', 'cable news consumption', 'digital media consumption', 'media influence', 'consumption portrayal', 'media attention to the issue of drunk driving', 'media exposure', 'digital media promotion', 'digital media', 'urging media to raise environmental awareness', 'exposure to climate change-related information on SNSs', 'fear of victimization from climate change', 'cleanliness representations in Swedish media', 'digital media', 'media-induced recovery', 'digital media use behaviors', 'mass media messaging', 'media and other technologies', 'impact of novel, consumption-focused media', 'involvement of the media space', 'hybrid digital formats', 'digital publications', 'media exposure, particularly to violent movies', 'new media', 'traditional media', 'engaging with the media', 'mass media coverage of eutrophication', 'mass-media campaigns', 'information availability and media coverage', 'media', 'recreational media use (RMU)', 'media promotes youth and consumerist lifestyles', 'environmental media', 'social media campaigns', 'electronic media use', 'representations of older people and ageing in print and TV media', 'exposure to COVID-related news', 'exposure to COVID-related kind acts', 'persistent news coverage of school shootings', 'celebrity magazine consumption', 'celebrity TV news consumption', 'total celebrity media diet', 'use of digital media for training', 'digital content', 'mass media', 'urging media to raise environmental awareness', 'exposure to climate change-related information on SNSs', 'fear of victimization from climate change', 'cleanliness representations in Swedish media', 'digital media', 'media-induced recovery', 'digital media use behaviors', 'mass media messaging', 'media and other technologies', 'impact of novel, consumption-focused media', 'garnering national mass media coverage', 'media campaigns', 'open access publication', 'manuscript transfer service', 'electronic media exposure', 'digital media', 'Twitter/X communication by climate action NGOs', 'digital resources', 'lifestyle magazines for women', 'mass media exposure', 'media portrayal of racial/ethnic minorities', 'digital media', 'media discourse on single-use plastic', 'media campaigns', 'multimedia content consumption', 'mass media coverage', 'editorial pressures', 'digital media', 'Media and Information Literacy (MIL) policies', 'traditional sources', 'exposure to women’s magazines', 'exposure to situation comedies', 'effects of promotion on the internet and visual media', 'digital entertainment', 'media richness', 'exposure to media', 'use of mass media in maternal health programs', 'citizen science', 'media coverage of air pollution issues', 'mass media coverage', 'editorial pressures', 'media campaign', 'media', 'media representations of dementia', 'mass media campaigns', 'raising public awareness on air pollution through mass and social medias', 'media reporting on air pollution', 'development of air pollution and health related story hooks', 'creating a forum to connect journalists with scientists', 'media exposure through images of Korean female model', 'media use (television and internet exposure)', 'increasing visibility of Indigenous families in the mainstream Australian media', 'popularity of certain celebrities like Ernie Dingo, Nova Peris and Cathy Freeman', 'media censorship', 'restrictions on independent journalism', 'mass media', 'printed-media educational program', \"children's media consumption\", 'media pressure', 'independent media', 'new, conditional approach to media freedom', 'framing of climate change as threat to human lives and livelihood', 'human causes of climate change', 'a need for climate justice', 'information dissemination by media', 'attacks on media freedom', 'responsible reporting on suicides', 'minority-sensitive media', 'printing and binding activities', 'environmental consciousness', 'media use', 'electronic media use', 'occidental model and media information', 'media', 'exposure to body-focused imagery', 'postpartum-health-focused imagery', 'environmental and health friendliness', 'positive environmental impact', 'newspaper articles', 'exposure to information and communication technology', 'COVID-related media consumption', 'media richness', 'digital interactive media (DIM)', 'mainstream media', 'media storm and user panic', 'media framing', 'media coverage and informational campaigns', 'information availability and media coverage', 'mass media', 'mass media messaging', 'media and other technologies', 'impact of novel, consumption-focused media', 'garnering national mass media coverage', 'media campaigns', 'open access publication', 'manuscript transfer service', 'electronic media exposure', 'digital media', 'Twitter/X communication by climate action NGOs', 'media', 'electronic media', 'print edition of a magazine', 'new media', 'traditional media', 'access to media', 'openness of media', 'media attention to the issue of drunk driving', 'media exposure', 'digital media promotion', 'digital media', 'urging media to raise environmental awareness', 'exposure to climate change-related information on SNSs', 'fear of victimization from climate change', 'cleanliness representations in Swedish media', 'digital media', 'media-induced recovery', 'digital media use behaviors', 'mass media messaging', 'media and other technologies', 'impact of novel, consumption-focused media', 'garnering national mass media coverage', 'media campaigns', 'open access publication', 'manuscript transfer service', 'electronic media exposure', 'digital media', 'digital media', 'media-induced recovery', 'digital media use behaviors', 'mass media messaging', 'media and other technologies', 'impact of novel, consumption-focused media', 'garnering national mass media coverage', 'media campaigns', 'open access publication', 'manuscript transfer service', 'electronic media exposure', 'digital media']"
        ],
        [
         "19",
         "22",
         "['cloud radio access network (C-RAN) architecture', 'optimization problem to allocate radio resources', 'flexible service level agreements in Green IT', 'green mobile application (Thrifteal)', 'green ICT', 'green radio network planning approach', 'green telecommunication networks', 'green campus', 'Green Network Initiative', 'green IT education', 'Cloud Radio Access Network (C-RAN) architecture', 'green networks', 'green lifestyle promotion', 'green activism', 'Green IT initiatives', 'awareness of Green IT', 'greenfluencer credibility', 'green communication technologies', 'green energy-sharing mechanism', 'green network mechanism and strategy', 'green mobile application (Thrifteal)', 'green ICT', 'green radio network planning approach', 'green competence-building practices', 'green motivation-enhancing practices', 'green employee involvement practices', 'green IT', 'green IoT', 'green communication', 'green electronics', 'green ICT practices', 'radio access network (RAN) energy consumption', 'Green IoT', 'green marketing strategies', 'Green procurement', 'Reverse Logistics in Green Procurement', 'green IT initiatives', 'green network mechanism and strategy', 'green mobile application (Thrifteal)', 'green ICT', 'green radio network planning approach', 'green telecommunication networks', 'green campus', 'Green Network Initiative', 'green IT education', 'Cloud Radio Access Network (C-RAN) architecture', 'green networks', 'green energy-sharing mechanism', 'green networking collaboration among competitive mobile operators', 'green IoT', 'Green IT', 'technology development in green communications', 'green labeling', 'green IT', 'green DC monitoring', 'green YouTube Ads', 'internet of sustainable green things', 'green electrical appliances', 'Green IT initiatives', 'awareness of Green IT', 'Green IT', 'greener communications networks', 'Internet + Green public welfare model', 'green ICT', 'green radio network planning approach', 'green telecommunication networks', 'green campus', 'Green Network Initiative', 'green IT education', 'Cloud Radio Access Network (C-RAN) architecture', 'green networks', 'green lifestyle promotion', 'green activism', 'green infrastructure deployment', 'Green Button API', 'green network mechanism and strategy', 'green mobile application (Thrifteal)', 'green ICT', 'green radio network planning approach', 'green telecommunication networks', 'green campus', 'Green Network Initiative', 'green mobile application (Thrifteal)', 'green ICT', 'green radio network planning approach', 'green telecommunication networks', 'green campus', 'Green Network Initiative']"
        ],
        [
         "20",
         "25",
         "['screen time use', 'time occupied by the game', 'hours in front of electronic devices', 'screen time', 'use of computers and television', 'pervasive use of television and video devices', 'screen time and mobile phone use', 'kept daily recreational screen time to 31-60 minutes', 'time spent by screens', 'screen time', 'Screenomics paradigm', 'usage of screen-based media devices by children', 'usage of screen-based media devices by parents', 'screen time', 'screen time', 'time spent on different SM platforms', 'time on screen (>1 h/day)', 'time management', 'digital screen usage', 'familiar devices (as TV)', 'use of ≥2 screens concurrently', 'integration of screens in everyday experience', 'screen use', 'replacement of cathode ray tube screens (CRTs) by flat screens', 'daily screen use', 'television/digital video disk/video viewing and computer/games-console use', 'video game time use', 'screen quota system', 'screen time', 'use of computers and television', 'pervasive use of television and video devices', 'television viewing/computer use', 'screen time (television, videos and video games)', 'total screen time', 'screen media access', 'increased use of screens for work, education and recreation', 'screen time', 'use of computers and television', 'pervasive use of television and video devices', 'daily screen use', 'screen time viewing', 'screen time', '<2 hours spent daily in screen-based behaviors', 'electronic screen exposure time', 'screen time (watching television and playing computer games)', 'excessive screen time', 'screen-based media use', 'screen time', 'time spent on games and computers', 'screen time', 'increased screen usage', 'Internet screen time', 'video game time use', 'screen time use', 'screen time reduction', 'habitual screen time', 'reducing smartphone screentime', 'high screen time', 'screen-based media (SBM) use', 'screen-based activities', 'pervasive use of television and video devices', 'screen time and mobile phone use', 'screen time', 'use of technological screens', 'hourly digital screen time', 'screen time', 'screen time', 'use of computers and television', 'pervasive use of television and video devices', 'use of computers and television', 'pervasive use of television and video devices']"
        ],
        [
         "21",
         "26",
         "['activewear purchased to be worn as casualwear', 'Shopping Lifestyle', 'Fashion Involvement', 'Sales Promotion', 'buying and selling pre-owned fashion products through online resale platforms', 'online fashion resale participation', 'ease of use', 'price', 'organizational citizenship behavior (OCB)', 'job autonomy', 'self-regulation', 'social self-efficacy', 'Marrakesh Treaty implementation', 'fashion lifestyle', 'sales promotion', 'self image', 'impulse buying behaviour', 'social media self-efficacy', 'perceived service quality', 'market orientation', 'emotional commitment', 'behavioral activation system (BAS)', 'behavioral inhibition system (BIS)', 'positive reinforcement motives', 'negative reinforcement motives', 'self-control', 'distress tolerance', 'materialism', 'online purchasing of daily necessities', 'promotion', 'positive emotion', 'hedonic intention', 'consumer technologies', 'perceived warmth', 'perceived competence', 'self-sufficiency', 'consumers’ knowledge', 'e-justice system', 'gamifying awareness/contributions', 'Trustworthiness', 'Perceived Risk', 'digital marketing workshops', 'usefulness', 'sufficiency', 'needs fitting', 'perceived utility', 'trialability', 'observability', 'willingness', 'online shopping activities', 'fashion attentiveness', 'optimism', 'professional involvement', 'compensation', 'environment-friendly fashion', \"product's intrinsic and extrinsic quality increase\", 'image building', 'direct benefit', 'target market development', 'positive leadership behaviour', 'psychological empowerment', 'official organisations', 'flexible employment model', 'customer perceived value (utilitarian and hedonic values)', 'trust in the media', 'enforcing pertinent regulations', 'emotional self-efficacy', 'product complexity', 'brand symbolism', 'experiential marketing', 'consumer-based brand equity', 'customer satisfaction', 'stricter regulations', 'online ticketing', 'consumer-to-consumer interaction', 'e-Service Quality', 'nomophobia', 'self-esteem', 'persuasive messages', 'hedonistic and consumptive lifestyles', 'consumptive behavior', 'e-service quality', 'perceived value', 'digital marketing innovation', 'continuance purchase intention', 'subjective norm', 'empowering human resources', 'efficiency at work', 'independence at work', 'emotional intelligence', 'communication satisfaction (CS)', 'cultural values', 'individualism/collectivism (IC)', 'masculinity/femininity (MF) and power distance (PD)', 'fashion lifestyle', 'consumption value of avatar fashion items', 'individuality seeking', 'fashion seeking', 'brand seeking', 'economic seeking', 'practicality seeking', 'trend/brand value', 'individuality value', 'ideal appearance value', 'e-service quality', 'customer trust', 'Fear of Missing Out (FoMO)', 'gaming avatars', 'international trade law', 'constitutional pluralism', 'experimentation with novel strategies', 'marketing/branding strategies', 'impulsive trait', 'sustainable fashion brand image', 'aesthetic value in attire', 'personal image and confidence in social situations', 'bringing happiness and positive emotions', 'increasing consumer acceptance of innovative products', 'Team Europe regional initiatives', 'second law analysis', 'communication of the benefits of growth that arise from trade and globalization', 'investing time and energy in family demands during work time', 'competitive climate within the organization', 'self-disclosure behavior', 'e-government', 'apologies', 'mediation', 'on-line shopping', 'self-emotion regulation ability', 'perceived susceptibility-severity', 'self-openness', 'enjoyment', 'affective commitment', 'attitude', 'satisfaction', 'hedonic value', 'perceived usefulness', 'service failure severity', 'hedonic lifestyle', 'body positivity discourse', 'visual art', 'non-art images', 'culture (Japanese vs. West European)', 'reward', 'intrinsic motivation', 'extrinsic motivation', 'creative self-efficacy', 'intrinsic motivations', 'extrinsic motivations', 'hedonic motivations', 'utilitarian motivations', 'curiosity', 'enjoyment and playfulness motivations', 'reward motivation', 'visual feedback', 'competition', 'psychological benefits', 'customer satisfaction', 'regulatory approach grounded in procedural rule of law principles and mandatory human rights due diligence', 'authority with human rights leaders', 'photocopiers', 'improvement of accounting rules', 'translate existing human rights to the internet environment', 'role of civil society as ‘translator’ to participate in global internet governance', 'Perceived Ease of Use', 'Trust', 'service quality', 'customer satisfaction', 'standards of transparency and oversight in human rights due diligence processes', 'spatial plan compliance', 'licensing process', 'holistic, process-oriented regulatory approach', 'digital marketing efficacy', 'procedural injustice', 'sympathetic brand response', \"students' mastery goal orientation\", 'perceived pleasure', 'content diversity', 'job stress', 'work environment', 'overall compensation benefits and pay', 'leadership', 'perfectionism', 'self-promotion', 'human-centered digital workplaces', 'performance expectancy', 'effort expectancy', 'hedonic motivation', 'price value', 'globalization', 'effective visual product presentation', 'purchase of lifestyle products', 'mood', 'hedonic pleasure', 'enjoyment experience', 'physical retail', 'mono-brand stores', 'multi-brand stores', 'purchase intentions', 'gaming avatars', 'attitude towards luxury goods in collaborative consumption', 'subjective norm', 'perceived risk', 'fashion leadership', 'psychological transition', 'promotion-focus', 'legislative efforts', 'alcohol marketing', 'engagement with traditional and online alcohol marketing', 'FairDR', 'online game service quality improvement', 'analysis of customer’s needs', 'shopping values', 'recreational shopping consciousness', 'playfulness', 'online trade of plants', 'perceived risk (PR)', 'organizational and strategic alignment', 'complex approaches (FLAASH, ATCOR, 6S)', 'gender identity congruity', 'national culture', 'physical concern', 'perceived brand quality', 'e-health services', 'AI customer service', 'human customer service', 'fashion purchasing', 'conformity', 'organizational learning capability', 'self-efficacy program', 'espoused cultural value uncertainty avoidance', 'espoused cultural value power distance', 'brand name size cues', 'size cue of smallness in the name', 'size cue of bigness', 'organizational justice outcomes', 'strict controlling measures in the private sector', 'fear of job loss', 'globalization', 'online promotion and booking', 'service failure severity', 'service recovery justice', 'perceived switching costs', 'interactional justice', 'procedural justice', 'cultural proximity', 'enduring involvement', 'the social life of metrics', 'gadget-loving sales consultants', 'need for uniqueness', 'materialistic personality traits', 'modelling competition with an explicit focus on the thin ideal', 'gamification', 'hedonic motivation', 'experience variables', 'emotional intelligence', 'job demands-resources', 'Transformational Leadership', 'Organizational Citizenship Behavior (OCB)', 'Work Passion', 'box office revenue', 'higher controls', 'higher burnout', 'use of strategies to obtain these indicators', 'shopping lifestyle', 'fashion involvement', 'hedonic shopping motivation', 'positive emotion', 'decision-making self-efficacy', 'Consumer Ethnocentrism', 'Quality Perception', 'perceived usefulness', \"consumers' need to belong (high vs. low)\", 'environment-friendly fashion', \"product's intrinsic and extrinsic quality increase\", 'image building', 'direct benefit', 'target market development', 'positive leadership behaviour', 'psychological empowerment', 'official organisations', 'flexible employment model', 'customer perceived value (utilitarian and hedonic values)', 'trust in the media', 'enforcing pertinent regulations', 'emotional self-efficacy', 'product complexity', 'brand symbolism', 'experiential marketing', 'consumer-based brand equity', 'customer satisfaction', 'seller trust', 'self-image congruity', 'perceived control', 'ease of use', 'usefulness', 'gamification techniques', 'gamified load management platform', 'coping strategies', 'brand coolness', 'brand commitment', 'communal brand connection', 'distribution', 'e‐service quality (e‐SQ) dimensions', 'merchandise value perception (MVP)', 'online shoppers’ loyalty intentions', 'globalization of markets and information flows', 'Promotion and improving market access', 'consumer perceived value', 'gamification elements', 'monetary incentives', 'contents satisfaction', 'price satisfaction', 'aesthetic simplicity', 'inspiring personal journeys and potential', 'encouraging mindfulness and gratitude', 'advancing diversity and equity', 'sales promotions through alumni distribution', 'online shopping', 'price-oriented lifestyle', 'Islamic self-help and life-coaching literature consumption', 'fairness notions', 'self-efficacy', 'use of diversity technique', 'avatar identification', 'avatar customization', 'factor price distortions in favour of capital', 'online shopping', 'self-image congruity', 'competence in English', 'linguistic diversity', 'female sportswear as fashionwear (athleisurewear)', 'activewear brands', 'shopeepay feature', 'modality affordance', 'agency affordance', 'interactivity affordance', 'navigability affordance', 'entertainment gratification', 'digital leadership', 'visual art', 'non-art images', 'organizational culture', 'work satisfaction', 'employee competency', 'critical social justice education', 'conformity', 'consumptive behavior', 'experiential marketing', 'consumer-based brand equity', 'customer satisfaction', 'shopping lifestyle', 'fashion involvement', 'hedonic shopping motivation', 'positive emotion', 'decision-making self-efficacy', 'Consumer Ethnocentrism', 'Quality Perception', 'perceived usefulness', \"consumers' need to belong (high vs. low)\", 'environment-friendly fashion', \"product's intrinsic and extrinsic quality increase\", 'image building', 'direct benefit', 'target market development', 'positive leadership behaviour', 'psychological empowerment', 'official organisations', 'flexible employment model', 'customer perceived value (utilitarian and hedonic values)', 'trust in the media', 'enforcing pertinent regulations', 'emotional self-efficacy', 'product complexity', 'brand symbolism', 'experiential marketing', 'consumer-based brand equity', 'customer satisfaction', 'stricter regulations', 'online ticketing', 'consumer-to-consumer interaction', 'e-Service Quality', 'nomophobia', 'self-esteem', 'persuasive messages', 'hedonistic and consumptive lifestyles', 'consumptive behavior', 'e-service quality', 'perceived value', 'digital marketing innovation', 'continuance purchase intention', 'subjective norm', 'empowering human resources', 'efficiency at work', 'independence at work', 'organizational justice outcomes', 'strict controlling measures in the private sector', 'fear of job loss', 'globalization', 'enhanced competition', 'strict body regimes', 'customer satisfaction', 'e-service quality', 'trust', 'gamification', 'perceived value of users', 'Perceived Service Quality', 'Price Sensitiveness', 'Human Interaction Quality', 'Product Mix', 'Image', 'efficiency', 'convenience', 'trust', 'perceived ease of use (PEOU)', 'higher competence to use e-services', 'use e-services', 'information systems (IS) continuance model extended with ease of use', 'hedonism lifestyle', 'life satisfaction', 'communication satisfaction', 'voluntary social and corporate responsibility and ethical obligations', 'performance quality of business app', 'public perception', 'branding lifestyle', 'performance expectancy', 'effort expectancy', 'propensity to act', 'online store atmosphere', 'shopping lifestyle', 'positive emotions', 'Sales Promotion', 'brand familiarity', 'locus of control', 'consumptive lifestyle', 'leasing of products', 'remanufactured products procurement', 'selling used products to remanufacturers', 'online shopping', 'fashion curation service usage motivation', 'brand identity, consumer lifestyle, and product information', 'consumer lifestyle image, convenience, hedonic shopping orientation, and personal expression motivation', 'fashion trend, practical information exploration, and entertainment motivation', 'customer relationship management', 'market turbulence', 'accountability', 'auditability', 'observability', 'conformity', 'hedonic lifestyle', 'cultural goods trade', \"understanding users' satisfaction\", 'e-business customer satisfaction', 'gamification in marketing', 'personality tests', 'globalization', 'box office revenue', 'cultural distance from the United States', 'trust', 'subjective norms', 'hedonism', 'shopping convenience', 'ease of use of e-wallets', 'online shopping', 'experience', 'behavioral experience', 'app trust and commitment', 'returning autonomy to users', 'organizational commitment', 'organizational climate', 'online apparel shopping adoption', \"beliefs about the compatibility of online shopping with respondents' lifestyles\", 'perceived risk', 'trust', 'fashion orientation', 'preference for standard goods', 'preference for specific brands', 'AI service quality', 'emotional intelligence (EI)', 'feel-good marketing strategies', 'enforcing pertinent regulations', 'self-efficacy', 'Digital Leadership', 'Organizational Learning', 'AI-enabled service quality', 'intrinsic information quality', 'perceived enjoyment', 'digital marketing', 'hedonic shopping value', 'shopping lifestyle', 'self-photographs as profile pictures', 'other pictures as profile pictures', 'human rights protections in the digital sphere', 'direct marketing', 'Affective Computing', 'fashion attentiveness', 'Urban Outfitters rebranding of the Palestinian scarf', 'persuasive games', 'brand image', 'hedonic lifestyle', 'perceived value', 'international human rights approach', 'US approach', 'decentralized EMS', 'boundary management of work and personal life', 'AI-enabled marketing strategies', 'personalized marketing', 'venetian blind control', 'money attitude', 'personal value', 'shopping lifestyle', 'hedonic behavior', 'service quality (servqual)', 'inertia behavior', 'satisfaction', 'materialism', 'self-control', 'Declaration of Principles on Freedom of Expression and Access to Information in Africa, 2019 (revised Declaration)', 'implementation plan', 'brand awareness', 'incorporation of human rights considerations into decision-making processes', 'Perceived Ease of Use', 'Trust', 'facilitating cultural interactions', 'unmasking cultural stereotypes and intolerance', 'forging a common cultural-pluralistic narrative', 'watching satisfaction', 'surrogate satisfaction', 'persuasive strategies', 'paid contractors', 'juries of users', 'translation of human rights to the internet environment', 'civil society as translator', 'assurance', 'reliability', 'restorative justice', 'women shopping online', 'co-regulation', 'shopping motivation', 'online shopping (e-commerce shopee)', 'perceived usefulness', 'branded products', 'consumer vanity', 'money attitudes', 'satisfaction', 'job resource adequacy', 'digital marketing', 'online shopping', 'hedonic lifestyle', 'online shopping', 'digital leadership', 'human flesh search behavior', 'legal regulation', 'online marketing', 'mood', 'deregulation and liberalization strategies', 'privatization and liberalization', 'sustainable fashion brand image', 'aesthetic value in attire', 'personal image and confidence in social situations', 'happiness and positive emotions', 'consumer acceptance of innovative products', 'creative thinking', 'lifestyle and shoppable fashion product displays', 'consumers’ convenience orientation and hedonic shopping value', 'Fashion Lifestyle', 'Fashion Interest', 'brand familiarity', 'locus of control', 'sales promotion', 'shopping lifestyle', 'hedonic shopping motivation', 'IPRs regimes (treaties)', 'perceived ease of use', 'work-life balance', 'user experience (UX)', 'corporate image', 'perceived service quality', 'trustworthiness', 'gaming avatars', 'website quality', 'creating a network of marketing', 'enjoyment of web experience', 'voluntary staff turnover', 'price', 'promotion', 'service quality', 'online gamified learning', 'extroverted learning style', 'perceived usefulness', 'perceived enjoyment', 'challenge stressors', 'hindrance stressors', 'perceived ease of use', 'e-government services development', 'enforcing pertinent regulations', 'emotional self-efficacy', 'product complexity', 'brand symbolism', 'experiential marketing', 'consumer-based brand equity', 'customer satisfaction', 'stricter regulations', 'online ticketing', 'consumer-to-consumer interaction', 'e-Service Quality', 'nomophobia', 'self-esteem', 'persuasive messages', 'hedonistic and consumptive lifestyles', 'consumptive behavior', 'e-service quality', 'perceived value', 'digital marketing innovation', 'continuance purchase intention', 'subjective norm', 'empowering human resources', 'efficiency at work', 'independence at work', 'emotional intelligence', 'communication satisfaction (CS)', 'cultural values', 'individualism/collectivism (IC)', 'masculinity/femininity (MF) and power distance (PD)', 'fashion lifestyle', 'consumption value of avatar fashion items', 'individuality seeking', 'fashion seeking', 'brand seeking', 'economic seeking', 'practicality seeking', 'trend/brand value', 'individuality value', 'ideal appearance value', 'e-service quality', 'customer trust', 'Fear of Missing Out (FoMO)', 'gaming avatars', 'international trade law', 'constitutional pluralism', 'experimentation with novel strategies', 'elements of inequality and exclusion', 'motivation to play', 'SizeCap', 'consumer service experience consciousness', 'OTT service user tendencies', 'functional pursuit', 'pleasure pursuit', 'social value pursuit', 'cost reduction pursuit', 'perceived ease of use of VR technology', 'accountability matters', 'recognition of gains positively affects motivation', 'use of strategies to obtain these indicators', 'shopping lifestyle', 'fashion involvement', 'hedonic shopping motivation', 'positive emotion', 'decision-making self-efficacy', 'Consumer Ethnocentrism', 'Quality Perception', 'perceived usefulness', \"consumers' need to belong (high vs. low)\", 'environment-friendly fashion', \"product's intrinsic and extrinsic quality increase\", 'image building', 'direct benefit', 'target market development', 'positive leadership behaviour', 'psychological empowerment', 'official organisations', 'flexible employment model', 'customer perceived value (utilitarian and hedonic values)', 'trust in the media', 'enforcing pertinent regulations', 'emotional self-efficacy', 'product complexity', 'brand symbolism', 'experiential marketing', 'consumer-based brand equity', 'customer satisfaction', 'stricter regulations', 'online ticketing', 'consumer-to-consumer interaction', 'e-Service Quality', 'nomophobia', 'self-esteem', 'persuasive messages', 'hedonistic and consumptive lifestyles', 'consumptive behavior', 'customer perceived value (utilitarian and hedonic values)', 'trust in the media', 'enforcing pertinent regulations', 'emotional self-efficacy', 'product complexity', 'brand symbolism', 'experiential marketing', 'consumer-based brand equity', 'customer satisfaction', 'stricter regulations', 'online ticketing', 'consumer-to-consumer interaction', 'e-Service Quality', 'nomophobia', 'self-esteem', 'persuasive messages', 'hedonistic and consumptive lifestyles', 'consumptive behavior']"
        ],
        [
         "22",
         "28",
         "['common satellite in South Asian Association for Regional Co-operation (SAARC)', 'new policy framework specific to the application of satellite technologies', 'remote sensing', 'optical satellite imagery', 'field collected meteorological data', 'spectral reflectance', 'satellite remote sensing', 'satellite navigation technology', 'satellite remote sensing data', 'synthetic aperture radar (SAR)', 'snow microwave radiative transfer (SMRT) model', 'Sentinel-5P satellite data', 'climatic data', 'satellite and airborne remote sensing', 'Google Street View (GSV) images', 'Sentinel-1 Synthetic Aperture Radar (SAR) data', 'remote sensing', 'low-cost multispectral sensors', 'Normalized Difference Oil Index (NDOI)', 'Luojia 1-01 nighttime light imagery', 'satellite-based information', 'numerical weather prediction (NWP)', 'seasonal auto-regressive integrated moving average (SARIMA)', 'seasonal auto-regressive integrated moving average with exogenous inputs (SARIMAX)', 'multisource satellites data', 'Unmanned Aerial Vehicle for beach aerial surveillance and monitoring', 'SWOT satellite altimetry mission', 'land surface model-based downscaling approach', 'automated hydrological modeling framework', 'fusion of optical and Synthetic Aperture Radar (SAR) data', 'water level, water area, storage anomaly, and evaporation data from multisource satellites', 'high-resolution night-time satellite imagery', 'satellite data', 'Sentinel-3 radar altimeter', 'Sentinel-1', 'system of information to charts of environmental sensitivity to oil', 'Visible Infrared Imaging Radiometer Suite (VIIRS) satellite hotspots', 'ERA5 gridded weather data', 'RADARSAT-2', 'radar data', 'MODIS sensor on Terra and Aqua platforms', 'Indian Remote Sensing satellite images', 'satellite measurements', 'integrated downscaling-calibration procedure', 'evaporation models', 'local rainfall-runoff model', 'high-resolution satellite-based imaging systems', 'aircraft and satellite sensors data', 'satellite remote sensing', 'remote sensing images from satellites', 'marine navigational radar', 'satellite imagery', 'Polar Vantage V', 'using internet and having satellite', 'optical satellite remote-sensing', 'satellite navigation technology', 'satellite remote sensing data', 'synthetic aperture radar (SAR)', 'snow microwave radiative transfer (SMRT) model', 'Sentinel-5P satellite data', 'climatic data', 'satellite and airborne remote sensing', 'Satellite remote sensing', 'Sentinel-1 (S-1) Synthetic Aperture Radar (SAR) satellite', 'Seasonal and Trend decomposition using Loess (STL)', 'High-Frequency and X-band radars', 'portable, short-range K-band radar prototype', 'remote sensing tools', 'passive microwave satellite data', 'AVHRR data', 'weather forecasts', 'high-resolution remote-sensing data', 'Google Street View as an ecological tool for gathering environmental data in different urban areas and typologies', 'Trend Moment method', 'Open Geospatial Consortium (OGC) sensor observation service (SOS)', 'remote sensing technology', 'optical satellite remote-sensing', 'satellite navigation technology', 'satellite remote sensing data', 'synthetic aperture radar (SAR)', 'snow microwave radiative transfer (SMRT) model', 'Sentinel-5P satellite data', 'climatic data', 'satellite and airborne remote sensing', 'satellite remote sensing', 'remote sensing images from satellites', 'web page for daily ragweed pollen concentration data', 'satellite communications', 'regulation-system that monitors excessive energy used from the radiance threshold of night-time satellite data', 'satellite datasets', 'DMSP/OLS nighttime light data', 'rainstorm severity index', 'satellite data products', 'remote sensing technology', 'Ka-band in satellite links', 'satellite resource dimensioning process', 'nighttime satellite data', 'radiance threshold class', 'satellite remote sensing technology', 'satellite sensors', 'passive spectral data', 'satellite-based monitoring', 'hourly meteorological data', 'satellite observations', 'MODIS (Moderate Resolution Imaging Spectroradiometer)', 'common satellite in South Asian Association for Regional Co-operation (SAARC)', 'new policy framework specific to the application of satellite technologies', 'Sentinel-2 MSI data fusion', 'normalized difference built-up index (NDBI) and normalized difference vegetation index (NDVI)', 'generalized flood DSS (FLOODSS)', 'Sentinel-5P satellite data', 'climatic data', 'satellite and airborne remote sensing', 'Google Street View (GSV) images', 'natural world imagery', 'using internet and having satellite', 'optical satellite remote-sensing', 'satellite navigation technology', 'satellite remote sensing data', 'synthetic aperture radar (SAR)', 'snow microwave radiative transfer (SMRT) model', 'Sentinel-5P satellite data', 'climatic data', 'satellite and airborne remote sensing', 'Sentinel-5P satellite data', 'climatic data', 'satellite and airborne remote sensing']"
        ],
        [
         "23",
         "29",
         "['energy cost saving in heterogenous cellular networks with hybrid energy supplies', 'user association to minimize the total energy cost of the network', 'innovations in appliances, fuels, infrastructures and institutions', 'dynamic pricing servers', 'performance of computers', 'energy cooperation scheme', 'energy efficiency improvement techniques', 'energy-efficient power allocation algorithm', 'energy recovery', 'system for power management of individual modules with interaction via the Ethernet', 'energy efficiency of communication networks', 'smart energy management systems', 'home energy management systems (HEMS)', 'energy efficiency of IP communication equipment', 'energy efficiency of mobile communication equipment', 'High-frequency AC (HFAC) power distribution systems', 'efficient resource allocation', 'Energy efficiency measures', 'centralized energy provision', 'distributed energy provision', 'energy management', 'macro-level energy demand assessment tool', 'peak power shaving approaches', 'energy-efficient end-user devices', 'automatic generation control (AGC) system', 'power dispatch strategy', 'energy map', 'energy-efficient designs', 'dynamic scheduling of servers based on sequential search, random search, and a maximum fairness search', 'power management settings on desktop and laptop computers', 'energy-efficient computers', 'intelligent power consumption management platform', 'empirical research of power demand response', 'adaptive scheduling algorithm', 'super-energy-efficient computers', 'Energy Eat by Servers and Switches (EESS)', 'Energy Eat and SLA violation Factor (EESF)', 'A/R visualization of energy-related information', 'power management settings on desktop and laptop computers', 'energy-efficient computers', 'local energy communities with information from the real-time market', 'consumers with price knowledge changing their power consumption to lower-cost periods', 'consumers with higher rates chosen to participate in the local flexibility markets', 'use of clean energy', 'scheduling and power capping online heuristics', 'optimal scheduling of appliances', 'conventional network with constant power consumption', 'virtual cell resource mapping multi-objective decision making energy saving model', 'energy efficiency improvement', 'resource consolidation', 'development of more efficient devices', 'demand flexibility in electricity markets', 'power management techniques at the server level', 'Novel power consumption model and refined power consumption model', 'low-power, duty-cycling, and on-demand modes', 'continuous power mode', 'Domestic appliance scheduling', 'constrained Particle Swarm Optimization (PSO)-based residential consumer-centric load-scheduling method', 'home energy management system', 'evaluation of quantitative negative impact of supply authority AC power failures on energy cost, with a view to obtaining discounts', 'theory of consumption values (TCV)', 'schedule of time operating for electrical appliances', 'Lex-energetica', 'power management settings on desktop and laptop computers', 'energy-efficient computers', 'shift usage of peak hour appliances to nonpeak hours', 'locally available distributed generation solutions', \"servers' power usage reduction\", 'consumption model conditioned on availability', 'prioritization of the energy supply and workload scheduling using time-shifting capabilities', 'power consumption simulator', 'energy efficiency metrics', 'lighting appliances, fuels, infrastructures and institutions innovations', 'income and price elasticities of demand for lighting services', 'energy management strategy using a price-based demand response program', 'schedule controller', 'Energy Management Systems (EMSs)', 'Home Energy Management Systems (HEMSs)', 'power management settings on desktop and laptop computers', 'energy-efficient computers', 'electricity demand in information industry', 'resource allocation and task management', 'improve the energy efficiency in the operation', 'develop new energy', 'energy recovery', 'system for power management of individual modules with interaction via the Ethernet', 'energy efficiency of communication networks', 'smart energy management systems', 'home energy management systems (HEMS)', 'energy efficiency of IP communication equipment', 'energy efficiency of mobile communication equipment', 'energy efficiency of telecommunications switching centers', 'efficient management of energy resources', 'improving the idle mode power consumption of small cells', 'promoting technologies that help reduce carbon emissions and energy consumption', 'holistic approach integrating renewable supply, dynamic pricing, and cooling supply with IT workload planning', 'IT workload management plan', 'ongoing improvements in the energy efficiency of the technology', 'resource allocation', 'energy harvesting and transfer', 'fiber based energy efficient networks', 'power infrastructure', 'holistic approach integrating renewable supply, dynamic pricing, and cooling supply with IT workload planning', 'resource assignment policies', 'prioritisation in assigned resource amounts', 'coordinated scheduling strategy', 'many-to-many proportional energy-sharing algorithm', 'multi-objective, two-layer collaborative dispatching strategy', 'energy efficiency in Web server systems', 'energy efficiency actions', 'network energy-saving routing', 'resource allocation and task management', 'improve the energy efficiency in the operation', 'develop new energy', 'energy recovery', 'system for power management of individual modules with interaction via the Ethernet', 'energy efficiency of communication networks', 'smart energy management systems', 'home energy management systems (HEMS)', 'energy efficiency of IP communication equipment', 'energy efficiency of mobile communication equipment', 'High-frequency AC (HFAC) power distribution systems', 'efficient resource allocation', 'Energy efficiency measures', 'centralized energy provision', 'distributed energy provision', 'energy management', 'macro-level energy demand assessment tool', 'peak power shaving approaches', 'energy-efficient end-user devices', 'energy efficiency metrics', 'efficient distribution, conversion and use of electrical energy by telecommunication industry', 'DC power systems for a central office and base station of telecommunication infrastructure', 'high efficiency over wide output power range and low power consumption telecom power distribution system', 'electricity demand forecast', 'electricity cost management for Internet service providers', 'minimizing the total electricity cost under multiple electricity markets environment', 'energy management platform (DCIM)', 'concentration of power in the hands of a few companies', 'Markov Decision Process (MDP)-based scheduling mechanism for residential energy management (REM) in smart grid', 'Home Energy Management Unit (HEMU)', 'Central Energy Management Unit (CEMU)', 'resource availability', 'distributed multi-level solution for the energy consumption optimization', 'scheduling scheme that minimizes the total cost of a building energy demand based on a cooperative game model', 'mechanism that improves the consumer satisfaction when the available energy is insufficient', 'Energy Management Programme', 'energy demand forecasting', 'reduce their maximum transmit powers to a minimum', 'macrosite transmit power reduction', 'network resource management schemes', 'energy-based cost model', 'performance and energy-based cost prediction framework', 'energy management products', 'placement and scheduling of flexible workloads', 'traditional EMS based on centralized control strategies', 'variance-based optimization algorithm for a decentralized Home Energy Management Systems (HEMS)', 'proposed HEMS', 'energy efficiency classification mechanism', 'energy efficiency standards', 'DCs power management', 'appliance automated control', 'TEER (Telecommunications Energy Efficiency Rating) documents', 'intelligent renewable energy allocation and switch-off mechanism', 'conventional energy', 'abatement strategies in their fleet, electricity generation, and consumer electricity use', 'energy information services', 'global energy consumption prediction framework', 'Carbon Usage Effectiveness (CUE) analysis', 'electricity costs analysis', 'Power Usage Effectiveness (PUE)', 'resource conservation', 'Coal Management Module (CMM) Software', 'resource allocation', 'Energy-Conscience Workload Scheduling', 'energy saving techniques', 'Uninterruptible Power Supplies (UPS) improvement', 'power supply systems and topologies', 'intelligent system for energy managing', 'smart energy management systems', 'home energy management systems (HEMS)', 'energy efficiency of IP communication equipment', 'energy efficiency of mobile communication equipment', 'High-frequency AC (HFAC) power distribution systems', 'efficient resource allocation', 'Energy efficiency measures', 'centralized energy provision', 'distributed energy provision', 'energy management', 'macro-level energy demand assessment tool', 'peak power shaving approaches', 'energy-efficient end-user devices', 'automatic generation control (AGC) system', 'power dispatch strategy', 'energy map', 'energy-efficient designs', 'dynamic scheduling of servers based on sequential search, random search, and a maximum fairness search', 'home energy management application', 'most efficient energy minimising technologies in the RAN', 'Home Energy Management System (HEMS)', 'energy-saving control mechanism', 'Smart Home Energy Management System', 'power capping', 'demand flexibility in electricity markets', 'energy-aware network design', 'dynamic power management', 'energy harvesting', 'energy management strategy using a price-based demand response program', 'schedule controller', 'Energy Management Systems (EMSs)', 'Home Energy Management Systems (HEMSs)', 'power management settings on desktop and laptop computers', 'energy-efficient computers', 'electricity demand in information industry', 'resource allocation and task management', 'improve the energy efficiency in the operation', 'develop new energy', 'energy recovery', 'system for power management of individual modules with interaction via the Ethernet', 'energy efficiency of communication networks', 'smart energy management systems', 'home energy management systems (HEMS)', 'energy efficiency of IP communication equipment', 'energy efficiency of mobile communication equipment', 'High-frequency AC (HFAC) power distribution systems', 'efficient resource allocation', 'Energy efficiency measures', 'centralized energy provision', 'distributed energy provision', 'energy management', 'smart energy management systems', 'home energy management systems (HEMS)', 'energy efficiency of IP communication equipment', 'energy efficiency of mobile communication equipment', 'High-frequency AC (HFAC) power distribution systems', 'efficient resource allocation', 'Energy efficiency measures', 'centralized energy provision', 'distributed energy provision', 'energy management']"
        ],
        [
         "24",
         "31",
         "['access to information', 'documentation', 'immediate publication of all available information from all sources in understandable form through all means', 'informational use', 'information-seeking', 'digital visibility', 'information and communication approach', 'leaking information by WikiLeaks', 'Information Quality', 'misinformation', 'informatization', 'Native omission', '“Be Ready” trivia campaign', 'exchange and sharing of information', 'information society, information acquisition, creation, manipulation, and dissemination', 'sharing', 'difficulty of access to necessary information', 'informativeness', 'misinformation disseminated by the news media', 'mobile information security awareness', 'information subsidies', 'Commerce and Communication', 'unauthorized access by third parties', 'adoption of stringent data security practices', 'IT Identity', 'self-protection', 'sharenting', 'Flip.id application use behavior', 'sharing and renting models', 'European software regulation', 'communication and information', 'new modes of scholarly communication', 'confronting challenges of documentation', 'immediate publication of all available information from all sources', 'more effective information policy', 'routine knowledge sharing', 'novel knowledge sharing', 'privacy protection', 'Every Village a Knowledge Centre movement', 'movement of information', 'surveillance', 'information seeking about others', 'EU privacy regulation', 'information goods', 'misinformation', 'informatization', 'Native omission', '“Be Ready” trivia campaign', 'privacy', 'information flow', 'information measures', 'immediate publication of all available information from all sources in understandable form through all possible means', 'identity cards', 'surveillance technologies', 'information navigation skills', 'information and awareness campaign', 'information security framework', 'information gratification', 'documentation', 'EU privacy regulation', 'information goods', 'misinformation', 'informatization', 'Native omission', '“Be Ready” trivia campaign', 'exchange and sharing of information', 'Every Village a Knowledge Centre movement', 'information processing timeliness', 'information confusion', 'transparent policies', 'low concerns about data security', 'information seeking practices', 'data surveillance', 'information search for utility, entertainment, and personal expression', 'communication and information', 'immediate publication of all available information from all sources', 'obtaining credible information', 'information sharing', 'information', 'unauthorized use of identity information', 'security', 'passing the information to neighborhoods', 'providing greater information channels', 'development of terminologies booklet', 'facilitating access to information for consumers and producers', 'improve access to information', 'information risk cross-space propagation model', 'cyber surveillance', 'digital surveillance', \"unauthorized use of the Navajo Nation tribe's name and design\", 'communication and information', 'access to information and communications', 'fade mitigation techniques', 'inadequate protection of personal data', 'indigenous knowledge', 'security', 'traceability', 'argument quality', 'privacy concerns', 'information sharing', 'information quality', 'privacy', 'security', 'current privacy policies and practices', 'information communication to the employees and customers', 'exchange and sharing of information', 'Integrated Marketing Communication', 'information society, information acquisition, creation, manipulation, and dissemination', 'active information policy', 'access to information', 'EU privacy regulation', 'information goods', 'misinformation', 'informatization', 'Native omission', '“Be Ready” trivia campaign', 'Native omission', '“Be Ready” trivia campaign']"
        ],
        [
         "25",
         "32",
         "['LSTM-GRU-PPCM model', 'relational learning', 'data processing technologies', 'data justice', 'analysing/monitoring via a dashboard', 'advanced analytics', 'electronic database implementation', 'PUE interpretation tool', 'Mixed Integer Linear Programming (MILP) model', 'data analytics', 'machine learning algorithms', 'Random Forest algorithm', 'data-mining', 'data-modeling', 'measured data management system', 'data driven machine learning approach', 'analysis tool', 'genetic algorithm', 'communication, sensing technology, and machine learning algorithm', 'KNN (K Nearest Neighbor) classification machine learning algorithm', 'cross-border data flows', 'free flow of data', 'liberalization of cross-border data flow', 'parallel outliers algorithm based on density', 'Machine Learning (ML) inference algorithm', 'Support Vector Machine (LibSVM)', 'urban fire model', 'flow', 'data visualization', 'data visualization design toolkits', 'data management', 'data-driven feedback loops', 'third-degree polynomials model', 'digital monitoring systems', 'machine learning-enhanced calibration', 'application of machine learning and deep learning methods', 'data collection without consent', 'Taverna workflow management system', 'support vector machine based forecasting model', 'sentiment analysis', 'Mixed Integer Linear Programming (MILP) model', 'MATLAB program', 'advanced natural language processing techniques, specifically ModernBERT', 'application of specific interpretation algorithms', 'predictive models for the three coefficients', 'linear mixing model of benthic classes', 'neural-network-based algorithm', 'commons-based ownership frameworks for data', 'information analysis and report management systems', 'data infrastructures', 'political economy of personal data', 'social analytics', 'Canada’s use of algorithms in immigration applications', 'stochastic theoretical model', 'PUE interpretation tool', 'Mixed Integer Linear Programming (MILP) model', 'data analytics', 'machine learning algorithms', 'Random Forest algorithm', 'data-mining', 'data-modeling', 'Enhanced Global Gradient Algorithm (EGGA)', 'RE Data Explorer', 'information technology and data analytics', 'First Fit-Decreasing (FFD) algorithm', 'Long Short-Term Memory (LSTM) networks', 'national databases', 'online distributed machine-learning algorithm with real-time data update', 'hybrid models', '0-1 nonlinear integer programming routing adjustment model', 'heuristic algorithm based on the depth-first search', 'heuristic algorithm based on k-shortest paths', 'stochastic theoretical model', 'PUE interpretation tool', 'Mixed Integer Linear Programming (MILP) model', 'data analytics', 'machine learning algorithms', 'Random Forest algorithm', 'data-mining', 'data-modeling', 'measured data management system', 'data driven machine learning approach', 'analysis tool', 'genetic algorithm', 'communication, sensing technology, and machine learning algorithm', 'neural-network-based algorithm', 'commons-based ownership frameworks for data', 'data driven technologies', 'simulation and modeling techniques', 'data management', 'check-in data', 'automated decision-making in immigration and refugee applications', 'technology and data collection', 'discriminatory algorithms', 'small additional flow transfer delay', 'adversarial false data injection attack tactic', 'LSTM-GRU-PPCM model', 'cross-border information systems', 'processing methods of the data', 'integrated study on DMSP/OLS data and other data models', 'randomized rounding approximation algorithm', 'sample-based algorithm', 'creating centralized databases for effective management', 'machine learning', 'Bat Algorithm', 'algorithms', 'suboptimal distributed algorithm', 'spatial autocorrelation models', 'LSTM-GRU-PPCM model', 'machine learning', 'improved LSTM model', 'Ant Forest app', 'data analytics', 'machine learning algorithms', 'Random Forest algorithm', 'data-mining', 'data-modeling', 'measured data management system', 'data driven machine learning approach', 'analysis tool', 'genetic algorithm', 'communication, sensing technology, and machine learning algorithm', 'KNN (K Nearest Neighbor) classification machine learning algorithm', 'cross-border data flows', 'free flow of data', 'liberalization of cross-border data flow', 'genetic algorithm and mixed integer programming', 'Canada’s use of algorithms in immigration applications', 'stochastic theoretical model', 'PUE interpretation tool', 'Mixed Integer Linear Programming (MILP) model', 'data analytics', 'machine learning algorithms', 'Random Forest algorithm', 'data-mining', 'data-modeling', 'measured data management system', 'data analytics', 'machine learning algorithms', 'Random Forest algorithm', 'data-mining', 'data-modeling', 'measured data management system']"
        ],
        [
         "26",
         "7-0",
         "['digital technologies', 'digital technologies', 'digital technologies', 'digital technology', 'digital technology use', 'Digital services', 'digital economy', 'digital revolution', 'digital data', 'education with digital technology', 'information revolution', 'digital technology', 'digital technologies', 'technologisation of everyday life', 'digital technological change', 'digital technologies', 'digital revolution', 'digital economy', 'digital technology', 'digital technology', 'digital technology', 'digital technologies', 'digital economy', 'digital economy', 'digital technologies in trade', 'digital use supply chains (DUSCs)', 'digital hoarding', 'introduction of digital technologies and artificial intelligence in automated accounting of resource consumption', 'digital technologies', 'digital identification systems', 'global digital nomadism', 'design of digital interactive technology', 'the digital economy', 'digital technology', 'digital tools', 'digital technologies', 'technology and digital lifestyle', 'development of the digital economy', 'Digital Economy and Society Index (DESI)', 'Women in Digital Index (WID)', 'Rural Digital Index (RDI)', 'digital financial inclusion', 'digital technology', 'development of the digital economy', 'digital inequalities', 'digital technologies', 'digital technologies', 'digital economy technologies', 'circular economy-driven digital transformation', 'digital activism', 'digital economy', 'information economy', 'marketization of digital intelligence', 'digital economy expansion', 'digital economy', \"the digital economy's role in urban low-carbon development\", 'use of digital and information technology', 'digital revolution', 'digital status seeking', 'digital technologies', 'digital technology', 'digital technologies', 'technologisation of everyday life', 'digital technological change', 'digital exclusion', 'Digital Services Act (DSA)', 'digital economy', 'digital technologies in trade', 'use of digital technologies', 'digital technologies as a means of communication', 'improving the circular economy through digital devices', 'digital government capacity', 'developing digital tools', 'digital technology', 'digital technologies', 'digital solutions', 'establish everyone must abide by the digital technology application ethics', 'digital technologies to mediate and up-scale their activities', 'digital technologies', 'digital life', 'digital technology use', 'digital sovereignty', 'digital communication technologies', 'digital technology', 'digital approaches', 'digital technologies', 'digital technologies', 'digital technology law', 'digital technology', 'digital technologies', 'technologisation of everyday life', 'digital technological change', 'digital technologies', 'digital revolution', 'digital economy', 'digital technology', 'information economy', 'marketization of digital intelligence', 'digital economy', 'digital garbage handling', 'secure digital payments', 'digital information technology use', 'stronger belief in benefits of digital services', 'digital strategies and technologies', 'digital technologies', 'high use of technology and digitalization', 'digital participation', 'digital use', 'digital consumption', 'digital technologies', 'digital-ruralism', 'digital technology', 'GDP per capita', 'digital technologies', 'digital technology', 'digital technology', 'ageing-inclusive digital economy', 'Digital Culture', 'digital economy', 'digital technology', 'digital computing', 'digital technologies', 'digital safety', 'digital inclusion of civil society', 'digital information support of customers', 'digital economy', 'digital distribution', 'digital economy development', 'digital technologies', 'digital economy', 'digital technologies', 'strategy for the development of the economy and digital society', 'digital economy', 'television transmission technology switch from analog to digital system', 'digital adaptability', 'digital economy', 'digital economy', 'digital technologies', 'digital technology domestication and usage', 'connections between digital technologies, convenience, meaning, and competency', 'digital policies and practices', 'state instrumental use of digital sovereignty', 'digital inclusion', 'digital technology usage', 'Digital services', 'digital twins', 'digital inclusion', 'digital technologies', 'technologisation of everyday life', 'digital technological change', 'digital technologies', 'digital revolution', 'digital economy', 'digital technology', 'digital solutions', 'digital and online technologies', 'digital technology', 'Digital Services Act (DSA)', 'digital technologies', 'digital status seeking', 'digital technologies', 'digital technology', 'digital technologies', 'technologisation of everyday life', 'digital technological change', 'digital technologies', 'digital revolution', 'digital technology', 'digital technologies', 'technologisation of everyday life', 'digital technological change', 'digital technologies', 'digital revolution']"
        ],
        [
         "27",
         "7-1",
         "['digital literacy', 'digital literacy', 'digital reading', 'digital short story literacy', 'digital literacy', 'Pancasila-based digital literacy', 'digital literacy', 'digital literacy', 'program to inform readers', 'digital skills', 'digital literacy intervention', 'digital citizenship education', 'digital literacy', 'digital reading', 'digital short story literacy', 'digital fluency', 'digital literacy', 'digital social reading (DSR)', 'digital literacy', 'digital literacy', 'digital reading', 'digital short story literacy', 'digital skills', 'digital literacy', 'digital literacy']"
        ],
        [
         "28",
         "9-0",
         "['data centers', 'data center federation', 'artificial intelligence (AI) data centers', 'Union Digital Centers', 'data centers', 'clean-by-design data center architecture', 'data centers', 'high density, mission-critical datacenters', 'data center', 'data center', 'artificial intelligence (AI) data centers', 'data center computing', 'internet data centers', 'artificial intelligence (AI) data centers', 'modular data center', 'data centers', 'IT hardware and data center infrastructure', 'processing shift from end-user devices to data centers', 'data center hosting', 'large data center', 'data centers and transmission networks', 'large data centers', 'data center', 'micro-datacenters deployment', 'artificial intelligence (AI) data centers', 'artificial intelligence (AI) data centers', 'artificial intelligence (AI) data centers']"
        ],
        [
         "29",
         "9-1",
         "['data centres', 'incentivise the construction of data centres and associated energy infrastructures', 'high power density data centres', 'large data centres', 'data centres establishment', 'incentivise the construction of data centres and associated energy infrastructures', 'incentivise the construction of data centres and associated energy infrastructures', 'data centres', 'data centres, networking, cloud computing resources reducing their carbon footprint', 'incentivise the construction of data centres and associated energy infrastructures', 'data centres', 'large data centres', 'optimal integration of data centres', 'data centres establishment', 'incentivise the construction of data centres and associated energy infrastructures', 'incentivise the construction of data centres and associated energy infrastructures']"
        ],
        [
         "30",
         "16-0",
         "['smart technology', 'Smart sensors and other IoT devices', 'mobile application connected to the sensors', 'smart devices', 'Mobile applications based on gas sensing', 'Metal oxide semiconductor (MOX) gas sensors', 'intelligent sensors', 'SensorWebBike', 'Smart Object System', 'smart devices', 'sensors and smart devices', 'multisensory system on board of a commercial small drone', 'smart devices', 'mobile application connected to the sensors', 'intelligent devices', 'sensors and monitoring system', 'internet-enabled end-user devices and networked sensors', 'Conceptualization and Sensor-less Sensing', 'smart device use', 'control of smart device usage', 'smart systems', 'smart devices', 'built-in sensors', 'smart technology', 'smart business enterprises', 'mobile application connected to the sensors', 'smart devices']"
        ],
        [
         "31",
         "16-1",
         "['wireless sensor networks', 'sensor network with delay tolerance (SeNDT) units', 'smart home technology', 'smart gardening', 'automated irrigation system', 'electronic circuits for remote sensing for water conductivity using Zigbee', 'smart energy meter', 'smart metering strategies', 'wireless sensor networks (WSNs)', 'smart water management technology', 'smart water and energy meters', 'smart meters deployment', 'smart metering using machine-to-machine (M2M) communication', 'advanced metering infrastructure (AMI)', 'smart meters', 'smart homes', 'Wireless sensor networks', 'Energy Harvesting routing protocol for Wireless Sensor Networks (EHWSN)', 'monitoring sensor network', 'smart meters and remote sensor systems', 'camera sensor network (CSN)', 'smart measurement system', 'smart meter data', 'smart home technology', 'smart meters', 'building automation systems', 'Smart Home device', 'smart home technology', 'Smart technology for Water', 'smart metering', 'Extended Smart Metering Display', 'Wireless Sensor Network (WSN)', 'Online POTable water quality monitoring NETwork (POTNET)', 'smart metering deployment', 'new metering technologies combined with information systems', 'smart homes', 'communication, Information Technology, Intelligent Algorithms and Advanced Metering Infrastructure', 'smart meters', 'wireless ESP8266 sensor network', 'smart gardening', 'automated irrigation system', 'electronic circuits for remote sensing for water conductivity using Zigbee', 'Wireless Sensor Networks (WSNs)', 'Smart Meters (SM)', 'smart home automation systems', 'smart meter data', 'smart home technology']"
        ],
        [
         "32",
         "23-0",
         "['telecommunications', 'demand for pharmaceuticals, IT and telecommunications', 'communication facilities', 'communication network', 'communications', 'cellular-assisted underlay device-to-device (D2D) communications', 'cellular technology with long term evolution (LTE)-based standards', 'communication technologies', 'broadcast engineering design', 'General Packet Radio Service (GPRS) communications', 'telecommunications services quality', 'Long Range Wide Area Network (LoRa-WAN)', 'Base Transceiver Stations (BTS)', 'telecom centers', 'multicast in the back-bone network', 'new algorithm for multicast tree construction', 'bidirectional communication device', 'mobile Internet infrastructure', 'cellular base stations enabled with renewable energy sources (RES)', '6G development', 'telecommunication infrastructure', 'communication technology development', 'Fifth Generation (5G) wireless networks', 'energy-efficient hybrid power supply system for a 5G macro base station', 'public address systems', 'new mobile Internet services', 'network scaling approach', 'disabling one carrier', 'KNX and LonWorks communication protocols', 'Telecom services', 'mobile networks', 'faster data rates and higher capacities', 'aggregator agents', 'communication architecture', 'two-way communication infrastructure', 'better mobile connectivity', 'communication media', 'modern communication tools', '5G networks and digital technologies', 'access to telecommunication services', 'communications infrastructure', 'local area network', 'communication protocols', 'low-power wide-area network (LPWAN)', 'telecommunication', 'smart communications', 'communications and infrastructure upgrades', 'base station deployment strategy', 'network densification', 'broader use of telecommunications technologies', 'small cell base stations deployment', 'privately funded GSM network', 'poor communications infrastructure', 'Wavelength-Division Multiplexing (WDM) and other telecommunications equipment', 'cell-phone transmission stations', '5G wireless networks', 'Small Cell Remote Radio Heads (SC-RRHs)', 'installation of liquid and gas pipes, fiber optics', 'LTE/4G and LoRa communication capabilities', 'telephone or video conversations', 'telecommunication tower', 'joint use of towers', 'Long-Range (LoRa) wireless communication system', 'data transmission', 'investments in telecommunications infrastructure', 'Power Line Communication (PLC) technology', 'IPv6 PLC technology', 'model to deal with uncertainty from the Aggregator perspective', 'unreliable, spotty telecommunications', 'mobile communication towers', 'communication network quality', 'subsea cables', 'cellular base stations (BSs) deployment', 'mobile edge cloud (MEC)', 'technology tools (Internet, mobile applications, social media, video games)', '5G technology', 'undersea fiber-optic cables', 'expenditure for communications', 'self-organization algorithm and message passing algorithm', 'telecommunication infrastructure', 'BTS tower development', 'Starlink by SpaceX', 'global system for mobile communications (GSM) messaging service', 'team communication application, Slack', 'communications', 'Cable Extension Project for Tango', 'communication base station backup power supply', 'Communications by using TCP and X10 protocols', '5G innovation', '6G technology', 'affordable access to communication services', 'data consumption', 'connecting base stations to microgrids', 'Deployment of Infrastructure of Telecommunications', 'maintenance of equipment and networks', 'operation of telecommunications equipment', 'antennas', 'altered communications', 'remote communications technology for sending data between things', 'affordable telecommunications infrastructure', 'communication technology', 'density of mobile phone base stations', 'Network Functions Virtualization (NFV) and Software Defined Networking (SDN) technologies', 'high speed radio communication backbone', 'microwave radio communication network', 'cellular base stations (BSs) deployment', 'poor communications', 'maritime wireless mesh network (MWMN)', 'very-high frequency (VHF) communication', 'cooperative transmission method', 'Garmin Fenix 5', 'Putting the underutilized components of RBSs in sleep mode during low load', 'Information and Technology Communication tools', 'joint construction and share of telecommunication infrastructure', 'KNX and LonWorks communication protocols', 'Telecom services', 'mobile networks', 'faster data rates and higher capacities', 'aggregator agents', 'communication architecture', 'two-way communication infrastructure', 'better mobile connectivity', 'communication media', 'modern communication tools', 'low cost telecommunications infrastructures', 'public long term evolution (LTE) network', 'cluster-based hybrid sensor-LTE network', 'public telecommunications infrastructure', 'new targeted and customized delivery platforms using modern communication techniques', 'advancement in base station technology', 'Radio Data System communications', 'regional/local hubs', 'energy local area network', 'heterogeneous networks consisting of a mixture of both technologies', 'aerial amplifier', 'narrowband power line communication (NB-PLC) technique', 'wireless communication services', 'base stations', 'predictive modeling approach for base station energy consumption', 'national communication system', 'modern (tele-)communication', 'network quality', 'network planning and deployment', 'LPWAN LoRa for data transmission', 'telecommunications services', 'multimedia communications development', 'wirelessly via GSM', '5G base stations', 'poor communication', 'telecommunication infrastructure', 'public telecommunications infrastructure', 'LTE networks', 'QoS class of SG DR traffic transmitted in downlink direction', 'Information and Technology Communication tools', 'joint construction and share of telecommunication infrastructure', 'KNX and LonWorks communication protocols', 'Telecom services', 'mobile networks', 'faster data rates and higher capacities', 'aggregator agents', 'communication architecture', 'two-way communication infrastructure', 'better mobile connectivity', 'communication media', 'modern communication tools', '5G networks and digital technologies', 'access to telecommunication services', 'communications infrastructure', 'local area network', 'communication protocols', 'low-power wide-area network (LPWAN)', 'telecommunication', 'bidirectional communication device', 'smart communications', 'communications and infrastructure upgrades', 'base station deployment strategy', 'network densification', 'broader use of telecommunications technologies', 'small cell base stations deployment', 'privately funded GSM network', 'poor communications infrastructure', 'Wavelength-Division Multiplexing (WDM) and other telecommunications equipment', 'cell-phone transmission stations', '5G wireless networks', 'Small Cell Remote Radio Heads (SC-RRHs)', 'installation of liquid and gas pipes, fiber optics', 'cellular base stations (BSs) deployment', 'poor communications', 'communication networks based on optical infrastructure', 'telecommunications technologies', 'mobile communications', 'base station sleeping strategy', 'intermediate bus architecture (IBA)', 'Network Quality', 'development in electronics, communications, embedded systems, and intelligence at the edge', '5G wireless communications', 'GSM technology for data collection', '5G mobile network', 'improvement of communication technologies', 'privately funded GSM network', 'remote communication methods', '5G coverage', 'home communications', 'deployment of cellular base-stations', 'software defined networking (SDN) paradigm', 'Control and Monitoring Unit (CMU) to aggregator agent communication using Long Term Evolution (LTE) protocol', 'intelligent hybrid communication system', 'controller area network (CAN) bus', 'application specific communication protocol', 'communication campaigns through signalling the paths', 'Fiber optic network', 'new fiber construction methods', 'telecommunication equipment', 'increasing deployment density through additional micro sites', 'telecommunication network systems', 'multiple-input multiple-output (MIMO)', 'orthogonal frequency division multiplexing (OFDM)', 'cognitive radio (CR)', 'network coding', 'new network architectures such as heterogeneous network', 'cooperative communication', 'trainings and capacity building sessions for media representatives', 'data communication network', 'telemetry equipment for communicating with distributed units in the field', 'deployment of 5G and even 6G networks', 'high density of base stations (BSs) and high-power consumption of single station', 'heterogeneous network (HetNet) consisting of macro and micro base station (BS)', 'altered communications', 'two-way communication', 'overlay multi-tier communications infrastructure', 'deployment of missing links in the national fiber optic network', 'poor communications', 'Global System for Mobile Communication (GSM) technology', 'new mobile Internet services', 'clustered network architecture', 'wireless coverage', 'modern telecommunications tools', 'digital communication', 'millimetre-wave communications', 'Long-Term Evolution in unlicensed spectrum', 'ultra-dense heterogeneous networks', 'device-to-device communications', 'massive multiple-input multiple-output communications', 'communication through telephone and the Internet', 'AODV (adhoc On-demand distance Vector) routing protocol', 'better telecommunication services', 'unlawful interception of communication', '5G communication', 'renewable energy sources for mobile base stations', 'base stations switching-off', 'standard communication technologies (most often Profibus or Ethernet)', '5G base stations deployment', '5G traffic demand', '4G traffic', 'distributed infrastructure for heterogeneous devices in the home local area network (xAAL)', '4G services', '5G networks', 'mobile communication', 'competitive pressure from cable providers', 'Discontinuous transmission (DTX)', 'global system for mobile communications (gsm) subscribers', 'network environment norms', 'telecommunications development', 'WiFi and Global System for Mobile communication network', 'Long Term Evolution (LTE) protocol for Control and Monitoring Unit (CMU) to aggregator agent communication', 'poor radio signals', 'mobile coverage', 'communication technology', 'wireless based communication network', 'lack of a network', 'wireless communication module', '5G', 'communication through telephone and the Internet', 'telecommunications infrastructure development', 'two-way communication infrastructure', 'better mobile connectivity', 'communication media', 'modern communication tools', '5G networks and digital technologies', 'access to telecommunication services', 'communications infrastructure', 'local area network', 'communication protocols', 'low-power wide-area network (LPWAN)', 'telecommunication', 'bidirectional communication device', 'smart communications', 'communications and infrastructure upgrades', 'base station deployment strategy', 'network densification', 'broader use of telecommunications technologies', 'small cell base stations deployment', 'privately funded GSM network', 'poor communications infrastructure', 'Wavelength-Division Multiplexing (WDM) and other telecommunications equipment', 'cell-phone transmission stations', '5G wireless networks', 'Small Cell Remote Radio Heads (SC-RRHs)', 'installation of liquid and gas pipes, fiber optics', 'LTE/4G and LoRa communication capabilities', 'telephone or video conversations', 'wireless telecommunication EMF', 'encouraging telecommunication service providers to jointly use the same mast in an area for broadcast', 'telecommunication systems', 'higher data rate mobile broadband', 'restructuring of existing network architecture', 'controlling system in every base station', 'telecom services growth', 'right RAN architecture', 'share the network with other operators', 'telecommunication systems', 'beam transmission', 'conversion to DC at the receiving antenna on earth', '5G mobile networks', '5G network slicing', 'artificial intelligence-based implementations of network slicing', 'energy-saving technologies for 5G base stations', 'omnichannel integration', '5G base stations', 'sleep mechanism', 'telecommunications', 'global communication systems', 'modern communication technology', 'Putting the underutilized components of RBSs in sleep mode during low load', 'Information and Technology Communication tools', 'joint construction and share of telecommunication infrastructure', 'KNX and LonWorks communication protocols', 'Telecom services', 'mobile networks', 'faster data rates and higher capacities', 'aggregator agents', 'communication architecture', 'two-way communication infrastructure', 'better mobile connectivity', 'communication media', 'modern communication tools', '5G networks and digital technologies', 'access to telecommunication services', 'communications infrastructure', 'local area network', 'communication protocols', 'low-power wide-area network (LPWAN)', 'telecommunication', 'bidirectional communication device', 'smart communications', 'communications and infrastructure upgrades', 'base station deployment strategy', 'network densification', 'broader use of telecommunications technologies', 'small cell base stations deployment', 'privately funded GSM network', 'poor communications infrastructure', 'communication architecture', 'two-way communication infrastructure', 'better mobile connectivity', 'communication media', 'modern communication tools', '5G networks and digital technologies', 'access to telecommunication services', 'communications infrastructure', 'local area network', 'communication protocols', 'low-power wide-area network (LPWAN)', 'telecommunication', 'bidirectional communication device', 'smart communications', 'communications and infrastructure upgrades', 'base station deployment strategy', 'network densification', 'broader use of telecommunications technologies', 'small cell base stations deployment', 'privately funded GSM network']"
        ],
        [
         "33",
         "23-1",
         "[\"Chinese investments in Africa's telecom sector\", 'Internet access', 'broadband access', 'regulating Internet access services', 'internet access', 'high-speed fixed broadband Internet access', 'limited Internet access', 'expansion of broadband capabilities', 'broadband Internet connectivity for centers of learning', 'broadband services', 'regulating Internet access services', 'internet access', 'internet access', 'high-speed fixed broadband Internet access in rural areas', 'broadband use', 'Internet access', 'regulating Internet access services', 'internet access', 'wireless and broadband technology', 'better internet connections', 'broadband internet access', 'investments in broadband access', 'investments in broadband', 'Internet-specific rule setting', 'reactive restrictions towards Internet use', 'internet access', 'regulating Internet access services', 'usage-based pricing for fixed broadband service', 'usage-based pricing for wireless broadband service', 'tiered pricing in wireless broadband', 'monthly data caps and overage charges in fixed broadband', 'Internet access', 'new approaches to regulation of Internet intermediaries', 'broadband connectivity', 'Broadband China Pilot Policy (BCPP)', 'Broadband China Policy', 'expensive internet access', 'competition among Internet service providers', 'broadband deployment and speed', 'competition between broadband providers', 'deploying high-speed internet', 'internet access', 'internet access', 'regulating Internet access services', 'internet access', 'regulating Internet access services', 'internet access', 'regulating Internet access services', 'internet access']"
        ],
        [
         "34",
         "24-0",
         "['live broadcasting', 'long time watching TV', 'excess television (TV) viewing', 'moderate amount of TV viewing (1 to ≤2 hours/day)', 'TV and video', 'televisions', 'TV viewing time', 'TV viewing', 'television viewing', 'television', 'family-life television content', 'violent television program', 'videoconference technology', 'video transmission (streaming)', 'western television programs', 'violent scenes', 'watching television', 'technology usage (use of video and web-based delivery)', 'television', 'television/day', 'watching videos/livestreams concerning pets', 'Social television (Social TV) viewing of live sports events', 'decreasing television viewing', 'videoconferencing', 'watching TV', 'hours watching TV daily', 'audio-visual transmission technology', 'TV usage environment', \"TVs in children's bedrooms\", 'watching more television', 'video streaming', 'watching videos', 'watching news', 'television viewing', 'Big Brother Africa reality show', 'TV drama series', 'high television time', 'Video On Demand and Video \"over the top\" (OTT) services', 'home entertainment', 'video processing and streaming', 'video transmission algorithms or infrastructures', 'promoting video conferencing to minimise business travel', 'TV viewing', 'television viewing', 'digital terrestrial television', 'online delivery of video-on-demand', 'larger television screens', 'use of video technologies', 'bedroom television', 'mobile IPTV', 'LED TV display', 'smart TV', 'watching time of TV', 'television programs', 'TV viewing time', 'viewing The Biggest Loser', 'promoting video conferencing to minimise business travel', 'TV viewing', 'television viewing', 'television', 'family-life television content', 'violent television program', 'Big Brother Africa reality show', 'TV viewing-reduction', 'videoconferencing', 'television', 'television viewing', 'live video delivery format', 'TV viewing', 'number of televisions', 'media viewing', 'videoconferencing and audioconferencing', 'time spent watching television', 'documentary Forks Over Knives', 'TV series watching', 'TV usage environment', 'improving the quality of YouTube travel contents', 'television viewing', 'television', 'videoconferencing', 'sharing documents using cloud storage or video conferencing instead of travelling', 'display unit', 'watching TV', 'television-led media approach', 'television watching', 'television viewing', 'television viewing', 'television', 'family-life television content', 'violent television program', 'video-on-demand cable television', 'home entertainment', 'video processing and streaming', 'video transmission algorithms or infrastructures', 'promoting video conferencing to minimise business travel', 'TV viewing', 'television viewing', 'television', 'television viewing', 'television']"
        ],
        [
         "35",
         "24-1",
         "['watching television, listening to fast music and religious leisure', 'listened to music from the radio and watch TV', 'TV+computer in the bedroom', 'reduce the daily time spent with television and computer', 'watching television and playing computer', 'watching television and/or using the computer', 'TV and/or radio watching', 'computer games and TV-watching', 'reduce the daily time spent with television and computer', 'watching movies/Television while eating', 'reduce the daily time spent with television and computer', 'watching television and playing computer', 'daily time spent using television and radio', 'watching television or using computers', 'watching television and playing computer', 'reduce the daily time spent with television and computer', 'watching television and playing computer', 'reduce the daily time spent with television and computer', 'watching television and playing computer']"
        ],
        [
         "36",
         "27-0",
         "['Web-based technology', 'website development', 'web-based system', 'interactive web application', 'Web services', 'Web Application', 'Web 2.0 technology', 'live Web technology', 'multilingual Web survey', 'monolingual Web survey', 'web interfaces', 'exertion interfaces', 'web-based forecasting system', 'Web-based technology', 'dynamic web application', 'Web-based approach', 'web project', 'web application for user-end notifications', 'Web-based approach', 'Web-based approach', 'Web-based approach', 'web-based information system application', 'more rapid development of online applications', 'Web-based technology', 'WebGis application', 'web interfaces']"
        ],
        [
         "37",
         "27-1",
         "['geographic information system design', 'Web-GIS applications', 'mapping technologies', 'online interactive maps', 'two-step mapping algorithm', 'create a website to introduce the maritime region', 'Web-based GIS maps', 'Geographic Information System (GIS)', 'web-based, interactive internet mapping system', 'spatial maps', 'visualization of road condition maps', 'geographic information system design', 'information technology and geographical information systems', 'geographic information system design', 'Web-GIS applications', 'modern cartographic web atlas', 'GIS tools', 'GIS techniques', 'GIS-based program called ISBIS', 'geographic information system design', 'Web-GIS applications', 'mapping technologies', 'online interactive maps', 'geographic information system design', 'geographic information system design']"
        ],
        [
         "38",
         "30-0",
         "['hybrid model (main grid power and dynamically harvested green energy)', 'renewable energy sources (RES)', 'Alternate energy sources', 'Renewable energy', 'renewable energy generation', 'hybrid renewable energy system (HRES)', 'renewable energy sourcing', 'power from renewable sources', 'renewable energy resource integration', 'standalone hybrid energy system', 'stand alone photovoltaic system', 'photovoltaic cells, batteries as well as BoS (balance of system)', 'hybrid solar PV/WT/BG system', 'small-scale solar-powered solution', 'availability of electrical energy', 'renewable sources with automation control through wireless telecommunication', 'hybrid solar PV/WT/BG powered macro BSs', 'technological solutions to sustainably power the NFT sector using unutilized renewable energy sources', '15% utilization of curtailed solar and wind power in Texas', '50 MW of potential hydropower from existing nonpowered dams', 'developing nuclear power', 'hybrid renewable energy system', 'fuel cell in a renewable energy hybrid system', 'photovoltaic (PV), Wind, Fuel Cell, and battery storage system', 'renewable energy', 'solar energy system', 'renewable energy sources (RES)', 'Alternate energy sources', 'Renewable energy', 'renewable energy generation', 'hybrid renewable energy system (HRES)', 'hybrid solar PV/WT/BG powered macro BSs', 'hybrid renewable energy system', 'wind turbines (WTs)', 'photovoltaic (PV) solar panels', 'back-up diesel generator (DG)', 'Solar Power Satellites (SPS)', 'biofuel and renewable energy sources', 'novel scheme to provide reliable power to BSs that combines wind and solar photovoltaic (PV) generation with the assistance of an energy storage technology', 'Space Solar Power/SPS', 'renewable energy', 'transitioning to renewable energy sources', 'photovoltaic (PV) equipment', 'diesel generators', 'Diesel/PV hybrid system', 'renewable energy sources (RES)', 'Alternate energy sources', 'Renewable energy', 'renewable energy generation', 'hybrid renewable energy system (HRES)', 'renewable energy sourcing', 'hybrid solar-wind system', 'metal hydride fuel cells', 'microwave power generation', 'developing nuclear power', 'hybrid renewable energy system', 'fuel cell in a renewable energy hybrid system', 'photovoltaic (PV), Wind, Fuel Cell, and battery storage system', 'renewable energy sources (RES)', 'Alternate energy sources', 'Renewable energy', 'renewable energy generation', 'renewable energy sources (RES)', 'Alternate energy sources', 'Renewable energy', 'renewable energy generation']"
        ],
        [
         "39",
         "30-1",
         "['backup battery', 'energy storage', 'battery bank', 'low-cost transformation of decommissioned stepped power battery', 'reduction in the requirement for excess rectifier capacity to meet battery recharge requirements', 'modification of battery maintenance practices and equipment commissioning practices to limit maximum demand', 'phase change energy storage module', 'ICT embedded renewable energy storage system', 'backup battery', 'battery systems', 'lithium batteries', 'Battery Aging and Price-Aware (BAPA) algorithm', 'backup battery', 'energy storage', '5G communication site backup battery', 'distributed standby battery', 'backup battery', 'energy storage', 'backup energy storage batteries', 'ICT embedded renewable energy storage system', 'backup battery', 'backup battery']"
        ]
       ],
       "shape": {
        "columns": 2,
        "rows": 40
       }
      },
      "text/html": [
       "<div>\n",
       "<style scoped>\n",
       "    .dataframe tbody tr th:only-of-type {\n",
       "        vertical-align: middle;\n",
       "    }\n",
       "\n",
       "    .dataframe tbody tr th {\n",
       "        vertical-align: top;\n",
       "    }\n",
       "\n",
       "    .dataframe thead th {\n",
       "        text-align: right;\n",
       "    }\n",
       "</style>\n",
       "<table border=\"1\" class=\"dataframe\">\n",
       "  <thead>\n",
       "    <tr style=\"text-align: right;\">\n",
       "      <th></th>\n",
       "      <th>cluster_id</th>\n",
       "      <th>sentences</th>\n",
       "    </tr>\n",
       "  </thead>\n",
       "  <tbody>\n",
       "    <tr>\n",
       "      <th>0</th>\n",
       "      <td>0</td>\n",
       "      <td>[social media usage, social media use, social ...</td>\n",
       "    </tr>\n",
       "    <tr>\n",
       "      <th>1</th>\n",
       "      <td>1</td>\n",
       "      <td>[internet usage, Internet use, internet use, i...</td>\n",
       "    </tr>\n",
       "    <tr>\n",
       "      <th>2</th>\n",
       "      <td>2</td>\n",
       "      <td>[information and communication technologies (I...</td>\n",
       "    </tr>\n",
       "    <tr>\n",
       "      <th>3</th>\n",
       "      <td>3</td>\n",
       "      <td>[Internet of Things utilization, technological...</td>\n",
       "    </tr>\n",
       "    <tr>\n",
       "      <th>4</th>\n",
       "      <td>4</td>\n",
       "      <td>[digitalisation of societies, technology and d...</td>\n",
       "    </tr>\n",
       "    <tr>\n",
       "      <th>5</th>\n",
       "      <td>5</td>\n",
       "      <td>[social media, social media, social media, web...</td>\n",
       "    </tr>\n",
       "    <tr>\n",
       "      <th>6</th>\n",
       "      <td>6</td>\n",
       "      <td>[smart city policies, smart city, Cloud Comput...</td>\n",
       "    </tr>\n",
       "    <tr>\n",
       "      <th>7</th>\n",
       "      <td>8</td>\n",
       "      <td>[Eco-design guidelines, strategies, and digita...</td>\n",
       "    </tr>\n",
       "    <tr>\n",
       "      <th>8</th>\n",
       "      <td>10</td>\n",
       "      <td>[ICT utilization program, information technolo...</td>\n",
       "    </tr>\n",
       "    <tr>\n",
       "      <th>9</th>\n",
       "      <td>11</td>\n",
       "      <td>[social media collaboration, face-to-face coll...</td>\n",
       "    </tr>\n",
       "    <tr>\n",
       "      <th>10</th>\n",
       "      <td>12</td>\n",
       "      <td>[mobile telephony, text messaging, email, SMS/...</td>\n",
       "    </tr>\n",
       "    <tr>\n",
       "      <th>11</th>\n",
       "      <td>13</td>\n",
       "      <td>[electronic alternatives, emerging technologie...</td>\n",
       "    </tr>\n",
       "    <tr>\n",
       "      <th>12</th>\n",
       "      <td>14</td>\n",
       "      <td>[personal innovativeness, technology use (TU),...</td>\n",
       "    </tr>\n",
       "    <tr>\n",
       "      <th>13</th>\n",
       "      <td>15</td>\n",
       "      <td>[regulating food and beverage advertising part...</td>\n",
       "    </tr>\n",
       "    <tr>\n",
       "      <th>14</th>\n",
       "      <td>17</td>\n",
       "      <td>[exergames, gaming, video gaming, video game a...</td>\n",
       "    </tr>\n",
       "    <tr>\n",
       "      <th>15</th>\n",
       "      <td>18</td>\n",
       "      <td>[smartphones, GPS and camera-equipped mobile d...</td>\n",
       "    </tr>\n",
       "    <tr>\n",
       "      <th>16</th>\n",
       "      <td>19</td>\n",
       "      <td>[activity monitor, mobile technology usage for...</td>\n",
       "    </tr>\n",
       "    <tr>\n",
       "      <th>17</th>\n",
       "      <td>20</td>\n",
       "      <td>[lifestyle, providing convenient channels for ...</td>\n",
       "    </tr>\n",
       "    <tr>\n",
       "      <th>18</th>\n",
       "      <td>21</td>\n",
       "      <td>[mass media, mass media campaigns, raising awa...</td>\n",
       "    </tr>\n",
       "    <tr>\n",
       "      <th>19</th>\n",
       "      <td>22</td>\n",
       "      <td>[cloud radio access network (C-RAN) architectu...</td>\n",
       "    </tr>\n",
       "    <tr>\n",
       "      <th>20</th>\n",
       "      <td>25</td>\n",
       "      <td>[screen time use, time occupied by the game, h...</td>\n",
       "    </tr>\n",
       "    <tr>\n",
       "      <th>21</th>\n",
       "      <td>26</td>\n",
       "      <td>[activewear purchased to be worn as casualwear...</td>\n",
       "    </tr>\n",
       "    <tr>\n",
       "      <th>22</th>\n",
       "      <td>28</td>\n",
       "      <td>[common satellite in South Asian Association f...</td>\n",
       "    </tr>\n",
       "    <tr>\n",
       "      <th>23</th>\n",
       "      <td>29</td>\n",
       "      <td>[energy cost saving in heterogenous cellular n...</td>\n",
       "    </tr>\n",
       "    <tr>\n",
       "      <th>24</th>\n",
       "      <td>31</td>\n",
       "      <td>[access to information, documentation, immedia...</td>\n",
       "    </tr>\n",
       "    <tr>\n",
       "      <th>25</th>\n",
       "      <td>32</td>\n",
       "      <td>[LSTM-GRU-PPCM model, relational learning, dat...</td>\n",
       "    </tr>\n",
       "    <tr>\n",
       "      <th>26</th>\n",
       "      <td>7-0</td>\n",
       "      <td>[digital technologies, digital technologies, d...</td>\n",
       "    </tr>\n",
       "    <tr>\n",
       "      <th>27</th>\n",
       "      <td>7-1</td>\n",
       "      <td>[digital literacy, digital literacy, digital r...</td>\n",
       "    </tr>\n",
       "    <tr>\n",
       "      <th>28</th>\n",
       "      <td>9-0</td>\n",
       "      <td>[data centers, data center federation, artific...</td>\n",
       "    </tr>\n",
       "    <tr>\n",
       "      <th>29</th>\n",
       "      <td>9-1</td>\n",
       "      <td>[data centres, incentivise the construction of...</td>\n",
       "    </tr>\n",
       "    <tr>\n",
       "      <th>30</th>\n",
       "      <td>16-0</td>\n",
       "      <td>[smart technology, Smart sensors and other IoT...</td>\n",
       "    </tr>\n",
       "    <tr>\n",
       "      <th>31</th>\n",
       "      <td>16-1</td>\n",
       "      <td>[wireless sensor networks, sensor network with...</td>\n",
       "    </tr>\n",
       "    <tr>\n",
       "      <th>32</th>\n",
       "      <td>23-0</td>\n",
       "      <td>[telecommunications, demand for pharmaceutical...</td>\n",
       "    </tr>\n",
       "    <tr>\n",
       "      <th>33</th>\n",
       "      <td>23-1</td>\n",
       "      <td>[Chinese investments in Africa's telecom secto...</td>\n",
       "    </tr>\n",
       "    <tr>\n",
       "      <th>34</th>\n",
       "      <td>24-0</td>\n",
       "      <td>[live broadcasting, long time watching TV, exc...</td>\n",
       "    </tr>\n",
       "    <tr>\n",
       "      <th>35</th>\n",
       "      <td>24-1</td>\n",
       "      <td>[watching television, listening to fast music ...</td>\n",
       "    </tr>\n",
       "    <tr>\n",
       "      <th>36</th>\n",
       "      <td>27-0</td>\n",
       "      <td>[Web-based technology, website development, we...</td>\n",
       "    </tr>\n",
       "    <tr>\n",
       "      <th>37</th>\n",
       "      <td>27-1</td>\n",
       "      <td>[geographic information system design, Web-GIS...</td>\n",
       "    </tr>\n",
       "    <tr>\n",
       "      <th>38</th>\n",
       "      <td>30-0</td>\n",
       "      <td>[hybrid model (main grid power and dynamically...</td>\n",
       "    </tr>\n",
       "    <tr>\n",
       "      <th>39</th>\n",
       "      <td>30-1</td>\n",
       "      <td>[backup battery, energy storage, battery bank,...</td>\n",
       "    </tr>\n",
       "  </tbody>\n",
       "</table>\n",
       "</div>"
      ],
      "text/plain": [
       "   cluster_id                                          sentences\n",
       "0           0  [social media usage, social media use, social ...\n",
       "1           1  [internet usage, Internet use, internet use, i...\n",
       "2           2  [information and communication technologies (I...\n",
       "3           3  [Internet of Things utilization, technological...\n",
       "4           4  [digitalisation of societies, technology and d...\n",
       "5           5  [social media, social media, social media, web...\n",
       "6           6  [smart city policies, smart city, Cloud Comput...\n",
       "7           8  [Eco-design guidelines, strategies, and digita...\n",
       "8          10  [ICT utilization program, information technolo...\n",
       "9          11  [social media collaboration, face-to-face coll...\n",
       "10         12  [mobile telephony, text messaging, email, SMS/...\n",
       "11         13  [electronic alternatives, emerging technologie...\n",
       "12         14  [personal innovativeness, technology use (TU),...\n",
       "13         15  [regulating food and beverage advertising part...\n",
       "14         17  [exergames, gaming, video gaming, video game a...\n",
       "15         18  [smartphones, GPS and camera-equipped mobile d...\n",
       "16         19  [activity monitor, mobile technology usage for...\n",
       "17         20  [lifestyle, providing convenient channels for ...\n",
       "18         21  [mass media, mass media campaigns, raising awa...\n",
       "19         22  [cloud radio access network (C-RAN) architectu...\n",
       "20         25  [screen time use, time occupied by the game, h...\n",
       "21         26  [activewear purchased to be worn as casualwear...\n",
       "22         28  [common satellite in South Asian Association f...\n",
       "23         29  [energy cost saving in heterogenous cellular n...\n",
       "24         31  [access to information, documentation, immedia...\n",
       "25         32  [LSTM-GRU-PPCM model, relational learning, dat...\n",
       "26        7-0  [digital technologies, digital technologies, d...\n",
       "27        7-1  [digital literacy, digital literacy, digital r...\n",
       "28        9-0  [data centers, data center federation, artific...\n",
       "29        9-1  [data centres, incentivise the construction of...\n",
       "30       16-0  [smart technology, Smart sensors and other IoT...\n",
       "31       16-1  [wireless sensor networks, sensor network with...\n",
       "32       23-0  [telecommunications, demand for pharmaceutical...\n",
       "33       23-1  [Chinese investments in Africa's telecom secto...\n",
       "34       24-0  [live broadcasting, long time watching TV, exc...\n",
       "35       24-1  [watching television, listening to fast music ...\n",
       "36       27-0  [Web-based technology, website development, we...\n",
       "37       27-1  [geographic information system design, Web-GIS...\n",
       "38       30-0  [hybrid model (main grid power and dynamically...\n",
       "39       30-1  [backup battery, energy storage, battery bank,..."
      ]
     },
     "execution_count": 169,
     "metadata": {},
     "output_type": "execute_result"
    }
   ],
   "source": [
    "from sklearn.cluster import HDBSCAN\n",
    "\n",
    "## Re-clsutering of subdivision of clusters\n",
    "### List of clusters to subdivide\n",
    "clusters_to_subdivide_with_params = {\n",
    "    7: {'min_cluster_size': 15, 'min_samples': 5, 'cluster_selection_epsilon': 0.1},\n",
    "    9: {'min_cluster_size': 10, 'min_samples': 5, 'cluster_selection_epsilon': 0.1},\n",
    "    16: {'min_cluster_size': 15, 'min_samples': 5, 'cluster_selection_epsilon': 0.1},\n",
    "    23: {'min_cluster_size': 15, 'min_samples': 5, 'cluster_selection_epsilon': 0.1},\n",
    "    24: {'min_cluster_size': 15, 'min_samples': 5, 'cluster_selection_epsilon': 0.1},\n",
    "    27: {'min_cluster_size': 17, 'min_samples': 5, 'cluster_selection_epsilon': 0.1},\n",
    "    30: {'min_cluster_size': 17, 'min_samples': 5, 'cluster_selection_epsilon': 0.1}\n",
    "}\n",
    "\n",
    "# Subdivide selected clusters and create a new dataframe\n",
    "new_cluster_df, new_noise, cluster_assignment_to_change_indices, new_cluster_assignment = clusterize.subdivide_clusters(\n",
    "    clustered_sentences, cluster_assignment, reduced_embeddings_items, preprocessed_items, clusters_to_subdivide_with_params\n",
    ")\n",
    "\n",
    "# Display the new dataframe\n",
    "new_cluster_df"
   ]
  },
  {
   "cell_type": "code",
   "execution_count": 175,
   "metadata": {},
   "outputs": [
    {
     "name": "stdout",
     "output_type": "stream",
     "text": [
      "14 new clusters were created out of 7\n",
      "73 items from the previous clusters were classified as noise\n"
     ]
    }
   ],
   "source": [
    "print(f'{new_cluster_df.shape[0] - cluster_summary_df.shape[0] + len(clusters_to_subdivide_with_params.keys())} new clusters were created out of {len(clusters_to_subdivide_with_params.keys())}')\n",
    "print(f'{len(new_noise)} items from the previous clusters were classified as noise')"
   ]
  },
  {
   "cell_type": "code",
   "execution_count": 81,
   "metadata": {},
   "outputs": [
    {
     "data": {
      "text/plain": [
       "['online pizza ordering system',\n",
       " 'cloud radio access network (C-RAN) architecture',\n",
       " 'optimization problem to allocate radio resources',\n",
       " 'flexible service level agreements in Green IT',\n",
       " 'Cloud Radio Access Network (C-RAN) architecture',\n",
       " 'green communication technologies',\n",
       " 'radio access network (RAN) energy consumption',\n",
       " 'Green procurement',\n",
       " 'Reverse Logistics in Green Procurement',\n",
       " 'Cloud Radio Access Network (C-RAN) architecture']"
      ]
     },
     "execution_count": 81,
     "metadata": {},
     "output_type": "execute_result"
    }
   ],
   "source": [
    "new_noise[:10]"
   ]
  },
  {
   "cell_type": "code",
   "execution_count": 193,
   "metadata": {},
   "outputs": [
    {
     "data": {
      "application/vnd.microsoft.datawrangler.viewer.v0+json": {
       "columns": [
        {
         "name": "index",
         "rawType": "int64",
         "type": "integer"
        },
        {
         "name": "noise_samples",
         "rawType": "object",
         "type": "string"
        }
       ],
       "ref": "d2622c3b-e9ce-4226-b9b2-02c7f05036cb",
       "rows": [
        [
         "0",
         "power models for modern data centers"
        ],
        [
         "1",
         "geo-distributed data centers (DCs)"
        ],
        [
         "2",
         "geo-distributed data centers (DCs)"
        ],
        [
         "3",
         "electricity mix"
        ],
        [
         "4",
         "wireless technology in conjunction with a website platform"
        ],
        [
         "5",
         "joint expansion planning framework of IDC and distribution network"
        ],
        [
         "6",
         "new method to estimate lake water volume"
        ],
        [
         "7",
         "synergistic control strategy for data center frequency regulation"
        ],
        [
         "8",
         "web-based system for visualizing multimodal accessibility"
        ],
        [
         "9",
         "Internet technology"
        ],
        [
         "10",
         "energy-efficient architecture for cloud and fog computing environment integration"
        ],
        [
         "11",
         "Internet data centers (IDCs) and the distribution network considering demand response (DR)"
        ],
        [
         "12",
         "CEDaCI project"
        ],
        [
         "13",
         "electricity consumed by Internet data centers (IDCs)"
        ],
        [
         "14",
         "Internet data centers (IDCs) and the distribution network considering demand response (DR)"
        ],
        [
         "15",
         "Web service-oriented, open platform"
        ],
        [
         "16",
         "dynamic web-based delivery system"
        ],
        [
         "17",
         "Internet technology"
        ],
        [
         "18",
         "low-power scheduling strategy for typical data center applications"
        ],
        [
         "19",
         "fully renewable-powered cloud data centres and partially solar-powered fog data centres"
        ],
        [
         "20",
         "time on the Internet / social networks and at TV screens"
        ],
        [
         "21",
         "data centres (DCs)"
        ],
        [
         "22",
         "Internet technology"
        ],
        [
         "23",
         "fully renewable-powered cloud data centres and partially solar-powered fog data centres"
        ],
        [
         "24",
         "Resource Efficiency techniques in data centers"
        ],
        [
         "25",
         "self-service technology"
        ],
        [
         "26",
         "Internet data centers (IDCs) and the distribution network considering demand response (DR)"
        ],
        [
         "27",
         "shifting of cloud data centers to NEOM"
        ],
        [
         "28",
         "integration of large data centres into highly renewable energy systems"
        ],
        [
         "29",
         "geo-distributed data centers (DCs)"
        ],
        [
         "30",
         "Internet technology"
        ],
        [
         "31",
         "fully renewable-powered cloud data centres and partially solar-powered fog data centres"
        ],
        [
         "32",
         "fully renewable-powered cloud data centres and partially solar-powered fog data centres"
        ],
        [
         "33",
         "3S technologies [Remote Sensing (RS), Geographic Information System (GIS) and Global Position System (GPS)]"
        ],
        [
         "34",
         "data center optimizer"
        ],
        [
         "35",
         "development of data centres to support the AI ecosystem"
        ],
        [
         "36",
         "on-demand delivery"
        ],
        [
         "37",
         "two-stage stochastic expansion planning model of IDC and distribution network"
        ],
        [
         "38",
         "data center computing"
        ],
        [
         "39",
         "internet-based technologies"
        ],
        [
         "40",
         "Internet Data Centers (IDC)"
        ],
        [
         "41",
         "more than 4 h of daily TV, video, or computer use"
        ],
        [
         "42",
         "data center electricity consumption"
        ],
        [
         "43",
         "Internet technologies"
        ],
        [
         "44",
         "reduce leisure time on electronic entertainment"
        ],
        [
         "45",
         "online application"
        ],
        [
         "46",
         "Data Centres (DCs)"
        ],
        [
         "47",
         "Energy harvesting sensor"
        ],
        [
         "48",
         "efficient energy optimization framework based on dynamic resource scheduling for VM migration in cloud data centers"
        ],
        [
         "49",
         "T.V and Radio"
        ]
       ],
       "shape": {
        "columns": 1,
        "rows": 73
       }
      },
      "text/html": [
       "<div>\n",
       "<style scoped>\n",
       "    .dataframe tbody tr th:only-of-type {\n",
       "        vertical-align: middle;\n",
       "    }\n",
       "\n",
       "    .dataframe tbody tr th {\n",
       "        vertical-align: top;\n",
       "    }\n",
       "\n",
       "    .dataframe thead th {\n",
       "        text-align: right;\n",
       "    }\n",
       "</style>\n",
       "<table border=\"1\" class=\"dataframe\">\n",
       "  <thead>\n",
       "    <tr style=\"text-align: right;\">\n",
       "      <th></th>\n",
       "      <th>noise_samples</th>\n",
       "    </tr>\n",
       "  </thead>\n",
       "  <tbody>\n",
       "    <tr>\n",
       "      <th>0</th>\n",
       "      <td>power models for modern data centers</td>\n",
       "    </tr>\n",
       "    <tr>\n",
       "      <th>1</th>\n",
       "      <td>geo-distributed data centers (DCs)</td>\n",
       "    </tr>\n",
       "    <tr>\n",
       "      <th>2</th>\n",
       "      <td>geo-distributed data centers (DCs)</td>\n",
       "    </tr>\n",
       "    <tr>\n",
       "      <th>3</th>\n",
       "      <td>electricity mix</td>\n",
       "    </tr>\n",
       "    <tr>\n",
       "      <th>4</th>\n",
       "      <td>wireless technology in conjunction with a webs...</td>\n",
       "    </tr>\n",
       "    <tr>\n",
       "      <th>...</th>\n",
       "      <td>...</td>\n",
       "    </tr>\n",
       "    <tr>\n",
       "      <th>68</th>\n",
       "      <td>Internet data centers (IDCs) and the distribut...</td>\n",
       "    </tr>\n",
       "    <tr>\n",
       "      <th>69</th>\n",
       "      <td>online technologies</td>\n",
       "    </tr>\n",
       "    <tr>\n",
       "      <th>70</th>\n",
       "      <td>data centers (DCs)</td>\n",
       "    </tr>\n",
       "    <tr>\n",
       "      <th>71</th>\n",
       "      <td>Internet data centers (IDCs) and the distribut...</td>\n",
       "    </tr>\n",
       "    <tr>\n",
       "      <th>72</th>\n",
       "      <td>data centres (DCs)</td>\n",
       "    </tr>\n",
       "  </tbody>\n",
       "</table>\n",
       "<p>73 rows × 1 columns</p>\n",
       "</div>"
      ],
      "text/plain": [
       "                                        noise_samples\n",
       "0                power models for modern data centers\n",
       "1                  geo-distributed data centers (DCs)\n",
       "2                  geo-distributed data centers (DCs)\n",
       "3                                     electricity mix\n",
       "4   wireless technology in conjunction with a webs...\n",
       "..                                                ...\n",
       "68  Internet data centers (IDCs) and the distribut...\n",
       "69                                online technologies\n",
       "70                                 data centers (DCs)\n",
       "71  Internet data centers (IDCs) and the distribut...\n",
       "72                                 data centres (DCs)\n",
       "\n",
       "[73 rows x 1 columns]"
      ]
     },
     "execution_count": 193,
     "metadata": {},
     "output_type": "execute_result"
    }
   ],
   "source": [
    "data = {'noise_samples': random.sample(new_noise, min(100, len(new_noise)))}\n",
    "\n",
    "# Creating DataFrame\n",
    "new_noise_df = pd.DataFrame(data)\n",
    "\n",
    "new_noise_df.to_csv(f'../outputs/noise_sample_recluster_{domain}_items.csv', index=False)\n",
    "\n",
    "new_noise_df"
   ]
  },
  {
   "cell_type": "code",
   "execution_count": 180,
   "metadata": {},
   "outputs": [
    {
     "data": {
      "application/vnd.microsoft.datawrangler.viewer.v0+json": {
       "columns": [
        {
         "name": "index",
         "rawType": "int64",
         "type": "integer"
        },
        {
         "name": "ITEM",
         "rawType": "object",
         "type": "string"
        },
        {
         "name": "cluster",
         "rawType": "int64",
         "type": "integer"
        },
        {
         "name": "cluster_2",
         "rawType": "object",
         "type": "unknown"
        },
        {
         "name": "doi",
         "rawType": "object",
         "type": "unknown"
        }
       ],
       "ref": "aeb285bc-ca18-466e-a5ed-acb4f06182f5",
       "rows": [
        [
         "0",
         "mass media",
         "21",
         "21",
         "https://doi.org/10.22038/jmrh.2014.2918"
        ],
        [
         "1",
         "exergames",
         "17",
         "17",
         "https://doi.org/10.48550/arxiv.1908.09984"
        ],
        [
         "3",
         "telecommunications",
         "23",
         "23_0",
         "https://doi.org/10.1080/17543266.2018.1477995"
        ],
        [
         "4",
         "activewear purchased to be worn as casualwear",
         "26",
         "26",
         "https://doi.org/10.2118/209896-ms"
        ],
        [
         "6",
         "advanced, automated internet technology",
         "27",
         "-1",
         "https://doi.org/10.2478/aup-2023-0012"
        ],
        [
         "7",
         "smartphones",
         "18",
         "18",
         "https://doi.org/10.1051/e3sconf/202234906007"
        ],
        [
         "8",
         "augmented reality",
         "-1",
         "-1",
         "https://doi.org/10.1051/e3sconf/202234906007"
        ],
        [
         "9",
         "data centres (DCs)",
         "9",
         "-1",
         "https://doi.org/10.1051/e3sconf/202234906007"
        ],
        [
         "11",
         "CEDaCI project",
         "27",
         "-1",
         "https://doi.org/10.1017/cbo9781139052337.011"
        ],
        [
         "13",
         "Eco-design guidelines, strategies, and digital tools",
         "8",
         "8",
         "https://doi.org/10.53479/30069"
        ],
        [
         "16",
         "Internet of Things utilization",
         "3",
         "3",
         "https://doi.org/10.33790/jrpr1100135"
        ],
        [
         "17",
         "access to information",
         "31",
         "31",
         null
        ],
        [
         "18",
         "information technology and networks",
         "-1",
         "-1",
         null
        ],
        [
         "19",
         "demand for pharmaceuticals, IT and telecommunications",
         "23",
         "23_0",
         null
        ],
        [
         "20",
         "social media usage",
         "0",
         "0",
         null
        ],
        [
         "21",
         "communication facilities",
         "23",
         "23_0",
         null
        ],
        [
         "22",
         "ICT utilization program",
         "10",
         "10",
         "https://doi.org/10.3390/su12072763"
        ],
        [
         "25",
         "information technology growth and innovation in electronic component and data center equipment",
         "10",
         "10",
         "https://doi.org/10.4108/eai.3-10-2020.2306591"
        ],
        [
         "26",
         "cooling system in data center",
         "8",
         "8",
         "https://doi.org/10.4108/eai.3-10-2020.2306591"
        ],
        [
         "29",
         "improvement in the cooling system of data center",
         "8",
         "8",
         null
        ],
        [
         "30",
         "effective cooling inside the equipment",
         "8",
         "8",
         "https://doi.org/10.31234/osf.io/xv76f_v1"
        ],
        [
         "31",
         "digitalisation of societies",
         "4",
         "4",
         "https://doi.org/10.31234/osf.io/xv76f_v1"
        ],
        [
         "32",
         "information communication technology",
         "-1",
         "-1",
         null
        ],
        [
         "33",
         "digital technologies",
         "7",
         "7_0",
         null
        ],
        [
         "35",
         "documentation",
         "31",
         "31",
         "https://doi.org/10.1787/a845c0b6-en"
        ],
        [
         "36",
         "Shopping Lifestyle",
         "26",
         "26",
         "https://doi.org/10.1787/a845c0b6-en"
        ],
        [
         "37",
         "Fashion Involvement",
         "26",
         "26",
         "https://doi.org/10.4018/978-1-4666-1918-0.ch002"
        ],
        [
         "38",
         "Sales Promotion",
         "26",
         "26",
         "https://doi.org/10.4018/978-1-4666-1918-0.ch002"
        ],
        [
         "39",
         "common satellite in South Asian Association for Regional Co-operation (SAARC)",
         "28",
         "28",
         "https://doi.org/10.4018/978-1-4666-1918-0.ch002"
        ],
        [
         "42",
         "new policy framework specific to the application of satellite technologies",
         "28",
         "28",
         "https://doi.org/10.1109/iciset.2018.8745631"
        ],
        [
         "44",
         "social media use",
         "0",
         "0",
         "https://doi.org/10.18203/2394-6040.ijcmph20242890"
        ],
        [
         "45",
         "gaming",
         "17",
         "17",
         "https://doi.org/10.1007/978-3-031-55408-7_11"
        ],
        [
         "47",
         "GPS and camera-equipped mobile devices",
         "18",
         "18",
         "https://doi.org/10.1136/jech-2012-201034"
        ],
        [
         "48",
         "photogrammetry software or mobile device-based GPS",
         "18",
         "18",
         "https://doi.org/10.1177/1464993420927507"
        ],
        [
         "49",
         "technology and digitalisation",
         "4",
         "4",
         "https://doi.org/10.1080/09537287.2023.2197851"
        ],
        [
         "51",
         "mass media campaigns",
         "21",
         "21",
         "https://doi.org/10.4018/978-1-7998-5033-5.ch017"
        ],
        [
         "52",
         "regulating food and beverage advertising particularly for children",
         "15",
         "15",
         "https://doi.org/10.5455/jrcrs.2018060205"
        ],
        [
         "53",
         "information and communication technologies (ICTs)",
         "2",
         "2",
         "https://doi.org/10.1080/00045608.2013.754658"
        ],
        [
         "56",
         "Internet and mobile phones",
         "18",
         "18",
         "https://doi.org/10.4122/dtu:112"
        ],
        [
         "58",
         "ICT policies favoring human rights",
         "10",
         "10",
         null
        ],
        [
         "60",
         "custom smartphone application",
         "18",
         "18",
         "https://doi.org/10.21203/rs.3.rs-1442880/v1"
        ],
        [
         "61",
         "activity monitor",
         "19",
         "19",
         "https://doi.org/10.1109/ic2ie56416.2022.9970104"
        ],
        [
         "62",
         "cloud radio access network (C-RAN) architecture",
         "22",
         "22",
         "https://doi.org/10.1080/24694452.2019.1617101"
        ],
        [
         "63",
         "screen time use",
         "25",
         "25",
         "https://doi.org/10.1080/24694452.2019.1617101"
        ],
        [
         "64",
         "limiting the use of electronic devices before bedtime",
         "-1",
         "-1",
         "https://doi.org/10.31224/3859"
        ],
        [
         "65",
         "raising awareness by global mass media",
         "21",
         "21",
         "https://doi.org/10.31224/3859"
        ],
        [
         "66",
         "role of mass media in fostering public awareness",
         "21",
         "21",
         "https://doi.org/10.1109/intlec.1993.388472"
        ],
        [
         "67",
         "media campaigns and branding",
         "21",
         "21",
         null
        ],
        [
         "68",
         "information and communications technology (ICT) infrastructures",
         "10",
         "10",
         "https://doi.org/10.21203/rs.3.rs-3849566/v1"
        ],
        [
         "70",
         "technological advances (e.g. big data and IoT)",
         "3",
         "3",
         "https://doi.org/10.21203/rs.3.rs-3849566/v1"
        ]
       ],
       "shape": {
        "columns": 4,
        "rows": 6890
       }
      },
      "text/html": [
       "<div>\n",
       "<style scoped>\n",
       "    .dataframe tbody tr th:only-of-type {\n",
       "        vertical-align: middle;\n",
       "    }\n",
       "\n",
       "    .dataframe tbody tr th {\n",
       "        vertical-align: top;\n",
       "    }\n",
       "\n",
       "    .dataframe thead th {\n",
       "        text-align: right;\n",
       "    }\n",
       "</style>\n",
       "<table border=\"1\" class=\"dataframe\">\n",
       "  <thead>\n",
       "    <tr style=\"text-align: right;\">\n",
       "      <th></th>\n",
       "      <th>ITEM</th>\n",
       "      <th>cluster</th>\n",
       "      <th>cluster_2</th>\n",
       "      <th>doi</th>\n",
       "    </tr>\n",
       "  </thead>\n",
       "  <tbody>\n",
       "    <tr>\n",
       "      <th>0</th>\n",
       "      <td>mass media</td>\n",
       "      <td>21</td>\n",
       "      <td>21</td>\n",
       "      <td>https://doi.org/10.22038/jmrh.2014.2918</td>\n",
       "    </tr>\n",
       "    <tr>\n",
       "      <th>1</th>\n",
       "      <td>exergames</td>\n",
       "      <td>17</td>\n",
       "      <td>17</td>\n",
       "      <td>https://doi.org/10.48550/arxiv.1908.09984</td>\n",
       "    </tr>\n",
       "    <tr>\n",
       "      <th>3</th>\n",
       "      <td>telecommunications</td>\n",
       "      <td>23</td>\n",
       "      <td>23_0</td>\n",
       "      <td>https://doi.org/10.1080/17543266.2018.1477995</td>\n",
       "    </tr>\n",
       "    <tr>\n",
       "      <th>4</th>\n",
       "      <td>activewear purchased to be worn as casualwear</td>\n",
       "      <td>26</td>\n",
       "      <td>26</td>\n",
       "      <td>https://doi.org/10.2118/209896-ms</td>\n",
       "    </tr>\n",
       "    <tr>\n",
       "      <th>6</th>\n",
       "      <td>advanced, automated internet technology</td>\n",
       "      <td>27</td>\n",
       "      <td>-1</td>\n",
       "      <td>https://doi.org/10.2478/aup-2023-0012</td>\n",
       "    </tr>\n",
       "    <tr>\n",
       "      <th>...</th>\n",
       "      <td>...</td>\n",
       "      <td>...</td>\n",
       "      <td>...</td>\n",
       "      <td>...</td>\n",
       "    </tr>\n",
       "    <tr>\n",
       "      <th>10376</th>\n",
       "      <td>IoT-based air pollution monitoring system usin...</td>\n",
       "      <td>-1</td>\n",
       "      <td>-1</td>\n",
       "      <td>NaN</td>\n",
       "    </tr>\n",
       "    <tr>\n",
       "      <th>10377</th>\n",
       "      <td>privately funded GSM network</td>\n",
       "      <td>23</td>\n",
       "      <td>23_0</td>\n",
       "      <td>NaN</td>\n",
       "    </tr>\n",
       "    <tr>\n",
       "      <th>10378</th>\n",
       "      <td>watching television and playing computer</td>\n",
       "      <td>24</td>\n",
       "      <td>24_1</td>\n",
       "      <td>NaN</td>\n",
       "    </tr>\n",
       "    <tr>\n",
       "      <th>10379</th>\n",
       "      <td>social media</td>\n",
       "      <td>5</td>\n",
       "      <td>5</td>\n",
       "      <td>NaN</td>\n",
       "    </tr>\n",
       "    <tr>\n",
       "      <th>10380</th>\n",
       "      <td>social media</td>\n",
       "      <td>5</td>\n",
       "      <td>5</td>\n",
       "      <td>NaN</td>\n",
       "    </tr>\n",
       "  </tbody>\n",
       "</table>\n",
       "<p>6890 rows × 4 columns</p>\n",
       "</div>"
      ],
      "text/plain": [
       "                                                    ITEM  cluster cluster_2  \\\n",
       "0                                             mass media       21        21   \n",
       "1                                              exergames       17        17   \n",
       "3                                     telecommunications       23      23_0   \n",
       "4          activewear purchased to be worn as casualwear       26        26   \n",
       "6                advanced, automated internet technology       27        -1   \n",
       "...                                                  ...      ...       ...   \n",
       "10376  IoT-based air pollution monitoring system usin...       -1        -1   \n",
       "10377                       privately funded GSM network       23      23_0   \n",
       "10378           watching television and playing computer       24      24_1   \n",
       "10379                                       social media        5         5   \n",
       "10380                                       social media        5         5   \n",
       "\n",
       "                                                 doi  \n",
       "0            https://doi.org/10.22038/jmrh.2014.2918  \n",
       "1          https://doi.org/10.48550/arxiv.1908.09984  \n",
       "3      https://doi.org/10.1080/17543266.2018.1477995  \n",
       "4                  https://doi.org/10.2118/209896-ms  \n",
       "6              https://doi.org/10.2478/aup-2023-0012  \n",
       "...                                              ...  \n",
       "10376                                            NaN  \n",
       "10377                                            NaN  \n",
       "10378                                            NaN  \n",
       "10379                                            NaN  \n",
       "10380                                            NaN  \n",
       "\n",
       "[6890 rows x 4 columns]"
      ]
     },
     "execution_count": 180,
     "metadata": {},
     "output_type": "execute_result"
    }
   ],
   "source": [
    "sentences_df = pd.DataFrame(preprocessed_items.copy())\n",
    "\n",
    "doi_col = df[(df['FACTOR'] != \"\\\"None\\\"\") & (df['FACTOR'] != \"\\\"rainfall estimation\\\"\")]['doi']\n",
    "\n",
    "final_df = clusterize.create_final_df(sentences_df, doi_col, cluster_assignment, new_cluster_assignment, cluster_assignment_to_change_indices)\n",
    "final_df"
   ]
  },
  {
   "cell_type": "code",
   "execution_count": 194,
   "metadata": {},
   "outputs": [],
   "source": [
    "final_df.to_csv(f'../outputs/clusters_recluster_hdbscan_{domain}_items.csv', index=False)"
   ]
  },
  {
   "cell_type": "code",
   "execution_count": 186,
   "metadata": {},
   "outputs": [
    {
     "data": {
      "application/vnd.microsoft.datawrangler.viewer.v0+json": {
       "columns": [
        {
         "name": "cluster_id",
         "rawType": "int64",
         "type": "integer"
        },
        {
         "name": "min_cluster_size",
         "rawType": "int64",
         "type": "integer"
        },
        {
         "name": "min_samples",
         "rawType": "int64",
         "type": "integer"
        },
        {
         "name": "cluster_selection_epsilon",
         "rawType": "float64",
         "type": "float"
        }
       ],
       "ref": "b3d88345-06a7-4579-82ac-f72b3d61bbc0",
       "rows": [
        [
         "7",
         "15",
         "5",
         "0.1"
        ],
        [
         "9",
         "10",
         "5",
         "0.1"
        ],
        [
         "16",
         "15",
         "5",
         "0.1"
        ],
        [
         "23",
         "15",
         "5",
         "0.1"
        ],
        [
         "24",
         "15",
         "5",
         "0.1"
        ],
        [
         "27",
         "17",
         "5",
         "0.1"
        ],
        [
         "30",
         "17",
         "5",
         "0.1"
        ]
       ],
       "shape": {
        "columns": 3,
        "rows": 7
       }
      },
      "text/html": [
       "<div>\n",
       "<style scoped>\n",
       "    .dataframe tbody tr th:only-of-type {\n",
       "        vertical-align: middle;\n",
       "    }\n",
       "\n",
       "    .dataframe tbody tr th {\n",
       "        vertical-align: top;\n",
       "    }\n",
       "\n",
       "    .dataframe thead th {\n",
       "        text-align: right;\n",
       "    }\n",
       "</style>\n",
       "<table border=\"1\" class=\"dataframe\">\n",
       "  <thead>\n",
       "    <tr style=\"text-align: right;\">\n",
       "      <th></th>\n",
       "      <th>min_cluster_size</th>\n",
       "      <th>min_samples</th>\n",
       "      <th>cluster_selection_epsilon</th>\n",
       "    </tr>\n",
       "    <tr>\n",
       "      <th>cluster_id</th>\n",
       "      <th></th>\n",
       "      <th></th>\n",
       "      <th></th>\n",
       "    </tr>\n",
       "  </thead>\n",
       "  <tbody>\n",
       "    <tr>\n",
       "      <th>7</th>\n",
       "      <td>15</td>\n",
       "      <td>5</td>\n",
       "      <td>0.1</td>\n",
       "    </tr>\n",
       "    <tr>\n",
       "      <th>9</th>\n",
       "      <td>10</td>\n",
       "      <td>5</td>\n",
       "      <td>0.1</td>\n",
       "    </tr>\n",
       "    <tr>\n",
       "      <th>16</th>\n",
       "      <td>15</td>\n",
       "      <td>5</td>\n",
       "      <td>0.1</td>\n",
       "    </tr>\n",
       "    <tr>\n",
       "      <th>23</th>\n",
       "      <td>15</td>\n",
       "      <td>5</td>\n",
       "      <td>0.1</td>\n",
       "    </tr>\n",
       "    <tr>\n",
       "      <th>24</th>\n",
       "      <td>15</td>\n",
       "      <td>5</td>\n",
       "      <td>0.1</td>\n",
       "    </tr>\n",
       "    <tr>\n",
       "      <th>27</th>\n",
       "      <td>17</td>\n",
       "      <td>5</td>\n",
       "      <td>0.1</td>\n",
       "    </tr>\n",
       "    <tr>\n",
       "      <th>30</th>\n",
       "      <td>17</td>\n",
       "      <td>5</td>\n",
       "      <td>0.1</td>\n",
       "    </tr>\n",
       "  </tbody>\n",
       "</table>\n",
       "</div>"
      ],
      "text/plain": [
       "            min_cluster_size  min_samples  cluster_selection_epsilon\n",
       "cluster_id                                                          \n",
       "7                         15            5                        0.1\n",
       "9                         10            5                        0.1\n",
       "16                        15            5                        0.1\n",
       "23                        15            5                        0.1\n",
       "24                        15            5                        0.1\n",
       "27                        17            5                        0.1\n",
       "30                        17            5                        0.1"
      ]
     },
     "execution_count": 186,
     "metadata": {},
     "output_type": "execute_result"
    }
   ],
   "source": [
    "recluster_params = pd.DataFrame.from_dict(clusters_to_subdivide_with_params, orient='index')\n",
    "recluster_params.index.name = 'cluster_id'\n",
    "\n",
    "recluster_params.to_csv(f'../outputs/params_recluster_{domain}_items.csv')\n",
    "\n",
    "recluster_params"
   ]
  },
  {
   "cell_type": "markdown",
   "metadata": {},
   "source": [
    "### c. FACTORS"
   ]
  },
  {
   "cell_type": "code",
   "execution_count": 41,
   "metadata": {},
   "outputs": [
    {
     "data": {
      "application/vnd.microsoft.datawrangler.viewer.v0+json": {
       "columns": [
        {
         "name": "index",
         "rawType": "int64",
         "type": "integer"
        },
        {
         "name": "FACTOR",
         "rawType": "object",
         "type": "string"
        }
       ],
       "ref": "8120c30e-66ac-47e4-811a-790224467d6b",
       "rows": [
        [
         "0",
         "awareness about the benefits of physical activity"
        ],
        [
         "1",
         "physical activity (PA) in the general population"
        ],
        [
         "2",
         "PA barriers that AD caregivers face"
        ],
        [
         "3",
         "trip generation rates"
        ],
        [
         "4",
         "intent to purchase activewear"
        ],
        [
         "5",
         "attitude towards shopping activewear for casual purpose"
        ],
        [
         "6",
         "robust connectivity"
        ],
        [
         "7",
         "health care delivery"
        ],
        [
         "8",
         "preservation of archaeological sites"
        ],
        [
         "9",
         "resource utilization"
        ],
        [
         "10",
         "demand for Critical Raw Materials"
        ],
        [
         "11",
         "sectoral sustainability"
        ],
        [
         "12",
         "circularity in the DCI"
        ],
        [
         "13",
         "product life"
        ],
        [
         "14",
         "recycling"
        ],
        [
         "15",
         "decision-making"
        ],
        [
         "16",
         "wind power implementation"
        ],
        [
         "17",
         "right to information"
        ],
        [
         "18",
         "global debates on information rights"
        ],
        [
         "19",
         "changes in habits in the wake of the pandemic"
        ],
        [
         "20",
         "academic performance"
        ],
        [
         "21",
         "development of the village"
        ],
        [
         "22",
         "device use anxiety"
        ],
        [
         "23",
         "health-related quality of life"
        ],
        [
         "24",
         "social participation"
        ],
        [
         "25",
         "demand of data center providing and performance"
        ],
        [
         "26",
         "power consumption"
        ],
        [
         "27",
         "heat load density"
        ],
        [
         "28",
         "energy efficiency"
        ],
        [
         "29",
         "energy efficiency"
        ],
        [
         "30",
         "optimization of cooling system"
        ],
        [
         "31",
         "data on consumers"
        ],
        [
         "32",
         "haze pollution"
        ],
        [
         "33",
         "human rights"
        ],
        [
         "34",
         "rights and freedoms of man and citizen"
        ],
        [
         "35",
         "human rights"
        ],
        [
         "36",
         "Impulse Buying"
        ],
        [
         "37",
         "Impulse Buying"
        ],
        [
         "38",
         "Impulse Buying"
        ],
        [
         "39",
         "weather forecasting"
        ],
        [
         "40",
         "disaster risk reduction"
        ],
        [
         "41",
         "crop harvest projections"
        ],
        [
         "42",
         "real time sharing of regional satellite data"
        ],
        [
         "43",
         "disaster risk reduction"
        ],
        [
         "44",
         "internalising symptoms"
        ],
        [
         "45",
         "internalising symptoms"
        ],
        [
         "46",
         "social media use"
        ],
        [
         "47",
         "volunteered information production"
        ],
        [
         "48",
         "collection of flood levels automation"
        ],
        [
         "49",
         "resource efficiency"
        ]
       ],
       "shape": {
        "columns": 1,
        "rows": 10381
       }
      },
      "text/plain": [
       "0        awareness about the benefits of physical activity\n",
       "1         physical activity (PA) in the general population\n",
       "2                      PA barriers that AD caregivers face\n",
       "3                                    trip generation rates\n",
       "4                            intent to purchase activewear\n",
       "                               ...                        \n",
       "10376                air quality information accessibility\n",
       "10377                            mobile telephone coverage\n",
       "10378                                              obesity\n",
       "10379                           biogas technology adoption\n",
       "10380                                       social support\n",
       "Name: FACTOR, Length: 10381, dtype: object"
      ]
     },
     "execution_count": 41,
     "metadata": {},
     "output_type": "execute_result"
    }
   ],
   "source": [
    "preprocessed_factors = extracted_items_df['FACTOR']\n",
    "preprocessed_factors"
   ]
  },
  {
   "cell_type": "code",
   "execution_count": 7,
   "metadata": {},
   "outputs": [],
   "source": [
    "corpus_list_factors, corpus_embeddings_factors = clusterize.get_embeddings(preprocessed_factors)"
   ]
  },
  {
   "cell_type": "code",
   "execution_count": null,
   "metadata": {},
   "outputs": [
    {
     "name": "stderr",
     "output_type": "stream",
     "text": [
      "/home/thomas/.pyenv/versions/lewagon-decision-science/lib/python3.12/site-packages/umap/umap_.py:1952: UserWarning: n_jobs value 1 overridden to 1 by setting random_state. Use no seed for parallelism.\n",
      "  warn(\n"
     ]
    },
    {
     "name": "stdout",
     "output_type": "stream",
     "text": [
      "Number of clusters found: 74\n"
     ]
    }
   ],
   "source": [
    "params = {\n",
    "    'umap_n_neighbors': 30,\n",
    "    'umap_min_dist': 0.1,\n",
    "    'umap_n_components': 40,\n",
    "    'hdbscan_min_cluster_size': 40,\n",
    "    'hdbscan_min_samples': 5,\n",
    "    'hdbscan_cluster_selection_epsilon': 0.0,\n",
    "    'hdbscan_max_cluster_size': 370\n",
    "}\n",
    "\n",
    "hdbscan_model, cluster_assignment, clustered_sentences, noise, reduced_embeddings_factors = clusterize.clusterize(\n",
    "                            corpus_list_factors, corpus_embeddings_factors,\n",
    "                            params,\n",
    "                            print_clusters=False)"
   ]
  },
  {
   "cell_type": "code",
   "execution_count": 94,
   "metadata": {},
   "outputs": [
    {
     "name": "stdout",
     "output_type": "stream",
     "text": [
      "total number of factors: 6890, \n",
      "factors classified as noise: 1271, \n",
      "percentage of noise: 18.45\n"
     ]
    }
   ],
   "source": [
    "results = {\n",
    "    'factors_total': len(cluster_assignment),\n",
    "    'factors_noise': len(noise),\n",
    "    'noise_pct': round(len(noise)/len(cluster_assignment) * 100, 2)\n",
    "}\n",
    "\n",
    "print(f'total number of factors: {results['factors_total']}, \\nfactors classified as noise: {results['factors_noise']}, \\npercentage of noise: {results['noise_pct']}')"
   ]
  },
  {
   "cell_type": "code",
   "execution_count": 95,
   "metadata": {},
   "outputs": [
    {
     "data": {
      "application/vnd.microsoft.datawrangler.viewer.v0+json": {
       "columns": [
        {
         "name": "index",
         "rawType": "int64",
         "type": "integer"
        },
        {
         "name": "Cluster Number",
         "rawType": "int64",
         "type": "integer"
        },
        {
         "name": "Number of Sentences",
         "rawType": "int64",
         "type": "integer"
        },
        {
         "name": "Sample Sentences",
         "rawType": "object",
         "type": "string"
        }
       ],
       "ref": "388b9de9-6acc-4e88-9acc-8d03dcc5cfb8",
       "rows": [
        [
         "0",
         "1",
         "12",
         "bedtime; poor sleep quality; insomnia; sleep deprivation; daytime sleepiness; sleep quality; sleep hygiene; excessive daytime sleepiness; sleep patterns; sleep; sleep restorative function; sleep problems"
        ],
        [
         "1",
         "2",
         "18",
         "energy consumption stabilization; overall energy consumption; energy distribution and consumption; energy expenditure; energy–intensive consumption; energy consumption monitoring; in-service energy consumption; brown energy consumption; peak period consumption; per-bit-rate energy consumption; energy consumption prediction; system energy consumption; resource and energy consumption; energy consumption; energy intake"
        ],
        [
         "2",
         "3",
         "25",
         "power efficiency; energy comprehensive utilization efficiency; feasibility of energy system operation; self-sufficiency ratio; energy and resource utilization efficiency; efficiency and performance of energy management system strategies; efficiency of consumption; power distribution efficiency; energy efficiency; energy delivery efficiency; energy efficiency (EE); power grid efficiency; clean energy output following; efficient operation of the power plant; fuel combustion efficiency"
        ],
        [
         "3",
         "4",
         "8",
         "total energy footprint; carbon footprints; environmental footprint; carbon footprint of the NFT sector; carbon footprint; energy/carbon footprint; energy footprint; CO2 footprint"
        ],
        [
         "4",
         "5",
         "13",
         "transition to circular economy; circular economy implementation; transition from the linear economy to a circular economy; circular economy practices; cycling economy; implementation of the circular economy; uptake of technological innovations for the circular plastic economy; implementation of circular economy principles; resource-efficient circular economy; circular plastic economy; circular economy; bicycle volume estimation; circular economy models"
        ],
        [
         "5",
         "6",
         "56",
         "physical fitness; sleep duration; physical activity (PA); recreational activities; physical activity popularity; regular physical activity; motivation for physical activity; human activity anomalies; physical activity behaviors; physical activity patterns; physical activity promotion; time in physical activity; physical activity behaviours; physical activity-related knowledge; outdoor physical activity"
        ],
        [
         "6",
         "7",
         "2",
         "well-being; well-being at work"
        ],
        [
         "7",
         "8",
         "11",
         "embodied greenhouse gas emissions; carbon dioxide emission; carbon dioxide emissions; understanding of CO2 mitigation strategies; Carbon dioxide emissions; life cycle greenhouse gas (GHG) emissions of global light provision; greenhouse gas emissions; CO2 emissions; CO2 conductivity, temperature, and humidity monitoring; CO₂ emissions; CO2 emissions per capita"
        ],
        [
         "8",
         "9",
         "17",
         "carbon emission efficiency; carbon neutrality goals; urban low-carbon sustainability; indirect carbon emissions; trade adjusted carbon emissions; low-carbon economy transition; Scope 2 emissions; VOC emissions; domestic energy and emissions impacts; urban carbon emissions; per capita carbon emissions; carbon emissions; global carbon emissions; social response to carbon neutrality; carbon emission intensity"
        ],
        [
         "9",
         "10",
         "6",
         "subjective relative deprivation; affective well-being at the end of workday; negative effects on well-being; subjective well-being (SWB); subjective well-being; personalised well-being recommendations"
        ],
        [
         "10",
         "11",
         "19",
         "symptoms of depression, anxiety, low self-esteem, and life dissatisfaction; severity of depressive symptoms; depression risk; development of depression; depression; psychological stressors and mood states (e.g., fear, anxiety, depression); depression levels among the elderly; depression levels; depression scale score; device use anxiety; depressive symptoms; anxiety; appearance anxiety; depression symptoms; body-focused anxiety"
        ],
        [
         "11",
         "12",
         "4",
         "internal customer satisfaction; Customer Satisfaction; customer satisfaction; customer motivation and direction"
        ],
        [
         "12",
         "13",
         "9",
         "free expression; freedom of speech; freedoms; free speech; hate speech and violence; freedom of expression; freedom from discrimination; right to freedom of expression; discrimination, oppression, and disparities facing Native Peoples"
        ],
        [
         "13",
         "14",
         "28",
         "life and property protection; fundamental rights; quantity and quality of human rights reporting; whistleblower protection; awareness and understanding of human rights; protection of public officials; rights on the UDHR; recognition of minorities in international human rights discourse; rights' situation of users; citizen expression; public involvement in human rights promotion; balance between rights; awareness about rights; rational and transparent aspects of balancing conflicting human rights online; global perceptions about human rights"
        ],
        [
         "14",
         "15",
         "13",
         "growth momentum and integration; real GDP share; economic growth (RGDP); GDP; annual per capital GDP growth; GDP contribution; gross regional product; regional growth performance; inclusive growth; wage growth; economic growth; agglomeration economies; growth of the SIS"
        ],
        [
         "15",
         "16",
         "14",
         "health-related quality of life (HRQOL); active life prolongation; stranded end-of-life CRTs; economic and quality-of-life development; quality of life perceptions; life expectancy; urban quality of life (Uqol); overall health and quality of life; quality of life (QoL); oral health-related quality of life; product life; quality of life; quality and living conditions of citizens; health-related quality of life"
        ],
        [
         "16",
         "17",
         "12",
         "aspiration levels; exercise intensity; fitness levels; physical activity intensity; PM2.5 levels; check-in intensity; physical activity level; activity intensity; physical activity levels; activity levels; educational levels about exercise; physical fitness level"
        ],
        [
         "17",
         "18",
         "19",
         "e-Satisfaction; citizen e-readiness; e-government; disordered gaming; gaming disorder symptoms; user satisfaction; usability; consumption of video content; user notification; recommendation engine; user interface; employee agility; game challenge achievability; satisfaction with Facebook; user interaction"
        ],
        [
         "18",
         "19",
         "37",
         "general enjoyment; body image perception; entertainment gratification; activity enjoyment; information gratification; human organ extension; body satisfaction; body image; weight reduction; satisfaction among older people; pleasure; enjoyment; social satisfaction; body weight; life satisfaction indicators"
        ],
        [
         "19",
         "20",
         "15",
         "perceived warmth; positive affect; negative emotions; mood; negative social comparison; positive attitude towards divorce; positive mood; positive emotions; hurt and negative emotion; positive affect (PA); empathy; emotional attachment towards a device; ambivalent feelings; negative affect; positive emotional experience"
        ],
        [
         "20",
         "21",
         "15",
         "occupational stress; chronic stress; emotional exhaustion; academic stress; technology induced stress; human stress; stress assessment; ESM-related exhaustion; perceived stress; stress levels; stress reduction; stress resistance; stress; exhaustion; fatigue"
        ],
        [
         "21",
         "22",
         "13",
         "students’ adoption intentions; continuance intention (CI); adoption intention; family environment influence on entrepreneurial intentions; continuance use intention; continuance intention to use an IS; relationship between media richness and adoption intention; continuance intention of Web 2.0 platforms; continuance intention; continuance using intention; habit-continuance intention relationship; intention to spread positive WOM; withdrawal intentions"
        ],
        [
         "22",
         "23",
         "14",
         "electrical energy consumption; electricity consumption pattern; users' electricity consumption behavior; residential electricity consumption; global electricity use; electricity consumption in the daytime; determination of physical characteristics of power-intensive home appliances; world electricity consumption; electricity consumption; abnormal electricity user type; electrical energy expenditure; global electricity consumption; electric power utilization; metal consumption"
        ],
        [
         "23",
         "24",
         "22",
         "parity of esteem; self-sexualization; self-esteem and reasonable consumption; attention and interest in health and wellbeing programs; family functioning; negative impact of Instagram posts on self-esteem; health and well-being; motivational wellbeing; family well-being; self-determined motivation; young people's wellbeing; self-esteem; cybersickness; motivational needs of adolescents; psychological wellbeing"
        ],
        [
         "24",
         "25",
         "30",
         "mental health issues; emotional health; socioemotional problems; mental health outcomes; psychological health complaints; mental health; psychological impacts; mental and physical health; comprehension of issues; delivery of public mental health interventions; psychological functioning; mental health quality; psychological and behavioral problems; incidence of mental disorders; psychological transition"
        ],
        [
         "25",
         "26",
         "29",
         "eudaimonic well-being; drama–motivation relationship; well-being perceptions; general well being; well-being of residents; well-being literacy; people’s well-being; psychosocial development; psychological well-being; mental well-being; well-being of rural residents; population well-being indices; interpersonal emotional competence; individual and collective well-being; psychological well-being (PWB)"
        ],
        [
         "26",
         "27",
         "22",
         "PV energy production nowcasting; integration of distributed energy sources; renewable energy sources monitoring and control; integration of solar power in buildings; energy from renewable sources; quality and safety of renewable energy system; energy utilization; number of masts in use in the environment; energy system integration; renewable energy integration; solar generation disaggregation; energy availability; energy use per unit; solar potentials for buildings; renewable energy absorptive capacity"
        ],
        [
         "27",
         "28",
         "8",
         "energy use intensity; primary energy use; energy use of ICT; transport energy use; energy usage; energy use; energy use in the support infrastructure; access to energy"
        ],
        [
         "28",
         "29",
         "14",
         "overweight incidence; obesity; being overweight; overweight and obesity; Cardiometabolic multimorbidity (CMM) risk; measures of adiposity; abdominal obesity; childhood obesity; overweight/obesity; obesity prevalence; risk of obesity and metabolic disorders; overweight/obesity risk; overweight; obesity stigma"
        ],
        [
         "29",
         "30",
         "57",
         "hedonism lifestyle; independence; physical activity among youth; demonstrating their social lives, lifestyles, and tastes; teenage pregnancy; physical activity level of children; conduct disorder among adolescents; hedonic shopping motivations; lifestyle habits; daily lives; youth unemployment; balanced lifestyle; living; children's lifestyles; adolescents’ physical health"
        ],
        [
         "30",
         "31",
         "30",
         "sustainable development goals compliance; strategic goals of sustainable development; sustainable products; SE sustainability; preservation of archaeological sites; eco friendly environment; adoption of sustainable practices among consumers; sustainability goals; environmental policy; eco-sustainability; sustainable development; environmental sustainability; organizational sustainability; sustainable lifestyle; clean sustainable energy"
        ],
        [
         "31",
         "32",
         "21",
         "self-care behavior; access to healthcare services; reach of palliative care; quality and access to care; health information quality; mobile health research best practices; health-related information delivery; intentions to acquire health-related information; access to antenatal care; Self-Regulation; health care delivery; healthcare support; healthcare service divide; self-care behaviors; health care delivery at a distance"
        ],
        [
         "32",
         "33",
         "20",
         "societal harms; environmental impact of library operations; environmental impact; environmental damages; environmental aspects; anthropogenic impact; land use; environmental impacts of port operations; biodiversity loss; land degradation; environmental damage; land-use competition; impact on living beings; environmental benefits; negative environmental impact"
        ],
        [
         "33",
         "34",
         "60",
         "active lifestyle; new patterns of food behavior; healthy and fit lifestyles; healthy lifestyle intention; healthy lifestyle behaviours; daily health habits; disordered eating behaviors; cleanliness; healthy eating habits; effectiveness of dietary counselling; healthier lifestyle behaviors; dietary behavior; diet; unhealthy diet; healthy lifestyle behavior information accessibility"
        ],
        [
         "34",
         "35",
         "25",
         "trust; bidirectional communication between customers and suppliers; customer patronage intention; services to customers; brand loyalty; customer engagement; customer loyalty; gadget-loving; brand commitment; stakeholder engagement; brand trust; consumer loyalty; consumer patronage interest; brand community engagement; consumer engagement"
        ],
        [
         "35",
         "36",
         "17",
         "online consumer satisfaction; motivation to pay zakat; repurchase intention; dissatisfaction in design and quality; brand satisfaction; consumers’ perceived warmth and competence of the target brand; online shopping behavior; shopping atmospherics; satisfaction with online shopping; consumer attitudes toward virtual shopping; effect of para-social interaction on live commerce experience; VR store satisfaction; online repurchase intention; adoption of VREs; willingness to pay for online content"
        ],
        [
         "36",
         "37",
         "16",
         "fashion curation service preferred image type; purchase intention of products online shop; online shoppers’ loyalty intentions; product purchase intentions for fashion curation service consumers who preferred a brand identity image and a product information image; attitude toward environment-friendly fashion; fashion consumptive behavior; cocreation process; fashion shopping propensity; Purchasing Decisions on Online Fashion Shop; consumer selection of sustainable fashion brands; online apparel shopping adoption; consumptive behavior; purchase intentions for fashion curation services; attitude toward luxury brands; intent to purchase activewear"
        ],
        [
         "37",
         "38",
         "9",
         "post-purchase intention; purchase intentions; Purchase Intention; purchase of electronic equipment; social commerce intention; purchase intention; consumer purchase intention; purchase intention on podcast; product purchase intention"
        ],
        [
         "38",
         "39",
         "27",
         "cancer prevention behaviors; health-related behavior; health behaviors; efficacy, reach, and impact of health promotion programs; health behavioral intentions online; health behaviours; audience members' cognitions on health issues; self-perceived health; health-identity impression; health behaviour; use of mHealth; CVD self-management; primary prevention of CVD; self-rated health; health and health practices"
        ],
        [
         "39",
         "40",
         "36",
         "beach health; menstrual health; headache prevalence; musculoskeletal pain; heart rate monitoring validity; health monitoring; health inequities; stroke incidence; Sexual and Reproductive health; heart rate (HR); musculoskeletal pains; health disparities; public health; health status; physical health"
        ],
        [
         "40",
         "41",
         "23",
         "public awareness and understanding; public opinion; contemporary ways of making memories; awareness and agency for development benefit; present focused awareness; public viewpoints understanding; public involvement; texting while driving; public supporting; public perception; awareness; emerging public agenda; awareness generation; stigma in dementia; traffic and road conditions awareness"
        ],
        [
         "41",
         "42",
         "15",
         "home energy management services; Energy Utilities; resource and energy management; energy infrastructure; access to clean energy; management of energy cooperatives; governance and management in mining industry; global energy system understanding; energy surveillance; real-time energy management and control; energy system reform; remote site energy needs; battery industry chain management; regional energy storage; energy management"
        ],
        [
         "42",
         "43",
         "47",
         "students' learning outcomes; consumer empowerment; economic participation of women; urban-rural health inequalities; income equality; urban-rural income gap; statistical gaps; community education; community; gender empowerment; academic failure; support for sex work support services; urban–rural income gap; student conscientiousness and performance; academic achievement"
        ],
        [
         "43",
         "44",
         "21",
         "energy economics; future energy shortages; energy demand needs; life cycle energy demand of PC products; energy demand management; consumer's response to real time energy price; demand for energy storage batteries; demand for energy; energy flexibility; energy density; demand of supplies and energy; energy tariff; energy demand; energy demands; demand for scarce energy resources"
        ],
        [
         "44",
         "45",
         "30",
         "demand for data centers; delivery from cloud or fog data centres; thermal performance; urban heat Island effect; heat pump schedule optimization; heat storage changes estimation; energy efficiency of data centers; data center energy demands; demand of data center providing and performance; cooling efficiency; cooling demands; footprint of data centers and telecom networks; conventional heat pumps in district heating; thermal distribution; data center energy consumption"
        ],
        [
         "45",
         "46",
         "37",
         "irreversibilities; knowledge about bird flu; impact of GF on LGUE; malaria epidemic; resilience and sustainability; natural hazards prevention; infrastructure damage and recovery; disaster risk management; population distribution; impact on vulnerable populations; food system resilience; distribution, diversity and abundance of some insects; collection of flood levels automation; damage caused by cyclones; flood mitigation and resilience"
        ],
        [
         "46",
         "47",
         "31",
         "sharing of contaminated food; food safety; food surplus collection; plastic waste management; electronic waste production; electronic waste generation; waste heat; design of a WBEV recycling system; e-waste management; plastic waste; awareness of e-waste; overconsumption of foods; public education on recycling; ensuring local food production; food security"
        ],
        [
         "47",
         "48",
         "22",
         "household electricity demand; power demand; electricity provision; preservation of electricity; power demand and energy consumption; diffusion of tenant electricity; national electricity demand; power generation; power balance in supply and demand; quantification of the smart households' aggregated demand response capacity; demand for cheap electricity; real-time adaptation of the demand for electricity; electricity demand in information industry; electrical energy needs; power demand in the building sector"
        ],
        [
         "48",
         "49",
         "65",
         "energy efficacy; smart grid modernization; parallel processing desktop grid technology; grid load volatility; smart grid technology; poor power quality; energy optimization; energy performance; energy usage optimization; energy resources optimal allocation; grid regulation services; power supply continuity; consumption from the grid supply; optimized use of energy; flexibilities for grid services"
        ],
        [
         "49",
         "50",
         "24",
         "data testing and training speed; voice (agency) perceptions; relationship between voice behavior and creative performance; MSME performance; adaptive performance; regulation effectiveness; performance; performance of the system; running performance; influence of competence on performance; server performance; scaling-up process studies; output performance and durability; performance effectiveness; relational performance"
        ]
       ],
       "shape": {
        "columns": 3,
        "rows": 74
       }
      },
      "text/html": [
       "<div>\n",
       "<style scoped>\n",
       "    .dataframe tbody tr th:only-of-type {\n",
       "        vertical-align: middle;\n",
       "    }\n",
       "\n",
       "    .dataframe tbody tr th {\n",
       "        vertical-align: top;\n",
       "    }\n",
       "\n",
       "    .dataframe thead th {\n",
       "        text-align: right;\n",
       "    }\n",
       "</style>\n",
       "<table border=\"1\" class=\"dataframe\">\n",
       "  <thead>\n",
       "    <tr style=\"text-align: right;\">\n",
       "      <th></th>\n",
       "      <th>Cluster Number</th>\n",
       "      <th>Number of Sentences</th>\n",
       "      <th>Sample Sentences</th>\n",
       "    </tr>\n",
       "  </thead>\n",
       "  <tbody>\n",
       "    <tr>\n",
       "      <th>0</th>\n",
       "      <td>1</td>\n",
       "      <td>12</td>\n",
       "      <td>bedtime; poor sleep quality; insomnia; sleep d...</td>\n",
       "    </tr>\n",
       "    <tr>\n",
       "      <th>1</th>\n",
       "      <td>2</td>\n",
       "      <td>18</td>\n",
       "      <td>energy consumption stabilization; overall ener...</td>\n",
       "    </tr>\n",
       "    <tr>\n",
       "      <th>2</th>\n",
       "      <td>3</td>\n",
       "      <td>25</td>\n",
       "      <td>power efficiency; energy comprehensive utiliza...</td>\n",
       "    </tr>\n",
       "    <tr>\n",
       "      <th>3</th>\n",
       "      <td>4</td>\n",
       "      <td>8</td>\n",
       "      <td>total energy footprint; carbon footprints; env...</td>\n",
       "    </tr>\n",
       "    <tr>\n",
       "      <th>4</th>\n",
       "      <td>5</td>\n",
       "      <td>13</td>\n",
       "      <td>transition to circular economy; circular econo...</td>\n",
       "    </tr>\n",
       "    <tr>\n",
       "      <th>...</th>\n",
       "      <td>...</td>\n",
       "      <td>...</td>\n",
       "      <td>...</td>\n",
       "    </tr>\n",
       "    <tr>\n",
       "      <th>69</th>\n",
       "      <td>70</td>\n",
       "      <td>18</td>\n",
       "      <td>knowledge access; learning; technical proficie...</td>\n",
       "    </tr>\n",
       "    <tr>\n",
       "      <th>70</th>\n",
       "      <td>71</td>\n",
       "      <td>67</td>\n",
       "      <td>information interaction; access to information...</td>\n",
       "    </tr>\n",
       "    <tr>\n",
       "      <th>71</th>\n",
       "      <td>72</td>\n",
       "      <td>22</td>\n",
       "      <td>user continuous intentions; behavioral intenti...</td>\n",
       "    </tr>\n",
       "    <tr>\n",
       "      <th>72</th>\n",
       "      <td>73</td>\n",
       "      <td>53</td>\n",
       "      <td>sustainable telephone and Internet connectivit...</td>\n",
       "    </tr>\n",
       "    <tr>\n",
       "      <th>73</th>\n",
       "      <td>74</td>\n",
       "      <td>21</td>\n",
       "      <td>wireless networks energy efficiency; power con...</td>\n",
       "    </tr>\n",
       "  </tbody>\n",
       "</table>\n",
       "<p>74 rows × 3 columns</p>\n",
       "</div>"
      ],
      "text/plain": [
       "    Cluster Number  Number of Sentences  \\\n",
       "0                1                   12   \n",
       "1                2                   18   \n",
       "2                3                   25   \n",
       "3                4                    8   \n",
       "4                5                   13   \n",
       "..             ...                  ...   \n",
       "69              70                   18   \n",
       "70              71                   67   \n",
       "71              72                   22   \n",
       "72              73                   53   \n",
       "73              74                   21   \n",
       "\n",
       "                                     Sample Sentences  \n",
       "0   bedtime; poor sleep quality; insomnia; sleep d...  \n",
       "1   energy consumption stabilization; overall ener...  \n",
       "2   power efficiency; energy comprehensive utiliza...  \n",
       "3   total energy footprint; carbon footprints; env...  \n",
       "4   transition to circular economy; circular econo...  \n",
       "..                                                ...  \n",
       "69  knowledge access; learning; technical proficie...  \n",
       "70  information interaction; access to information...  \n",
       "71  user continuous intentions; behavioral intenti...  \n",
       "72  sustainable telephone and Internet connectivit...  \n",
       "73  wireless networks energy efficiency; power con...  \n",
       "\n",
       "[74 rows x 3 columns]"
      ]
     },
     "execution_count": 95,
     "metadata": {},
     "output_type": "execute_result"
    }
   ],
   "source": [
    "cluster_summary_df = clusterize.get_cluster_summary(clustered_sentences)\n",
    "cluster_summary_df"
   ]
  },
  {
   "cell_type": "code",
   "execution_count": 97,
   "metadata": {},
   "outputs": [
    {
     "data": {
      "application/vnd.microsoft.datawrangler.viewer.v0+json": {
       "columns": [
        {
         "name": "index",
         "rawType": "int64",
         "type": "integer"
        },
        {
         "name": "samples",
         "rawType": "object",
         "type": "string"
        }
       ],
       "ref": "64b28110-9189-4d14-baab-04990df0f0ac",
       "rows": [
        [
         "0",
         "job satisfaction"
        ],
        [
         "1",
         "evaporation estimation accuracy"
        ],
        [
         "2",
         "geo-spatial coverage"
        ],
        [
         "3",
         "reading performance"
        ],
        [
         "4",
         "GHG emissions"
        ],
        [
         "5",
         "moderation effect of product types"
        ],
        [
         "6",
         "sedentary behaviors"
        ],
        [
         "7",
         "3D geoinformation visualization"
        ],
        [
         "8",
         "data resolution"
        ],
        [
         "9",
         "moderation effect of product types"
        ],
        [
         "10",
         "SG DR traffic delivery"
        ],
        [
         "11",
         "platforms' products"
        ],
        [
         "12",
         "intentions use ICT"
        ],
        [
         "13",
         "SNS addiction proneness"
        ],
        [
         "14",
         "air quality prediction"
        ],
        [
         "15",
         "consumer acceptance"
        ],
        [
         "16",
         "aggressive behavior"
        ],
        [
         "17",
         "multimodal transport potential index"
        ],
        [
         "18",
         "algorithm validation"
        ],
        [
         "19",
         "engagement in sedentary activities"
        ],
        [
         "20",
         "renewables and EV technology development"
        ],
        [
         "21",
         "power consumption"
        ],
        [
         "22",
         "advertisement acceptance"
        ],
        [
         "23",
         "power usage effectiveness (PUE)"
        ],
        [
         "24",
         "engagement"
        ],
        [
         "25",
         "absenteeism"
        ],
        [
         "26",
         "environmental health literacy"
        ],
        [
         "27",
         "IOS accuracy"
        ],
        [
         "28",
         "association between social media discrimination and depressive symptoms"
        ],
        [
         "29",
         "social interaction"
        ],
        [
         "30",
         "awareness of high standard of living"
        ],
        [
         "31",
         "mobile phone addiction"
        ],
        [
         "32",
         "mobile phone addiction"
        ],
        [
         "33",
         "energy conservation"
        ],
        [
         "34",
         "environmental noise levels"
        ],
        [
         "35",
         "data accuracy"
        ],
        [
         "36",
         "social media users intensity"
        ],
        [
         "37",
         "capacity expansion"
        ],
        [
         "38",
         "normative beliefs about teenage drinking"
        ],
        [
         "39",
         "need to belong"
        ],
        [
         "40",
         "loneliness"
        ],
        [
         "41",
         "energy savings"
        ],
        [
         "42",
         "job satisfaction"
        ],
        [
         "43",
         "health knowledge"
        ],
        [
         "44",
         "spatial distribution of CES"
        ],
        [
         "45",
         "psychological and physical symptoms"
        ],
        [
         "46",
         "social adjustment"
        ],
        [
         "47",
         "internet addiction"
        ],
        [
         "48",
         "power envelope constraints"
        ],
        [
         "49",
         "internet addiction"
        ]
       ],
       "shape": {
        "columns": 1,
        "rows": 100
       }
      },
      "text/html": [
       "<div>\n",
       "<style scoped>\n",
       "    .dataframe tbody tr th:only-of-type {\n",
       "        vertical-align: middle;\n",
       "    }\n",
       "\n",
       "    .dataframe tbody tr th {\n",
       "        vertical-align: top;\n",
       "    }\n",
       "\n",
       "    .dataframe thead th {\n",
       "        text-align: right;\n",
       "    }\n",
       "</style>\n",
       "<table border=\"1\" class=\"dataframe\">\n",
       "  <thead>\n",
       "    <tr style=\"text-align: right;\">\n",
       "      <th></th>\n",
       "      <th>samples</th>\n",
       "    </tr>\n",
       "  </thead>\n",
       "  <tbody>\n",
       "    <tr>\n",
       "      <th>0</th>\n",
       "      <td>job satisfaction</td>\n",
       "    </tr>\n",
       "    <tr>\n",
       "      <th>1</th>\n",
       "      <td>evaporation estimation accuracy</td>\n",
       "    </tr>\n",
       "    <tr>\n",
       "      <th>2</th>\n",
       "      <td>geo-spatial coverage</td>\n",
       "    </tr>\n",
       "    <tr>\n",
       "      <th>3</th>\n",
       "      <td>reading performance</td>\n",
       "    </tr>\n",
       "    <tr>\n",
       "      <th>4</th>\n",
       "      <td>GHG emissions</td>\n",
       "    </tr>\n",
       "    <tr>\n",
       "      <th>...</th>\n",
       "      <td>...</td>\n",
       "    </tr>\n",
       "    <tr>\n",
       "      <th>95</th>\n",
       "      <td>EVs and their impacts on power systems</td>\n",
       "    </tr>\n",
       "    <tr>\n",
       "      <th>96</th>\n",
       "      <td>Internet addiction</td>\n",
       "    </tr>\n",
       "    <tr>\n",
       "      <th>97</th>\n",
       "      <td>health knowledge</td>\n",
       "    </tr>\n",
       "    <tr>\n",
       "      <th>98</th>\n",
       "      <td>power consumption</td>\n",
       "    </tr>\n",
       "    <tr>\n",
       "      <th>99</th>\n",
       "      <td>reading performance</td>\n",
       "    </tr>\n",
       "  </tbody>\n",
       "</table>\n",
       "<p>100 rows × 1 columns</p>\n",
       "</div>"
      ],
      "text/plain": [
       "                                   samples\n",
       "0                         job satisfaction\n",
       "1          evaporation estimation accuracy\n",
       "2                     geo-spatial coverage\n",
       "3                      reading performance\n",
       "4                            GHG emissions\n",
       "..                                     ...\n",
       "95  EVs and their impacts on power systems\n",
       "96                      Internet addiction\n",
       "97                        health knowledge\n",
       "98                       power consumption\n",
       "99                     reading performance\n",
       "\n",
       "[100 rows x 1 columns]"
      ]
     },
     "execution_count": 97,
     "metadata": {},
     "output_type": "execute_result"
    }
   ],
   "source": [
    "noise_df = clusterize.get_noise_sample(noise)\n",
    "noise_df"
   ]
  },
  {
   "cell_type": "code",
   "execution_count": 98,
   "metadata": {},
   "outputs": [],
   "source": [
    "clusterize.save_results(params, results, noise_df, cluster_summary_df, hdbscan_model, domain, 'factors')"
   ]
  }
 ],
 "metadata": {
  "kernelspec": {
   "display_name": "lewagon-decision-science",
   "language": "python",
   "name": "python3"
  },
  "language_info": {
   "codemirror_mode": {
    "name": "ipython",
    "version": 3
   },
   "file_extension": ".py",
   "mimetype": "text/x-python",
   "name": "python",
   "nbconvert_exporter": "python",
   "pygments_lexer": "ipython3",
   "version": "3.12.9"
  }
 },
 "nbformat": 4,
 "nbformat_minor": 2
}
